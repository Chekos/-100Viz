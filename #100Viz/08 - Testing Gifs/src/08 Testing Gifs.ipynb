{
 "cells": [
  {
   "cell_type": "code",
   "execution_count": null,
   "metadata": {},
   "outputs": [],
   "source": [
    "import altair as alt\n",
    "from ipywidgets import interact\n",
    "import ipywidgets as widgets\n",
    "%run scripts/cimarron_theme_mod.py"
   ]
  },
  {
   "cell_type": "code",
   "execution_count": null,
   "metadata": {},
   "outputs": [],
   "source": [
    "alt.data_transformers.enable('default', max_rows=None)"
   ]
  },
  {
   "cell_type": "code",
   "execution_count": null,
   "metadata": {},
   "outputs": [],
   "source": [
    "%%html\n",
    "<style>\n",
    "@import url('https://fonts.googleapis.com/css?family=Ubuntu|Ubuntu+Condensed|Ubuntu+Mono');\n",
    "</style>"
   ]
  },
  {
   "cell_type": "code",
   "execution_count": null,
   "metadata": {},
   "outputs": [],
   "source": [
    "df = alt.pd.read_csv(\"../data/Data_Extract_From_Gender_Statistics.csv\")\n",
    "df.head()\n",
    "df.columns = [\"Series Name\", \"Series Code\", \"Time\", \"Time Code\", \"Rate\"]\n",
    "df.head()"
   ]
  },
  {
   "cell_type": "code",
   "execution_count": null,
   "metadata": {},
   "outputs": [],
   "source": [
    "@interact(year = widgets.Play(\n",
    "    value=2001,\n",
    "    min= 2000,\n",
    "    max= 2015,\n",
    "    step=1,\n",
    "    description=\"Press play\",\n",
    "    disabled=False\n",
    "))\n",
    "def line_chart(year):\n",
    "    df = alt.pd.read_csv(\"Data_Extract_From_Gender_Statistics.csv\")\n",
    "    df.columns = [\"Series Name\", \"Series Code\", \"Time\", \"Time Code\", \"Rate\"]\n",
    "    \n",
    "    df['Series Name'] = df['Series Name'].str.split(',').str[-1]\n",
    "    \n",
    "    data = df[df['Time'] < year]\n",
    "    chart = alt.Chart(data).mark_line(clip = True).encode(\n",
    "        x = alt.X(\"Time:Q\", scale = alt.Scale(domain = [2000,2014]), axis = alt.Axis(format = \"h\")),\n",
    "        y = alt.Y(\"Rate:Q\", scale = alt.Scale(domain = [85,100]), axis = alt.Axis(title = \"adjusted net enrollment rate, primary\")),\n",
    "        color = alt.Color(\"Series Name:N\", legend = alt.Legend())\n",
    "    ).properties(\n",
    "        title = \"08 - Testing Gifs\",\n",
    "        width = 1200,\n",
    "        height = 600,\n",
    "    )\n",
    "    return chart\n",
    "\n",
    "\n"
   ]
  }
 ],
 "metadata": {
  "kernelspec": {
   "display_name": "Python 3",
   "language": "python",
   "name": "python3"
  },
  "language_info": {
   "codemirror_mode": {
    "name": "ipython",
    "version": 3
   },
   "file_extension": ".py",
   "mimetype": "text/x-python",
   "name": "python",
   "nbconvert_exporter": "python",
   "pygments_lexer": "ipython3",
   "version": "3.6.5"
  }
 },
 "nbformat": 4,
 "nbformat_minor": 2
}
