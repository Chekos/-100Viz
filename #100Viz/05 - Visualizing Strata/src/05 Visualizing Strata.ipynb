{
 "cells": [
  {
   "cell_type": "markdown",
   "metadata": {},
   "source": [
    "# #100Viz 05: Visualizing Strata\n",
    "\n",
    "Source: INEGI, MMSI 2016. <br>"
   ]
  },
  {
   "cell_type": "code",
   "execution_count": null,
   "metadata": {},
   "outputs": [],
   "source": [
    "import pandas as pd\n",
    "import altair as alt\n",
    "%run scripts/cimarron_theme_mod.py"
   ]
  },
  {
   "cell_type": "code",
   "execution_count": null,
   "metadata": {},
   "outputs": [],
   "source": [
    "alt.data_transformers.enable('default', max_rows=None)"
   ]
  },
  {
   "cell_type": "code",
   "execution_count": null,
   "metadata": {},
   "outputs": [],
   "source": [
    "%%html\n",
    "<style>\n",
    "@import url(\"https://fonts.googleapis.com/css?family=Ubuntu|Ubuntu+Condensed|Ubuntu+Mono\");\n",
    "</style>"
   ]
  },
  {
   "cell_type": "code",
   "execution_count": 81,
   "metadata": {},
   "outputs": [
    {
     "data": {
      "application/vnd.vegalite.v2+json": {
       "$schema": "https://vega.github.io/schema/vega-lite/v2.4.3.json",
       "autosize": "fit",
       "config": {
        "arc": {
         "fill": "#282828"
        },
        "area": {
         "fill": "#282828"
        },
        "axisBand": {
         "grid": false
        },
        "axisBottom": {
         "domain": false,
         "domainColor": "black",
         "domainWidth": 3,
         "grid": true,
         "gridColor": "#C9C9C9",
         "gridWidth": 1,
         "labelFont": "Ubuntu Condensed",
         "labelFontSize": 20,
         "labelPadding": 8,
         "tickColor": "#282828",
         "tickSize": 10,
         "title": "",
         "titleFont": "Ubuntu",
         "titleFontSize": 16,
         "titlePadding": 10
        },
        "axisLeft": {
         "domainColor": "#282828",
         "domainWidth": 1,
         "gridColor": "#C9C9C9",
         "gridWidth": 1,
         "labelFont": "Ubuntu Condensed",
         "labelFontSize": 20,
         "labelPadding": 8,
         "tickColor": "#282828",
         "tickSize": 10,
         "ticks": true,
         "titleFont": "Ubuntu",
         "titleFontSize": 36,
         "titlePadding": 10
        },
        "axisRight": {
         "domainColor": "#282828",
         "domainWidth": 1,
         "gridColor": "#C9C9C9",
         "gridWidth": 1,
         "labelFont": "Ubuntu Condensed",
         "labelFontSize": 12,
         "labelPadding": 4,
         "tickColor": "#282828",
         "tickSize": 10,
         "ticks": true,
         "titleFont": "Ubuntu",
         "titleFontSize": 14,
         "titlePadding": 10
        },
        "axisTop": {
         "domain": false,
         "domainColor": "black",
         "domainWidth": 3,
         "grid": true,
         "gridColor": "#C9C9C9",
         "gridWidth": 1,
         "labelFont": "Ubuntu Condensed",
         "labelFontSize": 12,
         "labelPadding": 4,
         "tickColor": "#282828",
         "tickSize": 10,
         "titleFont": "Ubuntu",
         "titleFontSize": 14,
         "titlePadding": 10
        },
        "background": "#FFFAFA",
        "geoshape": {
         "fill": "#C0C0C0",
         "stroke": "#C0C0C0",
         "strokeWidth": 0.5
        },
        "group": {
         "fill": "#FFFAFA"
        },
        "header": {
         "fontWeight": 400,
         "labelFont": "Ubuntu Condensed",
         "labelFontSize": 12,
         "title": " ",
         "titleBaseline": "bottom",
         "titleFont": "Ubuntu",
         "titleFontSize": 12,
         "titleOffset": -300
        },
        "legend": {
         "labelFont": "Ubuntu Condensed",
         "labelFontSize": 19,
         "padding": 10,
         "symbolSize": 30,
         "symbolType": "square",
         "titleFont": "Ubuntu",
         "titleFontSize": 18,
         "titlePadding": 10
        },
        "line": {
         "color": "#282828",
         "stroke": "#282828",
         "strokewidth": 5
        },
        "padding": 10,
        "path": {
         "stroke": "#282828",
         "strokeWidth": 0.5
        },
        "point": {
         "filled": true
        },
        "range": {
         "category": [
          "#dc0d7a",
          "#02a3cd",
          "#e4a100",
          "#dc0d12",
          "#0DDC6F",
          "#074a7e",
          "#e46800",
          "#aa3594",
          "#a20c4b"
         ],
         "diverging": [
          "#dc0d12",
          "#e9686b",
          "#fbe1e1",
          "#dff4f9",
          "#81d1e6",
          "#03a3cd"
         ],
         "heatmap": [
          "#fcdfef",
          "#f8bfde",
          "#f59fce",
          "#f180be",
          "#ee60ad",
          "#eb409d",
          "#e7208c",
          "#e4007c"
         ]
        },
        "rect": {
         "fill": "#A20C4B",
         "opacity": 0.3
        },
        "style": {
         "bar": {
          "binSpacing": 2,
          "fill": "#282828",
          "stroke": false
         },
         "text": {
          "align": "right",
          "dx": 300,
          "font": "Ubuntu Mono",
          "fontSize": 10,
          "fontWeight": 100,
          "href": "https://twitter.com/ChekosWH",
          "size": 10,
          "text": "Made by @ChekosWH"
         }
        },
        "symbol": {
         "opacity": 1,
         "shape": "circle",
         "size": 40,
         "strokeWidth": 1
        },
        "title": {
         "anchor": "start",
         "font": "Ubuntu",
         "fontSize": 64,
         "fontWeight": 600,
         "offset": 20
        },
        "trail": {
         "color": "#282828",
         "size": 5,
         "stroke": "#282828",
         "strokeWidth": 0
        },
        "view": {
         "padding": 15,
         "stroke": false
        }
       },
       "data": {
        "values": [
         {
          "cuenta": 2,
          "estratos": "2) Medio Bajo",
          "nom_entidad": "Aguascalientes",
          "shape": "person",
          "tono_de_color_de_piel": 1
         },
         {
          "cuenta": 3,
          "estratos": "2) Medio Bajo",
          "nom_entidad": "Aguascalientes",
          "shape": "person",
          "tono_de_color_de_piel": 3
         },
         {
          "cuenta": 12,
          "estratos": "2) Medio Bajo",
          "nom_entidad": "Aguascalientes",
          "shape": "person",
          "tono_de_color_de_piel": 4
         },
         {
          "cuenta": 12,
          "estratos": "2) Medio Bajo",
          "nom_entidad": "Aguascalientes",
          "shape": "person",
          "tono_de_color_de_piel": 5
         },
         {
          "cuenta": 52,
          "estratos": "2) Medio Bajo",
          "nom_entidad": "Aguascalientes",
          "shape": "person",
          "tono_de_color_de_piel": 6
         },
         {
          "cuenta": 138,
          "estratos": "2) Medio Bajo",
          "nom_entidad": "Aguascalientes",
          "shape": "person",
          "tono_de_color_de_piel": 7
         },
         {
          "cuenta": 138,
          "estratos": "2) Medio Bajo",
          "nom_entidad": "Aguascalientes",
          "shape": "person",
          "tono_de_color_de_piel": 8
         },
         {
          "cuenta": 22,
          "estratos": "2) Medio Bajo",
          "nom_entidad": "Aguascalientes",
          "shape": "person",
          "tono_de_color_de_piel": 9
         },
         {
          "cuenta": 18,
          "estratos": "2) Medio Bajo",
          "nom_entidad": "Aguascalientes",
          "shape": "person",
          "tono_de_color_de_piel": 10
         },
         {
          "cuenta": 7,
          "estratos": "2) Medio Bajo",
          "nom_entidad": "Aguascalientes",
          "shape": "person",
          "tono_de_color_de_piel": 11
         },
         {
          "cuenta": 4,
          "estratos": "3) Medio Alto",
          "nom_entidad": "Aguascalientes",
          "shape": "person",
          "tono_de_color_de_piel": 4
         },
         {
          "cuenta": 6,
          "estratos": "3) Medio Alto",
          "nom_entidad": "Aguascalientes",
          "shape": "person",
          "tono_de_color_de_piel": 5
         },
         {
          "cuenta": 27,
          "estratos": "3) Medio Alto",
          "nom_entidad": "Aguascalientes",
          "shape": "person",
          "tono_de_color_de_piel": 6
         },
         {
          "cuenta": 81,
          "estratos": "3) Medio Alto",
          "nom_entidad": "Aguascalientes",
          "shape": "person",
          "tono_de_color_de_piel": 7
         },
         {
          "cuenta": 129,
          "estratos": "3) Medio Alto",
          "nom_entidad": "Aguascalientes",
          "shape": "person",
          "tono_de_color_de_piel": 8
         },
         {
          "cuenta": 21,
          "estratos": "3) Medio Alto",
          "nom_entidad": "Aguascalientes",
          "shape": "person",
          "tono_de_color_de_piel": 9
         },
         {
          "cuenta": 27,
          "estratos": "3) Medio Alto",
          "nom_entidad": "Aguascalientes",
          "shape": "person",
          "tono_de_color_de_piel": 10
         },
         {
          "cuenta": 5,
          "estratos": "3) Medio Alto",
          "nom_entidad": "Aguascalientes",
          "shape": "person",
          "tono_de_color_de_piel": 11
         },
         {
          "cuenta": 1,
          "estratos": "4) Alto",
          "nom_entidad": "Aguascalientes",
          "shape": "person",
          "tono_de_color_de_piel": 5
         },
         {
          "cuenta": 9,
          "estratos": "4) Alto",
          "nom_entidad": "Aguascalientes",
          "shape": "person",
          "tono_de_color_de_piel": 6
         },
         {
          "cuenta": 32,
          "estratos": "4) Alto",
          "nom_entidad": "Aguascalientes",
          "shape": "person",
          "tono_de_color_de_piel": 7
         },
         {
          "cuenta": 53,
          "estratos": "4) Alto",
          "nom_entidad": "Aguascalientes",
          "shape": "person",
          "tono_de_color_de_piel": 8
         },
         {
          "cuenta": 4,
          "estratos": "4) Alto",
          "nom_entidad": "Aguascalientes",
          "shape": "person",
          "tono_de_color_de_piel": 9
         },
         {
          "cuenta": 9,
          "estratos": "4) Alto",
          "nom_entidad": "Aguascalientes",
          "shape": "person",
          "tono_de_color_de_piel": 10
         },
         {
          "cuenta": 3,
          "estratos": "4) Alto",
          "nom_entidad": "Aguascalientes",
          "shape": "person",
          "tono_de_color_de_piel": 11
         },
         {
          "cuenta": 3,
          "estratos": "1) Bajo",
          "nom_entidad": "Baja California",
          "shape": "person",
          "tono_de_color_de_piel": 6
         },
         {
          "cuenta": 5,
          "estratos": "1) Bajo",
          "nom_entidad": "Baja California",
          "shape": "person",
          "tono_de_color_de_piel": 8
         },
         {
          "cuenta": 5,
          "estratos": "1) Bajo",
          "nom_entidad": "Baja California",
          "shape": "person",
          "tono_de_color_de_piel": 9
         },
         {
          "cuenta": 1,
          "estratos": "1) Bajo",
          "nom_entidad": "Baja California",
          "shape": "person",
          "tono_de_color_de_piel": 10
         },
         {
          "cuenta": 1,
          "estratos": "1) Bajo",
          "nom_entidad": "Baja California",
          "shape": "person",
          "tono_de_color_de_piel": 11
         },
         {
          "cuenta": 1,
          "estratos": "2) Medio Bajo",
          "nom_entidad": "Baja California",
          "shape": "person",
          "tono_de_color_de_piel": 1
         },
         {
          "cuenta": 1,
          "estratos": "2) Medio Bajo",
          "nom_entidad": "Baja California",
          "shape": "person",
          "tono_de_color_de_piel": 3
         },
         {
          "cuenta": 2,
          "estratos": "2) Medio Bajo",
          "nom_entidad": "Baja California",
          "shape": "person",
          "tono_de_color_de_piel": 4
         },
         {
          "cuenta": 6,
          "estratos": "2) Medio Bajo",
          "nom_entidad": "Baja California",
          "shape": "person",
          "tono_de_color_de_piel": 5
         },
         {
          "cuenta": 32,
          "estratos": "2) Medio Bajo",
          "nom_entidad": "Baja California",
          "shape": "person",
          "tono_de_color_de_piel": 6
         },
         {
          "cuenta": 91,
          "estratos": "2) Medio Bajo",
          "nom_entidad": "Baja California",
          "shape": "person",
          "tono_de_color_de_piel": 7
         },
         {
          "cuenta": 127,
          "estratos": "2) Medio Bajo",
          "nom_entidad": "Baja California",
          "shape": "person",
          "tono_de_color_de_piel": 8
         },
         {
          "cuenta": 58,
          "estratos": "2) Medio Bajo",
          "nom_entidad": "Baja California",
          "shape": "person",
          "tono_de_color_de_piel": 9
         },
         {
          "cuenta": 14,
          "estratos": "2) Medio Bajo",
          "nom_entidad": "Baja California",
          "shape": "person",
          "tono_de_color_de_piel": 10
         },
         {
          "cuenta": 6,
          "estratos": "2) Medio Bajo",
          "nom_entidad": "Baja California",
          "shape": "person",
          "tono_de_color_de_piel": 11
         },
         {
          "cuenta": 1,
          "estratos": "3) Medio Alto",
          "nom_entidad": "Baja California",
          "shape": "person",
          "tono_de_color_de_piel": 3
         },
         {
          "cuenta": 3,
          "estratos": "3) Medio Alto",
          "nom_entidad": "Baja California",
          "shape": "person",
          "tono_de_color_de_piel": 4
         },
         {
          "cuenta": 6,
          "estratos": "3) Medio Alto",
          "nom_entidad": "Baja California",
          "shape": "person",
          "tono_de_color_de_piel": 5
         },
         {
          "cuenta": 42,
          "estratos": "3) Medio Alto",
          "nom_entidad": "Baja California",
          "shape": "person",
          "tono_de_color_de_piel": 6
         },
         {
          "cuenta": 60,
          "estratos": "3) Medio Alto",
          "nom_entidad": "Baja California",
          "shape": "person",
          "tono_de_color_de_piel": 7
         },
         {
          "cuenta": 95,
          "estratos": "3) Medio Alto",
          "nom_entidad": "Baja California",
          "shape": "person",
          "tono_de_color_de_piel": 8
         },
         {
          "cuenta": 36,
          "estratos": "3) Medio Alto",
          "nom_entidad": "Baja California",
          "shape": "person",
          "tono_de_color_de_piel": 9
         },
         {
          "cuenta": 18,
          "estratos": "3) Medio Alto",
          "nom_entidad": "Baja California",
          "shape": "person",
          "tono_de_color_de_piel": 10
         },
         {
          "cuenta": 2,
          "estratos": "3) Medio Alto",
          "nom_entidad": "Baja California",
          "shape": "person",
          "tono_de_color_de_piel": 11
         },
         {
          "cuenta": 1,
          "estratos": "4) Alto",
          "nom_entidad": "Baja California",
          "shape": "person",
          "tono_de_color_de_piel": 4
         },
         {
          "cuenta": 1,
          "estratos": "4) Alto",
          "nom_entidad": "Baja California",
          "shape": "person",
          "tono_de_color_de_piel": 5
         },
         {
          "cuenta": 10,
          "estratos": "4) Alto",
          "nom_entidad": "Baja California",
          "shape": "person",
          "tono_de_color_de_piel": 6
         },
         {
          "cuenta": 14,
          "estratos": "4) Alto",
          "nom_entidad": "Baja California",
          "shape": "person",
          "tono_de_color_de_piel": 7
         },
         {
          "cuenta": 53,
          "estratos": "4) Alto",
          "nom_entidad": "Baja California",
          "shape": "person",
          "tono_de_color_de_piel": 8
         },
         {
          "cuenta": 33,
          "estratos": "4) Alto",
          "nom_entidad": "Baja California",
          "shape": "person",
          "tono_de_color_de_piel": 9
         },
         {
          "cuenta": 14,
          "estratos": "4) Alto",
          "nom_entidad": "Baja California",
          "shape": "person",
          "tono_de_color_de_piel": 10
         },
         {
          "cuenta": 1,
          "estratos": "4) Alto",
          "nom_entidad": "Baja California",
          "shape": "person",
          "tono_de_color_de_piel": 11
         },
         {
          "cuenta": 1,
          "estratos": "1) Bajo",
          "nom_entidad": "Baja California Sur",
          "shape": "person",
          "tono_de_color_de_piel": 1
         },
         {
          "cuenta": 2,
          "estratos": "1) Bajo",
          "nom_entidad": "Baja California Sur",
          "shape": "person",
          "tono_de_color_de_piel": 2
         },
         {
          "cuenta": 1,
          "estratos": "1) Bajo",
          "nom_entidad": "Baja California Sur",
          "shape": "person",
          "tono_de_color_de_piel": 3
         },
         {
          "cuenta": 1,
          "estratos": "1) Bajo",
          "nom_entidad": "Baja California Sur",
          "shape": "person",
          "tono_de_color_de_piel": 4
         },
         {
          "cuenta": 5,
          "estratos": "1) Bajo",
          "nom_entidad": "Baja California Sur",
          "shape": "person",
          "tono_de_color_de_piel": 5
         },
         {
          "cuenta": 19,
          "estratos": "1) Bajo",
          "nom_entidad": "Baja California Sur",
          "shape": "person",
          "tono_de_color_de_piel": 6
         },
         {
          "cuenta": 25,
          "estratos": "1) Bajo",
          "nom_entidad": "Baja California Sur",
          "shape": "person",
          "tono_de_color_de_piel": 7
         },
         {
          "cuenta": 31,
          "estratos": "1) Bajo",
          "nom_entidad": "Baja California Sur",
          "shape": "person",
          "tono_de_color_de_piel": 8
         },
         {
          "cuenta": 5,
          "estratos": "1) Bajo",
          "nom_entidad": "Baja California Sur",
          "shape": "person",
          "tono_de_color_de_piel": 9
         },
         {
          "cuenta": 1,
          "estratos": "1) Bajo",
          "nom_entidad": "Baja California Sur",
          "shape": "person",
          "tono_de_color_de_piel": 11
         },
         {
          "cuenta": 1,
          "estratos": "2) Medio Bajo",
          "nom_entidad": "Baja California Sur",
          "shape": "person",
          "tono_de_color_de_piel": 1
         },
         {
          "cuenta": 3,
          "estratos": "2) Medio Bajo",
          "nom_entidad": "Baja California Sur",
          "shape": "person",
          "tono_de_color_de_piel": 2
         },
         {
          "cuenta": 6,
          "estratos": "2) Medio Bajo",
          "nom_entidad": "Baja California Sur",
          "shape": "person",
          "tono_de_color_de_piel": 3
         },
         {
          "cuenta": 8,
          "estratos": "2) Medio Bajo",
          "nom_entidad": "Baja California Sur",
          "shape": "person",
          "tono_de_color_de_piel": 4
         },
         {
          "cuenta": 9,
          "estratos": "2) Medio Bajo",
          "nom_entidad": "Baja California Sur",
          "shape": "person",
          "tono_de_color_de_piel": 5
         },
         {
          "cuenta": 49,
          "estratos": "2) Medio Bajo",
          "nom_entidad": "Baja California Sur",
          "shape": "person",
          "tono_de_color_de_piel": 6
         },
         {
          "cuenta": 134,
          "estratos": "2) Medio Bajo",
          "nom_entidad": "Baja California Sur",
          "shape": "person",
          "tono_de_color_de_piel": 7
         },
         {
          "cuenta": 129,
          "estratos": "2) Medio Bajo",
          "nom_entidad": "Baja California Sur",
          "shape": "person",
          "tono_de_color_de_piel": 8
         },
         {
          "cuenta": 13,
          "estratos": "2) Medio Bajo",
          "nom_entidad": "Baja California Sur",
          "shape": "person",
          "tono_de_color_de_piel": 9
         },
         {
          "cuenta": 17,
          "estratos": "2) Medio Bajo",
          "nom_entidad": "Baja California Sur",
          "shape": "person",
          "tono_de_color_de_piel": 10
         },
         {
          "cuenta": 10,
          "estratos": "2) Medio Bajo",
          "nom_entidad": "Baja California Sur",
          "shape": "person",
          "tono_de_color_de_piel": 11
         },
         {
          "cuenta": 4,
          "estratos": "3) Medio Alto",
          "nom_entidad": "Baja California Sur",
          "shape": "person",
          "tono_de_color_de_piel": 3
         },
         {
          "cuenta": 2,
          "estratos": "3) Medio Alto",
          "nom_entidad": "Baja California Sur",
          "shape": "person",
          "tono_de_color_de_piel": 4
         },
         {
          "cuenta": 2,
          "estratos": "3) Medio Alto",
          "nom_entidad": "Baja California Sur",
          "shape": "person",
          "tono_de_color_de_piel": 5
         },
         {
          "cuenta": 30,
          "estratos": "3) Medio Alto",
          "nom_entidad": "Baja California Sur",
          "shape": "person",
          "tono_de_color_de_piel": 6
         },
         {
          "cuenta": 71,
          "estratos": "3) Medio Alto",
          "nom_entidad": "Baja California Sur",
          "shape": "person",
          "tono_de_color_de_piel": 7
         },
         {
          "cuenta": 98,
          "estratos": "3) Medio Alto",
          "nom_entidad": "Baja California Sur",
          "shape": "person",
          "tono_de_color_de_piel": 8
         },
         {
          "cuenta": 9,
          "estratos": "3) Medio Alto",
          "nom_entidad": "Baja California Sur",
          "shape": "person",
          "tono_de_color_de_piel": 9
         },
         {
          "cuenta": 11,
          "estratos": "3) Medio Alto",
          "nom_entidad": "Baja California Sur",
          "shape": "person",
          "tono_de_color_de_piel": 10
         },
         {
          "cuenta": 6,
          "estratos": "3) Medio Alto",
          "nom_entidad": "Baja California Sur",
          "shape": "person",
          "tono_de_color_de_piel": 11
         },
         {
          "cuenta": 1,
          "estratos": "4) Alto",
          "nom_entidad": "Baja California Sur",
          "shape": "person",
          "tono_de_color_de_piel": 4
         },
         {
          "cuenta": 2,
          "estratos": "4) Alto",
          "nom_entidad": "Baja California Sur",
          "shape": "person",
          "tono_de_color_de_piel": 5
         },
         {
          "cuenta": 16,
          "estratos": "4) Alto",
          "nom_entidad": "Baja California Sur",
          "shape": "person",
          "tono_de_color_de_piel": 6
         },
         {
          "cuenta": 42,
          "estratos": "4) Alto",
          "nom_entidad": "Baja California Sur",
          "shape": "person",
          "tono_de_color_de_piel": 7
         },
         {
          "cuenta": 47,
          "estratos": "4) Alto",
          "nom_entidad": "Baja California Sur",
          "shape": "person",
          "tono_de_color_de_piel": 8
         },
         {
          "cuenta": 6,
          "estratos": "4) Alto",
          "nom_entidad": "Baja California Sur",
          "shape": "person",
          "tono_de_color_de_piel": 9
         },
         {
          "cuenta": 8,
          "estratos": "4) Alto",
          "nom_entidad": "Baja California Sur",
          "shape": "person",
          "tono_de_color_de_piel": 10
         },
         {
          "cuenta": 6,
          "estratos": "4) Alto",
          "nom_entidad": "Baja California Sur",
          "shape": "person",
          "tono_de_color_de_piel": 11
         },
         {
          "cuenta": 1,
          "estratos": "1) Bajo",
          "nom_entidad": "Campeche",
          "shape": "person",
          "tono_de_color_de_piel": 2
         },
         {
          "cuenta": 10,
          "estratos": "1) Bajo",
          "nom_entidad": "Campeche",
          "shape": "person",
          "tono_de_color_de_piel": 3
         },
         {
          "cuenta": 19,
          "estratos": "1) Bajo",
          "nom_entidad": "Campeche",
          "shape": "person",
          "tono_de_color_de_piel": 4
         },
         {
          "cuenta": 12,
          "estratos": "1) Bajo",
          "nom_entidad": "Campeche",
          "shape": "person",
          "tono_de_color_de_piel": 5
         },
         {
          "cuenta": 66,
          "estratos": "1) Bajo",
          "nom_entidad": "Campeche",
          "shape": "person",
          "tono_de_color_de_piel": 6
         },
         {
          "cuenta": 89,
          "estratos": "1) Bajo",
          "nom_entidad": "Campeche",
          "shape": "person",
          "tono_de_color_de_piel": 7
         },
         {
          "cuenta": 66,
          "estratos": "1) Bajo",
          "nom_entidad": "Campeche",
          "shape": "person",
          "tono_de_color_de_piel": 8
         },
         {
          "cuenta": 18,
          "estratos": "1) Bajo",
          "nom_entidad": "Campeche",
          "shape": "person",
          "tono_de_color_de_piel": 9
         },
         {
          "cuenta": 19,
          "estratos": "1) Bajo",
          "nom_entidad": "Campeche",
          "shape": "person",
          "tono_de_color_de_piel": 10
         },
         {
          "cuenta": 8,
          "estratos": "1) Bajo",
          "nom_entidad": "Campeche",
          "shape": "person",
          "tono_de_color_de_piel": 11
         },
         {
          "cuenta": 2,
          "estratos": "2) Medio Bajo",
          "nom_entidad": "Campeche",
          "shape": "person",
          "tono_de_color_de_piel": 1
         },
         {
          "cuenta": 5,
          "estratos": "2) Medio Bajo",
          "nom_entidad": "Campeche",
          "shape": "person",
          "tono_de_color_de_piel": 2
         },
         {
          "cuenta": 4,
          "estratos": "2) Medio Bajo",
          "nom_entidad": "Campeche",
          "shape": "person",
          "tono_de_color_de_piel": 3
         },
         {
          "cuenta": 20,
          "estratos": "2) Medio Bajo",
          "nom_entidad": "Campeche",
          "shape": "person",
          "tono_de_color_de_piel": 4
         },
         {
          "cuenta": 6,
          "estratos": "2) Medio Bajo",
          "nom_entidad": "Campeche",
          "shape": "person",
          "tono_de_color_de_piel": 5
         },
         {
          "cuenta": 59,
          "estratos": "2) Medio Bajo",
          "nom_entidad": "Campeche",
          "shape": "person",
          "tono_de_color_de_piel": 6
         },
         {
          "cuenta": 137,
          "estratos": "2) Medio Bajo",
          "nom_entidad": "Campeche",
          "shape": "person",
          "tono_de_color_de_piel": 7
         },
         {
          "cuenta": 127,
          "estratos": "2) Medio Bajo",
          "nom_entidad": "Campeche",
          "shape": "person",
          "tono_de_color_de_piel": 8
         },
         {
          "cuenta": 16,
          "estratos": "2) Medio Bajo",
          "nom_entidad": "Campeche",
          "shape": "person",
          "tono_de_color_de_piel": 9
         },
         {
          "cuenta": 21,
          "estratos": "2) Medio Bajo",
          "nom_entidad": "Campeche",
          "shape": "person",
          "tono_de_color_de_piel": 10
         },
         {
          "cuenta": 8,
          "estratos": "2) Medio Bajo",
          "nom_entidad": "Campeche",
          "shape": "person",
          "tono_de_color_de_piel": 11
         },
         {
          "cuenta": 2,
          "estratos": "3) Medio Alto",
          "nom_entidad": "Campeche",
          "shape": "person",
          "tono_de_color_de_piel": 4
         },
         {
          "cuenta": 3,
          "estratos": "3) Medio Alto",
          "nom_entidad": "Campeche",
          "shape": "person",
          "tono_de_color_de_piel": 5
         },
         {
          "cuenta": 12,
          "estratos": "3) Medio Alto",
          "nom_entidad": "Campeche",
          "shape": "person",
          "tono_de_color_de_piel": 6
         },
         {
          "cuenta": 27,
          "estratos": "3) Medio Alto",
          "nom_entidad": "Campeche",
          "shape": "person",
          "tono_de_color_de_piel": 7
         },
         {
          "cuenta": 27,
          "estratos": "3) Medio Alto",
          "nom_entidad": "Campeche",
          "shape": "person",
          "tono_de_color_de_piel": 8
         },
         {
          "cuenta": 4,
          "estratos": "3) Medio Alto",
          "nom_entidad": "Campeche",
          "shape": "person",
          "tono_de_color_de_piel": 9
         },
         {
          "cuenta": 8,
          "estratos": "3) Medio Alto",
          "nom_entidad": "Campeche",
          "shape": "person",
          "tono_de_color_de_piel": 10
         },
         {
          "cuenta": 1,
          "estratos": "4) Alto",
          "nom_entidad": "Campeche",
          "shape": "person",
          "tono_de_color_de_piel": 3
         },
         {
          "cuenta": 2,
          "estratos": "4) Alto",
          "nom_entidad": "Campeche",
          "shape": "person",
          "tono_de_color_de_piel": 5
         },
         {
          "cuenta": 3,
          "estratos": "4) Alto",
          "nom_entidad": "Campeche",
          "shape": "person",
          "tono_de_color_de_piel": 6
         },
         {
          "cuenta": 20,
          "estratos": "4) Alto",
          "nom_entidad": "Campeche",
          "shape": "person",
          "tono_de_color_de_piel": 7
         },
         {
          "cuenta": 16,
          "estratos": "4) Alto",
          "nom_entidad": "Campeche",
          "shape": "person",
          "tono_de_color_de_piel": 8
         },
         {
          "cuenta": 4,
          "estratos": "4) Alto",
          "nom_entidad": "Campeche",
          "shape": "person",
          "tono_de_color_de_piel": 9
         },
         {
          "cuenta": 4,
          "estratos": "4) Alto",
          "nom_entidad": "Campeche",
          "shape": "person",
          "tono_de_color_de_piel": 10
         },
         {
          "cuenta": 3,
          "estratos": "1) Bajo",
          "nom_entidad": "Chiapas",
          "shape": "person",
          "tono_de_color_de_piel": 1
         },
         {
          "cuenta": 1,
          "estratos": "1) Bajo",
          "nom_entidad": "Chiapas",
          "shape": "person",
          "tono_de_color_de_piel": 2
         },
         {
          "cuenta": 5,
          "estratos": "1) Bajo",
          "nom_entidad": "Chiapas",
          "shape": "person",
          "tono_de_color_de_piel": 3
         },
         {
          "cuenta": 16,
          "estratos": "1) Bajo",
          "nom_entidad": "Chiapas",
          "shape": "person",
          "tono_de_color_de_piel": 4
         },
         {
          "cuenta": 24,
          "estratos": "1) Bajo",
          "nom_entidad": "Chiapas",
          "shape": "person",
          "tono_de_color_de_piel": 5
         },
         {
          "cuenta": 77,
          "estratos": "1) Bajo",
          "nom_entidad": "Chiapas",
          "shape": "person",
          "tono_de_color_de_piel": 6
         },
         {
          "cuenta": 151,
          "estratos": "1) Bajo",
          "nom_entidad": "Chiapas",
          "shape": "person",
          "tono_de_color_de_piel": 7
         },
         {
          "cuenta": 140,
          "estratos": "1) Bajo",
          "nom_entidad": "Chiapas",
          "shape": "person",
          "tono_de_color_de_piel": 8
         },
         {
          "cuenta": 25,
          "estratos": "1) Bajo",
          "nom_entidad": "Chiapas",
          "shape": "person",
          "tono_de_color_de_piel": 9
         },
         {
          "cuenta": 14,
          "estratos": "1) Bajo",
          "nom_entidad": "Chiapas",
          "shape": "person",
          "tono_de_color_de_piel": 10
         },
         {
          "cuenta": 15,
          "estratos": "1) Bajo",
          "nom_entidad": "Chiapas",
          "shape": "person",
          "tono_de_color_de_piel": 11
         },
         {
          "cuenta": 2,
          "estratos": "2) Medio Bajo",
          "nom_entidad": "Chiapas",
          "shape": "person",
          "tono_de_color_de_piel": 1
         },
         {
          "cuenta": 1,
          "estratos": "2) Medio Bajo",
          "nom_entidad": "Chiapas",
          "shape": "person",
          "tono_de_color_de_piel": 2
         },
         {
          "cuenta": 6,
          "estratos": "2) Medio Bajo",
          "nom_entidad": "Chiapas",
          "shape": "person",
          "tono_de_color_de_piel": 3
         },
         {
          "cuenta": 7,
          "estratos": "2) Medio Bajo",
          "nom_entidad": "Chiapas",
          "shape": "person",
          "tono_de_color_de_piel": 4
         },
         {
          "cuenta": 9,
          "estratos": "2) Medio Bajo",
          "nom_entidad": "Chiapas",
          "shape": "person",
          "tono_de_color_de_piel": 5
         },
         {
          "cuenta": 42,
          "estratos": "2) Medio Bajo",
          "nom_entidad": "Chiapas",
          "shape": "person",
          "tono_de_color_de_piel": 6
         },
         {
          "cuenta": 101,
          "estratos": "2) Medio Bajo",
          "nom_entidad": "Chiapas",
          "shape": "person",
          "tono_de_color_de_piel": 7
         },
         {
          "cuenta": 115,
          "estratos": "2) Medio Bajo",
          "nom_entidad": "Chiapas",
          "shape": "person",
          "tono_de_color_de_piel": 8
         },
         {
          "cuenta": 9,
          "estratos": "2) Medio Bajo",
          "nom_entidad": "Chiapas",
          "shape": "person",
          "tono_de_color_de_piel": 9
         },
         {
          "cuenta": 17,
          "estratos": "2) Medio Bajo",
          "nom_entidad": "Chiapas",
          "shape": "person",
          "tono_de_color_de_piel": 10
         },
         {
          "cuenta": 9,
          "estratos": "2) Medio Bajo",
          "nom_entidad": "Chiapas",
          "shape": "person",
          "tono_de_color_de_piel": 11
         },
         {
          "cuenta": 4,
          "estratos": "3) Medio Alto",
          "nom_entidad": "Chiapas",
          "shape": "person",
          "tono_de_color_de_piel": 6
         },
         {
          "cuenta": 6,
          "estratos": "3) Medio Alto",
          "nom_entidad": "Chiapas",
          "shape": "person",
          "tono_de_color_de_piel": 7
         },
         {
          "cuenta": 17,
          "estratos": "3) Medio Alto",
          "nom_entidad": "Chiapas",
          "shape": "person",
          "tono_de_color_de_piel": 8
         },
         {
          "cuenta": 1,
          "estratos": "3) Medio Alto",
          "nom_entidad": "Chiapas",
          "shape": "person",
          "tono_de_color_de_piel": 9
         },
         {
          "cuenta": 2,
          "estratos": "3) Medio Alto",
          "nom_entidad": "Chiapas",
          "shape": "person",
          "tono_de_color_de_piel": 10
         },
         {
          "cuenta": 2,
          "estratos": "3) Medio Alto",
          "nom_entidad": "Chiapas",
          "shape": "person",
          "tono_de_color_de_piel": 11
         },
         {
          "cuenta": 1,
          "estratos": "4) Alto",
          "nom_entidad": "Chiapas",
          "shape": "person",
          "tono_de_color_de_piel": 6
         },
         {
          "cuenta": 4,
          "estratos": "4) Alto",
          "nom_entidad": "Chiapas",
          "shape": "person",
          "tono_de_color_de_piel": 7
         },
         {
          "cuenta": 8,
          "estratos": "4) Alto",
          "nom_entidad": "Chiapas",
          "shape": "person",
          "tono_de_color_de_piel": 8
         },
         {
          "cuenta": 1,
          "estratos": "4) Alto",
          "nom_entidad": "Chiapas",
          "shape": "person",
          "tono_de_color_de_piel": 9
         },
         {
          "cuenta": 1,
          "estratos": "4) Alto",
          "nom_entidad": "Chiapas",
          "shape": "person",
          "tono_de_color_de_piel": 10
         },
         {
          "cuenta": 1,
          "estratos": "4) Alto",
          "nom_entidad": "Chiapas",
          "shape": "person",
          "tono_de_color_de_piel": 11
         },
         {
          "cuenta": 1,
          "estratos": "1) Bajo",
          "nom_entidad": "Chihuahua",
          "shape": "person",
          "tono_de_color_de_piel": 1
         },
         {
          "cuenta": 2,
          "estratos": "1) Bajo",
          "nom_entidad": "Chihuahua",
          "shape": "person",
          "tono_de_color_de_piel": 2
         },
         {
          "cuenta": 8,
          "estratos": "1) Bajo",
          "nom_entidad": "Chihuahua",
          "shape": "person",
          "tono_de_color_de_piel": 6
         },
         {
          "cuenta": 13,
          "estratos": "1) Bajo",
          "nom_entidad": "Chihuahua",
          "shape": "person",
          "tono_de_color_de_piel": 7
         },
         {
          "cuenta": 15,
          "estratos": "1) Bajo",
          "nom_entidad": "Chihuahua",
          "shape": "person",
          "tono_de_color_de_piel": 8
         },
         {
          "cuenta": 3,
          "estratos": "1) Bajo",
          "nom_entidad": "Chihuahua",
          "shape": "person",
          "tono_de_color_de_piel": 9
         },
         {
          "cuenta": 3,
          "estratos": "1) Bajo",
          "nom_entidad": "Chihuahua",
          "shape": "person",
          "tono_de_color_de_piel": 10
         },
         {
          "cuenta": 3,
          "estratos": "1) Bajo",
          "nom_entidad": "Chihuahua",
          "shape": "person",
          "tono_de_color_de_piel": 11
         },
         {
          "cuenta": 1,
          "estratos": "2) Medio Bajo",
          "nom_entidad": "Chihuahua",
          "shape": "person",
          "tono_de_color_de_piel": 2
         },
         {
          "cuenta": 1,
          "estratos": "2) Medio Bajo",
          "nom_entidad": "Chihuahua",
          "shape": "person",
          "tono_de_color_de_piel": 3
         },
         {
          "cuenta": 7,
          "estratos": "2) Medio Bajo",
          "nom_entidad": "Chihuahua",
          "shape": "person",
          "tono_de_color_de_piel": 4
         },
         {
          "cuenta": 9,
          "estratos": "2) Medio Bajo",
          "nom_entidad": "Chihuahua",
          "shape": "person",
          "tono_de_color_de_piel": 5
         },
         {
          "cuenta": 37,
          "estratos": "2) Medio Bajo",
          "nom_entidad": "Chihuahua",
          "shape": "person",
          "tono_de_color_de_piel": 6
         },
         {
          "cuenta": 103,
          "estratos": "2) Medio Bajo",
          "nom_entidad": "Chihuahua",
          "shape": "person",
          "tono_de_color_de_piel": 7
         },
         {
          "cuenta": 121,
          "estratos": "2) Medio Bajo",
          "nom_entidad": "Chihuahua",
          "shape": "person",
          "tono_de_color_de_piel": 8
         },
         {
          "cuenta": 13,
          "estratos": "2) Medio Bajo",
          "nom_entidad": "Chihuahua",
          "shape": "person",
          "tono_de_color_de_piel": 9
         },
         {
          "cuenta": 22,
          "estratos": "2) Medio Bajo",
          "nom_entidad": "Chihuahua",
          "shape": "person",
          "tono_de_color_de_piel": 10
         },
         {
          "cuenta": 10,
          "estratos": "2) Medio Bajo",
          "nom_entidad": "Chihuahua",
          "shape": "person",
          "tono_de_color_de_piel": 11
         },
         {
          "cuenta": 1,
          "estratos": "3) Medio Alto",
          "nom_entidad": "Chihuahua",
          "shape": "person",
          "tono_de_color_de_piel": 3
         },
         {
          "cuenta": 7,
          "estratos": "3) Medio Alto",
          "nom_entidad": "Chihuahua",
          "shape": "person",
          "tono_de_color_de_piel": 4
         },
         {
          "cuenta": 9,
          "estratos": "3) Medio Alto",
          "nom_entidad": "Chihuahua",
          "shape": "person",
          "tono_de_color_de_piel": 5
         },
         {
          "cuenta": 24,
          "estratos": "3) Medio Alto",
          "nom_entidad": "Chihuahua",
          "shape": "person",
          "tono_de_color_de_piel": 6
         },
         {
          "cuenta": 87,
          "estratos": "3) Medio Alto",
          "nom_entidad": "Chihuahua",
          "shape": "person",
          "tono_de_color_de_piel": 7
         },
         {
          "cuenta": 121,
          "estratos": "3) Medio Alto",
          "nom_entidad": "Chihuahua",
          "shape": "person",
          "tono_de_color_de_piel": 8
         },
         {
          "cuenta": 18,
          "estratos": "3) Medio Alto",
          "nom_entidad": "Chihuahua",
          "shape": "person",
          "tono_de_color_de_piel": 9
         },
         {
          "cuenta": 21,
          "estratos": "3) Medio Alto",
          "nom_entidad": "Chihuahua",
          "shape": "person",
          "tono_de_color_de_piel": 10
         },
         {
          "cuenta": 10,
          "estratos": "3) Medio Alto",
          "nom_entidad": "Chihuahua",
          "shape": "person",
          "tono_de_color_de_piel": 11
         },
         {
          "cuenta": 1,
          "estratos": "4) Alto",
          "nom_entidad": "Chihuahua",
          "shape": "person",
          "tono_de_color_de_piel": 4
         },
         {
          "cuenta": 1,
          "estratos": "4) Alto",
          "nom_entidad": "Chihuahua",
          "shape": "person",
          "tono_de_color_de_piel": 5
         },
         {
          "cuenta": 3,
          "estratos": "4) Alto",
          "nom_entidad": "Chihuahua",
          "shape": "person",
          "tono_de_color_de_piel": 6
         },
         {
          "cuenta": 15,
          "estratos": "4) Alto",
          "nom_entidad": "Chihuahua",
          "shape": "person",
          "tono_de_color_de_piel": 7
         },
         {
          "cuenta": 46,
          "estratos": "4) Alto",
          "nom_entidad": "Chihuahua",
          "shape": "person",
          "tono_de_color_de_piel": 8
         },
         {
          "cuenta": 3,
          "estratos": "4) Alto",
          "nom_entidad": "Chihuahua",
          "shape": "person",
          "tono_de_color_de_piel": 9
         },
         {
          "cuenta": 10,
          "estratos": "4) Alto",
          "nom_entidad": "Chihuahua",
          "shape": "person",
          "tono_de_color_de_piel": 10
         },
         {
          "cuenta": 5,
          "estratos": "4) Alto",
          "nom_entidad": "Chihuahua",
          "shape": "person",
          "tono_de_color_de_piel": 11
         },
         {
          "cuenta": 1,
          "estratos": "2) Medio Bajo",
          "nom_entidad": "Ciudad de México",
          "shape": "person",
          "tono_de_color_de_piel": 1
         },
         {
          "cuenta": 1,
          "estratos": "2) Medio Bajo",
          "nom_entidad": "Ciudad de México",
          "shape": "person",
          "tono_de_color_de_piel": 2
         },
         {
          "cuenta": 3,
          "estratos": "2) Medio Bajo",
          "nom_entidad": "Ciudad de México",
          "shape": "person",
          "tono_de_color_de_piel": 3
         },
         {
          "cuenta": 10,
          "estratos": "2) Medio Bajo",
          "nom_entidad": "Ciudad de México",
          "shape": "person",
          "tono_de_color_de_piel": 4
         },
         {
          "cuenta": 8,
          "estratos": "2) Medio Bajo",
          "nom_entidad": "Ciudad de México",
          "shape": "person",
          "tono_de_color_de_piel": 5
         },
         {
          "cuenta": 33,
          "estratos": "2) Medio Bajo",
          "nom_entidad": "Ciudad de México",
          "shape": "person",
          "tono_de_color_de_piel": 6
         },
         {
          "cuenta": 97,
          "estratos": "2) Medio Bajo",
          "nom_entidad": "Ciudad de México",
          "shape": "person",
          "tono_de_color_de_piel": 7
         },
         {
          "cuenta": 124,
          "estratos": "2) Medio Bajo",
          "nom_entidad": "Ciudad de México",
          "shape": "person",
          "tono_de_color_de_piel": 8
         },
         {
          "cuenta": 15,
          "estratos": "2) Medio Bajo",
          "nom_entidad": "Ciudad de México",
          "shape": "person",
          "tono_de_color_de_piel": 9
         },
         {
          "cuenta": 17,
          "estratos": "2) Medio Bajo",
          "nom_entidad": "Ciudad de México",
          "shape": "person",
          "tono_de_color_de_piel": 10
         },
         {
          "cuenta": 7,
          "estratos": "2) Medio Bajo",
          "nom_entidad": "Ciudad de México",
          "shape": "person",
          "tono_de_color_de_piel": 11
         },
         {
          "cuenta": 1,
          "estratos": "3) Medio Alto",
          "nom_entidad": "Ciudad de México",
          "shape": "person",
          "tono_de_color_de_piel": 1
         },
         {
          "cuenta": 2,
          "estratos": "3) Medio Alto",
          "nom_entidad": "Ciudad de México",
          "shape": "person",
          "tono_de_color_de_piel": 2
         },
         {
          "cuenta": 1,
          "estratos": "3) Medio Alto",
          "nom_entidad": "Ciudad de México",
          "shape": "person",
          "tono_de_color_de_piel": 3
         },
         {
          "cuenta": 3,
          "estratos": "3) Medio Alto",
          "nom_entidad": "Ciudad de México",
          "shape": "person",
          "tono_de_color_de_piel": 4
         },
         {
          "cuenta": 8,
          "estratos": "3) Medio Alto",
          "nom_entidad": "Ciudad de México",
          "shape": "person",
          "tono_de_color_de_piel": 5
         },
         {
          "cuenta": 21,
          "estratos": "3) Medio Alto",
          "nom_entidad": "Ciudad de México",
          "shape": "person",
          "tono_de_color_de_piel": 6
         },
         {
          "cuenta": 121,
          "estratos": "3) Medio Alto",
          "nom_entidad": "Ciudad de México",
          "shape": "person",
          "tono_de_color_de_piel": 7
         },
         {
          "cuenta": 145,
          "estratos": "3) Medio Alto",
          "nom_entidad": "Ciudad de México",
          "shape": "person",
          "tono_de_color_de_piel": 8
         },
         {
          "cuenta": 24,
          "estratos": "3) Medio Alto",
          "nom_entidad": "Ciudad de México",
          "shape": "person",
          "tono_de_color_de_piel": 9
         },
         {
          "cuenta": 21,
          "estratos": "3) Medio Alto",
          "nom_entidad": "Ciudad de México",
          "shape": "person",
          "tono_de_color_de_piel": 10
         },
         {
          "cuenta": 7,
          "estratos": "3) Medio Alto",
          "nom_entidad": "Ciudad de México",
          "shape": "person",
          "tono_de_color_de_piel": 11
         },
         {
          "cuenta": 1,
          "estratos": "4) Alto",
          "nom_entidad": "Ciudad de México",
          "shape": "person",
          "tono_de_color_de_piel": 5
         },
         {
          "cuenta": 7,
          "estratos": "4) Alto",
          "nom_entidad": "Ciudad de México",
          "shape": "person",
          "tono_de_color_de_piel": 6
         },
         {
          "cuenta": 26,
          "estratos": "4) Alto",
          "nom_entidad": "Ciudad de México",
          "shape": "person",
          "tono_de_color_de_piel": 7
         },
         {
          "cuenta": 48,
          "estratos": "4) Alto",
          "nom_entidad": "Ciudad de México",
          "shape": "person",
          "tono_de_color_de_piel": 8
         },
         {
          "cuenta": 8,
          "estratos": "4) Alto",
          "nom_entidad": "Ciudad de México",
          "shape": "person",
          "tono_de_color_de_piel": 9
         },
         {
          "cuenta": 15,
          "estratos": "4) Alto",
          "nom_entidad": "Ciudad de México",
          "shape": "person",
          "tono_de_color_de_piel": 10
         },
         {
          "cuenta": 8,
          "estratos": "4) Alto",
          "nom_entidad": "Ciudad de México",
          "shape": "person",
          "tono_de_color_de_piel": 11
         },
         {
          "cuenta": 1,
          "estratos": "1) Bajo",
          "nom_entidad": "Coahuila de Zaragoza",
          "shape": "person",
          "tono_de_color_de_piel": 2
         },
         {
          "cuenta": 2,
          "estratos": "1) Bajo",
          "nom_entidad": "Coahuila de Zaragoza",
          "shape": "person",
          "tono_de_color_de_piel": 3
         },
         {
          "cuenta": 4,
          "estratos": "1) Bajo",
          "nom_entidad": "Coahuila de Zaragoza",
          "shape": "person",
          "tono_de_color_de_piel": 4
         },
         {
          "cuenta": 2,
          "estratos": "1) Bajo",
          "nom_entidad": "Coahuila de Zaragoza",
          "shape": "person",
          "tono_de_color_de_piel": 5
         },
         {
          "cuenta": 2,
          "estratos": "1) Bajo",
          "nom_entidad": "Coahuila de Zaragoza",
          "shape": "person",
          "tono_de_color_de_piel": 6
         },
         {
          "cuenta": 12,
          "estratos": "1) Bajo",
          "nom_entidad": "Coahuila de Zaragoza",
          "shape": "person",
          "tono_de_color_de_piel": 7
         },
         {
          "cuenta": 11,
          "estratos": "1) Bajo",
          "nom_entidad": "Coahuila de Zaragoza",
          "shape": "person",
          "tono_de_color_de_piel": 8
         },
         {
          "cuenta": 1,
          "estratos": "1) Bajo",
          "nom_entidad": "Coahuila de Zaragoza",
          "shape": "person",
          "tono_de_color_de_piel": 9
         },
         {
          "cuenta": 5,
          "estratos": "2) Medio Bajo",
          "nom_entidad": "Coahuila de Zaragoza",
          "shape": "person",
          "tono_de_color_de_piel": 2
         },
         {
          "cuenta": 3,
          "estratos": "2) Medio Bajo",
          "nom_entidad": "Coahuila de Zaragoza",
          "shape": "person",
          "tono_de_color_de_piel": 3
         },
         {
          "cuenta": 7,
          "estratos": "2) Medio Bajo",
          "nom_entidad": "Coahuila de Zaragoza",
          "shape": "person",
          "tono_de_color_de_piel": 4
         },
         {
          "cuenta": 11,
          "estratos": "2) Medio Bajo",
          "nom_entidad": "Coahuila de Zaragoza",
          "shape": "person",
          "tono_de_color_de_piel": 5
         },
         {
          "cuenta": 57,
          "estratos": "2) Medio Bajo",
          "nom_entidad": "Coahuila de Zaragoza",
          "shape": "person",
          "tono_de_color_de_piel": 6
         },
         {
          "cuenta": 102,
          "estratos": "2) Medio Bajo",
          "nom_entidad": "Coahuila de Zaragoza",
          "shape": "person",
          "tono_de_color_de_piel": 7
         },
         {
          "cuenta": 121,
          "estratos": "2) Medio Bajo",
          "nom_entidad": "Coahuila de Zaragoza",
          "shape": "person",
          "tono_de_color_de_piel": 8
         },
         {
          "cuenta": 16,
          "estratos": "2) Medio Bajo",
          "nom_entidad": "Coahuila de Zaragoza",
          "shape": "person",
          "tono_de_color_de_piel": 9
         },
         {
          "cuenta": 16,
          "estratos": "2) Medio Bajo",
          "nom_entidad": "Coahuila de Zaragoza",
          "shape": "person",
          "tono_de_color_de_piel": 10
         },
         {
          "cuenta": 6,
          "estratos": "2) Medio Bajo",
          "nom_entidad": "Coahuila de Zaragoza",
          "shape": "person",
          "tono_de_color_de_piel": 11
         },
         {
          "cuenta": 1,
          "estratos": "3) Medio Alto",
          "nom_entidad": "Coahuila de Zaragoza",
          "shape": "person",
          "tono_de_color_de_piel": 2
         },
         {
          "cuenta": 2,
          "estratos": "3) Medio Alto",
          "nom_entidad": "Coahuila de Zaragoza",
          "shape": "person",
          "tono_de_color_de_piel": 3
         },
         {
          "cuenta": 7,
          "estratos": "3) Medio Alto",
          "nom_entidad": "Coahuila de Zaragoza",
          "shape": "person",
          "tono_de_color_de_piel": 4
         },
         {
          "cuenta": 7,
          "estratos": "3) Medio Alto",
          "nom_entidad": "Coahuila de Zaragoza",
          "shape": "person",
          "tono_de_color_de_piel": 5
         },
         {
          "cuenta": 28,
          "estratos": "3) Medio Alto",
          "nom_entidad": "Coahuila de Zaragoza",
          "shape": "person",
          "tono_de_color_de_piel": 6
         },
         {
          "cuenta": 89,
          "estratos": "3) Medio Alto",
          "nom_entidad": "Coahuila de Zaragoza",
          "shape": "person",
          "tono_de_color_de_piel": 7
         },
         {
          "cuenta": 126,
          "estratos": "3) Medio Alto",
          "nom_entidad": "Coahuila de Zaragoza",
          "shape": "person",
          "tono_de_color_de_piel": 8
         },
         {
          "cuenta": 17,
          "estratos": "3) Medio Alto",
          "nom_entidad": "Coahuila de Zaragoza",
          "shape": "person",
          "tono_de_color_de_piel": 9
         },
         {
          "cuenta": 24,
          "estratos": "3) Medio Alto",
          "nom_entidad": "Coahuila de Zaragoza",
          "shape": "person",
          "tono_de_color_de_piel": 10
         },
         {
          "cuenta": 6,
          "estratos": "3) Medio Alto",
          "nom_entidad": "Coahuila de Zaragoza",
          "shape": "person",
          "tono_de_color_de_piel": 11
         },
         {
          "cuenta": 1,
          "estratos": "4) Alto",
          "nom_entidad": "Coahuila de Zaragoza",
          "shape": "person",
          "tono_de_color_de_piel": 4
         },
         {
          "cuenta": 1,
          "estratos": "4) Alto",
          "nom_entidad": "Coahuila de Zaragoza",
          "shape": "person",
          "tono_de_color_de_piel": 5
         },
         {
          "cuenta": 13,
          "estratos": "4) Alto",
          "nom_entidad": "Coahuila de Zaragoza",
          "shape": "person",
          "tono_de_color_de_piel": 6
         },
         {
          "cuenta": 20,
          "estratos": "4) Alto",
          "nom_entidad": "Coahuila de Zaragoza",
          "shape": "person",
          "tono_de_color_de_piel": 7
         },
         {
          "cuenta": 42,
          "estratos": "4) Alto",
          "nom_entidad": "Coahuila de Zaragoza",
          "shape": "person",
          "tono_de_color_de_piel": 8
         },
         {
          "cuenta": 3,
          "estratos": "4) Alto",
          "nom_entidad": "Coahuila de Zaragoza",
          "shape": "person",
          "tono_de_color_de_piel": 9
         },
         {
          "cuenta": 4,
          "estratos": "4) Alto",
          "nom_entidad": "Coahuila de Zaragoza",
          "shape": "person",
          "tono_de_color_de_piel": 10
         },
         {
          "cuenta": 3,
          "estratos": "4) Alto",
          "nom_entidad": "Coahuila de Zaragoza",
          "shape": "person",
          "tono_de_color_de_piel": 11
         },
         {
          "cuenta": 1,
          "estratos": "1) Bajo",
          "nom_entidad": "Colima",
          "shape": "person",
          "tono_de_color_de_piel": 4
         },
         {
          "cuenta": 2,
          "estratos": "1) Bajo",
          "nom_entidad": "Colima",
          "shape": "person",
          "tono_de_color_de_piel": 5
         },
         {
          "cuenta": 2,
          "estratos": "1) Bajo",
          "nom_entidad": "Colima",
          "shape": "person",
          "tono_de_color_de_piel": 6
         },
         {
          "cuenta": 1,
          "estratos": "1) Bajo",
          "nom_entidad": "Colima",
          "shape": "person",
          "tono_de_color_de_piel": 7
         },
         {
          "cuenta": 5,
          "estratos": "1) Bajo",
          "nom_entidad": "Colima",
          "shape": "person",
          "tono_de_color_de_piel": 8
         },
         {
          "cuenta": 1,
          "estratos": "1) Bajo",
          "nom_entidad": "Colima",
          "shape": "person",
          "tono_de_color_de_piel": 9
         },
         {
          "cuenta": 1,
          "estratos": "1) Bajo",
          "nom_entidad": "Colima",
          "shape": "person",
          "tono_de_color_de_piel": 11
         },
         {
          "cuenta": 1,
          "estratos": "2) Medio Bajo",
          "nom_entidad": "Colima",
          "shape": "person",
          "tono_de_color_de_piel": 1
         },
         {
          "cuenta": 4,
          "estratos": "2) Medio Bajo",
          "nom_entidad": "Colima",
          "shape": "person",
          "tono_de_color_de_piel": 3
         },
         {
          "cuenta": 15,
          "estratos": "2) Medio Bajo",
          "nom_entidad": "Colima",
          "shape": "person",
          "tono_de_color_de_piel": 4
         },
         {
          "cuenta": 21,
          "estratos": "2) Medio Bajo",
          "nom_entidad": "Colima",
          "shape": "person",
          "tono_de_color_de_piel": 5
         },
         {
          "cuenta": 81,
          "estratos": "2) Medio Bajo",
          "nom_entidad": "Colima",
          "shape": "person",
          "tono_de_color_de_piel": 6
         },
         {
          "cuenta": 153,
          "estratos": "2) Medio Bajo",
          "nom_entidad": "Colima",
          "shape": "person",
          "tono_de_color_de_piel": 7
         },
         {
          "cuenta": 163,
          "estratos": "2) Medio Bajo",
          "nom_entidad": "Colima",
          "shape": "person",
          "tono_de_color_de_piel": 8
         },
         {
          "cuenta": 27,
          "estratos": "2) Medio Bajo",
          "nom_entidad": "Colima",
          "shape": "person",
          "tono_de_color_de_piel": 9
         },
         {
          "cuenta": 23,
          "estratos": "2) Medio Bajo",
          "nom_entidad": "Colima",
          "shape": "person",
          "tono_de_color_de_piel": 10
         },
         {
          "cuenta": 11,
          "estratos": "2) Medio Bajo",
          "nom_entidad": "Colima",
          "shape": "person",
          "tono_de_color_de_piel": 11
         },
         {
          "cuenta": 4,
          "estratos": "3) Medio Alto",
          "nom_entidad": "Colima",
          "shape": "person",
          "tono_de_color_de_piel": 4
         },
         {
          "cuenta": 6,
          "estratos": "3) Medio Alto",
          "nom_entidad": "Colima",
          "shape": "person",
          "tono_de_color_de_piel": 5
         },
         {
          "cuenta": 23,
          "estratos": "3) Medio Alto",
          "nom_entidad": "Colima",
          "shape": "person",
          "tono_de_color_de_piel": 6
         },
         {
          "cuenta": 35,
          "estratos": "3) Medio Alto",
          "nom_entidad": "Colima",
          "shape": "person",
          "tono_de_color_de_piel": 7
         },
         {
          "cuenta": 58,
          "estratos": "3) Medio Alto",
          "nom_entidad": "Colima",
          "shape": "person",
          "tono_de_color_de_piel": 8
         },
         {
          "cuenta": 3,
          "estratos": "3) Medio Alto",
          "nom_entidad": "Colima",
          "shape": "person",
          "tono_de_color_de_piel": 9
         },
         {
          "cuenta": 2,
          "estratos": "3) Medio Alto",
          "nom_entidad": "Colima",
          "shape": "person",
          "tono_de_color_de_piel": 10
         },
         {
          "cuenta": 2,
          "estratos": "3) Medio Alto",
          "nom_entidad": "Colima",
          "shape": "person",
          "tono_de_color_de_piel": 11
         },
         {
          "cuenta": 3,
          "estratos": "4) Alto",
          "nom_entidad": "Colima",
          "shape": "person",
          "tono_de_color_de_piel": 4
         },
         {
          "cuenta": 3,
          "estratos": "4) Alto",
          "nom_entidad": "Colima",
          "shape": "person",
          "tono_de_color_de_piel": 5
         },
         {
          "cuenta": 10,
          "estratos": "4) Alto",
          "nom_entidad": "Colima",
          "shape": "person",
          "tono_de_color_de_piel": 6
         },
         {
          "cuenta": 30,
          "estratos": "4) Alto",
          "nom_entidad": "Colima",
          "shape": "person",
          "tono_de_color_de_piel": 7
         },
         {
          "cuenta": 39,
          "estratos": "4) Alto",
          "nom_entidad": "Colima",
          "shape": "person",
          "tono_de_color_de_piel": 8
         },
         {
          "cuenta": 5,
          "estratos": "4) Alto",
          "nom_entidad": "Colima",
          "shape": "person",
          "tono_de_color_de_piel": 9
         },
         {
          "cuenta": 10,
          "estratos": "4) Alto",
          "nom_entidad": "Colima",
          "shape": "person",
          "tono_de_color_de_piel": 10
         },
         {
          "cuenta": 2,
          "estratos": "4) Alto",
          "nom_entidad": "Colima",
          "shape": "person",
          "tono_de_color_de_piel": 11
         },
         {
          "cuenta": 1,
          "estratos": "1) Bajo",
          "nom_entidad": "Durango",
          "shape": "person",
          "tono_de_color_de_piel": 1
         },
         {
          "cuenta": 1,
          "estratos": "1) Bajo",
          "nom_entidad": "Durango",
          "shape": "person",
          "tono_de_color_de_piel": 2
         },
         {
          "cuenta": 1,
          "estratos": "1) Bajo",
          "nom_entidad": "Durango",
          "shape": "person",
          "tono_de_color_de_piel": 4
         },
         {
          "cuenta": 2,
          "estratos": "1) Bajo",
          "nom_entidad": "Durango",
          "shape": "person",
          "tono_de_color_de_piel": 5
         },
         {
          "cuenta": 14,
          "estratos": "1) Bajo",
          "nom_entidad": "Durango",
          "shape": "person",
          "tono_de_color_de_piel": 6
         },
         {
          "cuenta": 20,
          "estratos": "1) Bajo",
          "nom_entidad": "Durango",
          "shape": "person",
          "tono_de_color_de_piel": 7
         },
         {
          "cuenta": 29,
          "estratos": "1) Bajo",
          "nom_entidad": "Durango",
          "shape": "person",
          "tono_de_color_de_piel": 8
         },
         {
          "cuenta": 9,
          "estratos": "1) Bajo",
          "nom_entidad": "Durango",
          "shape": "person",
          "tono_de_color_de_piel": 9
         },
         {
          "cuenta": 12,
          "estratos": "1) Bajo",
          "nom_entidad": "Durango",
          "shape": "person",
          "tono_de_color_de_piel": 10
         },
         {
          "cuenta": 5,
          "estratos": "1) Bajo",
          "nom_entidad": "Durango",
          "shape": "person",
          "tono_de_color_de_piel": 11
         },
         {
          "cuenta": 2,
          "estratos": "2) Medio Bajo",
          "nom_entidad": "Durango",
          "shape": "person",
          "tono_de_color_de_piel": 1
         },
         {
          "cuenta": 1,
          "estratos": "2) Medio Bajo",
          "nom_entidad": "Durango",
          "shape": "person",
          "tono_de_color_de_piel": 2
         },
         {
          "cuenta": 4,
          "estratos": "2) Medio Bajo",
          "nom_entidad": "Durango",
          "shape": "person",
          "tono_de_color_de_piel": 3
         },
         {
          "cuenta": 10,
          "estratos": "2) Medio Bajo",
          "nom_entidad": "Durango",
          "shape": "person",
          "tono_de_color_de_piel": 4
         },
         {
          "cuenta": 13,
          "estratos": "2) Medio Bajo",
          "nom_entidad": "Durango",
          "shape": "person",
          "tono_de_color_de_piel": 5
         },
         {
          "cuenta": 47,
          "estratos": "2) Medio Bajo",
          "nom_entidad": "Durango",
          "shape": "person",
          "tono_de_color_de_piel": 6
         },
         {
          "cuenta": 149,
          "estratos": "2) Medio Bajo",
          "nom_entidad": "Durango",
          "shape": "person",
          "tono_de_color_de_piel": 7
         },
         {
          "cuenta": 193,
          "estratos": "2) Medio Bajo",
          "nom_entidad": "Durango",
          "shape": "person",
          "tono_de_color_de_piel": 8
         },
         {
          "cuenta": 16,
          "estratos": "2) Medio Bajo",
          "nom_entidad": "Durango",
          "shape": "person",
          "tono_de_color_de_piel": 9
         },
         {
          "cuenta": 17,
          "estratos": "2) Medio Bajo",
          "nom_entidad": "Durango",
          "shape": "person",
          "tono_de_color_de_piel": 10
         },
         {
          "cuenta": 9,
          "estratos": "2) Medio Bajo",
          "nom_entidad": "Durango",
          "shape": "person",
          "tono_de_color_de_piel": 11
         },
         {
          "cuenta": 2,
          "estratos": "3) Medio Alto",
          "nom_entidad": "Durango",
          "shape": "person",
          "tono_de_color_de_piel": 3
         },
         {
          "cuenta": 3,
          "estratos": "3) Medio Alto",
          "nom_entidad": "Durango",
          "shape": "person",
          "tono_de_color_de_piel": 4
         },
         {
          "cuenta": 2,
          "estratos": "3) Medio Alto",
          "nom_entidad": "Durango",
          "shape": "person",
          "tono_de_color_de_piel": 5
         },
         {
          "cuenta": 14,
          "estratos": "3) Medio Alto",
          "nom_entidad": "Durango",
          "shape": "person",
          "tono_de_color_de_piel": 6
         },
         {
          "cuenta": 44,
          "estratos": "3) Medio Alto",
          "nom_entidad": "Durango",
          "shape": "person",
          "tono_de_color_de_piel": 7
         },
         {
          "cuenta": 93,
          "estratos": "3) Medio Alto",
          "nom_entidad": "Durango",
          "shape": "person",
          "tono_de_color_de_piel": 8
         },
         {
          "cuenta": 10,
          "estratos": "3) Medio Alto",
          "nom_entidad": "Durango",
          "shape": "person",
          "tono_de_color_de_piel": 9
         },
         {
          "cuenta": 12,
          "estratos": "3) Medio Alto",
          "nom_entidad": "Durango",
          "shape": "person",
          "tono_de_color_de_piel": 10
         },
         {
          "cuenta": 2,
          "estratos": "3) Medio Alto",
          "nom_entidad": "Durango",
          "shape": "person",
          "tono_de_color_de_piel": 11
         },
         {
          "cuenta": 2,
          "estratos": "4) Alto",
          "nom_entidad": "Durango",
          "shape": "person",
          "tono_de_color_de_piel": 5
         },
         {
          "cuenta": 5,
          "estratos": "4) Alto",
          "nom_entidad": "Durango",
          "shape": "person",
          "tono_de_color_de_piel": 6
         },
         {
          "cuenta": 15,
          "estratos": "4) Alto",
          "nom_entidad": "Durango",
          "shape": "person",
          "tono_de_color_de_piel": 7
         },
         {
          "cuenta": 25,
          "estratos": "4) Alto",
          "nom_entidad": "Durango",
          "shape": "person",
          "tono_de_color_de_piel": 8
         },
         {
          "cuenta": 2,
          "estratos": "4) Alto",
          "nom_entidad": "Durango",
          "shape": "person",
          "tono_de_color_de_piel": 9
         },
         {
          "cuenta": 2,
          "estratos": "4) Alto",
          "nom_entidad": "Durango",
          "shape": "person",
          "tono_de_color_de_piel": 10
         },
         {
          "cuenta": 3,
          "estratos": "4) Alto",
          "nom_entidad": "Durango",
          "shape": "person",
          "tono_de_color_de_piel": 11
         },
         {
          "cuenta": 1,
          "estratos": "1) Bajo",
          "nom_entidad": "Guanajuato",
          "shape": "person",
          "tono_de_color_de_piel": 2
         },
         {
          "cuenta": 1,
          "estratos": "1) Bajo",
          "nom_entidad": "Guanajuato",
          "shape": "person",
          "tono_de_color_de_piel": 3
         },
         {
          "cuenta": 4,
          "estratos": "1) Bajo",
          "nom_entidad": "Guanajuato",
          "shape": "person",
          "tono_de_color_de_piel": 4
         },
         {
          "cuenta": 11,
          "estratos": "1) Bajo",
          "nom_entidad": "Guanajuato",
          "shape": "person",
          "tono_de_color_de_piel": 5
         },
         {
          "cuenta": 25,
          "estratos": "1) Bajo",
          "nom_entidad": "Guanajuato",
          "shape": "person",
          "tono_de_color_de_piel": 6
         },
         {
          "cuenta": 36,
          "estratos": "1) Bajo",
          "nom_entidad": "Guanajuato",
          "shape": "person",
          "tono_de_color_de_piel": 7
         },
         {
          "cuenta": 32,
          "estratos": "1) Bajo",
          "nom_entidad": "Guanajuato",
          "shape": "person",
          "tono_de_color_de_piel": 8
         },
         {
          "cuenta": 7,
          "estratos": "1) Bajo",
          "nom_entidad": "Guanajuato",
          "shape": "person",
          "tono_de_color_de_piel": 9
         },
         {
          "cuenta": 8,
          "estratos": "1) Bajo",
          "nom_entidad": "Guanajuato",
          "shape": "person",
          "tono_de_color_de_piel": 10
         },
         {
          "cuenta": 2,
          "estratos": "1) Bajo",
          "nom_entidad": "Guanajuato",
          "shape": "person",
          "tono_de_color_de_piel": 11
         },
         {
          "cuenta": 1,
          "estratos": "2) Medio Bajo",
          "nom_entidad": "Guanajuato",
          "shape": "person",
          "tono_de_color_de_piel": 1
         },
         {
          "cuenta": 4,
          "estratos": "2) Medio Bajo",
          "nom_entidad": "Guanajuato",
          "shape": "person",
          "tono_de_color_de_piel": 2
         },
         {
          "cuenta": 4,
          "estratos": "2) Medio Bajo",
          "nom_entidad": "Guanajuato",
          "shape": "person",
          "tono_de_color_de_piel": 3
         },
         {
          "cuenta": 23,
          "estratos": "2) Medio Bajo",
          "nom_entidad": "Guanajuato",
          "shape": "person",
          "tono_de_color_de_piel": 4
         },
         {
          "cuenta": 22,
          "estratos": "2) Medio Bajo",
          "nom_entidad": "Guanajuato",
          "shape": "person",
          "tono_de_color_de_piel": 5
         },
         {
          "cuenta": 116,
          "estratos": "2) Medio Bajo",
          "nom_entidad": "Guanajuato",
          "shape": "person",
          "tono_de_color_de_piel": 6
         },
         {
          "cuenta": 162,
          "estratos": "2) Medio Bajo",
          "nom_entidad": "Guanajuato",
          "shape": "person",
          "tono_de_color_de_piel": 7
         },
         {
          "cuenta": 169,
          "estratos": "2) Medio Bajo",
          "nom_entidad": "Guanajuato",
          "shape": "person",
          "tono_de_color_de_piel": 8
         },
         {
          "cuenta": 23,
          "estratos": "2) Medio Bajo",
          "nom_entidad": "Guanajuato",
          "shape": "person",
          "tono_de_color_de_piel": 9
         },
         {
          "cuenta": 25,
          "estratos": "2) Medio Bajo",
          "nom_entidad": "Guanajuato",
          "shape": "person",
          "tono_de_color_de_piel": 10
         },
         {
          "cuenta": 6,
          "estratos": "2) Medio Bajo",
          "nom_entidad": "Guanajuato",
          "shape": "person",
          "tono_de_color_de_piel": 11
         },
         {
          "cuenta": 1,
          "estratos": "3) Medio Alto",
          "nom_entidad": "Guanajuato",
          "shape": "person",
          "tono_de_color_de_piel": 3
         },
         {
          "cuenta": 4,
          "estratos": "3) Medio Alto",
          "nom_entidad": "Guanajuato",
          "shape": "person",
          "tono_de_color_de_piel": 4
         },
         {
          "cuenta": 5,
          "estratos": "3) Medio Alto",
          "nom_entidad": "Guanajuato",
          "shape": "person",
          "tono_de_color_de_piel": 5
         },
         {
          "cuenta": 31,
          "estratos": "3) Medio Alto",
          "nom_entidad": "Guanajuato",
          "shape": "person",
          "tono_de_color_de_piel": 6
         },
         {
          "cuenta": 53,
          "estratos": "3) Medio Alto",
          "nom_entidad": "Guanajuato",
          "shape": "person",
          "tono_de_color_de_piel": 7
         },
         {
          "cuenta": 63,
          "estratos": "3) Medio Alto",
          "nom_entidad": "Guanajuato",
          "shape": "person",
          "tono_de_color_de_piel": 8
         },
         {
          "cuenta": 10,
          "estratos": "3) Medio Alto",
          "nom_entidad": "Guanajuato",
          "shape": "person",
          "tono_de_color_de_piel": 9
         },
         {
          "cuenta": 5,
          "estratos": "3) Medio Alto",
          "nom_entidad": "Guanajuato",
          "shape": "person",
          "tono_de_color_de_piel": 10
         },
         {
          "cuenta": 4,
          "estratos": "3) Medio Alto",
          "nom_entidad": "Guanajuato",
          "shape": "person",
          "tono_de_color_de_piel": 11
         },
         {
          "cuenta": 2,
          "estratos": "4) Alto",
          "nom_entidad": "Guanajuato",
          "shape": "person",
          "tono_de_color_de_piel": 4
         },
         {
          "cuenta": 1,
          "estratos": "4) Alto",
          "nom_entidad": "Guanajuato",
          "shape": "person",
          "tono_de_color_de_piel": 5
         },
         {
          "cuenta": 8,
          "estratos": "4) Alto",
          "nom_entidad": "Guanajuato",
          "shape": "person",
          "tono_de_color_de_piel": 6
         },
         {
          "cuenta": 12,
          "estratos": "4) Alto",
          "nom_entidad": "Guanajuato",
          "shape": "person",
          "tono_de_color_de_piel": 7
         },
         {
          "cuenta": 24,
          "estratos": "4) Alto",
          "nom_entidad": "Guanajuato",
          "shape": "person",
          "tono_de_color_de_piel": 8
         },
         {
          "cuenta": 4,
          "estratos": "4) Alto",
          "nom_entidad": "Guanajuato",
          "shape": "person",
          "tono_de_color_de_piel": 9
         },
         {
          "cuenta": 3,
          "estratos": "4) Alto",
          "nom_entidad": "Guanajuato",
          "shape": "person",
          "tono_de_color_de_piel": 10
         },
         {
          "cuenta": 1,
          "estratos": "4) Alto",
          "nom_entidad": "Guanajuato",
          "shape": "person",
          "tono_de_color_de_piel": 11
         },
         {
          "cuenta": 4,
          "estratos": "1) Bajo",
          "nom_entidad": "Guerrero",
          "shape": "person",
          "tono_de_color_de_piel": 1
         },
         {
          "cuenta": 9,
          "estratos": "1) Bajo",
          "nom_entidad": "Guerrero",
          "shape": "person",
          "tono_de_color_de_piel": 2
         },
         {
          "cuenta": 11,
          "estratos": "1) Bajo",
          "nom_entidad": "Guerrero",
          "shape": "person",
          "tono_de_color_de_piel": 3
         },
         {
          "cuenta": 36,
          "estratos": "1) Bajo",
          "nom_entidad": "Guerrero",
          "shape": "person",
          "tono_de_color_de_piel": 4
         },
         {
          "cuenta": 22,
          "estratos": "1) Bajo",
          "nom_entidad": "Guerrero",
          "shape": "person",
          "tono_de_color_de_piel": 5
         },
         {
          "cuenta": 81,
          "estratos": "1) Bajo",
          "nom_entidad": "Guerrero",
          "shape": "person",
          "tono_de_color_de_piel": 6
         },
         {
          "cuenta": 147,
          "estratos": "1) Bajo",
          "nom_entidad": "Guerrero",
          "shape": "person",
          "tono_de_color_de_piel": 7
         },
         {
          "cuenta": 99,
          "estratos": "1) Bajo",
          "nom_entidad": "Guerrero",
          "shape": "person",
          "tono_de_color_de_piel": 8
         },
         {
          "cuenta": 9,
          "estratos": "1) Bajo",
          "nom_entidad": "Guerrero",
          "shape": "person",
          "tono_de_color_de_piel": 9
         },
         {
          "cuenta": 13,
          "estratos": "1) Bajo",
          "nom_entidad": "Guerrero",
          "shape": "person",
          "tono_de_color_de_piel": 10
         },
         {
          "cuenta": 9,
          "estratos": "1) Bajo",
          "nom_entidad": "Guerrero",
          "shape": "person",
          "tono_de_color_de_piel": 11
         },
         {
          "cuenta": 1,
          "estratos": "2) Medio Bajo",
          "nom_entidad": "Guerrero",
          "shape": "person",
          "tono_de_color_de_piel": 1
         },
         {
          "cuenta": 1,
          "estratos": "2) Medio Bajo",
          "nom_entidad": "Guerrero",
          "shape": "person",
          "tono_de_color_de_piel": 2
         },
         {
          "cuenta": 3,
          "estratos": "2) Medio Bajo",
          "nom_entidad": "Guerrero",
          "shape": "person",
          "tono_de_color_de_piel": 3
         },
         {
          "cuenta": 13,
          "estratos": "2) Medio Bajo",
          "nom_entidad": "Guerrero",
          "shape": "person",
          "tono_de_color_de_piel": 4
         },
         {
          "cuenta": 9,
          "estratos": "2) Medio Bajo",
          "nom_entidad": "Guerrero",
          "shape": "person",
          "tono_de_color_de_piel": 5
         },
         {
          "cuenta": 46,
          "estratos": "2) Medio Bajo",
          "nom_entidad": "Guerrero",
          "shape": "person",
          "tono_de_color_de_piel": 6
         },
         {
          "cuenta": 101,
          "estratos": "2) Medio Bajo",
          "nom_entidad": "Guerrero",
          "shape": "person",
          "tono_de_color_de_piel": 7
         },
         {
          "cuenta": 57,
          "estratos": "2) Medio Bajo",
          "nom_entidad": "Guerrero",
          "shape": "person",
          "tono_de_color_de_piel": 8
         },
         {
          "cuenta": 9,
          "estratos": "2) Medio Bajo",
          "nom_entidad": "Guerrero",
          "shape": "person",
          "tono_de_color_de_piel": 9
         },
         {
          "cuenta": 9,
          "estratos": "2) Medio Bajo",
          "nom_entidad": "Guerrero",
          "shape": "person",
          "tono_de_color_de_piel": 10
         },
         {
          "cuenta": 4,
          "estratos": "2) Medio Bajo",
          "nom_entidad": "Guerrero",
          "shape": "person",
          "tono_de_color_de_piel": 11
         },
         {
          "cuenta": 1,
          "estratos": "3) Medio Alto",
          "nom_entidad": "Guerrero",
          "shape": "person",
          "tono_de_color_de_piel": 5
         },
         {
          "cuenta": 2,
          "estratos": "3) Medio Alto",
          "nom_entidad": "Guerrero",
          "shape": "person",
          "tono_de_color_de_piel": 6
         },
         {
          "cuenta": 9,
          "estratos": "3) Medio Alto",
          "nom_entidad": "Guerrero",
          "shape": "person",
          "tono_de_color_de_piel": 7
         },
         {
          "cuenta": 24,
          "estratos": "3) Medio Alto",
          "nom_entidad": "Guerrero",
          "shape": "person",
          "tono_de_color_de_piel": 8
         },
         {
          "cuenta": 1,
          "estratos": "3) Medio Alto",
          "nom_entidad": "Guerrero",
          "shape": "person",
          "tono_de_color_de_piel": 9
         },
         {
          "cuenta": 1,
          "estratos": "4) Alto",
          "nom_entidad": "Guerrero",
          "shape": "person",
          "tono_de_color_de_piel": 6
         },
         {
          "cuenta": 1,
          "estratos": "4) Alto",
          "nom_entidad": "Guerrero",
          "shape": "person",
          "tono_de_color_de_piel": 7
         },
         {
          "cuenta": 3,
          "estratos": "4) Alto",
          "nom_entidad": "Guerrero",
          "shape": "person",
          "tono_de_color_de_piel": 8
         },
         {
          "cuenta": 2,
          "estratos": "1) Bajo",
          "nom_entidad": "Hidalgo",
          "shape": "person",
          "tono_de_color_de_piel": 1
         },
         {
          "cuenta": 3,
          "estratos": "1) Bajo",
          "nom_entidad": "Hidalgo",
          "shape": "person",
          "tono_de_color_de_piel": 3
         },
         {
          "cuenta": 13,
          "estratos": "1) Bajo",
          "nom_entidad": "Hidalgo",
          "shape": "person",
          "tono_de_color_de_piel": 4
         },
         {
          "cuenta": 9,
          "estratos": "1) Bajo",
          "nom_entidad": "Hidalgo",
          "shape": "person",
          "tono_de_color_de_piel": 5
         },
         {
          "cuenta": 32,
          "estratos": "1) Bajo",
          "nom_entidad": "Hidalgo",
          "shape": "person",
          "tono_de_color_de_piel": 6
         },
         {
          "cuenta": 65,
          "estratos": "1) Bajo",
          "nom_entidad": "Hidalgo",
          "shape": "person",
          "tono_de_color_de_piel": 7
         },
         {
          "cuenta": 64,
          "estratos": "1) Bajo",
          "nom_entidad": "Hidalgo",
          "shape": "person",
          "tono_de_color_de_piel": 8
         },
         {
          "cuenta": 10,
          "estratos": "1) Bajo",
          "nom_entidad": "Hidalgo",
          "shape": "person",
          "tono_de_color_de_piel": 9
         },
         {
          "cuenta": 10,
          "estratos": "1) Bajo",
          "nom_entidad": "Hidalgo",
          "shape": "person",
          "tono_de_color_de_piel": 10
         },
         {
          "cuenta": 3,
          "estratos": "1) Bajo",
          "nom_entidad": "Hidalgo",
          "shape": "person",
          "tono_de_color_de_piel": 11
         },
         {
          "cuenta": 1,
          "estratos": "2) Medio Bajo",
          "nom_entidad": "Hidalgo",
          "shape": "person",
          "tono_de_color_de_piel": 1
         },
         {
          "cuenta": 3,
          "estratos": "2) Medio Bajo",
          "nom_entidad": "Hidalgo",
          "shape": "person",
          "tono_de_color_de_piel": 3
         },
         {
          "cuenta": 19,
          "estratos": "2) Medio Bajo",
          "nom_entidad": "Hidalgo",
          "shape": "person",
          "tono_de_color_de_piel": 4
         },
         {
          "cuenta": 10,
          "estratos": "2) Medio Bajo",
          "nom_entidad": "Hidalgo",
          "shape": "person",
          "tono_de_color_de_piel": 5
         },
         {
          "cuenta": 85,
          "estratos": "2) Medio Bajo",
          "nom_entidad": "Hidalgo",
          "shape": "person",
          "tono_de_color_de_piel": 6
         },
         {
          "cuenta": 156,
          "estratos": "2) Medio Bajo",
          "nom_entidad": "Hidalgo",
          "shape": "person",
          "tono_de_color_de_piel": 7
         },
         {
          "cuenta": 154,
          "estratos": "2) Medio Bajo",
          "nom_entidad": "Hidalgo",
          "shape": "person",
          "tono_de_color_de_piel": 8
         },
         {
          "cuenta": 28,
          "estratos": "2) Medio Bajo",
          "nom_entidad": "Hidalgo",
          "shape": "person",
          "tono_de_color_de_piel": 9
         },
         {
          "cuenta": 27,
          "estratos": "2) Medio Bajo",
          "nom_entidad": "Hidalgo",
          "shape": "person",
          "tono_de_color_de_piel": 10
         },
         {
          "cuenta": 1,
          "estratos": "2) Medio Bajo",
          "nom_entidad": "Hidalgo",
          "shape": "person",
          "tono_de_color_de_piel": 11
         },
         {
          "cuenta": 1,
          "estratos": "3) Medio Alto",
          "nom_entidad": "Hidalgo",
          "shape": "person",
          "tono_de_color_de_piel": 6
         },
         {
          "cuenta": 14,
          "estratos": "3) Medio Alto",
          "nom_entidad": "Hidalgo",
          "shape": "person",
          "tono_de_color_de_piel": 7
         },
         {
          "cuenta": 16,
          "estratos": "3) Medio Alto",
          "nom_entidad": "Hidalgo",
          "shape": "person",
          "tono_de_color_de_piel": 8
         },
         {
          "cuenta": 3,
          "estratos": "3) Medio Alto",
          "nom_entidad": "Hidalgo",
          "shape": "person",
          "tono_de_color_de_piel": 9
         },
         {
          "cuenta": 3,
          "estratos": "3) Medio Alto",
          "nom_entidad": "Hidalgo",
          "shape": "person",
          "tono_de_color_de_piel": 10
         },
         {
          "cuenta": 2,
          "estratos": "3) Medio Alto",
          "nom_entidad": "Hidalgo",
          "shape": "person",
          "tono_de_color_de_piel": 11
         },
         {
          "cuenta": 2,
          "estratos": "4) Alto",
          "nom_entidad": "Hidalgo",
          "shape": "person",
          "tono_de_color_de_piel": 6
         },
         {
          "cuenta": 18,
          "estratos": "4) Alto",
          "nom_entidad": "Hidalgo",
          "shape": "person",
          "tono_de_color_de_piel": 7
         },
         {
          "cuenta": 9,
          "estratos": "4) Alto",
          "nom_entidad": "Hidalgo",
          "shape": "person",
          "tono_de_color_de_piel": 8
         },
         {
          "cuenta": 4,
          "estratos": "4) Alto",
          "nom_entidad": "Hidalgo",
          "shape": "person",
          "tono_de_color_de_piel": 9
         },
         {
          "cuenta": 1,
          "estratos": "4) Alto",
          "nom_entidad": "Hidalgo",
          "shape": "person",
          "tono_de_color_de_piel": 10
         },
         {
          "cuenta": 1,
          "estratos": "1) Bajo",
          "nom_entidad": "Jalisco",
          "shape": "person",
          "tono_de_color_de_piel": 3
         },
         {
          "cuenta": 1,
          "estratos": "1) Bajo",
          "nom_entidad": "Jalisco",
          "shape": "person",
          "tono_de_color_de_piel": 4
         },
         {
          "cuenta": 1,
          "estratos": "1) Bajo",
          "nom_entidad": "Jalisco",
          "shape": "person",
          "tono_de_color_de_piel": 5
         },
         {
          "cuenta": 1,
          "estratos": "1) Bajo",
          "nom_entidad": "Jalisco",
          "shape": "person",
          "tono_de_color_de_piel": 6
         },
         {
          "cuenta": 8,
          "estratos": "1) Bajo",
          "nom_entidad": "Jalisco",
          "shape": "person",
          "tono_de_color_de_piel": 7
         },
         {
          "cuenta": 12,
          "estratos": "1) Bajo",
          "nom_entidad": "Jalisco",
          "shape": "person",
          "tono_de_color_de_piel": 8
         },
         {
          "cuenta": 3,
          "estratos": "1) Bajo",
          "nom_entidad": "Jalisco",
          "shape": "person",
          "tono_de_color_de_piel": 10
         },
         {
          "cuenta": 2,
          "estratos": "2) Medio Bajo",
          "nom_entidad": "Jalisco",
          "shape": "person",
          "tono_de_color_de_piel": 2
         },
         {
          "cuenta": 3,
          "estratos": "2) Medio Bajo",
          "nom_entidad": "Jalisco",
          "shape": "person",
          "tono_de_color_de_piel": 3
         },
         {
          "cuenta": 13,
          "estratos": "2) Medio Bajo",
          "nom_entidad": "Jalisco",
          "shape": "person",
          "tono_de_color_de_piel": 4
         },
         {
          "cuenta": 10,
          "estratos": "2) Medio Bajo",
          "nom_entidad": "Jalisco",
          "shape": "person",
          "tono_de_color_de_piel": 5
         },
         {
          "cuenta": 47,
          "estratos": "2) Medio Bajo",
          "nom_entidad": "Jalisco",
          "shape": "person",
          "tono_de_color_de_piel": 6
         },
         {
          "cuenta": 110,
          "estratos": "2) Medio Bajo",
          "nom_entidad": "Jalisco",
          "shape": "person",
          "tono_de_color_de_piel": 7
         },
         {
          "cuenta": 190,
          "estratos": "2) Medio Bajo",
          "nom_entidad": "Jalisco",
          "shape": "person",
          "tono_de_color_de_piel": 8
         },
         {
          "cuenta": 25,
          "estratos": "2) Medio Bajo",
          "nom_entidad": "Jalisco",
          "shape": "person",
          "tono_de_color_de_piel": 9
         },
         {
          "cuenta": 28,
          "estratos": "2) Medio Bajo",
          "nom_entidad": "Jalisco",
          "shape": "person",
          "tono_de_color_de_piel": 10
         },
         {
          "cuenta": 2,
          "estratos": "2) Medio Bajo",
          "nom_entidad": "Jalisco",
          "shape": "person",
          "tono_de_color_de_piel": 11
         },
         {
          "cuenta": 7,
          "estratos": "3) Medio Alto",
          "nom_entidad": "Jalisco",
          "shape": "person",
          "tono_de_color_de_piel": 4
         },
         {
          "cuenta": 7,
          "estratos": "3) Medio Alto",
          "nom_entidad": "Jalisco",
          "shape": "person",
          "tono_de_color_de_piel": 5
         },
         {
          "cuenta": 25,
          "estratos": "3) Medio Alto",
          "nom_entidad": "Jalisco",
          "shape": "person",
          "tono_de_color_de_piel": 6
         },
         {
          "cuenta": 78,
          "estratos": "3) Medio Alto",
          "nom_entidad": "Jalisco",
          "shape": "person",
          "tono_de_color_de_piel": 7
         },
         {
          "cuenta": 134,
          "estratos": "3) Medio Alto",
          "nom_entidad": "Jalisco",
          "shape": "person",
          "tono_de_color_de_piel": 8
         },
         {
          "cuenta": 23,
          "estratos": "3) Medio Alto",
          "nom_entidad": "Jalisco",
          "shape": "person",
          "tono_de_color_de_piel": 9
         },
         {
          "cuenta": 13,
          "estratos": "3) Medio Alto",
          "nom_entidad": "Jalisco",
          "shape": "person",
          "tono_de_color_de_piel": 10
         },
         {
          "cuenta": 6,
          "estratos": "3) Medio Alto",
          "nom_entidad": "Jalisco",
          "shape": "person",
          "tono_de_color_de_piel": 11
         },
         {
          "cuenta": 6,
          "estratos": "4) Alto",
          "nom_entidad": "Jalisco",
          "shape": "person",
          "tono_de_color_de_piel": 6
         },
         {
          "cuenta": 12,
          "estratos": "4) Alto",
          "nom_entidad": "Jalisco",
          "shape": "person",
          "tono_de_color_de_piel": 7
         },
         {
          "cuenta": 40,
          "estratos": "4) Alto",
          "nom_entidad": "Jalisco",
          "shape": "person",
          "tono_de_color_de_piel": 8
         },
         {
          "cuenta": 10,
          "estratos": "4) Alto",
          "nom_entidad": "Jalisco",
          "shape": "person",
          "tono_de_color_de_piel": 9
         },
         {
          "cuenta": 4,
          "estratos": "4) Alto",
          "nom_entidad": "Jalisco",
          "shape": "person",
          "tono_de_color_de_piel": 10
         },
         {
          "cuenta": 2,
          "estratos": "4) Alto",
          "nom_entidad": "Jalisco",
          "shape": "person",
          "tono_de_color_de_piel": 11
         },
         {
          "cuenta": 4,
          "estratos": "1) Bajo",
          "nom_entidad": "Michoacán de Ocampo",
          "shape": "person",
          "tono_de_color_de_piel": 2
         },
         {
          "cuenta": 4,
          "estratos": "1) Bajo",
          "nom_entidad": "Michoacán de Ocampo",
          "shape": "person",
          "tono_de_color_de_piel": 3
         },
         {
          "cuenta": 5,
          "estratos": "1) Bajo",
          "nom_entidad": "Michoacán de Ocampo",
          "shape": "person",
          "tono_de_color_de_piel": 4
         },
         {
          "cuenta": 7,
          "estratos": "1) Bajo",
          "nom_entidad": "Michoacán de Ocampo",
          "shape": "person",
          "tono_de_color_de_piel": 5
         },
         {
          "cuenta": 13,
          "estratos": "1) Bajo",
          "nom_entidad": "Michoacán de Ocampo",
          "shape": "person",
          "tono_de_color_de_piel": 6
         },
         {
          "cuenta": 37,
          "estratos": "1) Bajo",
          "nom_entidad": "Michoacán de Ocampo",
          "shape": "person",
          "tono_de_color_de_piel": 7
         },
         {
          "cuenta": 64,
          "estratos": "1) Bajo",
          "nom_entidad": "Michoacán de Ocampo",
          "shape": "person",
          "tono_de_color_de_piel": 8
         },
         {
          "cuenta": 3,
          "estratos": "1) Bajo",
          "nom_entidad": "Michoacán de Ocampo",
          "shape": "person",
          "tono_de_color_de_piel": 9
         },
         {
          "cuenta": 6,
          "estratos": "1) Bajo",
          "nom_entidad": "Michoacán de Ocampo",
          "shape": "person",
          "tono_de_color_de_piel": 10
         },
         {
          "cuenta": 1,
          "estratos": "1) Bajo",
          "nom_entidad": "Michoacán de Ocampo",
          "shape": "person",
          "tono_de_color_de_piel": 11
         },
         {
          "cuenta": 2,
          "estratos": "2) Medio Bajo",
          "nom_entidad": "Michoacán de Ocampo",
          "shape": "person",
          "tono_de_color_de_piel": 2
         },
         {
          "cuenta": 6,
          "estratos": "2) Medio Bajo",
          "nom_entidad": "Michoacán de Ocampo",
          "shape": "person",
          "tono_de_color_de_piel": 3
         },
         {
          "cuenta": 13,
          "estratos": "2) Medio Bajo",
          "nom_entidad": "Michoacán de Ocampo",
          "shape": "person",
          "tono_de_color_de_piel": 4
         },
         {
          "cuenta": 10,
          "estratos": "2) Medio Bajo",
          "nom_entidad": "Michoacán de Ocampo",
          "shape": "person",
          "tono_de_color_de_piel": 5
         },
         {
          "cuenta": 56,
          "estratos": "2) Medio Bajo",
          "nom_entidad": "Michoacán de Ocampo",
          "shape": "person",
          "tono_de_color_de_piel": 6
         },
         {
          "cuenta": 159,
          "estratos": "2) Medio Bajo",
          "nom_entidad": "Michoacán de Ocampo",
          "shape": "person",
          "tono_de_color_de_piel": 7
         },
         {
          "cuenta": 202,
          "estratos": "2) Medio Bajo",
          "nom_entidad": "Michoacán de Ocampo",
          "shape": "person",
          "tono_de_color_de_piel": 8
         },
         {
          "cuenta": 19,
          "estratos": "2) Medio Bajo",
          "nom_entidad": "Michoacán de Ocampo",
          "shape": "person",
          "tono_de_color_de_piel": 9
         },
         {
          "cuenta": 36,
          "estratos": "2) Medio Bajo",
          "nom_entidad": "Michoacán de Ocampo",
          "shape": "person",
          "tono_de_color_de_piel": 10
         },
         {
          "cuenta": 18,
          "estratos": "2) Medio Bajo",
          "nom_entidad": "Michoacán de Ocampo",
          "shape": "person",
          "tono_de_color_de_piel": 11
         },
         {
          "cuenta": 2,
          "estratos": "3) Medio Alto",
          "nom_entidad": "Michoacán de Ocampo",
          "shape": "person",
          "tono_de_color_de_piel": 3
         },
         {
          "cuenta": 1,
          "estratos": "3) Medio Alto",
          "nom_entidad": "Michoacán de Ocampo",
          "shape": "person",
          "tono_de_color_de_piel": 4
         },
         {
          "cuenta": 1,
          "estratos": "3) Medio Alto",
          "nom_entidad": "Michoacán de Ocampo",
          "shape": "person",
          "tono_de_color_de_piel": 5
         },
         {
          "cuenta": 5,
          "estratos": "3) Medio Alto",
          "nom_entidad": "Michoacán de Ocampo",
          "shape": "person",
          "tono_de_color_de_piel": 6
         },
         {
          "cuenta": 29,
          "estratos": "3) Medio Alto",
          "nom_entidad": "Michoacán de Ocampo",
          "shape": "person",
          "tono_de_color_de_piel": 7
         },
         {
          "cuenta": 46,
          "estratos": "3) Medio Alto",
          "nom_entidad": "Michoacán de Ocampo",
          "shape": "person",
          "tono_de_color_de_piel": 8
         },
         {
          "cuenta": 5,
          "estratos": "3) Medio Alto",
          "nom_entidad": "Michoacán de Ocampo",
          "shape": "person",
          "tono_de_color_de_piel": 9
         },
         {
          "cuenta": 5,
          "estratos": "3) Medio Alto",
          "nom_entidad": "Michoacán de Ocampo",
          "shape": "person",
          "tono_de_color_de_piel": 10
         },
         {
          "cuenta": 5,
          "estratos": "3) Medio Alto",
          "nom_entidad": "Michoacán de Ocampo",
          "shape": "person",
          "tono_de_color_de_piel": 11
         },
         {
          "cuenta": 1,
          "estratos": "4) Alto",
          "nom_entidad": "Michoacán de Ocampo",
          "shape": "person",
          "tono_de_color_de_piel": 5
         },
         {
          "cuenta": 4,
          "estratos": "4) Alto",
          "nom_entidad": "Michoacán de Ocampo",
          "shape": "person",
          "tono_de_color_de_piel": 6
         },
         {
          "cuenta": 4,
          "estratos": "4) Alto",
          "nom_entidad": "Michoacán de Ocampo",
          "shape": "person",
          "tono_de_color_de_piel": 7
         },
         {
          "cuenta": 9,
          "estratos": "4) Alto",
          "nom_entidad": "Michoacán de Ocampo",
          "shape": "person",
          "tono_de_color_de_piel": 8
         },
         {
          "cuenta": 1,
          "estratos": "4) Alto",
          "nom_entidad": "Michoacán de Ocampo",
          "shape": "person",
          "tono_de_color_de_piel": 9
         },
         {
          "cuenta": 2,
          "estratos": "4) Alto",
          "nom_entidad": "Michoacán de Ocampo",
          "shape": "person",
          "tono_de_color_de_piel": 10
         },
         {
          "cuenta": 1,
          "estratos": "4) Alto",
          "nom_entidad": "Michoacán de Ocampo",
          "shape": "person",
          "tono_de_color_de_piel": 11
         },
         {
          "cuenta": 2,
          "estratos": "1) Bajo",
          "nom_entidad": "Morelos",
          "shape": "person",
          "tono_de_color_de_piel": 2
         },
         {
          "cuenta": 3,
          "estratos": "1) Bajo",
          "nom_entidad": "Morelos",
          "shape": "person",
          "tono_de_color_de_piel": 3
         },
         {
          "cuenta": 8,
          "estratos": "1) Bajo",
          "nom_entidad": "Morelos",
          "shape": "person",
          "tono_de_color_de_piel": 4
         },
         {
          "cuenta": 9,
          "estratos": "1) Bajo",
          "nom_entidad": "Morelos",
          "shape": "person",
          "tono_de_color_de_piel": 5
         },
         {
          "cuenta": 23,
          "estratos": "1) Bajo",
          "nom_entidad": "Morelos",
          "shape": "person",
          "tono_de_color_de_piel": 6
         },
         {
          "cuenta": 35,
          "estratos": "1) Bajo",
          "nom_entidad": "Morelos",
          "shape": "person",
          "tono_de_color_de_piel": 7
         },
         {
          "cuenta": 22,
          "estratos": "1) Bajo",
          "nom_entidad": "Morelos",
          "shape": "person",
          "tono_de_color_de_piel": 8
         },
         {
          "cuenta": 2,
          "estratos": "1) Bajo",
          "nom_entidad": "Morelos",
          "shape": "person",
          "tono_de_color_de_piel": 10
         },
         {
          "cuenta": 1,
          "estratos": "2) Medio Bajo",
          "nom_entidad": "Morelos",
          "shape": "person",
          "tono_de_color_de_piel": 1
         },
         {
          "cuenta": 5,
          "estratos": "2) Medio Bajo",
          "nom_entidad": "Morelos",
          "shape": "person",
          "tono_de_color_de_piel": 2
         },
         {
          "cuenta": 6,
          "estratos": "2) Medio Bajo",
          "nom_entidad": "Morelos",
          "shape": "person",
          "tono_de_color_de_piel": 3
         },
         {
          "cuenta": 28,
          "estratos": "2) Medio Bajo",
          "nom_entidad": "Morelos",
          "shape": "person",
          "tono_de_color_de_piel": 4
         },
         {
          "cuenta": 17,
          "estratos": "2) Medio Bajo",
          "nom_entidad": "Morelos",
          "shape": "person",
          "tono_de_color_de_piel": 5
         },
         {
          "cuenta": 93,
          "estratos": "2) Medio Bajo",
          "nom_entidad": "Morelos",
          "shape": "person",
          "tono_de_color_de_piel": 6
         },
         {
          "cuenta": 193,
          "estratos": "2) Medio Bajo",
          "nom_entidad": "Morelos",
          "shape": "person",
          "tono_de_color_de_piel": 7
         },
         {
          "cuenta": 179,
          "estratos": "2) Medio Bajo",
          "nom_entidad": "Morelos",
          "shape": "person",
          "tono_de_color_de_piel": 8
         },
         {
          "cuenta": 14,
          "estratos": "2) Medio Bajo",
          "nom_entidad": "Morelos",
          "shape": "person",
          "tono_de_color_de_piel": 9
         },
         {
          "cuenta": 7,
          "estratos": "2) Medio Bajo",
          "nom_entidad": "Morelos",
          "shape": "person",
          "tono_de_color_de_piel": 10
         },
         {
          "cuenta": 2,
          "estratos": "3) Medio Alto",
          "nom_entidad": "Morelos",
          "shape": "person",
          "tono_de_color_de_piel": 4
         },
         {
          "cuenta": 6,
          "estratos": "3) Medio Alto",
          "nom_entidad": "Morelos",
          "shape": "person",
          "tono_de_color_de_piel": 5
         },
         {
          "cuenta": 25,
          "estratos": "3) Medio Alto",
          "nom_entidad": "Morelos",
          "shape": "person",
          "tono_de_color_de_piel": 6
         },
         {
          "cuenta": 35,
          "estratos": "3) Medio Alto",
          "nom_entidad": "Morelos",
          "shape": "person",
          "tono_de_color_de_piel": 7
         },
         {
          "cuenta": 43,
          "estratos": "3) Medio Alto",
          "nom_entidad": "Morelos",
          "shape": "person",
          "tono_de_color_de_piel": 8
         },
         {
          "cuenta": 2,
          "estratos": "3) Medio Alto",
          "nom_entidad": "Morelos",
          "shape": "person",
          "tono_de_color_de_piel": 9
         },
         {
          "cuenta": 5,
          "estratos": "3) Medio Alto",
          "nom_entidad": "Morelos",
          "shape": "person",
          "tono_de_color_de_piel": 10
         },
         {
          "cuenta": 2,
          "estratos": "3) Medio Alto",
          "nom_entidad": "Morelos",
          "shape": "person",
          "tono_de_color_de_piel": 11
         },
         {
          "cuenta": 1,
          "estratos": "4) Alto",
          "nom_entidad": "Morelos",
          "shape": "person",
          "tono_de_color_de_piel": 5
         },
         {
          "cuenta": 3,
          "estratos": "4) Alto",
          "nom_entidad": "Morelos",
          "shape": "person",
          "tono_de_color_de_piel": 6
         },
         {
          "cuenta": 7,
          "estratos": "4) Alto",
          "nom_entidad": "Morelos",
          "shape": "person",
          "tono_de_color_de_piel": 7
         },
         {
          "cuenta": 12,
          "estratos": "4) Alto",
          "nom_entidad": "Morelos",
          "shape": "person",
          "tono_de_color_de_piel": 8
         },
         {
          "cuenta": 2,
          "estratos": "4) Alto",
          "nom_entidad": "Morelos",
          "shape": "person",
          "tono_de_color_de_piel": 9
         },
         {
          "cuenta": 2,
          "estratos": "4) Alto",
          "nom_entidad": "Morelos",
          "shape": "person",
          "tono_de_color_de_piel": 11
         },
         {
          "cuenta": 2,
          "estratos": "1) Bajo",
          "nom_entidad": "México",
          "shape": "person",
          "tono_de_color_de_piel": 3
         },
         {
          "cuenta": 3,
          "estratos": "1) Bajo",
          "nom_entidad": "México",
          "shape": "person",
          "tono_de_color_de_piel": 4
         },
         {
          "cuenta": 2,
          "estratos": "1) Bajo",
          "nom_entidad": "México",
          "shape": "person",
          "tono_de_color_de_piel": 5
         },
         {
          "cuenta": 5,
          "estratos": "1) Bajo",
          "nom_entidad": "México",
          "shape": "person",
          "tono_de_color_de_piel": 6
         },
         {
          "cuenta": 24,
          "estratos": "1) Bajo",
          "nom_entidad": "México",
          "shape": "person",
          "tono_de_color_de_piel": 7
         },
         {
          "cuenta": 16,
          "estratos": "1) Bajo",
          "nom_entidad": "México",
          "shape": "person",
          "tono_de_color_de_piel": 8
         },
         {
          "cuenta": 3,
          "estratos": "1) Bajo",
          "nom_entidad": "México",
          "shape": "person",
          "tono_de_color_de_piel": 9
         },
         {
          "cuenta": 2,
          "estratos": "1) Bajo",
          "nom_entidad": "México",
          "shape": "person",
          "tono_de_color_de_piel": 10
         },
         {
          "cuenta": 3,
          "estratos": "1) Bajo",
          "nom_entidad": "México",
          "shape": "person",
          "tono_de_color_de_piel": 11
         },
         {
          "cuenta": 1,
          "estratos": "2) Medio Bajo",
          "nom_entidad": "México",
          "shape": "person",
          "tono_de_color_de_piel": 2
         },
         {
          "cuenta": 4,
          "estratos": "2) Medio Bajo",
          "nom_entidad": "México",
          "shape": "person",
          "tono_de_color_de_piel": 3
         },
         {
          "cuenta": 6,
          "estratos": "2) Medio Bajo",
          "nom_entidad": "México",
          "shape": "person",
          "tono_de_color_de_piel": 4
         },
         {
          "cuenta": 13,
          "estratos": "2) Medio Bajo",
          "nom_entidad": "México",
          "shape": "person",
          "tono_de_color_de_piel": 5
         },
         {
          "cuenta": 65,
          "estratos": "2) Medio Bajo",
          "nom_entidad": "México",
          "shape": "person",
          "tono_de_color_de_piel": 6
         },
         {
          "cuenta": 165,
          "estratos": "2) Medio Bajo",
          "nom_entidad": "México",
          "shape": "person",
          "tono_de_color_de_piel": 7
         },
         {
          "cuenta": 234,
          "estratos": "2) Medio Bajo",
          "nom_entidad": "México",
          "shape": "person",
          "tono_de_color_de_piel": 8
         },
         {
          "cuenta": 29,
          "estratos": "2) Medio Bajo",
          "nom_entidad": "México",
          "shape": "person",
          "tono_de_color_de_piel": 9
         },
         {
          "cuenta": 26,
          "estratos": "2) Medio Bajo",
          "nom_entidad": "México",
          "shape": "person",
          "tono_de_color_de_piel": 10
         },
         {
          "cuenta": 8,
          "estratos": "2) Medio Bajo",
          "nom_entidad": "México",
          "shape": "person",
          "tono_de_color_de_piel": 11
         },
         {
          "cuenta": 1,
          "estratos": "3) Medio Alto",
          "nom_entidad": "México",
          "shape": "person",
          "tono_de_color_de_piel": 2
         },
         {
          "cuenta": 1,
          "estratos": "3) Medio Alto",
          "nom_entidad": "México",
          "shape": "person",
          "tono_de_color_de_piel": 3
         },
         {
          "cuenta": 1,
          "estratos": "3) Medio Alto",
          "nom_entidad": "México",
          "shape": "person",
          "tono_de_color_de_piel": 4
         },
         {
          "cuenta": 1,
          "estratos": "3) Medio Alto",
          "nom_entidad": "México",
          "shape": "person",
          "tono_de_color_de_piel": 5
         },
         {
          "cuenta": 8,
          "estratos": "3) Medio Alto",
          "nom_entidad": "México",
          "shape": "person",
          "tono_de_color_de_piel": 6
         },
         {
          "cuenta": 37,
          "estratos": "3) Medio Alto",
          "nom_entidad": "México",
          "shape": "person",
          "tono_de_color_de_piel": 7
         },
         {
          "cuenta": 73,
          "estratos": "3) Medio Alto",
          "nom_entidad": "México",
          "shape": "person",
          "tono_de_color_de_piel": 8
         },
         {
          "cuenta": 12,
          "estratos": "3) Medio Alto",
          "nom_entidad": "México",
          "shape": "person",
          "tono_de_color_de_piel": 9
         },
         {
          "cuenta": 8,
          "estratos": "3) Medio Alto",
          "nom_entidad": "México",
          "shape": "person",
          "tono_de_color_de_piel": 10
         },
         {
          "cuenta": 6,
          "estratos": "3) Medio Alto",
          "nom_entidad": "México",
          "shape": "person",
          "tono_de_color_de_piel": 11
         },
         {
          "cuenta": 1,
          "estratos": "4) Alto",
          "nom_entidad": "México",
          "shape": "person",
          "tono_de_color_de_piel": 2
         },
         {
          "cuenta": 1,
          "estratos": "4) Alto",
          "nom_entidad": "México",
          "shape": "person",
          "tono_de_color_de_piel": 3
         },
         {
          "cuenta": 1,
          "estratos": "4) Alto",
          "nom_entidad": "México",
          "shape": "person",
          "tono_de_color_de_piel": 4
         },
         {
          "cuenta": 3,
          "estratos": "4) Alto",
          "nom_entidad": "México",
          "shape": "person",
          "tono_de_color_de_piel": 5
         },
         {
          "cuenta": 5,
          "estratos": "4) Alto",
          "nom_entidad": "México",
          "shape": "person",
          "tono_de_color_de_piel": 6
         },
         {
          "cuenta": 23,
          "estratos": "4) Alto",
          "nom_entidad": "México",
          "shape": "person",
          "tono_de_color_de_piel": 7
         },
         {
          "cuenta": 36,
          "estratos": "4) Alto",
          "nom_entidad": "México",
          "shape": "person",
          "tono_de_color_de_piel": 8
         },
         {
          "cuenta": 5,
          "estratos": "4) Alto",
          "nom_entidad": "México",
          "shape": "person",
          "tono_de_color_de_piel": 9
         },
         {
          "cuenta": 5,
          "estratos": "4) Alto",
          "nom_entidad": "México",
          "shape": "person",
          "tono_de_color_de_piel": 10
         },
         {
          "cuenta": 5,
          "estratos": "4) Alto",
          "nom_entidad": "México",
          "shape": "person",
          "tono_de_color_de_piel": 11
         },
         {
          "cuenta": 2,
          "estratos": "1) Bajo",
          "nom_entidad": "Nayarit",
          "shape": "person",
          "tono_de_color_de_piel": 1
         },
         {
          "cuenta": 1,
          "estratos": "1) Bajo",
          "nom_entidad": "Nayarit",
          "shape": "person",
          "tono_de_color_de_piel": 2
         },
         {
          "cuenta": 1,
          "estratos": "1) Bajo",
          "nom_entidad": "Nayarit",
          "shape": "person",
          "tono_de_color_de_piel": 3
         },
         {
          "cuenta": 1,
          "estratos": "1) Bajo",
          "nom_entidad": "Nayarit",
          "shape": "person",
          "tono_de_color_de_piel": 4
         },
         {
          "cuenta": 5,
          "estratos": "1) Bajo",
          "nom_entidad": "Nayarit",
          "shape": "person",
          "tono_de_color_de_piel": 5
         },
         {
          "cuenta": 20,
          "estratos": "1) Bajo",
          "nom_entidad": "Nayarit",
          "shape": "person",
          "tono_de_color_de_piel": 6
         },
         {
          "cuenta": 35,
          "estratos": "1) Bajo",
          "nom_entidad": "Nayarit",
          "shape": "person",
          "tono_de_color_de_piel": 7
         },
         {
          "cuenta": 13,
          "estratos": "1) Bajo",
          "nom_entidad": "Nayarit",
          "shape": "person",
          "tono_de_color_de_piel": 8
         },
         {
          "cuenta": 2,
          "estratos": "1) Bajo",
          "nom_entidad": "Nayarit",
          "shape": "person",
          "tono_de_color_de_piel": 9
         },
         {
          "cuenta": 2,
          "estratos": "1) Bajo",
          "nom_entidad": "Nayarit",
          "shape": "person",
          "tono_de_color_de_piel": 10
         },
         {
          "cuenta": 4,
          "estratos": "1) Bajo",
          "nom_entidad": "Nayarit",
          "shape": "person",
          "tono_de_color_de_piel": 11
         },
         {
          "cuenta": 1,
          "estratos": "2) Medio Bajo",
          "nom_entidad": "Nayarit",
          "shape": "person",
          "tono_de_color_de_piel": 2
         },
         {
          "cuenta": 4,
          "estratos": "2) Medio Bajo",
          "nom_entidad": "Nayarit",
          "shape": "person",
          "tono_de_color_de_piel": 3
         },
         {
          "cuenta": 8,
          "estratos": "2) Medio Bajo",
          "nom_entidad": "Nayarit",
          "shape": "person",
          "tono_de_color_de_piel": 4
         },
         {
          "cuenta": 14,
          "estratos": "2) Medio Bajo",
          "nom_entidad": "Nayarit",
          "shape": "person",
          "tono_de_color_de_piel": 5
         },
         {
          "cuenta": 60,
          "estratos": "2) Medio Bajo",
          "nom_entidad": "Nayarit",
          "shape": "person",
          "tono_de_color_de_piel": 6
         },
         {
          "cuenta": 151,
          "estratos": "2) Medio Bajo",
          "nom_entidad": "Nayarit",
          "shape": "person",
          "tono_de_color_de_piel": 7
         },
         {
          "cuenta": 212,
          "estratos": "2) Medio Bajo",
          "nom_entidad": "Nayarit",
          "shape": "person",
          "tono_de_color_de_piel": 8
         },
         {
          "cuenta": 11,
          "estratos": "2) Medio Bajo",
          "nom_entidad": "Nayarit",
          "shape": "person",
          "tono_de_color_de_piel": 9
         },
         {
          "cuenta": 16,
          "estratos": "2) Medio Bajo",
          "nom_entidad": "Nayarit",
          "shape": "person",
          "tono_de_color_de_piel": 10
         },
         {
          "cuenta": 19,
          "estratos": "2) Medio Bajo",
          "nom_entidad": "Nayarit",
          "shape": "person",
          "tono_de_color_de_piel": 11
         },
         {
          "cuenta": 4,
          "estratos": "3) Medio Alto",
          "nom_entidad": "Nayarit",
          "shape": "person",
          "tono_de_color_de_piel": 4
         },
         {
          "cuenta": 2,
          "estratos": "3) Medio Alto",
          "nom_entidad": "Nayarit",
          "shape": "person",
          "tono_de_color_de_piel": 5
         },
         {
          "cuenta": 14,
          "estratos": "3) Medio Alto",
          "nom_entidad": "Nayarit",
          "shape": "person",
          "tono_de_color_de_piel": 6
         },
         {
          "cuenta": 53,
          "estratos": "3) Medio Alto",
          "nom_entidad": "Nayarit",
          "shape": "person",
          "tono_de_color_de_piel": 7
         },
         {
          "cuenta": 82,
          "estratos": "3) Medio Alto",
          "nom_entidad": "Nayarit",
          "shape": "person",
          "tono_de_color_de_piel": 8
         },
         {
          "cuenta": 3,
          "estratos": "3) Medio Alto",
          "nom_entidad": "Nayarit",
          "shape": "person",
          "tono_de_color_de_piel": 9
         },
         {
          "cuenta": 5,
          "estratos": "3) Medio Alto",
          "nom_entidad": "Nayarit",
          "shape": "person",
          "tono_de_color_de_piel": 10
         },
         {
          "cuenta": 2,
          "estratos": "3) Medio Alto",
          "nom_entidad": "Nayarit",
          "shape": "person",
          "tono_de_color_de_piel": 11
         },
         {
          "cuenta": 3,
          "estratos": "4) Alto",
          "nom_entidad": "Nayarit",
          "shape": "person",
          "tono_de_color_de_piel": 6
         },
         {
          "cuenta": 14,
          "estratos": "4) Alto",
          "nom_entidad": "Nayarit",
          "shape": "person",
          "tono_de_color_de_piel": 7
         },
         {
          "cuenta": 17,
          "estratos": "4) Alto",
          "nom_entidad": "Nayarit",
          "shape": "person",
          "tono_de_color_de_piel": 8
         },
         {
          "cuenta": 2,
          "estratos": "4) Alto",
          "nom_entidad": "Nayarit",
          "shape": "person",
          "tono_de_color_de_piel": 9
         },
         {
          "cuenta": 2,
          "estratos": "4) Alto",
          "nom_entidad": "Nayarit",
          "shape": "person",
          "tono_de_color_de_piel": 10
         },
         {
          "cuenta": 1,
          "estratos": "1) Bajo",
          "nom_entidad": "Nuevo León",
          "shape": "person",
          "tono_de_color_de_piel": 2
         },
         {
          "cuenta": 3,
          "estratos": "1) Bajo",
          "nom_entidad": "Nuevo León",
          "shape": "person",
          "tono_de_color_de_piel": 6
         },
         {
          "cuenta": 6,
          "estratos": "1) Bajo",
          "nom_entidad": "Nuevo León",
          "shape": "person",
          "tono_de_color_de_piel": 7
         },
         {
          "cuenta": 8,
          "estratos": "1) Bajo",
          "nom_entidad": "Nuevo León",
          "shape": "person",
          "tono_de_color_de_piel": 8
         },
         {
          "cuenta": 1,
          "estratos": "1) Bajo",
          "nom_entidad": "Nuevo León",
          "shape": "person",
          "tono_de_color_de_piel": 9
         },
         {
          "cuenta": 2,
          "estratos": "1) Bajo",
          "nom_entidad": "Nuevo León",
          "shape": "person",
          "tono_de_color_de_piel": 11
         },
         {
          "cuenta": 1,
          "estratos": "2) Medio Bajo",
          "nom_entidad": "Nuevo León",
          "shape": "person",
          "tono_de_color_de_piel": 1
         },
         {
          "cuenta": 3,
          "estratos": "2) Medio Bajo",
          "nom_entidad": "Nuevo León",
          "shape": "person",
          "tono_de_color_de_piel": 2
         },
         {
          "cuenta": 5,
          "estratos": "2) Medio Bajo",
          "nom_entidad": "Nuevo León",
          "shape": "person",
          "tono_de_color_de_piel": 3
         },
         {
          "cuenta": 14,
          "estratos": "2) Medio Bajo",
          "nom_entidad": "Nuevo León",
          "shape": "person",
          "tono_de_color_de_piel": 4
         },
         {
          "cuenta": 11,
          "estratos": "2) Medio Bajo",
          "nom_entidad": "Nuevo León",
          "shape": "person",
          "tono_de_color_de_piel": 5
         },
         {
          "cuenta": 36,
          "estratos": "2) Medio Bajo",
          "nom_entidad": "Nuevo León",
          "shape": "person",
          "tono_de_color_de_piel": 6
         },
         {
          "cuenta": 94,
          "estratos": "2) Medio Bajo",
          "nom_entidad": "Nuevo León",
          "shape": "person",
          "tono_de_color_de_piel": 7
         },
         {
          "cuenta": 127,
          "estratos": "2) Medio Bajo",
          "nom_entidad": "Nuevo León",
          "shape": "person",
          "tono_de_color_de_piel": 8
         },
         {
          "cuenta": 13,
          "estratos": "2) Medio Bajo",
          "nom_entidad": "Nuevo León",
          "shape": "person",
          "tono_de_color_de_piel": 9
         },
         {
          "cuenta": 21,
          "estratos": "2) Medio Bajo",
          "nom_entidad": "Nuevo León",
          "shape": "person",
          "tono_de_color_de_piel": 10
         },
         {
          "cuenta": 3,
          "estratos": "2) Medio Bajo",
          "nom_entidad": "Nuevo León",
          "shape": "person",
          "tono_de_color_de_piel": 11
         },
         {
          "cuenta": 1,
          "estratos": "3) Medio Alto",
          "nom_entidad": "Nuevo León",
          "shape": "person",
          "tono_de_color_de_piel": 2
         },
         {
          "cuenta": 1,
          "estratos": "3) Medio Alto",
          "nom_entidad": "Nuevo León",
          "shape": "person",
          "tono_de_color_de_piel": 3
         },
         {
          "cuenta": 3,
          "estratos": "3) Medio Alto",
          "nom_entidad": "Nuevo León",
          "shape": "person",
          "tono_de_color_de_piel": 4
         },
         {
          "cuenta": 9,
          "estratos": "3) Medio Alto",
          "nom_entidad": "Nuevo León",
          "shape": "person",
          "tono_de_color_de_piel": 5
         },
         {
          "cuenta": 26,
          "estratos": "3) Medio Alto",
          "nom_entidad": "Nuevo León",
          "shape": "person",
          "tono_de_color_de_piel": 6
         },
         {
          "cuenta": 81,
          "estratos": "3) Medio Alto",
          "nom_entidad": "Nuevo León",
          "shape": "person",
          "tono_de_color_de_piel": 7
         },
         {
          "cuenta": 137,
          "estratos": "3) Medio Alto",
          "nom_entidad": "Nuevo León",
          "shape": "person",
          "tono_de_color_de_piel": 8
         },
         {
          "cuenta": 17,
          "estratos": "3) Medio Alto",
          "nom_entidad": "Nuevo León",
          "shape": "person",
          "tono_de_color_de_piel": 9
         },
         {
          "cuenta": 25,
          "estratos": "3) Medio Alto",
          "nom_entidad": "Nuevo León",
          "shape": "person",
          "tono_de_color_de_piel": 10
         },
         {
          "cuenta": 5,
          "estratos": "3) Medio Alto",
          "nom_entidad": "Nuevo León",
          "shape": "person",
          "tono_de_color_de_piel": 11
         },
         {
          "cuenta": 2,
          "estratos": "4) Alto",
          "nom_entidad": "Nuevo León",
          "shape": "person",
          "tono_de_color_de_piel": 4
         },
         {
          "cuenta": 2,
          "estratos": "4) Alto",
          "nom_entidad": "Nuevo León",
          "shape": "person",
          "tono_de_color_de_piel": 5
         },
         {
          "cuenta": 9,
          "estratos": "4) Alto",
          "nom_entidad": "Nuevo León",
          "shape": "person",
          "tono_de_color_de_piel": 6
         },
         {
          "cuenta": 33,
          "estratos": "4) Alto",
          "nom_entidad": "Nuevo León",
          "shape": "person",
          "tono_de_color_de_piel": 7
         },
         {
          "cuenta": 80,
          "estratos": "4) Alto",
          "nom_entidad": "Nuevo León",
          "shape": "person",
          "tono_de_color_de_piel": 8
         },
         {
          "cuenta": 11,
          "estratos": "4) Alto",
          "nom_entidad": "Nuevo León",
          "shape": "person",
          "tono_de_color_de_piel": 9
         },
         {
          "cuenta": 19,
          "estratos": "4) Alto",
          "nom_entidad": "Nuevo León",
          "shape": "person",
          "tono_de_color_de_piel": 10
         },
         {
          "cuenta": 8,
          "estratos": "4) Alto",
          "nom_entidad": "Nuevo León",
          "shape": "person",
          "tono_de_color_de_piel": 11
         },
         {
          "cuenta": 1,
          "estratos": "1) Bajo",
          "nom_entidad": "Oaxaca",
          "shape": "person",
          "tono_de_color_de_piel": 1
         },
         {
          "cuenta": 8,
          "estratos": "1) Bajo",
          "nom_entidad": "Oaxaca",
          "shape": "person",
          "tono_de_color_de_piel": 2
         },
         {
          "cuenta": 12,
          "estratos": "1) Bajo",
          "nom_entidad": "Oaxaca",
          "shape": "person",
          "tono_de_color_de_piel": 3
         },
         {
          "cuenta": 34,
          "estratos": "1) Bajo",
          "nom_entidad": "Oaxaca",
          "shape": "person",
          "tono_de_color_de_piel": 4
         },
         {
          "cuenta": 18,
          "estratos": "1) Bajo",
          "nom_entidad": "Oaxaca",
          "shape": "person",
          "tono_de_color_de_piel": 5
         },
         {
          "cuenta": 94,
          "estratos": "1) Bajo",
          "nom_entidad": "Oaxaca",
          "shape": "person",
          "tono_de_color_de_piel": 6
         },
         {
          "cuenta": 135,
          "estratos": "1) Bajo",
          "nom_entidad": "Oaxaca",
          "shape": "person",
          "tono_de_color_de_piel": 7
         },
         {
          "cuenta": 77,
          "estratos": "1) Bajo",
          "nom_entidad": "Oaxaca",
          "shape": "person",
          "tono_de_color_de_piel": 8
         },
         {
          "cuenta": 17,
          "estratos": "1) Bajo",
          "nom_entidad": "Oaxaca",
          "shape": "person",
          "tono_de_color_de_piel": 9
         },
         {
          "cuenta": 18,
          "estratos": "1) Bajo",
          "nom_entidad": "Oaxaca",
          "shape": "person",
          "tono_de_color_de_piel": 10
         },
         {
          "cuenta": 3,
          "estratos": "1) Bajo",
          "nom_entidad": "Oaxaca",
          "shape": "person",
          "tono_de_color_de_piel": 11
         },
         {
          "cuenta": 5,
          "estratos": "2) Medio Bajo",
          "nom_entidad": "Oaxaca",
          "shape": "person",
          "tono_de_color_de_piel": 3
         },
         {
          "cuenta": 25,
          "estratos": "2) Medio Bajo",
          "nom_entidad": "Oaxaca",
          "shape": "person",
          "tono_de_color_de_piel": 4
         },
         {
          "cuenta": 10,
          "estratos": "2) Medio Bajo",
          "nom_entidad": "Oaxaca",
          "shape": "person",
          "tono_de_color_de_piel": 5
         },
         {
          "cuenta": 53,
          "estratos": "2) Medio Bajo",
          "nom_entidad": "Oaxaca",
          "shape": "person",
          "tono_de_color_de_piel": 6
         },
         {
          "cuenta": 119,
          "estratos": "2) Medio Bajo",
          "nom_entidad": "Oaxaca",
          "shape": "person",
          "tono_de_color_de_piel": 7
         },
         {
          "cuenta": 65,
          "estratos": "2) Medio Bajo",
          "nom_entidad": "Oaxaca",
          "shape": "person",
          "tono_de_color_de_piel": 8
         },
         {
          "cuenta": 7,
          "estratos": "2) Medio Bajo",
          "nom_entidad": "Oaxaca",
          "shape": "person",
          "tono_de_color_de_piel": 9
         },
         {
          "cuenta": 12,
          "estratos": "2) Medio Bajo",
          "nom_entidad": "Oaxaca",
          "shape": "person",
          "tono_de_color_de_piel": 10
         },
         {
          "cuenta": 5,
          "estratos": "2) Medio Bajo",
          "nom_entidad": "Oaxaca",
          "shape": "person",
          "tono_de_color_de_piel": 11
         },
         {
          "cuenta": 1,
          "estratos": "3) Medio Alto",
          "nom_entidad": "Oaxaca",
          "shape": "person",
          "tono_de_color_de_piel": 4
         },
         {
          "cuenta": 6,
          "estratos": "3) Medio Alto",
          "nom_entidad": "Oaxaca",
          "shape": "person",
          "tono_de_color_de_piel": 6
         },
         {
          "cuenta": 11,
          "estratos": "3) Medio Alto",
          "nom_entidad": "Oaxaca",
          "shape": "person",
          "tono_de_color_de_piel": 7
         },
         {
          "cuenta": 13,
          "estratos": "3) Medio Alto",
          "nom_entidad": "Oaxaca",
          "shape": "person",
          "tono_de_color_de_piel": 8
         },
         {
          "cuenta": 2,
          "estratos": "4) Alto",
          "nom_entidad": "Oaxaca",
          "shape": "person",
          "tono_de_color_de_piel": 6
         },
         {
          "cuenta": 4,
          "estratos": "4) Alto",
          "nom_entidad": "Oaxaca",
          "shape": "person",
          "tono_de_color_de_piel": 7
         },
         {
          "cuenta": 2,
          "estratos": "4) Alto",
          "nom_entidad": "Oaxaca",
          "shape": "person",
          "tono_de_color_de_piel": 8
         },
         {
          "cuenta": 1,
          "estratos": "4) Alto",
          "nom_entidad": "Oaxaca",
          "shape": "person",
          "tono_de_color_de_piel": 9
         },
         {
          "cuenta": 2,
          "estratos": "1) Bajo",
          "nom_entidad": "Puebla",
          "shape": "person",
          "tono_de_color_de_piel": 1
         },
         {
          "cuenta": 3,
          "estratos": "1) Bajo",
          "nom_entidad": "Puebla",
          "shape": "person",
          "tono_de_color_de_piel": 2
         },
         {
          "cuenta": 4,
          "estratos": "1) Bajo",
          "nom_entidad": "Puebla",
          "shape": "person",
          "tono_de_color_de_piel": 3
         },
         {
          "cuenta": 14,
          "estratos": "1) Bajo",
          "nom_entidad": "Puebla",
          "shape": "person",
          "tono_de_color_de_piel": 4
         },
         {
          "cuenta": 10,
          "estratos": "1) Bajo",
          "nom_entidad": "Puebla",
          "shape": "person",
          "tono_de_color_de_piel": 5
         },
         {
          "cuenta": 46,
          "estratos": "1) Bajo",
          "nom_entidad": "Puebla",
          "shape": "person",
          "tono_de_color_de_piel": 6
         },
         {
          "cuenta": 94,
          "estratos": "1) Bajo",
          "nom_entidad": "Puebla",
          "shape": "person",
          "tono_de_color_de_piel": 7
         },
         {
          "cuenta": 68,
          "estratos": "1) Bajo",
          "nom_entidad": "Puebla",
          "shape": "person",
          "tono_de_color_de_piel": 8
         },
         {
          "cuenta": 6,
          "estratos": "1) Bajo",
          "nom_entidad": "Puebla",
          "shape": "person",
          "tono_de_color_de_piel": 9
         },
         {
          "cuenta": 10,
          "estratos": "1) Bajo",
          "nom_entidad": "Puebla",
          "shape": "person",
          "tono_de_color_de_piel": 10
         },
         {
          "cuenta": 1,
          "estratos": "1) Bajo",
          "nom_entidad": "Puebla",
          "shape": "person",
          "tono_de_color_de_piel": 11
         },
         {
          "cuenta": 1,
          "estratos": "2) Medio Bajo",
          "nom_entidad": "Puebla",
          "shape": "person",
          "tono_de_color_de_piel": 2
         },
         {
          "cuenta": 4,
          "estratos": "2) Medio Bajo",
          "nom_entidad": "Puebla",
          "shape": "person",
          "tono_de_color_de_piel": 3
         },
         {
          "cuenta": 14,
          "estratos": "2) Medio Bajo",
          "nom_entidad": "Puebla",
          "shape": "person",
          "tono_de_color_de_piel": 4
         },
         {
          "cuenta": 20,
          "estratos": "2) Medio Bajo",
          "nom_entidad": "Puebla",
          "shape": "person",
          "tono_de_color_de_piel": 5
         },
         {
          "cuenta": 57,
          "estratos": "2) Medio Bajo",
          "nom_entidad": "Puebla",
          "shape": "person",
          "tono_de_color_de_piel": 6
         },
         {
          "cuenta": 135,
          "estratos": "2) Medio Bajo",
          "nom_entidad": "Puebla",
          "shape": "person",
          "tono_de_color_de_piel": 7
         },
         {
          "cuenta": 140,
          "estratos": "2) Medio Bajo",
          "nom_entidad": "Puebla",
          "shape": "person",
          "tono_de_color_de_piel": 8
         },
         {
          "cuenta": 7,
          "estratos": "2) Medio Bajo",
          "nom_entidad": "Puebla",
          "shape": "person",
          "tono_de_color_de_piel": 9
         },
         {
          "cuenta": 16,
          "estratos": "2) Medio Bajo",
          "nom_entidad": "Puebla",
          "shape": "person",
          "tono_de_color_de_piel": 10
         },
         {
          "cuenta": 2,
          "estratos": "2) Medio Bajo",
          "nom_entidad": "Puebla",
          "shape": "person",
          "tono_de_color_de_piel": 11
         },
         {
          "cuenta": 1,
          "estratos": "3) Medio Alto",
          "nom_entidad": "Puebla",
          "shape": "person",
          "tono_de_color_de_piel": 1
         },
         {
          "cuenta": 1,
          "estratos": "3) Medio Alto",
          "nom_entidad": "Puebla",
          "shape": "person",
          "tono_de_color_de_piel": 2
         },
         {
          "cuenta": 1,
          "estratos": "3) Medio Alto",
          "nom_entidad": "Puebla",
          "shape": "person",
          "tono_de_color_de_piel": 3
         },
         {
          "cuenta": 3,
          "estratos": "3) Medio Alto",
          "nom_entidad": "Puebla",
          "shape": "person",
          "tono_de_color_de_piel": 4
         },
         {
          "cuenta": 2,
          "estratos": "3) Medio Alto",
          "nom_entidad": "Puebla",
          "shape": "person",
          "tono_de_color_de_piel": 5
         },
         {
          "cuenta": 8,
          "estratos": "3) Medio Alto",
          "nom_entidad": "Puebla",
          "shape": "person",
          "tono_de_color_de_piel": 6
         },
         {
          "cuenta": 30,
          "estratos": "3) Medio Alto",
          "nom_entidad": "Puebla",
          "shape": "person",
          "tono_de_color_de_piel": 7
         },
         {
          "cuenta": 40,
          "estratos": "3) Medio Alto",
          "nom_entidad": "Puebla",
          "shape": "person",
          "tono_de_color_de_piel": 8
         },
         {
          "cuenta": 1,
          "estratos": "3) Medio Alto",
          "nom_entidad": "Puebla",
          "shape": "person",
          "tono_de_color_de_piel": 9
         },
         {
          "cuenta": 6,
          "estratos": "3) Medio Alto",
          "nom_entidad": "Puebla",
          "shape": "person",
          "tono_de_color_de_piel": 10
         },
         {
          "cuenta": 2,
          "estratos": "3) Medio Alto",
          "nom_entidad": "Puebla",
          "shape": "person",
          "tono_de_color_de_piel": 11
         },
         {
          "cuenta": 1,
          "estratos": "4) Alto",
          "nom_entidad": "Puebla",
          "shape": "person",
          "tono_de_color_de_piel": 5
         },
         {
          "cuenta": 7,
          "estratos": "4) Alto",
          "nom_entidad": "Puebla",
          "shape": "person",
          "tono_de_color_de_piel": 6
         },
         {
          "cuenta": 11,
          "estratos": "4) Alto",
          "nom_entidad": "Puebla",
          "shape": "person",
          "tono_de_color_de_piel": 7
         },
         {
          "cuenta": 17,
          "estratos": "4) Alto",
          "nom_entidad": "Puebla",
          "shape": "person",
          "tono_de_color_de_piel": 8
         },
         {
          "cuenta": 2,
          "estratos": "4) Alto",
          "nom_entidad": "Puebla",
          "shape": "person",
          "tono_de_color_de_piel": 9
         },
         {
          "cuenta": 4,
          "estratos": "4) Alto",
          "nom_entidad": "Puebla",
          "shape": "person",
          "tono_de_color_de_piel": 10
         },
         {
          "cuenta": 1,
          "estratos": "4) Alto",
          "nom_entidad": "Puebla",
          "shape": "person",
          "tono_de_color_de_piel": 11
         },
         {
          "cuenta": 2,
          "estratos": "1) Bajo",
          "nom_entidad": "Querétaro",
          "shape": "person",
          "tono_de_color_de_piel": 2
         },
         {
          "cuenta": 2,
          "estratos": "1) Bajo",
          "nom_entidad": "Querétaro",
          "shape": "person",
          "tono_de_color_de_piel": 3
         },
         {
          "cuenta": 5,
          "estratos": "1) Bajo",
          "nom_entidad": "Querétaro",
          "shape": "person",
          "tono_de_color_de_piel": 4
         },
         {
          "cuenta": 20,
          "estratos": "1) Bajo",
          "nom_entidad": "Querétaro",
          "shape": "person",
          "tono_de_color_de_piel": 6
         },
         {
          "cuenta": 35,
          "estratos": "1) Bajo",
          "nom_entidad": "Querétaro",
          "shape": "person",
          "tono_de_color_de_piel": 7
         },
         {
          "cuenta": 60,
          "estratos": "1) Bajo",
          "nom_entidad": "Querétaro",
          "shape": "person",
          "tono_de_color_de_piel": 8
         },
         {
          "cuenta": 5,
          "estratos": "1) Bajo",
          "nom_entidad": "Querétaro",
          "shape": "person",
          "tono_de_color_de_piel": 9
         },
         {
          "cuenta": 5,
          "estratos": "1) Bajo",
          "nom_entidad": "Querétaro",
          "shape": "person",
          "tono_de_color_de_piel": 10
         },
         {
          "cuenta": 1,
          "estratos": "1) Bajo",
          "nom_entidad": "Querétaro",
          "shape": "person",
          "tono_de_color_de_piel": 11
         },
         {
          "cuenta": 2,
          "estratos": "2) Medio Bajo",
          "nom_entidad": "Querétaro",
          "shape": "person",
          "tono_de_color_de_piel": 2
         },
         {
          "cuenta": 2,
          "estratos": "2) Medio Bajo",
          "nom_entidad": "Querétaro",
          "shape": "person",
          "tono_de_color_de_piel": 3
         },
         {
          "cuenta": 11,
          "estratos": "2) Medio Bajo",
          "nom_entidad": "Querétaro",
          "shape": "person",
          "tono_de_color_de_piel": 4
         },
         {
          "cuenta": 9,
          "estratos": "2) Medio Bajo",
          "nom_entidad": "Querétaro",
          "shape": "person",
          "tono_de_color_de_piel": 5
         },
         {
          "cuenta": 42,
          "estratos": "2) Medio Bajo",
          "nom_entidad": "Querétaro",
          "shape": "person",
          "tono_de_color_de_piel": 6
         },
         {
          "cuenta": 128,
          "estratos": "2) Medio Bajo",
          "nom_entidad": "Querétaro",
          "shape": "person",
          "tono_de_color_de_piel": 7
         },
         {
          "cuenta": 144,
          "estratos": "2) Medio Bajo",
          "nom_entidad": "Querétaro",
          "shape": "person",
          "tono_de_color_de_piel": 8
         },
         {
          "cuenta": 15,
          "estratos": "2) Medio Bajo",
          "nom_entidad": "Querétaro",
          "shape": "person",
          "tono_de_color_de_piel": 9
         },
         {
          "cuenta": 21,
          "estratos": "2) Medio Bajo",
          "nom_entidad": "Querétaro",
          "shape": "person",
          "tono_de_color_de_piel": 10
         },
         {
          "cuenta": 7,
          "estratos": "2) Medio Bajo",
          "nom_entidad": "Querétaro",
          "shape": "person",
          "tono_de_color_de_piel": 11
         },
         {
          "cuenta": 1,
          "estratos": "3) Medio Alto",
          "nom_entidad": "Querétaro",
          "shape": "person",
          "tono_de_color_de_piel": 3
         },
         {
          "cuenta": 3,
          "estratos": "3) Medio Alto",
          "nom_entidad": "Querétaro",
          "shape": "person",
          "tono_de_color_de_piel": 4
         },
         {
          "cuenta": 17,
          "estratos": "3) Medio Alto",
          "nom_entidad": "Querétaro",
          "shape": "person",
          "tono_de_color_de_piel": 6
         },
         {
          "cuenta": 46,
          "estratos": "3) Medio Alto",
          "nom_entidad": "Querétaro",
          "shape": "person",
          "tono_de_color_de_piel": 7
         },
         {
          "cuenta": 87,
          "estratos": "3) Medio Alto",
          "nom_entidad": "Querétaro",
          "shape": "person",
          "tono_de_color_de_piel": 8
         },
         {
          "cuenta": 6,
          "estratos": "3) Medio Alto",
          "nom_entidad": "Querétaro",
          "shape": "person",
          "tono_de_color_de_piel": 9
         },
         {
          "cuenta": 8,
          "estratos": "3) Medio Alto",
          "nom_entidad": "Querétaro",
          "shape": "person",
          "tono_de_color_de_piel": 10
         },
         {
          "cuenta": 4,
          "estratos": "3) Medio Alto",
          "nom_entidad": "Querétaro",
          "shape": "person",
          "tono_de_color_de_piel": 11
         },
         {
          "cuenta": 2,
          "estratos": "4) Alto",
          "nom_entidad": "Querétaro",
          "shape": "person",
          "tono_de_color_de_piel": 3
         },
         {
          "cuenta": 3,
          "estratos": "4) Alto",
          "nom_entidad": "Querétaro",
          "shape": "person",
          "tono_de_color_de_piel": 4
         },
         {
          "cuenta": 10,
          "estratos": "4) Alto",
          "nom_entidad": "Querétaro",
          "shape": "person",
          "tono_de_color_de_piel": 6
         },
         {
          "cuenta": 28,
          "estratos": "4) Alto",
          "nom_entidad": "Querétaro",
          "shape": "person",
          "tono_de_color_de_piel": 7
         },
         {
          "cuenta": 77,
          "estratos": "4) Alto",
          "nom_entidad": "Querétaro",
          "shape": "person",
          "tono_de_color_de_piel": 8
         },
         {
          "cuenta": 5,
          "estratos": "4) Alto",
          "nom_entidad": "Querétaro",
          "shape": "person",
          "tono_de_color_de_piel": 9
         },
         {
          "cuenta": 9,
          "estratos": "4) Alto",
          "nom_entidad": "Querétaro",
          "shape": "person",
          "tono_de_color_de_piel": 10
         },
         {
          "cuenta": 12,
          "estratos": "4) Alto",
          "nom_entidad": "Querétaro",
          "shape": "person",
          "tono_de_color_de_piel": 11
         },
         {
          "cuenta": 1,
          "estratos": "1) Bajo",
          "nom_entidad": "Quintana Roo",
          "shape": "person",
          "tono_de_color_de_piel": 2
         },
         {
          "cuenta": 3,
          "estratos": "1) Bajo",
          "nom_entidad": "Quintana Roo",
          "shape": "person",
          "tono_de_color_de_piel": 3
         },
         {
          "cuenta": 17,
          "estratos": "1) Bajo",
          "nom_entidad": "Quintana Roo",
          "shape": "person",
          "tono_de_color_de_piel": 4
         },
         {
          "cuenta": 8,
          "estratos": "1) Bajo",
          "nom_entidad": "Quintana Roo",
          "shape": "person",
          "tono_de_color_de_piel": 5
         },
         {
          "cuenta": 18,
          "estratos": "1) Bajo",
          "nom_entidad": "Quintana Roo",
          "shape": "person",
          "tono_de_color_de_piel": 6
         },
         {
          "cuenta": 38,
          "estratos": "1) Bajo",
          "nom_entidad": "Quintana Roo",
          "shape": "person",
          "tono_de_color_de_piel": 7
         },
         {
          "cuenta": 16,
          "estratos": "1) Bajo",
          "nom_entidad": "Quintana Roo",
          "shape": "person",
          "tono_de_color_de_piel": 8
         },
         {
          "cuenta": 6,
          "estratos": "1) Bajo",
          "nom_entidad": "Quintana Roo",
          "shape": "person",
          "tono_de_color_de_piel": 9
         },
         {
          "cuenta": 1,
          "estratos": "1) Bajo",
          "nom_entidad": "Quintana Roo",
          "shape": "person",
          "tono_de_color_de_piel": 10
         },
         {
          "cuenta": 1,
          "estratos": "2) Medio Bajo",
          "nom_entidad": "Quintana Roo",
          "shape": "person",
          "tono_de_color_de_piel": 1
         },
         {
          "cuenta": 1,
          "estratos": "2) Medio Bajo",
          "nom_entidad": "Quintana Roo",
          "shape": "person",
          "tono_de_color_de_piel": 2
         },
         {
          "cuenta": 13,
          "estratos": "2) Medio Bajo",
          "nom_entidad": "Quintana Roo",
          "shape": "person",
          "tono_de_color_de_piel": 3
         },
         {
          "cuenta": 39,
          "estratos": "2) Medio Bajo",
          "nom_entidad": "Quintana Roo",
          "shape": "person",
          "tono_de_color_de_piel": 4
         },
         {
          "cuenta": 32,
          "estratos": "2) Medio Bajo",
          "nom_entidad": "Quintana Roo",
          "shape": "person",
          "tono_de_color_de_piel": 5
         },
         {
          "cuenta": 102,
          "estratos": "2) Medio Bajo",
          "nom_entidad": "Quintana Roo",
          "shape": "person",
          "tono_de_color_de_piel": 6
         },
         {
          "cuenta": 189,
          "estratos": "2) Medio Bajo",
          "nom_entidad": "Quintana Roo",
          "shape": "person",
          "tono_de_color_de_piel": 7
         },
         {
          "cuenta": 116,
          "estratos": "2) Medio Bajo",
          "nom_entidad": "Quintana Roo",
          "shape": "person",
          "tono_de_color_de_piel": 8
         },
         {
          "cuenta": 20,
          "estratos": "2) Medio Bajo",
          "nom_entidad": "Quintana Roo",
          "shape": "person",
          "tono_de_color_de_piel": 9
         },
         {
          "cuenta": 13,
          "estratos": "2) Medio Bajo",
          "nom_entidad": "Quintana Roo",
          "shape": "person",
          "tono_de_color_de_piel": 10
         },
         {
          "cuenta": 7,
          "estratos": "2) Medio Bajo",
          "nom_entidad": "Quintana Roo",
          "shape": "person",
          "tono_de_color_de_piel": 11
         },
         {
          "cuenta": 1,
          "estratos": "3) Medio Alto",
          "nom_entidad": "Quintana Roo",
          "shape": "person",
          "tono_de_color_de_piel": 3
         },
         {
          "cuenta": 4,
          "estratos": "3) Medio Alto",
          "nom_entidad": "Quintana Roo",
          "shape": "person",
          "tono_de_color_de_piel": 4
         },
         {
          "cuenta": 5,
          "estratos": "3) Medio Alto",
          "nom_entidad": "Quintana Roo",
          "shape": "person",
          "tono_de_color_de_piel": 5
         },
         {
          "cuenta": 12,
          "estratos": "3) Medio Alto",
          "nom_entidad": "Quintana Roo",
          "shape": "person",
          "tono_de_color_de_piel": 6
         },
         {
          "cuenta": 30,
          "estratos": "3) Medio Alto",
          "nom_entidad": "Quintana Roo",
          "shape": "person",
          "tono_de_color_de_piel": 7
         },
         {
          "cuenta": 15,
          "estratos": "3) Medio Alto",
          "nom_entidad": "Quintana Roo",
          "shape": "person",
          "tono_de_color_de_piel": 8
         },
         {
          "cuenta": 7,
          "estratos": "3) Medio Alto",
          "nom_entidad": "Quintana Roo",
          "shape": "person",
          "tono_de_color_de_piel": 9
         },
         {
          "cuenta": 5,
          "estratos": "3) Medio Alto",
          "nom_entidad": "Quintana Roo",
          "shape": "person",
          "tono_de_color_de_piel": 10
         },
         {
          "cuenta": 2,
          "estratos": "3) Medio Alto",
          "nom_entidad": "Quintana Roo",
          "shape": "person",
          "tono_de_color_de_piel": 11
         },
         {
          "cuenta": 1,
          "estratos": "4) Alto",
          "nom_entidad": "Quintana Roo",
          "shape": "person",
          "tono_de_color_de_piel": 2
         },
         {
          "cuenta": 8,
          "estratos": "4) Alto",
          "nom_entidad": "Quintana Roo",
          "shape": "person",
          "tono_de_color_de_piel": 4
         },
         {
          "cuenta": 9,
          "estratos": "4) Alto",
          "nom_entidad": "Quintana Roo",
          "shape": "person",
          "tono_de_color_de_piel": 5
         },
         {
          "cuenta": 13,
          "estratos": "4) Alto",
          "nom_entidad": "Quintana Roo",
          "shape": "person",
          "tono_de_color_de_piel": 6
         },
         {
          "cuenta": 16,
          "estratos": "4) Alto",
          "nom_entidad": "Quintana Roo",
          "shape": "person",
          "tono_de_color_de_piel": 7
         },
         {
          "cuenta": 26,
          "estratos": "4) Alto",
          "nom_entidad": "Quintana Roo",
          "shape": "person",
          "tono_de_color_de_piel": 8
         },
         {
          "cuenta": 12,
          "estratos": "4) Alto",
          "nom_entidad": "Quintana Roo",
          "shape": "person",
          "tono_de_color_de_piel": 9
         },
         {
          "cuenta": 5,
          "estratos": "4) Alto",
          "nom_entidad": "Quintana Roo",
          "shape": "person",
          "tono_de_color_de_piel": 10
         },
         {
          "cuenta": 1,
          "estratos": "4) Alto",
          "nom_entidad": "Quintana Roo",
          "shape": "person",
          "tono_de_color_de_piel": 11
         },
         {
          "cuenta": 1,
          "estratos": "1) Bajo",
          "nom_entidad": "San Luis Potosí",
          "shape": "person",
          "tono_de_color_de_piel": 1
         },
         {
          "cuenta": 5,
          "estratos": "1) Bajo",
          "nom_entidad": "San Luis Potosí",
          "shape": "person",
          "tono_de_color_de_piel": 2
         },
         {
          "cuenta": 5,
          "estratos": "1) Bajo",
          "nom_entidad": "San Luis Potosí",
          "shape": "person",
          "tono_de_color_de_piel": 3
         },
         {
          "cuenta": 17,
          "estratos": "1) Bajo",
          "nom_entidad": "San Luis Potosí",
          "shape": "person",
          "tono_de_color_de_piel": 4
         },
         {
          "cuenta": 7,
          "estratos": "1) Bajo",
          "nom_entidad": "San Luis Potosí",
          "shape": "person",
          "tono_de_color_de_piel": 5
         },
         {
          "cuenta": 61,
          "estratos": "1) Bajo",
          "nom_entidad": "San Luis Potosí",
          "shape": "person",
          "tono_de_color_de_piel": 6
         },
         {
          "cuenta": 77,
          "estratos": "1) Bajo",
          "nom_entidad": "San Luis Potosí",
          "shape": "person",
          "tono_de_color_de_piel": 7
         },
         {
          "cuenta": 57,
          "estratos": "1) Bajo",
          "nom_entidad": "San Luis Potosí",
          "shape": "person",
          "tono_de_color_de_piel": 8
         },
         {
          "cuenta": 18,
          "estratos": "1) Bajo",
          "nom_entidad": "San Luis Potosí",
          "shape": "person",
          "tono_de_color_de_piel": 9
         },
         {
          "cuenta": 12,
          "estratos": "1) Bajo",
          "nom_entidad": "San Luis Potosí",
          "shape": "person",
          "tono_de_color_de_piel": 10
         },
         {
          "cuenta": 3,
          "estratos": "1) Bajo",
          "nom_entidad": "San Luis Potosí",
          "shape": "person",
          "tono_de_color_de_piel": 11
         },
         {
          "cuenta": 2,
          "estratos": "2) Medio Bajo",
          "nom_entidad": "San Luis Potosí",
          "shape": "person",
          "tono_de_color_de_piel": 2
         },
         {
          "cuenta": 7,
          "estratos": "2) Medio Bajo",
          "nom_entidad": "San Luis Potosí",
          "shape": "person",
          "tono_de_color_de_piel": 3
         },
         {
          "cuenta": 6,
          "estratos": "2) Medio Bajo",
          "nom_entidad": "San Luis Potosí",
          "shape": "person",
          "tono_de_color_de_piel": 4
         },
         {
          "cuenta": 5,
          "estratos": "2) Medio Bajo",
          "nom_entidad": "San Luis Potosí",
          "shape": "person",
          "tono_de_color_de_piel": 5
         },
         {
          "cuenta": 40,
          "estratos": "2) Medio Bajo",
          "nom_entidad": "San Luis Potosí",
          "shape": "person",
          "tono_de_color_de_piel": 6
         },
         {
          "cuenta": 70,
          "estratos": "2) Medio Bajo",
          "nom_entidad": "San Luis Potosí",
          "shape": "person",
          "tono_de_color_de_piel": 7
         },
         {
          "cuenta": 85,
          "estratos": "2) Medio Bajo",
          "nom_entidad": "San Luis Potosí",
          "shape": "person",
          "tono_de_color_de_piel": 8
         },
         {
          "cuenta": 9,
          "estratos": "2) Medio Bajo",
          "nom_entidad": "San Luis Potosí",
          "shape": "person",
          "tono_de_color_de_piel": 9
         },
         {
          "cuenta": 18,
          "estratos": "2) Medio Bajo",
          "nom_entidad": "San Luis Potosí",
          "shape": "person",
          "tono_de_color_de_piel": 10
         },
         {
          "cuenta": 1,
          "estratos": "2) Medio Bajo",
          "nom_entidad": "San Luis Potosí",
          "shape": "person",
          "tono_de_color_de_piel": 11
         },
         {
          "cuenta": 1,
          "estratos": "3) Medio Alto",
          "nom_entidad": "San Luis Potosí",
          "shape": "person",
          "tono_de_color_de_piel": 1
         },
         {
          "cuenta": 1,
          "estratos": "3) Medio Alto",
          "nom_entidad": "San Luis Potosí",
          "shape": "person",
          "tono_de_color_de_piel": 2
         },
         {
          "cuenta": 2,
          "estratos": "3) Medio Alto",
          "nom_entidad": "San Luis Potosí",
          "shape": "person",
          "tono_de_color_de_piel": 3
         },
         {
          "cuenta": 1,
          "estratos": "3) Medio Alto",
          "nom_entidad": "San Luis Potosí",
          "shape": "person",
          "tono_de_color_de_piel": 4
         },
         {
          "cuenta": 4,
          "estratos": "3) Medio Alto",
          "nom_entidad": "San Luis Potosí",
          "shape": "person",
          "tono_de_color_de_piel": 5
         },
         {
          "cuenta": 13,
          "estratos": "3) Medio Alto",
          "nom_entidad": "San Luis Potosí",
          "shape": "person",
          "tono_de_color_de_piel": 6
         },
         {
          "cuenta": 58,
          "estratos": "3) Medio Alto",
          "nom_entidad": "San Luis Potosí",
          "shape": "person",
          "tono_de_color_de_piel": 7
         },
         {
          "cuenta": 81,
          "estratos": "3) Medio Alto",
          "nom_entidad": "San Luis Potosí",
          "shape": "person",
          "tono_de_color_de_piel": 8
         },
         {
          "cuenta": 6,
          "estratos": "3) Medio Alto",
          "nom_entidad": "San Luis Potosí",
          "shape": "person",
          "tono_de_color_de_piel": 9
         },
         {
          "cuenta": 12,
          "estratos": "3) Medio Alto",
          "nom_entidad": "San Luis Potosí",
          "shape": "person",
          "tono_de_color_de_piel": 10
         },
         {
          "cuenta": 3,
          "estratos": "3) Medio Alto",
          "nom_entidad": "San Luis Potosí",
          "shape": "person",
          "tono_de_color_de_piel": 11
         },
         {
          "cuenta": 1,
          "estratos": "4) Alto",
          "nom_entidad": "San Luis Potosí",
          "shape": "person",
          "tono_de_color_de_piel": 3
         },
         {
          "cuenta": 2,
          "estratos": "4) Alto",
          "nom_entidad": "San Luis Potosí",
          "shape": "person",
          "tono_de_color_de_piel": 4
         },
         {
          "cuenta": 2,
          "estratos": "4) Alto",
          "nom_entidad": "San Luis Potosí",
          "shape": "person",
          "tono_de_color_de_piel": 5
         },
         {
          "cuenta": 6,
          "estratos": "4) Alto",
          "nom_entidad": "San Luis Potosí",
          "shape": "person",
          "tono_de_color_de_piel": 6
         },
         {
          "cuenta": 19,
          "estratos": "4) Alto",
          "nom_entidad": "San Luis Potosí",
          "shape": "person",
          "tono_de_color_de_piel": 7
         },
         {
          "cuenta": 42,
          "estratos": "4) Alto",
          "nom_entidad": "San Luis Potosí",
          "shape": "person",
          "tono_de_color_de_piel": 8
         },
         {
          "cuenta": 3,
          "estratos": "4) Alto",
          "nom_entidad": "San Luis Potosí",
          "shape": "person",
          "tono_de_color_de_piel": 9
         },
         {
          "cuenta": 5,
          "estratos": "4) Alto",
          "nom_entidad": "San Luis Potosí",
          "shape": "person",
          "tono_de_color_de_piel": 10
         },
         {
          "cuenta": 2,
          "estratos": "4) Alto",
          "nom_entidad": "San Luis Potosí",
          "shape": "person",
          "tono_de_color_de_piel": 11
         },
         {
          "cuenta": 1,
          "estratos": "1) Bajo",
          "nom_entidad": "Sinaloa",
          "shape": "person",
          "tono_de_color_de_piel": 2
         },
         {
          "cuenta": 1,
          "estratos": "1) Bajo",
          "nom_entidad": "Sinaloa",
          "shape": "person",
          "tono_de_color_de_piel": 3
         },
         {
          "cuenta": 5,
          "estratos": "1) Bajo",
          "nom_entidad": "Sinaloa",
          "shape": "person",
          "tono_de_color_de_piel": 4
         },
         {
          "cuenta": 1,
          "estratos": "1) Bajo",
          "nom_entidad": "Sinaloa",
          "shape": "person",
          "tono_de_color_de_piel": 5
         },
         {
          "cuenta": 18,
          "estratos": "1) Bajo",
          "nom_entidad": "Sinaloa",
          "shape": "person",
          "tono_de_color_de_piel": 6
         },
         {
          "cuenta": 35,
          "estratos": "1) Bajo",
          "nom_entidad": "Sinaloa",
          "shape": "person",
          "tono_de_color_de_piel": 7
         },
         {
          "cuenta": 23,
          "estratos": "1) Bajo",
          "nom_entidad": "Sinaloa",
          "shape": "person",
          "tono_de_color_de_piel": 8
         },
         {
          "cuenta": 12,
          "estratos": "1) Bajo",
          "nom_entidad": "Sinaloa",
          "shape": "person",
          "tono_de_color_de_piel": 9
         },
         {
          "cuenta": 2,
          "estratos": "1) Bajo",
          "nom_entidad": "Sinaloa",
          "shape": "person",
          "tono_de_color_de_piel": 10
         },
         {
          "cuenta": 3,
          "estratos": "1) Bajo",
          "nom_entidad": "Sinaloa",
          "shape": "person",
          "tono_de_color_de_piel": 11
         },
         {
          "cuenta": 1,
          "estratos": "2) Medio Bajo",
          "nom_entidad": "Sinaloa",
          "shape": "person",
          "tono_de_color_de_piel": 1
         },
         {
          "cuenta": 4,
          "estratos": "2) Medio Bajo",
          "nom_entidad": "Sinaloa",
          "shape": "person",
          "tono_de_color_de_piel": 2
         },
         {
          "cuenta": 8,
          "estratos": "2) Medio Bajo",
          "nom_entidad": "Sinaloa",
          "shape": "person",
          "tono_de_color_de_piel": 4
         },
         {
          "cuenta": 10,
          "estratos": "2) Medio Bajo",
          "nom_entidad": "Sinaloa",
          "shape": "person",
          "tono_de_color_de_piel": 5
         },
         {
          "cuenta": 68,
          "estratos": "2) Medio Bajo",
          "nom_entidad": "Sinaloa",
          "shape": "person",
          "tono_de_color_de_piel": 6
         },
         {
          "cuenta": 134,
          "estratos": "2) Medio Bajo",
          "nom_entidad": "Sinaloa",
          "shape": "person",
          "tono_de_color_de_piel": 7
         },
         {
          "cuenta": 155,
          "estratos": "2) Medio Bajo",
          "nom_entidad": "Sinaloa",
          "shape": "person",
          "tono_de_color_de_piel": 8
         },
         {
          "cuenta": 24,
          "estratos": "2) Medio Bajo",
          "nom_entidad": "Sinaloa",
          "shape": "person",
          "tono_de_color_de_piel": 9
         },
         {
          "cuenta": 26,
          "estratos": "2) Medio Bajo",
          "nom_entidad": "Sinaloa",
          "shape": "person",
          "tono_de_color_de_piel": 10
         },
         {
          "cuenta": 9,
          "estratos": "2) Medio Bajo",
          "nom_entidad": "Sinaloa",
          "shape": "person",
          "tono_de_color_de_piel": 11
         },
         {
          "cuenta": 1,
          "estratos": "3) Medio Alto",
          "nom_entidad": "Sinaloa",
          "shape": "person",
          "tono_de_color_de_piel": 2
         },
         {
          "cuenta": 3,
          "estratos": "3) Medio Alto",
          "nom_entidad": "Sinaloa",
          "shape": "person",
          "tono_de_color_de_piel": 4
         },
         {
          "cuenta": 3,
          "estratos": "3) Medio Alto",
          "nom_entidad": "Sinaloa",
          "shape": "person",
          "tono_de_color_de_piel": 5
         },
         {
          "cuenta": 30,
          "estratos": "3) Medio Alto",
          "nom_entidad": "Sinaloa",
          "shape": "person",
          "tono_de_color_de_piel": 6
         },
         {
          "cuenta": 61,
          "estratos": "3) Medio Alto",
          "nom_entidad": "Sinaloa",
          "shape": "person",
          "tono_de_color_de_piel": 7
         },
         {
          "cuenta": 86,
          "estratos": "3) Medio Alto",
          "nom_entidad": "Sinaloa",
          "shape": "person",
          "tono_de_color_de_piel": 8
         },
         {
          "cuenta": 16,
          "estratos": "3) Medio Alto",
          "nom_entidad": "Sinaloa",
          "shape": "person",
          "tono_de_color_de_piel": 9
         },
         {
          "cuenta": 22,
          "estratos": "3) Medio Alto",
          "nom_entidad": "Sinaloa",
          "shape": "person",
          "tono_de_color_de_piel": 10
         },
         {
          "cuenta": 7,
          "estratos": "3) Medio Alto",
          "nom_entidad": "Sinaloa",
          "shape": "person",
          "tono_de_color_de_piel": 11
         },
         {
          "cuenta": 3,
          "estratos": "4) Alto",
          "nom_entidad": "Sinaloa",
          "shape": "person",
          "tono_de_color_de_piel": 6
         },
         {
          "cuenta": 25,
          "estratos": "4) Alto",
          "nom_entidad": "Sinaloa",
          "shape": "person",
          "tono_de_color_de_piel": 7
         },
         {
          "cuenta": 57,
          "estratos": "4) Alto",
          "nom_entidad": "Sinaloa",
          "shape": "person",
          "tono_de_color_de_piel": 8
         },
         {
          "cuenta": 12,
          "estratos": "4) Alto",
          "nom_entidad": "Sinaloa",
          "shape": "person",
          "tono_de_color_de_piel": 9
         },
         {
          "cuenta": 7,
          "estratos": "4) Alto",
          "nom_entidad": "Sinaloa",
          "shape": "person",
          "tono_de_color_de_piel": 10
         },
         {
          "cuenta": 3,
          "estratos": "4) Alto",
          "nom_entidad": "Sinaloa",
          "shape": "person",
          "tono_de_color_de_piel": 11
         },
         {
          "cuenta": 1,
          "estratos": "1) Bajo",
          "nom_entidad": "Sonora",
          "shape": "person",
          "tono_de_color_de_piel": 3
         },
         {
          "cuenta": 5,
          "estratos": "1) Bajo",
          "nom_entidad": "Sonora",
          "shape": "person",
          "tono_de_color_de_piel": 4
         },
         {
          "cuenta": 1,
          "estratos": "1) Bajo",
          "nom_entidad": "Sonora",
          "shape": "person",
          "tono_de_color_de_piel": 5
         },
         {
          "cuenta": 14,
          "estratos": "1) Bajo",
          "nom_entidad": "Sonora",
          "shape": "person",
          "tono_de_color_de_piel": 6
         },
         {
          "cuenta": 27,
          "estratos": "1) Bajo",
          "nom_entidad": "Sonora",
          "shape": "person",
          "tono_de_color_de_piel": 7
         },
         {
          "cuenta": 24,
          "estratos": "1) Bajo",
          "nom_entidad": "Sonora",
          "shape": "person",
          "tono_de_color_de_piel": 8
         },
         {
          "cuenta": 6,
          "estratos": "1) Bajo",
          "nom_entidad": "Sonora",
          "shape": "person",
          "tono_de_color_de_piel": 9
         },
         {
          "cuenta": 2,
          "estratos": "1) Bajo",
          "nom_entidad": "Sonora",
          "shape": "person",
          "tono_de_color_de_piel": 10
         },
         {
          "cuenta": 1,
          "estratos": "1) Bajo",
          "nom_entidad": "Sonora",
          "shape": "person",
          "tono_de_color_de_piel": 11
         },
         {
          "cuenta": 1,
          "estratos": "2) Medio Bajo",
          "nom_entidad": "Sonora",
          "shape": "person",
          "tono_de_color_de_piel": 1
         },
         {
          "cuenta": 3,
          "estratos": "2) Medio Bajo",
          "nom_entidad": "Sonora",
          "shape": "person",
          "tono_de_color_de_piel": 2
         },
         {
          "cuenta": 3,
          "estratos": "2) Medio Bajo",
          "nom_entidad": "Sonora",
          "shape": "person",
          "tono_de_color_de_piel": 3
         },
         {
          "cuenta": 3,
          "estratos": "2) Medio Bajo",
          "nom_entidad": "Sonora",
          "shape": "person",
          "tono_de_color_de_piel": 4
         },
         {
          "cuenta": 3,
          "estratos": "2) Medio Bajo",
          "nom_entidad": "Sonora",
          "shape": "person",
          "tono_de_color_de_piel": 5
         },
         {
          "cuenta": 19,
          "estratos": "2) Medio Bajo",
          "nom_entidad": "Sonora",
          "shape": "person",
          "tono_de_color_de_piel": 6
         },
         {
          "cuenta": 86,
          "estratos": "2) Medio Bajo",
          "nom_entidad": "Sonora",
          "shape": "person",
          "tono_de_color_de_piel": 7
         },
         {
          "cuenta": 150,
          "estratos": "2) Medio Bajo",
          "nom_entidad": "Sonora",
          "shape": "person",
          "tono_de_color_de_piel": 8
         },
         {
          "cuenta": 16,
          "estratos": "2) Medio Bajo",
          "nom_entidad": "Sonora",
          "shape": "person",
          "tono_de_color_de_piel": 9
         },
         {
          "cuenta": 17,
          "estratos": "2) Medio Bajo",
          "nom_entidad": "Sonora",
          "shape": "person",
          "tono_de_color_de_piel": 10
         },
         {
          "cuenta": 10,
          "estratos": "2) Medio Bajo",
          "nom_entidad": "Sonora",
          "shape": "person",
          "tono_de_color_de_piel": 11
         },
         {
          "cuenta": 5,
          "estratos": "3) Medio Alto",
          "nom_entidad": "Sonora",
          "shape": "person",
          "tono_de_color_de_piel": 4
         },
         {
          "cuenta": 2,
          "estratos": "3) Medio Alto",
          "nom_entidad": "Sonora",
          "shape": "person",
          "tono_de_color_de_piel": 5
         },
         {
          "cuenta": 21,
          "estratos": "3) Medio Alto",
          "nom_entidad": "Sonora",
          "shape": "person",
          "tono_de_color_de_piel": 6
         },
         {
          "cuenta": 83,
          "estratos": "3) Medio Alto",
          "nom_entidad": "Sonora",
          "shape": "person",
          "tono_de_color_de_piel": 7
         },
         {
          "cuenta": 131,
          "estratos": "3) Medio Alto",
          "nom_entidad": "Sonora",
          "shape": "person",
          "tono_de_color_de_piel": 8
         },
         {
          "cuenta": 29,
          "estratos": "3) Medio Alto",
          "nom_entidad": "Sonora",
          "shape": "person",
          "tono_de_color_de_piel": 9
         },
         {
          "cuenta": 19,
          "estratos": "3) Medio Alto",
          "nom_entidad": "Sonora",
          "shape": "person",
          "tono_de_color_de_piel": 10
         },
         {
          "cuenta": 7,
          "estratos": "3) Medio Alto",
          "nom_entidad": "Sonora",
          "shape": "person",
          "tono_de_color_de_piel": 11
         },
         {
          "cuenta": 1,
          "estratos": "4) Alto",
          "nom_entidad": "Sonora",
          "shape": "person",
          "tono_de_color_de_piel": 3
         },
         {
          "cuenta": 6,
          "estratos": "4) Alto",
          "nom_entidad": "Sonora",
          "shape": "person",
          "tono_de_color_de_piel": 6
         },
         {
          "cuenta": 14,
          "estratos": "4) Alto",
          "nom_entidad": "Sonora",
          "shape": "person",
          "tono_de_color_de_piel": 7
         },
         {
          "cuenta": 43,
          "estratos": "4) Alto",
          "nom_entidad": "Sonora",
          "shape": "person",
          "tono_de_color_de_piel": 8
         },
         {
          "cuenta": 9,
          "estratos": "4) Alto",
          "nom_entidad": "Sonora",
          "shape": "person",
          "tono_de_color_de_piel": 9
         },
         {
          "cuenta": 9,
          "estratos": "4) Alto",
          "nom_entidad": "Sonora",
          "shape": "person",
          "tono_de_color_de_piel": 10
         },
         {
          "cuenta": 10,
          "estratos": "4) Alto",
          "nom_entidad": "Sonora",
          "shape": "person",
          "tono_de_color_de_piel": 11
         },
         {
          "cuenta": 5,
          "estratos": "1) Bajo",
          "nom_entidad": "Tabasco",
          "shape": "person",
          "tono_de_color_de_piel": 3
         },
         {
          "cuenta": 5,
          "estratos": "1) Bajo",
          "nom_entidad": "Tabasco",
          "shape": "person",
          "tono_de_color_de_piel": 4
         },
         {
          "cuenta": 6,
          "estratos": "1) Bajo",
          "nom_entidad": "Tabasco",
          "shape": "person",
          "tono_de_color_de_piel": 5
         },
         {
          "cuenta": 54,
          "estratos": "1) Bajo",
          "nom_entidad": "Tabasco",
          "shape": "person",
          "tono_de_color_de_piel": 6
         },
         {
          "cuenta": 92,
          "estratos": "1) Bajo",
          "nom_entidad": "Tabasco",
          "shape": "person",
          "tono_de_color_de_piel": 7
         },
         {
          "cuenta": 78,
          "estratos": "1) Bajo",
          "nom_entidad": "Tabasco",
          "shape": "person",
          "tono_de_color_de_piel": 8
         },
         {
          "cuenta": 6,
          "estratos": "1) Bajo",
          "nom_entidad": "Tabasco",
          "shape": "person",
          "tono_de_color_de_piel": 9
         },
         {
          "cuenta": 8,
          "estratos": "1) Bajo",
          "nom_entidad": "Tabasco",
          "shape": "person",
          "tono_de_color_de_piel": 10
         },
         {
          "cuenta": 2,
          "estratos": "1) Bajo",
          "nom_entidad": "Tabasco",
          "shape": "person",
          "tono_de_color_de_piel": 11
         },
         {
          "cuenta": 1,
          "estratos": "2) Medio Bajo",
          "nom_entidad": "Tabasco",
          "shape": "person",
          "tono_de_color_de_piel": 1
         },
         {
          "cuenta": 2,
          "estratos": "2) Medio Bajo",
          "nom_entidad": "Tabasco",
          "shape": "person",
          "tono_de_color_de_piel": 2
         },
         {
          "cuenta": 1,
          "estratos": "2) Medio Bajo",
          "nom_entidad": "Tabasco",
          "shape": "person",
          "tono_de_color_de_piel": 3
         },
         {
          "cuenta": 5,
          "estratos": "2) Medio Bajo",
          "nom_entidad": "Tabasco",
          "shape": "person",
          "tono_de_color_de_piel": 4
         },
         {
          "cuenta": 10,
          "estratos": "2) Medio Bajo",
          "nom_entidad": "Tabasco",
          "shape": "person",
          "tono_de_color_de_piel": 5
         },
         {
          "cuenta": 82,
          "estratos": "2) Medio Bajo",
          "nom_entidad": "Tabasco",
          "shape": "person",
          "tono_de_color_de_piel": 6
         },
         {
          "cuenta": 166,
          "estratos": "2) Medio Bajo",
          "nom_entidad": "Tabasco",
          "shape": "person",
          "tono_de_color_de_piel": 7
         },
         {
          "cuenta": 183,
          "estratos": "2) Medio Bajo",
          "nom_entidad": "Tabasco",
          "shape": "person",
          "tono_de_color_de_piel": 8
         },
         {
          "cuenta": 20,
          "estratos": "2) Medio Bajo",
          "nom_entidad": "Tabasco",
          "shape": "person",
          "tono_de_color_de_piel": 9
         },
         {
          "cuenta": 26,
          "estratos": "2) Medio Bajo",
          "nom_entidad": "Tabasco",
          "shape": "person",
          "tono_de_color_de_piel": 10
         },
         {
          "cuenta": 7,
          "estratos": "2) Medio Bajo",
          "nom_entidad": "Tabasco",
          "shape": "person",
          "tono_de_color_de_piel": 11
         },
         {
          "cuenta": 2,
          "estratos": "3) Medio Alto",
          "nom_entidad": "Tabasco",
          "shape": "person",
          "tono_de_color_de_piel": 3
         },
         {
          "cuenta": 1,
          "estratos": "3) Medio Alto",
          "nom_entidad": "Tabasco",
          "shape": "person",
          "tono_de_color_de_piel": 4
         },
         {
          "cuenta": 2,
          "estratos": "3) Medio Alto",
          "nom_entidad": "Tabasco",
          "shape": "person",
          "tono_de_color_de_piel": 5
         },
         {
          "cuenta": 10,
          "estratos": "3) Medio Alto",
          "nom_entidad": "Tabasco",
          "shape": "person",
          "tono_de_color_de_piel": 6
         },
         {
          "cuenta": 15,
          "estratos": "3) Medio Alto",
          "nom_entidad": "Tabasco",
          "shape": "person",
          "tono_de_color_de_piel": 7
         },
         {
          "cuenta": 27,
          "estratos": "3) Medio Alto",
          "nom_entidad": "Tabasco",
          "shape": "person",
          "tono_de_color_de_piel": 8
         },
         {
          "cuenta": 6,
          "estratos": "3) Medio Alto",
          "nom_entidad": "Tabasco",
          "shape": "person",
          "tono_de_color_de_piel": 9
         },
         {
          "cuenta": 8,
          "estratos": "3) Medio Alto",
          "nom_entidad": "Tabasco",
          "shape": "person",
          "tono_de_color_de_piel": 10
         },
         {
          "cuenta": 1,
          "estratos": "3) Medio Alto",
          "nom_entidad": "Tabasco",
          "shape": "person",
          "tono_de_color_de_piel": 11
         },
         {
          "cuenta": 1,
          "estratos": "4) Alto",
          "nom_entidad": "Tabasco",
          "shape": "person",
          "tono_de_color_de_piel": 6
         },
         {
          "cuenta": 12,
          "estratos": "4) Alto",
          "nom_entidad": "Tabasco",
          "shape": "person",
          "tono_de_color_de_piel": 7
         },
         {
          "cuenta": 9,
          "estratos": "4) Alto",
          "nom_entidad": "Tabasco",
          "shape": "person",
          "tono_de_color_de_piel": 8
         },
         {
          "cuenta": 1,
          "estratos": "4) Alto",
          "nom_entidad": "Tabasco",
          "shape": "person",
          "tono_de_color_de_piel": 10
         },
         {
          "cuenta": 1,
          "estratos": "4) Alto",
          "nom_entidad": "Tabasco",
          "shape": "person",
          "tono_de_color_de_piel": 11
         },
         {
          "cuenta": 1,
          "estratos": "1) Bajo",
          "nom_entidad": "Tamaulipas",
          "shape": "person",
          "tono_de_color_de_piel": 1
         },
         {
          "cuenta": 3,
          "estratos": "1) Bajo",
          "nom_entidad": "Tamaulipas",
          "shape": "person",
          "tono_de_color_de_piel": 3
         },
         {
          "cuenta": 3,
          "estratos": "1) Bajo",
          "nom_entidad": "Tamaulipas",
          "shape": "person",
          "tono_de_color_de_piel": 4
         },
         {
          "cuenta": 5,
          "estratos": "1) Bajo",
          "nom_entidad": "Tamaulipas",
          "shape": "person",
          "tono_de_color_de_piel": 5
         },
         {
          "cuenta": 11,
          "estratos": "1) Bajo",
          "nom_entidad": "Tamaulipas",
          "shape": "person",
          "tono_de_color_de_piel": 6
         },
         {
          "cuenta": 27,
          "estratos": "1) Bajo",
          "nom_entidad": "Tamaulipas",
          "shape": "person",
          "tono_de_color_de_piel": 7
         },
         {
          "cuenta": 21,
          "estratos": "1) Bajo",
          "nom_entidad": "Tamaulipas",
          "shape": "person",
          "tono_de_color_de_piel": 8
         },
         {
          "cuenta": 6,
          "estratos": "1) Bajo",
          "nom_entidad": "Tamaulipas",
          "shape": "person",
          "tono_de_color_de_piel": 9
         },
         {
          "cuenta": 7,
          "estratos": "1) Bajo",
          "nom_entidad": "Tamaulipas",
          "shape": "person",
          "tono_de_color_de_piel": 10
         },
         {
          "cuenta": 1,
          "estratos": "2) Medio Bajo",
          "nom_entidad": "Tamaulipas",
          "shape": "person",
          "tono_de_color_de_piel": 1
         },
         {
          "cuenta": 5,
          "estratos": "2) Medio Bajo",
          "nom_entidad": "Tamaulipas",
          "shape": "person",
          "tono_de_color_de_piel": 2
         },
         {
          "cuenta": 9,
          "estratos": "2) Medio Bajo",
          "nom_entidad": "Tamaulipas",
          "shape": "person",
          "tono_de_color_de_piel": 3
         },
         {
          "cuenta": 23,
          "estratos": "2) Medio Bajo",
          "nom_entidad": "Tamaulipas",
          "shape": "person",
          "tono_de_color_de_piel": 4
         },
         {
          "cuenta": 17,
          "estratos": "2) Medio Bajo",
          "nom_entidad": "Tamaulipas",
          "shape": "person",
          "tono_de_color_de_piel": 5
         },
         {
          "cuenta": 55,
          "estratos": "2) Medio Bajo",
          "nom_entidad": "Tamaulipas",
          "shape": "person",
          "tono_de_color_de_piel": 6
         },
         {
          "cuenta": 125,
          "estratos": "2) Medio Bajo",
          "nom_entidad": "Tamaulipas",
          "shape": "person",
          "tono_de_color_de_piel": 7
         },
         {
          "cuenta": 131,
          "estratos": "2) Medio Bajo",
          "nom_entidad": "Tamaulipas",
          "shape": "person",
          "tono_de_color_de_piel": 8
         },
         {
          "cuenta": 15,
          "estratos": "2) Medio Bajo",
          "nom_entidad": "Tamaulipas",
          "shape": "person",
          "tono_de_color_de_piel": 9
         },
         {
          "cuenta": 21,
          "estratos": "2) Medio Bajo",
          "nom_entidad": "Tamaulipas",
          "shape": "person",
          "tono_de_color_de_piel": 10
         },
         {
          "cuenta": 2,
          "estratos": "2) Medio Bajo",
          "nom_entidad": "Tamaulipas",
          "shape": "person",
          "tono_de_color_de_piel": 11
         },
         {
          "cuenta": 1,
          "estratos": "3) Medio Alto",
          "nom_entidad": "Tamaulipas",
          "shape": "person",
          "tono_de_color_de_piel": 2
         },
         {
          "cuenta": 7,
          "estratos": "3) Medio Alto",
          "nom_entidad": "Tamaulipas",
          "shape": "person",
          "tono_de_color_de_piel": 4
         },
         {
          "cuenta": 8,
          "estratos": "3) Medio Alto",
          "nom_entidad": "Tamaulipas",
          "shape": "person",
          "tono_de_color_de_piel": 5
         },
         {
          "cuenta": 21,
          "estratos": "3) Medio Alto",
          "nom_entidad": "Tamaulipas",
          "shape": "person",
          "tono_de_color_de_piel": 6
         },
         {
          "cuenta": 46,
          "estratos": "3) Medio Alto",
          "nom_entidad": "Tamaulipas",
          "shape": "person",
          "tono_de_color_de_piel": 7
         },
         {
          "cuenta": 82,
          "estratos": "3) Medio Alto",
          "nom_entidad": "Tamaulipas",
          "shape": "person",
          "tono_de_color_de_piel": 8
         },
         {
          "cuenta": 14,
          "estratos": "3) Medio Alto",
          "nom_entidad": "Tamaulipas",
          "shape": "person",
          "tono_de_color_de_piel": 9
         },
         {
          "cuenta": 7,
          "estratos": "3) Medio Alto",
          "nom_entidad": "Tamaulipas",
          "shape": "person",
          "tono_de_color_de_piel": 10
         },
         {
          "cuenta": 4,
          "estratos": "3) Medio Alto",
          "nom_entidad": "Tamaulipas",
          "shape": "person",
          "tono_de_color_de_piel": 11
         },
         {
          "cuenta": 2,
          "estratos": "4) Alto",
          "nom_entidad": "Tamaulipas",
          "shape": "person",
          "tono_de_color_de_piel": 3
         },
         {
          "cuenta": 1,
          "estratos": "4) Alto",
          "nom_entidad": "Tamaulipas",
          "shape": "person",
          "tono_de_color_de_piel": 4
         },
         {
          "cuenta": 1,
          "estratos": "4) Alto",
          "nom_entidad": "Tamaulipas",
          "shape": "person",
          "tono_de_color_de_piel": 5
         },
         {
          "cuenta": 5,
          "estratos": "4) Alto",
          "nom_entidad": "Tamaulipas",
          "shape": "person",
          "tono_de_color_de_piel": 6
         },
         {
          "cuenta": 20,
          "estratos": "4) Alto",
          "nom_entidad": "Tamaulipas",
          "shape": "person",
          "tono_de_color_de_piel": 7
         },
         {
          "cuenta": 33,
          "estratos": "4) Alto",
          "nom_entidad": "Tamaulipas",
          "shape": "person",
          "tono_de_color_de_piel": 8
         },
         {
          "cuenta": 4,
          "estratos": "4) Alto",
          "nom_entidad": "Tamaulipas",
          "shape": "person",
          "tono_de_color_de_piel": 9
         },
         {
          "cuenta": 4,
          "estratos": "4) Alto",
          "nom_entidad": "Tamaulipas",
          "shape": "person",
          "tono_de_color_de_piel": 10
         },
         {
          "cuenta": 5,
          "estratos": "4) Alto",
          "nom_entidad": "Tamaulipas",
          "shape": "person",
          "tono_de_color_de_piel": 11
         },
         {
          "cuenta": 1,
          "estratos": "1) Bajo",
          "nom_entidad": "Tlaxcala",
          "shape": "person",
          "tono_de_color_de_piel": 4
         },
         {
          "cuenta": 6,
          "estratos": "1) Bajo",
          "nom_entidad": "Tlaxcala",
          "shape": "person",
          "tono_de_color_de_piel": 6
         },
         {
          "cuenta": 4,
          "estratos": "1) Bajo",
          "nom_entidad": "Tlaxcala",
          "shape": "person",
          "tono_de_color_de_piel": 7
         },
         {
          "cuenta": 5,
          "estratos": "1) Bajo",
          "nom_entidad": "Tlaxcala",
          "shape": "person",
          "tono_de_color_de_piel": 8
         },
         {
          "cuenta": 1,
          "estratos": "2) Medio Bajo",
          "nom_entidad": "Tlaxcala",
          "shape": "person",
          "tono_de_color_de_piel": 1
         },
         {
          "cuenta": 4,
          "estratos": "2) Medio Bajo",
          "nom_entidad": "Tlaxcala",
          "shape": "person",
          "tono_de_color_de_piel": 2
         },
         {
          "cuenta": 5,
          "estratos": "2) Medio Bajo",
          "nom_entidad": "Tlaxcala",
          "shape": "person",
          "tono_de_color_de_piel": 3
         },
         {
          "cuenta": 15,
          "estratos": "2) Medio Bajo",
          "nom_entidad": "Tlaxcala",
          "shape": "person",
          "tono_de_color_de_piel": 4
         },
         {
          "cuenta": 15,
          "estratos": "2) Medio Bajo",
          "nom_entidad": "Tlaxcala",
          "shape": "person",
          "tono_de_color_de_piel": 5
         },
         {
          "cuenta": 107,
          "estratos": "2) Medio Bajo",
          "nom_entidad": "Tlaxcala",
          "shape": "person",
          "tono_de_color_de_piel": 6
         },
         {
          "cuenta": 216,
          "estratos": "2) Medio Bajo",
          "nom_entidad": "Tlaxcala",
          "shape": "person",
          "tono_de_color_de_piel": 7
         },
         {
          "cuenta": 284,
          "estratos": "2) Medio Bajo",
          "nom_entidad": "Tlaxcala",
          "shape": "person",
          "tono_de_color_de_piel": 8
         },
         {
          "cuenta": 20,
          "estratos": "2) Medio Bajo",
          "nom_entidad": "Tlaxcala",
          "shape": "person",
          "tono_de_color_de_piel": 9
         },
         {
          "cuenta": 31,
          "estratos": "2) Medio Bajo",
          "nom_entidad": "Tlaxcala",
          "shape": "person",
          "tono_de_color_de_piel": 10
         },
         {
          "cuenta": 6,
          "estratos": "2) Medio Bajo",
          "nom_entidad": "Tlaxcala",
          "shape": "person",
          "tono_de_color_de_piel": 11
         },
         {
          "cuenta": 1,
          "estratos": "3) Medio Alto",
          "nom_entidad": "Tlaxcala",
          "shape": "person",
          "tono_de_color_de_piel": 4
         },
         {
          "cuenta": 1,
          "estratos": "3) Medio Alto",
          "nom_entidad": "Tlaxcala",
          "shape": "person",
          "tono_de_color_de_piel": 6
         },
         {
          "cuenta": 16,
          "estratos": "3) Medio Alto",
          "nom_entidad": "Tlaxcala",
          "shape": "person",
          "tono_de_color_de_piel": 7
         },
         {
          "cuenta": 29,
          "estratos": "3) Medio Alto",
          "nom_entidad": "Tlaxcala",
          "shape": "person",
          "tono_de_color_de_piel": 8
         },
         {
          "cuenta": 1,
          "estratos": "4) Alto",
          "nom_entidad": "Tlaxcala",
          "shape": "person",
          "tono_de_color_de_piel": 5
         },
         {
          "cuenta": 2,
          "estratos": "4) Alto",
          "nom_entidad": "Tlaxcala",
          "shape": "person",
          "tono_de_color_de_piel": 6
         },
         {
          "cuenta": 10,
          "estratos": "4) Alto",
          "nom_entidad": "Tlaxcala",
          "shape": "person",
          "tono_de_color_de_piel": 7
         },
         {
          "cuenta": 19,
          "estratos": "4) Alto",
          "nom_entidad": "Tlaxcala",
          "shape": "person",
          "tono_de_color_de_piel": 8
         },
         {
          "cuenta": 4,
          "estratos": "4) Alto",
          "nom_entidad": "Tlaxcala",
          "shape": "person",
          "tono_de_color_de_piel": 9
         },
         {
          "cuenta": 2,
          "estratos": "4) Alto",
          "nom_entidad": "Tlaxcala",
          "shape": "person",
          "tono_de_color_de_piel": 10
         },
         {
          "cuenta": 3,
          "estratos": "1) Bajo",
          "nom_entidad": "Veracruz de Ignacio de la Llave",
          "shape": "person",
          "tono_de_color_de_piel": 1
         },
         {
          "cuenta": 4,
          "estratos": "1) Bajo",
          "nom_entidad": "Veracruz de Ignacio de la Llave",
          "shape": "person",
          "tono_de_color_de_piel": 2
         },
         {
          "cuenta": 9,
          "estratos": "1) Bajo",
          "nom_entidad": "Veracruz de Ignacio de la Llave",
          "shape": "person",
          "tono_de_color_de_piel": 3
         },
         {
          "cuenta": 15,
          "estratos": "1) Bajo",
          "nom_entidad": "Veracruz de Ignacio de la Llave",
          "shape": "person",
          "tono_de_color_de_piel": 4
         },
         {
          "cuenta": 5,
          "estratos": "1) Bajo",
          "nom_entidad": "Veracruz de Ignacio de la Llave",
          "shape": "person",
          "tono_de_color_de_piel": 5
         },
         {
          "cuenta": 75,
          "estratos": "1) Bajo",
          "nom_entidad": "Veracruz de Ignacio de la Llave",
          "shape": "person",
          "tono_de_color_de_piel": 6
         },
         {
          "cuenta": 72,
          "estratos": "1) Bajo",
          "nom_entidad": "Veracruz de Ignacio de la Llave",
          "shape": "person",
          "tono_de_color_de_piel": 7
         },
         {
          "cuenta": 66,
          "estratos": "1) Bajo",
          "nom_entidad": "Veracruz de Ignacio de la Llave",
          "shape": "person",
          "tono_de_color_de_piel": 8
         },
         {
          "cuenta": 10,
          "estratos": "1) Bajo",
          "nom_entidad": "Veracruz de Ignacio de la Llave",
          "shape": "person",
          "tono_de_color_de_piel": 9
         },
         {
          "cuenta": 5,
          "estratos": "1) Bajo",
          "nom_entidad": "Veracruz de Ignacio de la Llave",
          "shape": "person",
          "tono_de_color_de_piel": 10
         },
         {
          "cuenta": 6,
          "estratos": "1) Bajo",
          "nom_entidad": "Veracruz de Ignacio de la Llave",
          "shape": "person",
          "tono_de_color_de_piel": 11
         },
         {
          "cuenta": 2,
          "estratos": "2) Medio Bajo",
          "nom_entidad": "Veracruz de Ignacio de la Llave",
          "shape": "person",
          "tono_de_color_de_piel": 1
         },
         {
          "cuenta": 5,
          "estratos": "2) Medio Bajo",
          "nom_entidad": "Veracruz de Ignacio de la Llave",
          "shape": "person",
          "tono_de_color_de_piel": 2
         },
         {
          "cuenta": 7,
          "estratos": "2) Medio Bajo",
          "nom_entidad": "Veracruz de Ignacio de la Llave",
          "shape": "person",
          "tono_de_color_de_piel": 3
         },
         {
          "cuenta": 16,
          "estratos": "2) Medio Bajo",
          "nom_entidad": "Veracruz de Ignacio de la Llave",
          "shape": "person",
          "tono_de_color_de_piel": 4
         },
         {
          "cuenta": 7,
          "estratos": "2) Medio Bajo",
          "nom_entidad": "Veracruz de Ignacio de la Llave",
          "shape": "person",
          "tono_de_color_de_piel": 5
         },
         {
          "cuenta": 60,
          "estratos": "2) Medio Bajo",
          "nom_entidad": "Veracruz de Ignacio de la Llave",
          "shape": "person",
          "tono_de_color_de_piel": 6
         },
         {
          "cuenta": 144,
          "estratos": "2) Medio Bajo",
          "nom_entidad": "Veracruz de Ignacio de la Llave",
          "shape": "person",
          "tono_de_color_de_piel": 7
         },
         {
          "cuenta": 136,
          "estratos": "2) Medio Bajo",
          "nom_entidad": "Veracruz de Ignacio de la Llave",
          "shape": "person",
          "tono_de_color_de_piel": 8
         },
         {
          "cuenta": 12,
          "estratos": "2) Medio Bajo",
          "nom_entidad": "Veracruz de Ignacio de la Llave",
          "shape": "person",
          "tono_de_color_de_piel": 9
         },
         {
          "cuenta": 13,
          "estratos": "2) Medio Bajo",
          "nom_entidad": "Veracruz de Ignacio de la Llave",
          "shape": "person",
          "tono_de_color_de_piel": 10
         },
         {
          "cuenta": 8,
          "estratos": "2) Medio Bajo",
          "nom_entidad": "Veracruz de Ignacio de la Llave",
          "shape": "person",
          "tono_de_color_de_piel": 11
         },
         {
          "cuenta": 1,
          "estratos": "3) Medio Alto",
          "nom_entidad": "Veracruz de Ignacio de la Llave",
          "shape": "person",
          "tono_de_color_de_piel": 2
         },
         {
          "cuenta": 3,
          "estratos": "3) Medio Alto",
          "nom_entidad": "Veracruz de Ignacio de la Llave",
          "shape": "person",
          "tono_de_color_de_piel": 6
         },
         {
          "cuenta": 28,
          "estratos": "3) Medio Alto",
          "nom_entidad": "Veracruz de Ignacio de la Llave",
          "shape": "person",
          "tono_de_color_de_piel": 7
         },
         {
          "cuenta": 26,
          "estratos": "3) Medio Alto",
          "nom_entidad": "Veracruz de Ignacio de la Llave",
          "shape": "person",
          "tono_de_color_de_piel": 8
         },
         {
          "cuenta": 1,
          "estratos": "3) Medio Alto",
          "nom_entidad": "Veracruz de Ignacio de la Llave",
          "shape": "person",
          "tono_de_color_de_piel": 9
         },
         {
          "cuenta": 1,
          "estratos": "3) Medio Alto",
          "nom_entidad": "Veracruz de Ignacio de la Llave",
          "shape": "person",
          "tono_de_color_de_piel": 10
         },
         {
          "cuenta": 2,
          "estratos": "3) Medio Alto",
          "nom_entidad": "Veracruz de Ignacio de la Llave",
          "shape": "person",
          "tono_de_color_de_piel": 11
         },
         {
          "cuenta": 1,
          "estratos": "4) Alto",
          "nom_entidad": "Veracruz de Ignacio de la Llave",
          "shape": "person",
          "tono_de_color_de_piel": 6
         },
         {
          "cuenta": 7,
          "estratos": "4) Alto",
          "nom_entidad": "Veracruz de Ignacio de la Llave",
          "shape": "person",
          "tono_de_color_de_piel": 7
         },
         {
          "cuenta": 3,
          "estratos": "4) Alto",
          "nom_entidad": "Veracruz de Ignacio de la Llave",
          "shape": "person",
          "tono_de_color_de_piel": 8
         },
         {
          "cuenta": 1,
          "estratos": "4) Alto",
          "nom_entidad": "Veracruz de Ignacio de la Llave",
          "shape": "person",
          "tono_de_color_de_piel": 9
         },
         {
          "cuenta": 5,
          "estratos": "1) Bajo",
          "nom_entidad": "Yucatán",
          "shape": "person",
          "tono_de_color_de_piel": 3
         },
         {
          "cuenta": 16,
          "estratos": "1) Bajo",
          "nom_entidad": "Yucatán",
          "shape": "person",
          "tono_de_color_de_piel": 4
         },
         {
          "cuenta": 8,
          "estratos": "1) Bajo",
          "nom_entidad": "Yucatán",
          "shape": "person",
          "tono_de_color_de_piel": 5
         },
         {
          "cuenta": 44,
          "estratos": "1) Bajo",
          "nom_entidad": "Yucatán",
          "shape": "person",
          "tono_de_color_de_piel": 6
         },
         {
          "cuenta": 86,
          "estratos": "1) Bajo",
          "nom_entidad": "Yucatán",
          "shape": "person",
          "tono_de_color_de_piel": 7
         },
         {
          "cuenta": 98,
          "estratos": "1) Bajo",
          "nom_entidad": "Yucatán",
          "shape": "person",
          "tono_de_color_de_piel": 8
         },
         {
          "cuenta": 7,
          "estratos": "1) Bajo",
          "nom_entidad": "Yucatán",
          "shape": "person",
          "tono_de_color_de_piel": 9
         },
         {
          "cuenta": 10,
          "estratos": "1) Bajo",
          "nom_entidad": "Yucatán",
          "shape": "person",
          "tono_de_color_de_piel": 10
         },
         {
          "cuenta": 4,
          "estratos": "1) Bajo",
          "nom_entidad": "Yucatán",
          "shape": "person",
          "tono_de_color_de_piel": 11
         },
         {
          "cuenta": 1,
          "estratos": "2) Medio Bajo",
          "nom_entidad": "Yucatán",
          "shape": "person",
          "tono_de_color_de_piel": 2
         },
         {
          "cuenta": 2,
          "estratos": "2) Medio Bajo",
          "nom_entidad": "Yucatán",
          "shape": "person",
          "tono_de_color_de_piel": 3
         },
         {
          "cuenta": 18,
          "estratos": "2) Medio Bajo",
          "nom_entidad": "Yucatán",
          "shape": "person",
          "tono_de_color_de_piel": 4
         },
         {
          "cuenta": 7,
          "estratos": "2) Medio Bajo",
          "nom_entidad": "Yucatán",
          "shape": "person",
          "tono_de_color_de_piel": 5
         },
         {
          "cuenta": 44,
          "estratos": "2) Medio Bajo",
          "nom_entidad": "Yucatán",
          "shape": "person",
          "tono_de_color_de_piel": 6
         },
         {
          "cuenta": 112,
          "estratos": "2) Medio Bajo",
          "nom_entidad": "Yucatán",
          "shape": "person",
          "tono_de_color_de_piel": 7
         },
         {
          "cuenta": 132,
          "estratos": "2) Medio Bajo",
          "nom_entidad": "Yucatán",
          "shape": "person",
          "tono_de_color_de_piel": 8
         },
         {
          "cuenta": 14,
          "estratos": "2) Medio Bajo",
          "nom_entidad": "Yucatán",
          "shape": "person",
          "tono_de_color_de_piel": 9
         },
         {
          "cuenta": 11,
          "estratos": "2) Medio Bajo",
          "nom_entidad": "Yucatán",
          "shape": "person",
          "tono_de_color_de_piel": 10
         },
         {
          "cuenta": 6,
          "estratos": "2) Medio Bajo",
          "nom_entidad": "Yucatán",
          "shape": "person",
          "tono_de_color_de_piel": 11
         },
         {
          "cuenta": 1,
          "estratos": "3) Medio Alto",
          "nom_entidad": "Yucatán",
          "shape": "person",
          "tono_de_color_de_piel": 2
         },
         {
          "cuenta": 2,
          "estratos": "3) Medio Alto",
          "nom_entidad": "Yucatán",
          "shape": "person",
          "tono_de_color_de_piel": 3
         },
         {
          "cuenta": 4,
          "estratos": "3) Medio Alto",
          "nom_entidad": "Yucatán",
          "shape": "person",
          "tono_de_color_de_piel": 4
         },
         {
          "cuenta": 1,
          "estratos": "3) Medio Alto",
          "nom_entidad": "Yucatán",
          "shape": "person",
          "tono_de_color_de_piel": 5
         },
         {
          "cuenta": 9,
          "estratos": "3) Medio Alto",
          "nom_entidad": "Yucatán",
          "shape": "person",
          "tono_de_color_de_piel": 6
         },
         {
          "cuenta": 45,
          "estratos": "3) Medio Alto",
          "nom_entidad": "Yucatán",
          "shape": "person",
          "tono_de_color_de_piel": 7
         },
         {
          "cuenta": 57,
          "estratos": "3) Medio Alto",
          "nom_entidad": "Yucatán",
          "shape": "person",
          "tono_de_color_de_piel": 8
         },
         {
          "cuenta": 3,
          "estratos": "3) Medio Alto",
          "nom_entidad": "Yucatán",
          "shape": "person",
          "tono_de_color_de_piel": 9
         },
         {
          "cuenta": 8,
          "estratos": "3) Medio Alto",
          "nom_entidad": "Yucatán",
          "shape": "person",
          "tono_de_color_de_piel": 10
         },
         {
          "cuenta": 3,
          "estratos": "3) Medio Alto",
          "nom_entidad": "Yucatán",
          "shape": "person",
          "tono_de_color_de_piel": 11
         },
         {
          "cuenta": 1,
          "estratos": "4) Alto",
          "nom_entidad": "Yucatán",
          "shape": "person",
          "tono_de_color_de_piel": 4
         },
         {
          "cuenta": 8,
          "estratos": "4) Alto",
          "nom_entidad": "Yucatán",
          "shape": "person",
          "tono_de_color_de_piel": 6
         },
         {
          "cuenta": 12,
          "estratos": "4) Alto",
          "nom_entidad": "Yucatán",
          "shape": "person",
          "tono_de_color_de_piel": 7
         },
         {
          "cuenta": 43,
          "estratos": "4) Alto",
          "nom_entidad": "Yucatán",
          "shape": "person",
          "tono_de_color_de_piel": 8
         },
         {
          "cuenta": 6,
          "estratos": "4) Alto",
          "nom_entidad": "Yucatán",
          "shape": "person",
          "tono_de_color_de_piel": 10
         },
         {
          "cuenta": 7,
          "estratos": "4) Alto",
          "nom_entidad": "Yucatán",
          "shape": "person",
          "tono_de_color_de_piel": 11
         },
         {
          "cuenta": 1,
          "estratos": "1) Bajo",
          "nom_entidad": "Zacatecas",
          "shape": "person",
          "tono_de_color_de_piel": 2
         },
         {
          "cuenta": 1,
          "estratos": "1) Bajo",
          "nom_entidad": "Zacatecas",
          "shape": "person",
          "tono_de_color_de_piel": 3
         },
         {
          "cuenta": 2,
          "estratos": "1) Bajo",
          "nom_entidad": "Zacatecas",
          "shape": "person",
          "tono_de_color_de_piel": 4
         },
         {
          "cuenta": 4,
          "estratos": "1) Bajo",
          "nom_entidad": "Zacatecas",
          "shape": "person",
          "tono_de_color_de_piel": 5
         },
         {
          "cuenta": 15,
          "estratos": "1) Bajo",
          "nom_entidad": "Zacatecas",
          "shape": "person",
          "tono_de_color_de_piel": 6
         },
         {
          "cuenta": 34,
          "estratos": "1) Bajo",
          "nom_entidad": "Zacatecas",
          "shape": "person",
          "tono_de_color_de_piel": 7
         },
         {
          "cuenta": 43,
          "estratos": "1) Bajo",
          "nom_entidad": "Zacatecas",
          "shape": "person",
          "tono_de_color_de_piel": 8
         },
         {
          "cuenta": 4,
          "estratos": "1) Bajo",
          "nom_entidad": "Zacatecas",
          "shape": "person",
          "tono_de_color_de_piel": 9
         },
         {
          "cuenta": 4,
          "estratos": "1) Bajo",
          "nom_entidad": "Zacatecas",
          "shape": "person",
          "tono_de_color_de_piel": 10
         },
         {
          "cuenta": 4,
          "estratos": "1) Bajo",
          "nom_entidad": "Zacatecas",
          "shape": "person",
          "tono_de_color_de_piel": 11
         },
         {
          "cuenta": 1,
          "estratos": "2) Medio Bajo",
          "nom_entidad": "Zacatecas",
          "shape": "person",
          "tono_de_color_de_piel": 2
         },
         {
          "cuenta": 7,
          "estratos": "2) Medio Bajo",
          "nom_entidad": "Zacatecas",
          "shape": "person",
          "tono_de_color_de_piel": 3
         },
         {
          "cuenta": 15,
          "estratos": "2) Medio Bajo",
          "nom_entidad": "Zacatecas",
          "shape": "person",
          "tono_de_color_de_piel": 4
         },
         {
          "cuenta": 7,
          "estratos": "2) Medio Bajo",
          "nom_entidad": "Zacatecas",
          "shape": "person",
          "tono_de_color_de_piel": 5
         },
         {
          "cuenta": 55,
          "estratos": "2) Medio Bajo",
          "nom_entidad": "Zacatecas",
          "shape": "person",
          "tono_de_color_de_piel": 6
         },
         {
          "cuenta": 166,
          "estratos": "2) Medio Bajo",
          "nom_entidad": "Zacatecas",
          "shape": "person",
          "tono_de_color_de_piel": 7
         },
         {
          "cuenta": 200,
          "estratos": "2) Medio Bajo",
          "nom_entidad": "Zacatecas",
          "shape": "person",
          "tono_de_color_de_piel": 8
         },
         {
          "cuenta": 22,
          "estratos": "2) Medio Bajo",
          "nom_entidad": "Zacatecas",
          "shape": "person",
          "tono_de_color_de_piel": 9
         },
         {
          "cuenta": 22,
          "estratos": "2) Medio Bajo",
          "nom_entidad": "Zacatecas",
          "shape": "person",
          "tono_de_color_de_piel": 10
         },
         {
          "cuenta": 13,
          "estratos": "2) Medio Bajo",
          "nom_entidad": "Zacatecas",
          "shape": "person",
          "tono_de_color_de_piel": 11
         },
         {
          "cuenta": 2,
          "estratos": "3) Medio Alto",
          "nom_entidad": "Zacatecas",
          "shape": "person",
          "tono_de_color_de_piel": 4
         },
         {
          "cuenta": 1,
          "estratos": "3) Medio Alto",
          "nom_entidad": "Zacatecas",
          "shape": "person",
          "tono_de_color_de_piel": 5
         },
         {
          "cuenta": 13,
          "estratos": "3) Medio Alto",
          "nom_entidad": "Zacatecas",
          "shape": "person",
          "tono_de_color_de_piel": 6
         },
         {
          "cuenta": 44,
          "estratos": "3) Medio Alto",
          "nom_entidad": "Zacatecas",
          "shape": "person",
          "tono_de_color_de_piel": 7
         },
         {
          "cuenta": 76,
          "estratos": "3) Medio Alto",
          "nom_entidad": "Zacatecas",
          "shape": "person",
          "tono_de_color_de_piel": 8
         },
         {
          "cuenta": 7,
          "estratos": "3) Medio Alto",
          "nom_entidad": "Zacatecas",
          "shape": "person",
          "tono_de_color_de_piel": 9
         },
         {
          "cuenta": 11,
          "estratos": "3) Medio Alto",
          "nom_entidad": "Zacatecas",
          "shape": "person",
          "tono_de_color_de_piel": 10
         },
         {
          "cuenta": 6,
          "estratos": "3) Medio Alto",
          "nom_entidad": "Zacatecas",
          "shape": "person",
          "tono_de_color_de_piel": 11
         },
         {
          "cuenta": 1,
          "estratos": "4) Alto",
          "nom_entidad": "Zacatecas",
          "shape": "person",
          "tono_de_color_de_piel": 5
         },
         {
          "cuenta": 1,
          "estratos": "4) Alto",
          "nom_entidad": "Zacatecas",
          "shape": "person",
          "tono_de_color_de_piel": 6
         },
         {
          "cuenta": 8,
          "estratos": "4) Alto",
          "nom_entidad": "Zacatecas",
          "shape": "person",
          "tono_de_color_de_piel": 7
         },
         {
          "cuenta": 24,
          "estratos": "4) Alto",
          "nom_entidad": "Zacatecas",
          "shape": "person",
          "tono_de_color_de_piel": 8
         },
         {
          "cuenta": 2,
          "estratos": "4) Alto",
          "nom_entidad": "Zacatecas",
          "shape": "person",
          "tono_de_color_de_piel": 9
         },
         {
          "cuenta": 3,
          "estratos": "4) Alto",
          "nom_entidad": "Zacatecas",
          "shape": "person",
          "tono_de_color_de_piel": 10
         },
         {
          "cuenta": 2,
          "estratos": "4) Alto",
          "nom_entidad": "Zacatecas",
          "shape": "person",
          "tono_de_color_de_piel": 11
         }
        ]
       },
       "encoding": {
        "color": {
         "field": "tono_de_color_de_piel",
         "legend": null,
         "scale": {
          "domain": [
           1,
           2,
           3,
           4,
           5,
           6,
           7,
           8,
           9,
           10,
           11
          ],
          "range": [
           "#322e25",
           "#3d230c",
           "#4a382e",
           "#684d3c",
           "#7e6352",
           "#95765a",
           "#b59a7f",
           "#dec09a",
           "#e1b8b2",
           "#f2d0d1",
           "#f9ebeb"
          ]
         },
         "type": "nominal"
        },
        "column": {
         "field": "estratos",
         "header": {
          "title": "INEGI (MMSI) 2016: Estrato Socioeconomico"
         },
         "type": "ordinal"
        },
        "opacity": {
         "value": 1
        },
        "row": {
         "field": "nom_entidad",
         "header": {
          "labelAngle": 360,
          "title": ""
         },
         "type": "ordinal"
        },
        "shape": {
         "field": "shape",
         "legend": null,
         "scale": {
          "domain": [
           "person"
          ],
          "range": [
           "M1.7 -1.7h-0.8c0.3 -0.2 0.6 -0.5 0.6 -0.9c0 -0.6 -0.4 -1 -1 -1c-0.6 0 -1 0.4 -1 1c0 0.4 0.2 0.7 0.6 0.9h-0.8c-0.4 0 -0.7 0.3 -0.7 0.6v1.9c0 0.3 0.3 0.6 0.6 0.6h0.2c0 0 0 0.1 0 0.1v1.9c0 0.3 0.2 0.6 0.3 0.6h1.3c0.2 0 0.3 -0.3 0.3 -0.6v-1.8c0 0 0 -0.1 0 -0.1h0.2c0.3 0 0.6 -0.3 0.6 -0.6v-2c0.2 -0.3 -0.1 -0.6 -0.4 -0.6z",
           "M1.7 -1.7h-0.8c0.3 -0.2 0.6 -0.5 0.6 -0.9c0 -0.6 -0.4 -1 -1 -1c-0.6 0 -1 0.4 -1 1c0 0.4 0.2 0.7 0.6 0.9h-0.8c-0.4 0 -0.7 0.3 -0.7 0.6v1.9c0 0.3 0.3 0.6 0.6 0.6h0.2c0 0 0 0.1 0 0.1v1.9c0 0.3 0.2 0.6 0.3 0.6h1.3c0.2 0 0.3 -0.3 0.3 -0.6v-1.8c0 0 0 -0.1 0 -0.1h0.2c0.3 0 0.6 -0.3 0.6 -0.6v-2c0.2 -0.3 -0.1 -0.6 -0.4 -0.6z",
           "M1.7 -1.7h-0.8c0.3 -0.2 0.6 -0.5 0.6 -0.9c0 -0.6 -0.4 -1 -1 -1c-0.6 0 -1 0.4 -1 1c0 0.4 0.2 0.7 0.6 0.9h-0.8c-0.4 0 -0.7 0.3 -0.7 0.6v1.9c0 0.3 0.3 0.6 0.6 0.6h0.2c0 0 0 0.1 0 0.1v1.9c0 0.3 0.2 0.6 0.3 0.6h1.3c0.2 0 0.3 -0.3 0.3 -0.6v-1.8c0 0 0 -0.1 0 -0.1h0.2c0.3 0 0.6 -0.3 0.6 -0.6v-2c0.2 -0.3 -0.1 -0.6 -0.4 -0.6z",
           "M1.7 -1.7h-0.8c0.3 -0.2 0.6 -0.5 0.6 -0.9c0 -0.6 -0.4 -1 -1 -1c-0.6 0 -1 0.4 -1 1c0 0.4 0.2 0.7 0.6 0.9h-0.8c-0.4 0 -0.7 0.3 -0.7 0.6v1.9c0 0.3 0.3 0.6 0.6 0.6h0.2c0 0 0 0.1 0 0.1v1.9c0 0.3 0.2 0.6 0.3 0.6h1.3c0.2 0 0.3 -0.3 0.3 -0.6v-1.8c0 0 0 -0.1 0 -0.1h0.2c0.3 0 0.6 -0.3 0.6 -0.6v-2c0.2 -0.3 -0.1 -0.6 -0.4 -0.6z",
           "M1.7 -1.7h-0.8c0.3 -0.2 0.6 -0.5 0.6 -0.9c0 -0.6 -0.4 -1 -1 -1c-0.6 0 -1 0.4 -1 1c0 0.4 0.2 0.7 0.6 0.9h-0.8c-0.4 0 -0.7 0.3 -0.7 0.6v1.9c0 0.3 0.3 0.6 0.6 0.6h0.2c0 0 0 0.1 0 0.1v1.9c0 0.3 0.2 0.6 0.3 0.6h1.3c0.2 0 0.3 -0.3 0.3 -0.6v-1.8c0 0 0 -0.1 0 -0.1h0.2c0.3 0 0.6 -0.3 0.6 -0.6v-2c0.2 -0.3 -0.1 -0.6 -0.4 -0.6z",
           "M1.7 -1.7h-0.8c0.3 -0.2 0.6 -0.5 0.6 -0.9c0 -0.6 -0.4 -1 -1 -1c-0.6 0 -1 0.4 -1 1c0 0.4 0.2 0.7 0.6 0.9h-0.8c-0.4 0 -0.7 0.3 -0.7 0.6v1.9c0 0.3 0.3 0.6 0.6 0.6h0.2c0 0 0 0.1 0 0.1v1.9c0 0.3 0.2 0.6 0.3 0.6h1.3c0.2 0 0.3 -0.3 0.3 -0.6v-1.8c0 0 0 -0.1 0 -0.1h0.2c0.3 0 0.6 -0.3 0.6 -0.6v-2c0.2 -0.3 -0.1 -0.6 -0.4 -0.6z",
           "M1.7 -1.7h-0.8c0.3 -0.2 0.6 -0.5 0.6 -0.9c0 -0.6 -0.4 -1 -1 -1c-0.6 0 -1 0.4 -1 1c0 0.4 0.2 0.7 0.6 0.9h-0.8c-0.4 0 -0.7 0.3 -0.7 0.6v1.9c0 0.3 0.3 0.6 0.6 0.6h0.2c0 0 0 0.1 0 0.1v1.9c0 0.3 0.2 0.6 0.3 0.6h1.3c0.2 0 0.3 -0.3 0.3 -0.6v-1.8c0 0 0 -0.1 0 -0.1h0.2c0.3 0 0.6 -0.3 0.6 -0.6v-2c0.2 -0.3 -0.1 -0.6 -0.4 -0.6z",
           "M1.7 -1.7h-0.8c0.3 -0.2 0.6 -0.5 0.6 -0.9c0 -0.6 -0.4 -1 -1 -1c-0.6 0 -1 0.4 -1 1c0 0.4 0.2 0.7 0.6 0.9h-0.8c-0.4 0 -0.7 0.3 -0.7 0.6v1.9c0 0.3 0.3 0.6 0.6 0.6h0.2c0 0 0 0.1 0 0.1v1.9c0 0.3 0.2 0.6 0.3 0.6h1.3c0.2 0 0.3 -0.3 0.3 -0.6v-1.8c0 0 0 -0.1 0 -0.1h0.2c0.3 0 0.6 -0.3 0.6 -0.6v-2c0.2 -0.3 -0.1 -0.6 -0.4 -0.6z",
           "M1.7 -1.7h-0.8c0.3 -0.2 0.6 -0.5 0.6 -0.9c0 -0.6 -0.4 -1 -1 -1c-0.6 0 -1 0.4 -1 1c0 0.4 0.2 0.7 0.6 0.9h-0.8c-0.4 0 -0.7 0.3 -0.7 0.6v1.9c0 0.3 0.3 0.6 0.6 0.6h0.2c0 0 0 0.1 0 0.1v1.9c0 0.3 0.2 0.6 0.3 0.6h1.3c0.2 0 0.3 -0.3 0.3 -0.6v-1.8c0 0 0 -0.1 0 -0.1h0.2c0.3 0 0.6 -0.3 0.6 -0.6v-2c0.2 -0.3 -0.1 -0.6 -0.4 -0.6z",
           "M1.7 -1.7h-0.8c0.3 -0.2 0.6 -0.5 0.6 -0.9c0 -0.6 -0.4 -1 -1 -1c-0.6 0 -1 0.4 -1 1c0 0.4 0.2 0.7 0.6 0.9h-0.8c-0.4 0 -0.7 0.3 -0.7 0.6v1.9c0 0.3 0.3 0.6 0.6 0.6h0.2c0 0 0 0.1 0 0.1v1.9c0 0.3 0.2 0.6 0.3 0.6h1.3c0.2 0 0.3 -0.3 0.3 -0.6v-1.8c0 0 0 -0.1 0 -0.1h0.2c0.3 0 0.6 -0.3 0.6 -0.6v-2c0.2 -0.3 -0.1 -0.6 -0.4 -0.6z",
           "M1.7 -1.7h-0.8c0.3 -0.2 0.6 -0.5 0.6 -0.9c0 -0.6 -0.4 -1 -1 -1c-0.6 0 -1 0.4 -1 1c0 0.4 0.2 0.7 0.6 0.9h-0.8c-0.4 0 -0.7 0.3 -0.7 0.6v1.9c0 0.3 0.3 0.6 0.6 0.6h0.2c0 0 0 0.1 0 0.1v1.9c0 0.3 0.2 0.6 0.3 0.6h1.3c0.2 0 0.3 -0.3 0.3 -0.6v-1.8c0 0 0 -0.1 0 -0.1h0.2c0.3 0 0.6 -0.3 0.6 -0.6v-2c0.2 -0.3 -0.1 -0.6 -0.4 -0.6z"
          ]
         },
         "type": "nominal"
        },
        "x": {
         "axis": null,
         "field": "cuenta",
         "type": "quantitative"
        },
        "y": {
         "axis": null,
         "field": "tono_de_color_de_piel",
         "type": "ordinal"
        }
       },
       "height": 100,
       "mark": {
        "filled": true,
        "stroke": "#282828",
        "strokeWidth": 0.3,
        "type": "point"
       },
       "title": "05 Visualizing Strata",
       "width": 100
      },
      "image/png": "[encoded data removed]",
      "text/plain": [
       "<VegaLite 2 object>\n",
       "\n",
       "If you see this message, it means the renderer has not been properly enabled\n",
       "for the frontend that you are using. For more information, see\n",
       "https://altair-viz.github.io/user_guide/troubleshooting.html\n"
      ]
     },
     "execution_count": 81,
     "metadata": {},
     "output_type": "execute_result"
    }
   ],
   "source": [
    "df =  pd.read_csv(\"../data/processed/data_cleaned.csv\", encoding = \"utf-8\",)\n",
    "df.sort_values(\"estrato_socioeconomico\", inplace = True)\n",
    "\n",
    "\n",
    "data = df.groupby([\"nom_entidad\", \"estratos\", \"tono_de_color_de_piel\"])[\"cuenta\"].sum().to_frame().reset_index()\n",
    "data[\"shape\"] = \"person\"\n",
    "\n",
    "domains = [1,2,3,4,5,6,7,8,9,10,11]\n",
    "colors = [\"#322e25\", \"#3d230c\", \"#4a382e\", \"#684d3c\", \"#7e6352\", \"#95765a\", \"#b59a7f\", \"#dec09a\", \"#e1b8b2\", \"#f2d0d1\", \"#f9ebeb\"]\n",
    "\n",
    "person = 'M1.7 -1.7h-0.8c0.3 -0.2 0.6 -0.5 0.6 -0.9c0 -0.6 -0.4 -1 -1 -1c-0.6 0 -1 0.4 -1 1c0 0.4 0.2 0.7 0.6 0.9h-0.8c-0.4 0 -0.7 0.3 -0.7 0.6v1.9c0 0.3 0.3 0.6 0.6 0.6h0.2c0 0 0 0.1 0 0.1v1.9c0 0.3 0.2 0.6 0.3 0.6h1.3c0.2 0 0.3 -0.3 0.3 -0.6v-1.8c0 0 0 -0.1 0 -0.1h0.2c0.3 0 0.6 -0.3 0.6 -0.6v-2c0.2 -0.3 -0.1 -0.6 -0.4 -0.6z'\n",
    "        \n",
    "shape_scale = alt.Scale(\n",
    "    domain=[\"person\"],\n",
    "    range=[\n",
    "        person, person, person, person, person, person, person, person, person, person, person, \n",
    "    ]\n",
    ")\n",
    "\n",
    "color_scale = alt.Scale(\n",
    "    domain=domains,\n",
    "    range=colors\n",
    ")\n",
    "\n",
    "\n",
    "bar = alt.Chart(data).mark_point(filled=True, strokeWidth = 0.3, stroke = \"#282828\").encode(\n",
    "    alt.X('cuenta:Q', axis=None),\n",
    "    alt.Y('tono_de_color_de_piel:O', axis=None),\n",
    "    alt.Column('estratos:O', header=alt.Header(title=\"INEGI (MMSI) 2016: Estrato Socioeconomico\"),),\n",
    "    alt.Color('tono_de_color_de_piel:N', legend=None, scale=color_scale),\n",
    "    alt.OpacityValue(1),\n",
    "    alt.Row(\"nom_entidad:O\", header=alt.Header(title = \"\", labelAngle=360,)),\n",
    "    alt.Shape(\"shape:N\", scale = shape_scale, legend = None,)\n",
    ").properties(width=100, height=100)\n",
    "\n",
    "bar.properties(title = \"05 Visualizing Strata\")"
   ]
  }
 ],
 "metadata": {
  "kernelspec": {
   "display_name": "Python 3",
   "language": "python",
   "name": "python3"
  },
  "language_info": {
   "codemirror_mode": {
    "name": "ipython",
    "version": 3
   },
   "file_extension": ".py",
   "mimetype": "text/x-python",
   "name": "python",
   "nbconvert_exporter": "python",
   "pygments_lexer": "ipython3",
   "version": "3.6.6"
  }
 },
 "nbformat": 4,
 "nbformat_minor": 2
}
