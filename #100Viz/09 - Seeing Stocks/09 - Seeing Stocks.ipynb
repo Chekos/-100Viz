{
 "cells": [
  {
   "cell_type": "code",
   "execution_count": null,
   "metadata": {},
   "outputs": [],
   "source": [
    "import quandl\n",
    "import pandas as pd"
   ]
  },
  {
   "cell_type": "code",
   "execution_count": null,
   "metadata": {},
   "outputs": [],
   "source": [
    "quandl.ApiConfig.api_key = \"\""
   ]
  },
  {
   "cell_type": "code",
   "execution_count": null,
   "metadata": {},
   "outputs": [],
   "source": [
    "data = quandl.get(['WIKI/AAPL.11','WIKI/MSFT.11',, 'WIKI/FB.11',], start_date='2010-01-01', end_date='2018-01-01',)"
   ]
  },
  {
   "cell_type": "code",
   "execution_count": null,
   "metadata": {},
   "outputs": [],
   "source": [
    "data.shape"
   ]
  },
  {
   "cell_type": "code",
   "execution_count": null,
   "metadata": {},
   "outputs": [],
   "source": [
    "data.head()"
   ]
  },
  {
   "cell_type": "code",
   "execution_count": null,
   "metadata": {},
   "outputs": [],
   "source": [
    "df = data.reset_index()"
   ]
  },
  {
   "cell_type": "code",
   "execution_count": null,
   "metadata": {},
   "outputs": [],
   "source": [
    "dff = df.melt(id_vars = 'Date').groupby(['Date', 'variable']).sum().reset_index()"
   ]
  },
  {
   "cell_type": "code",
   "execution_count": null,
   "metadata": {},
   "outputs": [],
   "source": [
    "dff.columns = ['Date', 'Stock', 'Value']"
   ]
  },
  {
   "cell_type": "code",
   "execution_count": null,
   "metadata": {},
   "outputs": [],
   "source": [
    "import altair as alt\n",
    "import ipywidgets as widgets\n",
    "from ipywidgets import interact\n",
    "%run cimarron_theme_mod.py\n",
    "alt.data_transformers.enable('default', max_rows=None)"
   ]
  },
  {
   "cell_type": "code",
   "execution_count": null,
   "metadata": {},
   "outputs": [],
   "source": [
    "%%html\n",
    "<style>\n",
    "@import url('https://fonts.googleapis.com/css?family=Ubuntu|Ubuntu+Condensed|Ubuntu+Mono');\n",
    "</style>"
   ]
  },
  {
   "cell_type": "code",
   "execution_count": null,
   "metadata": {},
   "outputs": [],
   "source": [
    "@interact(date = widgets.Play(\n",
    "    value=1262563200000000000,\n",
    "    min= 1262563200000000000,\n",
    "    max= 1514505600000000000,\n",
    "    step=86400000000000, # day \n",
    "    description=\"Press play\",\n",
    "))\n",
    "def chart_maker(date):\n",
    "    data_int = dff[dff['Date'] < numpy.datetime64(date, 'ns')]\n",
    "\n",
    "    chart = alt.Chart(data_int).mark_line().encode(\n",
    "            x = alt.X(\"Date:T\", scale = alt.Scale(domain = [\"2010-01-01\", \"2018-01-02\"])),\n",
    "            y = alt.Y(\"Value:Q\"),\n",
    "            color = alt.Color(\"Stock:N\")\n",
    "        ).properties(\n",
    "            title = \"09 Seeing Stocks\"\n",
    "    )\n",
    "    return chart"
   ]
  }
 ],
 "metadata": {
  "kernelspec": {
   "display_name": "Python 3",
   "language": "python",
   "name": "python3"
  },
  "language_info": {
   "codemirror_mode": {
    "name": "ipython",
    "version": 3
   },
   "file_extension": ".py",
   "mimetype": "text/x-python",
   "name": "python",
   "nbconvert_exporter": "python",
   "pygments_lexer": "ipython3",
   "version": "3.6.5"
  }
 },
 "nbformat": 4,
 "nbformat_minor": 2
}
