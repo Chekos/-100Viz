{
 "cells": [
  {
   "cell_type": "markdown",
   "metadata": {},
   "source": [
    "# Testing Cimarrón Theme\n",
    "\n",
    "1. Maybe lighter background?\n",
    "2. Try to import a google font beforehand see if it works"
   ]
  },
  {
   "cell_type": "code",
   "execution_count": 169,
   "metadata": {},
   "outputs": [],
   "source": [
    "import altair as alt\n",
    "import pandas as pd\n",
    "from vega_datasets import data\n",
    "%run ../scripts/cimarron_theme.py"
   ]
  },
  {
   "cell_type": "code",
   "execution_count": 170,
   "metadata": {},
   "outputs": [],
   "source": [
    "population = data.population.url\n",
    "\n",
    "# Define aggregate fields\n",
    "lower_box = 'q1(people):Q'\n",
    "lower_whisker = 'min(people):Q'\n",
    "upper_box = 'q3(people):Q'\n",
    "upper_whisker = 'max(people):Q'\n",
    "\n",
    "# Compose each layer individually\n",
    "lower_plot = alt.Chart(population).mark_rule().encode(\n",
    "    y=alt.Y(lower_whisker, axis=alt.Axis(title=\"population\")),\n",
    "    y2=lower_box,\n",
    "    x='age:O'\n",
    ")\n",
    "\n",
    "middle_plot = alt.Chart(population).mark_bar(size=5.0).encode(\n",
    "    y=lower_box,\n",
    "    y2=upper_box,\n",
    "    x='age:O'\n",
    ")\n",
    "\n",
    "upper_plot = alt.Chart(population).mark_rule().encode(\n",
    "    y=upper_whisker,\n",
    "    y2=upper_box,\n",
    "    x='age:O'\n",
    ")\n",
    "\n",
    "middle_tick = alt.Chart(population).mark_tick(\n",
    "    color='white',\n",
    "    size=5.0\n",
    ").encode(\n",
    "    y='median(people):Q',\n",
    "    x='age:O',\n",
    ")\n",
    "\n",
    "text = alt.Chart(population).mark_text()\n",
    "chart1 = lower_plot + middle_plot + upper_plot + middle_tick & text\n"
   ]
  },
  {
   "cell_type": "code",
   "execution_count": 171,
   "metadata": {},
   "outputs": [
    {
     "data": {
      "application/vnd.vegalite.v2+json": {
       "$schema": "https://vega.github.io/schema/vega-lite/v2.4.1.json",
       "config": {
        "arc": {
         "fill": "#282828"
        },
        "area": {
         "fill": "#282828"
        },
        "axisBand": {
         "grid": false
        },
        "axisBottom": {
         "domain": false,
         "domainColor": "black",
         "domainWidth": 3,
         "grid": true,
         "gridColor": "#282828",
         "gridWidth": 1,
         "labelFont": "Ubuntu Condensed",
         "labelFontSize": 12,
         "labelPadding": 4,
         "tickColor": "#282828",
         "tickSize": 10,
         "titleFont": "Ubuntu",
         "titleFontSize": 14,
         "titlePadding": 10
        },
        "axisLeft": {
         "domainColor": "#282828",
         "domainWidth": 1,
         "gridColor": "#282828",
         "gridWidth": 1,
         "labelFont": "Ubuntu Condensed",
         "labelFontSize": 12,
         "labelPadding": 4,
         "tickColor": "#282828",
         "tickSize": 10,
         "ticks": true,
         "titleFont": "Ubuntu",
         "titleFontSize": 14,
         "titlePadding": 10
        },
        "axisRight": {
         "domainColor": "#282828",
         "domainWidth": 1,
         "gridColor": "#282828",
         "gridWidth": 1,
         "labelFont": "Ubuntu Condensed",
         "labelFontSize": 12,
         "labelPadding": 4,
         "tickColor": "#282828",
         "tickSize": 10,
         "ticks": true,
         "titleFont": "Ubuntu",
         "titleFontSize": 14,
         "titlePadding": 10
        },
        "axisTop": {
         "domain": false,
         "domainColor": "black",
         "domainWidth": 3,
         "grid": true,
         "gridColor": "#282828",
         "gridWidth": 1,
         "labelFont": "Ubuntu Condensed",
         "labelFontSize": 12,
         "labelPadding": 4,
         "tickColor": "#282828",
         "tickSize": 10,
         "titleFont": "Ubuntu",
         "titleFontSize": 14,
         "titlePadding": 10
        },
        "background": "#FFFAFA",
        "geoshape": {
         "fill": "#C0C0C0"
        },
        "group": {
         "fill": "#FFFAFA"
        },
        "legend": {
         "labelFont": "Ubuntu Condensed",
         "labelFontSize": 11,
         "padding": 1,
         "symbolSize": 30,
         "symbolType": "square",
         "titleFont": "Ubuntu",
         "titleFontSize": 14,
         "titlePadding": 10
        },
        "line": {
         "stroke": "#282828",
         "strokewidth": 2
        },
        "path": {
         "stroke": "#282828",
         "strokeWidth": 0.5
        },
        "point": {
         "filled": true
        },
        "range": {
         "category": [
          "#dc0d7a",
          "#02a3cd",
          "#e4a100",
          "#dc0d12",
          "#074a7e",
          "#e46800",
          "#aa3594",
          "#a20c4b"
         ],
         "diverging": [
          "#dc0d12",
          "#e9686b",
          "#fbe1e1",
          "#dff4f9",
          "#81d1e6",
          "#03a3cd"
         ],
         "heatmap": [
          "#fcdfef",
          "#f8bfde",
          "#f59fce",
          "#f180be",
          "#ee60ad",
          "#eb409d",
          "#e7208c",
          "#e4007c"
         ]
        },
        "rect": {
         "fill": "#282828"
        },
        "style": {
         "bar": {
          "binSpacing": 2,
          "fill": "#282828",
          "stroke": false
         }
        },
        "symbol": {
         "opacity": 1,
         "shape": "circle",
         "size": 40,
         "strokeWidth": 1
        },
        "text": {
         "align": "right",
         "font": "Ubuntu Mono",
         "fontSize": 10,
         "href": "https://twitter.com/ChekosWH",
         "text": "Made by @ChekosWH"
        },
        "title": {
         "anchor": "start",
         "font": "Ubuntu",
         "fontSize": 24,
         "fontWeight": 600,
         "offset": 20
        },
        "view": {
         "stroke": false
        }
       },
       "height": 400,
       "vconcat": [
        {
         "layer": [
          {
           "data": {
            "format": {
             "type": "json"
            },
            "url": "https://vega.github.io/vega-datasets/data/population.json"
           },
           "encoding": {
            "x": {
             "field": "age",
             "type": "ordinal"
            },
            "y": {
             "aggregate": "min",
             "axis": {
              "title": "population"
             },
             "field": "people",
             "type": "quantitative"
            },
            "y2": {
             "aggregate": "q1",
             "field": "people",
             "type": "quantitative"
            }
           },
           "mark": "rule"
          },
          {
           "data": {
            "format": {
             "type": "json"
            },
            "url": "https://vega.github.io/vega-datasets/data/population.json"
           },
           "encoding": {
            "x": {
             "field": "age",
             "type": "ordinal"
            },
            "y": {
             "aggregate": "q1",
             "field": "people",
             "type": "quantitative"
            },
            "y2": {
             "aggregate": "q3",
             "field": "people",
             "type": "quantitative"
            }
           },
           "mark": {
            "size": 5,
            "type": "bar"
           }
          },
          {
           "data": {
            "format": {
             "type": "json"
            },
            "url": "https://vega.github.io/vega-datasets/data/population.json"
           },
           "encoding": {
            "x": {
             "field": "age",
             "type": "ordinal"
            },
            "y": {
             "aggregate": "max",
             "field": "people",
             "type": "quantitative"
            },
            "y2": {
             "aggregate": "q3",
             "field": "people",
             "type": "quantitative"
            }
           },
           "mark": "rule"
          },
          {
           "data": {
            "format": {
             "type": "json"
            },
            "url": "https://vega.github.io/vega-datasets/data/population.json"
           },
           "encoding": {
            "x": {
             "field": "age",
             "type": "ordinal"
            },
            "y": {
             "aggregate": "median",
             "field": "people",
             "type": "quantitative"
            }
           },
           "mark": {
            "color": "white",
            "size": 5,
            "type": "tick"
           }
          }
         ]
        },
        {
         "data": {
          "format": {
           "type": "json"
          },
          "url": "https://vega.github.io/vega-datasets/data/population.json"
         },
         "mark": "text"
        }
       ],
       "width": 600
      },
      "text/plain": [
       "<VegaLite 2 object>\n",
       "\n",
       "If you see this message, it means the renderer has not been properly enabled\n",
       "for the frontend that you are using. For more information, see\n",
       "https://altair-viz.github.io/user_guide/troubleshooting.html\n"
      ]
     },
     "execution_count": 171,
     "metadata": {},
     "output_type": "execute_result"
    }
   ],
   "source": [
    "chart1"
   ]
  },
  {
   "cell_type": "code",
   "execution_count": 9,
   "metadata": {},
   "outputs": [
    {
     "data": {
      "text/plain": [
       "ThemeRegistry.enable('cimarron')"
      ]
     },
     "execution_count": 9,
     "metadata": {},
     "output_type": "execute_result"
    }
   ],
   "source": [
    "alt.themes.enable('cimarron')"
   ]
  },
  {
   "cell_type": "code",
   "execution_count": 85,
   "metadata": {},
   "outputs": [
    {
     "data": {
      "text/html": [
       "<style>\n",
       "@import url('https://fonts.googleapis.com/css?family=Ubuntu|Ubuntu+Condensed|Ubuntu+Mono');\n",
       "</style>"
      ],
      "text/plain": [
       "<IPython.core.display.HTML object>"
      ]
     },
     "metadata": {},
     "output_type": "display_data"
    }
   ],
   "source": [
    "%%html\n",
    "<style>\n",
    "@import url('https://fonts.googleapis.com/css?family=Ubuntu|Ubuntu+Condensed|Ubuntu+Mono');\n",
    "</style>"
   ]
  },
  {
   "cell_type": "code",
   "execution_count": 172,
   "metadata": {},
   "outputs": [
    {
     "data": {
      "application/vnd.vegalite.v2+json": {
       "$schema": "https://vega.github.io/schema/vega-lite/v2.4.1.json",
       "config": {
        "arc": {
         "fill": "#282828"
        },
        "area": {
         "fill": "#282828"
        },
        "axisBand": {
         "grid": false
        },
        "axisBottom": {
         "domain": false,
         "domainColor": "black",
         "domainWidth": 3,
         "grid": true,
         "gridColor": "#282828",
         "gridWidth": 1,
         "labelFont": "Ubuntu Condensed",
         "labelFontSize": 12,
         "labelPadding": 4,
         "tickColor": "#282828",
         "tickSize": 10,
         "titleFont": "Ubuntu",
         "titleFontSize": 14,
         "titlePadding": 10
        },
        "axisLeft": {
         "domainColor": "#282828",
         "domainWidth": 1,
         "gridColor": "#282828",
         "gridWidth": 1,
         "labelFont": "Ubuntu Condensed",
         "labelFontSize": 12,
         "labelPadding": 4,
         "tickColor": "#282828",
         "tickSize": 10,
         "ticks": true,
         "titleFont": "Ubuntu",
         "titleFontSize": 14,
         "titlePadding": 10
        },
        "axisRight": {
         "domainColor": "#282828",
         "domainWidth": 1,
         "gridColor": "#282828",
         "gridWidth": 1,
         "labelFont": "Ubuntu Condensed",
         "labelFontSize": 12,
         "labelPadding": 4,
         "tickColor": "#282828",
         "tickSize": 10,
         "ticks": true,
         "titleFont": "Ubuntu",
         "titleFontSize": 14,
         "titlePadding": 10
        },
        "axisTop": {
         "domain": false,
         "domainColor": "black",
         "domainWidth": 3,
         "grid": true,
         "gridColor": "#282828",
         "gridWidth": 1,
         "labelFont": "Ubuntu Condensed",
         "labelFontSize": 12,
         "labelPadding": 4,
         "tickColor": "#282828",
         "tickSize": 10,
         "titleFont": "Ubuntu",
         "titleFontSize": 14,
         "titlePadding": 10
        },
        "background": "#FFFAFA",
        "geoshape": {
         "fill": "#C0C0C0"
        },
        "group": {
         "fill": "#FFFAFA"
        },
        "legend": {
         "labelFont": "Ubuntu Condensed",
         "labelFontSize": 11,
         "padding": 1,
         "symbolSize": 30,
         "symbolType": "square",
         "titleFont": "Ubuntu",
         "titleFontSize": 14,
         "titlePadding": 10
        },
        "line": {
         "stroke": "#282828",
         "strokewidth": 2
        },
        "path": {
         "stroke": "#282828",
         "strokeWidth": 0.5
        },
        "point": {
         "filled": true
        },
        "range": {
         "category": [
          "#dc0d7a",
          "#02a3cd",
          "#e4a100",
          "#dc0d12",
          "#074a7e",
          "#e46800",
          "#aa3594",
          "#a20c4b"
         ],
         "diverging": [
          "#dc0d12",
          "#e9686b",
          "#fbe1e1",
          "#dff4f9",
          "#81d1e6",
          "#03a3cd"
         ],
         "heatmap": [
          "#fcdfef",
          "#f8bfde",
          "#f59fce",
          "#f180be",
          "#ee60ad",
          "#eb409d",
          "#e7208c",
          "#e4007c"
         ]
        },
        "rect": {
         "fill": "#282828"
        },
        "style": {
         "bar": {
          "binSpacing": 2,
          "fill": "#282828",
          "stroke": false
         }
        },
        "symbol": {
         "opacity": 1,
         "shape": "circle",
         "size": 40,
         "strokeWidth": 1
        },
        "text": {
         "align": "right",
         "font": "Ubuntu Mono",
         "fontSize": 10,
         "href": "https://twitter.com/ChekosWH",
         "text": "Made by @ChekosWH"
        },
        "title": {
         "anchor": "start",
         "font": "Ubuntu",
         "fontSize": 24,
         "fontWeight": 600,
         "offset": 20
        },
        "view": {
         "stroke": false
        }
       },
       "height": 400,
       "title": "box plot",
       "vconcat": [
        {
         "layer": [
          {
           "data": {
            "format": {
             "type": "json"
            },
            "url": "https://vega.github.io/vega-datasets/data/population.json"
           },
           "encoding": {
            "x": {
             "field": "age",
             "type": "ordinal"
            },
            "y": {
             "aggregate": "min",
             "axis": {
              "title": "population"
             },
             "field": "people",
             "type": "quantitative"
            },
            "y2": {
             "aggregate": "q1",
             "field": "people",
             "type": "quantitative"
            }
           },
           "mark": "rule"
          },
          {
           "data": {
            "format": {
             "type": "json"
            },
            "url": "https://vega.github.io/vega-datasets/data/population.json"
           },
           "encoding": {
            "x": {
             "field": "age",
             "type": "ordinal"
            },
            "y": {
             "aggregate": "q1",
             "field": "people",
             "type": "quantitative"
            },
            "y2": {
             "aggregate": "q3",
             "field": "people",
             "type": "quantitative"
            }
           },
           "mark": {
            "size": 5,
            "type": "bar"
           }
          },
          {
           "data": {
            "format": {
             "type": "json"
            },
            "url": "https://vega.github.io/vega-datasets/data/population.json"
           },
           "encoding": {
            "x": {
             "field": "age",
             "type": "ordinal"
            },
            "y": {
             "aggregate": "max",
             "field": "people",
             "type": "quantitative"
            },
            "y2": {
             "aggregate": "q3",
             "field": "people",
             "type": "quantitative"
            }
           },
           "mark": "rule"
          },
          {
           "data": {
            "format": {
             "type": "json"
            },
            "url": "https://vega.github.io/vega-datasets/data/population.json"
           },
           "encoding": {
            "x": {
             "field": "age",
             "type": "ordinal"
            },
            "y": {
             "aggregate": "median",
             "field": "people",
             "type": "quantitative"
            }
           },
           "mark": {
            "color": "white",
            "size": 5,
            "type": "tick"
           }
          }
         ]
        },
        {
         "data": {
          "format": {
           "type": "json"
          },
          "url": "https://vega.github.io/vega-datasets/data/population.json"
         },
         "mark": "text"
        }
       ],
       "width": 600
      },
      "text/plain": [
       "<VegaLite 2 object>\n",
       "\n",
       "If you see this message, it means the renderer has not been properly enabled\n",
       "for the frontend that you are using. For more information, see\n",
       "https://altair-viz.github.io/user_guide/troubleshooting.html\n"
      ]
     },
     "execution_count": 172,
     "metadata": {},
     "output_type": "execute_result"
    }
   ],
   "source": [
    "chart1.properties(title = \"box plot\")"
   ]
  },
  {
   "cell_type": "code",
   "execution_count": 92,
   "metadata": {},
   "outputs": [],
   "source": [
    "%run ../scripts/cimarron_theme.py"
   ]
  },
  {
   "cell_type": "code",
   "execution_count": 93,
   "metadata": {},
   "outputs": [],
   "source": [
    "text = alt.Chart(population).mark_text(text = \"Source: altair-viz.github.io\")"
   ]
  },
  {
   "cell_type": "code",
   "execution_count": 94,
   "metadata": {},
   "outputs": [
    {
     "data": {
      "application/vnd.vegalite.v2+json": {
       "$schema": "https://vega.github.io/schema/vega-lite/v2.4.1.json",
       "config": {
        "arc": {
         "fill": "#282828"
        },
        "area": {
         "fill": "#282828"
        },
        "axisBand": {
         "grid": false
        },
        "axisBottom": {
         "domain": false,
         "domainColor": "black",
         "domainWidth": 3,
         "grid": true,
         "gridColor": "#282828",
         "gridWidth": 1,
         "labelFont": "Ubuntu Condensed",
         "labelFontSize": 12,
         "labelPadding": 4,
         "tickColor": "#282828",
         "tickSize": 10,
         "titleFont": "Ubuntu",
         "titleFontSize": 14,
         "titlePadding": 10
        },
        "axisLeft": {
         "domainColor": "#282828",
         "domainWidth": 1,
         "gridColor": "#282828",
         "gridWidth": 1,
         "labelFont": "Ubuntu Condensed",
         "labelFontSize": 12,
         "labelPadding": 4,
         "tickColor": "#282828",
         "tickSize": 10,
         "ticks": true,
         "titleFont": "Ubuntu",
         "titleFontSize": 14,
         "titlePadding": 10
        },
        "axisRight": {
         "domainColor": "#282828",
         "domainWidth": 1,
         "gridColor": "#282828",
         "gridWidth": 1,
         "labelFont": "Ubuntu Condensed",
         "labelFontSize": 12,
         "labelPadding": 4,
         "tickColor": "#282828",
         "tickSize": 10,
         "ticks": true,
         "titleFont": "Ubuntu",
         "titleFontSize": 14,
         "titlePadding": 10
        },
        "axisTop": {
         "domain": false,
         "domainColor": "black",
         "domainWidth": 3,
         "grid": true,
         "gridColor": "#282828",
         "gridWidth": 1,
         "labelFont": "Ubuntu Condensed",
         "labelFontSize": 12,
         "labelPadding": 4,
         "tickColor": "#282828",
         "tickSize": 10,
         "titleFont": "Ubuntu",
         "titleFontSize": 14,
         "titlePadding": 10
        },
        "background": "#FFF8F9",
        "group": {
         "fill": "#FFF8F9"
        },
        "legend": {
         "labelFont": "Ubuntu Condensed",
         "labelFontSize": 11,
         "padding": 1,
         "symbolSize": 30,
         "symbolType": "square",
         "titleFont": "Ubuntu",
         "titleFontSize": 14,
         "titlePadding": 10
        },
        "line": {
         "stroke": "#282828",
         "strokewidth": 2
        },
        "path": {
         "stroke": "#282828",
         "strokeWidth": 0.5
        },
        "point": {
         "filled": true
        },
        "range": {
         "category": [
          "#dc0d7a",
          "#02a3cd",
          "#e4a100",
          "#dc0d12",
          "#074a7e",
          "#e46800",
          "#aa3594",
          "#a20c4b"
         ],
         "diverging": [
          "#dc0d12",
          "#e9686b",
          "#fbe1e1",
          "#dff4f9",
          "#81d1e6",
          "#03a3cd"
         ],
         "heatmap": [
          "#fcdfef",
          "#f8bfde",
          "#f59fce",
          "#f180be",
          "#ee60ad",
          "#eb409d",
          "#e7208c",
          "#e4007c"
         ]
        },
        "rect": {
         "fill": "#282828"
        },
        "style": {
         "bar": {
          "binSpacing": 2,
          "fill": "#282828",
          "stroke": "null"
         }
        },
        "symbol": {
         "opacity": 1,
         "shape": "circle",
         "size": 40,
         "strokeWidth": 1
        },
        "text": {
         "align": "right",
         "font": "Ubuntu Mono",
         "fontSize": 10,
         "fontWeight": 100,
         "href": "https://twitter.com/ChekosWH",
         "text": "Made by @ChekosWH"
        },
        "title": {
         "anchor": "start",
         "font": "Ubuntu",
         "fontSize": 24,
         "fontWeight": 600,
         "offset": 20
        },
        "view": {
         "stroke": false
        }
       },
       "height": 400,
       "vconcat": [
        {
         "vconcat": [
          {
           "layer": [
            {
             "data": {
              "format": {
               "type": "json"
              },
              "url": "https://vega.github.io/vega-datasets/data/population.json"
             },
             "encoding": {
              "x": {
               "field": "age",
               "type": "ordinal"
              },
              "y": {
               "aggregate": "min",
               "axis": {
                "title": "population"
               },
               "field": "people",
               "type": "quantitative"
              },
              "y2": {
               "aggregate": "q1",
               "field": "people",
               "type": "quantitative"
              }
             },
             "mark": "rule"
            },
            {
             "data": {
              "format": {
               "type": "json"
              },
              "url": "https://vega.github.io/vega-datasets/data/population.json"
             },
             "encoding": {
              "x": {
               "field": "age",
               "type": "ordinal"
              },
              "y": {
               "aggregate": "q1",
               "field": "people",
               "type": "quantitative"
              },
              "y2": {
               "aggregate": "q3",
               "field": "people",
               "type": "quantitative"
              }
             },
             "mark": {
              "size": 5,
              "type": "bar"
             }
            },
            {
             "data": {
              "format": {
               "type": "json"
              },
              "url": "https://vega.github.io/vega-datasets/data/population.json"
             },
             "encoding": {
              "x": {
               "field": "age",
               "type": "ordinal"
              },
              "y": {
               "aggregate": "max",
               "field": "people",
               "type": "quantitative"
              },
              "y2": {
               "aggregate": "q3",
               "field": "people",
               "type": "quantitative"
              }
             },
             "mark": "rule"
            },
            {
             "data": {
              "format": {
               "type": "json"
              },
              "url": "https://vega.github.io/vega-datasets/data/population.json"
             },
             "encoding": {
              "x": {
               "field": "age",
               "type": "ordinal"
              },
              "y": {
               "aggregate": "median",
               "field": "people",
               "type": "quantitative"
              }
             },
             "mark": {
              "color": "white",
              "size": 5,
              "type": "tick"
             }
            }
           ]
          },
          {
           "data": {
            "format": {
             "type": "json"
            },
            "url": "https://vega.github.io/vega-datasets/data/population.json"
           },
           "mark": "text"
          }
         ]
        },
        {
         "data": {
          "format": {
           "type": "json"
          },
          "url": "https://vega.github.io/vega-datasets/data/population.json"
         },
         "height": 40,
         "mark": {
          "text": "Source: altair-viz.github.io",
          "type": "text"
         },
         "width": 400
        }
       ],
       "width": 600
      },
      "text/plain": [
       "<VegaLite 2 object>\n",
       "\n",
       "If you see this message, it means the renderer has not been properly enabled\n",
       "for the frontend that you are using. For more information, see\n",
       "https://altair-viz.github.io/user_guide/troubleshooting.html\n"
      ]
     },
     "execution_count": 94,
     "metadata": {},
     "output_type": "execute_result"
    }
   ],
   "source": [
    "alt.vconcat(chart1, text.properties(height = 40, width = 400,))"
   ]
  },
  {
   "cell_type": "code",
   "execution_count": 96,
   "metadata": {},
   "outputs": [
    {
     "data": {
      "application/vnd.vegalite.v2+json": {
       "$schema": "https://vega.github.io/schema/vega-lite/v2.4.1.json",
       "config": {
        "arc": {
         "fill": "#282828"
        },
        "area": {
         "fill": "#282828"
        },
        "axisBand": {
         "grid": false
        },
        "axisBottom": {
         "domain": false,
         "domainColor": "black",
         "domainWidth": 3,
         "grid": true,
         "gridColor": "#282828",
         "gridWidth": 1,
         "labelFont": "Ubuntu Condensed",
         "labelFontSize": 12,
         "labelPadding": 4,
         "tickColor": "#282828",
         "tickSize": 10,
         "titleFont": "Ubuntu",
         "titleFontSize": 14,
         "titlePadding": 10
        },
        "axisLeft": {
         "domainColor": "#282828",
         "domainWidth": 1,
         "gridColor": "#282828",
         "gridWidth": 1,
         "labelFont": "Ubuntu Condensed",
         "labelFontSize": 12,
         "labelPadding": 4,
         "tickColor": "#282828",
         "tickSize": 10,
         "ticks": true,
         "titleFont": "Ubuntu",
         "titleFontSize": 14,
         "titlePadding": 10
        },
        "axisRight": {
         "domainColor": "#282828",
         "domainWidth": 1,
         "gridColor": "#282828",
         "gridWidth": 1,
         "labelFont": "Ubuntu Condensed",
         "labelFontSize": 12,
         "labelPadding": 4,
         "tickColor": "#282828",
         "tickSize": 10,
         "ticks": true,
         "titleFont": "Ubuntu",
         "titleFontSize": 14,
         "titlePadding": 10
        },
        "axisTop": {
         "domain": false,
         "domainColor": "black",
         "domainWidth": 3,
         "grid": true,
         "gridColor": "#282828",
         "gridWidth": 1,
         "labelFont": "Ubuntu Condensed",
         "labelFontSize": 12,
         "labelPadding": 4,
         "tickColor": "#282828",
         "tickSize": 10,
         "titleFont": "Ubuntu",
         "titleFontSize": 14,
         "titlePadding": 10
        },
        "background": "#FFF8F9",
        "group": {
         "fill": "#FFF8F9"
        },
        "legend": {
         "labelFont": "Ubuntu Condensed",
         "labelFontSize": 11,
         "padding": 1,
         "symbolSize": 30,
         "symbolType": "square",
         "titleFont": "Ubuntu",
         "titleFontSize": 14,
         "titlePadding": 10
        },
        "line": {
         "stroke": "#282828",
         "strokewidth": 2
        },
        "path": {
         "stroke": "#282828",
         "strokeWidth": 0.5
        },
        "point": {
         "filled": true
        },
        "range": {
         "category": [
          "#dc0d7a",
          "#02a3cd",
          "#e4a100",
          "#dc0d12",
          "#074a7e",
          "#e46800",
          "#aa3594",
          "#a20c4b"
         ],
         "diverging": [
          "#dc0d12",
          "#e9686b",
          "#fbe1e1",
          "#dff4f9",
          "#81d1e6",
          "#03a3cd"
         ],
         "heatmap": [
          "#fcdfef",
          "#f8bfde",
          "#f59fce",
          "#f180be",
          "#ee60ad",
          "#eb409d",
          "#e7208c",
          "#e4007c"
         ]
        },
        "rect": {
         "fill": "#282828"
        },
        "style": {
         "bar": {
          "binSpacing": 2,
          "fill": "#282828",
          "stroke": "null"
         }
        },
        "symbol": {
         "opacity": 1,
         "shape": "circle",
         "size": 40,
         "strokeWidth": 1
        },
        "text": {
         "align": "right",
         "font": "Ubuntu Mono",
         "fontSize": 10,
         "fontWeight": 100,
         "href": "https://twitter.com/ChekosWH",
         "text": "Made by @ChekosWH"
        },
        "title": {
         "anchor": "start",
         "font": "Ubuntu",
         "fontSize": 24,
         "fontWeight": 600,
         "offset": 20
        },
        "view": {
         "stroke": false
        }
       },
       "data": {
        "values": [
         {
          "x": -5,
          "y": -5,
          "z": 50
         },
         {
          "x": -4,
          "y": -5,
          "z": 41
         },
         {
          "x": -3,
          "y": -5,
          "z": 34
         },
         {
          "x": -2,
          "y": -5,
          "z": 29
         },
         {
          "x": -1,
          "y": -5,
          "z": 26
         },
         {
          "x": 0,
          "y": -5,
          "z": 25
         },
         {
          "x": 1,
          "y": -5,
          "z": 26
         },
         {
          "x": 2,
          "y": -5,
          "z": 29
         },
         {
          "x": 3,
          "y": -5,
          "z": 34
         },
         {
          "x": 4,
          "y": -5,
          "z": 41
         },
         {
          "x": -5,
          "y": -4,
          "z": 41
         },
         {
          "x": -4,
          "y": -4,
          "z": 32
         },
         {
          "x": -3,
          "y": -4,
          "z": 25
         },
         {
          "x": -2,
          "y": -4,
          "z": 20
         },
         {
          "x": -1,
          "y": -4,
          "z": 17
         },
         {
          "x": 0,
          "y": -4,
          "z": 16
         },
         {
          "x": 1,
          "y": -4,
          "z": 17
         },
         {
          "x": 2,
          "y": -4,
          "z": 20
         },
         {
          "x": 3,
          "y": -4,
          "z": 25
         },
         {
          "x": 4,
          "y": -4,
          "z": 32
         },
         {
          "x": -5,
          "y": -3,
          "z": 34
         },
         {
          "x": -4,
          "y": -3,
          "z": 25
         },
         {
          "x": -3,
          "y": -3,
          "z": 18
         },
         {
          "x": -2,
          "y": -3,
          "z": 13
         },
         {
          "x": -1,
          "y": -3,
          "z": 10
         },
         {
          "x": 0,
          "y": -3,
          "z": 9
         },
         {
          "x": 1,
          "y": -3,
          "z": 10
         },
         {
          "x": 2,
          "y": -3,
          "z": 13
         },
         {
          "x": 3,
          "y": -3,
          "z": 18
         },
         {
          "x": 4,
          "y": -3,
          "z": 25
         },
         {
          "x": -5,
          "y": -2,
          "z": 29
         },
         {
          "x": -4,
          "y": -2,
          "z": 20
         },
         {
          "x": -3,
          "y": -2,
          "z": 13
         },
         {
          "x": -2,
          "y": -2,
          "z": 8
         },
         {
          "x": -1,
          "y": -2,
          "z": 5
         },
         {
          "x": 0,
          "y": -2,
          "z": 4
         },
         {
          "x": 1,
          "y": -2,
          "z": 5
         },
         {
          "x": 2,
          "y": -2,
          "z": 8
         },
         {
          "x": 3,
          "y": -2,
          "z": 13
         },
         {
          "x": 4,
          "y": -2,
          "z": 20
         },
         {
          "x": -5,
          "y": -1,
          "z": 26
         },
         {
          "x": -4,
          "y": -1,
          "z": 17
         },
         {
          "x": -3,
          "y": -1,
          "z": 10
         },
         {
          "x": -2,
          "y": -1,
          "z": 5
         },
         {
          "x": -1,
          "y": -1,
          "z": 2
         },
         {
          "x": 0,
          "y": -1,
          "z": 1
         },
         {
          "x": 1,
          "y": -1,
          "z": 2
         },
         {
          "x": 2,
          "y": -1,
          "z": 5
         },
         {
          "x": 3,
          "y": -1,
          "z": 10
         },
         {
          "x": 4,
          "y": -1,
          "z": 17
         },
         {
          "x": -5,
          "y": 0,
          "z": 25
         },
         {
          "x": -4,
          "y": 0,
          "z": 16
         },
         {
          "x": -3,
          "y": 0,
          "z": 9
         },
         {
          "x": -2,
          "y": 0,
          "z": 4
         },
         {
          "x": -1,
          "y": 0,
          "z": 1
         },
         {
          "x": 0,
          "y": 0,
          "z": 0
         },
         {
          "x": 1,
          "y": 0,
          "z": 1
         },
         {
          "x": 2,
          "y": 0,
          "z": 4
         },
         {
          "x": 3,
          "y": 0,
          "z": 9
         },
         {
          "x": 4,
          "y": 0,
          "z": 16
         },
         {
          "x": -5,
          "y": 1,
          "z": 26
         },
         {
          "x": -4,
          "y": 1,
          "z": 17
         },
         {
          "x": -3,
          "y": 1,
          "z": 10
         },
         {
          "x": -2,
          "y": 1,
          "z": 5
         },
         {
          "x": -1,
          "y": 1,
          "z": 2
         },
         {
          "x": 0,
          "y": 1,
          "z": 1
         },
         {
          "x": 1,
          "y": 1,
          "z": 2
         },
         {
          "x": 2,
          "y": 1,
          "z": 5
         },
         {
          "x": 3,
          "y": 1,
          "z": 10
         },
         {
          "x": 4,
          "y": 1,
          "z": 17
         },
         {
          "x": -5,
          "y": 2,
          "z": 29
         },
         {
          "x": -4,
          "y": 2,
          "z": 20
         },
         {
          "x": -3,
          "y": 2,
          "z": 13
         },
         {
          "x": -2,
          "y": 2,
          "z": 8
         },
         {
          "x": -1,
          "y": 2,
          "z": 5
         },
         {
          "x": 0,
          "y": 2,
          "z": 4
         },
         {
          "x": 1,
          "y": 2,
          "z": 5
         },
         {
          "x": 2,
          "y": 2,
          "z": 8
         },
         {
          "x": 3,
          "y": 2,
          "z": 13
         },
         {
          "x": 4,
          "y": 2,
          "z": 20
         },
         {
          "x": -5,
          "y": 3,
          "z": 34
         },
         {
          "x": -4,
          "y": 3,
          "z": 25
         },
         {
          "x": -3,
          "y": 3,
          "z": 18
         },
         {
          "x": -2,
          "y": 3,
          "z": 13
         },
         {
          "x": -1,
          "y": 3,
          "z": 10
         },
         {
          "x": 0,
          "y": 3,
          "z": 9
         },
         {
          "x": 1,
          "y": 3,
          "z": 10
         },
         {
          "x": 2,
          "y": 3,
          "z": 13
         },
         {
          "x": 3,
          "y": 3,
          "z": 18
         },
         {
          "x": 4,
          "y": 3,
          "z": 25
         },
         {
          "x": -5,
          "y": 4,
          "z": 41
         },
         {
          "x": -4,
          "y": 4,
          "z": 32
         },
         {
          "x": -3,
          "y": 4,
          "z": 25
         },
         {
          "x": -2,
          "y": 4,
          "z": 20
         },
         {
          "x": -1,
          "y": 4,
          "z": 17
         },
         {
          "x": 0,
          "y": 4,
          "z": 16
         },
         {
          "x": 1,
          "y": 4,
          "z": 17
         },
         {
          "x": 2,
          "y": 4,
          "z": 20
         },
         {
          "x": 3,
          "y": 4,
          "z": 25
         },
         {
          "x": 4,
          "y": 4,
          "z": 32
         }
        ]
       },
       "encoding": {
        "color": {
         "field": "z",
         "type": "quantitative"
        },
        "tooltip": {
         "field": "z",
         "type": "quantitative"
        },
        "x": {
         "field": "x",
         "type": "ordinal"
        },
        "y": {
         "field": "y",
         "type": "ordinal"
        }
       },
       "height": 400,
       "mark": "rect",
       "width": 600
      },
      "text/plain": [
       "<VegaLite 2 object>\n",
       "\n",
       "If you see this message, it means the renderer has not been properly enabled\n",
       "for the frontend that you are using. For more information, see\n",
       "https://altair-viz.github.io/user_guide/troubleshooting.html\n"
      ]
     },
     "execution_count": 96,
     "metadata": {},
     "output_type": "execute_result"
    }
   ],
   "source": [
    "import numpy as np\n",
    "import pandas as pd\n",
    "\n",
    "# Compute x^2 + y^2 across a 2D grid\n",
    "x, y = np.meshgrid(range(-5, 5), range(-5, 5))\n",
    "z = x ** 2 + y ** 2\n",
    "\n",
    "# Convert this grid to columnar data expected by Altair\n",
    "data = pd.DataFrame({'x': x.ravel(),\n",
    "                     'y': y.ravel(),\n",
    "                     'z': z.ravel()})\n",
    "\n",
    "alt.Chart(data).mark_rect().encode(\n",
    "    x='x:O',\n",
    "    y='y:O',\n",
    "    color='z:Q',\n",
    ")"
   ]
  },
  {
   "cell_type": "code",
   "execution_count": 116,
   "metadata": {},
   "outputs": [
    {
     "data": {
      "application/vnd.vegalite.v2+json": {
       "$schema": "https://vega.github.io/schema/vega-lite/v2.4.1.json",
       "config": {
        "arc": {
         "fill": "#282828"
        },
        "area": {
         "fill": "#282828"
        },
        "axisBand": {
         "grid": false
        },
        "axisBottom": {
         "domain": false,
         "domainColor": "black",
         "domainWidth": 3,
         "grid": true,
         "gridColor": "#282828",
         "gridWidth": 1,
         "labelFont": "Ubuntu Condensed",
         "labelFontSize": 12,
         "labelPadding": 4,
         "tickColor": "#282828",
         "tickSize": 10,
         "titleFont": "Ubuntu",
         "titleFontSize": 14,
         "titlePadding": 10
        },
        "axisLeft": {
         "domainColor": "#282828",
         "domainWidth": 1,
         "gridColor": "#282828",
         "gridWidth": 1,
         "labelFont": "Ubuntu Condensed",
         "labelFontSize": 12,
         "labelPadding": 4,
         "tickColor": "#282828",
         "tickSize": 10,
         "ticks": true,
         "titleFont": "Ubuntu",
         "titleFontSize": 14,
         "titlePadding": 10
        },
        "axisRight": {
         "domainColor": "#282828",
         "domainWidth": 1,
         "gridColor": "#282828",
         "gridWidth": 1,
         "labelFont": "Ubuntu Condensed",
         "labelFontSize": 12,
         "labelPadding": 4,
         "tickColor": "#282828",
         "tickSize": 10,
         "ticks": true,
         "titleFont": "Ubuntu",
         "titleFontSize": 14,
         "titlePadding": 10
        },
        "axisTop": {
         "domain": false,
         "domainColor": "black",
         "domainWidth": 3,
         "grid": true,
         "gridColor": "#282828",
         "gridWidth": 1,
         "labelFont": "Ubuntu Condensed",
         "labelFontSize": 12,
         "labelPadding": 4,
         "tickColor": "#282828",
         "tickSize": 10,
         "titleFont": "Ubuntu",
         "titleFontSize": 14,
         "titlePadding": 10
        },
        "background": "#FFF8F9",
        "group": {
         "fill": "#FFF8F9"
        },
        "legend": {
         "labelFont": "Ubuntu Condensed",
         "labelFontSize": 11,
         "padding": 1,
         "symbolSize": 30,
         "symbolType": "square",
         "titleFont": "Ubuntu",
         "titleFontSize": 14,
         "titlePadding": 10
        },
        "line": {
         "stroke": "#282828",
         "strokewidth": 2
        },
        "path": {
         "stroke": "#282828",
         "strokeWidth": 0.5
        },
        "point": {
         "filled": true
        },
        "range": {
         "category": [
          "#dc0d7a",
          "#02a3cd",
          "#e4a100",
          "#dc0d12",
          "#074a7e",
          "#e46800",
          "#aa3594",
          "#a20c4b"
         ],
         "diverging": [
          "#dc0d12",
          "#e9686b",
          "#fbe1e1",
          "#dff4f9",
          "#81d1e6",
          "#03a3cd"
         ],
         "heatmap": [
          "#fcdfef",
          "#f8bfde",
          "#f59fce",
          "#f180be",
          "#ee60ad",
          "#eb409d",
          "#e7208c",
          "#e4007c"
         ]
        },
        "rect": {
         "fill": "#282828"
        },
        "style": {
         "bar": {
          "binSpacing": 2,
          "fill": "#282828",
          "stroke": "null"
         }
        },
        "symbol": {
         "opacity": 1,
         "shape": "circle",
         "size": 40,
         "strokeWidth": 1
        },
        "text": {
         "align": "right",
         "font": "Ubuntu Mono",
         "fontSize": 10,
         "fontWeight": 100,
         "href": "https://twitter.com/ChekosWH",
         "text": "Made by @ChekosWH"
        },
        "title": {
         "anchor": "start",
         "font": "Ubuntu",
         "fontSize": 24,
         "fontWeight": 600,
         "offset": 20
        },
        "view": {
         "stroke": false
        }
       },
       "height": 400,
       "resolve": {
        "legend": {
         "color": "independent",
         "size": "independent"
        }
       },
       "vconcat": [
        {
         "layer": [
          {
           "data": {
            "format": {
             "type": "json"
            },
            "url": "https://vega.github.io/vega-datasets/data/movies.json"
           },
           "encoding": {
            "color": {
             "aggregate": "count",
             "legend": {
              "title": "Total Records"
             },
             "type": "quantitative"
            },
            "x": {
             "bin": true,
             "field": "IMDB_Rating",
             "type": "quantitative"
            },
            "y": {
             "bin": true,
             "field": "Rotten_Tomatoes_Rating",
             "type": "quantitative"
            }
           },
           "mark": "rect"
          },
          {
           "data": {
            "format": {
             "type": "json"
            },
            "url": "https://vega.github.io/vega-datasets/data/movies.json"
           },
           "encoding": {
            "color": {
             "aggregate": "count",
             "legend": {
              "title": "Total Records"
             },
             "type": "quantitative"
            },
            "size": {
             "aggregate": "count",
             "legend": {
              "title": "Records in Selection"
             },
             "type": "quantitative"
            },
            "x": {
             "bin": true,
             "field": "IMDB_Rating",
             "type": "quantitative"
            },
            "y": {
             "bin": true,
             "field": "Rotten_Tomatoes_Rating",
             "type": "quantitative"
            }
           },
           "mark": "point",
           "transform": [
            {
             "filter": {
              "selection": "selector014"
             }
            }
           ]
          }
         ]
        },
        {
         "data": {
          "format": {
           "type": "json"
          },
          "url": "https://vega.github.io/vega-datasets/data/movies.json"
         },
         "encoding": {
          "color": {
           "condition": {
            "selection": "selector014",
            "value": "steelblue"
           },
           "value": "grey"
          },
          "x": {
           "field": "Major_Genre",
           "type": "nominal"
          },
          "y": {
           "aggregate": "count",
           "type": "quantitative"
          }
         },
         "height": 200,
         "mark": "bar",
         "selection": {
          "selector014": {
           "empty": "all",
           "encodings": [
            "x"
           ],
           "on": "click",
           "resolve": "global",
           "type": "single"
          }
         }
        }
       ],
       "width": 600
      },
      "text/plain": [
       "<VegaLite 2 object>\n",
       "\n",
       "If you see this message, it means the renderer has not been properly enabled\n",
       "for the frontend that you are using. For more information, see\n",
       "https://altair-viz.github.io/user_guide/troubleshooting.html\n"
      ]
     },
     "execution_count": 116,
     "metadata": {},
     "output_type": "execute_result"
    }
   ],
   "source": [
    "from vega_datasets import data\n",
    "pts = alt.selection(type=\"single\", encodings=['x'])\n",
    "\n",
    "rect = alt.Chart(data.movies.url).mark_rect().encode(\n",
    "    alt.X('IMDB_Rating:Q', bin=True),\n",
    "    alt.Y('Rotten_Tomatoes_Rating:Q', bin=True),\n",
    "    alt.Color('count()',\n",
    "        legend=alt.Legend(title='Total Records')\n",
    "    )\n",
    ")\n",
    "\n",
    "circ = rect.mark_point().encode(\n",
    "    alt.Size('count()',\n",
    "        legend=alt.Legend(title='Records in Selection')\n",
    "    )\n",
    ").transform_filter(\n",
    "    pts\n",
    ")\n",
    "\n",
    "bar = alt.Chart(data.movies.url).mark_bar().encode(\n",
    "    x='Major_Genre:N',\n",
    "    y='count()',\n",
    "    color=alt.condition(pts, alt.ColorValue(\"steelblue\"), alt.ColorValue(\"grey\"))\n",
    ").properties(\n",
    "    selection=pts,\n",
    "    height=200\n",
    ")\n",
    "\n",
    "alt.vconcat(\n",
    "    rect + circ,\n",
    "    bar\n",
    ").resolve_legend(\n",
    "    color=\"independent\",\n",
    "    size = \"independent\",\n",
    ")"
   ]
  },
  {
   "cell_type": "code",
   "execution_count": 174,
   "metadata": {},
   "outputs": [
    {
     "data": {
      "application/vnd.vegalite.v2+json": {
       "$schema": "https://vega.github.io/schema/vega-lite/v2.4.1.json",
       "config": {
        "arc": {
         "fill": "#282828"
        },
        "area": {
         "fill": "#282828"
        },
        "axisBand": {
         "grid": false
        },
        "axisBottom": {
         "domain": false,
         "domainColor": "black",
         "domainWidth": 3,
         "grid": true,
         "gridColor": "#282828",
         "gridWidth": 1,
         "labelFont": "Ubuntu Condensed",
         "labelFontSize": 12,
         "labelPadding": 4,
         "tickColor": "#282828",
         "tickSize": 10,
         "titleFont": "Ubuntu",
         "titleFontSize": 14,
         "titlePadding": 10
        },
        "axisLeft": {
         "domainColor": "#282828",
         "domainWidth": 1,
         "gridColor": "#282828",
         "gridWidth": 1,
         "labelFont": "Ubuntu Condensed",
         "labelFontSize": 12,
         "labelPadding": 4,
         "tickColor": "#282828",
         "tickSize": 10,
         "ticks": true,
         "titleFont": "Ubuntu",
         "titleFontSize": 14,
         "titlePadding": 10
        },
        "axisRight": {
         "domainColor": "#282828",
         "domainWidth": 1,
         "gridColor": "#282828",
         "gridWidth": 1,
         "labelFont": "Ubuntu Condensed",
         "labelFontSize": 12,
         "labelPadding": 4,
         "tickColor": "#282828",
         "tickSize": 10,
         "ticks": true,
         "titleFont": "Ubuntu",
         "titleFontSize": 14,
         "titlePadding": 10
        },
        "axisTop": {
         "domain": false,
         "domainColor": "black",
         "domainWidth": 3,
         "grid": true,
         "gridColor": "#282828",
         "gridWidth": 1,
         "labelFont": "Ubuntu Condensed",
         "labelFontSize": 12,
         "labelPadding": 4,
         "tickColor": "#282828",
         "tickSize": 10,
         "titleFont": "Ubuntu",
         "titleFontSize": 14,
         "titlePadding": 10
        },
        "background": "#FFFAFA",
        "geoshape": {
         "fill": "#C0C0C0"
        },
        "group": {
         "fill": "#FFFAFA"
        },
        "legend": {
         "labelFont": "Ubuntu Condensed",
         "labelFontSize": 11,
         "padding": 1,
         "symbolSize": 30,
         "symbolType": "square",
         "titleFont": "Ubuntu",
         "titleFontSize": 14,
         "titlePadding": 10
        },
        "line": {
         "stroke": "#282828",
         "strokewidth": 2
        },
        "path": {
         "stroke": "#282828",
         "strokeWidth": 0.5
        },
        "point": {
         "filled": true
        },
        "range": {
         "category": [
          "#dc0d7a",
          "#02a3cd",
          "#e4a100",
          "#dc0d12",
          "#074a7e",
          "#e46800",
          "#aa3594",
          "#a20c4b"
         ],
         "diverging": [
          "#dc0d12",
          "#e9686b",
          "#fbe1e1",
          "#dff4f9",
          "#81d1e6",
          "#03a3cd"
         ],
         "heatmap": [
          "#fcdfef",
          "#f8bfde",
          "#f59fce",
          "#f180be",
          "#ee60ad",
          "#eb409d",
          "#e7208c",
          "#e4007c"
         ]
        },
        "rect": {
         "fill": "#282828"
        },
        "style": {
         "bar": {
          "binSpacing": 2,
          "fill": "#282828",
          "stroke": false
         }
        },
        "symbol": {
         "opacity": 1,
         "shape": "circle",
         "size": 40,
         "strokeWidth": 1
        },
        "text": {
         "align": "right",
         "font": "Ubuntu Mono",
         "fontSize": 10,
         "href": "https://twitter.com/ChekosWH",
         "text": "Made by @ChekosWH"
        },
        "title": {
         "anchor": "start",
         "font": "Ubuntu",
         "fontSize": 24,
         "fontWeight": 600,
         "offset": 20
        },
        "view": {
         "stroke": false
        }
       },
       "height": 400,
       "layer": [
        {
         "data": {
          "values": [
           {
            "end": "1945",
            "event": "Nazi Rule",
            "start": "1933"
           },
           {
            "end": "1989",
            "event": "GDR (East Germany)",
            "start": "1948"
           }
          ]
         },
         "encoding": {
          "color": {
           "field": "event",
           "type": "nominal"
          },
          "x": {
           "field": "start",
           "type": "temporal"
          },
          "x2": {
           "field": "end",
           "type": "temporal"
          }
         },
         "mark": "rect"
        },
        {
         "data": {
          "values": [
           {
            "population": 1309,
            "year": "1875"
           },
           {
            "population": 1558,
            "year": "1890"
           },
           {
            "population": 4512,
            "year": "1910"
           },
           {
            "population": 8180,
            "year": "1925"
           },
           {
            "population": 15915,
            "year": "1933"
           },
           {
            "population": 24824,
            "year": "1939"
           },
           {
            "population": 28275,
            "year": "1946"
           },
           {
            "population": 29189,
            "year": "1950"
           },
           {
            "population": 29881,
            "year": "1964"
           },
           {
            "population": 26007,
            "year": "1971"
           },
           {
            "population": 24029,
            "year": "1981"
           },
           {
            "population": 23340,
            "year": "1985"
           },
           {
            "population": 22307,
            "year": "1989"
           },
           {
            "population": 22087,
            "year": "1990"
           },
           {
            "population": 22139,
            "year": "1991"
           },
           {
            "population": 22105,
            "year": "1992"
           },
           {
            "population": 22242,
            "year": "1993"
           },
           {
            "population": 22801,
            "year": "1994"
           },
           {
            "population": 24273,
            "year": "1995"
           },
           {
            "population": 25640,
            "year": "1996"
           },
           {
            "population": 27393,
            "year": "1997"
           },
           {
            "population": 29505,
            "year": "1998"
           },
           {
            "population": 32124,
            "year": "1999"
           },
           {
            "population": 33791,
            "year": "2000"
           },
           {
            "population": 35297,
            "year": "2001"
           },
           {
            "population": 36179,
            "year": "2002"
           },
           {
            "population": 36829,
            "year": "2003"
           },
           {
            "population": 37493,
            "year": "2004"
           },
           {
            "population": 38376,
            "year": "2005"
           },
           {
            "population": 39008,
            "year": "2006"
           },
           {
            "population": 39366,
            "year": "2007"
           },
           {
            "population": 39821,
            "year": "2008"
           },
           {
            "population": 40179,
            "year": "2009"
           },
           {
            "population": 40511,
            "year": "2010"
           },
           {
            "population": 40465,
            "year": "2011"
           },
           {
            "population": 40905,
            "year": "2012"
           },
           {
            "population": 41258,
            "year": "2013"
           },
           {
            "population": 41777,
            "year": "2014"
           }
          ]
         },
         "encoding": {
          "x": {
           "axis": {
            "format": "%Y"
           },
           "field": "year",
           "type": "temporal"
          },
          "y": {
           "field": "population",
           "type": "quantitative"
          }
         },
         "height": 400,
         "mark": {
          "color": "#333",
          "type": "line"
         },
         "width": 600
        },
        {
         "data": {
          "values": [
           {
            "population": 1309,
            "year": "1875"
           },
           {
            "population": 1558,
            "year": "1890"
           },
           {
            "population": 4512,
            "year": "1910"
           },
           {
            "population": 8180,
            "year": "1925"
           },
           {
            "population": 15915,
            "year": "1933"
           },
           {
            "population": 24824,
            "year": "1939"
           },
           {
            "population": 28275,
            "year": "1946"
           },
           {
            "population": 29189,
            "year": "1950"
           },
           {
            "population": 29881,
            "year": "1964"
           },
           {
            "population": 26007,
            "year": "1971"
           },
           {
            "population": 24029,
            "year": "1981"
           },
           {
            "population": 23340,
            "year": "1985"
           },
           {
            "population": 22307,
            "year": "1989"
           },
           {
            "population": 22087,
            "year": "1990"
           },
           {
            "population": 22139,
            "year": "1991"
           },
           {
            "population": 22105,
            "year": "1992"
           },
           {
            "population": 22242,
            "year": "1993"
           },
           {
            "population": 22801,
            "year": "1994"
           },
           {
            "population": 24273,
            "year": "1995"
           },
           {
            "population": 25640,
            "year": "1996"
           },
           {
            "population": 27393,
            "year": "1997"
           },
           {
            "population": 29505,
            "year": "1998"
           },
           {
            "population": 32124,
            "year": "1999"
           },
           {
            "population": 33791,
            "year": "2000"
           },
           {
            "population": 35297,
            "year": "2001"
           },
           {
            "population": 36179,
            "year": "2002"
           },
           {
            "population": 36829,
            "year": "2003"
           },
           {
            "population": 37493,
            "year": "2004"
           },
           {
            "population": 38376,
            "year": "2005"
           },
           {
            "population": 39008,
            "year": "2006"
           },
           {
            "population": 39366,
            "year": "2007"
           },
           {
            "population": 39821,
            "year": "2008"
           },
           {
            "population": 40179,
            "year": "2009"
           },
           {
            "population": 40511,
            "year": "2010"
           },
           {
            "population": 40465,
            "year": "2011"
           },
           {
            "population": 40905,
            "year": "2012"
           },
           {
            "population": 41258,
            "year": "2013"
           },
           {
            "population": 41777,
            "year": "2014"
           }
          ]
         },
         "encoding": {
          "x": {
           "axis": {
            "format": "%Y"
           },
           "field": "year",
           "type": "temporal"
          },
          "y": {
           "field": "population",
           "type": "quantitative"
          }
         },
         "height": 400,
         "mark": {
          "color": "#333",
          "type": "point"
         },
         "width": 600
        }
       ],
       "width": 600
      },
      "text/plain": [
       "<VegaLite 2 object>\n",
       "\n",
       "If you see this message, it means the renderer has not been properly enabled\n",
       "for the frontend that you are using. For more information, see\n",
       "https://altair-viz.github.io/user_guide/troubleshooting.html\n"
      ]
     },
     "execution_count": 174,
     "metadata": {},
     "output_type": "execute_result"
    }
   ],
   "source": [
    "source = [\n",
    "      {\"year\": \"1875\", \"population\": 1309},\n",
    "      {\"year\": \"1890\", \"population\": 1558},\n",
    "      {\"year\": \"1910\", \"population\": 4512},\n",
    "      {\"year\": \"1925\", \"population\": 8180},\n",
    "      {\"year\": \"1933\", \"population\": 15915},\n",
    "      {\"year\": \"1939\", \"population\": 24824},\n",
    "      {\"year\": \"1946\", \"population\": 28275},\n",
    "      {\"year\": \"1950\", \"population\": 29189},\n",
    "      {\"year\": \"1964\", \"population\": 29881},\n",
    "      {\"year\": \"1971\", \"population\": 26007},\n",
    "      {\"year\": \"1981\", \"population\": 24029},\n",
    "      {\"year\": \"1985\", \"population\": 23340},\n",
    "      {\"year\": \"1989\", \"population\": 22307},\n",
    "      {\"year\": \"1990\", \"population\": 22087},\n",
    "      {\"year\": \"1991\", \"population\": 22139},\n",
    "      {\"year\": \"1992\", \"population\": 22105},\n",
    "      {\"year\": \"1993\", \"population\": 22242},\n",
    "      {\"year\": \"1994\", \"population\": 22801},\n",
    "      {\"year\": \"1995\", \"population\": 24273},\n",
    "      {\"year\": \"1996\", \"population\": 25640},\n",
    "      {\"year\": \"1997\", \"population\": 27393},\n",
    "      {\"year\": \"1998\", \"population\": 29505},\n",
    "      {\"year\": \"1999\", \"population\": 32124},\n",
    "      {\"year\": \"2000\", \"population\": 33791},\n",
    "      {\"year\": \"2001\", \"population\": 35297},\n",
    "      {\"year\": \"2002\", \"population\": 36179},\n",
    "      {\"year\": \"2003\", \"population\": 36829},\n",
    "      {\"year\": \"2004\", \"population\": 37493},\n",
    "      {\"year\": \"2005\", \"population\": 38376},\n",
    "      {\"year\": \"2006\", \"population\": 39008},\n",
    "      {\"year\": \"2007\", \"population\": 39366},\n",
    "      {\"year\": \"2008\", \"population\": 39821},\n",
    "      {\"year\": \"2009\", \"population\": 40179},\n",
    "      {\"year\": \"2010\", \"population\": 40511},\n",
    "      {\"year\": \"2011\", \"population\": 40465},\n",
    "      {\"year\": \"2012\", \"population\": 40905},\n",
    "      {\"year\": \"2013\", \"population\": 41258},\n",
    "      {\"year\": \"2014\", \"population\": 41777}\n",
    "    ]\n",
    "\n",
    "source2 = [{\n",
    "            \"start\": \"1933\",\n",
    "            \"end\": \"1945\",\n",
    "            \"event\": \"Nazi Rule\"\n",
    "          },\n",
    "          {\n",
    "            \"start\": \"1948\",\n",
    "            \"end\": \"1989\",\n",
    "            \"event\": \"GDR (East Germany)\"\n",
    "          }]\n",
    "\n",
    "\n",
    "source = alt.pd.DataFrame(source)\n",
    "source2 = alt.pd.DataFrame(source2)\n",
    "\n",
    "\n",
    "line = alt.Chart(source).mark_line(color='#333').encode(\n",
    "    alt.X('year:T', axis=alt.Axis(format='%Y')),\n",
    "    y='population'\n",
    ").properties(\n",
    "    width=600,\n",
    "    height=400\n",
    ")\n",
    "\n",
    "point = line.mark_point(color='#333')\n",
    "\n",
    "rect = alt.Chart(source2).mark_rect().encode(\n",
    "    x='start:T',\n",
    "    x2='end:T',\n",
    "    color='event:N'\n",
    ")\n",
    "\n",
    "rect + line + point"
   ]
  },
  {
   "cell_type": "code",
   "execution_count": 175,
   "metadata": {},
   "outputs": [
    {
     "data": {
      "application/vnd.vegalite.v2+json": {
       "$schema": "https://vega.github.io/schema/vega-lite/v2.4.1.json",
       "config": {
        "arc": {
         "fill": "#282828"
        },
        "area": {
         "fill": "#282828"
        },
        "axisBand": {
         "grid": false
        },
        "axisBottom": {
         "domain": false,
         "domainColor": "black",
         "domainWidth": 3,
         "grid": true,
         "gridColor": "#282828",
         "gridWidth": 1,
         "labelFont": "Ubuntu Condensed",
         "labelFontSize": 12,
         "labelPadding": 4,
         "tickColor": "#282828",
         "tickSize": 10,
         "titleFont": "Ubuntu",
         "titleFontSize": 14,
         "titlePadding": 10
        },
        "axisLeft": {
         "domainColor": "#282828",
         "domainWidth": 1,
         "gridColor": "#282828",
         "gridWidth": 1,
         "labelFont": "Ubuntu Condensed",
         "labelFontSize": 12,
         "labelPadding": 4,
         "tickColor": "#282828",
         "tickSize": 10,
         "ticks": true,
         "titleFont": "Ubuntu",
         "titleFontSize": 14,
         "titlePadding": 10
        },
        "axisRight": {
         "domainColor": "#282828",
         "domainWidth": 1,
         "gridColor": "#282828",
         "gridWidth": 1,
         "labelFont": "Ubuntu Condensed",
         "labelFontSize": 12,
         "labelPadding": 4,
         "tickColor": "#282828",
         "tickSize": 10,
         "ticks": true,
         "titleFont": "Ubuntu",
         "titleFontSize": 14,
         "titlePadding": 10
        },
        "axisTop": {
         "domain": false,
         "domainColor": "black",
         "domainWidth": 3,
         "grid": true,
         "gridColor": "#282828",
         "gridWidth": 1,
         "labelFont": "Ubuntu Condensed",
         "labelFontSize": 12,
         "labelPadding": 4,
         "tickColor": "#282828",
         "tickSize": 10,
         "titleFont": "Ubuntu",
         "titleFontSize": 14,
         "titlePadding": 10
        },
        "background": "#FFFAFA",
        "geoshape": {
         "fill": "#C0C0C0"
        },
        "group": {
         "fill": "#FFFAFA"
        },
        "legend": {
         "labelFont": "Ubuntu Condensed",
         "labelFontSize": 11,
         "padding": 1,
         "symbolSize": 30,
         "symbolType": "square",
         "titleFont": "Ubuntu",
         "titleFontSize": 14,
         "titlePadding": 10
        },
        "line": {
         "stroke": "#282828",
         "strokewidth": 2
        },
        "path": {
         "stroke": "#282828",
         "strokeWidth": 0.5
        },
        "point": {
         "filled": true
        },
        "range": {
         "category": [
          "#dc0d7a",
          "#02a3cd",
          "#e4a100",
          "#dc0d12",
          "#074a7e",
          "#e46800",
          "#aa3594",
          "#a20c4b"
         ],
         "diverging": [
          "#dc0d12",
          "#e9686b",
          "#fbe1e1",
          "#dff4f9",
          "#81d1e6",
          "#03a3cd"
         ],
         "heatmap": [
          "#fcdfef",
          "#f8bfde",
          "#f59fce",
          "#f180be",
          "#ee60ad",
          "#eb409d",
          "#e7208c",
          "#e4007c"
         ]
        },
        "rect": {
         "fill": "#282828"
        },
        "style": {
         "bar": {
          "binSpacing": 2,
          "fill": "#282828",
          "stroke": false
         }
        },
        "symbol": {
         "opacity": 1,
         "shape": "circle",
         "size": 40,
         "strokeWidth": 1
        },
        "text": {
         "align": "right",
         "font": "Ubuntu Mono",
         "fontSize": 10,
         "href": "https://twitter.com/ChekosWH",
         "text": "Made by @ChekosWH"
        },
        "title": {
         "anchor": "start",
         "font": "Ubuntu",
         "fontSize": 24,
         "fontWeight": 600,
         "offset": 20
        },
        "view": {
         "stroke": false
        }
       },
       "data": {
        "values": [
         {
          "site": "University Farm",
          "variety": "Manchuria",
          "year": 1931,
          "yield": 27
         },
         {
          "site": "Waseca",
          "variety": "Manchuria",
          "year": 1931,
          "yield": 48.86667
         },
         {
          "site": "Morris",
          "variety": "Manchuria",
          "year": 1931,
          "yield": 27.43334
         },
         {
          "site": "Crookston",
          "variety": "Manchuria",
          "year": 1931,
          "yield": 39.93333
         },
         {
          "site": "Grand Rapids",
          "variety": "Manchuria",
          "year": 1931,
          "yield": 32.96667
         },
         {
          "site": "Duluth",
          "variety": "Manchuria",
          "year": 1931,
          "yield": 28.96667
         },
         {
          "site": "University Farm",
          "variety": "Glabron",
          "year": 1931,
          "yield": 43.06666
         },
         {
          "site": "Waseca",
          "variety": "Glabron",
          "year": 1931,
          "yield": 55.2
         },
         {
          "site": "Morris",
          "variety": "Glabron",
          "year": 1931,
          "yield": 28.76667
         },
         {
          "site": "Crookston",
          "variety": "Glabron",
          "year": 1931,
          "yield": 38.13333
         },
         {
          "site": "Grand Rapids",
          "variety": "Glabron",
          "year": 1931,
          "yield": 29.13333
         },
         {
          "site": "Duluth",
          "variety": "Glabron",
          "year": 1931,
          "yield": 29.66667
         },
         {
          "site": "University Farm",
          "variety": "Svansota",
          "year": 1931,
          "yield": 35.13333
         },
         {
          "site": "Waseca",
          "variety": "Svansota",
          "year": 1931,
          "yield": 47.33333
         },
         {
          "site": "Morris",
          "variety": "Svansota",
          "year": 1931,
          "yield": 25.76667
         },
         {
          "site": "Crookston",
          "variety": "Svansota",
          "year": 1931,
          "yield": 40.46667
         },
         {
          "site": "Grand Rapids",
          "variety": "Svansota",
          "year": 1931,
          "yield": 29.66667
         },
         {
          "site": "Duluth",
          "variety": "Svansota",
          "year": 1931,
          "yield": 25.7
         },
         {
          "site": "University Farm",
          "variety": "Velvet",
          "year": 1931,
          "yield": 39.9
         },
         {
          "site": "Waseca",
          "variety": "Velvet",
          "year": 1931,
          "yield": 50.23333
         },
         {
          "site": "Morris",
          "variety": "Velvet",
          "year": 1931,
          "yield": 26.13333
         },
         {
          "site": "Crookston",
          "variety": "Velvet",
          "year": 1931,
          "yield": 41.33333
         },
         {
          "site": "Grand Rapids",
          "variety": "Velvet",
          "year": 1931,
          "yield": 23.03333
         },
         {
          "site": "Duluth",
          "variety": "Velvet",
          "year": 1931,
          "yield": 26.3
         },
         {
          "site": "University Farm",
          "variety": "Trebi",
          "year": 1931,
          "yield": 36.56666
         },
         {
          "site": "Waseca",
          "variety": "Trebi",
          "year": 1931,
          "yield": 63.8333
         },
         {
          "site": "Morris",
          "variety": "Trebi",
          "year": 1931,
          "yield": 43.76667
         },
         {
          "site": "Crookston",
          "variety": "Trebi",
          "year": 1931,
          "yield": 46.93333
         },
         {
          "site": "Grand Rapids",
          "variety": "Trebi",
          "year": 1931,
          "yield": 29.76667
         },
         {
          "site": "Duluth",
          "variety": "Trebi",
          "year": 1931,
          "yield": 33.93333
         },
         {
          "site": "University Farm",
          "variety": "No. 457",
          "year": 1931,
          "yield": 43.26667
         },
         {
          "site": "Waseca",
          "variety": "No. 457",
          "year": 1931,
          "yield": 58.1
         },
         {
          "site": "Morris",
          "variety": "No. 457",
          "year": 1931,
          "yield": 28.7
         },
         {
          "site": "Crookston",
          "variety": "No. 457",
          "year": 1931,
          "yield": 45.66667
         },
         {
          "site": "Grand Rapids",
          "variety": "No. 457",
          "year": 1931,
          "yield": 32.16667
         },
         {
          "site": "Duluth",
          "variety": "No. 457",
          "year": 1931,
          "yield": 33.6
         },
         {
          "site": "University Farm",
          "variety": "No. 462",
          "year": 1931,
          "yield": 36.6
         },
         {
          "site": "Waseca",
          "variety": "No. 462",
          "year": 1931,
          "yield": 65.7667
         },
         {
          "site": "Morris",
          "variety": "No. 462",
          "year": 1931,
          "yield": 30.36667
         },
         {
          "site": "Crookston",
          "variety": "No. 462",
          "year": 1931,
          "yield": 48.56666
         },
         {
          "site": "Grand Rapids",
          "variety": "No. 462",
          "year": 1931,
          "yield": 24.93334
         },
         {
          "site": "Duluth",
          "variety": "No. 462",
          "year": 1931,
          "yield": 28.1
         },
         {
          "site": "University Farm",
          "variety": "Peatland",
          "year": 1931,
          "yield": 32.76667
         },
         {
          "site": "Waseca",
          "variety": "Peatland",
          "year": 1931,
          "yield": 48.56666
         },
         {
          "site": "Morris",
          "variety": "Peatland",
          "year": 1931,
          "yield": 29.86667
         },
         {
          "site": "Crookston",
          "variety": "Peatland",
          "year": 1931,
          "yield": 41.6
         },
         {
          "site": "Grand Rapids",
          "variety": "Peatland",
          "year": 1931,
          "yield": 34.7
         },
         {
          "site": "Duluth",
          "variety": "Peatland",
          "year": 1931,
          "yield": 32
         },
         {
          "site": "University Farm",
          "variety": "No. 475",
          "year": 1931,
          "yield": 24.66667
         },
         {
          "site": "Waseca",
          "variety": "No. 475",
          "year": 1931,
          "yield": 46.76667
         },
         {
          "site": "Morris",
          "variety": "No. 475",
          "year": 1931,
          "yield": 22.6
         },
         {
          "site": "Crookston",
          "variety": "No. 475",
          "year": 1931,
          "yield": 44.1
         },
         {
          "site": "Grand Rapids",
          "variety": "No. 475",
          "year": 1931,
          "yield": 19.7
         },
         {
          "site": "Duluth",
          "variety": "No. 475",
          "year": 1931,
          "yield": 33.06666
         },
         {
          "site": "University Farm",
          "variety": "Wisconsin No. 38",
          "year": 1931,
          "yield": 39.3
         },
         {
          "site": "Waseca",
          "variety": "Wisconsin No. 38",
          "year": 1931,
          "yield": 58.8
         },
         {
          "site": "Morris",
          "variety": "Wisconsin No. 38",
          "year": 1931,
          "yield": 29.46667
         },
         {
          "site": "Crookston",
          "variety": "Wisconsin No. 38",
          "year": 1931,
          "yield": 49.86667
         },
         {
          "site": "Grand Rapids",
          "variety": "Wisconsin No. 38",
          "year": 1931,
          "yield": 34.46667
         },
         {
          "site": "Duluth",
          "variety": "Wisconsin No. 38",
          "year": 1931,
          "yield": 31.6
         },
         {
          "site": "University Farm",
          "variety": "Manchuria",
          "year": 1932,
          "yield": 26.9
         },
         {
          "site": "Waseca",
          "variety": "Manchuria",
          "year": 1932,
          "yield": 33.46667
         },
         {
          "site": "Morris",
          "variety": "Manchuria",
          "year": 1932,
          "yield": 34.36666
         },
         {
          "site": "Crookston",
          "variety": "Manchuria",
          "year": 1932,
          "yield": 32.96667
         },
         {
          "site": "Grand Rapids",
          "variety": "Manchuria",
          "year": 1932,
          "yield": 22.13333
         },
         {
          "site": "Duluth",
          "variety": "Manchuria",
          "year": 1932,
          "yield": 22.56667
         },
         {
          "site": "University Farm",
          "variety": "Glabron",
          "year": 1932,
          "yield": 36.8
         },
         {
          "site": "Waseca",
          "variety": "Glabron",
          "year": 1932,
          "yield": 37.73333
         },
         {
          "site": "Morris",
          "variety": "Glabron",
          "year": 1932,
          "yield": 35.13333
         },
         {
          "site": "Crookston",
          "variety": "Glabron",
          "year": 1932,
          "yield": 26.16667
         },
         {
          "site": "Grand Rapids",
          "variety": "Glabron",
          "year": 1932,
          "yield": 14.43333
         },
         {
          "site": "Duluth",
          "variety": "Glabron",
          "year": 1932,
          "yield": 25.86667
         },
         {
          "site": "University Farm",
          "variety": "Svansota",
          "year": 1932,
          "yield": 27.43334
         },
         {
          "site": "Waseca",
          "variety": "Svansota",
          "year": 1932,
          "yield": 38.5
         },
         {
          "site": "Morris",
          "variety": "Svansota",
          "year": 1932,
          "yield": 35.03333
         },
         {
          "site": "Crookston",
          "variety": "Svansota",
          "year": 1932,
          "yield": 20.63333
         },
         {
          "site": "Grand Rapids",
          "variety": "Svansota",
          "year": 1932,
          "yield": 16.63333
         },
         {
          "site": "Duluth",
          "variety": "Svansota",
          "year": 1932,
          "yield": 22.23333
         },
         {
          "site": "University Farm",
          "variety": "Velvet",
          "year": 1932,
          "yield": 26.8
         },
         {
          "site": "Waseca",
          "variety": "Velvet",
          "year": 1932,
          "yield": 37.4
         },
         {
          "site": "Morris",
          "variety": "Velvet",
          "year": 1932,
          "yield": 38.83333
         },
         {
          "site": "Crookston",
          "variety": "Velvet",
          "year": 1932,
          "yield": 32.06666
         },
         {
          "site": "Grand Rapids",
          "variety": "Velvet",
          "year": 1932,
          "yield": 32.23333
         },
         {
          "site": "Duluth",
          "variety": "Velvet",
          "year": 1932,
          "yield": 22.46667
         },
         {
          "site": "University Farm",
          "variety": "Trebi",
          "year": 1932,
          "yield": 29.06667
         },
         {
          "site": "Waseca",
          "variety": "Trebi",
          "year": 1932,
          "yield": 49.2333
         },
         {
          "site": "Morris",
          "variety": "Trebi",
          "year": 1932,
          "yield": 46.63333
         },
         {
          "site": "Crookston",
          "variety": "Trebi",
          "year": 1932,
          "yield": 41.83333
         },
         {
          "site": "Grand Rapids",
          "variety": "Trebi",
          "year": 1932,
          "yield": 20.63333
         },
         {
          "site": "Duluth",
          "variety": "Trebi",
          "year": 1932,
          "yield": 30.6
         },
         {
          "site": "University Farm",
          "variety": "No. 457",
          "year": 1932,
          "yield": 26.43334
         },
         {
          "site": "Waseca",
          "variety": "No. 457",
          "year": 1932,
          "yield": 42.2
         },
         {
          "site": "Morris",
          "variety": "No. 457",
          "year": 1932,
          "yield": 43.53334
         },
         {
          "site": "Crookston",
          "variety": "No. 457",
          "year": 1932,
          "yield": 34.33333
         },
         {
          "site": "Grand Rapids",
          "variety": "No. 457",
          "year": 1932,
          "yield": 19.46667
         },
         {
          "site": "Duluth",
          "variety": "No. 457",
          "year": 1932,
          "yield": 22.7
         },
         {
          "site": "University Farm",
          "variety": "No. 462",
          "year": 1932,
          "yield": 25.56667
         },
         {
          "site": "Waseca",
          "variety": "No. 462",
          "year": 1932,
          "yield": 44.7
         },
         {
          "site": "Morris",
          "variety": "No. 462",
          "year": 1932,
          "yield": 47
         },
         {
          "site": "Crookston",
          "variety": "No. 462",
          "year": 1932,
          "yield": 30.53333
         },
         {
          "site": "Grand Rapids",
          "variety": "No. 462",
          "year": 1932,
          "yield": 19.9
         },
         {
          "site": "Duluth",
          "variety": "No. 462",
          "year": 1932,
          "yield": 22.5
         },
         {
          "site": "University Farm",
          "variety": "Peatland",
          "year": 1932,
          "yield": 28.06667
         },
         {
          "site": "Waseca",
          "variety": "Peatland",
          "year": 1932,
          "yield": 36.03333
         },
         {
          "site": "Morris",
          "variety": "Peatland",
          "year": 1932,
          "yield": 43.2
         },
         {
          "site": "Crookston",
          "variety": "Peatland",
          "year": 1932,
          "yield": 25.23333
         },
         {
          "site": "Grand Rapids",
          "variety": "Peatland",
          "year": 1932,
          "yield": 26.76667
         },
         {
          "site": "Duluth",
          "variety": "Peatland",
          "year": 1932,
          "yield": 31.36667
         },
         {
          "site": "University Farm",
          "variety": "No. 475",
          "year": 1932,
          "yield": 30
         },
         {
          "site": "Waseca",
          "variety": "No. 475",
          "year": 1932,
          "yield": 41.26667
         },
         {
          "site": "Morris",
          "variety": "No. 475",
          "year": 1932,
          "yield": 44.23333
         },
         {
          "site": "Crookston",
          "variety": "No. 475",
          "year": 1932,
          "yield": 32.13333
         },
         {
          "site": "Grand Rapids",
          "variety": "No. 475",
          "year": 1932,
          "yield": 15.23333
         },
         {
          "site": "Duluth",
          "variety": "No. 475",
          "year": 1932,
          "yield": 27.36667
         },
         {
          "site": "University Farm",
          "variety": "Wisconsin No. 38",
          "year": 1932,
          "yield": 38
         },
         {
          "site": "Waseca",
          "variety": "Wisconsin No. 38",
          "year": 1932,
          "yield": 58.16667
         },
         {
          "site": "Morris",
          "variety": "Wisconsin No. 38",
          "year": 1932,
          "yield": 47.16667
         },
         {
          "site": "Crookston",
          "variety": "Wisconsin No. 38",
          "year": 1932,
          "yield": 35.9
         },
         {
          "site": "Grand Rapids",
          "variety": "Wisconsin No. 38",
          "year": 1932,
          "yield": 20.66667
         },
         {
          "site": "Duluth",
          "variety": "Wisconsin No. 38",
          "year": 1932,
          "yield": 29.33333
         }
        ]
       },
       "encoding": {
        "color": {
         "field": "year",
         "type": "nominal"
        },
        "row": {
         "field": "site",
         "type": "nominal"
        },
        "x": {
         "aggregate": "median",
         "field": "yield",
         "scale": {
          "zero": false
         },
         "type": "quantitative"
        },
        "y": {
         "field": "variety",
         "scale": {
          "rangeStep": 20
         },
         "sort": {
          "field": "yield",
          "op": "median",
          "order": "descending"
         },
         "type": "nominal"
        }
       },
       "height": 400,
       "mark": "point",
       "width": 600
      },
      "text/plain": [
       "<VegaLite 2 object>\n",
       "\n",
       "If you see this message, it means the renderer has not been properly enabled\n",
       "for the frontend that you are using. For more information, see\n",
       "https://altair-viz.github.io/user_guide/troubleshooting.html\n"
      ]
     },
     "execution_count": 175,
     "metadata": {},
     "output_type": "execute_result"
    }
   ],
   "source": [
    "from vega_datasets import data\n",
    "\n",
    "source = data.barley()\n",
    "\n",
    "alt.Chart(source).mark_point().encode(\n",
    "    alt.X('median(yield)', scale=alt.Scale(zero=False)),\n",
    "    alt.Y(\n",
    "        'variety',\n",
    "        sort=alt.SortField(field='yield', op='median', order='descending'),\n",
    "        scale=alt.Scale(rangeStep=20)\n",
    "    ),\n",
    "    color='year:N',\n",
    "    row='site'\n",
    ")"
   ]
  },
  {
   "cell_type": "code",
   "execution_count": 176,
   "metadata": {},
   "outputs": [
    {
     "data": {
      "application/vnd.vegalite.v2+json": {
       "$schema": "https://vega.github.io/schema/vega-lite/v2.4.1.json",
       "config": {
        "arc": {
         "fill": "#282828"
        },
        "area": {
         "fill": "#282828"
        },
        "axisBand": {
         "grid": false
        },
        "axisBottom": {
         "domain": false,
         "domainColor": "black",
         "domainWidth": 3,
         "grid": true,
         "gridColor": "#282828",
         "gridWidth": 1,
         "labelFont": "Ubuntu Condensed",
         "labelFontSize": 12,
         "labelPadding": 4,
         "tickColor": "#282828",
         "tickSize": 10,
         "titleFont": "Ubuntu",
         "titleFontSize": 14,
         "titlePadding": 10
        },
        "axisLeft": {
         "domainColor": "#282828",
         "domainWidth": 1,
         "gridColor": "#282828",
         "gridWidth": 1,
         "labelFont": "Ubuntu Condensed",
         "labelFontSize": 12,
         "labelPadding": 4,
         "tickColor": "#282828",
         "tickSize": 10,
         "ticks": true,
         "titleFont": "Ubuntu",
         "titleFontSize": 14,
         "titlePadding": 10
        },
        "axisRight": {
         "domainColor": "#282828",
         "domainWidth": 1,
         "gridColor": "#282828",
         "gridWidth": 1,
         "labelFont": "Ubuntu Condensed",
         "labelFontSize": 12,
         "labelPadding": 4,
         "tickColor": "#282828",
         "tickSize": 10,
         "ticks": true,
         "titleFont": "Ubuntu",
         "titleFontSize": 14,
         "titlePadding": 10
        },
        "axisTop": {
         "domain": false,
         "domainColor": "black",
         "domainWidth": 3,
         "grid": true,
         "gridColor": "#282828",
         "gridWidth": 1,
         "labelFont": "Ubuntu Condensed",
         "labelFontSize": 12,
         "labelPadding": 4,
         "tickColor": "#282828",
         "tickSize": 10,
         "titleFont": "Ubuntu",
         "titleFontSize": 14,
         "titlePadding": 10
        },
        "background": "#FFFAFA",
        "geoshape": {
         "fill": "#C0C0C0"
        },
        "group": {
         "fill": "#FFFAFA"
        },
        "legend": {
         "labelFont": "Ubuntu Condensed",
         "labelFontSize": 11,
         "padding": 1,
         "symbolSize": 30,
         "symbolType": "square",
         "titleFont": "Ubuntu",
         "titleFontSize": 14,
         "titlePadding": 10
        },
        "line": {
         "stroke": "#282828",
         "strokewidth": 2
        },
        "path": {
         "stroke": "#282828",
         "strokeWidth": 0.5
        },
        "point": {
         "filled": true
        },
        "range": {
         "category": [
          "#dc0d7a",
          "#02a3cd",
          "#e4a100",
          "#dc0d12",
          "#074a7e",
          "#e46800",
          "#aa3594",
          "#a20c4b"
         ],
         "diverging": [
          "#dc0d12",
          "#e9686b",
          "#fbe1e1",
          "#dff4f9",
          "#81d1e6",
          "#03a3cd"
         ],
         "heatmap": [
          "#fcdfef",
          "#f8bfde",
          "#f59fce",
          "#f180be",
          "#ee60ad",
          "#eb409d",
          "#e7208c",
          "#e4007c"
         ]
        },
        "rect": {
         "fill": "#282828"
        },
        "style": {
         "bar": {
          "binSpacing": 2,
          "fill": "#282828",
          "stroke": false
         }
        },
        "symbol": {
         "opacity": 1,
         "shape": "circle",
         "size": 40,
         "strokeWidth": 1
        },
        "text": {
         "align": "right",
         "font": "Ubuntu Mono",
         "fontSize": 10,
         "href": "https://twitter.com/ChekosWH",
         "text": "Made by @ChekosWH"
        },
        "title": {
         "anchor": "start",
         "font": "Ubuntu",
         "fontSize": 24,
         "fontWeight": 600,
         "offset": 20
        },
        "view": {
         "stroke": false
        }
       },
       "data": {
        "format": {
         "type": "csv"
        },
        "url": "https://vega.github.io/vega-datasets/data/disasters.csv"
       },
       "encoding": {
        "color": {
         "field": "Entity",
         "legend": null,
         "type": "nominal"
        },
        "size": {
         "field": "Deaths",
         "legend": {
          "title": "Annual Global Deaths"
         },
         "scale": {
          "range": [
           0,
           5000
          ]
         },
         "type": "quantitative"
        },
        "x": {
         "axis": {
          "labelAngle": 0
         },
         "field": "Year",
         "type": "ordinal"
        },
        "y": {
         "field": "Entity",
         "type": "nominal"
        }
       },
       "height": 350,
       "mark": {
        "opacity": 0.8,
        "stroke": "black",
        "strokeWidth": 1,
        "type": "circle"
       },
       "transform": [
        {
         "filter": "(datum.Entity !== 'All natural disasters')"
        }
       ],
       "width": 480
      },
      "text/plain": [
       "<VegaLite 2 object>\n",
       "\n",
       "If you see this message, it means the renderer has not been properly enabled\n",
       "for the frontend that you are using. For more information, see\n",
       "https://altair-viz.github.io/user_guide/troubleshooting.html\n"
      ]
     },
     "execution_count": 176,
     "metadata": {},
     "output_type": "execute_result"
    }
   ],
   "source": [
    "from altair.expr import datum\n",
    "from vega_datasets import data\n",
    "\n",
    "source = data.disasters.url\n",
    "\n",
    "alt.Chart(source).mark_circle(\n",
    "    opacity=0.8,\n",
    "    stroke='black',\n",
    "    strokeWidth=1\n",
    ").encode(\n",
    "    alt.X('Year:O', axis=alt.Axis(labelAngle=0)),\n",
    "    alt.Y('Entity:N'),\n",
    "    alt.Size('Deaths:Q',\n",
    "        scale=alt.Scale(range=[0, 5000]),\n",
    "        legend=alt.Legend(title='Annual Global Deaths')\n",
    "    ),\n",
    "    alt.Color('Entity:N', legend=None)\n",
    ").properties(\n",
    "    width=480,\n",
    "    height=350\n",
    ").transform_filter(\n",
    "    datum.Entity != 'All natural disasters'\n",
    ")"
   ]
  },
  {
   "cell_type": "code",
   "execution_count": 177,
   "metadata": {},
   "outputs": [
    {
     "data": {
      "application/vnd.vegalite.v2+json": {
       "$schema": "https://vega.github.io/schema/vega-lite/v2.4.1.json",
       "config": {
        "arc": {
         "fill": "#282828"
        },
        "area": {
         "fill": "#282828"
        },
        "axisBand": {
         "grid": false
        },
        "axisBottom": {
         "domain": false,
         "domainColor": "black",
         "domainWidth": 3,
         "grid": true,
         "gridColor": "#282828",
         "gridWidth": 1,
         "labelFont": "Ubuntu Condensed",
         "labelFontSize": 12,
         "labelPadding": 4,
         "tickColor": "#282828",
         "tickSize": 10,
         "titleFont": "Ubuntu",
         "titleFontSize": 14,
         "titlePadding": 10
        },
        "axisLeft": {
         "domainColor": "#282828",
         "domainWidth": 1,
         "gridColor": "#282828",
         "gridWidth": 1,
         "labelFont": "Ubuntu Condensed",
         "labelFontSize": 12,
         "labelPadding": 4,
         "tickColor": "#282828",
         "tickSize": 10,
         "ticks": true,
         "titleFont": "Ubuntu",
         "titleFontSize": 14,
         "titlePadding": 10
        },
        "axisRight": {
         "domainColor": "#282828",
         "domainWidth": 1,
         "gridColor": "#282828",
         "gridWidth": 1,
         "labelFont": "Ubuntu Condensed",
         "labelFontSize": 12,
         "labelPadding": 4,
         "tickColor": "#282828",
         "tickSize": 10,
         "ticks": true,
         "titleFont": "Ubuntu",
         "titleFontSize": 14,
         "titlePadding": 10
        },
        "axisTop": {
         "domain": false,
         "domainColor": "black",
         "domainWidth": 3,
         "grid": true,
         "gridColor": "#282828",
         "gridWidth": 1,
         "labelFont": "Ubuntu Condensed",
         "labelFontSize": 12,
         "labelPadding": 4,
         "tickColor": "#282828",
         "tickSize": 10,
         "titleFont": "Ubuntu",
         "titleFontSize": 14,
         "titlePadding": 10
        },
        "background": "#FFFAFA",
        "geoshape": {
         "fill": "#C0C0C0"
        },
        "group": {
         "fill": "#FFFAFA"
        },
        "legend": {
         "labelFont": "Ubuntu Condensed",
         "labelFontSize": 11,
         "padding": 1,
         "symbolSize": 30,
         "symbolType": "square",
         "titleFont": "Ubuntu",
         "titleFontSize": 14,
         "titlePadding": 10
        },
        "line": {
         "stroke": "#282828",
         "strokewidth": 2
        },
        "path": {
         "stroke": "#282828",
         "strokeWidth": 0.5
        },
        "point": {
         "filled": true
        },
        "range": {
         "category": [
          "#dc0d7a",
          "#02a3cd",
          "#e4a100",
          "#dc0d12",
          "#074a7e",
          "#e46800",
          "#aa3594",
          "#a20c4b"
         ],
         "diverging": [
          "#dc0d12",
          "#e9686b",
          "#fbe1e1",
          "#dff4f9",
          "#81d1e6",
          "#03a3cd"
         ],
         "heatmap": [
          "#fcdfef",
          "#f8bfde",
          "#f59fce",
          "#f180be",
          "#ee60ad",
          "#eb409d",
          "#e7208c",
          "#e4007c"
         ]
        },
        "rect": {
         "fill": "#282828"
        },
        "style": {
         "bar": {
          "binSpacing": 2,
          "fill": "#282828",
          "stroke": false
         }
        },
        "symbol": {
         "opacity": 1,
         "shape": "circle",
         "size": 40,
         "strokeWidth": 1
        },
        "text": {
         "align": "right",
         "font": "Ubuntu Mono",
         "fontSize": 10,
         "href": "https://twitter.com/ChekosWH",
         "text": "Made by @ChekosWH"
        },
        "title": {
         "anchor": "start",
         "font": "Ubuntu",
         "fontSize": 24,
         "fontWeight": 600,
         "offset": 20
        },
        "view": {
         "stroke": false
        }
       },
       "data": {
        "format": {
         "type": "csv"
        },
        "url": "https://vega.github.io/vega-datasets/data/zipcodes.csv"
       },
       "encoding": {
        "color": {
         "field": "digit",
         "type": "nominal"
        },
        "latitude": {
         "field": "latitude",
         "type": "quantitative"
        },
        "longitude": {
         "field": "longitude",
         "type": "quantitative"
        }
       },
       "height": 400,
       "mark": {
        "size": 3,
        "type": "circle"
       },
       "projection": {
        "type": "albersUsa"
       },
       "transform": [
        {
         "as": "digit",
         "calculate": "substring(datum.zip_code,0,1)"
        }
       ],
       "width": 650
      },
      "text/plain": [
       "<VegaLite 2 object>\n",
       "\n",
       "If you see this message, it means the renderer has not been properly enabled\n",
       "for the frontend that you are using. For more information, see\n",
       "https://altair-viz.github.io/user_guide/troubleshooting.html\n"
      ]
     },
     "execution_count": 177,
     "metadata": {},
     "output_type": "execute_result"
    }
   ],
   "source": [
    "from altair.expr import datum, substring\n",
    "from vega_datasets import data\n",
    "\n",
    "zipcodes = data.zipcodes.url\n",
    "\n",
    "alt.Chart(zipcodes).mark_circle(size=3).encode(\n",
    "    longitude='longitude:Q',\n",
    "    latitude='latitude:Q',\n",
    "    color='digit:N'\n",
    ").project(\n",
    "    type='albersUsa'\n",
    ").properties(\n",
    "    width=650,\n",
    "    height=400\n",
    ").transform_calculate(\n",
    "    \"digit\", substring(datum.zip_code, 0, 1)\n",
    ")"
   ]
  },
  {
   "cell_type": "code",
   "execution_count": 178,
   "metadata": {},
   "outputs": [
    {
     "data": {
      "application/vnd.vegalite.v2+json": {
       "$schema": "https://vega.github.io/schema/vega-lite/v2.4.1.json",
       "config": {
        "arc": {
         "fill": "#282828"
        },
        "area": {
         "fill": "#282828"
        },
        "axisBand": {
         "grid": false
        },
        "axisBottom": {
         "domain": false,
         "domainColor": "black",
         "domainWidth": 3,
         "grid": true,
         "gridColor": "#282828",
         "gridWidth": 1,
         "labelFont": "Ubuntu Condensed",
         "labelFontSize": 12,
         "labelPadding": 4,
         "tickColor": "#282828",
         "tickSize": 10,
         "titleFont": "Ubuntu",
         "titleFontSize": 14,
         "titlePadding": 10
        },
        "axisLeft": {
         "domainColor": "#282828",
         "domainWidth": 1,
         "gridColor": "#282828",
         "gridWidth": 1,
         "labelFont": "Ubuntu Condensed",
         "labelFontSize": 12,
         "labelPadding": 4,
         "tickColor": "#282828",
         "tickSize": 10,
         "ticks": true,
         "titleFont": "Ubuntu",
         "titleFontSize": 14,
         "titlePadding": 10
        },
        "axisRight": {
         "domainColor": "#282828",
         "domainWidth": 1,
         "gridColor": "#282828",
         "gridWidth": 1,
         "labelFont": "Ubuntu Condensed",
         "labelFontSize": 12,
         "labelPadding": 4,
         "tickColor": "#282828",
         "tickSize": 10,
         "ticks": true,
         "titleFont": "Ubuntu",
         "titleFontSize": 14,
         "titlePadding": 10
        },
        "axisTop": {
         "domain": false,
         "domainColor": "black",
         "domainWidth": 3,
         "grid": true,
         "gridColor": "#282828",
         "gridWidth": 1,
         "labelFont": "Ubuntu Condensed",
         "labelFontSize": 12,
         "labelPadding": 4,
         "tickColor": "#282828",
         "tickSize": 10,
         "titleFont": "Ubuntu",
         "titleFontSize": 14,
         "titlePadding": 10
        },
        "background": "#FFFAFA",
        "geoshape": {
         "fill": "#C0C0C0"
        },
        "group": {
         "fill": "#FFFAFA"
        },
        "legend": {
         "labelFont": "Ubuntu Condensed",
         "labelFontSize": 11,
         "padding": 1,
         "symbolSize": 30,
         "symbolType": "square",
         "titleFont": "Ubuntu",
         "titleFontSize": 14,
         "titlePadding": 10
        },
        "line": {
         "stroke": "#282828",
         "strokewidth": 2
        },
        "path": {
         "stroke": "#282828",
         "strokeWidth": 0.5
        },
        "point": {
         "filled": true
        },
        "range": {
         "category": [
          "#dc0d7a",
          "#02a3cd",
          "#e4a100",
          "#dc0d12",
          "#074a7e",
          "#e46800",
          "#aa3594",
          "#a20c4b"
         ],
         "diverging": [
          "#dc0d12",
          "#e9686b",
          "#fbe1e1",
          "#dff4f9",
          "#81d1e6",
          "#03a3cd"
         ],
         "heatmap": [
          "#fcdfef",
          "#f8bfde",
          "#f59fce",
          "#f180be",
          "#ee60ad",
          "#eb409d",
          "#e7208c",
          "#e4007c"
         ]
        },
        "rect": {
         "fill": "#282828"
        },
        "style": {
         "bar": {
          "binSpacing": 2,
          "fill": "#282828",
          "stroke": false
         }
        },
        "symbol": {
         "opacity": 1,
         "shape": "circle",
         "size": 40,
         "strokeWidth": 1
        },
        "text": {
         "align": "right",
         "font": "Ubuntu Mono",
         "fontSize": 10,
         "href": "https://twitter.com/ChekosWH",
         "text": "Made by @ChekosWH"
        },
        "title": {
         "anchor": "start",
         "font": "Ubuntu",
         "fontSize": 24,
         "fontWeight": 600,
         "offset": 20
        },
        "view": {
         "stroke": false
        }
       },
       "height": 400,
       "layer": [
        {
         "data": {
          "format": {
           "feature": "states",
           "type": "topojson"
          },
          "url": "https://vega.github.io/vega-datasets/data/us-10m.json"
         },
         "height": 400,
         "mark": {
          "stroke": "#FCFCFC",
          "type": "geoshape"
         },
         "projection": {
          "type": "albersUsa"
         },
         "title": "US State Capitols",
         "width": 700
        },
        {
         "data": {
          "format": {
           "type": "json"
          },
          "url": "https://vega.github.io/vega-datasets/data/us-state-capitals.json"
         },
         "encoding": {
          "color": {
           "value": "black"
          },
          "latitude": {
           "field": "lat",
           "type": "quantitative"
          },
          "longitude": {
           "field": "lon",
           "type": "quantitative"
          },
          "size": {
           "condition": {
            "selection": {
             "not": "selector047"
            },
            "value": 30
           },
           "value": 100
          }
         },
         "mark": "point",
         "selection": {
          "selector047": {
           "empty": "all",
           "fields": [
            "lat",
            "lon"
           ],
           "nearest": true,
           "on": "mouseover",
           "resolve": "global",
           "type": "single"
          }
         }
        },
        {
         "data": {
          "format": {
           "type": "json"
          },
          "url": "https://vega.github.io/vega-datasets/data/us-state-capitals.json"
         },
         "encoding": {
          "latitude": {
           "field": "lat",
           "type": "quantitative"
          },
          "longitude": {
           "field": "lon",
           "type": "quantitative"
          },
          "opacity": {
           "condition": {
            "selection": {
             "not": "selector047"
            },
            "value": 0
           },
           "value": 1
          },
          "text": {
           "field": "city",
           "type": "nominal"
          }
         },
         "mark": {
          "align": "right",
          "dy": -5,
          "type": "text"
         }
        }
       ],
       "width": 600
      },
      "text/plain": [
       "<VegaLite 2 object>\n",
       "\n",
       "If you see this message, it means the renderer has not been properly enabled\n",
       "for the frontend that you are using. For more information, see\n",
       "https://altair-viz.github.io/user_guide/troubleshooting.html\n"
      ]
     },
     "execution_count": 178,
     "metadata": {},
     "output_type": "execute_result"
    }
   ],
   "source": [
    "from vega_datasets import data\n",
    "\n",
    "states = alt.topo_feature(data.us_10m.url, 'states')\n",
    "capitals = data.us_state_capitals.url\n",
    "\n",
    "# US states background\n",
    "background = alt.Chart(states).mark_geoshape(\n",
    "    stroke='#FCFCFC'\n",
    ").properties(\n",
    "    title='US State Capitols',\n",
    "    width=700,\n",
    "    height=400\n",
    ").project('albersUsa')\n",
    "\n",
    "# Points and text\n",
    "hover = alt.selection(type='single', on='mouseover', nearest=True,\n",
    "                      fields=['lat', 'lon'])\n",
    "\n",
    "base = alt.Chart(capitals).encode(\n",
    "    longitude='lon:Q',\n",
    "    latitude='lat:Q'\n",
    ")\n",
    "\n",
    "text = base.mark_text(dy=-5, align='right').encode(\n",
    "    alt.Text('city', type='nominal'),\n",
    "    opacity=alt.condition(~hover, alt.value(0), alt.value(1))\n",
    ")\n",
    "\n",
    "points = base.mark_point().encode(\n",
    "    color=alt.value('black'),\n",
    "    size=alt.condition(~hover, alt.value(30), alt.value(100))\n",
    ").properties(selection = hover)\n",
    "\n",
    "background + points + text"
   ]
  },
  {
   "cell_type": "code",
   "execution_count": 179,
   "metadata": {},
   "outputs": [
    {
     "data": {
      "application/vnd.vegalite.v2+json": {
       "$schema": "https://vega.github.io/schema/vega-lite/v2.4.1.json",
       "config": {
        "arc": {
         "fill": "#282828"
        },
        "area": {
         "fill": "#282828"
        },
        "axisBand": {
         "grid": false
        },
        "axisBottom": {
         "domain": false,
         "domainColor": "black",
         "domainWidth": 3,
         "grid": true,
         "gridColor": "#282828",
         "gridWidth": 1,
         "labelFont": "Ubuntu Condensed",
         "labelFontSize": 12,
         "labelPadding": 4,
         "tickColor": "#282828",
         "tickSize": 10,
         "titleFont": "Ubuntu",
         "titleFontSize": 14,
         "titlePadding": 10
        },
        "axisLeft": {
         "domainColor": "#282828",
         "domainWidth": 1,
         "gridColor": "#282828",
         "gridWidth": 1,
         "labelFont": "Ubuntu Condensed",
         "labelFontSize": 12,
         "labelPadding": 4,
         "tickColor": "#282828",
         "tickSize": 10,
         "ticks": true,
         "titleFont": "Ubuntu",
         "titleFontSize": 14,
         "titlePadding": 10
        },
        "axisRight": {
         "domainColor": "#282828",
         "domainWidth": 1,
         "gridColor": "#282828",
         "gridWidth": 1,
         "labelFont": "Ubuntu Condensed",
         "labelFontSize": 12,
         "labelPadding": 4,
         "tickColor": "#282828",
         "tickSize": 10,
         "ticks": true,
         "titleFont": "Ubuntu",
         "titleFontSize": 14,
         "titlePadding": 10
        },
        "axisTop": {
         "domain": false,
         "domainColor": "black",
         "domainWidth": 3,
         "grid": true,
         "gridColor": "#282828",
         "gridWidth": 1,
         "labelFont": "Ubuntu Condensed",
         "labelFontSize": 12,
         "labelPadding": 4,
         "tickColor": "#282828",
         "tickSize": 10,
         "titleFont": "Ubuntu",
         "titleFontSize": 14,
         "titlePadding": 10
        },
        "background": "#FFFAFA",
        "geoshape": {
         "fill": "#C0C0C0"
        },
        "group": {
         "fill": "#FFFAFA"
        },
        "legend": {
         "labelFont": "Ubuntu Condensed",
         "labelFontSize": 11,
         "padding": 1,
         "symbolSize": 30,
         "symbolType": "square",
         "titleFont": "Ubuntu",
         "titleFontSize": 14,
         "titlePadding": 10
        },
        "line": {
         "stroke": "#282828",
         "strokewidth": 2
        },
        "path": {
         "stroke": "#282828",
         "strokeWidth": 0.5
        },
        "point": {
         "filled": true
        },
        "range": {
         "category": [
          "#dc0d7a",
          "#02a3cd",
          "#e4a100",
          "#dc0d12",
          "#074a7e",
          "#e46800",
          "#aa3594",
          "#a20c4b"
         ],
         "diverging": [
          "#dc0d12",
          "#e9686b",
          "#fbe1e1",
          "#dff4f9",
          "#81d1e6",
          "#03a3cd"
         ],
         "heatmap": [
          "#fcdfef",
          "#f8bfde",
          "#f59fce",
          "#f180be",
          "#ee60ad",
          "#eb409d",
          "#e7208c",
          "#e4007c"
         ]
        },
        "rect": {
         "fill": "#282828"
        },
        "style": {
         "bar": {
          "binSpacing": 2,
          "fill": "#282828",
          "stroke": false
         }
        },
        "symbol": {
         "opacity": 1,
         "shape": "circle",
         "size": 40,
         "strokeWidth": 1
        },
        "text": {
         "align": "right",
         "font": "Ubuntu Mono",
         "fontSize": 10,
         "href": "https://twitter.com/ChekosWH",
         "text": "Made by @ChekosWH"
        },
        "title": {
         "anchor": "start",
         "font": "Ubuntu",
         "fontSize": 24,
         "fontWeight": 600,
         "offset": 20
        },
        "view": {
         "stroke": false
        }
       },
       "data": {
        "format": {
         "type": "json"
        },
        "url": "https://vega.github.io/vega-datasets/data/population.json"
       },
       "encoding": {
        "color": {
         "field": "sex",
         "scale": {
          "domain": [
           "Male",
           "Female"
          ],
          "range": [
           "steelblue",
           "salmon"
          ]
         },
         "type": "nominal"
        },
        "column": {
         "field": "age",
         "type": "ordinal"
        },
        "x": {
         "axis": {
          "title": null
         },
         "field": "sex",
         "type": "nominal"
        },
        "y": {
         "field": "people",
         "scale": {
          "domain": [
           0,
           12000000
          ]
         },
         "type": "quantitative"
        }
       },
       "height": 400,
       "mark": "bar",
       "selection": {
        "year": {
         "bind": {
          "input": "range",
          "max": 2000,
          "min": 1900,
          "step": 10
         },
         "empty": "all",
         "fields": [
          "year"
         ],
         "on": "click",
         "resolve": "global",
         "type": "single"
        }
       },
       "transform": [
        {
         "as": "sex",
         "calculate": "if((datum.sex === 1),'Male','Female')"
        },
        {
         "filter": {
          "selection": "year"
         }
        }
       ],
       "width": 20
      },
      "text/plain": [
       "<VegaLite 2 object>\n",
       "\n",
       "If you see this message, it means the renderer has not been properly enabled\n",
       "for the frontend that you are using. For more information, see\n",
       "https://altair-viz.github.io/user_guide/troubleshooting.html\n"
      ]
     },
     "execution_count": 179,
     "metadata": {},
     "output_type": "execute_result"
    }
   ],
   "source": [
    "from altair.expr import datum, if_\n",
    "from vega_datasets import data\n",
    "\n",
    "pop = data.population.url\n",
    "\n",
    "pink_blue = alt.Scale(domain=('Male', 'Female'),\n",
    "                      range=[\"steelblue\", \"salmon\"])\n",
    "\n",
    "slider = alt.binding_range(min=1900, max=2000, step=10)\n",
    "select_year = alt.selection_single(name=\"year\", fields=['year'], bind=slider)\n",
    "\n",
    "alt.Chart(pop).mark_bar().encode(\n",
    "    x=alt.X('sex:N', axis=alt.Axis(title=None)),\n",
    "    y=alt.Y('people:Q', scale=alt.Scale(domain=(0, 12000000))),\n",
    "    color=alt.Color('sex:N', scale=pink_blue),\n",
    "    column='age:O'\n",
    ").properties(\n",
    "    width=20,\n",
    "    selection = select_year,\n",
    ").transform_calculate(\n",
    "    \"sex\", if_(datum.sex == 1, \"Male\", \"Female\")\n",
    ").transform_filter(\n",
    "    select_year\n",
    ")\n"
   ]
  },
  {
   "cell_type": "code",
   "execution_count": 180,
   "metadata": {},
   "outputs": [
    {
     "data": {
      "application/vnd.vegalite.v2+json": {
       "$schema": "https://vega.github.io/schema/vega-lite/v2.4.1.json",
       "config": {
        "arc": {
         "fill": "#282828"
        },
        "area": {
         "fill": "#282828"
        },
        "axisBand": {
         "grid": false
        },
        "axisBottom": {
         "domain": false,
         "domainColor": "black",
         "domainWidth": 3,
         "grid": true,
         "gridColor": "#282828",
         "gridWidth": 1,
         "labelFont": "Ubuntu Condensed",
         "labelFontSize": 12,
         "labelPadding": 4,
         "tickColor": "#282828",
         "tickSize": 10,
         "titleFont": "Ubuntu",
         "titleFontSize": 14,
         "titlePadding": 10
        },
        "axisLeft": {
         "domainColor": "#282828",
         "domainWidth": 1,
         "gridColor": "#282828",
         "gridWidth": 1,
         "labelFont": "Ubuntu Condensed",
         "labelFontSize": 12,
         "labelPadding": 4,
         "tickColor": "#282828",
         "tickSize": 10,
         "ticks": true,
         "titleFont": "Ubuntu",
         "titleFontSize": 14,
         "titlePadding": 10
        },
        "axisRight": {
         "domainColor": "#282828",
         "domainWidth": 1,
         "gridColor": "#282828",
         "gridWidth": 1,
         "labelFont": "Ubuntu Condensed",
         "labelFontSize": 12,
         "labelPadding": 4,
         "tickColor": "#282828",
         "tickSize": 10,
         "ticks": true,
         "titleFont": "Ubuntu",
         "titleFontSize": 14,
         "titlePadding": 10
        },
        "axisTop": {
         "domain": false,
         "domainColor": "black",
         "domainWidth": 3,
         "grid": true,
         "gridColor": "#282828",
         "gridWidth": 1,
         "labelFont": "Ubuntu Condensed",
         "labelFontSize": 12,
         "labelPadding": 4,
         "tickColor": "#282828",
         "tickSize": 10,
         "titleFont": "Ubuntu",
         "titleFontSize": 14,
         "titlePadding": 10
        },
        "background": "#FFFAFA",
        "geoshape": {
         "fill": "#C0C0C0"
        },
        "group": {
         "fill": "#FFFAFA"
        },
        "legend": {
         "labelFont": "Ubuntu Condensed",
         "labelFontSize": 11,
         "padding": 1,
         "symbolSize": 30,
         "symbolType": "square",
         "titleFont": "Ubuntu",
         "titleFontSize": 14,
         "titlePadding": 10
        },
        "line": {
         "stroke": "#282828",
         "strokewidth": 2
        },
        "path": {
         "stroke": "#282828",
         "strokeWidth": 0.5
        },
        "point": {
         "filled": true
        },
        "range": {
         "category": [
          "#dc0d7a",
          "#02a3cd",
          "#e4a100",
          "#dc0d12",
          "#074a7e",
          "#e46800",
          "#aa3594",
          "#a20c4b"
         ],
         "diverging": [
          "#dc0d12",
          "#e9686b",
          "#fbe1e1",
          "#dff4f9",
          "#81d1e6",
          "#03a3cd"
         ],
         "heatmap": [
          "#fcdfef",
          "#f8bfde",
          "#f59fce",
          "#f180be",
          "#ee60ad",
          "#eb409d",
          "#e7208c",
          "#e4007c"
         ]
        },
        "rect": {
         "fill": "#282828"
        },
        "style": {
         "bar": {
          "binSpacing": 2,
          "fill": "#282828",
          "stroke": false
         }
        },
        "symbol": {
         "opacity": 1,
         "shape": "circle",
         "size": 40,
         "strokeWidth": 1
        },
        "text": {
         "align": "right",
         "font": "Ubuntu Mono",
         "fontSize": 10,
         "href": "https://twitter.com/ChekosWH",
         "text": "Made by @ChekosWH"
        },
        "title": {
         "anchor": "start",
         "font": "Ubuntu",
         "fontSize": 24,
         "fontWeight": 600,
         "offset": 20
        },
        "view": {
         "stroke": false
        }
       },
       "height": 400,
       "vconcat": [
        {
         "layer": [
          {
           "data": {
            "format": {
             "type": "csv"
            },
            "url": "https://vega.github.io/vega-datasets/data/stocks.csv"
           },
           "encoding": {
            "color": {
             "field": "symbol",
             "type": "nominal"
            },
            "opacity": {
             "value": 0
            },
            "x": {
             "field": "date",
             "type": "temporal"
            },
            "y": {
             "field": "price",
             "type": "quantitative"
            }
           },
           "mark": "circle",
           "selection": {
            "selector048": {
             "empty": "all",
             "fields": [
              "symbol"
             ],
             "nearest": true,
             "on": "mouseover",
             "resolve": "global",
             "type": "single"
            }
           },
           "title": "Stocks",
           "width": 600
          },
          {
           "data": {
            "format": {
             "type": "csv"
            },
            "url": "https://vega.github.io/vega-datasets/data/stocks.csv"
           },
           "encoding": {
            "color": {
             "field": "symbol",
             "type": "nominal"
            },
            "size": {
             "condition": {
              "selection": {
               "not": "selector048"
              },
              "value": 2
             },
             "value": 4
            },
            "x": {
             "field": "date",
             "type": "temporal"
            },
            "y": {
             "field": "price",
             "type": "quantitative"
            }
           },
           "mark": "line"
          }
         ]
        },
        {
         "data": {
          "format": {
           "type": "csv"
          },
          "url": "https://vega.github.io/vega-datasets/data/stocks.csv"
         },
         "mark": "text"
        }
       ],
       "width": 600
      },
      "text/plain": [
       "<VegaLite 2 object>\n",
       "\n",
       "If you see this message, it means the renderer has not been properly enabled\n",
       "for the frontend that you are using. For more information, see\n",
       "https://altair-viz.github.io/user_guide/troubleshooting.html\n"
      ]
     },
     "execution_count": 180,
     "metadata": {},
     "output_type": "execute_result"
    }
   ],
   "source": [
    "from vega_datasets import data\n",
    "\n",
    "stocks = data.stocks.url\n",
    "\n",
    "highlight = alt.selection(type='single', on='mouseover',\n",
    "                          fields=['symbol'], nearest=True)\n",
    "\n",
    "base = alt.Chart(stocks).encode(\n",
    "    x='date:T',\n",
    "    y='price:Q',\n",
    "    color='symbol:N'\n",
    ")\n",
    "\n",
    "points = base.mark_circle().encode(\n",
    "    opacity=alt.value(0)\n",
    ").properties(\n",
    "    width=600,\n",
    "    selection = highlight,\n",
    "    title = \"Stocks\",\n",
    ")\n",
    "\n",
    "lines = base.mark_line().encode(\n",
    "    size=alt.condition(~highlight, alt.value(2), alt.value(4))\n",
    ")\n",
    "\n",
    "text = alt.Chart(stocks).mark_text()\n",
    "points  + lines &text"
   ]
  },
  {
   "cell_type": "code",
   "execution_count": null,
   "metadata": {},
   "outputs": [],
   "source": []
  }
 ],
 "metadata": {
  "kernelspec": {
   "display_name": "Python 3",
   "language": "python",
   "name": "python3"
  },
  "language_info": {
   "codemirror_mode": {
    "name": "ipython",
    "version": 3
   },
   "file_extension": ".py",
   "mimetype": "text/x-python",
   "name": "python",
   "nbconvert_exporter": "python",
   "pygments_lexer": "ipython3",
   "version": "3.6.5"
  }
 },
 "nbformat": 4,
 "nbformat_minor": 2
}
