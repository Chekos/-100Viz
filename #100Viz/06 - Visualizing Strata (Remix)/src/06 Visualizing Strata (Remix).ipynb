{
 "cells": [
  {
   "cell_type": "code",
   "execution_count": 1,
   "metadata": {},
   "outputs": [],
   "source": [
    "import altair as alt"
   ]
  },
  {
   "cell_type": "code",
   "execution_count": 2,
   "metadata": {},
   "outputs": [
    {
     "data": {
      "text/html": [
       "<div>\n",
       "<style scoped>\n",
       "    .dataframe tbody tr th:only-of-type {\n",
       "        vertical-align: middle;\n",
       "    }\n",
       "\n",
       "    .dataframe tbody tr th {\n",
       "        vertical-align: top;\n",
       "    }\n",
       "\n",
       "    .dataframe thead th {\n",
       "        text-align: right;\n",
       "    }\n",
       "</style>\n",
       "<table border=\"1\" class=\"dataframe\">\n",
       "  <thead>\n",
       "    <tr style=\"text-align: right;\">\n",
       "      <th></th>\n",
       "      <th>entidad</th>\n",
       "      <th>estrato_socioeconomico</th>\n",
       "      <th>tono_de_color_de_piel</th>\n",
       "      <th>cuenta</th>\n",
       "      <th>nom_entidad</th>\n",
       "      <th>abr_estado</th>\n",
       "      <th>estrato_socioeconomico_nom</th>\n",
       "      <th>estratos</th>\n",
       "    </tr>\n",
       "  </thead>\n",
       "  <tbody>\n",
       "    <tr>\n",
       "      <th>0</th>\n",
       "      <td>17</td>\n",
       "      <td>1</td>\n",
       "      <td>2</td>\n",
       "      <td>2</td>\n",
       "      <td>Morelos</td>\n",
       "      <td>Mor.</td>\n",
       "      <td>Bajo</td>\n",
       "      <td>1) Bajo</td>\n",
       "    </tr>\n",
       "    <tr>\n",
       "      <th>1</th>\n",
       "      <td>21</td>\n",
       "      <td>1</td>\n",
       "      <td>11</td>\n",
       "      <td>1</td>\n",
       "      <td>Puebla</td>\n",
       "      <td>Pue.</td>\n",
       "      <td>Bajo</td>\n",
       "      <td>1) Bajo</td>\n",
       "    </tr>\n",
       "    <tr>\n",
       "      <th>2</th>\n",
       "      <td>22</td>\n",
       "      <td>1</td>\n",
       "      <td>8</td>\n",
       "      <td>60</td>\n",
       "      <td>Querétaro</td>\n",
       "      <td>Qro.</td>\n",
       "      <td>Bajo</td>\n",
       "      <td>1) Bajo</td>\n",
       "    </tr>\n",
       "    <tr>\n",
       "      <th>3</th>\n",
       "      <td>22</td>\n",
       "      <td>1</td>\n",
       "      <td>7</td>\n",
       "      <td>35</td>\n",
       "      <td>Querétaro</td>\n",
       "      <td>Qro.</td>\n",
       "      <td>Bajo</td>\n",
       "      <td>1) Bajo</td>\n",
       "    </tr>\n",
       "    <tr>\n",
       "      <th>4</th>\n",
       "      <td>22</td>\n",
       "      <td>1</td>\n",
       "      <td>6</td>\n",
       "      <td>20</td>\n",
       "      <td>Querétaro</td>\n",
       "      <td>Qro.</td>\n",
       "      <td>Bajo</td>\n",
       "      <td>1) Bajo</td>\n",
       "    </tr>\n",
       "  </tbody>\n",
       "</table>\n",
       "</div>"
      ],
      "text/plain": [
       "   entidad  estrato_socioeconomico  tono_de_color_de_piel  cuenta nom_entidad  \\\n",
       "0       17                       1                      2       2     Morelos   \n",
       "1       21                       1                     11       1      Puebla   \n",
       "2       22                       1                      8      60   Querétaro   \n",
       "3       22                       1                      7      35   Querétaro   \n",
       "4       22                       1                      6      20   Querétaro   \n",
       "\n",
       "  abr_estado estrato_socioeconomico_nom estratos  \n",
       "0       Mor.                       Bajo  1) Bajo  \n",
       "1       Pue.                       Bajo  1) Bajo  \n",
       "2       Qro.                       Bajo  1) Bajo  \n",
       "3       Qro.                       Bajo  1) Bajo  \n",
       "4       Qro.                       Bajo  1) Bajo  "
      ]
     },
     "execution_count": 2,
     "metadata": {},
     "output_type": "execute_result"
    }
   ],
   "source": [
    "df = alt.pd.read_csv(\"../data/processed/data_cleaned.csv\")\n",
    "\n",
    "df.head()"
   ]
  },
  {
   "cell_type": "code",
   "execution_count": 95,
   "metadata": {},
   "outputs": [
    {
     "data": {
      "application/vnd.vegalite.v2+json": {
       "$schema": "https://vega.github.io/schema/vega-lite/v2.4.3.json",
       "autosize": "fit",
       "config": {
        "arc": {
         "fill": "#282828"
        },
        "area": {
         "fill": "#282828"
        },
        "axisBand": {
         "grid": false
        },
        "axisBottom": {
         "domain": false,
         "domainColor": "black",
         "domainWidth": 3,
         "grid": true,
         "gridColor": "#C9C9C9",
         "gridWidth": 1,
         "labelFont": "Ubuntu Condensed",
         "labelFontSize": 10,
         "labelPadding": 8,
         "tickColor": "#282828",
         "tickSize": 10,
         "title": "",
         "titleFont": "Ubuntu",
         "titleFontSize": 16,
         "titlePadding": 10
        },
        "axisLeft": {
         "domainColor": "#282828",
         "domainWidth": 1,
         "gridColor": "#C9C9C9",
         "gridWidth": 1,
         "labelFont": "Ubuntu Condensed",
         "labelFontSize": 16,
         "labelPadding": 8,
         "tickColor": "#282828",
         "tickSize": 10,
         "ticks": true,
         "titleFont": "Ubuntu",
         "titleFontSize": 36,
         "titlePadding": 10
        },
        "axisRight": {
         "domainColor": "#282828",
         "domainWidth": 1,
         "gridColor": "#C9C9C9",
         "gridWidth": 1,
         "labelFont": "Ubuntu Condensed",
         "labelFontSize": 12,
         "labelPadding": 4,
         "tickColor": "#282828",
         "tickSize": 10,
         "ticks": true,
         "titleFont": "Ubuntu",
         "titleFontSize": 14,
         "titlePadding": 10
        },
        "axisTop": {
         "domain": false,
         "domainColor": "black",
         "domainWidth": 3,
         "grid": true,
         "gridColor": "#C9C9C9",
         "gridWidth": 1,
         "labelFont": "Ubuntu Condensed",
         "labelFontSize": 12,
         "labelPadding": 4,
         "tickColor": "#282828",
         "tickSize": 10,
         "titleFont": "Ubuntu",
         "titleFontSize": 20,
         "titlePadding": 10
        },
        "background": "#FFFAFA",
        "geoshape": {
         "fill": "#C0C0C0",
         "stroke": "#C0C0C0",
         "strokeWidth": 0.5
        },
        "group": {
         "fill": "#FFFAFA"
        },
        "header": {
         "fontWeight": 400,
         "labelFont": "Ubuntu Condensed",
         "labelFontSize": 15,
         "title": " ",
         "titleBaseline": "bottom",
         "titleFont": "Ubuntu",
         "titleFontSize": 12,
         "titleOffset": -300
        },
        "legend": {
         "labelFont": "Ubuntu Condensed",
         "labelFontSize": 19,
         "padding": 10,
         "symbolSize": 300,
         "symbolType": "square",
         "titleFont": "Ubuntu",
         "titleFontSize": 18,
         "titlePadding": 10
        },
        "line": {
         "color": "#282828",
         "stroke": "#282828",
         "strokewidth": 5
        },
        "padding": 10,
        "path": {
         "stroke": "#282828",
         "strokeWidth": 0.5
        },
        "point": {
         "filled": true
        },
        "range": {
         "category": [
          "#dc0d7a",
          "#02a3cd",
          "#e4a100",
          "#dc0d12",
          "#0DDC6F",
          "#074a7e",
          "#e46800",
          "#aa3594",
          "#a20c4b"
         ],
         "diverging": [
          "#dc0d12",
          "#e9686b",
          "#fbe1e1",
          "#dff4f9",
          "#81d1e6",
          "#03a3cd"
         ],
         "heatmap": [
          "#fcdfef",
          "#f8bfde",
          "#f59fce",
          "#f180be",
          "#ee60ad",
          "#eb409d",
          "#e7208c",
          "#e4007c"
         ]
        },
        "rect": {
         "fill": "#A20C4B",
         "opacity": 0.3
        },
        "style": {
         "bar": {
          "binSpacing": 2,
          "fill": "#282828",
          "stroke": false
         },
         "text": {
          "align": "right",
          "dx": 300,
          "font": "Ubuntu Mono",
          "fontSize": 10,
          "fontWeight": 100,
          "href": "https://twitter.com/ChekosWH",
          "size": 10,
          "text": "Made by @ChekosWH"
         }
        },
        "symbol": {
         "opacity": 1,
         "shape": "circle",
         "size": 30,
         "strokeWidth": 1
        },
        "title": {
         "anchor": "start",
         "font": "Ubuntu",
         "fontSize": 64,
         "fontWeight": 600,
         "offset": 20
        },
        "trail": {
         "color": "#282828",
         "size": 5,
         "stroke": "#282828",
         "strokeWidth": 0
        },
        "view": {
         "padding": 15,
         "stroke": false,
         "width": 1080
        }
       },
       "data": {
        "values": [
         {
          "abr_estado": "Mor.",
          "cuenta": 2,
          "entidad": 17,
          "estrato_socioeconomico": 1,
          "estrato_socioeconomico_nom": "Bajo",
          "estratos": "1) Bajo",
          "nom_entidad": "Morelos",
          "tono_de_color_de_piel": 2
         },
         {
          "abr_estado": "Pue.",
          "cuenta": 1,
          "entidad": 21,
          "estrato_socioeconomico": 1,
          "estrato_socioeconomico_nom": "Bajo",
          "estratos": "1) Bajo",
          "nom_entidad": "Puebla",
          "tono_de_color_de_piel": 11
         },
         {
          "abr_estado": "Qro.",
          "cuenta": 60,
          "entidad": 22,
          "estrato_socioeconomico": 1,
          "estrato_socioeconomico_nom": "Bajo",
          "estratos": "1) Bajo",
          "nom_entidad": "Querétaro",
          "tono_de_color_de_piel": 8
         },
         {
          "abr_estado": "Qro.",
          "cuenta": 35,
          "entidad": 22,
          "estrato_socioeconomico": 1,
          "estrato_socioeconomico_nom": "Bajo",
          "estratos": "1) Bajo",
          "nom_entidad": "Querétaro",
          "tono_de_color_de_piel": 7
         },
         {
          "abr_estado": "Qro.",
          "cuenta": 20,
          "entidad": 22,
          "estrato_socioeconomico": 1,
          "estrato_socioeconomico_nom": "Bajo",
          "estratos": "1) Bajo",
          "nom_entidad": "Querétaro",
          "tono_de_color_de_piel": 6
         },
         {
          "abr_estado": "Qro.",
          "cuenta": 5,
          "entidad": 22,
          "estrato_socioeconomico": 1,
          "estrato_socioeconomico_nom": "Bajo",
          "estratos": "1) Bajo",
          "nom_entidad": "Querétaro",
          "tono_de_color_de_piel": 4
         },
         {
          "abr_estado": "Qro.",
          "cuenta": 5,
          "entidad": 22,
          "estrato_socioeconomico": 1,
          "estrato_socioeconomico_nom": "Bajo",
          "estratos": "1) Bajo",
          "nom_entidad": "Querétaro",
          "tono_de_color_de_piel": 9
         },
         {
          "abr_estado": "Qro.",
          "cuenta": 5,
          "entidad": 22,
          "estrato_socioeconomico": 1,
          "estrato_socioeconomico_nom": "Bajo",
          "estratos": "1) Bajo",
          "nom_entidad": "Querétaro",
          "tono_de_color_de_piel": 10
         },
         {
          "abr_estado": "Qro.",
          "cuenta": 2,
          "entidad": 22,
          "estrato_socioeconomico": 1,
          "estrato_socioeconomico_nom": "Bajo",
          "estratos": "1) Bajo",
          "nom_entidad": "Querétaro",
          "tono_de_color_de_piel": 2
         },
         {
          "abr_estado": "Qro.",
          "cuenta": 2,
          "entidad": 22,
          "estrato_socioeconomico": 1,
          "estrato_socioeconomico_nom": "Bajo",
          "estratos": "1) Bajo",
          "nom_entidad": "Querétaro",
          "tono_de_color_de_piel": 3
         },
         {
          "abr_estado": "Qro.",
          "cuenta": 1,
          "entidad": 22,
          "estrato_socioeconomico": 1,
          "estrato_socioeconomico_nom": "Bajo",
          "estratos": "1) Bajo",
          "nom_entidad": "Querétaro",
          "tono_de_color_de_piel": 11
         },
         {
          "abr_estado": "Q. Roo",
          "cuenta": 38,
          "entidad": 23,
          "estrato_socioeconomico": 1,
          "estrato_socioeconomico_nom": "Bajo",
          "estratos": "1) Bajo",
          "nom_entidad": "Quintana Roo",
          "tono_de_color_de_piel": 7
         },
         {
          "abr_estado": "Q. Roo",
          "cuenta": 18,
          "entidad": 23,
          "estrato_socioeconomico": 1,
          "estrato_socioeconomico_nom": "Bajo",
          "estratos": "1) Bajo",
          "nom_entidad": "Quintana Roo",
          "tono_de_color_de_piel": 6
         },
         {
          "abr_estado": "Q. Roo",
          "cuenta": 17,
          "entidad": 23,
          "estrato_socioeconomico": 1,
          "estrato_socioeconomico_nom": "Bajo",
          "estratos": "1) Bajo",
          "nom_entidad": "Quintana Roo",
          "tono_de_color_de_piel": 4
         },
         {
          "abr_estado": "Q. Roo",
          "cuenta": 16,
          "entidad": 23,
          "estrato_socioeconomico": 1,
          "estrato_socioeconomico_nom": "Bajo",
          "estratos": "1) Bajo",
          "nom_entidad": "Quintana Roo",
          "tono_de_color_de_piel": 8
         },
         {
          "abr_estado": "Q. Roo",
          "cuenta": 8,
          "entidad": 23,
          "estrato_socioeconomico": 1,
          "estrato_socioeconomico_nom": "Bajo",
          "estratos": "1) Bajo",
          "nom_entidad": "Quintana Roo",
          "tono_de_color_de_piel": 5
         },
         {
          "abr_estado": "Q. Roo",
          "cuenta": 6,
          "entidad": 23,
          "estrato_socioeconomico": 1,
          "estrato_socioeconomico_nom": "Bajo",
          "estratos": "1) Bajo",
          "nom_entidad": "Quintana Roo",
          "tono_de_color_de_piel": 9
         },
         {
          "abr_estado": "Q. Roo",
          "cuenta": 3,
          "entidad": 23,
          "estrato_socioeconomico": 1,
          "estrato_socioeconomico_nom": "Bajo",
          "estratos": "1) Bajo",
          "nom_entidad": "Quintana Roo",
          "tono_de_color_de_piel": 3
         },
         {
          "abr_estado": "Pue.",
          "cuenta": 2,
          "entidad": 21,
          "estrato_socioeconomico": 1,
          "estrato_socioeconomico_nom": "Bajo",
          "estratos": "1) Bajo",
          "nom_entidad": "Puebla",
          "tono_de_color_de_piel": 1
         },
         {
          "abr_estado": "Pue.",
          "cuenta": 3,
          "entidad": 21,
          "estrato_socioeconomico": 1,
          "estrato_socioeconomico_nom": "Bajo",
          "estratos": "1) Bajo",
          "nom_entidad": "Puebla",
          "tono_de_color_de_piel": 2
         },
         {
          "abr_estado": "Pue.",
          "cuenta": 4,
          "entidad": 21,
          "estrato_socioeconomico": 1,
          "estrato_socioeconomico_nom": "Bajo",
          "estratos": "1) Bajo",
          "nom_entidad": "Puebla",
          "tono_de_color_de_piel": 3
         },
         {
          "abr_estado": "Pue.",
          "cuenta": 6,
          "entidad": 21,
          "estrato_socioeconomico": 1,
          "estrato_socioeconomico_nom": "Bajo",
          "estratos": "1) Bajo",
          "nom_entidad": "Puebla",
          "tono_de_color_de_piel": 9
         },
         {
          "abr_estado": "Oax.",
          "cuenta": 3,
          "entidad": 20,
          "estrato_socioeconomico": 1,
          "estrato_socioeconomico_nom": "Bajo",
          "estratos": "1) Bajo",
          "nom_entidad": "Oaxaca",
          "tono_de_color_de_piel": 11
         },
         {
          "abr_estado": "Oax.",
          "cuenta": 1,
          "entidad": 20,
          "estrato_socioeconomico": 1,
          "estrato_socioeconomico_nom": "Bajo",
          "estratos": "1) Bajo",
          "nom_entidad": "Oaxaca",
          "tono_de_color_de_piel": 1
         },
         {
          "abr_estado": "Dgo.",
          "cuenta": 1,
          "entidad": 10,
          "estrato_socioeconomico": 1,
          "estrato_socioeconomico_nom": "Bajo",
          "estratos": "1) Bajo",
          "nom_entidad": "Durango",
          "tono_de_color_de_piel": 4
         },
         {
          "abr_estado": "Dgo.",
          "cuenta": 1,
          "entidad": 10,
          "estrato_socioeconomico": 1,
          "estrato_socioeconomico_nom": "Bajo",
          "estratos": "1) Bajo",
          "nom_entidad": "Durango",
          "tono_de_color_de_piel": 2
         },
         {
          "abr_estado": "Dgo.",
          "cuenta": 1,
          "entidad": 10,
          "estrato_socioeconomico": 1,
          "estrato_socioeconomico_nom": "Bajo",
          "estratos": "1) Bajo",
          "nom_entidad": "Durango",
          "tono_de_color_de_piel": 1
         },
         {
          "abr_estado": "Dgo.",
          "cuenta": 2,
          "entidad": 10,
          "estrato_socioeconomico": 1,
          "estrato_socioeconomico_nom": "Bajo",
          "estratos": "1) Bajo",
          "nom_entidad": "Durango",
          "tono_de_color_de_piel": 5
         },
         {
          "abr_estado": "Dgo.",
          "cuenta": 5,
          "entidad": 10,
          "estrato_socioeconomico": 1,
          "estrato_socioeconomico_nom": "Bajo",
          "estratos": "1) Bajo",
          "nom_entidad": "Durango",
          "tono_de_color_de_piel": 11
         },
         {
          "abr_estado": "Dgo.",
          "cuenta": 9,
          "entidad": 10,
          "estrato_socioeconomico": 1,
          "estrato_socioeconomico_nom": "Bajo",
          "estratos": "1) Bajo",
          "nom_entidad": "Durango",
          "tono_de_color_de_piel": 9
         },
         {
          "abr_estado": "Q. Roo",
          "cuenta": 1,
          "entidad": 23,
          "estrato_socioeconomico": 1,
          "estrato_socioeconomico_nom": "Bajo",
          "estratos": "1) Bajo",
          "nom_entidad": "Quintana Roo",
          "tono_de_color_de_piel": 2
         },
         {
          "abr_estado": "Dgo.",
          "cuenta": 12,
          "entidad": 10,
          "estrato_socioeconomico": 1,
          "estrato_socioeconomico_nom": "Bajo",
          "estratos": "1) Bajo",
          "nom_entidad": "Durango",
          "tono_de_color_de_piel": 10
         },
         {
          "abr_estado": "Dgo.",
          "cuenta": 20,
          "entidad": 10,
          "estrato_socioeconomico": 1,
          "estrato_socioeconomico_nom": "Bajo",
          "estratos": "1) Bajo",
          "nom_entidad": "Durango",
          "tono_de_color_de_piel": 7
         },
         {
          "abr_estado": "Dgo.",
          "cuenta": 29,
          "entidad": 10,
          "estrato_socioeconomico": 1,
          "estrato_socioeconomico_nom": "Bajo",
          "estratos": "1) Bajo",
          "nom_entidad": "Durango",
          "tono_de_color_de_piel": 8
         },
         {
          "abr_estado": "Pue.",
          "cuenta": 94,
          "entidad": 21,
          "estrato_socioeconomico": 1,
          "estrato_socioeconomico_nom": "Bajo",
          "estratos": "1) Bajo",
          "nom_entidad": "Puebla",
          "tono_de_color_de_piel": 7
         },
         {
          "abr_estado": "Pue.",
          "cuenta": 68,
          "entidad": 21,
          "estrato_socioeconomico": 1,
          "estrato_socioeconomico_nom": "Bajo",
          "estratos": "1) Bajo",
          "nom_entidad": "Puebla",
          "tono_de_color_de_piel": 8
         },
         {
          "abr_estado": "Pue.",
          "cuenta": 46,
          "entidad": 21,
          "estrato_socioeconomico": 1,
          "estrato_socioeconomico_nom": "Bajo",
          "estratos": "1) Bajo",
          "nom_entidad": "Puebla",
          "tono_de_color_de_piel": 6
         },
         {
          "abr_estado": "Pue.",
          "cuenta": 14,
          "entidad": 21,
          "estrato_socioeconomico": 1,
          "estrato_socioeconomico_nom": "Bajo",
          "estratos": "1) Bajo",
          "nom_entidad": "Puebla",
          "tono_de_color_de_piel": 4
         },
         {
          "abr_estado": "Pue.",
          "cuenta": 10,
          "entidad": 21,
          "estrato_socioeconomico": 1,
          "estrato_socioeconomico_nom": "Bajo",
          "estratos": "1) Bajo",
          "nom_entidad": "Puebla",
          "tono_de_color_de_piel": 5
         },
         {
          "abr_estado": "Pue.",
          "cuenta": 10,
          "entidad": 21,
          "estrato_socioeconomico": 1,
          "estrato_socioeconomico_nom": "Bajo",
          "estratos": "1) Bajo",
          "nom_entidad": "Puebla",
          "tono_de_color_de_piel": 10
         },
         {
          "abr_estado": "Dgo.",
          "cuenta": 14,
          "entidad": 10,
          "estrato_socioeconomico": 1,
          "estrato_socioeconomico_nom": "Bajo",
          "estratos": "1) Bajo",
          "nom_entidad": "Durango",
          "tono_de_color_de_piel": 6
         },
         {
          "abr_estado": "Q. Roo",
          "cuenta": 1,
          "entidad": 23,
          "estrato_socioeconomico": 1,
          "estrato_socioeconomico_nom": "Bajo",
          "estratos": "1) Bajo",
          "nom_entidad": "Quintana Roo",
          "tono_de_color_de_piel": 10
         },
         {
          "abr_estado": "Chih.",
          "cuenta": 1,
          "entidad": 8,
          "estrato_socioeconomico": 1,
          "estrato_socioeconomico_nom": "Bajo",
          "estratos": "1) Bajo",
          "nom_entidad": "Chihuahua",
          "tono_de_color_de_piel": 1
         },
         {
          "abr_estado": "Chih.",
          "cuenta": 2,
          "entidad": 8,
          "estrato_socioeconomico": 1,
          "estrato_socioeconomico_nom": "Bajo",
          "estratos": "1) Bajo",
          "nom_entidad": "Chihuahua",
          "tono_de_color_de_piel": 2
         },
         {
          "abr_estado": "Chis.",
          "cuenta": 15,
          "entidad": 7,
          "estrato_socioeconomico": 1,
          "estrato_socioeconomico_nom": "Bajo",
          "estratos": "1) Bajo",
          "nom_entidad": "Chiapas",
          "tono_de_color_de_piel": 11
         },
         {
          "abr_estado": "Chis.",
          "cuenta": 16,
          "entidad": 7,
          "estrato_socioeconomico": 1,
          "estrato_socioeconomico_nom": "Bajo",
          "estratos": "1) Bajo",
          "nom_entidad": "Chiapas",
          "tono_de_color_de_piel": 4
         },
         {
          "abr_estado": "Chis.",
          "cuenta": 24,
          "entidad": 7,
          "estrato_socioeconomico": 1,
          "estrato_socioeconomico_nom": "Bajo",
          "estratos": "1) Bajo",
          "nom_entidad": "Chiapas",
          "tono_de_color_de_piel": 5
         },
         {
          "abr_estado": "Chis.",
          "cuenta": 25,
          "entidad": 7,
          "estrato_socioeconomico": 1,
          "estrato_socioeconomico_nom": "Bajo",
          "estratos": "1) Bajo",
          "nom_entidad": "Chiapas",
          "tono_de_color_de_piel": 9
         },
         {
          "abr_estado": "Chis.",
          "cuenta": 77,
          "entidad": 7,
          "estrato_socioeconomico": 1,
          "estrato_socioeconomico_nom": "Bajo",
          "estratos": "1) Bajo",
          "nom_entidad": "Chiapas",
          "tono_de_color_de_piel": 6
         },
         {
          "abr_estado": "Chis.",
          "cuenta": 140,
          "entidad": 7,
          "estrato_socioeconomico": 1,
          "estrato_socioeconomico_nom": "Bajo",
          "estratos": "1) Bajo",
          "nom_entidad": "Chiapas",
          "tono_de_color_de_piel": 8
         },
         {
          "abr_estado": "Chis.",
          "cuenta": 151,
          "entidad": 7,
          "estrato_socioeconomico": 1,
          "estrato_socioeconomico_nom": "Bajo",
          "estratos": "1) Bajo",
          "nom_entidad": "Chiapas",
          "tono_de_color_de_piel": 7
         },
         {
          "abr_estado": "Sin.",
          "cuenta": 35,
          "entidad": 25,
          "estrato_socioeconomico": 1,
          "estrato_socioeconomico_nom": "Bajo",
          "estratos": "1) Bajo",
          "nom_entidad": "Sinaloa",
          "tono_de_color_de_piel": 7
         },
         {
          "abr_estado": "Chis.",
          "cuenta": 14,
          "entidad": 7,
          "estrato_socioeconomico": 1,
          "estrato_socioeconomico_nom": "Bajo",
          "estratos": "1) Bajo",
          "nom_entidad": "Chiapas",
          "tono_de_color_de_piel": 10
         },
         {
          "abr_estado": "Sin.",
          "cuenta": 23,
          "entidad": 25,
          "estrato_socioeconomico": 1,
          "estrato_socioeconomico_nom": "Bajo",
          "estratos": "1) Bajo",
          "nom_entidad": "Sinaloa",
          "tono_de_color_de_piel": 8
         },
         {
          "abr_estado": "Sin.",
          "cuenta": 12,
          "entidad": 25,
          "estrato_socioeconomico": 1,
          "estrato_socioeconomico_nom": "Bajo",
          "estratos": "1) Bajo",
          "nom_entidad": "Sinaloa",
          "tono_de_color_de_piel": 9
         },
         {
          "abr_estado": "Sin.",
          "cuenta": 5,
          "entidad": 25,
          "estrato_socioeconomico": 1,
          "estrato_socioeconomico_nom": "Bajo",
          "estratos": "1) Bajo",
          "nom_entidad": "Sinaloa",
          "tono_de_color_de_piel": 4
         },
         {
          "abr_estado": "Sin.",
          "cuenta": 3,
          "entidad": 25,
          "estrato_socioeconomico": 1,
          "estrato_socioeconomico_nom": "Bajo",
          "estratos": "1) Bajo",
          "nom_entidad": "Sinaloa",
          "tono_de_color_de_piel": 11
         },
         {
          "abr_estado": "Sin.",
          "cuenta": 2,
          "entidad": 25,
          "estrato_socioeconomico": 1,
          "estrato_socioeconomico_nom": "Bajo",
          "estratos": "1) Bajo",
          "nom_entidad": "Sinaloa",
          "tono_de_color_de_piel": 10
         },
         {
          "abr_estado": "Sin.",
          "cuenta": 1,
          "entidad": 25,
          "estrato_socioeconomico": 1,
          "estrato_socioeconomico_nom": "Bajo",
          "estratos": "1) Bajo",
          "nom_entidad": "Sinaloa",
          "tono_de_color_de_piel": 2
         },
         {
          "abr_estado": "Sin.",
          "cuenta": 1,
          "entidad": 25,
          "estrato_socioeconomico": 1,
          "estrato_socioeconomico_nom": "Bajo",
          "estratos": "1) Bajo",
          "nom_entidad": "Sinaloa",
          "tono_de_color_de_piel": 3
         },
         {
          "abr_estado": "Sin.",
          "cuenta": 1,
          "entidad": 25,
          "estrato_socioeconomico": 1,
          "estrato_socioeconomico_nom": "Bajo",
          "estratos": "1) Bajo",
          "nom_entidad": "Sinaloa",
          "tono_de_color_de_piel": 5
         },
         {
          "abr_estado": "Son.",
          "cuenta": 27,
          "entidad": 26,
          "estrato_socioeconomico": 1,
          "estrato_socioeconomico_nom": "Bajo",
          "estratos": "1) Bajo",
          "nom_entidad": "Sonora",
          "tono_de_color_de_piel": 7
         },
         {
          "abr_estado": "Sin.",
          "cuenta": 18,
          "entidad": 25,
          "estrato_socioeconomico": 1,
          "estrato_socioeconomico_nom": "Bajo",
          "estratos": "1) Bajo",
          "nom_entidad": "Sinaloa",
          "tono_de_color_de_piel": 6
         },
         {
          "abr_estado": "Oax.",
          "cuenta": 8,
          "entidad": 20,
          "estrato_socioeconomico": 1,
          "estrato_socioeconomico_nom": "Bajo",
          "estratos": "1) Bajo",
          "nom_entidad": "Oaxaca",
          "tono_de_color_de_piel": 2
         },
         {
          "abr_estado": "Chis.",
          "cuenta": 5,
          "entidad": 7,
          "estrato_socioeconomico": 1,
          "estrato_socioeconomico_nom": "Bajo",
          "estratos": "1) Bajo",
          "nom_entidad": "Chiapas",
          "tono_de_color_de_piel": 3
         },
         {
          "abr_estado": "Chis.",
          "cuenta": 1,
          "entidad": 7,
          "estrato_socioeconomico": 1,
          "estrato_socioeconomico_nom": "Bajo",
          "estratos": "1) Bajo",
          "nom_entidad": "Chiapas",
          "tono_de_color_de_piel": 2
         },
         {
          "abr_estado": "Chih.",
          "cuenta": 3,
          "entidad": 8,
          "estrato_socioeconomico": 1,
          "estrato_socioeconomico_nom": "Bajo",
          "estratos": "1) Bajo",
          "nom_entidad": "Chihuahua",
          "tono_de_color_de_piel": 11
         },
         {
          "abr_estado": "Chih.",
          "cuenta": 3,
          "entidad": 8,
          "estrato_socioeconomico": 1,
          "estrato_socioeconomico_nom": "Bajo",
          "estratos": "1) Bajo",
          "nom_entidad": "Chihuahua",
          "tono_de_color_de_piel": 10
         },
         {
          "abr_estado": "Chih.",
          "cuenta": 3,
          "entidad": 8,
          "estrato_socioeconomico": 1,
          "estrato_socioeconomico_nom": "Bajo",
          "estratos": "1) Bajo",
          "nom_entidad": "Chihuahua",
          "tono_de_color_de_piel": 9
         },
         {
          "abr_estado": "Chih.",
          "cuenta": 8,
          "entidad": 8,
          "estrato_socioeconomico": 1,
          "estrato_socioeconomico_nom": "Bajo",
          "estratos": "1) Bajo",
          "nom_entidad": "Chihuahua",
          "tono_de_color_de_piel": 6
         },
         {
          "abr_estado": "Chih.",
          "cuenta": 13,
          "entidad": 8,
          "estrato_socioeconomico": 1,
          "estrato_socioeconomico_nom": "Bajo",
          "estratos": "1) Bajo",
          "nom_entidad": "Chihuahua",
          "tono_de_color_de_piel": 7
         },
         {
          "abr_estado": "Chih.",
          "cuenta": 15,
          "entidad": 8,
          "estrato_socioeconomico": 1,
          "estrato_socioeconomico_nom": "Bajo",
          "estratos": "1) Bajo",
          "nom_entidad": "Chihuahua",
          "tono_de_color_de_piel": 8
         },
         {
          "abr_estado": "Mex.",
          "cuenta": 16,
          "entidad": 15,
          "estrato_socioeconomico": 1,
          "estrato_socioeconomico_nom": "Bajo",
          "estratos": "1) Bajo",
          "nom_entidad": "México",
          "tono_de_color_de_piel": 8
         },
         {
          "abr_estado": "SLP",
          "cuenta": 77,
          "entidad": 24,
          "estrato_socioeconomico": 1,
          "estrato_socioeconomico_nom": "Bajo",
          "estratos": "1) Bajo",
          "nom_entidad": "San Luis Potosí",
          "tono_de_color_de_piel": 7
         },
         {
          "abr_estado": "Chis.",
          "cuenta": 3,
          "entidad": 7,
          "estrato_socioeconomico": 1,
          "estrato_socioeconomico_nom": "Bajo",
          "estratos": "1) Bajo",
          "nom_entidad": "Chiapas",
          "tono_de_color_de_piel": 1
         },
         {
          "abr_estado": "SLP",
          "cuenta": 61,
          "entidad": 24,
          "estrato_socioeconomico": 1,
          "estrato_socioeconomico_nom": "Bajo",
          "estratos": "1) Bajo",
          "nom_entidad": "San Luis Potosí",
          "tono_de_color_de_piel": 6
         },
         {
          "abr_estado": "SLP",
          "cuenta": 18,
          "entidad": 24,
          "estrato_socioeconomico": 1,
          "estrato_socioeconomico_nom": "Bajo",
          "estratos": "1) Bajo",
          "nom_entidad": "San Luis Potosí",
          "tono_de_color_de_piel": 9
         },
         {
          "abr_estado": "SLP",
          "cuenta": 17,
          "entidad": 24,
          "estrato_socioeconomico": 1,
          "estrato_socioeconomico_nom": "Bajo",
          "estratos": "1) Bajo",
          "nom_entidad": "San Luis Potosí",
          "tono_de_color_de_piel": 4
         },
         {
          "abr_estado": "SLP",
          "cuenta": 12,
          "entidad": 24,
          "estrato_socioeconomico": 1,
          "estrato_socioeconomico_nom": "Bajo",
          "estratos": "1) Bajo",
          "nom_entidad": "San Luis Potosí",
          "tono_de_color_de_piel": 10
         },
         {
          "abr_estado": "SLP",
          "cuenta": 7,
          "entidad": 24,
          "estrato_socioeconomico": 1,
          "estrato_socioeconomico_nom": "Bajo",
          "estratos": "1) Bajo",
          "nom_entidad": "San Luis Potosí",
          "tono_de_color_de_piel": 5
         },
         {
          "abr_estado": "SLP",
          "cuenta": 5,
          "entidad": 24,
          "estrato_socioeconomico": 1,
          "estrato_socioeconomico_nom": "Bajo",
          "estratos": "1) Bajo",
          "nom_entidad": "San Luis Potosí",
          "tono_de_color_de_piel": 2
         },
         {
          "abr_estado": "SLP",
          "cuenta": 5,
          "entidad": 24,
          "estrato_socioeconomico": 1,
          "estrato_socioeconomico_nom": "Bajo",
          "estratos": "1) Bajo",
          "nom_entidad": "San Luis Potosí",
          "tono_de_color_de_piel": 3
         },
         {
          "abr_estado": "SLP",
          "cuenta": 3,
          "entidad": 24,
          "estrato_socioeconomico": 1,
          "estrato_socioeconomico_nom": "Bajo",
          "estratos": "1) Bajo",
          "nom_entidad": "San Luis Potosí",
          "tono_de_color_de_piel": 11
         },
         {
          "abr_estado": "SLP",
          "cuenta": 1,
          "entidad": 24,
          "estrato_socioeconomico": 1,
          "estrato_socioeconomico_nom": "Bajo",
          "estratos": "1) Bajo",
          "nom_entidad": "San Luis Potosí",
          "tono_de_color_de_piel": 1
         },
         {
          "abr_estado": "SLP",
          "cuenta": 57,
          "entidad": 24,
          "estrato_socioeconomico": 1,
          "estrato_socioeconomico_nom": "Bajo",
          "estratos": "1) Bajo",
          "nom_entidad": "San Luis Potosí",
          "tono_de_color_de_piel": 8
         },
         {
          "abr_estado": "Oax.",
          "cuenta": 12,
          "entidad": 20,
          "estrato_socioeconomico": 1,
          "estrato_socioeconomico_nom": "Bajo",
          "estratos": "1) Bajo",
          "nom_entidad": "Oaxaca",
          "tono_de_color_de_piel": 3
         },
         {
          "abr_estado": "Oax.",
          "cuenta": 17,
          "entidad": 20,
          "estrato_socioeconomico": 1,
          "estrato_socioeconomico_nom": "Bajo",
          "estratos": "1) Bajo",
          "nom_entidad": "Oaxaca",
          "tono_de_color_de_piel": 9
         },
         {
          "abr_estado": "Oax.",
          "cuenta": 18,
          "entidad": 20,
          "estrato_socioeconomico": 1,
          "estrato_socioeconomico_nom": "Bajo",
          "estratos": "1) Bajo",
          "nom_entidad": "Oaxaca",
          "tono_de_color_de_piel": 10
         },
         {
          "abr_estado": "Mich.",
          "cuenta": 3,
          "entidad": 16,
          "estrato_socioeconomico": 1,
          "estrato_socioeconomico_nom": "Bajo",
          "estratos": "1) Bajo",
          "nom_entidad": "Michoacán de Ocampo",
          "tono_de_color_de_piel": 9
         },
         {
          "abr_estado": "Mich.",
          "cuenta": 1,
          "entidad": 16,
          "estrato_socioeconomico": 1,
          "estrato_socioeconomico_nom": "Bajo",
          "estratos": "1) Bajo",
          "nom_entidad": "Michoacán de Ocampo",
          "tono_de_color_de_piel": 11
         },
         {
          "abr_estado": "Mor.",
          "cuenta": 35,
          "entidad": 17,
          "estrato_socioeconomico": 1,
          "estrato_socioeconomico_nom": "Bajo",
          "estratos": "1) Bajo",
          "nom_entidad": "Morelos",
          "tono_de_color_de_piel": 7
         },
         {
          "abr_estado": "Hgo.",
          "cuenta": 2,
          "entidad": 13,
          "estrato_socioeconomico": 1,
          "estrato_socioeconomico_nom": "Bajo",
          "estratos": "1) Bajo",
          "nom_entidad": "Hidalgo",
          "tono_de_color_de_piel": 1
         },
         {
          "abr_estado": "Hgo.",
          "cuenta": 3,
          "entidad": 13,
          "estrato_socioeconomico": 1,
          "estrato_socioeconomico_nom": "Bajo",
          "estratos": "1) Bajo",
          "nom_entidad": "Hidalgo",
          "tono_de_color_de_piel": 11
         },
         {
          "abr_estado": "Hgo.",
          "cuenta": 3,
          "entidad": 13,
          "estrato_socioeconomico": 1,
          "estrato_socioeconomico_nom": "Bajo",
          "estratos": "1) Bajo",
          "nom_entidad": "Hidalgo",
          "tono_de_color_de_piel": 3
         },
         {
          "abr_estado": "Hgo.",
          "cuenta": 9,
          "entidad": 13,
          "estrato_socioeconomico": 1,
          "estrato_socioeconomico_nom": "Bajo",
          "estratos": "1) Bajo",
          "nom_entidad": "Hidalgo",
          "tono_de_color_de_piel": 5
         },
         {
          "abr_estado": "Hgo.",
          "cuenta": 10,
          "entidad": 13,
          "estrato_socioeconomico": 1,
          "estrato_socioeconomico_nom": "Bajo",
          "estratos": "1) Bajo",
          "nom_entidad": "Hidalgo",
          "tono_de_color_de_piel": 10
         },
         {
          "abr_estado": "Mich.",
          "cuenta": 4,
          "entidad": 16,
          "estrato_socioeconomico": 1,
          "estrato_socioeconomico_nom": "Bajo",
          "estratos": "1) Bajo",
          "nom_entidad": "Michoacán de Ocampo",
          "tono_de_color_de_piel": 3
         },
         {
          "abr_estado": "Hgo.",
          "cuenta": 10,
          "entidad": 13,
          "estrato_socioeconomico": 1,
          "estrato_socioeconomico_nom": "Bajo",
          "estratos": "1) Bajo",
          "nom_entidad": "Hidalgo",
          "tono_de_color_de_piel": 9
         },
         {
          "abr_estado": "Hgo.",
          "cuenta": 32,
          "entidad": 13,
          "estrato_socioeconomico": 1,
          "estrato_socioeconomico_nom": "Bajo",
          "estratos": "1) Bajo",
          "nom_entidad": "Hidalgo",
          "tono_de_color_de_piel": 6
         },
         {
          "abr_estado": "Hgo.",
          "cuenta": 64,
          "entidad": 13,
          "estrato_socioeconomico": 1,
          "estrato_socioeconomico_nom": "Bajo",
          "estratos": "1) Bajo",
          "nom_entidad": "Hidalgo",
          "tono_de_color_de_piel": 8
         },
         {
          "abr_estado": "Hgo.",
          "cuenta": 65,
          "entidad": 13,
          "estrato_socioeconomico": 1,
          "estrato_socioeconomico_nom": "Bajo",
          "estratos": "1) Bajo",
          "nom_entidad": "Hidalgo",
          "tono_de_color_de_piel": 7
         },
         {
          "abr_estado": "Mor.",
          "cuenta": 23,
          "entidad": 17,
          "estrato_socioeconomico": 1,
          "estrato_socioeconomico_nom": "Bajo",
          "estratos": "1) Bajo",
          "nom_entidad": "Morelos",
          "tono_de_color_de_piel": 6
         },
         {
          "abr_estado": "Mor.",
          "cuenta": 22,
          "entidad": 17,
          "estrato_socioeconomico": 1,
          "estrato_socioeconomico_nom": "Bajo",
          "estratos": "1) Bajo",
          "nom_entidad": "Morelos",
          "tono_de_color_de_piel": 8
         },
         {
          "abr_estado": "Mor.",
          "cuenta": 9,
          "entidad": 17,
          "estrato_socioeconomico": 1,
          "estrato_socioeconomico_nom": "Bajo",
          "estratos": "1) Bajo",
          "nom_entidad": "Morelos",
          "tono_de_color_de_piel": 5
         },
         {
          "abr_estado": "Mor.",
          "cuenta": 8,
          "entidad": 17,
          "estrato_socioeconomico": 1,
          "estrato_socioeconomico_nom": "Bajo",
          "estratos": "1) Bajo",
          "nom_entidad": "Morelos",
          "tono_de_color_de_piel": 4
         },
         {
          "abr_estado": "Mor.",
          "cuenta": 3,
          "entidad": 17,
          "estrato_socioeconomico": 1,
          "estrato_socioeconomico_nom": "Bajo",
          "estratos": "1) Bajo",
          "nom_entidad": "Morelos",
          "tono_de_color_de_piel": 3
         },
         {
          "abr_estado": "Hgo.",
          "cuenta": 13,
          "entidad": 13,
          "estrato_socioeconomico": 1,
          "estrato_socioeconomico_nom": "Bajo",
          "estratos": "1) Bajo",
          "nom_entidad": "Hidalgo",
          "tono_de_color_de_piel": 4
         },
         {
          "abr_estado": "Mor.",
          "cuenta": 2,
          "entidad": 17,
          "estrato_socioeconomico": 1,
          "estrato_socioeconomico_nom": "Bajo",
          "estratos": "1) Bajo",
          "nom_entidad": "Morelos",
          "tono_de_color_de_piel": 10
         },
         {
          "abr_estado": "Mich.",
          "cuenta": 4,
          "entidad": 16,
          "estrato_socioeconomico": 1,
          "estrato_socioeconomico_nom": "Bajo",
          "estratos": "1) Bajo",
          "nom_entidad": "Michoacán de Ocampo",
          "tono_de_color_de_piel": 2
         },
         {
          "abr_estado": "Mich.",
          "cuenta": 6,
          "entidad": 16,
          "estrato_socioeconomico": 1,
          "estrato_socioeconomico_nom": "Bajo",
          "estratos": "1) Bajo",
          "nom_entidad": "Michoacán de Ocampo",
          "tono_de_color_de_piel": 10
         },
         {
          "abr_estado": "Mex.",
          "cuenta": 5,
          "entidad": 15,
          "estrato_socioeconomico": 1,
          "estrato_socioeconomico_nom": "Bajo",
          "estratos": "1) Bajo",
          "nom_entidad": "México",
          "tono_de_color_de_piel": 6
         },
         {
          "abr_estado": "Mex.",
          "cuenta": 3,
          "entidad": 15,
          "estrato_socioeconomico": 1,
          "estrato_socioeconomico_nom": "Bajo",
          "estratos": "1) Bajo",
          "nom_entidad": "México",
          "tono_de_color_de_piel": 4
         },
         {
          "abr_estado": "Mex.",
          "cuenta": 3,
          "entidad": 15,
          "estrato_socioeconomico": 1,
          "estrato_socioeconomico_nom": "Bajo",
          "estratos": "1) Bajo",
          "nom_entidad": "México",
          "tono_de_color_de_piel": 9
         },
         {
          "abr_estado": "Mex.",
          "cuenta": 3,
          "entidad": 15,
          "estrato_socioeconomico": 1,
          "estrato_socioeconomico_nom": "Bajo",
          "estratos": "1) Bajo",
          "nom_entidad": "México",
          "tono_de_color_de_piel": 11
         },
         {
          "abr_estado": "Mex.",
          "cuenta": 2,
          "entidad": 15,
          "estrato_socioeconomico": 1,
          "estrato_socioeconomico_nom": "Bajo",
          "estratos": "1) Bajo",
          "nom_entidad": "México",
          "tono_de_color_de_piel": 3
         },
         {
          "abr_estado": "Mex.",
          "cuenta": 2,
          "entidad": 15,
          "estrato_socioeconomico": 1,
          "estrato_socioeconomico_nom": "Bajo",
          "estratos": "1) Bajo",
          "nom_entidad": "México",
          "tono_de_color_de_piel": 5
         },
         {
          "abr_estado": "Mex.",
          "cuenta": 2,
          "entidad": 15,
          "estrato_socioeconomico": 1,
          "estrato_socioeconomico_nom": "Bajo",
          "estratos": "1) Bajo",
          "nom_entidad": "México",
          "tono_de_color_de_piel": 10
         },
         {
          "abr_estado": "Jal.",
          "cuenta": 1,
          "entidad": 14,
          "estrato_socioeconomico": 1,
          "estrato_socioeconomico_nom": "Bajo",
          "estratos": "1) Bajo",
          "nom_entidad": "Jalisco",
          "tono_de_color_de_piel": 6
         },
         {
          "abr_estado": "Mich.",
          "cuenta": 5,
          "entidad": 16,
          "estrato_socioeconomico": 1,
          "estrato_socioeconomico_nom": "Bajo",
          "estratos": "1) Bajo",
          "nom_entidad": "Michoacán de Ocampo",
          "tono_de_color_de_piel": 4
         },
         {
          "abr_estado": "Jal.",
          "cuenta": 1,
          "entidad": 14,
          "estrato_socioeconomico": 1,
          "estrato_socioeconomico_nom": "Bajo",
          "estratos": "1) Bajo",
          "nom_entidad": "Jalisco",
          "tono_de_color_de_piel": 5
         },
         {
          "abr_estado": "Jal.",
          "cuenta": 1,
          "entidad": 14,
          "estrato_socioeconomico": 1,
          "estrato_socioeconomico_nom": "Bajo",
          "estratos": "1) Bajo",
          "nom_entidad": "Jalisco",
          "tono_de_color_de_piel": 3
         },
         {
          "abr_estado": "Jal.",
          "cuenta": 3,
          "entidad": 14,
          "estrato_socioeconomico": 1,
          "estrato_socioeconomico_nom": "Bajo",
          "estratos": "1) Bajo",
          "nom_entidad": "Jalisco",
          "tono_de_color_de_piel": 10
         },
         {
          "abr_estado": "Jal.",
          "cuenta": 8,
          "entidad": 14,
          "estrato_socioeconomico": 1,
          "estrato_socioeconomico_nom": "Bajo",
          "estratos": "1) Bajo",
          "nom_entidad": "Jalisco",
          "tono_de_color_de_piel": 7
         },
         {
          "abr_estado": "Jal.",
          "cuenta": 12,
          "entidad": 14,
          "estrato_socioeconomico": 1,
          "estrato_socioeconomico_nom": "Bajo",
          "estratos": "1) Bajo",
          "nom_entidad": "Jalisco",
          "tono_de_color_de_piel": 8
         },
         {
          "abr_estado": "Mich.",
          "cuenta": 64,
          "entidad": 16,
          "estrato_socioeconomico": 1,
          "estrato_socioeconomico_nom": "Bajo",
          "estratos": "1) Bajo",
          "nom_entidad": "Michoacán de Ocampo",
          "tono_de_color_de_piel": 8
         },
         {
          "abr_estado": "Mich.",
          "cuenta": 37,
          "entidad": 16,
          "estrato_socioeconomico": 1,
          "estrato_socioeconomico_nom": "Bajo",
          "estratos": "1) Bajo",
          "nom_entidad": "Michoacán de Ocampo",
          "tono_de_color_de_piel": 7
         },
         {
          "abr_estado": "Mich.",
          "cuenta": 13,
          "entidad": 16,
          "estrato_socioeconomico": 1,
          "estrato_socioeconomico_nom": "Bajo",
          "estratos": "1) Bajo",
          "nom_entidad": "Michoacán de Ocampo",
          "tono_de_color_de_piel": 6
         },
         {
          "abr_estado": "Mich.",
          "cuenta": 7,
          "entidad": 16,
          "estrato_socioeconomico": 1,
          "estrato_socioeconomico_nom": "Bajo",
          "estratos": "1) Bajo",
          "nom_entidad": "Michoacán de Ocampo",
          "tono_de_color_de_piel": 5
         },
         {
          "abr_estado": "Jal.",
          "cuenta": 1,
          "entidad": 14,
          "estrato_socioeconomico": 1,
          "estrato_socioeconomico_nom": "Bajo",
          "estratos": "1) Bajo",
          "nom_entidad": "Jalisco",
          "tono_de_color_de_piel": 4
         },
         {
          "abr_estado": "Son.",
          "cuenta": 24,
          "entidad": 26,
          "estrato_socioeconomico": 1,
          "estrato_socioeconomico_nom": "Bajo",
          "estratos": "1) Bajo",
          "nom_entidad": "Sonora",
          "tono_de_color_de_piel": 8
         },
         {
          "abr_estado": "Nay.",
          "cuenta": 35,
          "entidad": 18,
          "estrato_socioeconomico": 1,
          "estrato_socioeconomico_nom": "Bajo",
          "estratos": "1) Bajo",
          "nom_entidad": "Nayarit",
          "tono_de_color_de_piel": 7
         },
         {
          "abr_estado": "Nay.",
          "cuenta": 13,
          "entidad": 18,
          "estrato_socioeconomico": 1,
          "estrato_socioeconomico_nom": "Bajo",
          "estratos": "1) Bajo",
          "nom_entidad": "Nayarit",
          "tono_de_color_de_piel": 8
         },
         {
          "abr_estado": "NL",
          "cuenta": 2,
          "entidad": 19,
          "estrato_socioeconomico": 1,
          "estrato_socioeconomico_nom": "Bajo",
          "estratos": "1) Bajo",
          "nom_entidad": "Nuevo León",
          "tono_de_color_de_piel": 11
         },
         {
          "abr_estado": "NL",
          "cuenta": 1,
          "entidad": 19,
          "estrato_socioeconomico": 1,
          "estrato_socioeconomico_nom": "Bajo",
          "estratos": "1) Bajo",
          "nom_entidad": "Nuevo León",
          "tono_de_color_de_piel": 2
         },
         {
          "abr_estado": "NL",
          "cuenta": 1,
          "entidad": 19,
          "estrato_socioeconomico": 1,
          "estrato_socioeconomico_nom": "Bajo",
          "estratos": "1) Bajo",
          "nom_entidad": "Nuevo León",
          "tono_de_color_de_piel": 9
         },
         {
          "abr_estado": "Gto.",
          "cuenta": 1,
          "entidad": 11,
          "estrato_socioeconomico": 1,
          "estrato_socioeconomico_nom": "Bajo",
          "estratos": "1) Bajo",
          "nom_entidad": "Guanajuato",
          "tono_de_color_de_piel": 3
         },
         {
          "abr_estado": "Gto.",
          "cuenta": 1,
          "entidad": 11,
          "estrato_socioeconomico": 1,
          "estrato_socioeconomico_nom": "Bajo",
          "estratos": "1) Bajo",
          "nom_entidad": "Guanajuato",
          "tono_de_color_de_piel": 2
         },
         {
          "abr_estado": "Gto.",
          "cuenta": 2,
          "entidad": 11,
          "estrato_socioeconomico": 1,
          "estrato_socioeconomico_nom": "Bajo",
          "estratos": "1) Bajo",
          "nom_entidad": "Guanajuato",
          "tono_de_color_de_piel": 11
         },
         {
          "abr_estado": "Gto.",
          "cuenta": 4,
          "entidad": 11,
          "estrato_socioeconomico": 1,
          "estrato_socioeconomico_nom": "Bajo",
          "estratos": "1) Bajo",
          "nom_entidad": "Guanajuato",
          "tono_de_color_de_piel": 4
         },
         {
          "abr_estado": "Gto.",
          "cuenta": 7,
          "entidad": 11,
          "estrato_socioeconomico": 1,
          "estrato_socioeconomico_nom": "Bajo",
          "estratos": "1) Bajo",
          "nom_entidad": "Guanajuato",
          "tono_de_color_de_piel": 9
         },
         {
          "abr_estado": "NL",
          "cuenta": 3,
          "entidad": 19,
          "estrato_socioeconomico": 1,
          "estrato_socioeconomico_nom": "Bajo",
          "estratos": "1) Bajo",
          "nom_entidad": "Nuevo León",
          "tono_de_color_de_piel": 6
         },
         {
          "abr_estado": "Gto.",
          "cuenta": 8,
          "entidad": 11,
          "estrato_socioeconomico": 1,
          "estrato_socioeconomico_nom": "Bajo",
          "estratos": "1) Bajo",
          "nom_entidad": "Guanajuato",
          "tono_de_color_de_piel": 10
         },
         {
          "abr_estado": "Gto.",
          "cuenta": 25,
          "entidad": 11,
          "estrato_socioeconomico": 1,
          "estrato_socioeconomico_nom": "Bajo",
          "estratos": "1) Bajo",
          "nom_entidad": "Guanajuato",
          "tono_de_color_de_piel": 6
         },
         {
          "abr_estado": "Gto.",
          "cuenta": 32,
          "entidad": 11,
          "estrato_socioeconomico": 1,
          "estrato_socioeconomico_nom": "Bajo",
          "estratos": "1) Bajo",
          "nom_entidad": "Guanajuato",
          "tono_de_color_de_piel": 8
         },
         {
          "abr_estado": "Gto.",
          "cuenta": 36,
          "entidad": 11,
          "estrato_socioeconomico": 1,
          "estrato_socioeconomico_nom": "Bajo",
          "estratos": "1) Bajo",
          "nom_entidad": "Guanajuato",
          "tono_de_color_de_piel": 7
         },
         {
          "abr_estado": "Oax.",
          "cuenta": 135,
          "entidad": 20,
          "estrato_socioeconomico": 1,
          "estrato_socioeconomico_nom": "Bajo",
          "estratos": "1) Bajo",
          "nom_entidad": "Oaxaca",
          "tono_de_color_de_piel": 7
         },
         {
          "abr_estado": "Oax.",
          "cuenta": 94,
          "entidad": 20,
          "estrato_socioeconomico": 1,
          "estrato_socioeconomico_nom": "Bajo",
          "estratos": "1) Bajo",
          "nom_entidad": "Oaxaca",
          "tono_de_color_de_piel": 6
         },
         {
          "abr_estado": "Oax.",
          "cuenta": 77,
          "entidad": 20,
          "estrato_socioeconomico": 1,
          "estrato_socioeconomico_nom": "Bajo",
          "estratos": "1) Bajo",
          "nom_entidad": "Oaxaca",
          "tono_de_color_de_piel": 8
         },
         {
          "abr_estado": "Oax.",
          "cuenta": 34,
          "entidad": 20,
          "estrato_socioeconomico": 1,
          "estrato_socioeconomico_nom": "Bajo",
          "estratos": "1) Bajo",
          "nom_entidad": "Oaxaca",
          "tono_de_color_de_piel": 4
         },
         {
          "abr_estado": "Oax.",
          "cuenta": 18,
          "entidad": 20,
          "estrato_socioeconomico": 1,
          "estrato_socioeconomico_nom": "Bajo",
          "estratos": "1) Bajo",
          "nom_entidad": "Oaxaca",
          "tono_de_color_de_piel": 5
         },
         {
          "abr_estado": "Gto.",
          "cuenta": 11,
          "entidad": 11,
          "estrato_socioeconomico": 1,
          "estrato_socioeconomico_nom": "Bajo",
          "estratos": "1) Bajo",
          "nom_entidad": "Guanajuato",
          "tono_de_color_de_piel": 5
         },
         {
          "abr_estado": "Nay.",
          "cuenta": 20,
          "entidad": 18,
          "estrato_socioeconomico": 1,
          "estrato_socioeconomico_nom": "Bajo",
          "estratos": "1) Bajo",
          "nom_entidad": "Nayarit",
          "tono_de_color_de_piel": 6
         },
         {
          "abr_estado": "NL",
          "cuenta": 6,
          "entidad": 19,
          "estrato_socioeconomico": 1,
          "estrato_socioeconomico_nom": "Bajo",
          "estratos": "1) Bajo",
          "nom_entidad": "Nuevo León",
          "tono_de_color_de_piel": 7
         },
         {
          "abr_estado": "Nay.",
          "cuenta": 1,
          "entidad": 18,
          "estrato_socioeconomico": 1,
          "estrato_socioeconomico_nom": "Bajo",
          "estratos": "1) Bajo",
          "nom_entidad": "Nayarit",
          "tono_de_color_de_piel": 4
         },
         {
          "abr_estado": "Gro.",
          "cuenta": 4,
          "entidad": 12,
          "estrato_socioeconomico": 1,
          "estrato_socioeconomico_nom": "Bajo",
          "estratos": "1) Bajo",
          "nom_entidad": "Guerrero",
          "tono_de_color_de_piel": 1
         },
         {
          "abr_estado": "Gro.",
          "cuenta": 9,
          "entidad": 12,
          "estrato_socioeconomico": 1,
          "estrato_socioeconomico_nom": "Bajo",
          "estratos": "1) Bajo",
          "nom_entidad": "Guerrero",
          "tono_de_color_de_piel": 11
         },
         {
          "abr_estado": "Gro.",
          "cuenta": 9,
          "entidad": 12,
          "estrato_socioeconomico": 1,
          "estrato_socioeconomico_nom": "Bajo",
          "estratos": "1) Bajo",
          "nom_entidad": "Guerrero",
          "tono_de_color_de_piel": 9
         },
         {
          "abr_estado": "Gro.",
          "cuenta": 9,
          "entidad": 12,
          "estrato_socioeconomico": 1,
          "estrato_socioeconomico_nom": "Bajo",
          "estratos": "1) Bajo",
          "nom_entidad": "Guerrero",
          "tono_de_color_de_piel": 2
         },
         {
          "abr_estado": "Gro.",
          "cuenta": 11,
          "entidad": 12,
          "estrato_socioeconomico": 1,
          "estrato_socioeconomico_nom": "Bajo",
          "estratos": "1) Bajo",
          "nom_entidad": "Guerrero",
          "tono_de_color_de_piel": 3
         },
         {
          "abr_estado": "Gro.",
          "cuenta": 13,
          "entidad": 12,
          "estrato_socioeconomico": 1,
          "estrato_socioeconomico_nom": "Bajo",
          "estratos": "1) Bajo",
          "nom_entidad": "Guerrero",
          "tono_de_color_de_piel": 10
         },
         {
          "abr_estado": "Gro.",
          "cuenta": 22,
          "entidad": 12,
          "estrato_socioeconomico": 1,
          "estrato_socioeconomico_nom": "Bajo",
          "estratos": "1) Bajo",
          "nom_entidad": "Guerrero",
          "tono_de_color_de_piel": 5
         },
         {
          "abr_estado": "Gro.",
          "cuenta": 36,
          "entidad": 12,
          "estrato_socioeconomico": 1,
          "estrato_socioeconomico_nom": "Bajo",
          "estratos": "1) Bajo",
          "nom_entidad": "Guerrero",
          "tono_de_color_de_piel": 4
         },
         {
          "abr_estado": "NL",
          "cuenta": 8,
          "entidad": 19,
          "estrato_socioeconomico": 1,
          "estrato_socioeconomico_nom": "Bajo",
          "estratos": "1) Bajo",
          "nom_entidad": "Nuevo León",
          "tono_de_color_de_piel": 8
         },
         {
          "abr_estado": "Gro.",
          "cuenta": 81,
          "entidad": 12,
          "estrato_socioeconomico": 1,
          "estrato_socioeconomico_nom": "Bajo",
          "estratos": "1) Bajo",
          "nom_entidad": "Guerrero",
          "tono_de_color_de_piel": 6
         },
         {
          "abr_estado": "Gro.",
          "cuenta": 147,
          "entidad": 12,
          "estrato_socioeconomico": 1,
          "estrato_socioeconomico_nom": "Bajo",
          "estratos": "1) Bajo",
          "nom_entidad": "Guerrero",
          "tono_de_color_de_piel": 7
         },
         {
          "abr_estado": "Nay.",
          "cuenta": 5,
          "entidad": 18,
          "estrato_socioeconomico": 1,
          "estrato_socioeconomico_nom": "Bajo",
          "estratos": "1) Bajo",
          "nom_entidad": "Nayarit",
          "tono_de_color_de_piel": 5
         },
         {
          "abr_estado": "Nay.",
          "cuenta": 4,
          "entidad": 18,
          "estrato_socioeconomico": 1,
          "estrato_socioeconomico_nom": "Bajo",
          "estratos": "1) Bajo",
          "nom_entidad": "Nayarit",
          "tono_de_color_de_piel": 11
         },
         {
          "abr_estado": "Nay.",
          "cuenta": 2,
          "entidad": 18,
          "estrato_socioeconomico": 1,
          "estrato_socioeconomico_nom": "Bajo",
          "estratos": "1) Bajo",
          "nom_entidad": "Nayarit",
          "tono_de_color_de_piel": 1
         },
         {
          "abr_estado": "Nay.",
          "cuenta": 2,
          "entidad": 18,
          "estrato_socioeconomico": 1,
          "estrato_socioeconomico_nom": "Bajo",
          "estratos": "1) Bajo",
          "nom_entidad": "Nayarit",
          "tono_de_color_de_piel": 9
         },
         {
          "abr_estado": "Nay.",
          "cuenta": 2,
          "entidad": 18,
          "estrato_socioeconomico": 1,
          "estrato_socioeconomico_nom": "Bajo",
          "estratos": "1) Bajo",
          "nom_entidad": "Nayarit",
          "tono_de_color_de_piel": 10
         },
         {
          "abr_estado": "Nay.",
          "cuenta": 1,
          "entidad": 18,
          "estrato_socioeconomico": 1,
          "estrato_socioeconomico_nom": "Bajo",
          "estratos": "1) Bajo",
          "nom_entidad": "Nayarit",
          "tono_de_color_de_piel": 2
         },
         {
          "abr_estado": "Nay.",
          "cuenta": 1,
          "entidad": 18,
          "estrato_socioeconomico": 1,
          "estrato_socioeconomico_nom": "Bajo",
          "estratos": "1) Bajo",
          "nom_entidad": "Nayarit",
          "tono_de_color_de_piel": 3
         },
         {
          "abr_estado": "Gro.",
          "cuenta": 99,
          "entidad": 12,
          "estrato_socioeconomico": 1,
          "estrato_socioeconomico_nom": "Bajo",
          "estratos": "1) Bajo",
          "nom_entidad": "Guerrero",
          "tono_de_color_de_piel": 8
         },
         {
          "abr_estado": "Son.",
          "cuenta": 14,
          "entidad": 26,
          "estrato_socioeconomico": 1,
          "estrato_socioeconomico_nom": "Bajo",
          "estratos": "1) Bajo",
          "nom_entidad": "Sonora",
          "tono_de_color_de_piel": 6
         },
         {
          "abr_estado": "Mex.",
          "cuenta": 24,
          "entidad": 15,
          "estrato_socioeconomico": 1,
          "estrato_socioeconomico_nom": "Bajo",
          "estratos": "1) Bajo",
          "nom_entidad": "México",
          "tono_de_color_de_piel": 7
         },
         {
          "abr_estado": "Col.",
          "cuenta": 1,
          "entidad": 6,
          "estrato_socioeconomico": 1,
          "estrato_socioeconomico_nom": "Bajo",
          "estratos": "1) Bajo",
          "nom_entidad": "Colima",
          "tono_de_color_de_piel": 11
         },
         {
          "abr_estado": "Ver.",
          "cuenta": 4,
          "entidad": 30,
          "estrato_socioeconomico": 1,
          "estrato_socioeconomico_nom": "Bajo",
          "estratos": "1) Bajo",
          "nom_entidad": "Veracruz de Ignacio de la Llave",
          "tono_de_color_de_piel": 2
         },
         {
          "abr_estado": "Ver.",
          "cuenta": 5,
          "entidad": 30,
          "estrato_socioeconomico": 1,
          "estrato_socioeconomico_nom": "Bajo",
          "estratos": "1) Bajo",
          "nom_entidad": "Veracruz de Ignacio de la Llave",
          "tono_de_color_de_piel": 10
         },
         {
          "abr_estado": "Ver.",
          "cuenta": 5,
          "entidad": 30,
          "estrato_socioeconomico": 1,
          "estrato_socioeconomico_nom": "Bajo",
          "estratos": "1) Bajo",
          "nom_entidad": "Veracruz de Ignacio de la Llave",
          "tono_de_color_de_piel": 5
         },
         {
          "abr_estado": "Ver.",
          "cuenta": 6,
          "entidad": 30,
          "estrato_socioeconomico": 1,
          "estrato_socioeconomico_nom": "Bajo",
          "estratos": "1) Bajo",
          "nom_entidad": "Veracruz de Ignacio de la Llave",
          "tono_de_color_de_piel": 11
         },
         {
          "abr_estado": "Ver.",
          "cuenta": 9,
          "entidad": 30,
          "estrato_socioeconomico": 1,
          "estrato_socioeconomico_nom": "Bajo",
          "estratos": "1) Bajo",
          "nom_entidad": "Veracruz de Ignacio de la Llave",
          "tono_de_color_de_piel": 3
         },
         {
          "abr_estado": "Ver.",
          "cuenta": 10,
          "entidad": 30,
          "estrato_socioeconomico": 1,
          "estrato_socioeconomico_nom": "Bajo",
          "estratos": "1) Bajo",
          "nom_entidad": "Veracruz de Ignacio de la Llave",
          "tono_de_color_de_piel": 9
         },
         {
          "abr_estado": "Ver.",
          "cuenta": 15,
          "entidad": 30,
          "estrato_socioeconomico": 1,
          "estrato_socioeconomico_nom": "Bajo",
          "estratos": "1) Bajo",
          "nom_entidad": "Veracruz de Ignacio de la Llave",
          "tono_de_color_de_piel": 4
         },
         {
          "abr_estado": "Ver.",
          "cuenta": 66,
          "entidad": 30,
          "estrato_socioeconomico": 1,
          "estrato_socioeconomico_nom": "Bajo",
          "estratos": "1) Bajo",
          "nom_entidad": "Veracruz de Ignacio de la Llave",
          "tono_de_color_de_piel": 8
         },
         {
          "abr_estado": "Ver.",
          "cuenta": 72,
          "entidad": 30,
          "estrato_socioeconomico": 1,
          "estrato_socioeconomico_nom": "Bajo",
          "estratos": "1) Bajo",
          "nom_entidad": "Veracruz de Ignacio de la Llave",
          "tono_de_color_de_piel": 7
         },
         {
          "abr_estado": "Ver.",
          "cuenta": 75,
          "entidad": 30,
          "estrato_socioeconomico": 1,
          "estrato_socioeconomico_nom": "Bajo",
          "estratos": "1) Bajo",
          "nom_entidad": "Veracruz de Ignacio de la Llave",
          "tono_de_color_de_piel": 6
         },
         {
          "abr_estado": "Tlax.",
          "cuenta": 1,
          "entidad": 29,
          "estrato_socioeconomico": 1,
          "estrato_socioeconomico_nom": "Bajo",
          "estratos": "1) Bajo",
          "nom_entidad": "Tlaxcala",
          "tono_de_color_de_piel": 4
         },
         {
          "abr_estado": "Tlax.",
          "cuenta": 4,
          "entidad": 29,
          "estrato_socioeconomico": 1,
          "estrato_socioeconomico_nom": "Bajo",
          "estratos": "1) Bajo",
          "nom_entidad": "Tlaxcala",
          "tono_de_color_de_piel": 7
         },
         {
          "abr_estado": "Son.",
          "cuenta": 6,
          "entidad": 26,
          "estrato_socioeconomico": 1,
          "estrato_socioeconomico_nom": "Bajo",
          "estratos": "1) Bajo",
          "nom_entidad": "Sonora",
          "tono_de_color_de_piel": 9
         },
         {
          "abr_estado": "Tlax.",
          "cuenta": 6,
          "entidad": 29,
          "estrato_socioeconomico": 1,
          "estrato_socioeconomico_nom": "Bajo",
          "estratos": "1) Bajo",
          "nom_entidad": "Tlaxcala",
          "tono_de_color_de_piel": 6
         },
         {
          "abr_estado": "Camp.",
          "cuenta": 89,
          "entidad": 4,
          "estrato_socioeconomico": 1,
          "estrato_socioeconomico_nom": "Bajo",
          "estratos": "1) Bajo",
          "nom_entidad": "Campeche",
          "tono_de_color_de_piel": 7
         },
         {
          "abr_estado": "Camp.",
          "cuenta": 66,
          "entidad": 4,
          "estrato_socioeconomico": 1,
          "estrato_socioeconomico_nom": "Bajo",
          "estratos": "1) Bajo",
          "nom_entidad": "Campeche",
          "tono_de_color_de_piel": 6
         },
         {
          "abr_estado": "Camp.",
          "cuenta": 66,
          "entidad": 4,
          "estrato_socioeconomico": 1,
          "estrato_socioeconomico_nom": "Bajo",
          "estratos": "1) Bajo",
          "nom_entidad": "Campeche",
          "tono_de_color_de_piel": 8
         },
         {
          "abr_estado": "Tamps.",
          "cuenta": 11,
          "entidad": 28,
          "estrato_socioeconomico": 1,
          "estrato_socioeconomico_nom": "Bajo",
          "estratos": "1) Bajo",
          "nom_entidad": "Tamaulipas",
          "tono_de_color_de_piel": 6
         },
         {
          "abr_estado": "Tamps.",
          "cuenta": 7,
          "entidad": 28,
          "estrato_socioeconomico": 1,
          "estrato_socioeconomico_nom": "Bajo",
          "estratos": "1) Bajo",
          "nom_entidad": "Tamaulipas",
          "tono_de_color_de_piel": 10
         },
         {
          "abr_estado": "Tamps.",
          "cuenta": 6,
          "entidad": 28,
          "estrato_socioeconomico": 1,
          "estrato_socioeconomico_nom": "Bajo",
          "estratos": "1) Bajo",
          "nom_entidad": "Tamaulipas",
          "tono_de_color_de_piel": 9
         },
         {
          "abr_estado": "Tamps.",
          "cuenta": 5,
          "entidad": 28,
          "estrato_socioeconomico": 1,
          "estrato_socioeconomico_nom": "Bajo",
          "estratos": "1) Bajo",
          "nom_entidad": "Tamaulipas",
          "tono_de_color_de_piel": 5
         },
         {
          "abr_estado": "Tamps.",
          "cuenta": 3,
          "entidad": 28,
          "estrato_socioeconomico": 1,
          "estrato_socioeconomico_nom": "Bajo",
          "estratos": "1) Bajo",
          "nom_entidad": "Tamaulipas",
          "tono_de_color_de_piel": 3
         },
         {
          "abr_estado": "Tamps.",
          "cuenta": 3,
          "entidad": 28,
          "estrato_socioeconomico": 1,
          "estrato_socioeconomico_nom": "Bajo",
          "estratos": "1) Bajo",
          "nom_entidad": "Tamaulipas",
          "tono_de_color_de_piel": 4
         },
         {
          "abr_estado": "BCS",
          "cuenta": 1,
          "entidad": 3,
          "estrato_socioeconomico": 1,
          "estrato_socioeconomico_nom": "Bajo",
          "estratos": "1) Bajo",
          "nom_entidad": "Baja California Sur",
          "tono_de_color_de_piel": 11
         },
         {
          "abr_estado": "Tamps.",
          "cuenta": 1,
          "entidad": 28,
          "estrato_socioeconomico": 1,
          "estrato_socioeconomico_nom": "Bajo",
          "estratos": "1) Bajo",
          "nom_entidad": "Tamaulipas",
          "tono_de_color_de_piel": 1
         },
         {
          "abr_estado": "Camp.",
          "cuenta": 8,
          "entidad": 4,
          "estrato_socioeconomico": 1,
          "estrato_socioeconomico_nom": "Bajo",
          "estratos": "1) Bajo",
          "nom_entidad": "Campeche",
          "tono_de_color_de_piel": 11
         },
         {
          "abr_estado": "Camp.",
          "cuenta": 10,
          "entidad": 4,
          "estrato_socioeconomico": 1,
          "estrato_socioeconomico_nom": "Bajo",
          "estratos": "1) Bajo",
          "nom_entidad": "Campeche",
          "tono_de_color_de_piel": 3
         },
         {
          "abr_estado": "Camp.",
          "cuenta": 12,
          "entidad": 4,
          "estrato_socioeconomico": 1,
          "estrato_socioeconomico_nom": "Bajo",
          "estratos": "1) Bajo",
          "nom_entidad": "Campeche",
          "tono_de_color_de_piel": 5
         },
         {
          "abr_estado": "Camp.",
          "cuenta": 18,
          "entidad": 4,
          "estrato_socioeconomico": 1,
          "estrato_socioeconomico_nom": "Bajo",
          "estratos": "1) Bajo",
          "nom_entidad": "Campeche",
          "tono_de_color_de_piel": 9
         },
         {
          "abr_estado": "Camp.",
          "cuenta": 19,
          "entidad": 4,
          "estrato_socioeconomico": 1,
          "estrato_socioeconomico_nom": "Bajo",
          "estratos": "1) Bajo",
          "nom_entidad": "Campeche",
          "tono_de_color_de_piel": 10
         },
         {
          "abr_estado": "Camp.",
          "cuenta": 19,
          "entidad": 4,
          "estrato_socioeconomico": 1,
          "estrato_socioeconomico_nom": "Bajo",
          "estratos": "1) Bajo",
          "nom_entidad": "Campeche",
          "tono_de_color_de_piel": 4
         },
         {
          "abr_estado": "Camp.",
          "cuenta": 1,
          "entidad": 4,
          "estrato_socioeconomico": 1,
          "estrato_socioeconomico_nom": "Bajo",
          "estratos": "1) Bajo",
          "nom_entidad": "Campeche",
          "tono_de_color_de_piel": 2
         },
         {
          "abr_estado": "Tamps.",
          "cuenta": 21,
          "entidad": 28,
          "estrato_socioeconomico": 1,
          "estrato_socioeconomico_nom": "Bajo",
          "estratos": "1) Bajo",
          "nom_entidad": "Tamaulipas",
          "tono_de_color_de_piel": 8
         },
         {
          "abr_estado": "BCS",
          "cuenta": 1,
          "entidad": 3,
          "estrato_socioeconomico": 1,
          "estrato_socioeconomico_nom": "Bajo",
          "estratos": "1) Bajo",
          "nom_entidad": "Baja California Sur",
          "tono_de_color_de_piel": 4
         },
         {
          "abr_estado": "BCS",
          "cuenta": 1,
          "entidad": 3,
          "estrato_socioeconomico": 1,
          "estrato_socioeconomico_nom": "Bajo",
          "estratos": "1) Bajo",
          "nom_entidad": "Baja California Sur",
          "tono_de_color_de_piel": 1
         },
         {
          "abr_estado": "Zac.",
          "cuenta": 1,
          "entidad": 32,
          "estrato_socioeconomico": 1,
          "estrato_socioeconomico_nom": "Bajo",
          "estratos": "1) Bajo",
          "nom_entidad": "Zacatecas",
          "tono_de_color_de_piel": 3
         },
         {
          "abr_estado": "Zac.",
          "cuenta": 1,
          "entidad": 32,
          "estrato_socioeconomico": 1,
          "estrato_socioeconomico_nom": "Bajo",
          "estratos": "1) Bajo",
          "nom_entidad": "Zacatecas",
          "tono_de_color_de_piel": 2
         },
         {
          "abr_estado": "Zac.",
          "cuenta": 2,
          "entidad": 32,
          "estrato_socioeconomico": 1,
          "estrato_socioeconomico_nom": "Bajo",
          "estratos": "1) Bajo",
          "nom_entidad": "Zacatecas",
          "tono_de_color_de_piel": 4
         },
         {
          "abr_estado": "Zac.",
          "cuenta": 4,
          "entidad": 32,
          "estrato_socioeconomico": 1,
          "estrato_socioeconomico_nom": "Bajo",
          "estratos": "1) Bajo",
          "nom_entidad": "Zacatecas",
          "tono_de_color_de_piel": 11
         },
         {
          "abr_estado": "Zac.",
          "cuenta": 4,
          "entidad": 32,
          "estrato_socioeconomico": 1,
          "estrato_socioeconomico_nom": "Bajo",
          "estratos": "1) Bajo",
          "nom_entidad": "Zacatecas",
          "tono_de_color_de_piel": 10
         },
         {
          "abr_estado": "Zac.",
          "cuenta": 4,
          "entidad": 32,
          "estrato_socioeconomico": 1,
          "estrato_socioeconomico_nom": "Bajo",
          "estratos": "1) Bajo",
          "nom_entidad": "Zacatecas",
          "tono_de_color_de_piel": 9
         },
         {
          "abr_estado": "Zac.",
          "cuenta": 4,
          "entidad": 32,
          "estrato_socioeconomico": 1,
          "estrato_socioeconomico_nom": "Bajo",
          "estratos": "1) Bajo",
          "nom_entidad": "Zacatecas",
          "tono_de_color_de_piel": 5
         },
         {
          "abr_estado": "Zac.",
          "cuenta": 15,
          "entidad": 32,
          "estrato_socioeconomico": 1,
          "estrato_socioeconomico_nom": "Bajo",
          "estratos": "1) Bajo",
          "nom_entidad": "Zacatecas",
          "tono_de_color_de_piel": 6
         },
         {
          "abr_estado": "Zac.",
          "cuenta": 34,
          "entidad": 32,
          "estrato_socioeconomico": 1,
          "estrato_socioeconomico_nom": "Bajo",
          "estratos": "1) Bajo",
          "nom_entidad": "Zacatecas",
          "tono_de_color_de_piel": 7
         },
         {
          "abr_estado": "Zac.",
          "cuenta": 43,
          "entidad": 32,
          "estrato_socioeconomico": 1,
          "estrato_socioeconomico_nom": "Bajo",
          "estratos": "1) Bajo",
          "nom_entidad": "Zacatecas",
          "tono_de_color_de_piel": 8
         },
         {
          "abr_estado": "BC",
          "cuenta": 5,
          "entidad": 2,
          "estrato_socioeconomico": 1,
          "estrato_socioeconomico_nom": "Bajo",
          "estratos": "1) Bajo",
          "nom_entidad": "Baja California",
          "tono_de_color_de_piel": 8
         },
         {
          "abr_estado": "BC",
          "cuenta": 5,
          "entidad": 2,
          "estrato_socioeconomico": 1,
          "estrato_socioeconomico_nom": "Bajo",
          "estratos": "1) Bajo",
          "nom_entidad": "Baja California",
          "tono_de_color_de_piel": 9
         },
         {
          "abr_estado": "BC",
          "cuenta": 3,
          "entidad": 2,
          "estrato_socioeconomico": 1,
          "estrato_socioeconomico_nom": "Bajo",
          "estratos": "1) Bajo",
          "nom_entidad": "Baja California",
          "tono_de_color_de_piel": 6
         },
         {
          "abr_estado": "BC",
          "cuenta": 1,
          "entidad": 2,
          "estrato_socioeconomico": 1,
          "estrato_socioeconomico_nom": "Bajo",
          "estratos": "1) Bajo",
          "nom_entidad": "Baja California",
          "tono_de_color_de_piel": 10
         },
         {
          "abr_estado": "BC",
          "cuenta": 1,
          "entidad": 2,
          "estrato_socioeconomico": 1,
          "estrato_socioeconomico_nom": "Bajo",
          "estratos": "1) Bajo",
          "nom_entidad": "Baja California",
          "tono_de_color_de_piel": 11
         },
         {
          "abr_estado": "Yuc.",
          "cuenta": 4,
          "entidad": 31,
          "estrato_socioeconomico": 1,
          "estrato_socioeconomico_nom": "Bajo",
          "estratos": "1) Bajo",
          "nom_entidad": "Yucatán",
          "tono_de_color_de_piel": 11
         },
         {
          "abr_estado": "Yuc.",
          "cuenta": 5,
          "entidad": 31,
          "estrato_socioeconomico": 1,
          "estrato_socioeconomico_nom": "Bajo",
          "estratos": "1) Bajo",
          "nom_entidad": "Yucatán",
          "tono_de_color_de_piel": 3
         },
         {
          "abr_estado": "BCS",
          "cuenta": 2,
          "entidad": 3,
          "estrato_socioeconomico": 1,
          "estrato_socioeconomico_nom": "Bajo",
          "estratos": "1) Bajo",
          "nom_entidad": "Baja California Sur",
          "tono_de_color_de_piel": 2
         },
         {
          "abr_estado": "BCS",
          "cuenta": 5,
          "entidad": 3,
          "estrato_socioeconomico": 1,
          "estrato_socioeconomico_nom": "Bajo",
          "estratos": "1) Bajo",
          "nom_entidad": "Baja California Sur",
          "tono_de_color_de_piel": 9
         },
         {
          "abr_estado": "BCS",
          "cuenta": 5,
          "entidad": 3,
          "estrato_socioeconomico": 1,
          "estrato_socioeconomico_nom": "Bajo",
          "estratos": "1) Bajo",
          "nom_entidad": "Baja California Sur",
          "tono_de_color_de_piel": 5
         },
         {
          "abr_estado": "BCS",
          "cuenta": 19,
          "entidad": 3,
          "estrato_socioeconomico": 1,
          "estrato_socioeconomico_nom": "Bajo",
          "estratos": "1) Bajo",
          "nom_entidad": "Baja California Sur",
          "tono_de_color_de_piel": 6
         },
         {
          "abr_estado": "BCS",
          "cuenta": 25,
          "entidad": 3,
          "estrato_socioeconomico": 1,
          "estrato_socioeconomico_nom": "Bajo",
          "estratos": "1) Bajo",
          "nom_entidad": "Baja California Sur",
          "tono_de_color_de_piel": 7
         },
         {
          "abr_estado": "BCS",
          "cuenta": 31,
          "entidad": 3,
          "estrato_socioeconomico": 1,
          "estrato_socioeconomico_nom": "Bajo",
          "estratos": "1) Bajo",
          "nom_entidad": "Baja California Sur",
          "tono_de_color_de_piel": 8
         },
         {
          "abr_estado": "BCS",
          "cuenta": 1,
          "entidad": 3,
          "estrato_socioeconomico": 1,
          "estrato_socioeconomico_nom": "Bajo",
          "estratos": "1) Bajo",
          "nom_entidad": "Baja California Sur",
          "tono_de_color_de_piel": 3
         },
         {
          "abr_estado": "Ver.",
          "cuenta": 3,
          "entidad": 30,
          "estrato_socioeconomico": 1,
          "estrato_socioeconomico_nom": "Bajo",
          "estratos": "1) Bajo",
          "nom_entidad": "Veracruz de Ignacio de la Llave",
          "tono_de_color_de_piel": 1
         },
         {
          "abr_estado": "Yuc.",
          "cuenta": 86,
          "entidad": 31,
          "estrato_socioeconomico": 1,
          "estrato_socioeconomico_nom": "Bajo",
          "estratos": "1) Bajo",
          "nom_entidad": "Yucatán",
          "tono_de_color_de_piel": 7
         },
         {
          "abr_estado": "Yuc.",
          "cuenta": 44,
          "entidad": 31,
          "estrato_socioeconomico": 1,
          "estrato_socioeconomico_nom": "Bajo",
          "estratos": "1) Bajo",
          "nom_entidad": "Yucatán",
          "tono_de_color_de_piel": 6
         },
         {
          "abr_estado": "Yuc.",
          "cuenta": 16,
          "entidad": 31,
          "estrato_socioeconomico": 1,
          "estrato_socioeconomico_nom": "Bajo",
          "estratos": "1) Bajo",
          "nom_entidad": "Yucatán",
          "tono_de_color_de_piel": 4
         },
         {
          "abr_estado": "Yuc.",
          "cuenta": 10,
          "entidad": 31,
          "estrato_socioeconomico": 1,
          "estrato_socioeconomico_nom": "Bajo",
          "estratos": "1) Bajo",
          "nom_entidad": "Yucatán",
          "tono_de_color_de_piel": 10
         },
         {
          "abr_estado": "Yuc.",
          "cuenta": 8,
          "entidad": 31,
          "estrato_socioeconomico": 1,
          "estrato_socioeconomico_nom": "Bajo",
          "estratos": "1) Bajo",
          "nom_entidad": "Yucatán",
          "tono_de_color_de_piel": 5
         },
         {
          "abr_estado": "Yuc.",
          "cuenta": 7,
          "entidad": 31,
          "estrato_socioeconomico": 1,
          "estrato_socioeconomico_nom": "Bajo",
          "estratos": "1) Bajo",
          "nom_entidad": "Yucatán",
          "tono_de_color_de_piel": 9
         },
         {
          "abr_estado": "Yuc.",
          "cuenta": 98,
          "entidad": 31,
          "estrato_socioeconomico": 1,
          "estrato_socioeconomico_nom": "Bajo",
          "estratos": "1) Bajo",
          "nom_entidad": "Yucatán",
          "tono_de_color_de_piel": 8
         },
         {
          "abr_estado": "Tamps.",
          "cuenta": 27,
          "entidad": 28,
          "estrato_socioeconomico": 1,
          "estrato_socioeconomico_nom": "Bajo",
          "estratos": "1) Bajo",
          "nom_entidad": "Tamaulipas",
          "tono_de_color_de_piel": 7
         },
         {
          "abr_estado": "Tlax.",
          "cuenta": 5,
          "entidad": 29,
          "estrato_socioeconomico": 1,
          "estrato_socioeconomico_nom": "Bajo",
          "estratos": "1) Bajo",
          "nom_entidad": "Tlaxcala",
          "tono_de_color_de_piel": 8
         },
         {
          "abr_estado": "Tab.",
          "cuenta": 5,
          "entidad": 27,
          "estrato_socioeconomico": 1,
          "estrato_socioeconomico_nom": "Bajo",
          "estratos": "1) Bajo",
          "nom_entidad": "Tabasco",
          "tono_de_color_de_piel": 4
         },
         {
          "abr_estado": "Coah.",
          "cuenta": 2,
          "entidad": 5,
          "estrato_socioeconomico": 1,
          "estrato_socioeconomico_nom": "Bajo",
          "estratos": "1) Bajo",
          "nom_entidad": "Coahuila de Zaragoza",
          "tono_de_color_de_piel": 6
         },
         {
          "abr_estado": "Coah.",
          "cuenta": 2,
          "entidad": 5,
          "estrato_socioeconomico": 1,
          "estrato_socioeconomico_nom": "Bajo",
          "estratos": "1) Bajo",
          "nom_entidad": "Coahuila de Zaragoza",
          "tono_de_color_de_piel": 5
         },
         {
          "abr_estado": "Coah.",
          "cuenta": 2,
          "entidad": 5,
          "estrato_socioeconomico": 1,
          "estrato_socioeconomico_nom": "Bajo",
          "estratos": "1) Bajo",
          "nom_entidad": "Coahuila de Zaragoza",
          "tono_de_color_de_piel": 3
         },
         {
          "abr_estado": "Coah.",
          "cuenta": 4,
          "entidad": 5,
          "estrato_socioeconomico": 1,
          "estrato_socioeconomico_nom": "Bajo",
          "estratos": "1) Bajo",
          "nom_entidad": "Coahuila de Zaragoza",
          "tono_de_color_de_piel": 4
         },
         {
          "abr_estado": "Coah.",
          "cuenta": 11,
          "entidad": 5,
          "estrato_socioeconomico": 1,
          "estrato_socioeconomico_nom": "Bajo",
          "estratos": "1) Bajo",
          "nom_entidad": "Coahuila de Zaragoza",
          "tono_de_color_de_piel": 8
         },
         {
          "abr_estado": "Coah.",
          "cuenta": 12,
          "entidad": 5,
          "estrato_socioeconomico": 1,
          "estrato_socioeconomico_nom": "Bajo",
          "estratos": "1) Bajo",
          "nom_entidad": "Coahuila de Zaragoza",
          "tono_de_color_de_piel": 7
         },
         {
          "abr_estado": "Tab.",
          "cuenta": 54,
          "entidad": 27,
          "estrato_socioeconomico": 1,
          "estrato_socioeconomico_nom": "Bajo",
          "estratos": "1) Bajo",
          "nom_entidad": "Tabasco",
          "tono_de_color_de_piel": 6
         },
         {
          "abr_estado": "Col.",
          "cuenta": 1,
          "entidad": 6,
          "estrato_socioeconomico": 1,
          "estrato_socioeconomico_nom": "Bajo",
          "estratos": "1) Bajo",
          "nom_entidad": "Colima",
          "tono_de_color_de_piel": 9
         },
         {
          "abr_estado": "Tab.",
          "cuenta": 78,
          "entidad": 27,
          "estrato_socioeconomico": 1,
          "estrato_socioeconomico_nom": "Bajo",
          "estratos": "1) Bajo",
          "nom_entidad": "Tabasco",
          "tono_de_color_de_piel": 8
         },
         {
          "abr_estado": "Tab.",
          "cuenta": 92,
          "entidad": 27,
          "estrato_socioeconomico": 1,
          "estrato_socioeconomico_nom": "Bajo",
          "estratos": "1) Bajo",
          "nom_entidad": "Tabasco",
          "tono_de_color_de_piel": 7
         },
         {
          "abr_estado": "Son.",
          "cuenta": 1,
          "entidad": 26,
          "estrato_socioeconomico": 1,
          "estrato_socioeconomico_nom": "Bajo",
          "estratos": "1) Bajo",
          "nom_entidad": "Sonora",
          "tono_de_color_de_piel": 5
         },
         {
          "abr_estado": "Tab.",
          "cuenta": 8,
          "entidad": 27,
          "estrato_socioeconomico": 1,
          "estrato_socioeconomico_nom": "Bajo",
          "estratos": "1) Bajo",
          "nom_entidad": "Tabasco",
          "tono_de_color_de_piel": 10
         },
         {
          "abr_estado": "Coah.",
          "cuenta": 1,
          "entidad": 5,
          "estrato_socioeconomico": 1,
          "estrato_socioeconomico_nom": "Bajo",
          "estratos": "1) Bajo",
          "nom_entidad": "Coahuila de Zaragoza",
          "tono_de_color_de_piel": 2
         },
         {
          "abr_estado": "Son.",
          "cuenta": 1,
          "entidad": 26,
          "estrato_socioeconomico": 1,
          "estrato_socioeconomico_nom": "Bajo",
          "estratos": "1) Bajo",
          "nom_entidad": "Sonora",
          "tono_de_color_de_piel": 11
         },
         {
          "abr_estado": "Tab.",
          "cuenta": 6,
          "entidad": 27,
          "estrato_socioeconomico": 1,
          "estrato_socioeconomico_nom": "Bajo",
          "estratos": "1) Bajo",
          "nom_entidad": "Tabasco",
          "tono_de_color_de_piel": 5
         },
         {
          "abr_estado": "Tab.",
          "cuenta": 5,
          "entidad": 27,
          "estrato_socioeconomico": 1,
          "estrato_socioeconomico_nom": "Bajo",
          "estratos": "1) Bajo",
          "nom_entidad": "Tabasco",
          "tono_de_color_de_piel": 3
         },
         {
          "abr_estado": "Col.",
          "cuenta": 5,
          "entidad": 6,
          "estrato_socioeconomico": 1,
          "estrato_socioeconomico_nom": "Bajo",
          "estratos": "1) Bajo",
          "nom_entidad": "Colima",
          "tono_de_color_de_piel": 8
         },
         {
          "abr_estado": "Col.",
          "cuenta": 2,
          "entidad": 6,
          "estrato_socioeconomico": 1,
          "estrato_socioeconomico_nom": "Bajo",
          "estratos": "1) Bajo",
          "nom_entidad": "Colima",
          "tono_de_color_de_piel": 5
         },
         {
          "abr_estado": "Col.",
          "cuenta": 2,
          "entidad": 6,
          "estrato_socioeconomico": 1,
          "estrato_socioeconomico_nom": "Bajo",
          "estratos": "1) Bajo",
          "nom_entidad": "Colima",
          "tono_de_color_de_piel": 6
         },
         {
          "abr_estado": "Coah.",
          "cuenta": 1,
          "entidad": 5,
          "estrato_socioeconomico": 1,
          "estrato_socioeconomico_nom": "Bajo",
          "estratos": "1) Bajo",
          "nom_entidad": "Coahuila de Zaragoza",
          "tono_de_color_de_piel": 9
         },
         {
          "abr_estado": "Tab.",
          "cuenta": 2,
          "entidad": 27,
          "estrato_socioeconomico": 1,
          "estrato_socioeconomico_nom": "Bajo",
          "estratos": "1) Bajo",
          "nom_entidad": "Tabasco",
          "tono_de_color_de_piel": 11
         },
         {
          "abr_estado": "Son.",
          "cuenta": 5,
          "entidad": 26,
          "estrato_socioeconomico": 1,
          "estrato_socioeconomico_nom": "Bajo",
          "estratos": "1) Bajo",
          "nom_entidad": "Sonora",
          "tono_de_color_de_piel": 4
         },
         {
          "abr_estado": "Col.",
          "cuenta": 1,
          "entidad": 6,
          "estrato_socioeconomico": 1,
          "estrato_socioeconomico_nom": "Bajo",
          "estratos": "1) Bajo",
          "nom_entidad": "Colima",
          "tono_de_color_de_piel": 7
         },
         {
          "abr_estado": "Son.",
          "cuenta": 2,
          "entidad": 26,
          "estrato_socioeconomico": 1,
          "estrato_socioeconomico_nom": "Bajo",
          "estratos": "1) Bajo",
          "nom_entidad": "Sonora",
          "tono_de_color_de_piel": 10
         },
         {
          "abr_estado": "Son.",
          "cuenta": 1,
          "entidad": 26,
          "estrato_socioeconomico": 1,
          "estrato_socioeconomico_nom": "Bajo",
          "estratos": "1) Bajo",
          "nom_entidad": "Sonora",
          "tono_de_color_de_piel": 3
         },
         {
          "abr_estado": "Tab.",
          "cuenta": 6,
          "entidad": 27,
          "estrato_socioeconomico": 1,
          "estrato_socioeconomico_nom": "Bajo",
          "estratos": "1) Bajo",
          "nom_entidad": "Tabasco",
          "tono_de_color_de_piel": 9
         },
         {
          "abr_estado": "Col.",
          "cuenta": 1,
          "entidad": 6,
          "estrato_socioeconomico": 1,
          "estrato_socioeconomico_nom": "Bajo",
          "estratos": "1) Bajo",
          "nom_entidad": "Colima",
          "tono_de_color_de_piel": 4
         },
         {
          "abr_estado": "Mor.",
          "cuenta": 179,
          "entidad": 17,
          "estrato_socioeconomico": 2,
          "estrato_socioeconomico_nom": "Medio Bajo",
          "estratos": "2) Medio Bajo",
          "nom_entidad": "Morelos",
          "tono_de_color_de_piel": 8
         },
         {
          "abr_estado": "Mor.",
          "cuenta": 193,
          "entidad": 17,
          "estrato_socioeconomico": 2,
          "estrato_socioeconomico_nom": "Medio Bajo",
          "estratos": "2) Medio Bajo",
          "nom_entidad": "Morelos",
          "tono_de_color_de_piel": 7
         },
         {
          "abr_estado": "Mor.",
          "cuenta": 7,
          "entidad": 17,
          "estrato_socioeconomico": 2,
          "estrato_socioeconomico_nom": "Medio Bajo",
          "estratos": "2) Medio Bajo",
          "nom_entidad": "Morelos",
          "tono_de_color_de_piel": 10
         },
         {
          "abr_estado": "Mor.",
          "cuenta": 93,
          "entidad": 17,
          "estrato_socioeconomico": 2,
          "estrato_socioeconomico_nom": "Medio Bajo",
          "estratos": "2) Medio Bajo",
          "nom_entidad": "Morelos",
          "tono_de_color_de_piel": 6
         },
         {
          "abr_estado": "Mor.",
          "cuenta": 28,
          "entidad": 17,
          "estrato_socioeconomico": 2,
          "estrato_socioeconomico_nom": "Medio Bajo",
          "estratos": "2) Medio Bajo",
          "nom_entidad": "Morelos",
          "tono_de_color_de_piel": 4
         },
         {
          "abr_estado": "Mor.",
          "cuenta": 17,
          "entidad": 17,
          "estrato_socioeconomico": 2,
          "estrato_socioeconomico_nom": "Medio Bajo",
          "estratos": "2) Medio Bajo",
          "nom_entidad": "Morelos",
          "tono_de_color_de_piel": 5
         },
         {
          "abr_estado": "Mor.",
          "cuenta": 14,
          "entidad": 17,
          "estrato_socioeconomico": 2,
          "estrato_socioeconomico_nom": "Medio Bajo",
          "estratos": "2) Medio Bajo",
          "nom_entidad": "Morelos",
          "tono_de_color_de_piel": 9
         },
         {
          "abr_estado": "Mor.",
          "cuenta": 6,
          "entidad": 17,
          "estrato_socioeconomico": 2,
          "estrato_socioeconomico_nom": "Medio Bajo",
          "estratos": "2) Medio Bajo",
          "nom_entidad": "Morelos",
          "tono_de_color_de_piel": 3
         },
         {
          "abr_estado": "Ver.",
          "cuenta": 2,
          "entidad": 30,
          "estrato_socioeconomico": 2,
          "estrato_socioeconomico_nom": "Medio Bajo",
          "estratos": "2) Medio Bajo",
          "nom_entidad": "Veracruz de Ignacio de la Llave",
          "tono_de_color_de_piel": 1
         },
         {
          "abr_estado": "Mor.",
          "cuenta": 1,
          "entidad": 17,
          "estrato_socioeconomico": 2,
          "estrato_socioeconomico_nom": "Medio Bajo",
          "estratos": "2) Medio Bajo",
          "nom_entidad": "Morelos",
          "tono_de_color_de_piel": 1
         },
         {
          "abr_estado": "Nay.",
          "cuenta": 151,
          "entidad": 18,
          "estrato_socioeconomico": 2,
          "estrato_socioeconomico_nom": "Medio Bajo",
          "estratos": "2) Medio Bajo",
          "nom_entidad": "Nayarit",
          "tono_de_color_de_piel": 7
         },
         {
          "abr_estado": "Nay.",
          "cuenta": 212,
          "entidad": 18,
          "estrato_socioeconomico": 2,
          "estrato_socioeconomico_nom": "Medio Bajo",
          "estratos": "2) Medio Bajo",
          "nom_entidad": "Nayarit",
          "tono_de_color_de_piel": 8
         },
         {
          "abr_estado": "Son.",
          "cuenta": 3,
          "entidad": 26,
          "estrato_socioeconomico": 2,
          "estrato_socioeconomico_nom": "Medio Bajo",
          "estratos": "2) Medio Bajo",
          "nom_entidad": "Sonora",
          "tono_de_color_de_piel": 4
         },
         {
          "abr_estado": "Son.",
          "cuenta": 3,
          "entidad": 26,
          "estrato_socioeconomico": 2,
          "estrato_socioeconomico_nom": "Medio Bajo",
          "estratos": "2) Medio Bajo",
          "nom_entidad": "Sonora",
          "tono_de_color_de_piel": 3
         },
         {
          "abr_estado": "Son.",
          "cuenta": 3,
          "entidad": 26,
          "estrato_socioeconomico": 2,
          "estrato_socioeconomico_nom": "Medio Bajo",
          "estratos": "2) Medio Bajo",
          "nom_entidad": "Sonora",
          "tono_de_color_de_piel": 2
         },
         {
          "abr_estado": "Son.",
          "cuenta": 10,
          "entidad": 26,
          "estrato_socioeconomico": 2,
          "estrato_socioeconomico_nom": "Medio Bajo",
          "estratos": "2) Medio Bajo",
          "nom_entidad": "Sonora",
          "tono_de_color_de_piel": 11
         },
         {
          "abr_estado": "Son.",
          "cuenta": 16,
          "entidad": 26,
          "estrato_socioeconomico": 2,
          "estrato_socioeconomico_nom": "Medio Bajo",
          "estratos": "2) Medio Bajo",
          "nom_entidad": "Sonora",
          "tono_de_color_de_piel": 9
         },
         {
          "abr_estado": "Son.",
          "cuenta": 17,
          "entidad": 26,
          "estrato_socioeconomico": 2,
          "estrato_socioeconomico_nom": "Medio Bajo",
          "estratos": "2) Medio Bajo",
          "nom_entidad": "Sonora",
          "tono_de_color_de_piel": 10
         },
         {
          "abr_estado": "Son.",
          "cuenta": 19,
          "entidad": 26,
          "estrato_socioeconomico": 2,
          "estrato_socioeconomico_nom": "Medio Bajo",
          "estratos": "2) Medio Bajo",
          "nom_entidad": "Sonora",
          "tono_de_color_de_piel": 6
         },
         {
          "abr_estado": "Son.",
          "cuenta": 86,
          "entidad": 26,
          "estrato_socioeconomico": 2,
          "estrato_socioeconomico_nom": "Medio Bajo",
          "estratos": "2) Medio Bajo",
          "nom_entidad": "Sonora",
          "tono_de_color_de_piel": 7
         },
         {
          "abr_estado": "Ver.",
          "cuenta": 144,
          "entidad": 30,
          "estrato_socioeconomico": 2,
          "estrato_socioeconomico_nom": "Medio Bajo",
          "estratos": "2) Medio Bajo",
          "nom_entidad": "Veracruz de Ignacio de la Llave",
          "tono_de_color_de_piel": 7
         },
         {
          "abr_estado": "Mor.",
          "cuenta": 5,
          "entidad": 17,
          "estrato_socioeconomico": 2,
          "estrato_socioeconomico_nom": "Medio Bajo",
          "estratos": "2) Medio Bajo",
          "nom_entidad": "Morelos",
          "tono_de_color_de_piel": 2
         },
         {
          "abr_estado": "Ver.",
          "cuenta": 136,
          "entidad": 30,
          "estrato_socioeconomico": 2,
          "estrato_socioeconomico_nom": "Medio Bajo",
          "estratos": "2) Medio Bajo",
          "nom_entidad": "Veracruz de Ignacio de la Llave",
          "tono_de_color_de_piel": 8
         },
         {
          "abr_estado": "Ver.",
          "cuenta": 16,
          "entidad": 30,
          "estrato_socioeconomico": 2,
          "estrato_socioeconomico_nom": "Medio Bajo",
          "estratos": "2) Medio Bajo",
          "nom_entidad": "Veracruz de Ignacio de la Llave",
          "tono_de_color_de_piel": 4
         },
         {
          "abr_estado": "Ver.",
          "cuenta": 13,
          "entidad": 30,
          "estrato_socioeconomico": 2,
          "estrato_socioeconomico_nom": "Medio Bajo",
          "estratos": "2) Medio Bajo",
          "nom_entidad": "Veracruz de Ignacio de la Llave",
          "tono_de_color_de_piel": 10
         },
         {
          "abr_estado": "Ver.",
          "cuenta": 12,
          "entidad": 30,
          "estrato_socioeconomico": 2,
          "estrato_socioeconomico_nom": "Medio Bajo",
          "estratos": "2) Medio Bajo",
          "nom_entidad": "Veracruz de Ignacio de la Llave",
          "tono_de_color_de_piel": 9
         },
         {
          "abr_estado": "Ver.",
          "cuenta": 8,
          "entidad": 30,
          "estrato_socioeconomico": 2,
          "estrato_socioeconomico_nom": "Medio Bajo",
          "estratos": "2) Medio Bajo",
          "nom_entidad": "Veracruz de Ignacio de la Llave",
          "tono_de_color_de_piel": 11
         },
         {
          "abr_estado": "Ver.",
          "cuenta": 7,
          "entidad": 30,
          "estrato_socioeconomico": 2,
          "estrato_socioeconomico_nom": "Medio Bajo",
          "estratos": "2) Medio Bajo",
          "nom_entidad": "Veracruz de Ignacio de la Llave",
          "tono_de_color_de_piel": 3
         },
         {
          "abr_estado": "Ver.",
          "cuenta": 7,
          "entidad": 30,
          "estrato_socioeconomico": 2,
          "estrato_socioeconomico_nom": "Medio Bajo",
          "estratos": "2) Medio Bajo",
          "nom_entidad": "Veracruz de Ignacio de la Llave",
          "tono_de_color_de_piel": 5
         },
         {
          "abr_estado": "Ver.",
          "cuenta": 5,
          "entidad": 30,
          "estrato_socioeconomico": 2,
          "estrato_socioeconomico_nom": "Medio Bajo",
          "estratos": "2) Medio Bajo",
          "nom_entidad": "Veracruz de Ignacio de la Llave",
          "tono_de_color_de_piel": 2
         },
         {
          "abr_estado": "Yuc.",
          "cuenta": 132,
          "entidad": 31,
          "estrato_socioeconomico": 2,
          "estrato_socioeconomico_nom": "Medio Bajo",
          "estratos": "2) Medio Bajo",
          "nom_entidad": "Yucatán",
          "tono_de_color_de_piel": 8
         },
         {
          "abr_estado": "Son.",
          "cuenta": 150,
          "entidad": 26,
          "estrato_socioeconomico": 2,
          "estrato_socioeconomico_nom": "Medio Bajo",
          "estratos": "2) Medio Bajo",
          "nom_entidad": "Sonora",
          "tono_de_color_de_piel": 8
         },
         {
          "abr_estado": "SLP",
          "cuenta": 2,
          "entidad": 24,
          "estrato_socioeconomico": 2,
          "estrato_socioeconomico_nom": "Medio Bajo",
          "estratos": "2) Medio Bajo",
          "nom_entidad": "San Luis Potosí",
          "tono_de_color_de_piel": 2
         },
         {
          "abr_estado": "SLP",
          "cuenta": 1,
          "entidad": 24,
          "estrato_socioeconomico": 2,
          "estrato_socioeconomico_nom": "Medio Bajo",
          "estratos": "2) Medio Bajo",
          "nom_entidad": "San Luis Potosí",
          "tono_de_color_de_piel": 11
         },
         {
          "abr_estado": "Ver.",
          "cuenta": 60,
          "entidad": 30,
          "estrato_socioeconomico": 2,
          "estrato_socioeconomico_nom": "Medio Bajo",
          "estratos": "2) Medio Bajo",
          "nom_entidad": "Veracruz de Ignacio de la Llave",
          "tono_de_color_de_piel": 6
         },
         {
          "abr_estado": "Yuc.",
          "cuenta": 112,
          "entidad": 31,
          "estrato_socioeconomico": 2,
          "estrato_socioeconomico_nom": "Medio Bajo",
          "estratos": "2) Medio Bajo",
          "nom_entidad": "Yucatán",
          "tono_de_color_de_piel": 7
         },
         {
          "abr_estado": "Q. Roo",
          "cuenta": 102,
          "entidad": 23,
          "estrato_socioeconomico": 2,
          "estrato_socioeconomico_nom": "Medio Bajo",
          "estratos": "2) Medio Bajo",
          "nom_entidad": "Quintana Roo",
          "tono_de_color_de_piel": 6
         },
         {
          "abr_estado": "Yuc.",
          "cuenta": 18,
          "entidad": 31,
          "estrato_socioeconomico": 2,
          "estrato_socioeconomico_nom": "Medio Bajo",
          "estratos": "2) Medio Bajo",
          "nom_entidad": "Yucatán",
          "tono_de_color_de_piel": 4
         },
         {
          "abr_estado": "Sin.",
          "cuenta": 1,
          "entidad": 25,
          "estrato_socioeconomico": 2,
          "estrato_socioeconomico_nom": "Medio Bajo",
          "estratos": "2) Medio Bajo",
          "nom_entidad": "Sinaloa",
          "tono_de_color_de_piel": 1
         },
         {
          "abr_estado": "Zac.",
          "cuenta": 200,
          "entidad": 32,
          "estrato_socioeconomico": 2,
          "estrato_socioeconomico_nom": "Medio Bajo",
          "estratos": "2) Medio Bajo",
          "nom_entidad": "Zacatecas",
          "tono_de_color_de_piel": 8
         },
         {
          "abr_estado": "Zac.",
          "cuenta": 166,
          "entidad": 32,
          "estrato_socioeconomico": 2,
          "estrato_socioeconomico_nom": "Medio Bajo",
          "estratos": "2) Medio Bajo",
          "nom_entidad": "Zacatecas",
          "tono_de_color_de_piel": 7
         },
         {
          "abr_estado": "Zac.",
          "cuenta": 55,
          "entidad": 32,
          "estrato_socioeconomico": 2,
          "estrato_socioeconomico_nom": "Medio Bajo",
          "estratos": "2) Medio Bajo",
          "nom_entidad": "Zacatecas",
          "tono_de_color_de_piel": 6
         },
         {
          "abr_estado": "Mex.",
          "cuenta": 1,
          "entidad": 15,
          "estrato_socioeconomico": 2,
          "estrato_socioeconomico_nom": "Medio Bajo",
          "estratos": "2) Medio Bajo",
          "nom_entidad": "México",
          "tono_de_color_de_piel": 2
         },
         {
          "abr_estado": "Mex.",
          "cuenta": 4,
          "entidad": 15,
          "estrato_socioeconomico": 2,
          "estrato_socioeconomico_nom": "Medio Bajo",
          "estratos": "2) Medio Bajo",
          "nom_entidad": "México",
          "tono_de_color_de_piel": 3
         },
         {
          "abr_estado": "Mex.",
          "cuenta": 6,
          "entidad": 15,
          "estrato_socioeconomico": 2,
          "estrato_socioeconomico_nom": "Medio Bajo",
          "estratos": "2) Medio Bajo",
          "nom_entidad": "México",
          "tono_de_color_de_piel": 4
         },
         {
          "abr_estado": "Mex.",
          "cuenta": 8,
          "entidad": 15,
          "estrato_socioeconomico": 2,
          "estrato_socioeconomico_nom": "Medio Bajo",
          "estratos": "2) Medio Bajo",
          "nom_entidad": "México",
          "tono_de_color_de_piel": 11
         },
         {
          "abr_estado": "Mex.",
          "cuenta": 13,
          "entidad": 15,
          "estrato_socioeconomico": 2,
          "estrato_socioeconomico_nom": "Medio Bajo",
          "estratos": "2) Medio Bajo",
          "nom_entidad": "México",
          "tono_de_color_de_piel": 5
         },
         {
          "abr_estado": "Mex.",
          "cuenta": 26,
          "entidad": 15,
          "estrato_socioeconomico": 2,
          "estrato_socioeconomico_nom": "Medio Bajo",
          "estratos": "2) Medio Bajo",
          "nom_entidad": "México",
          "tono_de_color_de_piel": 10
         },
         {
          "abr_estado": "Mex.",
          "cuenta": 29,
          "entidad": 15,
          "estrato_socioeconomico": 2,
          "estrato_socioeconomico_nom": "Medio Bajo",
          "estratos": "2) Medio Bajo",
          "nom_entidad": "México",
          "tono_de_color_de_piel": 9
         },
         {
          "abr_estado": "Mex.",
          "cuenta": 65,
          "entidad": 15,
          "estrato_socioeconomico": 2,
          "estrato_socioeconomico_nom": "Medio Bajo",
          "estratos": "2) Medio Bajo",
          "nom_entidad": "México",
          "tono_de_color_de_piel": 6
         },
         {
          "abr_estado": "Mex.",
          "cuenta": 165,
          "entidad": 15,
          "estrato_socioeconomico": 2,
          "estrato_socioeconomico_nom": "Medio Bajo",
          "estratos": "2) Medio Bajo",
          "nom_entidad": "México",
          "tono_de_color_de_piel": 7
         },
         {
          "abr_estado": "Mex.",
          "cuenta": 234,
          "entidad": 15,
          "estrato_socioeconomico": 2,
          "estrato_socioeconomico_nom": "Medio Bajo",
          "estratos": "2) Medio Bajo",
          "nom_entidad": "México",
          "tono_de_color_de_piel": 8
         },
         {
          "abr_estado": "Zac.",
          "cuenta": 22,
          "entidad": 32,
          "estrato_socioeconomico": 2,
          "estrato_socioeconomico_nom": "Medio Bajo",
          "estratos": "2) Medio Bajo",
          "nom_entidad": "Zacatecas",
          "tono_de_color_de_piel": 9
         },
         {
          "abr_estado": "Zac.",
          "cuenta": 22,
          "entidad": 32,
          "estrato_socioeconomico": 2,
          "estrato_socioeconomico_nom": "Medio Bajo",
          "estratos": "2) Medio Bajo",
          "nom_entidad": "Zacatecas",
          "tono_de_color_de_piel": 10
         },
         {
          "abr_estado": "Zac.",
          "cuenta": 15,
          "entidad": 32,
          "estrato_socioeconomico": 2,
          "estrato_socioeconomico_nom": "Medio Bajo",
          "estratos": "2) Medio Bajo",
          "nom_entidad": "Zacatecas",
          "tono_de_color_de_piel": 4
         },
         {
          "abr_estado": "Zac.",
          "cuenta": 13,
          "entidad": 32,
          "estrato_socioeconomico": 2,
          "estrato_socioeconomico_nom": "Medio Bajo",
          "estratos": "2) Medio Bajo",
          "nom_entidad": "Zacatecas",
          "tono_de_color_de_piel": 11
         },
         {
          "abr_estado": "Zac.",
          "cuenta": 7,
          "entidad": 32,
          "estrato_socioeconomico": 2,
          "estrato_socioeconomico_nom": "Medio Bajo",
          "estratos": "2) Medio Bajo",
          "nom_entidad": "Zacatecas",
          "tono_de_color_de_piel": 3
         },
         {
          "abr_estado": "Zac.",
          "cuenta": 7,
          "entidad": 32,
          "estrato_socioeconomico": 2,
          "estrato_socioeconomico_nom": "Medio Bajo",
          "estratos": "2) Medio Bajo",
          "nom_entidad": "Zacatecas",
          "tono_de_color_de_piel": 5
         },
         {
          "abr_estado": "Zac.",
          "cuenta": 1,
          "entidad": 32,
          "estrato_socioeconomico": 2,
          "estrato_socioeconomico_nom": "Medio Bajo",
          "estratos": "2) Medio Bajo",
          "nom_entidad": "Zacatecas",
          "tono_de_color_de_piel": 2
         },
         {
          "abr_estado": "Sin.",
          "cuenta": 4,
          "entidad": 25,
          "estrato_socioeconomico": 2,
          "estrato_socioeconomico_nom": "Medio Bajo",
          "estratos": "2) Medio Bajo",
          "nom_entidad": "Sinaloa",
          "tono_de_color_de_piel": 2
         },
         {
          "abr_estado": "Sin.",
          "cuenta": 8,
          "entidad": 25,
          "estrato_socioeconomico": 2,
          "estrato_socioeconomico_nom": "Medio Bajo",
          "estratos": "2) Medio Bajo",
          "nom_entidad": "Sinaloa",
          "tono_de_color_de_piel": 4
         },
         {
          "abr_estado": "Sin.",
          "cuenta": 9,
          "entidad": 25,
          "estrato_socioeconomico": 2,
          "estrato_socioeconomico_nom": "Medio Bajo",
          "estratos": "2) Medio Bajo",
          "nom_entidad": "Sinaloa",
          "tono_de_color_de_piel": 11
         },
         {
          "abr_estado": "Sin.",
          "cuenta": 10,
          "entidad": 25,
          "estrato_socioeconomico": 2,
          "estrato_socioeconomico_nom": "Medio Bajo",
          "estratos": "2) Medio Bajo",
          "nom_entidad": "Sinaloa",
          "tono_de_color_de_piel": 5
         },
         {
          "abr_estado": "Yuc.",
          "cuenta": 14,
          "entidad": 31,
          "estrato_socioeconomico": 2,
          "estrato_socioeconomico_nom": "Medio Bajo",
          "estratos": "2) Medio Bajo",
          "nom_entidad": "Yucatán",
          "tono_de_color_de_piel": 9
         },
         {
          "abr_estado": "Yuc.",
          "cuenta": 11,
          "entidad": 31,
          "estrato_socioeconomico": 2,
          "estrato_socioeconomico_nom": "Medio Bajo",
          "estratos": "2) Medio Bajo",
          "nom_entidad": "Yucatán",
          "tono_de_color_de_piel": 10
         },
         {
          "abr_estado": "Nay.",
          "cuenta": 60,
          "entidad": 18,
          "estrato_socioeconomico": 2,
          "estrato_socioeconomico_nom": "Medio Bajo",
          "estratos": "2) Medio Bajo",
          "nom_entidad": "Nayarit",
          "tono_de_color_de_piel": 6
         },
         {
          "abr_estado": "Sin.",
          "cuenta": 155,
          "entidad": 25,
          "estrato_socioeconomico": 2,
          "estrato_socioeconomico_nom": "Medio Bajo",
          "estratos": "2) Medio Bajo",
          "nom_entidad": "Sinaloa",
          "tono_de_color_de_piel": 8
         },
         {
          "abr_estado": "Mich.",
          "cuenta": 2,
          "entidad": 16,
          "estrato_socioeconomico": 2,
          "estrato_socioeconomico_nom": "Medio Bajo",
          "estratos": "2) Medio Bajo",
          "nom_entidad": "Michoacán de Ocampo",
          "tono_de_color_de_piel": 2
         },
         {
          "abr_estado": "Mich.",
          "cuenta": 6,
          "entidad": 16,
          "estrato_socioeconomico": 2,
          "estrato_socioeconomico_nom": "Medio Bajo",
          "estratos": "2) Medio Bajo",
          "nom_entidad": "Michoacán de Ocampo",
          "tono_de_color_de_piel": 3
         },
         {
          "abr_estado": "Mich.",
          "cuenta": 10,
          "entidad": 16,
          "estrato_socioeconomico": 2,
          "estrato_socioeconomico_nom": "Medio Bajo",
          "estratos": "2) Medio Bajo",
          "nom_entidad": "Michoacán de Ocampo",
          "tono_de_color_de_piel": 5
         },
         {
          "abr_estado": "Mich.",
          "cuenta": 13,
          "entidad": 16,
          "estrato_socioeconomico": 2,
          "estrato_socioeconomico_nom": "Medio Bajo",
          "estratos": "2) Medio Bajo",
          "nom_entidad": "Michoacán de Ocampo",
          "tono_de_color_de_piel": 4
         },
         {
          "abr_estado": "Mich.",
          "cuenta": 18,
          "entidad": 16,
          "estrato_socioeconomico": 2,
          "estrato_socioeconomico_nom": "Medio Bajo",
          "estratos": "2) Medio Bajo",
          "nom_entidad": "Michoacán de Ocampo",
          "tono_de_color_de_piel": 11
         },
         {
          "abr_estado": "Mich.",
          "cuenta": 19,
          "entidad": 16,
          "estrato_socioeconomico": 2,
          "estrato_socioeconomico_nom": "Medio Bajo",
          "estratos": "2) Medio Bajo",
          "nom_entidad": "Michoacán de Ocampo",
          "tono_de_color_de_piel": 9
         },
         {
          "abr_estado": "Yuc.",
          "cuenta": 44,
          "entidad": 31,
          "estrato_socioeconomico": 2,
          "estrato_socioeconomico_nom": "Medio Bajo",
          "estratos": "2) Medio Bajo",
          "nom_entidad": "Yucatán",
          "tono_de_color_de_piel": 6
         },
         {
          "abr_estado": "Mich.",
          "cuenta": 36,
          "entidad": 16,
          "estrato_socioeconomico": 2,
          "estrato_socioeconomico_nom": "Medio Bajo",
          "estratos": "2) Medio Bajo",
          "nom_entidad": "Michoacán de Ocampo",
          "tono_de_color_de_piel": 10
         },
         {
          "abr_estado": "Mich.",
          "cuenta": 159,
          "entidad": 16,
          "estrato_socioeconomico": 2,
          "estrato_socioeconomico_nom": "Medio Bajo",
          "estratos": "2) Medio Bajo",
          "nom_entidad": "Michoacán de Ocampo",
          "tono_de_color_de_piel": 7
         },
         {
          "abr_estado": "Mich.",
          "cuenta": 202,
          "entidad": 16,
          "estrato_socioeconomico": 2,
          "estrato_socioeconomico_nom": "Medio Bajo",
          "estratos": "2) Medio Bajo",
          "nom_entidad": "Michoacán de Ocampo",
          "tono_de_color_de_piel": 8
         },
         {
          "abr_estado": "Yuc.",
          "cuenta": 7,
          "entidad": 31,
          "estrato_socioeconomico": 2,
          "estrato_socioeconomico_nom": "Medio Bajo",
          "estratos": "2) Medio Bajo",
          "nom_entidad": "Yucatán",
          "tono_de_color_de_piel": 5
         },
         {
          "abr_estado": "Yuc.",
          "cuenta": 6,
          "entidad": 31,
          "estrato_socioeconomico": 2,
          "estrato_socioeconomico_nom": "Medio Bajo",
          "estratos": "2) Medio Bajo",
          "nom_entidad": "Yucatán",
          "tono_de_color_de_piel": 11
         },
         {
          "abr_estado": "Yuc.",
          "cuenta": 2,
          "entidad": 31,
          "estrato_socioeconomico": 2,
          "estrato_socioeconomico_nom": "Medio Bajo",
          "estratos": "2) Medio Bajo",
          "nom_entidad": "Yucatán",
          "tono_de_color_de_piel": 3
         },
         {
          "abr_estado": "Yuc.",
          "cuenta": 1,
          "entidad": 31,
          "estrato_socioeconomico": 2,
          "estrato_socioeconomico_nom": "Medio Bajo",
          "estratos": "2) Medio Bajo",
          "nom_entidad": "Yucatán",
          "tono_de_color_de_piel": 2
         },
         {
          "abr_estado": "Sin.",
          "cuenta": 134,
          "entidad": 25,
          "estrato_socioeconomico": 2,
          "estrato_socioeconomico_nom": "Medio Bajo",
          "estratos": "2) Medio Bajo",
          "nom_entidad": "Sinaloa",
          "tono_de_color_de_piel": 7
         },
         {
          "abr_estado": "Sin.",
          "cuenta": 68,
          "entidad": 25,
          "estrato_socioeconomico": 2,
          "estrato_socioeconomico_nom": "Medio Bajo",
          "estratos": "2) Medio Bajo",
          "nom_entidad": "Sinaloa",
          "tono_de_color_de_piel": 6
         },
         {
          "abr_estado": "Sin.",
          "cuenta": 26,
          "entidad": 25,
          "estrato_socioeconomico": 2,
          "estrato_socioeconomico_nom": "Medio Bajo",
          "estratos": "2) Medio Bajo",
          "nom_entidad": "Sinaloa",
          "tono_de_color_de_piel": 10
         },
         {
          "abr_estado": "Sin.",
          "cuenta": 24,
          "entidad": 25,
          "estrato_socioeconomico": 2,
          "estrato_socioeconomico_nom": "Medio Bajo",
          "estratos": "2) Medio Bajo",
          "nom_entidad": "Sinaloa",
          "tono_de_color_de_piel": 9
         },
         {
          "abr_estado": "Mich.",
          "cuenta": 56,
          "entidad": 16,
          "estrato_socioeconomico": 2,
          "estrato_socioeconomico_nom": "Medio Bajo",
          "estratos": "2) Medio Bajo",
          "nom_entidad": "Michoacán de Ocampo",
          "tono_de_color_de_piel": 6
         },
         {
          "abr_estado": "Nay.",
          "cuenta": 19,
          "entidad": 18,
          "estrato_socioeconomico": 2,
          "estrato_socioeconomico_nom": "Medio Bajo",
          "estratos": "2) Medio Bajo",
          "nom_entidad": "Nayarit",
          "tono_de_color_de_piel": 11
         },
         {
          "abr_estado": "SLP",
          "cuenta": 5,
          "entidad": 24,
          "estrato_socioeconomico": 2,
          "estrato_socioeconomico_nom": "Medio Bajo",
          "estratos": "2) Medio Bajo",
          "nom_entidad": "San Luis Potosí",
          "tono_de_color_de_piel": 5
         },
         {
          "abr_estado": "Nay.",
          "cuenta": 14,
          "entidad": 18,
          "estrato_socioeconomico": 2,
          "estrato_socioeconomico_nom": "Medio Bajo",
          "estratos": "2) Medio Bajo",
          "nom_entidad": "Nayarit",
          "tono_de_color_de_piel": 5
         },
         {
          "abr_estado": "Pue.",
          "cuenta": 2,
          "entidad": 21,
          "estrato_socioeconomico": 2,
          "estrato_socioeconomico_nom": "Medio Bajo",
          "estratos": "2) Medio Bajo",
          "nom_entidad": "Puebla",
          "tono_de_color_de_piel": 11
         },
         {
          "abr_estado": "Pue.",
          "cuenta": 4,
          "entidad": 21,
          "estrato_socioeconomico": 2,
          "estrato_socioeconomico_nom": "Medio Bajo",
          "estratos": "2) Medio Bajo",
          "nom_entidad": "Puebla",
          "tono_de_color_de_piel": 3
         },
         {
          "abr_estado": "Pue.",
          "cuenta": 7,
          "entidad": 21,
          "estrato_socioeconomico": 2,
          "estrato_socioeconomico_nom": "Medio Bajo",
          "estratos": "2) Medio Bajo",
          "nom_entidad": "Puebla",
          "tono_de_color_de_piel": 9
         },
         {
          "abr_estado": "Pue.",
          "cuenta": 14,
          "entidad": 21,
          "estrato_socioeconomico": 2,
          "estrato_socioeconomico_nom": "Medio Bajo",
          "estratos": "2) Medio Bajo",
          "nom_entidad": "Puebla",
          "tono_de_color_de_piel": 4
         },
         {
          "abr_estado": "Pue.",
          "cuenta": 16,
          "entidad": 21,
          "estrato_socioeconomico": 2,
          "estrato_socioeconomico_nom": "Medio Bajo",
          "estratos": "2) Medio Bajo",
          "nom_entidad": "Puebla",
          "tono_de_color_de_piel": 10
         },
         {
          "abr_estado": "Pue.",
          "cuenta": 20,
          "entidad": 21,
          "estrato_socioeconomico": 2,
          "estrato_socioeconomico_nom": "Medio Bajo",
          "estratos": "2) Medio Bajo",
          "nom_entidad": "Puebla",
          "tono_de_color_de_piel": 5
         },
         {
          "abr_estado": "Pue.",
          "cuenta": 57,
          "entidad": 21,
          "estrato_socioeconomico": 2,
          "estrato_socioeconomico_nom": "Medio Bajo",
          "estratos": "2) Medio Bajo",
          "nom_entidad": "Puebla",
          "tono_de_color_de_piel": 6
         },
         {
          "abr_estado": "Pue.",
          "cuenta": 135,
          "entidad": 21,
          "estrato_socioeconomico": 2,
          "estrato_socioeconomico_nom": "Medio Bajo",
          "estratos": "2) Medio Bajo",
          "nom_entidad": "Puebla",
          "tono_de_color_de_piel": 7
         },
         {
          "abr_estado": "Pue.",
          "cuenta": 140,
          "entidad": 21,
          "estrato_socioeconomico": 2,
          "estrato_socioeconomico_nom": "Medio Bajo",
          "estratos": "2) Medio Bajo",
          "nom_entidad": "Puebla",
          "tono_de_color_de_piel": 8
         },
         {
          "abr_estado": "Pue.",
          "cuenta": 1,
          "entidad": 21,
          "estrato_socioeconomico": 2,
          "estrato_socioeconomico_nom": "Medio Bajo",
          "estratos": "2) Medio Bajo",
          "nom_entidad": "Puebla",
          "tono_de_color_de_piel": 2
         },
         {
          "abr_estado": "Tamps.",
          "cuenta": 125,
          "entidad": 28,
          "estrato_socioeconomico": 2,
          "estrato_socioeconomico_nom": "Medio Bajo",
          "estratos": "2) Medio Bajo",
          "nom_entidad": "Tamaulipas",
          "tono_de_color_de_piel": 7
         },
         {
          "abr_estado": "Tamps.",
          "cuenta": 23,
          "entidad": 28,
          "estrato_socioeconomico": 2,
          "estrato_socioeconomico_nom": "Medio Bajo",
          "estratos": "2) Medio Bajo",
          "nom_entidad": "Tamaulipas",
          "tono_de_color_de_piel": 4
         },
         {
          "abr_estado": "Tamps.",
          "cuenta": 21,
          "entidad": 28,
          "estrato_socioeconomico": 2,
          "estrato_socioeconomico_nom": "Medio Bajo",
          "estratos": "2) Medio Bajo",
          "nom_entidad": "Tamaulipas",
          "tono_de_color_de_piel": 10
         },
         {
          "abr_estado": "Tamps.",
          "cuenta": 17,
          "entidad": 28,
          "estrato_socioeconomico": 2,
          "estrato_socioeconomico_nom": "Medio Bajo",
          "estratos": "2) Medio Bajo",
          "nom_entidad": "Tamaulipas",
          "tono_de_color_de_piel": 5
         },
         {
          "abr_estado": "Tamps.",
          "cuenta": 15,
          "entidad": 28,
          "estrato_socioeconomico": 2,
          "estrato_socioeconomico_nom": "Medio Bajo",
          "estratos": "2) Medio Bajo",
          "nom_entidad": "Tamaulipas",
          "tono_de_color_de_piel": 9
         },
         {
          "abr_estado": "Tamps.",
          "cuenta": 9,
          "entidad": 28,
          "estrato_socioeconomico": 2,
          "estrato_socioeconomico_nom": "Medio Bajo",
          "estratos": "2) Medio Bajo",
          "nom_entidad": "Tamaulipas",
          "tono_de_color_de_piel": 3
         },
         {
          "abr_estado": "Q. Roo",
          "cuenta": 13,
          "entidad": 23,
          "estrato_socioeconomico": 2,
          "estrato_socioeconomico_nom": "Medio Bajo",
          "estratos": "2) Medio Bajo",
          "nom_entidad": "Quintana Roo",
          "tono_de_color_de_piel": 10
         },
         {
          "abr_estado": "Q. Roo",
          "cuenta": 7,
          "entidad": 23,
          "estrato_socioeconomico": 2,
          "estrato_socioeconomico_nom": "Medio Bajo",
          "estratos": "2) Medio Bajo",
          "nom_entidad": "Quintana Roo",
          "tono_de_color_de_piel": 11
         },
         {
          "abr_estado": "Q. Roo",
          "cuenta": 1,
          "entidad": 23,
          "estrato_socioeconomico": 2,
          "estrato_socioeconomico_nom": "Medio Bajo",
          "estratos": "2) Medio Bajo",
          "nom_entidad": "Quintana Roo",
          "tono_de_color_de_piel": 1
         },
         {
          "abr_estado": "Tab.",
          "cuenta": 82,
          "entidad": 27,
          "estrato_socioeconomico": 2,
          "estrato_socioeconomico_nom": "Medio Bajo",
          "estratos": "2) Medio Bajo",
          "nom_entidad": "Tabasco",
          "tono_de_color_de_piel": 6
         },
         {
          "abr_estado": "Tamps.",
          "cuenta": 55,
          "entidad": 28,
          "estrato_socioeconomico": 2,
          "estrato_socioeconomico_nom": "Medio Bajo",
          "estratos": "2) Medio Bajo",
          "nom_entidad": "Tamaulipas",
          "tono_de_color_de_piel": 6
         },
         {
          "abr_estado": "Tamps.",
          "cuenta": 131,
          "entidad": 28,
          "estrato_socioeconomico": 2,
          "estrato_socioeconomico_nom": "Medio Bajo",
          "estratos": "2) Medio Bajo",
          "nom_entidad": "Tamaulipas",
          "tono_de_color_de_piel": 8
         },
         {
          "abr_estado": "Q. Roo",
          "cuenta": 13,
          "entidad": 23,
          "estrato_socioeconomico": 2,
          "estrato_socioeconomico_nom": "Medio Bajo",
          "estratos": "2) Medio Bajo",
          "nom_entidad": "Quintana Roo",
          "tono_de_color_de_piel": 3
         },
         {
          "abr_estado": "Q. Roo",
          "cuenta": 20,
          "entidad": 23,
          "estrato_socioeconomico": 2,
          "estrato_socioeconomico_nom": "Medio Bajo",
          "estratos": "2) Medio Bajo",
          "nom_entidad": "Quintana Roo",
          "tono_de_color_de_piel": 9
         },
         {
          "abr_estado": "Q. Roo",
          "cuenta": 116,
          "entidad": 23,
          "estrato_socioeconomico": 2,
          "estrato_socioeconomico_nom": "Medio Bajo",
          "estratos": "2) Medio Bajo",
          "nom_entidad": "Quintana Roo",
          "tono_de_color_de_piel": 8
         },
         {
          "abr_estado": "Q. Roo",
          "cuenta": 189,
          "entidad": 23,
          "estrato_socioeconomico": 2,
          "estrato_socioeconomico_nom": "Medio Bajo",
          "estratos": "2) Medio Bajo",
          "nom_entidad": "Quintana Roo",
          "tono_de_color_de_piel": 7
         },
         {
          "abr_estado": "Tab.",
          "cuenta": 26,
          "entidad": 27,
          "estrato_socioeconomico": 2,
          "estrato_socioeconomico_nom": "Medio Bajo",
          "estratos": "2) Medio Bajo",
          "nom_entidad": "Tabasco",
          "tono_de_color_de_piel": 10
         },
         {
          "abr_estado": "Tab.",
          "cuenta": 20,
          "entidad": 27,
          "estrato_socioeconomico": 2,
          "estrato_socioeconomico_nom": "Medio Bajo",
          "estratos": "2) Medio Bajo",
          "nom_entidad": "Tabasco",
          "tono_de_color_de_piel": 9
         },
         {
          "abr_estado": "Tab.",
          "cuenta": 10,
          "entidad": 27,
          "estrato_socioeconomico": 2,
          "estrato_socioeconomico_nom": "Medio Bajo",
          "estratos": "2) Medio Bajo",
          "nom_entidad": "Tabasco",
          "tono_de_color_de_piel": 5
         },
         {
          "abr_estado": "Tab.",
          "cuenta": 7,
          "entidad": 27,
          "estrato_socioeconomico": 2,
          "estrato_socioeconomico_nom": "Medio Bajo",
          "estratos": "2) Medio Bajo",
          "nom_entidad": "Tabasco",
          "tono_de_color_de_piel": 11
         },
         {
          "abr_estado": "Tab.",
          "cuenta": 5,
          "entidad": 27,
          "estrato_socioeconomico": 2,
          "estrato_socioeconomico_nom": "Medio Bajo",
          "estratos": "2) Medio Bajo",
          "nom_entidad": "Tabasco",
          "tono_de_color_de_piel": 4
         },
         {
          "abr_estado": "Tab.",
          "cuenta": 2,
          "entidad": 27,
          "estrato_socioeconomico": 2,
          "estrato_socioeconomico_nom": "Medio Bajo",
          "estratos": "2) Medio Bajo",
          "nom_entidad": "Tabasco",
          "tono_de_color_de_piel": 2
         },
         {
          "abr_estado": "Tab.",
          "cuenta": 1,
          "entidad": 27,
          "estrato_socioeconomico": 2,
          "estrato_socioeconomico_nom": "Medio Bajo",
          "estratos": "2) Medio Bajo",
          "nom_entidad": "Tabasco",
          "tono_de_color_de_piel": 1
         },
         {
          "abr_estado": "Tab.",
          "cuenta": 1,
          "entidad": 27,
          "estrato_socioeconomico": 2,
          "estrato_socioeconomico_nom": "Medio Bajo",
          "estratos": "2) Medio Bajo",
          "nom_entidad": "Tabasco",
          "tono_de_color_de_piel": 3
         },
         {
          "abr_estado": "Q. Roo",
          "cuenta": 32,
          "entidad": 23,
          "estrato_socioeconomico": 2,
          "estrato_socioeconomico_nom": "Medio Bajo",
          "estratos": "2) Medio Bajo",
          "nom_entidad": "Quintana Roo",
          "tono_de_color_de_piel": 5
         },
         {
          "abr_estado": "Qro.",
          "cuenta": 2,
          "entidad": 22,
          "estrato_socioeconomico": 2,
          "estrato_socioeconomico_nom": "Medio Bajo",
          "estratos": "2) Medio Bajo",
          "nom_entidad": "Querétaro",
          "tono_de_color_de_piel": 3
         },
         {
          "abr_estado": "Qro.",
          "cuenta": 2,
          "entidad": 22,
          "estrato_socioeconomico": 2,
          "estrato_socioeconomico_nom": "Medio Bajo",
          "estratos": "2) Medio Bajo",
          "nom_entidad": "Querétaro",
          "tono_de_color_de_piel": 2
         },
         {
          "abr_estado": "Qro.",
          "cuenta": 7,
          "entidad": 22,
          "estrato_socioeconomico": 2,
          "estrato_socioeconomico_nom": "Medio Bajo",
          "estratos": "2) Medio Bajo",
          "nom_entidad": "Querétaro",
          "tono_de_color_de_piel": 11
         },
         {
          "abr_estado": "Qro.",
          "cuenta": 9,
          "entidad": 22,
          "estrato_socioeconomico": 2,
          "estrato_socioeconomico_nom": "Medio Bajo",
          "estratos": "2) Medio Bajo",
          "nom_entidad": "Querétaro",
          "tono_de_color_de_piel": 5
         },
         {
          "abr_estado": "Qro.",
          "cuenta": 11,
          "entidad": 22,
          "estrato_socioeconomico": 2,
          "estrato_socioeconomico_nom": "Medio Bajo",
          "estratos": "2) Medio Bajo",
          "nom_entidad": "Querétaro",
          "tono_de_color_de_piel": 4
         },
         {
          "abr_estado": "Qro.",
          "cuenta": 15,
          "entidad": 22,
          "estrato_socioeconomico": 2,
          "estrato_socioeconomico_nom": "Medio Bajo",
          "estratos": "2) Medio Bajo",
          "nom_entidad": "Querétaro",
          "tono_de_color_de_piel": 9
         },
         {
          "abr_estado": "Qro.",
          "cuenta": 21,
          "entidad": 22,
          "estrato_socioeconomico": 2,
          "estrato_socioeconomico_nom": "Medio Bajo",
          "estratos": "2) Medio Bajo",
          "nom_entidad": "Querétaro",
          "tono_de_color_de_piel": 10
         },
         {
          "abr_estado": "Qro.",
          "cuenta": 42,
          "entidad": 22,
          "estrato_socioeconomico": 2,
          "estrato_socioeconomico_nom": "Medio Bajo",
          "estratos": "2) Medio Bajo",
          "nom_entidad": "Querétaro",
          "tono_de_color_de_piel": 6
         },
         {
          "abr_estado": "Qro.",
          "cuenta": 128,
          "entidad": 22,
          "estrato_socioeconomico": 2,
          "estrato_socioeconomico_nom": "Medio Bajo",
          "estratos": "2) Medio Bajo",
          "nom_entidad": "Querétaro",
          "tono_de_color_de_piel": 7
         },
         {
          "abr_estado": "Qro.",
          "cuenta": 144,
          "entidad": 22,
          "estrato_socioeconomico": 2,
          "estrato_socioeconomico_nom": "Medio Bajo",
          "estratos": "2) Medio Bajo",
          "nom_entidad": "Querétaro",
          "tono_de_color_de_piel": 8
         },
         {
          "abr_estado": "Tab.",
          "cuenta": 166,
          "entidad": 27,
          "estrato_socioeconomico": 2,
          "estrato_socioeconomico_nom": "Medio Bajo",
          "estratos": "2) Medio Bajo",
          "nom_entidad": "Tabasco",
          "tono_de_color_de_piel": 7
         },
         {
          "abr_estado": "Tab.",
          "cuenta": 183,
          "entidad": 27,
          "estrato_socioeconomico": 2,
          "estrato_socioeconomico_nom": "Medio Bajo",
          "estratos": "2) Medio Bajo",
          "nom_entidad": "Tabasco",
          "tono_de_color_de_piel": 8
         },
         {
          "abr_estado": "Tamps.",
          "cuenta": 5,
          "entidad": 28,
          "estrato_socioeconomico": 2,
          "estrato_socioeconomico_nom": "Medio Bajo",
          "estratos": "2) Medio Bajo",
          "nom_entidad": "Tamaulipas",
          "tono_de_color_de_piel": 2
         },
         {
          "abr_estado": "Tamps.",
          "cuenta": 2,
          "entidad": 28,
          "estrato_socioeconomico": 2,
          "estrato_socioeconomico_nom": "Medio Bajo",
          "estratos": "2) Medio Bajo",
          "nom_entidad": "Tamaulipas",
          "tono_de_color_de_piel": 11
         },
         {
          "abr_estado": "Tlax.",
          "cuenta": 5,
          "entidad": 29,
          "estrato_socioeconomico": 2,
          "estrato_socioeconomico_nom": "Medio Bajo",
          "estratos": "2) Medio Bajo",
          "nom_entidad": "Tlaxcala",
          "tono_de_color_de_piel": 3
         },
         {
          "abr_estado": "Tlax.",
          "cuenta": 4,
          "entidad": 29,
          "estrato_socioeconomico": 2,
          "estrato_socioeconomico_nom": "Medio Bajo",
          "estratos": "2) Medio Bajo",
          "nom_entidad": "Tlaxcala",
          "tono_de_color_de_piel": 2
         },
         {
          "abr_estado": "Tlax.",
          "cuenta": 1,
          "entidad": 29,
          "estrato_socioeconomico": 2,
          "estrato_socioeconomico_nom": "Medio Bajo",
          "estratos": "2) Medio Bajo",
          "nom_entidad": "Tlaxcala",
          "tono_de_color_de_piel": 1
         },
         {
          "abr_estado": "SLP",
          "cuenta": 85,
          "entidad": 24,
          "estrato_socioeconomico": 2,
          "estrato_socioeconomico_nom": "Medio Bajo",
          "estratos": "2) Medio Bajo",
          "nom_entidad": "San Luis Potosí",
          "tono_de_color_de_piel": 8
         },
         {
          "abr_estado": "SLP",
          "cuenta": 70,
          "entidad": 24,
          "estrato_socioeconomico": 2,
          "estrato_socioeconomico_nom": "Medio Bajo",
          "estratos": "2) Medio Bajo",
          "nom_entidad": "San Luis Potosí",
          "tono_de_color_de_piel": 7
         },
         {
          "abr_estado": "SLP",
          "cuenta": 40,
          "entidad": 24,
          "estrato_socioeconomico": 2,
          "estrato_socioeconomico_nom": "Medio Bajo",
          "estratos": "2) Medio Bajo",
          "nom_entidad": "San Luis Potosí",
          "tono_de_color_de_piel": 6
         },
         {
          "abr_estado": "SLP",
          "cuenta": 18,
          "entidad": 24,
          "estrato_socioeconomico": 2,
          "estrato_socioeconomico_nom": "Medio Bajo",
          "estratos": "2) Medio Bajo",
          "nom_entidad": "San Luis Potosí",
          "tono_de_color_de_piel": 10
         },
         {
          "abr_estado": "NL",
          "cuenta": 21,
          "entidad": 19,
          "estrato_socioeconomico": 2,
          "estrato_socioeconomico_nom": "Medio Bajo",
          "estratos": "2) Medio Bajo",
          "nom_entidad": "Nuevo León",
          "tono_de_color_de_piel": 10
         },
         {
          "abr_estado": "NL",
          "cuenta": 36,
          "entidad": 19,
          "estrato_socioeconomico": 2,
          "estrato_socioeconomico_nom": "Medio Bajo",
          "estratos": "2) Medio Bajo",
          "nom_entidad": "Nuevo León",
          "tono_de_color_de_piel": 6
         },
         {
          "abr_estado": "NL",
          "cuenta": 94,
          "entidad": 19,
          "estrato_socioeconomico": 2,
          "estrato_socioeconomico_nom": "Medio Bajo",
          "estratos": "2) Medio Bajo",
          "nom_entidad": "Nuevo León",
          "tono_de_color_de_piel": 7
         },
         {
          "abr_estado": "NL",
          "cuenta": 127,
          "entidad": 19,
          "estrato_socioeconomico": 2,
          "estrato_socioeconomico_nom": "Medio Bajo",
          "estratos": "2) Medio Bajo",
          "nom_entidad": "Nuevo León",
          "tono_de_color_de_piel": 8
         },
         {
          "abr_estado": "SLP",
          "cuenta": 9,
          "entidad": 24,
          "estrato_socioeconomico": 2,
          "estrato_socioeconomico_nom": "Medio Bajo",
          "estratos": "2) Medio Bajo",
          "nom_entidad": "San Luis Potosí",
          "tono_de_color_de_piel": 9
         },
         {
          "abr_estado": "SLP",
          "cuenta": 7,
          "entidad": 24,
          "estrato_socioeconomico": 2,
          "estrato_socioeconomico_nom": "Medio Bajo",
          "estratos": "2) Medio Bajo",
          "nom_entidad": "San Luis Potosí",
          "tono_de_color_de_piel": 3
         },
         {
          "abr_estado": "SLP",
          "cuenta": 6,
          "entidad": 24,
          "estrato_socioeconomico": 2,
          "estrato_socioeconomico_nom": "Medio Bajo",
          "estratos": "2) Medio Bajo",
          "nom_entidad": "San Luis Potosí",
          "tono_de_color_de_piel": 4
         },
         {
          "abr_estado": "Q. Roo",
          "cuenta": 39,
          "entidad": 23,
          "estrato_socioeconomico": 2,
          "estrato_socioeconomico_nom": "Medio Bajo",
          "estratos": "2) Medio Bajo",
          "nom_entidad": "Quintana Roo",
          "tono_de_color_de_piel": 4
         },
         {
          "abr_estado": "Son.",
          "cuenta": 1,
          "entidad": 26,
          "estrato_socioeconomico": 2,
          "estrato_socioeconomico_nom": "Medio Bajo",
          "estratos": "2) Medio Bajo",
          "nom_entidad": "Sonora",
          "tono_de_color_de_piel": 1
         },
         {
          "abr_estado": "Son.",
          "cuenta": 3,
          "entidad": 26,
          "estrato_socioeconomico": 2,
          "estrato_socioeconomico_nom": "Medio Bajo",
          "estratos": "2) Medio Bajo",
          "nom_entidad": "Sonora",
          "tono_de_color_de_piel": 5
         },
         {
          "abr_estado": "Nay.",
          "cuenta": 1,
          "entidad": 18,
          "estrato_socioeconomico": 2,
          "estrato_socioeconomico_nom": "Medio Bajo",
          "estratos": "2) Medio Bajo",
          "nom_entidad": "Nayarit",
          "tono_de_color_de_piel": 2
         },
         {
          "abr_estado": "Nay.",
          "cuenta": 4,
          "entidad": 18,
          "estrato_socioeconomico": 2,
          "estrato_socioeconomico_nom": "Medio Bajo",
          "estratos": "2) Medio Bajo",
          "nom_entidad": "Nayarit",
          "tono_de_color_de_piel": 3
         },
         {
          "abr_estado": "Nay.",
          "cuenta": 8,
          "entidad": 18,
          "estrato_socioeconomico": 2,
          "estrato_socioeconomico_nom": "Medio Bajo",
          "estratos": "2) Medio Bajo",
          "nom_entidad": "Nayarit",
          "tono_de_color_de_piel": 4
         },
         {
          "abr_estado": "Nay.",
          "cuenta": 11,
          "entidad": 18,
          "estrato_socioeconomico": 2,
          "estrato_socioeconomico_nom": "Medio Bajo",
          "estratos": "2) Medio Bajo",
          "nom_entidad": "Nayarit",
          "tono_de_color_de_piel": 9
         },
         {
          "abr_estado": "NL",
          "cuenta": 14,
          "entidad": 19,
          "estrato_socioeconomico": 2,
          "estrato_socioeconomico_nom": "Medio Bajo",
          "estratos": "2) Medio Bajo",
          "nom_entidad": "Nuevo León",
          "tono_de_color_de_piel": 4
         },
         {
          "abr_estado": "Nay.",
          "cuenta": 16,
          "entidad": 18,
          "estrato_socioeconomico": 2,
          "estrato_socioeconomico_nom": "Medio Bajo",
          "estratos": "2) Medio Bajo",
          "nom_entidad": "Nayarit",
          "tono_de_color_de_piel": 10
         },
         {
          "abr_estado": "NL",
          "cuenta": 13,
          "entidad": 19,
          "estrato_socioeconomico": 2,
          "estrato_socioeconomico_nom": "Medio Bajo",
          "estratos": "2) Medio Bajo",
          "nom_entidad": "Nuevo León",
          "tono_de_color_de_piel": 9
         },
         {
          "abr_estado": "NL",
          "cuenta": 5,
          "entidad": 19,
          "estrato_socioeconomico": 2,
          "estrato_socioeconomico_nom": "Medio Bajo",
          "estratos": "2) Medio Bajo",
          "nom_entidad": "Nuevo León",
          "tono_de_color_de_piel": 3
         },
         {
          "abr_estado": "Tamps.",
          "cuenta": 1,
          "entidad": 28,
          "estrato_socioeconomico": 2,
          "estrato_socioeconomico_nom": "Medio Bajo",
          "estratos": "2) Medio Bajo",
          "nom_entidad": "Tamaulipas",
          "tono_de_color_de_piel": 1
         },
         {
          "abr_estado": "Oax.",
          "cuenta": 5,
          "entidad": 20,
          "estrato_socioeconomico": 2,
          "estrato_socioeconomico_nom": "Medio Bajo",
          "estratos": "2) Medio Bajo",
          "nom_entidad": "Oaxaca",
          "tono_de_color_de_piel": 11
         },
         {
          "abr_estado": "Oax.",
          "cuenta": 5,
          "entidad": 20,
          "estrato_socioeconomico": 2,
          "estrato_socioeconomico_nom": "Medio Bajo",
          "estratos": "2) Medio Bajo",
          "nom_entidad": "Oaxaca",
          "tono_de_color_de_piel": 3
         },
         {
          "abr_estado": "Oax.",
          "cuenta": 7,
          "entidad": 20,
          "estrato_socioeconomico": 2,
          "estrato_socioeconomico_nom": "Medio Bajo",
          "estratos": "2) Medio Bajo",
          "nom_entidad": "Oaxaca",
          "tono_de_color_de_piel": 9
         },
         {
          "abr_estado": "Oax.",
          "cuenta": 10,
          "entidad": 20,
          "estrato_socioeconomico": 2,
          "estrato_socioeconomico_nom": "Medio Bajo",
          "estratos": "2) Medio Bajo",
          "nom_entidad": "Oaxaca",
          "tono_de_color_de_piel": 5
         },
         {
          "abr_estado": "Oax.",
          "cuenta": 12,
          "entidad": 20,
          "estrato_socioeconomico": 2,
          "estrato_socioeconomico_nom": "Medio Bajo",
          "estratos": "2) Medio Bajo",
          "nom_entidad": "Oaxaca",
          "tono_de_color_de_piel": 10
         },
         {
          "abr_estado": "Oax.",
          "cuenta": 25,
          "entidad": 20,
          "estrato_socioeconomico": 2,
          "estrato_socioeconomico_nom": "Medio Bajo",
          "estratos": "2) Medio Bajo",
          "nom_entidad": "Oaxaca",
          "tono_de_color_de_piel": 4
         },
         {
          "abr_estado": "Oax.",
          "cuenta": 53,
          "entidad": 20,
          "estrato_socioeconomico": 2,
          "estrato_socioeconomico_nom": "Medio Bajo",
          "estratos": "2) Medio Bajo",
          "nom_entidad": "Oaxaca",
          "tono_de_color_de_piel": 6
         },
         {
          "abr_estado": "Oax.",
          "cuenta": 65,
          "entidad": 20,
          "estrato_socioeconomico": 2,
          "estrato_socioeconomico_nom": "Medio Bajo",
          "estratos": "2) Medio Bajo",
          "nom_entidad": "Oaxaca",
          "tono_de_color_de_piel": 8
         },
         {
          "abr_estado": "Oax.",
          "cuenta": 119,
          "entidad": 20,
          "estrato_socioeconomico": 2,
          "estrato_socioeconomico_nom": "Medio Bajo",
          "estratos": "2) Medio Bajo",
          "nom_entidad": "Oaxaca",
          "tono_de_color_de_piel": 7
         },
         {
          "abr_estado": "Tlax.",
          "cuenta": 284,
          "entidad": 29,
          "estrato_socioeconomico": 2,
          "estrato_socioeconomico_nom": "Medio Bajo",
          "estratos": "2) Medio Bajo",
          "nom_entidad": "Tlaxcala",
          "tono_de_color_de_piel": 8
         },
         {
          "abr_estado": "Tlax.",
          "cuenta": 216,
          "entidad": 29,
          "estrato_socioeconomico": 2,
          "estrato_socioeconomico_nom": "Medio Bajo",
          "estratos": "2) Medio Bajo",
          "nom_entidad": "Tlaxcala",
          "tono_de_color_de_piel": 7
         },
         {
          "abr_estado": "Tlax.",
          "cuenta": 107,
          "entidad": 29,
          "estrato_socioeconomico": 2,
          "estrato_socioeconomico_nom": "Medio Bajo",
          "estratos": "2) Medio Bajo",
          "nom_entidad": "Tlaxcala",
          "tono_de_color_de_piel": 6
         },
         {
          "abr_estado": "Tlax.",
          "cuenta": 31,
          "entidad": 29,
          "estrato_socioeconomico": 2,
          "estrato_socioeconomico_nom": "Medio Bajo",
          "estratos": "2) Medio Bajo",
          "nom_entidad": "Tlaxcala",
          "tono_de_color_de_piel": 10
         },
         {
          "abr_estado": "Tlax.",
          "cuenta": 20,
          "entidad": 29,
          "estrato_socioeconomico": 2,
          "estrato_socioeconomico_nom": "Medio Bajo",
          "estratos": "2) Medio Bajo",
          "nom_entidad": "Tlaxcala",
          "tono_de_color_de_piel": 9
         },
         {
          "abr_estado": "Tlax.",
          "cuenta": 15,
          "entidad": 29,
          "estrato_socioeconomico": 2,
          "estrato_socioeconomico_nom": "Medio Bajo",
          "estratos": "2) Medio Bajo",
          "nom_entidad": "Tlaxcala",
          "tono_de_color_de_piel": 4
         },
         {
          "abr_estado": "Tlax.",
          "cuenta": 15,
          "entidad": 29,
          "estrato_socioeconomico": 2,
          "estrato_socioeconomico_nom": "Medio Bajo",
          "estratos": "2) Medio Bajo",
          "nom_entidad": "Tlaxcala",
          "tono_de_color_de_piel": 5
         },
         {
          "abr_estado": "Tlax.",
          "cuenta": 6,
          "entidad": 29,
          "estrato_socioeconomico": 2,
          "estrato_socioeconomico_nom": "Medio Bajo",
          "estratos": "2) Medio Bajo",
          "nom_entidad": "Tlaxcala",
          "tono_de_color_de_piel": 11
         },
         {
          "abr_estado": "NL",
          "cuenta": 1,
          "entidad": 19,
          "estrato_socioeconomico": 2,
          "estrato_socioeconomico_nom": "Medio Bajo",
          "estratos": "2) Medio Bajo",
          "nom_entidad": "Nuevo León",
          "tono_de_color_de_piel": 1
         },
         {
          "abr_estado": "NL",
          "cuenta": 3,
          "entidad": 19,
          "estrato_socioeconomico": 2,
          "estrato_socioeconomico_nom": "Medio Bajo",
          "estratos": "2) Medio Bajo",
          "nom_entidad": "Nuevo León",
          "tono_de_color_de_piel": 11
         },
         {
          "abr_estado": "NL",
          "cuenta": 3,
          "entidad": 19,
          "estrato_socioeconomico": 2,
          "estrato_socioeconomico_nom": "Medio Bajo",
          "estratos": "2) Medio Bajo",
          "nom_entidad": "Nuevo León",
          "tono_de_color_de_piel": 2
         },
         {
          "abr_estado": "NL",
          "cuenta": 11,
          "entidad": 19,
          "estrato_socioeconomico": 2,
          "estrato_socioeconomico_nom": "Medio Bajo",
          "estratos": "2) Medio Bajo",
          "nom_entidad": "Nuevo León",
          "tono_de_color_de_piel": 5
         },
         {
          "abr_estado": "Q. Roo",
          "cuenta": 1,
          "entidad": 23,
          "estrato_socioeconomico": 2,
          "estrato_socioeconomico_nom": "Medio Bajo",
          "estratos": "2) Medio Bajo",
          "nom_entidad": "Quintana Roo",
          "tono_de_color_de_piel": 2
         },
         {
          "abr_estado": "Ags.",
          "cuenta": 138,
          "entidad": 1,
          "estrato_socioeconomico": 2,
          "estrato_socioeconomico_nom": "Medio Bajo",
          "estratos": "2) Medio Bajo",
          "nom_entidad": "Aguascalientes",
          "tono_de_color_de_piel": 7
         },
         {
          "abr_estado": "Gro.",
          "cuenta": 1,
          "entidad": 12,
          "estrato_socioeconomico": 2,
          "estrato_socioeconomico_nom": "Medio Bajo",
          "estratos": "2) Medio Bajo",
          "nom_entidad": "Guerrero",
          "tono_de_color_de_piel": 1
         },
         {
          "abr_estado": "Chih.",
          "cuenta": 37,
          "entidad": 8,
          "estrato_socioeconomico": 2,
          "estrato_socioeconomico_nom": "Medio Bajo",
          "estratos": "2) Medio Bajo",
          "nom_entidad": "Chihuahua",
          "tono_de_color_de_piel": 6
         },
         {
          "abr_estado": "Chih.",
          "cuenta": 103,
          "entidad": 8,
          "estrato_socioeconomico": 2,
          "estrato_socioeconomico_nom": "Medio Bajo",
          "estratos": "2) Medio Bajo",
          "nom_entidad": "Chihuahua",
          "tono_de_color_de_piel": 7
         },
         {
          "abr_estado": "Chih.",
          "cuenta": 121,
          "entidad": 8,
          "estrato_socioeconomico": 2,
          "estrato_socioeconomico_nom": "Medio Bajo",
          "estratos": "2) Medio Bajo",
          "nom_entidad": "Chihuahua",
          "tono_de_color_de_piel": 8
         },
         {
          "abr_estado": "BCS",
          "cuenta": 8,
          "entidad": 3,
          "estrato_socioeconomico": 2,
          "estrato_socioeconomico_nom": "Medio Bajo",
          "estratos": "2) Medio Bajo",
          "nom_entidad": "Baja California Sur",
          "tono_de_color_de_piel": 4
         },
         {
          "abr_estado": "BCS",
          "cuenta": 6,
          "entidad": 3,
          "estrato_socioeconomico": 2,
          "estrato_socioeconomico_nom": "Medio Bajo",
          "estratos": "2) Medio Bajo",
          "nom_entidad": "Baja California Sur",
          "tono_de_color_de_piel": 3
         },
         {
          "abr_estado": "BCS",
          "cuenta": 3,
          "entidad": 3,
          "estrato_socioeconomico": 2,
          "estrato_socioeconomico_nom": "Medio Bajo",
          "estratos": "2) Medio Bajo",
          "nom_entidad": "Baja California Sur",
          "tono_de_color_de_piel": 2
         },
         {
          "abr_estado": "Gro.",
          "cuenta": 46,
          "entidad": 12,
          "estrato_socioeconomico": 2,
          "estrato_socioeconomico_nom": "Medio Bajo",
          "estratos": "2) Medio Bajo",
          "nom_entidad": "Guerrero",
          "tono_de_color_de_piel": 6
         },
         {
          "abr_estado": "Col.",
          "cuenta": 27,
          "entidad": 6,
          "estrato_socioeconomico": 2,
          "estrato_socioeconomico_nom": "Medio Bajo",
          "estratos": "2) Medio Bajo",
          "nom_entidad": "Colima",
          "tono_de_color_de_piel": 9
         },
         {
          "abr_estado": "Gro.",
          "cuenta": 57,
          "entidad": 12,
          "estrato_socioeconomico": 2,
          "estrato_socioeconomico_nom": "Medio Bajo",
          "estratos": "2) Medio Bajo",
          "nom_entidad": "Guerrero",
          "tono_de_color_de_piel": 8
         },
         {
          "abr_estado": "Col.",
          "cuenta": 23,
          "entidad": 6,
          "estrato_socioeconomico": 2,
          "estrato_socioeconomico_nom": "Medio Bajo",
          "estratos": "2) Medio Bajo",
          "nom_entidad": "Colima",
          "tono_de_color_de_piel": 10
         },
         {
          "abr_estado": "Col.",
          "cuenta": 21,
          "entidad": 6,
          "estrato_socioeconomico": 2,
          "estrato_socioeconomico_nom": "Medio Bajo",
          "estratos": "2) Medio Bajo",
          "nom_entidad": "Colima",
          "tono_de_color_de_piel": 5
         },
         {
          "abr_estado": "Col.",
          "cuenta": 15,
          "entidad": 6,
          "estrato_socioeconomico": 2,
          "estrato_socioeconomico_nom": "Medio Bajo",
          "estratos": "2) Medio Bajo",
          "nom_entidad": "Colima",
          "tono_de_color_de_piel": 4
         },
         {
          "abr_estado": "Col.",
          "cuenta": 11,
          "entidad": 6,
          "estrato_socioeconomico": 2,
          "estrato_socioeconomico_nom": "Medio Bajo",
          "estratos": "2) Medio Bajo",
          "nom_entidad": "Colima",
          "tono_de_color_de_piel": 11
         },
         {
          "abr_estado": "Col.",
          "cuenta": 4,
          "entidad": 6,
          "estrato_socioeconomico": 2,
          "estrato_socioeconomico_nom": "Medio Bajo",
          "estratos": "2) Medio Bajo",
          "nom_entidad": "Colima",
          "tono_de_color_de_piel": 3
         },
         {
          "abr_estado": "Col.",
          "cuenta": 1,
          "entidad": 6,
          "estrato_socioeconomico": 2,
          "estrato_socioeconomico_nom": "Medio Bajo",
          "estratos": "2) Medio Bajo",
          "nom_entidad": "Colima",
          "tono_de_color_de_piel": 1
         },
         {
          "abr_estado": "Gto.",
          "cuenta": 1,
          "entidad": 11,
          "estrato_socioeconomico": 2,
          "estrato_socioeconomico_nom": "Medio Bajo",
          "estratos": "2) Medio Bajo",
          "nom_entidad": "Guanajuato",
          "tono_de_color_de_piel": 1
         },
         {
          "abr_estado": "Gro.",
          "cuenta": 101,
          "entidad": 12,
          "estrato_socioeconomico": 2,
          "estrato_socioeconomico_nom": "Medio Bajo",
          "estratos": "2) Medio Bajo",
          "nom_entidad": "Guerrero",
          "tono_de_color_de_piel": 7
         },
         {
          "abr_estado": "Dgo.",
          "cuenta": 193,
          "entidad": 10,
          "estrato_socioeconomico": 2,
          "estrato_socioeconomico_nom": "Medio Bajo",
          "estratos": "2) Medio Bajo",
          "nom_entidad": "Durango",
          "tono_de_color_de_piel": 8
         },
         {
          "abr_estado": "Col.",
          "cuenta": 81,
          "entidad": 6,
          "estrato_socioeconomico": 2,
          "estrato_socioeconomico_nom": "Medio Bajo",
          "estratos": "2) Medio Bajo",
          "nom_entidad": "Colima",
          "tono_de_color_de_piel": 6
         },
         {
          "abr_estado": "Col.",
          "cuenta": 163,
          "entidad": 6,
          "estrato_socioeconomico": 2,
          "estrato_socioeconomico_nom": "Medio Bajo",
          "estratos": "2) Medio Bajo",
          "nom_entidad": "Colima",
          "tono_de_color_de_piel": 8
         },
         {
          "abr_estado": "CDMX",
          "cuenta": 1,
          "entidad": 9,
          "estrato_socioeconomico": 2,
          "estrato_socioeconomico_nom": "Medio Bajo",
          "estratos": "2) Medio Bajo",
          "nom_entidad": "Ciudad de México",
          "tono_de_color_de_piel": 2
         },
         {
          "abr_estado": "Chih.",
          "cuenta": 1,
          "entidad": 8,
          "estrato_socioeconomico": 2,
          "estrato_socioeconomico_nom": "Medio Bajo",
          "estratos": "2) Medio Bajo",
          "nom_entidad": "Chihuahua",
          "tono_de_color_de_piel": 3
         },
         {
          "abr_estado": "Chih.",
          "cuenta": 1,
          "entidad": 8,
          "estrato_socioeconomico": 2,
          "estrato_socioeconomico_nom": "Medio Bajo",
          "estratos": "2) Medio Bajo",
          "nom_entidad": "Chihuahua",
          "tono_de_color_de_piel": 2
         },
         {
          "abr_estado": "Chih.",
          "cuenta": 7,
          "entidad": 8,
          "estrato_socioeconomico": 2,
          "estrato_socioeconomico_nom": "Medio Bajo",
          "estratos": "2) Medio Bajo",
          "nom_entidad": "Chihuahua",
          "tono_de_color_de_piel": 4
         },
         {
          "abr_estado": "Chih.",
          "cuenta": 9,
          "entidad": 8,
          "estrato_socioeconomico": 2,
          "estrato_socioeconomico_nom": "Medio Bajo",
          "estratos": "2) Medio Bajo",
          "nom_entidad": "Chihuahua",
          "tono_de_color_de_piel": 5
         },
         {
          "abr_estado": "Chih.",
          "cuenta": 10,
          "entidad": 8,
          "estrato_socioeconomico": 2,
          "estrato_socioeconomico_nom": "Medio Bajo",
          "estratos": "2) Medio Bajo",
          "nom_entidad": "Chihuahua",
          "tono_de_color_de_piel": 11
         },
         {
          "abr_estado": "Gro.",
          "cuenta": 1,
          "entidad": 12,
          "estrato_socioeconomico": 2,
          "estrato_socioeconomico_nom": "Medio Bajo",
          "estratos": "2) Medio Bajo",
          "nom_entidad": "Guerrero",
          "tono_de_color_de_piel": 2
         },
         {
          "abr_estado": "Col.",
          "cuenta": 153,
          "entidad": 6,
          "estrato_socioeconomico": 2,
          "estrato_socioeconomico_nom": "Medio Bajo",
          "estratos": "2) Medio Bajo",
          "nom_entidad": "Colima",
          "tono_de_color_de_piel": 7
         },
         {
          "abr_estado": "Chis.",
          "cuenta": 2,
          "entidad": 7,
          "estrato_socioeconomico": 2,
          "estrato_socioeconomico_nom": "Medio Bajo",
          "estratos": "2) Medio Bajo",
          "nom_entidad": "Chiapas",
          "tono_de_color_de_piel": 1
         },
         {
          "abr_estado": "Gro.",
          "cuenta": 4,
          "entidad": 12,
          "estrato_socioeconomico": 2,
          "estrato_socioeconomico_nom": "Medio Bajo",
          "estratos": "2) Medio Bajo",
          "nom_entidad": "Guerrero",
          "tono_de_color_de_piel": 11
         },
         {
          "abr_estado": "Gro.",
          "cuenta": 9,
          "entidad": 12,
          "estrato_socioeconomico": 2,
          "estrato_socioeconomico_nom": "Medio Bajo",
          "estratos": "2) Medio Bajo",
          "nom_entidad": "Guerrero",
          "tono_de_color_de_piel": 10
         },
         {
          "abr_estado": "Gro.",
          "cuenta": 9,
          "entidad": 12,
          "estrato_socioeconomico": 2,
          "estrato_socioeconomico_nom": "Medio Bajo",
          "estratos": "2) Medio Bajo",
          "nom_entidad": "Guerrero",
          "tono_de_color_de_piel": 9
         },
         {
          "abr_estado": "Gro.",
          "cuenta": 9,
          "entidad": 12,
          "estrato_socioeconomico": 2,
          "estrato_socioeconomico_nom": "Medio Bajo",
          "estratos": "2) Medio Bajo",
          "nom_entidad": "Guerrero",
          "tono_de_color_de_piel": 5
         },
         {
          "abr_estado": "Gro.",
          "cuenta": 13,
          "entidad": 12,
          "estrato_socioeconomico": 2,
          "estrato_socioeconomico_nom": "Medio Bajo",
          "estratos": "2) Medio Bajo",
          "nom_entidad": "Guerrero",
          "tono_de_color_de_piel": 4
         },
         {
          "abr_estado": "Chih.",
          "cuenta": 13,
          "entidad": 8,
          "estrato_socioeconomico": 2,
          "estrato_socioeconomico_nom": "Medio Bajo",
          "estratos": "2) Medio Bajo",
          "nom_entidad": "Chihuahua",
          "tono_de_color_de_piel": 9
         },
         {
          "abr_estado": "Chih.",
          "cuenta": 22,
          "entidad": 8,
          "estrato_socioeconomico": 2,
          "estrato_socioeconomico_nom": "Medio Bajo",
          "estratos": "2) Medio Bajo",
          "nom_entidad": "Chihuahua",
          "tono_de_color_de_piel": 10
         },
         {
          "abr_estado": "Gro.",
          "cuenta": 3,
          "entidad": 12,
          "estrato_socioeconomico": 2,
          "estrato_socioeconomico_nom": "Medio Bajo",
          "estratos": "2) Medio Bajo",
          "nom_entidad": "Guerrero",
          "tono_de_color_de_piel": 3
         },
         {
          "abr_estado": "Dgo.",
          "cuenta": 149,
          "entidad": 10,
          "estrato_socioeconomico": 2,
          "estrato_socioeconomico_nom": "Medio Bajo",
          "estratos": "2) Medio Bajo",
          "nom_entidad": "Durango",
          "tono_de_color_de_piel": 7
         },
         {
          "abr_estado": "Dgo.",
          "cuenta": 47,
          "entidad": 10,
          "estrato_socioeconomico": 2,
          "estrato_socioeconomico_nom": "Medio Bajo",
          "estratos": "2) Medio Bajo",
          "nom_entidad": "Durango",
          "tono_de_color_de_piel": 6
         },
         {
          "abr_estado": "Dgo.",
          "cuenta": 17,
          "entidad": 10,
          "estrato_socioeconomico": 2,
          "estrato_socioeconomico_nom": "Medio Bajo",
          "estratos": "2) Medio Bajo",
          "nom_entidad": "Durango",
          "tono_de_color_de_piel": 10
         },
         {
          "abr_estado": "Chis.",
          "cuenta": 115,
          "entidad": 7,
          "estrato_socioeconomico": 2,
          "estrato_socioeconomico_nom": "Medio Bajo",
          "estratos": "2) Medio Bajo",
          "nom_entidad": "Chiapas",
          "tono_de_color_de_piel": 8
         },
         {
          "abr_estado": "Chis.",
          "cuenta": 101,
          "entidad": 7,
          "estrato_socioeconomico": 2,
          "estrato_socioeconomico_nom": "Medio Bajo",
          "estratos": "2) Medio Bajo",
          "nom_entidad": "Chiapas",
          "tono_de_color_de_piel": 7
         },
         {
          "abr_estado": "Chis.",
          "cuenta": 42,
          "entidad": 7,
          "estrato_socioeconomico": 2,
          "estrato_socioeconomico_nom": "Medio Bajo",
          "estratos": "2) Medio Bajo",
          "nom_entidad": "Chiapas",
          "tono_de_color_de_piel": 6
         },
         {
          "abr_estado": "Chis.",
          "cuenta": 17,
          "entidad": 7,
          "estrato_socioeconomico": 2,
          "estrato_socioeconomico_nom": "Medio Bajo",
          "estratos": "2) Medio Bajo",
          "nom_entidad": "Chiapas",
          "tono_de_color_de_piel": 10
         },
         {
          "abr_estado": "Chis.",
          "cuenta": 9,
          "entidad": 7,
          "estrato_socioeconomico": 2,
          "estrato_socioeconomico_nom": "Medio Bajo",
          "estratos": "2) Medio Bajo",
          "nom_entidad": "Chiapas",
          "tono_de_color_de_piel": 5
         },
         {
          "abr_estado": "Chis.",
          "cuenta": 9,
          "entidad": 7,
          "estrato_socioeconomico": 2,
          "estrato_socioeconomico_nom": "Medio Bajo",
          "estratos": "2) Medio Bajo",
          "nom_entidad": "Chiapas",
          "tono_de_color_de_piel": 9
         },
         {
          "abr_estado": "Chis.",
          "cuenta": 9,
          "entidad": 7,
          "estrato_socioeconomico": 2,
          "estrato_socioeconomico_nom": "Medio Bajo",
          "estratos": "2) Medio Bajo",
          "nom_entidad": "Chiapas",
          "tono_de_color_de_piel": 11
         },
         {
          "abr_estado": "BC",
          "cuenta": 58,
          "entidad": 2,
          "estrato_socioeconomico": 2,
          "estrato_socioeconomico_nom": "Medio Bajo",
          "estratos": "2) Medio Bajo",
          "nom_entidad": "Baja California",
          "tono_de_color_de_piel": 9
         },
         {
          "abr_estado": "Chis.",
          "cuenta": 7,
          "entidad": 7,
          "estrato_socioeconomico": 2,
          "estrato_socioeconomico_nom": "Medio Bajo",
          "estratos": "2) Medio Bajo",
          "nom_entidad": "Chiapas",
          "tono_de_color_de_piel": 4
         },
         {
          "abr_estado": "BC",
          "cuenta": 32,
          "entidad": 2,
          "estrato_socioeconomico": 2,
          "estrato_socioeconomico_nom": "Medio Bajo",
          "estratos": "2) Medio Bajo",
          "nom_entidad": "Baja California",
          "tono_de_color_de_piel": 6
         },
         {
          "abr_estado": "BC",
          "cuenta": 14,
          "entidad": 2,
          "estrato_socioeconomico": 2,
          "estrato_socioeconomico_nom": "Medio Bajo",
          "estratos": "2) Medio Bajo",
          "nom_entidad": "Baja California",
          "tono_de_color_de_piel": 10
         },
         {
          "abr_estado": "BC",
          "cuenta": 6,
          "entidad": 2,
          "estrato_socioeconomico": 2,
          "estrato_socioeconomico_nom": "Medio Bajo",
          "estratos": "2) Medio Bajo",
          "nom_entidad": "Baja California",
          "tono_de_color_de_piel": 5
         },
         {
          "abr_estado": "BC",
          "cuenta": 6,
          "entidad": 2,
          "estrato_socioeconomico": 2,
          "estrato_socioeconomico_nom": "Medio Bajo",
          "estratos": "2) Medio Bajo",
          "nom_entidad": "Baja California",
          "tono_de_color_de_piel": 11
         },
         {
          "abr_estado": "BC",
          "cuenta": 2,
          "entidad": 2,
          "estrato_socioeconomico": 2,
          "estrato_socioeconomico_nom": "Medio Bajo",
          "estratos": "2) Medio Bajo",
          "nom_entidad": "Baja California",
          "tono_de_color_de_piel": 4
         },
         {
          "abr_estado": "BC",
          "cuenta": 1,
          "entidad": 2,
          "estrato_socioeconomico": 2,
          "estrato_socioeconomico_nom": "Medio Bajo",
          "estratos": "2) Medio Bajo",
          "nom_entidad": "Baja California",
          "tono_de_color_de_piel": 1
         },
         {
          "abr_estado": "BC",
          "cuenta": 1,
          "entidad": 2,
          "estrato_socioeconomico": 2,
          "estrato_socioeconomico_nom": "Medio Bajo",
          "estratos": "2) Medio Bajo",
          "nom_entidad": "Baja California",
          "tono_de_color_de_piel": 3
         },
         {
          "abr_estado": "Chis.",
          "cuenta": 6,
          "entidad": 7,
          "estrato_socioeconomico": 2,
          "estrato_socioeconomico_nom": "Medio Bajo",
          "estratos": "2) Medio Bajo",
          "nom_entidad": "Chiapas",
          "tono_de_color_de_piel": 3
         },
         {
          "abr_estado": "BC",
          "cuenta": 91,
          "entidad": 2,
          "estrato_socioeconomico": 2,
          "estrato_socioeconomico_nom": "Medio Bajo",
          "estratos": "2) Medio Bajo",
          "nom_entidad": "Baja California",
          "tono_de_color_de_piel": 7
         },
         {
          "abr_estado": "BC",
          "cuenta": 127,
          "entidad": 2,
          "estrato_socioeconomico": 2,
          "estrato_socioeconomico_nom": "Medio Bajo",
          "estratos": "2) Medio Bajo",
          "nom_entidad": "Baja California",
          "tono_de_color_de_piel": 8
         },
         {
          "abr_estado": "Gto.",
          "cuenta": 169,
          "entidad": 11,
          "estrato_socioeconomico": 2,
          "estrato_socioeconomico_nom": "Medio Bajo",
          "estratos": "2) Medio Bajo",
          "nom_entidad": "Guanajuato",
          "tono_de_color_de_piel": 8
         },
         {
          "abr_estado": "Dgo.",
          "cuenta": 16,
          "entidad": 10,
          "estrato_socioeconomico": 2,
          "estrato_socioeconomico_nom": "Medio Bajo",
          "estratos": "2) Medio Bajo",
          "nom_entidad": "Durango",
          "tono_de_color_de_piel": 9
         },
         {
          "abr_estado": "Dgo.",
          "cuenta": 13,
          "entidad": 10,
          "estrato_socioeconomico": 2,
          "estrato_socioeconomico_nom": "Medio Bajo",
          "estratos": "2) Medio Bajo",
          "nom_entidad": "Durango",
          "tono_de_color_de_piel": 5
         },
         {
          "abr_estado": "Dgo.",
          "cuenta": 10,
          "entidad": 10,
          "estrato_socioeconomico": 2,
          "estrato_socioeconomico_nom": "Medio Bajo",
          "estratos": "2) Medio Bajo",
          "nom_entidad": "Durango",
          "tono_de_color_de_piel": 4
         },
         {
          "abr_estado": "Dgo.",
          "cuenta": 9,
          "entidad": 10,
          "estrato_socioeconomico": 2,
          "estrato_socioeconomico_nom": "Medio Bajo",
          "estratos": "2) Medio Bajo",
          "nom_entidad": "Durango",
          "tono_de_color_de_piel": 11
         },
         {
          "abr_estado": "Dgo.",
          "cuenta": 4,
          "entidad": 10,
          "estrato_socioeconomico": 2,
          "estrato_socioeconomico_nom": "Medio Bajo",
          "estratos": "2) Medio Bajo",
          "nom_entidad": "Durango",
          "tono_de_color_de_piel": 3
         },
         {
          "abr_estado": "Dgo.",
          "cuenta": 2,
          "entidad": 10,
          "estrato_socioeconomico": 2,
          "estrato_socioeconomico_nom": "Medio Bajo",
          "estratos": "2) Medio Bajo",
          "nom_entidad": "Durango",
          "tono_de_color_de_piel": 1
         },
         {
          "abr_estado": "Dgo.",
          "cuenta": 1,
          "entidad": 10,
          "estrato_socioeconomico": 2,
          "estrato_socioeconomico_nom": "Medio Bajo",
          "estratos": "2) Medio Bajo",
          "nom_entidad": "Durango",
          "tono_de_color_de_piel": 2
         },
         {
          "abr_estado": "BCS",
          "cuenta": 1,
          "entidad": 3,
          "estrato_socioeconomico": 2,
          "estrato_socioeconomico_nom": "Medio Bajo",
          "estratos": "2) Medio Bajo",
          "nom_entidad": "Baja California Sur",
          "tono_de_color_de_piel": 1
         },
         {
          "abr_estado": "Gto.",
          "cuenta": 4,
          "entidad": 11,
          "estrato_socioeconomico": 2,
          "estrato_socioeconomico_nom": "Medio Bajo",
          "estratos": "2) Medio Bajo",
          "nom_entidad": "Guanajuato",
          "tono_de_color_de_piel": 3
         },
         {
          "abr_estado": "Gto.",
          "cuenta": 4,
          "entidad": 11,
          "estrato_socioeconomico": 2,
          "estrato_socioeconomico_nom": "Medio Bajo",
          "estratos": "2) Medio Bajo",
          "nom_entidad": "Guanajuato",
          "tono_de_color_de_piel": 2
         },
         {
          "abr_estado": "Gto.",
          "cuenta": 6,
          "entidad": 11,
          "estrato_socioeconomico": 2,
          "estrato_socioeconomico_nom": "Medio Bajo",
          "estratos": "2) Medio Bajo",
          "nom_entidad": "Guanajuato",
          "tono_de_color_de_piel": 11
         },
         {
          "abr_estado": "Gto.",
          "cuenta": 22,
          "entidad": 11,
          "estrato_socioeconomico": 2,
          "estrato_socioeconomico_nom": "Medio Bajo",
          "estratos": "2) Medio Bajo",
          "nom_entidad": "Guanajuato",
          "tono_de_color_de_piel": 5
         },
         {
          "abr_estado": "Gto.",
          "cuenta": 23,
          "entidad": 11,
          "estrato_socioeconomico": 2,
          "estrato_socioeconomico_nom": "Medio Bajo",
          "estratos": "2) Medio Bajo",
          "nom_entidad": "Guanajuato",
          "tono_de_color_de_piel": 9
         },
         {
          "abr_estado": "Gto.",
          "cuenta": 23,
          "entidad": 11,
          "estrato_socioeconomico": 2,
          "estrato_socioeconomico_nom": "Medio Bajo",
          "estratos": "2) Medio Bajo",
          "nom_entidad": "Guanajuato",
          "tono_de_color_de_piel": 4
         },
         {
          "abr_estado": "Gto.",
          "cuenta": 25,
          "entidad": 11,
          "estrato_socioeconomico": 2,
          "estrato_socioeconomico_nom": "Medio Bajo",
          "estratos": "2) Medio Bajo",
          "nom_entidad": "Guanajuato",
          "tono_de_color_de_piel": 10
         },
         {
          "abr_estado": "Gto.",
          "cuenta": 116,
          "entidad": 11,
          "estrato_socioeconomico": 2,
          "estrato_socioeconomico_nom": "Medio Bajo",
          "estratos": "2) Medio Bajo",
          "nom_entidad": "Guanajuato",
          "tono_de_color_de_piel": 6
         },
         {
          "abr_estado": "Gto.",
          "cuenta": 162,
          "entidad": 11,
          "estrato_socioeconomico": 2,
          "estrato_socioeconomico_nom": "Medio Bajo",
          "estratos": "2) Medio Bajo",
          "nom_entidad": "Guanajuato",
          "tono_de_color_de_piel": 7
         },
         {
          "abr_estado": "CDMX",
          "cuenta": 1,
          "entidad": 9,
          "estrato_socioeconomico": 2,
          "estrato_socioeconomico_nom": "Medio Bajo",
          "estratos": "2) Medio Bajo",
          "nom_entidad": "Ciudad de México",
          "tono_de_color_de_piel": 1
         },
         {
          "abr_estado": "CDMX",
          "cuenta": 3,
          "entidad": 9,
          "estrato_socioeconomico": 2,
          "estrato_socioeconomico_nom": "Medio Bajo",
          "estratos": "2) Medio Bajo",
          "nom_entidad": "Ciudad de México",
          "tono_de_color_de_piel": 3
         },
         {
          "abr_estado": "Chis.",
          "cuenta": 1,
          "entidad": 7,
          "estrato_socioeconomico": 2,
          "estrato_socioeconomico_nom": "Medio Bajo",
          "estratos": "2) Medio Bajo",
          "nom_entidad": "Chiapas",
          "tono_de_color_de_piel": 2
         },
         {
          "abr_estado": "Hgo.",
          "cuenta": 156,
          "entidad": 13,
          "estrato_socioeconomico": 2,
          "estrato_socioeconomico_nom": "Medio Bajo",
          "estratos": "2) Medio Bajo",
          "nom_entidad": "Hidalgo",
          "tono_de_color_de_piel": 7
         },
         {
          "abr_estado": "Jal.",
          "cuenta": 110,
          "entidad": 14,
          "estrato_socioeconomico": 2,
          "estrato_socioeconomico_nom": "Medio Bajo",
          "estratos": "2) Medio Bajo",
          "nom_entidad": "Jalisco",
          "tono_de_color_de_piel": 7
         },
         {
          "abr_estado": "Ags.",
          "cuenta": 12,
          "entidad": 1,
          "estrato_socioeconomico": 2,
          "estrato_socioeconomico_nom": "Medio Bajo",
          "estratos": "2) Medio Bajo",
          "nom_entidad": "Aguascalientes",
          "tono_de_color_de_piel": 4
         },
         {
          "abr_estado": "Ags.",
          "cuenta": 18,
          "entidad": 1,
          "estrato_socioeconomico": 2,
          "estrato_socioeconomico_nom": "Medio Bajo",
          "estratos": "2) Medio Bajo",
          "nom_entidad": "Aguascalientes",
          "tono_de_color_de_piel": 10
         },
         {
          "abr_estado": "Ags.",
          "cuenta": 22,
          "entidad": 1,
          "estrato_socioeconomico": 2,
          "estrato_socioeconomico_nom": "Medio Bajo",
          "estratos": "2) Medio Bajo",
          "nom_entidad": "Aguascalientes",
          "tono_de_color_de_piel": 9
         },
         {
          "abr_estado": "Ags.",
          "cuenta": 52,
          "entidad": 1,
          "estrato_socioeconomico": 2,
          "estrato_socioeconomico_nom": "Medio Bajo",
          "estratos": "2) Medio Bajo",
          "nom_entidad": "Aguascalientes",
          "tono_de_color_de_piel": 6
         },
         {
          "abr_estado": "Jal.",
          "cuenta": 2,
          "entidad": 14,
          "estrato_socioeconomico": 2,
          "estrato_socioeconomico_nom": "Medio Bajo",
          "estratos": "2) Medio Bajo",
          "nom_entidad": "Jalisco",
          "tono_de_color_de_piel": 11
         },
         {
          "abr_estado": "Jal.",
          "cuenta": 2,
          "entidad": 14,
          "estrato_socioeconomico": 2,
          "estrato_socioeconomico_nom": "Medio Bajo",
          "estratos": "2) Medio Bajo",
          "nom_entidad": "Jalisco",
          "tono_de_color_de_piel": 2
         },
         {
          "abr_estado": "Jal.",
          "cuenta": 3,
          "entidad": 14,
          "estrato_socioeconomico": 2,
          "estrato_socioeconomico_nom": "Medio Bajo",
          "estratos": "2) Medio Bajo",
          "nom_entidad": "Jalisco",
          "tono_de_color_de_piel": 3
         },
         {
          "abr_estado": "Jal.",
          "cuenta": 10,
          "entidad": 14,
          "estrato_socioeconomico": 2,
          "estrato_socioeconomico_nom": "Medio Bajo",
          "estratos": "2) Medio Bajo",
          "nom_entidad": "Jalisco",
          "tono_de_color_de_piel": 5
         },
         {
          "abr_estado": "Jal.",
          "cuenta": 13,
          "entidad": 14,
          "estrato_socioeconomico": 2,
          "estrato_socioeconomico_nom": "Medio Bajo",
          "estratos": "2) Medio Bajo",
          "nom_entidad": "Jalisco",
          "tono_de_color_de_piel": 4
         },
         {
          "abr_estado": "Jal.",
          "cuenta": 25,
          "entidad": 14,
          "estrato_socioeconomico": 2,
          "estrato_socioeconomico_nom": "Medio Bajo",
          "estratos": "2) Medio Bajo",
          "nom_entidad": "Jalisco",
          "tono_de_color_de_piel": 9
         },
         {
          "abr_estado": "Jal.",
          "cuenta": 28,
          "entidad": 14,
          "estrato_socioeconomico": 2,
          "estrato_socioeconomico_nom": "Medio Bajo",
          "estratos": "2) Medio Bajo",
          "nom_entidad": "Jalisco",
          "tono_de_color_de_piel": 10
         },
         {
          "abr_estado": "Ags.",
          "cuenta": 138,
          "entidad": 1,
          "estrato_socioeconomico": 2,
          "estrato_socioeconomico_nom": "Medio Bajo",
          "estratos": "2) Medio Bajo",
          "nom_entidad": "Aguascalientes",
          "tono_de_color_de_piel": 8
         },
         {
          "abr_estado": "Coah.",
          "cuenta": 3,
          "entidad": 5,
          "estrato_socioeconomico": 2,
          "estrato_socioeconomico_nom": "Medio Bajo",
          "estratos": "2) Medio Bajo",
          "nom_entidad": "Coahuila de Zaragoza",
          "tono_de_color_de_piel": 3
         },
         {
          "abr_estado": "Coah.",
          "cuenta": 5,
          "entidad": 5,
          "estrato_socioeconomico": 2,
          "estrato_socioeconomico_nom": "Medio Bajo",
          "estratos": "2) Medio Bajo",
          "nom_entidad": "Coahuila de Zaragoza",
          "tono_de_color_de_piel": 2
         },
         {
          "abr_estado": "Coah.",
          "cuenta": 6,
          "entidad": 5,
          "estrato_socioeconomico": 2,
          "estrato_socioeconomico_nom": "Medio Bajo",
          "estratos": "2) Medio Bajo",
          "nom_entidad": "Coahuila de Zaragoza",
          "tono_de_color_de_piel": 11
         },
         {
          "abr_estado": "Coah.",
          "cuenta": 7,
          "entidad": 5,
          "estrato_socioeconomico": 2,
          "estrato_socioeconomico_nom": "Medio Bajo",
          "estratos": "2) Medio Bajo",
          "nom_entidad": "Coahuila de Zaragoza",
          "tono_de_color_de_piel": 4
         },
         {
          "abr_estado": "Jal.",
          "cuenta": 190,
          "entidad": 14,
          "estrato_socioeconomico": 2,
          "estrato_socioeconomico_nom": "Medio Bajo",
          "estratos": "2) Medio Bajo",
          "nom_entidad": "Jalisco",
          "tono_de_color_de_piel": 8
         },
         {
          "abr_estado": "Camp.",
          "cuenta": 2,
          "entidad": 4,
          "estrato_socioeconomico": 2,
          "estrato_socioeconomico_nom": "Medio Bajo",
          "estratos": "2) Medio Bajo",
          "nom_entidad": "Campeche",
          "tono_de_color_de_piel": 1
         },
         {
          "abr_estado": "Camp.",
          "cuenta": 4,
          "entidad": 4,
          "estrato_socioeconomico": 2,
          "estrato_socioeconomico_nom": "Medio Bajo",
          "estratos": "2) Medio Bajo",
          "nom_entidad": "Campeche",
          "tono_de_color_de_piel": 3
         },
         {
          "abr_estado": "Camp.",
          "cuenta": 5,
          "entidad": 4,
          "estrato_socioeconomico": 2,
          "estrato_socioeconomico_nom": "Medio Bajo",
          "estratos": "2) Medio Bajo",
          "nom_entidad": "Campeche",
          "tono_de_color_de_piel": 2
         },
         {
          "abr_estado": "Camp.",
          "cuenta": 6,
          "entidad": 4,
          "estrato_socioeconomico": 2,
          "estrato_socioeconomico_nom": "Medio Bajo",
          "estratos": "2) Medio Bajo",
          "nom_entidad": "Campeche",
          "tono_de_color_de_piel": 5
         },
         {
          "abr_estado": "Camp.",
          "cuenta": 8,
          "entidad": 4,
          "estrato_socioeconomico": 2,
          "estrato_socioeconomico_nom": "Medio Bajo",
          "estratos": "2) Medio Bajo",
          "nom_entidad": "Campeche",
          "tono_de_color_de_piel": 11
         },
         {
          "abr_estado": "CDMX",
          "cuenta": 7,
          "entidad": 9,
          "estrato_socioeconomico": 2,
          "estrato_socioeconomico_nom": "Medio Bajo",
          "estratos": "2) Medio Bajo",
          "nom_entidad": "Ciudad de México",
          "tono_de_color_de_piel": 11
         },
         {
          "abr_estado": "Camp.",
          "cuenta": 16,
          "entidad": 4,
          "estrato_socioeconomico": 2,
          "estrato_socioeconomico_nom": "Medio Bajo",
          "estratos": "2) Medio Bajo",
          "nom_entidad": "Campeche",
          "tono_de_color_de_piel": 9
         },
         {
          "abr_estado": "Coah.",
          "cuenta": 121,
          "entidad": 5,
          "estrato_socioeconomico": 2,
          "estrato_socioeconomico_nom": "Medio Bajo",
          "estratos": "2) Medio Bajo",
          "nom_entidad": "Coahuila de Zaragoza",
          "tono_de_color_de_piel": 8
         },
         {
          "abr_estado": "Coah.",
          "cuenta": 102,
          "entidad": 5,
          "estrato_socioeconomico": 2,
          "estrato_socioeconomico_nom": "Medio Bajo",
          "estratos": "2) Medio Bajo",
          "nom_entidad": "Coahuila de Zaragoza",
          "tono_de_color_de_piel": 7
         },
         {
          "abr_estado": "Coah.",
          "cuenta": 57,
          "entidad": 5,
          "estrato_socioeconomico": 2,
          "estrato_socioeconomico_nom": "Medio Bajo",
          "estratos": "2) Medio Bajo",
          "nom_entidad": "Coahuila de Zaragoza",
          "tono_de_color_de_piel": 6
         },
         {
          "abr_estado": "Coah.",
          "cuenta": 16,
          "entidad": 5,
          "estrato_socioeconomico": 2,
          "estrato_socioeconomico_nom": "Medio Bajo",
          "estratos": "2) Medio Bajo",
          "nom_entidad": "Coahuila de Zaragoza",
          "tono_de_color_de_piel": 9
         },
         {
          "abr_estado": "Coah.",
          "cuenta": 16,
          "entidad": 5,
          "estrato_socioeconomico": 2,
          "estrato_socioeconomico_nom": "Medio Bajo",
          "estratos": "2) Medio Bajo",
          "nom_entidad": "Coahuila de Zaragoza",
          "tono_de_color_de_piel": 10
         },
         {
          "abr_estado": "Coah.",
          "cuenta": 11,
          "entidad": 5,
          "estrato_socioeconomico": 2,
          "estrato_socioeconomico_nom": "Medio Bajo",
          "estratos": "2) Medio Bajo",
          "nom_entidad": "Coahuila de Zaragoza",
          "tono_de_color_de_piel": 5
         },
         {
          "abr_estado": "Camp.",
          "cuenta": 20,
          "entidad": 4,
          "estrato_socioeconomico": 2,
          "estrato_socioeconomico_nom": "Medio Bajo",
          "estratos": "2) Medio Bajo",
          "nom_entidad": "Campeche",
          "tono_de_color_de_piel": 4
         },
         {
          "abr_estado": "CDMX",
          "cuenta": 8,
          "entidad": 9,
          "estrato_socioeconomico": 2,
          "estrato_socioeconomico_nom": "Medio Bajo",
          "estratos": "2) Medio Bajo",
          "nom_entidad": "Ciudad de México",
          "tono_de_color_de_piel": 5
         },
         {
          "abr_estado": "Ags.",
          "cuenta": 12,
          "entidad": 1,
          "estrato_socioeconomico": 2,
          "estrato_socioeconomico_nom": "Medio Bajo",
          "estratos": "2) Medio Bajo",
          "nom_entidad": "Aguascalientes",
          "tono_de_color_de_piel": 5
         },
         {
          "abr_estado": "CDMX",
          "cuenta": 15,
          "entidad": 9,
          "estrato_socioeconomico": 2,
          "estrato_socioeconomico_nom": "Medio Bajo",
          "estratos": "2) Medio Bajo",
          "nom_entidad": "Ciudad de México",
          "tono_de_color_de_piel": 9
         },
         {
          "abr_estado": "Ags.",
          "cuenta": 2,
          "entidad": 1,
          "estrato_socioeconomico": 2,
          "estrato_socioeconomico_nom": "Medio Bajo",
          "estratos": "2) Medio Bajo",
          "nom_entidad": "Aguascalientes",
          "tono_de_color_de_piel": 1
         },
         {
          "abr_estado": "Ags.",
          "cuenta": 3,
          "entidad": 1,
          "estrato_socioeconomico": 2,
          "estrato_socioeconomico_nom": "Medio Bajo",
          "estratos": "2) Medio Bajo",
          "nom_entidad": "Aguascalientes",
          "tono_de_color_de_piel": 3
         },
         {
          "abr_estado": "Ags.",
          "cuenta": 7,
          "entidad": 1,
          "estrato_socioeconomico": 2,
          "estrato_socioeconomico_nom": "Medio Bajo",
          "estratos": "2) Medio Bajo",
          "nom_entidad": "Aguascalientes",
          "tono_de_color_de_piel": 11
         },
         {
          "abr_estado": "CDMX",
          "cuenta": 124,
          "entidad": 9,
          "estrato_socioeconomico": 2,
          "estrato_socioeconomico_nom": "Medio Bajo",
          "estratos": "2) Medio Bajo",
          "nom_entidad": "Ciudad de México",
          "tono_de_color_de_piel": 8
         },
         {
          "abr_estado": "BCS",
          "cuenta": 9,
          "entidad": 3,
          "estrato_socioeconomico": 2,
          "estrato_socioeconomico_nom": "Medio Bajo",
          "estratos": "2) Medio Bajo",
          "nom_entidad": "Baja California Sur",
          "tono_de_color_de_piel": 5
         },
         {
          "abr_estado": "BCS",
          "cuenta": 10,
          "entidad": 3,
          "estrato_socioeconomico": 2,
          "estrato_socioeconomico_nom": "Medio Bajo",
          "estratos": "2) Medio Bajo",
          "nom_entidad": "Baja California Sur",
          "tono_de_color_de_piel": 11
         },
         {
          "abr_estado": "BCS",
          "cuenta": 13,
          "entidad": 3,
          "estrato_socioeconomico": 2,
          "estrato_socioeconomico_nom": "Medio Bajo",
          "estratos": "2) Medio Bajo",
          "nom_entidad": "Baja California Sur",
          "tono_de_color_de_piel": 9
         },
         {
          "abr_estado": "BCS",
          "cuenta": 17,
          "entidad": 3,
          "estrato_socioeconomico": 2,
          "estrato_socioeconomico_nom": "Medio Bajo",
          "estratos": "2) Medio Bajo",
          "nom_entidad": "Baja California Sur",
          "tono_de_color_de_piel": 10
         },
         {
          "abr_estado": "BCS",
          "cuenta": 49,
          "entidad": 3,
          "estrato_socioeconomico": 2,
          "estrato_socioeconomico_nom": "Medio Bajo",
          "estratos": "2) Medio Bajo",
          "nom_entidad": "Baja California Sur",
          "tono_de_color_de_piel": 6
         },
         {
          "abr_estado": "BCS",
          "cuenta": 129,
          "entidad": 3,
          "estrato_socioeconomico": 2,
          "estrato_socioeconomico_nom": "Medio Bajo",
          "estratos": "2) Medio Bajo",
          "nom_entidad": "Baja California Sur",
          "tono_de_color_de_piel": 8
         },
         {
          "abr_estado": "CDMX",
          "cuenta": 10,
          "entidad": 9,
          "estrato_socioeconomico": 2,
          "estrato_socioeconomico_nom": "Medio Bajo",
          "estratos": "2) Medio Bajo",
          "nom_entidad": "Ciudad de México",
          "tono_de_color_de_piel": 4
         },
         {
          "abr_estado": "CDMX",
          "cuenta": 97,
          "entidad": 9,
          "estrato_socioeconomico": 2,
          "estrato_socioeconomico_nom": "Medio Bajo",
          "estratos": "2) Medio Bajo",
          "nom_entidad": "Ciudad de México",
          "tono_de_color_de_piel": 7
         },
         {
          "abr_estado": "Hgo.",
          "cuenta": 154,
          "entidad": 13,
          "estrato_socioeconomico": 2,
          "estrato_socioeconomico_nom": "Medio Bajo",
          "estratos": "2) Medio Bajo",
          "nom_entidad": "Hidalgo",
          "tono_de_color_de_piel": 8
         },
         {
          "abr_estado": "Hgo.",
          "cuenta": 85,
          "entidad": 13,
          "estrato_socioeconomico": 2,
          "estrato_socioeconomico_nom": "Medio Bajo",
          "estratos": "2) Medio Bajo",
          "nom_entidad": "Hidalgo",
          "tono_de_color_de_piel": 6
         },
         {
          "abr_estado": "BCS",
          "cuenta": 134,
          "entidad": 3,
          "estrato_socioeconomico": 2,
          "estrato_socioeconomico_nom": "Medio Bajo",
          "estratos": "2) Medio Bajo",
          "nom_entidad": "Baja California Sur",
          "tono_de_color_de_piel": 7
         },
         {
          "abr_estado": "CDMX",
          "cuenta": 17,
          "entidad": 9,
          "estrato_socioeconomico": 2,
          "estrato_socioeconomico_nom": "Medio Bajo",
          "estratos": "2) Medio Bajo",
          "nom_entidad": "Ciudad de México",
          "tono_de_color_de_piel": 10
         },
         {
          "abr_estado": "Camp.",
          "cuenta": 21,
          "entidad": 4,
          "estrato_socioeconomico": 2,
          "estrato_socioeconomico_nom": "Medio Bajo",
          "estratos": "2) Medio Bajo",
          "nom_entidad": "Campeche",
          "tono_de_color_de_piel": 10
         },
         {
          "abr_estado": "Camp.",
          "cuenta": 59,
          "entidad": 4,
          "estrato_socioeconomico": 2,
          "estrato_socioeconomico_nom": "Medio Bajo",
          "estratos": "2) Medio Bajo",
          "nom_entidad": "Campeche",
          "tono_de_color_de_piel": 6
         },
         {
          "abr_estado": "Hgo.",
          "cuenta": 28,
          "entidad": 13,
          "estrato_socioeconomico": 2,
          "estrato_socioeconomico_nom": "Medio Bajo",
          "estratos": "2) Medio Bajo",
          "nom_entidad": "Hidalgo",
          "tono_de_color_de_piel": 9
         },
         {
          "abr_estado": "CDMX",
          "cuenta": 33,
          "entidad": 9,
          "estrato_socioeconomico": 2,
          "estrato_socioeconomico_nom": "Medio Bajo",
          "estratos": "2) Medio Bajo",
          "nom_entidad": "Ciudad de México",
          "tono_de_color_de_piel": 6
         },
         {
          "abr_estado": "Camp.",
          "cuenta": 127,
          "entidad": 4,
          "estrato_socioeconomico": 2,
          "estrato_socioeconomico_nom": "Medio Bajo",
          "estratos": "2) Medio Bajo",
          "nom_entidad": "Campeche",
          "tono_de_color_de_piel": 8
         },
         {
          "abr_estado": "Camp.",
          "cuenta": 137,
          "entidad": 4,
          "estrato_socioeconomico": 2,
          "estrato_socioeconomico_nom": "Medio Bajo",
          "estratos": "2) Medio Bajo",
          "nom_entidad": "Campeche",
          "tono_de_color_de_piel": 7
         },
         {
          "abr_estado": "Jal.",
          "cuenta": 47,
          "entidad": 14,
          "estrato_socioeconomico": 2,
          "estrato_socioeconomico_nom": "Medio Bajo",
          "estratos": "2) Medio Bajo",
          "nom_entidad": "Jalisco",
          "tono_de_color_de_piel": 6
         },
         {
          "abr_estado": "Hgo.",
          "cuenta": 1,
          "entidad": 13,
          "estrato_socioeconomico": 2,
          "estrato_socioeconomico_nom": "Medio Bajo",
          "estratos": "2) Medio Bajo",
          "nom_entidad": "Hidalgo",
          "tono_de_color_de_piel": 1
         },
         {
          "abr_estado": "Hgo.",
          "cuenta": 3,
          "entidad": 13,
          "estrato_socioeconomico": 2,
          "estrato_socioeconomico_nom": "Medio Bajo",
          "estratos": "2) Medio Bajo",
          "nom_entidad": "Hidalgo",
          "tono_de_color_de_piel": 3
         },
         {
          "abr_estado": "Hgo.",
          "cuenta": 10,
          "entidad": 13,
          "estrato_socioeconomico": 2,
          "estrato_socioeconomico_nom": "Medio Bajo",
          "estratos": "2) Medio Bajo",
          "nom_entidad": "Hidalgo",
          "tono_de_color_de_piel": 5
         },
         {
          "abr_estado": "Hgo.",
          "cuenta": 19,
          "entidad": 13,
          "estrato_socioeconomico": 2,
          "estrato_socioeconomico_nom": "Medio Bajo",
          "estratos": "2) Medio Bajo",
          "nom_entidad": "Hidalgo",
          "tono_de_color_de_piel": 4
         },
         {
          "abr_estado": "Hgo.",
          "cuenta": 27,
          "entidad": 13,
          "estrato_socioeconomico": 2,
          "estrato_socioeconomico_nom": "Medio Bajo",
          "estratos": "2) Medio Bajo",
          "nom_entidad": "Hidalgo",
          "tono_de_color_de_piel": 10
         },
         {
          "abr_estado": "Hgo.",
          "cuenta": 1,
          "entidad": 13,
          "estrato_socioeconomico": 2,
          "estrato_socioeconomico_nom": "Medio Bajo",
          "estratos": "2) Medio Bajo",
          "nom_entidad": "Hidalgo",
          "tono_de_color_de_piel": 11
         },
         {
          "abr_estado": "Chis.",
          "cuenta": 6,
          "entidad": 7,
          "estrato_socioeconomico": 3,
          "estrato_socioeconomico_nom": "Medio Alto",
          "estratos": "3) Medio Alto",
          "nom_entidad": "Chiapas",
          "tono_de_color_de_piel": 7
         },
         {
          "abr_estado": "Chis.",
          "cuenta": 2,
          "entidad": 7,
          "estrato_socioeconomico": 3,
          "estrato_socioeconomico_nom": "Medio Alto",
          "estratos": "3) Medio Alto",
          "nom_entidad": "Chiapas",
          "tono_de_color_de_piel": 10
         },
         {
          "abr_estado": "Qro.",
          "cuenta": 17,
          "entidad": 22,
          "estrato_socioeconomico": 3,
          "estrato_socioeconomico_nom": "Medio Alto",
          "estratos": "3) Medio Alto",
          "nom_entidad": "Querétaro",
          "tono_de_color_de_piel": 6
         },
         {
          "abr_estado": "Qro.",
          "cuenta": 46,
          "entidad": 22,
          "estrato_socioeconomico": 3,
          "estrato_socioeconomico_nom": "Medio Alto",
          "estratos": "3) Medio Alto",
          "nom_entidad": "Querétaro",
          "tono_de_color_de_piel": 7
         },
         {
          "abr_estado": "Qro.",
          "cuenta": 87,
          "entidad": 22,
          "estrato_socioeconomico": 3,
          "estrato_socioeconomico_nom": "Medio Alto",
          "estratos": "3) Medio Alto",
          "nom_entidad": "Querétaro",
          "tono_de_color_de_piel": 8
         },
         {
          "abr_estado": "Chis.",
          "cuenta": 2,
          "entidad": 7,
          "estrato_socioeconomico": 3,
          "estrato_socioeconomico_nom": "Medio Alto",
          "estratos": "3) Medio Alto",
          "nom_entidad": "Chiapas",
          "tono_de_color_de_piel": 11
         },
         {
          "abr_estado": "Chis.",
          "cuenta": 1,
          "entidad": 7,
          "estrato_socioeconomico": 3,
          "estrato_socioeconomico_nom": "Medio Alto",
          "estratos": "3) Medio Alto",
          "nom_entidad": "Chiapas",
          "tono_de_color_de_piel": 9
         },
         {
          "abr_estado": "Chih.",
          "cuenta": 9,
          "entidad": 8,
          "estrato_socioeconomico": 3,
          "estrato_socioeconomico_nom": "Medio Alto",
          "estratos": "3) Medio Alto",
          "nom_entidad": "Chihuahua",
          "tono_de_color_de_piel": 5
         },
         {
          "abr_estado": "Chis.",
          "cuenta": 4,
          "entidad": 7,
          "estrato_socioeconomico": 3,
          "estrato_socioeconomico_nom": "Medio Alto",
          "estratos": "3) Medio Alto",
          "nom_entidad": "Chiapas",
          "tono_de_color_de_piel": 6
         },
         {
          "abr_estado": "Tlax.",
          "cuenta": 29,
          "entidad": 29,
          "estrato_socioeconomico": 3,
          "estrato_socioeconomico_nom": "Medio Alto",
          "estratos": "3) Medio Alto",
          "nom_entidad": "Tlaxcala",
          "tono_de_color_de_piel": 8
         },
         {
          "abr_estado": "Qro.",
          "cuenta": 6,
          "entidad": 22,
          "estrato_socioeconomico": 3,
          "estrato_socioeconomico_nom": "Medio Alto",
          "estratos": "3) Medio Alto",
          "nom_entidad": "Querétaro",
          "tono_de_color_de_piel": 9
         },
         {
          "abr_estado": "Chih.",
          "cuenta": 87,
          "entidad": 8,
          "estrato_socioeconomico": 3,
          "estrato_socioeconomico_nom": "Medio Alto",
          "estratos": "3) Medio Alto",
          "nom_entidad": "Chihuahua",
          "tono_de_color_de_piel": 7
         },
         {
          "abr_estado": "Chih.",
          "cuenta": 24,
          "entidad": 8,
          "estrato_socioeconomico": 3,
          "estrato_socioeconomico_nom": "Medio Alto",
          "estratos": "3) Medio Alto",
          "nom_entidad": "Chihuahua",
          "tono_de_color_de_piel": 6
         },
         {
          "abr_estado": "Chih.",
          "cuenta": 21,
          "entidad": 8,
          "estrato_socioeconomico": 3,
          "estrato_socioeconomico_nom": "Medio Alto",
          "estratos": "3) Medio Alto",
          "nom_entidad": "Chihuahua",
          "tono_de_color_de_piel": 10
         },
         {
          "abr_estado": "Chih.",
          "cuenta": 18,
          "entidad": 8,
          "estrato_socioeconomico": 3,
          "estrato_socioeconomico_nom": "Medio Alto",
          "estratos": "3) Medio Alto",
          "nom_entidad": "Chihuahua",
          "tono_de_color_de_piel": 9
         },
         {
          "abr_estado": "Chih.",
          "cuenta": 10,
          "entidad": 8,
          "estrato_socioeconomico": 3,
          "estrato_socioeconomico_nom": "Medio Alto",
          "estratos": "3) Medio Alto",
          "nom_entidad": "Chihuahua",
          "tono_de_color_de_piel": 11
         },
         {
          "abr_estado": "Qro.",
          "cuenta": 1,
          "entidad": 22,
          "estrato_socioeconomico": 3,
          "estrato_socioeconomico_nom": "Medio Alto",
          "estratos": "3) Medio Alto",
          "nom_entidad": "Querétaro",
          "tono_de_color_de_piel": 3
         },
         {
          "abr_estado": "Q. Roo",
          "cuenta": 30,
          "entidad": 23,
          "estrato_socioeconomico": 3,
          "estrato_socioeconomico_nom": "Medio Alto",
          "estratos": "3) Medio Alto",
          "nom_entidad": "Quintana Roo",
          "tono_de_color_de_piel": 7
         },
         {
          "abr_estado": "Q. Roo",
          "cuenta": 15,
          "entidad": 23,
          "estrato_socioeconomico": 3,
          "estrato_socioeconomico_nom": "Medio Alto",
          "estratos": "3) Medio Alto",
          "nom_entidad": "Quintana Roo",
          "tono_de_color_de_piel": 8
         },
         {
          "abr_estado": "Qro.",
          "cuenta": 3,
          "entidad": 22,
          "estrato_socioeconomico": 3,
          "estrato_socioeconomico_nom": "Medio Alto",
          "estratos": "3) Medio Alto",
          "nom_entidad": "Querétaro",
          "tono_de_color_de_piel": 4
         },
         {
          "abr_estado": "Q. Roo",
          "cuenta": 12,
          "entidad": 23,
          "estrato_socioeconomico": 3,
          "estrato_socioeconomico_nom": "Medio Alto",
          "estratos": "3) Medio Alto",
          "nom_entidad": "Quintana Roo",
          "tono_de_color_de_piel": 6
         },
         {
          "abr_estado": "Qro.",
          "cuenta": 8,
          "entidad": 22,
          "estrato_socioeconomico": 3,
          "estrato_socioeconomico_nom": "Medio Alto",
          "estratos": "3) Medio Alto",
          "nom_entidad": "Querétaro",
          "tono_de_color_de_piel": 10
         },
         {
          "abr_estado": "Q. Roo",
          "cuenta": 7,
          "entidad": 23,
          "estrato_socioeconomico": 3,
          "estrato_socioeconomico_nom": "Medio Alto",
          "estratos": "3) Medio Alto",
          "nom_entidad": "Quintana Roo",
          "tono_de_color_de_piel": 9
         },
         {
          "abr_estado": "Q. Roo",
          "cuenta": 5,
          "entidad": 23,
          "estrato_socioeconomico": 3,
          "estrato_socioeconomico_nom": "Medio Alto",
          "estratos": "3) Medio Alto",
          "nom_entidad": "Quintana Roo",
          "tono_de_color_de_piel": 5
         },
         {
          "abr_estado": "Q. Roo",
          "cuenta": 5,
          "entidad": 23,
          "estrato_socioeconomico": 3,
          "estrato_socioeconomico_nom": "Medio Alto",
          "estratos": "3) Medio Alto",
          "nom_entidad": "Quintana Roo",
          "tono_de_color_de_piel": 10
         },
         {
          "abr_estado": "Q. Roo",
          "cuenta": 4,
          "entidad": 23,
          "estrato_socioeconomico": 3,
          "estrato_socioeconomico_nom": "Medio Alto",
          "estratos": "3) Medio Alto",
          "nom_entidad": "Quintana Roo",
          "tono_de_color_de_piel": 4
         },
         {
          "abr_estado": "Q. Roo",
          "cuenta": 2,
          "entidad": 23,
          "estrato_socioeconomico": 3,
          "estrato_socioeconomico_nom": "Medio Alto",
          "estratos": "3) Medio Alto",
          "nom_entidad": "Quintana Roo",
          "tono_de_color_de_piel": 11
         },
         {
          "abr_estado": "Q. Roo",
          "cuenta": 1,
          "entidad": 23,
          "estrato_socioeconomico": 3,
          "estrato_socioeconomico_nom": "Medio Alto",
          "estratos": "3) Medio Alto",
          "nom_entidad": "Quintana Roo",
          "tono_de_color_de_piel": 3
         },
         {
          "abr_estado": "Tlax.",
          "cuenta": 1,
          "entidad": 29,
          "estrato_socioeconomico": 3,
          "estrato_socioeconomico_nom": "Medio Alto",
          "estratos": "3) Medio Alto",
          "nom_entidad": "Tlaxcala",
          "tono_de_color_de_piel": 6
         },
         {
          "abr_estado": "Tlax.",
          "cuenta": 1,
          "entidad": 29,
          "estrato_socioeconomico": 3,
          "estrato_socioeconomico_nom": "Medio Alto",
          "estratos": "3) Medio Alto",
          "nom_entidad": "Tlaxcala",
          "tono_de_color_de_piel": 4
         },
         {
          "abr_estado": "Tlax.",
          "cuenta": 16,
          "entidad": 29,
          "estrato_socioeconomico": 3,
          "estrato_socioeconomico_nom": "Medio Alto",
          "estratos": "3) Medio Alto",
          "nom_entidad": "Tlaxcala",
          "tono_de_color_de_piel": 7
         },
         {
          "abr_estado": "Chih.",
          "cuenta": 121,
          "entidad": 8,
          "estrato_socioeconomico": 3,
          "estrato_socioeconomico_nom": "Medio Alto",
          "estratos": "3) Medio Alto",
          "nom_entidad": "Chihuahua",
          "tono_de_color_de_piel": 8
         },
         {
          "abr_estado": "BCS",
          "cuenta": 98,
          "entidad": 3,
          "estrato_socioeconomico": 3,
          "estrato_socioeconomico_nom": "Medio Alto",
          "estratos": "3) Medio Alto",
          "nom_entidad": "Baja California Sur",
          "tono_de_color_de_piel": 8
         },
         {
          "abr_estado": "Qro.",
          "cuenta": 4,
          "entidad": 22,
          "estrato_socioeconomico": 3,
          "estrato_socioeconomico_nom": "Medio Alto",
          "estratos": "3) Medio Alto",
          "nom_entidad": "Querétaro",
          "tono_de_color_de_piel": 11
         },
         {
          "abr_estado": "Pue.",
          "cuenta": 6,
          "entidad": 21,
          "estrato_socioeconomico": 3,
          "estrato_socioeconomico_nom": "Medio Alto",
          "estratos": "3) Medio Alto",
          "nom_entidad": "Puebla",
          "tono_de_color_de_piel": 10
         },
         {
          "abr_estado": "BCS",
          "cuenta": 2,
          "entidad": 3,
          "estrato_socioeconomico": 3,
          "estrato_socioeconomico_nom": "Medio Alto",
          "estratos": "3) Medio Alto",
          "nom_entidad": "Baja California Sur",
          "tono_de_color_de_piel": 5
         },
         {
          "abr_estado": "BCS",
          "cuenta": 71,
          "entidad": 3,
          "estrato_socioeconomico": 3,
          "estrato_socioeconomico_nom": "Medio Alto",
          "estratos": "3) Medio Alto",
          "nom_entidad": "Baja California Sur",
          "tono_de_color_de_piel": 7
         },
         {
          "abr_estado": "Son.",
          "cuenta": 21,
          "entidad": 26,
          "estrato_socioeconomico": 3,
          "estrato_socioeconomico_nom": "Medio Alto",
          "estratos": "3) Medio Alto",
          "nom_entidad": "Sonora",
          "tono_de_color_de_piel": 6
         },
         {
          "abr_estado": "Son.",
          "cuenta": 29,
          "entidad": 26,
          "estrato_socioeconomico": 3,
          "estrato_socioeconomico_nom": "Medio Alto",
          "estratos": "3) Medio Alto",
          "nom_entidad": "Sonora",
          "tono_de_color_de_piel": 9
         },
         {
          "abr_estado": "Son.",
          "cuenta": 83,
          "entidad": 26,
          "estrato_socioeconomico": 3,
          "estrato_socioeconomico_nom": "Medio Alto",
          "estratos": "3) Medio Alto",
          "nom_entidad": "Sonora",
          "tono_de_color_de_piel": 7
         },
         {
          "abr_estado": "Son.",
          "cuenta": 131,
          "entidad": 26,
          "estrato_socioeconomico": 3,
          "estrato_socioeconomico_nom": "Medio Alto",
          "estratos": "3) Medio Alto",
          "nom_entidad": "Sonora",
          "tono_de_color_de_piel": 8
         },
         {
          "abr_estado": "Coah.",
          "cuenta": 28,
          "entidad": 5,
          "estrato_socioeconomico": 3,
          "estrato_socioeconomico_nom": "Medio Alto",
          "estratos": "3) Medio Alto",
          "nom_entidad": "Coahuila de Zaragoza",
          "tono_de_color_de_piel": 6
         },
         {
          "abr_estado": "Coah.",
          "cuenta": 24,
          "entidad": 5,
          "estrato_socioeconomico": 3,
          "estrato_socioeconomico_nom": "Medio Alto",
          "estratos": "3) Medio Alto",
          "nom_entidad": "Coahuila de Zaragoza",
          "tono_de_color_de_piel": 10
         },
         {
          "abr_estado": "Coah.",
          "cuenta": 17,
          "entidad": 5,
          "estrato_socioeconomico": 3,
          "estrato_socioeconomico_nom": "Medio Alto",
          "estratos": "3) Medio Alto",
          "nom_entidad": "Coahuila de Zaragoza",
          "tono_de_color_de_piel": 9
         },
         {
          "abr_estado": "Son.",
          "cuenta": 19,
          "entidad": 26,
          "estrato_socioeconomico": 3,
          "estrato_socioeconomico_nom": "Medio Alto",
          "estratos": "3) Medio Alto",
          "nom_entidad": "Sonora",
          "tono_de_color_de_piel": 10
         },
         {
          "abr_estado": "Coah.",
          "cuenta": 7,
          "entidad": 5,
          "estrato_socioeconomico": 3,
          "estrato_socioeconomico_nom": "Medio Alto",
          "estratos": "3) Medio Alto",
          "nom_entidad": "Coahuila de Zaragoza",
          "tono_de_color_de_piel": 4
         },
         {
          "abr_estado": "Coah.",
          "cuenta": 6,
          "entidad": 5,
          "estrato_socioeconomico": 3,
          "estrato_socioeconomico_nom": "Medio Alto",
          "estratos": "3) Medio Alto",
          "nom_entidad": "Coahuila de Zaragoza",
          "tono_de_color_de_piel": 11
         },
         {
          "abr_estado": "Coah.",
          "cuenta": 2,
          "entidad": 5,
          "estrato_socioeconomico": 3,
          "estrato_socioeconomico_nom": "Medio Alto",
          "estratos": "3) Medio Alto",
          "nom_entidad": "Coahuila de Zaragoza",
          "tono_de_color_de_piel": 3
         },
         {
          "abr_estado": "Coah.",
          "cuenta": 1,
          "entidad": 5,
          "estrato_socioeconomico": 3,
          "estrato_socioeconomico_nom": "Medio Alto",
          "estratos": "3) Medio Alto",
          "nom_entidad": "Coahuila de Zaragoza",
          "tono_de_color_de_piel": 2
         },
         {
          "abr_estado": "Tamps.",
          "cuenta": 82,
          "entidad": 28,
          "estrato_socioeconomico": 3,
          "estrato_socioeconomico_nom": "Medio Alto",
          "estratos": "3) Medio Alto",
          "nom_entidad": "Tamaulipas",
          "tono_de_color_de_piel": 8
         },
         {
          "abr_estado": "Tamps.",
          "cuenta": 46,
          "entidad": 28,
          "estrato_socioeconomico": 3,
          "estrato_socioeconomico_nom": "Medio Alto",
          "estratos": "3) Medio Alto",
          "nom_entidad": "Tamaulipas",
          "tono_de_color_de_piel": 7
         },
         {
          "abr_estado": "Tamps.",
          "cuenta": 21,
          "entidad": 28,
          "estrato_socioeconomico": 3,
          "estrato_socioeconomico_nom": "Medio Alto",
          "estratos": "3) Medio Alto",
          "nom_entidad": "Tamaulipas",
          "tono_de_color_de_piel": 6
         },
         {
          "abr_estado": "Tamps.",
          "cuenta": 14,
          "entidad": 28,
          "estrato_socioeconomico": 3,
          "estrato_socioeconomico_nom": "Medio Alto",
          "estratos": "3) Medio Alto",
          "nom_entidad": "Tamaulipas",
          "tono_de_color_de_piel": 9
         },
         {
          "abr_estado": "Coah.",
          "cuenta": 7,
          "entidad": 5,
          "estrato_socioeconomico": 3,
          "estrato_socioeconomico_nom": "Medio Alto",
          "estratos": "3) Medio Alto",
          "nom_entidad": "Coahuila de Zaragoza",
          "tono_de_color_de_piel": 5
         },
         {
          "abr_estado": "Tamps.",
          "cuenta": 8,
          "entidad": 28,
          "estrato_socioeconomico": 3,
          "estrato_socioeconomico_nom": "Medio Alto",
          "estratos": "3) Medio Alto",
          "nom_entidad": "Tamaulipas",
          "tono_de_color_de_piel": 5
         },
         {
          "abr_estado": "Son.",
          "cuenta": 7,
          "entidad": 26,
          "estrato_socioeconomico": 3,
          "estrato_socioeconomico_nom": "Medio Alto",
          "estratos": "3) Medio Alto",
          "nom_entidad": "Sonora",
          "tono_de_color_de_piel": 11
         },
         {
          "abr_estado": "Son.",
          "cuenta": 2,
          "entidad": 26,
          "estrato_socioeconomico": 3,
          "estrato_socioeconomico_nom": "Medio Alto",
          "estratos": "3) Medio Alto",
          "nom_entidad": "Sonora",
          "tono_de_color_de_piel": 5
         },
         {
          "abr_estado": "Camp.",
          "cuenta": 8,
          "entidad": 4,
          "estrato_socioeconomico": 3,
          "estrato_socioeconomico_nom": "Medio Alto",
          "estratos": "3) Medio Alto",
          "nom_entidad": "Campeche",
          "tono_de_color_de_piel": 10
         },
         {
          "abr_estado": "Camp.",
          "cuenta": 12,
          "entidad": 4,
          "estrato_socioeconomico": 3,
          "estrato_socioeconomico_nom": "Medio Alto",
          "estratos": "3) Medio Alto",
          "nom_entidad": "Campeche",
          "tono_de_color_de_piel": 6
         },
         {
          "abr_estado": "Camp.",
          "cuenta": 27,
          "entidad": 4,
          "estrato_socioeconomico": 3,
          "estrato_socioeconomico_nom": "Medio Alto",
          "estratos": "3) Medio Alto",
          "nom_entidad": "Campeche",
          "tono_de_color_de_piel": 8
         },
         {
          "abr_estado": "Camp.",
          "cuenta": 27,
          "entidad": 4,
          "estrato_socioeconomico": 3,
          "estrato_socioeconomico_nom": "Medio Alto",
          "estratos": "3) Medio Alto",
          "nom_entidad": "Campeche",
          "tono_de_color_de_piel": 7
         },
         {
          "abr_estado": "Tab.",
          "cuenta": 1,
          "entidad": 27,
          "estrato_socioeconomico": 3,
          "estrato_socioeconomico_nom": "Medio Alto",
          "estratos": "3) Medio Alto",
          "nom_entidad": "Tabasco",
          "tono_de_color_de_piel": 11
         },
         {
          "abr_estado": "Tab.",
          "cuenta": 1,
          "entidad": 27,
          "estrato_socioeconomico": 3,
          "estrato_socioeconomico_nom": "Medio Alto",
          "estratos": "3) Medio Alto",
          "nom_entidad": "Tabasco",
          "tono_de_color_de_piel": 4
         },
         {
          "abr_estado": "Tab.",
          "cuenta": 2,
          "entidad": 27,
          "estrato_socioeconomico": 3,
          "estrato_socioeconomico_nom": "Medio Alto",
          "estratos": "3) Medio Alto",
          "nom_entidad": "Tabasco",
          "tono_de_color_de_piel": 5
         },
         {
          "abr_estado": "Son.",
          "cuenta": 5,
          "entidad": 26,
          "estrato_socioeconomico": 3,
          "estrato_socioeconomico_nom": "Medio Alto",
          "estratos": "3) Medio Alto",
          "nom_entidad": "Sonora",
          "tono_de_color_de_piel": 4
         },
         {
          "abr_estado": "Tab.",
          "cuenta": 2,
          "entidad": 27,
          "estrato_socioeconomico": 3,
          "estrato_socioeconomico_nom": "Medio Alto",
          "estratos": "3) Medio Alto",
          "nom_entidad": "Tabasco",
          "tono_de_color_de_piel": 3
         },
         {
          "abr_estado": "Tab.",
          "cuenta": 8,
          "entidad": 27,
          "estrato_socioeconomico": 3,
          "estrato_socioeconomico_nom": "Medio Alto",
          "estratos": "3) Medio Alto",
          "nom_entidad": "Tabasco",
          "tono_de_color_de_piel": 10
         },
         {
          "abr_estado": "Tab.",
          "cuenta": 10,
          "entidad": 27,
          "estrato_socioeconomico": 3,
          "estrato_socioeconomico_nom": "Medio Alto",
          "estratos": "3) Medio Alto",
          "nom_entidad": "Tabasco",
          "tono_de_color_de_piel": 6
         },
         {
          "abr_estado": "Tab.",
          "cuenta": 15,
          "entidad": 27,
          "estrato_socioeconomico": 3,
          "estrato_socioeconomico_nom": "Medio Alto",
          "estratos": "3) Medio Alto",
          "nom_entidad": "Tabasco",
          "tono_de_color_de_piel": 7
         },
         {
          "abr_estado": "Tab.",
          "cuenta": 27,
          "entidad": 27,
          "estrato_socioeconomico": 3,
          "estrato_socioeconomico_nom": "Medio Alto",
          "estratos": "3) Medio Alto",
          "nom_entidad": "Tabasco",
          "tono_de_color_de_piel": 8
         },
         {
          "abr_estado": "Camp.",
          "cuenta": 2,
          "entidad": 4,
          "estrato_socioeconomico": 3,
          "estrato_socioeconomico_nom": "Medio Alto",
          "estratos": "3) Medio Alto",
          "nom_entidad": "Campeche",
          "tono_de_color_de_piel": 4
         },
         {
          "abr_estado": "Coah.",
          "cuenta": 126,
          "entidad": 5,
          "estrato_socioeconomico": 3,
          "estrato_socioeconomico_nom": "Medio Alto",
          "estratos": "3) Medio Alto",
          "nom_entidad": "Coahuila de Zaragoza",
          "tono_de_color_de_piel": 8
         },
         {
          "abr_estado": "Coah.",
          "cuenta": 89,
          "entidad": 5,
          "estrato_socioeconomico": 3,
          "estrato_socioeconomico_nom": "Medio Alto",
          "estratos": "3) Medio Alto",
          "nom_entidad": "Coahuila de Zaragoza",
          "tono_de_color_de_piel": 7
         },
         {
          "abr_estado": "Tab.",
          "cuenta": 6,
          "entidad": 27,
          "estrato_socioeconomico": 3,
          "estrato_socioeconomico_nom": "Medio Alto",
          "estratos": "3) Medio Alto",
          "nom_entidad": "Tabasco",
          "tono_de_color_de_piel": 9
         },
         {
          "abr_estado": "Chis.",
          "cuenta": 17,
          "entidad": 7,
          "estrato_socioeconomico": 3,
          "estrato_socioeconomico_nom": "Medio Alto",
          "estratos": "3) Medio Alto",
          "nom_entidad": "Chiapas",
          "tono_de_color_de_piel": 8
         },
         {
          "abr_estado": "Tamps.",
          "cuenta": 7,
          "entidad": 28,
          "estrato_socioeconomico": 3,
          "estrato_socioeconomico_nom": "Medio Alto",
          "estratos": "3) Medio Alto",
          "nom_entidad": "Tamaulipas",
          "tono_de_color_de_piel": 4
         },
         {
          "abr_estado": "Tamps.",
          "cuenta": 4,
          "entidad": 28,
          "estrato_socioeconomico": 3,
          "estrato_socioeconomico_nom": "Medio Alto",
          "estratos": "3) Medio Alto",
          "nom_entidad": "Tamaulipas",
          "tono_de_color_de_piel": 11
         },
         {
          "abr_estado": "BCS",
          "cuenta": 4,
          "entidad": 3,
          "estrato_socioeconomico": 3,
          "estrato_socioeconomico_nom": "Medio Alto",
          "estratos": "3) Medio Alto",
          "nom_entidad": "Baja California Sur",
          "tono_de_color_de_piel": 3
         },
         {
          "abr_estado": "BCS",
          "cuenta": 6,
          "entidad": 3,
          "estrato_socioeconomico": 3,
          "estrato_socioeconomico_nom": "Medio Alto",
          "estratos": "3) Medio Alto",
          "nom_entidad": "Baja California Sur",
          "tono_de_color_de_piel": 11
         },
         {
          "abr_estado": "BCS",
          "cuenta": 9,
          "entidad": 3,
          "estrato_socioeconomico": 3,
          "estrato_socioeconomico_nom": "Medio Alto",
          "estratos": "3) Medio Alto",
          "nom_entidad": "Baja California Sur",
          "tono_de_color_de_piel": 9
         },
         {
          "abr_estado": "BCS",
          "cuenta": 11,
          "entidad": 3,
          "estrato_socioeconomico": 3,
          "estrato_socioeconomico_nom": "Medio Alto",
          "estratos": "3) Medio Alto",
          "nom_entidad": "Baja California Sur",
          "tono_de_color_de_piel": 10
         },
         {
          "abr_estado": "SLP",
          "cuenta": 1,
          "entidad": 24,
          "estrato_socioeconomico": 3,
          "estrato_socioeconomico_nom": "Medio Alto",
          "estratos": "3) Medio Alto",
          "nom_entidad": "San Luis Potosí",
          "tono_de_color_de_piel": 4
         },
         {
          "abr_estado": "SLP",
          "cuenta": 1,
          "entidad": 24,
          "estrato_socioeconomico": 3,
          "estrato_socioeconomico_nom": "Medio Alto",
          "estratos": "3) Medio Alto",
          "nom_entidad": "San Luis Potosí",
          "tono_de_color_de_piel": 2
         },
         {
          "abr_estado": "SLP",
          "cuenta": 1,
          "entidad": 24,
          "estrato_socioeconomico": 3,
          "estrato_socioeconomico_nom": "Medio Alto",
          "estratos": "3) Medio Alto",
          "nom_entidad": "San Luis Potosí",
          "tono_de_color_de_piel": 1
         },
         {
          "abr_estado": "BCS",
          "cuenta": 2,
          "entidad": 3,
          "estrato_socioeconomico": 3,
          "estrato_socioeconomico_nom": "Medio Alto",
          "estratos": "3) Medio Alto",
          "nom_entidad": "Baja California Sur",
          "tono_de_color_de_piel": 4
         },
         {
          "abr_estado": "SLP",
          "cuenta": 2,
          "entidad": 24,
          "estrato_socioeconomico": 3,
          "estrato_socioeconomico_nom": "Medio Alto",
          "estratos": "3) Medio Alto",
          "nom_entidad": "San Luis Potosí",
          "tono_de_color_de_piel": 3
         },
         {
          "abr_estado": "SLP",
          "cuenta": 4,
          "entidad": 24,
          "estrato_socioeconomico": 3,
          "estrato_socioeconomico_nom": "Medio Alto",
          "estratos": "3) Medio Alto",
          "nom_entidad": "San Luis Potosí",
          "tono_de_color_de_piel": 5
         },
         {
          "abr_estado": "SLP",
          "cuenta": 6,
          "entidad": 24,
          "estrato_socioeconomico": 3,
          "estrato_socioeconomico_nom": "Medio Alto",
          "estratos": "3) Medio Alto",
          "nom_entidad": "San Luis Potosí",
          "tono_de_color_de_piel": 9
         },
         {
          "abr_estado": "SLP",
          "cuenta": 12,
          "entidad": 24,
          "estrato_socioeconomico": 3,
          "estrato_socioeconomico_nom": "Medio Alto",
          "estratos": "3) Medio Alto",
          "nom_entidad": "San Luis Potosí",
          "tono_de_color_de_piel": 10
         },
         {
          "abr_estado": "SLP",
          "cuenta": 13,
          "entidad": 24,
          "estrato_socioeconomico": 3,
          "estrato_socioeconomico_nom": "Medio Alto",
          "estratos": "3) Medio Alto",
          "nom_entidad": "San Luis Potosí",
          "tono_de_color_de_piel": 6
         },
         {
          "abr_estado": "SLP",
          "cuenta": 58,
          "entidad": 24,
          "estrato_socioeconomico": 3,
          "estrato_socioeconomico_nom": "Medio Alto",
          "estratos": "3) Medio Alto",
          "nom_entidad": "San Luis Potosí",
          "tono_de_color_de_piel": 7
         },
         {
          "abr_estado": "SLP",
          "cuenta": 81,
          "entidad": 24,
          "estrato_socioeconomico": 3,
          "estrato_socioeconomico_nom": "Medio Alto",
          "estratos": "3) Medio Alto",
          "nom_entidad": "San Luis Potosí",
          "tono_de_color_de_piel": 8
         },
         {
          "abr_estado": "BCS",
          "cuenta": 30,
          "entidad": 3,
          "estrato_socioeconomico": 3,
          "estrato_socioeconomico_nom": "Medio Alto",
          "estratos": "3) Medio Alto",
          "nom_entidad": "Baja California Sur",
          "tono_de_color_de_piel": 6
         },
         {
          "abr_estado": "SLP",
          "cuenta": 3,
          "entidad": 24,
          "estrato_socioeconomico": 3,
          "estrato_socioeconomico_nom": "Medio Alto",
          "estratos": "3) Medio Alto",
          "nom_entidad": "San Luis Potosí",
          "tono_de_color_de_piel": 11
         },
         {
          "abr_estado": "Tamps.",
          "cuenta": 7,
          "entidad": 28,
          "estrato_socioeconomico": 3,
          "estrato_socioeconomico_nom": "Medio Alto",
          "estratos": "3) Medio Alto",
          "nom_entidad": "Tamaulipas",
          "tono_de_color_de_piel": 10
         },
         {
          "abr_estado": "Chih.",
          "cuenta": 7,
          "entidad": 8,
          "estrato_socioeconomico": 3,
          "estrato_socioeconomico_nom": "Medio Alto",
          "estratos": "3) Medio Alto",
          "nom_entidad": "Chihuahua",
          "tono_de_color_de_piel": 4
         },
         {
          "abr_estado": "Col.",
          "cuenta": 2,
          "entidad": 6,
          "estrato_socioeconomico": 3,
          "estrato_socioeconomico_nom": "Medio Alto",
          "estratos": "3) Medio Alto",
          "nom_entidad": "Colima",
          "tono_de_color_de_piel": 10
         },
         {
          "abr_estado": "Tamps.",
          "cuenta": 1,
          "entidad": 28,
          "estrato_socioeconomico": 3,
          "estrato_socioeconomico_nom": "Medio Alto",
          "estratos": "3) Medio Alto",
          "nom_entidad": "Tamaulipas",
          "tono_de_color_de_piel": 2
         },
         {
          "abr_estado": "Sin.",
          "cuenta": 1,
          "entidad": 25,
          "estrato_socioeconomico": 3,
          "estrato_socioeconomico_nom": "Medio Alto",
          "estratos": "3) Medio Alto",
          "nom_entidad": "Sinaloa",
          "tono_de_color_de_piel": 2
         },
         {
          "abr_estado": "Sin.",
          "cuenta": 3,
          "entidad": 25,
          "estrato_socioeconomico": 3,
          "estrato_socioeconomico_nom": "Medio Alto",
          "estratos": "3) Medio Alto",
          "nom_entidad": "Sinaloa",
          "tono_de_color_de_piel": 5
         },
         {
          "abr_estado": "Sin.",
          "cuenta": 3,
          "entidad": 25,
          "estrato_socioeconomico": 3,
          "estrato_socioeconomico_nom": "Medio Alto",
          "estratos": "3) Medio Alto",
          "nom_entidad": "Sinaloa",
          "tono_de_color_de_piel": 4
         },
         {
          "abr_estado": "Sin.",
          "cuenta": 7,
          "entidad": 25,
          "estrato_socioeconomico": 3,
          "estrato_socioeconomico_nom": "Medio Alto",
          "estratos": "3) Medio Alto",
          "nom_entidad": "Sinaloa",
          "tono_de_color_de_piel": 11
         },
         {
          "abr_estado": "Sin.",
          "cuenta": 16,
          "entidad": 25,
          "estrato_socioeconomico": 3,
          "estrato_socioeconomico_nom": "Medio Alto",
          "estratos": "3) Medio Alto",
          "nom_entidad": "Sinaloa",
          "tono_de_color_de_piel": 9
         },
         {
          "abr_estado": "Sin.",
          "cuenta": 22,
          "entidad": 25,
          "estrato_socioeconomico": 3,
          "estrato_socioeconomico_nom": "Medio Alto",
          "estratos": "3) Medio Alto",
          "nom_entidad": "Sinaloa",
          "tono_de_color_de_piel": 10
         },
         {
          "abr_estado": "Col.",
          "cuenta": 2,
          "entidad": 6,
          "estrato_socioeconomico": 3,
          "estrato_socioeconomico_nom": "Medio Alto",
          "estratos": "3) Medio Alto",
          "nom_entidad": "Colima",
          "tono_de_color_de_piel": 11
         },
         {
          "abr_estado": "Sin.",
          "cuenta": 30,
          "entidad": 25,
          "estrato_socioeconomico": 3,
          "estrato_socioeconomico_nom": "Medio Alto",
          "estratos": "3) Medio Alto",
          "nom_entidad": "Sinaloa",
          "tono_de_color_de_piel": 6
         },
         {
          "abr_estado": "Sin.",
          "cuenta": 86,
          "entidad": 25,
          "estrato_socioeconomico": 3,
          "estrato_socioeconomico_nom": "Medio Alto",
          "estratos": "3) Medio Alto",
          "nom_entidad": "Sinaloa",
          "tono_de_color_de_piel": 8
         },
         {
          "abr_estado": "Col.",
          "cuenta": 58,
          "entidad": 6,
          "estrato_socioeconomico": 3,
          "estrato_socioeconomico_nom": "Medio Alto",
          "estratos": "3) Medio Alto",
          "nom_entidad": "Colima",
          "tono_de_color_de_piel": 8
         },
         {
          "abr_estado": "Col.",
          "cuenta": 35,
          "entidad": 6,
          "estrato_socioeconomico": 3,
          "estrato_socioeconomico_nom": "Medio Alto",
          "estratos": "3) Medio Alto",
          "nom_entidad": "Colima",
          "tono_de_color_de_piel": 7
         },
         {
          "abr_estado": "Col.",
          "cuenta": 23,
          "entidad": 6,
          "estrato_socioeconomico": 3,
          "estrato_socioeconomico_nom": "Medio Alto",
          "estratos": "3) Medio Alto",
          "nom_entidad": "Colima",
          "tono_de_color_de_piel": 6
         },
         {
          "abr_estado": "Col.",
          "cuenta": 6,
          "entidad": 6,
          "estrato_socioeconomico": 3,
          "estrato_socioeconomico_nom": "Medio Alto",
          "estratos": "3) Medio Alto",
          "nom_entidad": "Colima",
          "tono_de_color_de_piel": 5
         },
         {
          "abr_estado": "Col.",
          "cuenta": 4,
          "entidad": 6,
          "estrato_socioeconomico": 3,
          "estrato_socioeconomico_nom": "Medio Alto",
          "estratos": "3) Medio Alto",
          "nom_entidad": "Colima",
          "tono_de_color_de_piel": 4
         },
         {
          "abr_estado": "Col.",
          "cuenta": 3,
          "entidad": 6,
          "estrato_socioeconomico": 3,
          "estrato_socioeconomico_nom": "Medio Alto",
          "estratos": "3) Medio Alto",
          "nom_entidad": "Colima",
          "tono_de_color_de_piel": 9
         },
         {
          "abr_estado": "Sin.",
          "cuenta": 61,
          "entidad": 25,
          "estrato_socioeconomico": 3,
          "estrato_socioeconomico_nom": "Medio Alto",
          "estratos": "3) Medio Alto",
          "nom_entidad": "Sinaloa",
          "tono_de_color_de_piel": 7
         },
         {
          "abr_estado": "Chih.",
          "cuenta": 1,
          "entidad": 8,
          "estrato_socioeconomico": 3,
          "estrato_socioeconomico_nom": "Medio Alto",
          "estratos": "3) Medio Alto",
          "nom_entidad": "Chihuahua",
          "tono_de_color_de_piel": 3
         },
         {
          "abr_estado": "Camp.",
          "cuenta": 3,
          "entidad": 4,
          "estrato_socioeconomico": 3,
          "estrato_socioeconomico_nom": "Medio Alto",
          "estratos": "3) Medio Alto",
          "nom_entidad": "Campeche",
          "tono_de_color_de_piel": 5
         },
         {
          "abr_estado": "Mex.",
          "cuenta": 6,
          "entidad": 15,
          "estrato_socioeconomico": 3,
          "estrato_socioeconomico_nom": "Medio Alto",
          "estratos": "3) Medio Alto",
          "nom_entidad": "México",
          "tono_de_color_de_piel": 11
         },
         {
          "abr_estado": "Zac.",
          "cuenta": 2,
          "entidad": 32,
          "estrato_socioeconomico": 3,
          "estrato_socioeconomico_nom": "Medio Alto",
          "estratos": "3) Medio Alto",
          "nom_entidad": "Zacatecas",
          "tono_de_color_de_piel": 4
         },
         {
          "abr_estado": "Zac.",
          "cuenta": 6,
          "entidad": 32,
          "estrato_socioeconomico": 3,
          "estrato_socioeconomico_nom": "Medio Alto",
          "estratos": "3) Medio Alto",
          "nom_entidad": "Zacatecas",
          "tono_de_color_de_piel": 11
         },
         {
          "abr_estado": "Zac.",
          "cuenta": 7,
          "entidad": 32,
          "estrato_socioeconomico": 3,
          "estrato_socioeconomico_nom": "Medio Alto",
          "estratos": "3) Medio Alto",
          "nom_entidad": "Zacatecas",
          "tono_de_color_de_piel": 9
         },
         {
          "abr_estado": "Zac.",
          "cuenta": 11,
          "entidad": 32,
          "estrato_socioeconomico": 3,
          "estrato_socioeconomico_nom": "Medio Alto",
          "estratos": "3) Medio Alto",
          "nom_entidad": "Zacatecas",
          "tono_de_color_de_piel": 10
         },
         {
          "abr_estado": "Zac.",
          "cuenta": 13,
          "entidad": 32,
          "estrato_socioeconomico": 3,
          "estrato_socioeconomico_nom": "Medio Alto",
          "estratos": "3) Medio Alto",
          "nom_entidad": "Zacatecas",
          "tono_de_color_de_piel": 6
         },
         {
          "abr_estado": "Gto.",
          "cuenta": 53,
          "entidad": 11,
          "estrato_socioeconomico": 3,
          "estrato_socioeconomico_nom": "Medio Alto",
          "estratos": "3) Medio Alto",
          "nom_entidad": "Guanajuato",
          "tono_de_color_de_piel": 7
         },
         {
          "abr_estado": "Gto.",
          "cuenta": 31,
          "entidad": 11,
          "estrato_socioeconomico": 3,
          "estrato_socioeconomico_nom": "Medio Alto",
          "estratos": "3) Medio Alto",
          "nom_entidad": "Guanajuato",
          "tono_de_color_de_piel": 6
         },
         {
          "abr_estado": "Gto.",
          "cuenta": 10,
          "entidad": 11,
          "estrato_socioeconomico": 3,
          "estrato_socioeconomico_nom": "Medio Alto",
          "estratos": "3) Medio Alto",
          "nom_entidad": "Guanajuato",
          "tono_de_color_de_piel": 9
         },
         {
          "abr_estado": "Gto.",
          "cuenta": 5,
          "entidad": 11,
          "estrato_socioeconomico": 3,
          "estrato_socioeconomico_nom": "Medio Alto",
          "estratos": "3) Medio Alto",
          "nom_entidad": "Guanajuato",
          "tono_de_color_de_piel": 5
         },
         {
          "abr_estado": "Gto.",
          "cuenta": 5,
          "entidad": 11,
          "estrato_socioeconomico": 3,
          "estrato_socioeconomico_nom": "Medio Alto",
          "estratos": "3) Medio Alto",
          "nom_entidad": "Guanajuato",
          "tono_de_color_de_piel": 10
         },
         {
          "abr_estado": "Gto.",
          "cuenta": 4,
          "entidad": 11,
          "estrato_socioeconomico": 3,
          "estrato_socioeconomico_nom": "Medio Alto",
          "estratos": "3) Medio Alto",
          "nom_entidad": "Guanajuato",
          "tono_de_color_de_piel": 4
         },
         {
          "abr_estado": "Gto.",
          "cuenta": 4,
          "entidad": 11,
          "estrato_socioeconomico": 3,
          "estrato_socioeconomico_nom": "Medio Alto",
          "estratos": "3) Medio Alto",
          "nom_entidad": "Guanajuato",
          "tono_de_color_de_piel": 11
         },
         {
          "abr_estado": "Gto.",
          "cuenta": 1,
          "entidad": 11,
          "estrato_socioeconomico": 3,
          "estrato_socioeconomico_nom": "Medio Alto",
          "estratos": "3) Medio Alto",
          "nom_entidad": "Guanajuato",
          "tono_de_color_de_piel": 3
         },
         {
          "abr_estado": "Yuc.",
          "cuenta": 3,
          "entidad": 31,
          "estrato_socioeconomico": 3,
          "estrato_socioeconomico_nom": "Medio Alto",
          "estratos": "3) Medio Alto",
          "nom_entidad": "Yucatán",
          "tono_de_color_de_piel": 9
         },
         {
          "abr_estado": "Yuc.",
          "cuenta": 3,
          "entidad": 31,
          "estrato_socioeconomico": 3,
          "estrato_socioeconomico_nom": "Medio Alto",
          "estratos": "3) Medio Alto",
          "nom_entidad": "Yucatán",
          "tono_de_color_de_piel": 11
         },
         {
          "abr_estado": "Zac.",
          "cuenta": 1,
          "entidad": 32,
          "estrato_socioeconomico": 3,
          "estrato_socioeconomico_nom": "Medio Alto",
          "estratos": "3) Medio Alto",
          "nom_entidad": "Zacatecas",
          "tono_de_color_de_piel": 5
         },
         {
          "abr_estado": "Mex.",
          "cuenta": 1,
          "entidad": 15,
          "estrato_socioeconomico": 3,
          "estrato_socioeconomico_nom": "Medio Alto",
          "estratos": "3) Medio Alto",
          "nom_entidad": "México",
          "tono_de_color_de_piel": 5
         },
         {
          "abr_estado": "Mex.",
          "cuenta": 1,
          "entidad": 15,
          "estrato_socioeconomico": 3,
          "estrato_socioeconomico_nom": "Medio Alto",
          "estratos": "3) Medio Alto",
          "nom_entidad": "México",
          "tono_de_color_de_piel": 4
         },
         {
          "abr_estado": "Gto.",
          "cuenta": 63,
          "entidad": 11,
          "estrato_socioeconomico": 3,
          "estrato_socioeconomico_nom": "Medio Alto",
          "estratos": "3) Medio Alto",
          "nom_entidad": "Guanajuato",
          "tono_de_color_de_piel": 8
         },
         {
          "abr_estado": "Mich.",
          "cuenta": 5,
          "entidad": 16,
          "estrato_socioeconomico": 3,
          "estrato_socioeconomico_nom": "Medio Alto",
          "estratos": "3) Medio Alto",
          "nom_entidad": "Michoacán de Ocampo",
          "tono_de_color_de_piel": 10
         },
         {
          "abr_estado": "Mex.",
          "cuenta": 1,
          "entidad": 15,
          "estrato_socioeconomico": 3,
          "estrato_socioeconomico_nom": "Medio Alto",
          "estratos": "3) Medio Alto",
          "nom_entidad": "México",
          "tono_de_color_de_piel": 2
         },
         {
          "abr_estado": "Mex.",
          "cuenta": 1,
          "entidad": 15,
          "estrato_socioeconomico": 3,
          "estrato_socioeconomico_nom": "Medio Alto",
          "estratos": "3) Medio Alto",
          "nom_entidad": "México",
          "tono_de_color_de_piel": 3
         },
         {
          "abr_estado": "Yuc.",
          "cuenta": 57,
          "entidad": 31,
          "estrato_socioeconomico": 3,
          "estrato_socioeconomico_nom": "Medio Alto",
          "estratos": "3) Medio Alto",
          "nom_entidad": "Yucatán",
          "tono_de_color_de_piel": 8
         },
         {
          "abr_estado": "Yuc.",
          "cuenta": 45,
          "entidad": 31,
          "estrato_socioeconomico": 3,
          "estrato_socioeconomico_nom": "Medio Alto",
          "estratos": "3) Medio Alto",
          "nom_entidad": "Yucatán",
          "tono_de_color_de_piel": 7
         },
         {
          "abr_estado": "Yuc.",
          "cuenta": 9,
          "entidad": 31,
          "estrato_socioeconomico": 3,
          "estrato_socioeconomico_nom": "Medio Alto",
          "estratos": "3) Medio Alto",
          "nom_entidad": "Yucatán",
          "tono_de_color_de_piel": 6
         },
         {
          "abr_estado": "Yuc.",
          "cuenta": 8,
          "entidad": 31,
          "estrato_socioeconomico": 3,
          "estrato_socioeconomico_nom": "Medio Alto",
          "estratos": "3) Medio Alto",
          "nom_entidad": "Yucatán",
          "tono_de_color_de_piel": 10
         },
         {
          "abr_estado": "Yuc.",
          "cuenta": 2,
          "entidad": 31,
          "estrato_socioeconomico": 3,
          "estrato_socioeconomico_nom": "Medio Alto",
          "estratos": "3) Medio Alto",
          "nom_entidad": "Yucatán",
          "tono_de_color_de_piel": 3
         },
         {
          "abr_estado": "Yuc.",
          "cuenta": 4,
          "entidad": 31,
          "estrato_socioeconomico": 3,
          "estrato_socioeconomico_nom": "Medio Alto",
          "estratos": "3) Medio Alto",
          "nom_entidad": "Yucatán",
          "tono_de_color_de_piel": 4
         },
         {
          "abr_estado": "Nay.",
          "cuenta": 2,
          "entidad": 18,
          "estrato_socioeconomico": 3,
          "estrato_socioeconomico_nom": "Medio Alto",
          "estratos": "3) Medio Alto",
          "nom_entidad": "Nayarit",
          "tono_de_color_de_piel": 5
         },
         {
          "abr_estado": "Nay.",
          "cuenta": 3,
          "entidad": 18,
          "estrato_socioeconomico": 3,
          "estrato_socioeconomico_nom": "Medio Alto",
          "estratos": "3) Medio Alto",
          "nom_entidad": "Nayarit",
          "tono_de_color_de_piel": 9
         },
         {
          "abr_estado": "Nay.",
          "cuenta": 4,
          "entidad": 18,
          "estrato_socioeconomico": 3,
          "estrato_socioeconomico_nom": "Medio Alto",
          "estratos": "3) Medio Alto",
          "nom_entidad": "Nayarit",
          "tono_de_color_de_piel": 4
         },
         {
          "abr_estado": "Nay.",
          "cuenta": 5,
          "entidad": 18,
          "estrato_socioeconomico": 3,
          "estrato_socioeconomico_nom": "Medio Alto",
          "estratos": "3) Medio Alto",
          "nom_entidad": "Nayarit",
          "tono_de_color_de_piel": 10
         },
         {
          "abr_estado": "Nay.",
          "cuenta": 14,
          "entidad": 18,
          "estrato_socioeconomico": 3,
          "estrato_socioeconomico_nom": "Medio Alto",
          "estratos": "3) Medio Alto",
          "nom_entidad": "Nayarit",
          "tono_de_color_de_piel": 6
         },
         {
          "abr_estado": "Nay.",
          "cuenta": 53,
          "entidad": 18,
          "estrato_socioeconomico": 3,
          "estrato_socioeconomico_nom": "Medio Alto",
          "estratos": "3) Medio Alto",
          "nom_entidad": "Nayarit",
          "tono_de_color_de_piel": 7
         },
         {
          "abr_estado": "Nay.",
          "cuenta": 82,
          "entidad": 18,
          "estrato_socioeconomico": 3,
          "estrato_socioeconomico_nom": "Medio Alto",
          "estratos": "3) Medio Alto",
          "nom_entidad": "Nayarit",
          "tono_de_color_de_piel": 8
         },
         {
          "abr_estado": "Nay.",
          "cuenta": 2,
          "entidad": 18,
          "estrato_socioeconomico": 3,
          "estrato_socioeconomico_nom": "Medio Alto",
          "estratos": "3) Medio Alto",
          "nom_entidad": "Nayarit",
          "tono_de_color_de_piel": 11
         },
         {
          "abr_estado": "Mex.",
          "cuenta": 8,
          "entidad": 15,
          "estrato_socioeconomico": 3,
          "estrato_socioeconomico_nom": "Medio Alto",
          "estratos": "3) Medio Alto",
          "nom_entidad": "México",
          "tono_de_color_de_piel": 10
         },
         {
          "abr_estado": "Yuc.",
          "cuenta": 1,
          "entidad": 31,
          "estrato_socioeconomico": 3,
          "estrato_socioeconomico_nom": "Medio Alto",
          "estratos": "3) Medio Alto",
          "nom_entidad": "Yucatán",
          "tono_de_color_de_piel": 2
         },
         {
          "abr_estado": "Zac.",
          "cuenta": 44,
          "entidad": 32,
          "estrato_socioeconomico": 3,
          "estrato_socioeconomico_nom": "Medio Alto",
          "estratos": "3) Medio Alto",
          "nom_entidad": "Zacatecas",
          "tono_de_color_de_piel": 7
         },
         {
          "abr_estado": "Gro.",
          "cuenta": 2,
          "entidad": 12,
          "estrato_socioeconomico": 3,
          "estrato_socioeconomico_nom": "Medio Alto",
          "estratos": "3) Medio Alto",
          "nom_entidad": "Guerrero",
          "tono_de_color_de_piel": 6
         },
         {
          "abr_estado": "Ags.",
          "cuenta": 4,
          "entidad": 1,
          "estrato_socioeconomico": 3,
          "estrato_socioeconomico_nom": "Medio Alto",
          "estratos": "3) Medio Alto",
          "nom_entidad": "Aguascalientes",
          "tono_de_color_de_piel": 4
         },
         {
          "abr_estado": "Gro.",
          "cuenta": 1,
          "entidad": 12,
          "estrato_socioeconomico": 3,
          "estrato_socioeconomico_nom": "Medio Alto",
          "estratos": "3) Medio Alto",
          "nom_entidad": "Guerrero",
          "tono_de_color_de_piel": 5
         },
         {
          "abr_estado": "Gro.",
          "cuenta": 1,
          "entidad": 12,
          "estrato_socioeconomico": 3,
          "estrato_socioeconomico_nom": "Medio Alto",
          "estratos": "3) Medio Alto",
          "nom_entidad": "Guerrero",
          "tono_de_color_de_piel": 9
         },
         {
          "abr_estado": "Ags.",
          "cuenta": 5,
          "entidad": 1,
          "estrato_socioeconomico": 3,
          "estrato_socioeconomico_nom": "Medio Alto",
          "estratos": "3) Medio Alto",
          "nom_entidad": "Aguascalientes",
          "tono_de_color_de_piel": 11
         },
         {
          "abr_estado": "Ags.",
          "cuenta": 6,
          "entidad": 1,
          "estrato_socioeconomico": 3,
          "estrato_socioeconomico_nom": "Medio Alto",
          "estratos": "3) Medio Alto",
          "nom_entidad": "Aguascalientes",
          "tono_de_color_de_piel": 5
         },
         {
          "abr_estado": "Ags.",
          "cuenta": 21,
          "entidad": 1,
          "estrato_socioeconomico": 3,
          "estrato_socioeconomico_nom": "Medio Alto",
          "estratos": "3) Medio Alto",
          "nom_entidad": "Aguascalientes",
          "tono_de_color_de_piel": 9
         },
         {
          "abr_estado": "Ags.",
          "cuenta": 27,
          "entidad": 1,
          "estrato_socioeconomico": 3,
          "estrato_socioeconomico_nom": "Medio Alto",
          "estratos": "3) Medio Alto",
          "nom_entidad": "Aguascalientes",
          "tono_de_color_de_piel": 10
         },
         {
          "abr_estado": "Ags.",
          "cuenta": 27,
          "entidad": 1,
          "estrato_socioeconomico": 3,
          "estrato_socioeconomico_nom": "Medio Alto",
          "estratos": "3) Medio Alto",
          "nom_entidad": "Aguascalientes",
          "tono_de_color_de_piel": 6
         },
         {
          "abr_estado": "Ags.",
          "cuenta": 81,
          "entidad": 1,
          "estrato_socioeconomico": 3,
          "estrato_socioeconomico_nom": "Medio Alto",
          "estratos": "3) Medio Alto",
          "nom_entidad": "Aguascalientes",
          "tono_de_color_de_piel": 7
         },
         {
          "abr_estado": "Ags.",
          "cuenta": 129,
          "entidad": 1,
          "estrato_socioeconomico": 3,
          "estrato_socioeconomico_nom": "Medio Alto",
          "estratos": "3) Medio Alto",
          "nom_entidad": "Aguascalientes",
          "tono_de_color_de_piel": 8
         },
         {
          "abr_estado": "Mich.",
          "cuenta": 1,
          "entidad": 16,
          "estrato_socioeconomico": 3,
          "estrato_socioeconomico_nom": "Medio Alto",
          "estratos": "3) Medio Alto",
          "nom_entidad": "Michoacán de Ocampo",
          "tono_de_color_de_piel": 5
         },
         {
          "abr_estado": "Mich.",
          "cuenta": 1,
          "entidad": 16,
          "estrato_socioeconomico": 3,
          "estrato_socioeconomico_nom": "Medio Alto",
          "estratos": "3) Medio Alto",
          "nom_entidad": "Michoacán de Ocampo",
          "tono_de_color_de_piel": 4
         },
         {
          "abr_estado": "Mich.",
          "cuenta": 2,
          "entidad": 16,
          "estrato_socioeconomico": 3,
          "estrato_socioeconomico_nom": "Medio Alto",
          "estratos": "3) Medio Alto",
          "nom_entidad": "Michoacán de Ocampo",
          "tono_de_color_de_piel": 3
         },
         {
          "abr_estado": "Mich.",
          "cuenta": 5,
          "entidad": 16,
          "estrato_socioeconomico": 3,
          "estrato_socioeconomico_nom": "Medio Alto",
          "estratos": "3) Medio Alto",
          "nom_entidad": "Michoacán de Ocampo",
          "tono_de_color_de_piel": 11
         },
         {
          "abr_estado": "Gro.",
          "cuenta": 9,
          "entidad": 12,
          "estrato_socioeconomico": 3,
          "estrato_socioeconomico_nom": "Medio Alto",
          "estratos": "3) Medio Alto",
          "nom_entidad": "Guerrero",
          "tono_de_color_de_piel": 7
         },
         {
          "abr_estado": "Gro.",
          "cuenta": 24,
          "entidad": 12,
          "estrato_socioeconomico": 3,
          "estrato_socioeconomico_nom": "Medio Alto",
          "estratos": "3) Medio Alto",
          "nom_entidad": "Guerrero",
          "tono_de_color_de_piel": 8
         },
         {
          "abr_estado": "Mor.",
          "cuenta": 43,
          "entidad": 17,
          "estrato_socioeconomico": 3,
          "estrato_socioeconomico_nom": "Medio Alto",
          "estratos": "3) Medio Alto",
          "nom_entidad": "Morelos",
          "tono_de_color_de_piel": 8
         },
         {
          "abr_estado": "Mor.",
          "cuenta": 35,
          "entidad": 17,
          "estrato_socioeconomico": 3,
          "estrato_socioeconomico_nom": "Medio Alto",
          "estratos": "3) Medio Alto",
          "nom_entidad": "Morelos",
          "tono_de_color_de_piel": 7
         },
         {
          "abr_estado": "Zac.",
          "cuenta": 76,
          "entidad": 32,
          "estrato_socioeconomico": 3,
          "estrato_socioeconomico_nom": "Medio Alto",
          "estratos": "3) Medio Alto",
          "nom_entidad": "Zacatecas",
          "tono_de_color_de_piel": 8
         },
         {
          "abr_estado": "Hgo.",
          "cuenta": 1,
          "entidad": 13,
          "estrato_socioeconomico": 3,
          "estrato_socioeconomico_nom": "Medio Alto",
          "estratos": "3) Medio Alto",
          "nom_entidad": "Hidalgo",
          "tono_de_color_de_piel": 6
         },
         {
          "abr_estado": "Hgo.",
          "cuenta": 2,
          "entidad": 13,
          "estrato_socioeconomico": 3,
          "estrato_socioeconomico_nom": "Medio Alto",
          "estratos": "3) Medio Alto",
          "nom_entidad": "Hidalgo",
          "tono_de_color_de_piel": 11
         },
         {
          "abr_estado": "Hgo.",
          "cuenta": 3,
          "entidad": 13,
          "estrato_socioeconomico": 3,
          "estrato_socioeconomico_nom": "Medio Alto",
          "estratos": "3) Medio Alto",
          "nom_entidad": "Hidalgo",
          "tono_de_color_de_piel": 10
         },
         {
          "abr_estado": "Hgo.",
          "cuenta": 3,
          "entidad": 13,
          "estrato_socioeconomico": 3,
          "estrato_socioeconomico_nom": "Medio Alto",
          "estratos": "3) Medio Alto",
          "nom_entidad": "Hidalgo",
          "tono_de_color_de_piel": 9
         },
         {
          "abr_estado": "Hgo.",
          "cuenta": 14,
          "entidad": 13,
          "estrato_socioeconomico": 3,
          "estrato_socioeconomico_nom": "Medio Alto",
          "estratos": "3) Medio Alto",
          "nom_entidad": "Hidalgo",
          "tono_de_color_de_piel": 7
         },
         {
          "abr_estado": "Hgo.",
          "cuenta": 16,
          "entidad": 13,
          "estrato_socioeconomico": 3,
          "estrato_socioeconomico_nom": "Medio Alto",
          "estratos": "3) Medio Alto",
          "nom_entidad": "Hidalgo",
          "tono_de_color_de_piel": 8
         },
         {
          "abr_estado": "Yuc.",
          "cuenta": 1,
          "entidad": 31,
          "estrato_socioeconomico": 3,
          "estrato_socioeconomico_nom": "Medio Alto",
          "estratos": "3) Medio Alto",
          "nom_entidad": "Yucatán",
          "tono_de_color_de_piel": 5
         },
         {
          "abr_estado": "Mor.",
          "cuenta": 2,
          "entidad": 17,
          "estrato_socioeconomico": 3,
          "estrato_socioeconomico_nom": "Medio Alto",
          "estratos": "3) Medio Alto",
          "nom_entidad": "Morelos",
          "tono_de_color_de_piel": 11
         },
         {
          "abr_estado": "Mich.",
          "cuenta": 29,
          "entidad": 16,
          "estrato_socioeconomico": 3,
          "estrato_socioeconomico_nom": "Medio Alto",
          "estratos": "3) Medio Alto",
          "nom_entidad": "Michoacán de Ocampo",
          "tono_de_color_de_piel": 7
         },
         {
          "abr_estado": "Mich.",
          "cuenta": 5,
          "entidad": 16,
          "estrato_socioeconomico": 3,
          "estrato_socioeconomico_nom": "Medio Alto",
          "estratos": "3) Medio Alto",
          "nom_entidad": "Michoacán de Ocampo",
          "tono_de_color_de_piel": 6
         },
         {
          "abr_estado": "Mor.",
          "cuenta": 2,
          "entidad": 17,
          "estrato_socioeconomico": 3,
          "estrato_socioeconomico_nom": "Medio Alto",
          "estratos": "3) Medio Alto",
          "nom_entidad": "Morelos",
          "tono_de_color_de_piel": 9
         },
         {
          "abr_estado": "Mor.",
          "cuenta": 2,
          "entidad": 17,
          "estrato_socioeconomico": 3,
          "estrato_socioeconomico_nom": "Medio Alto",
          "estratos": "3) Medio Alto",
          "nom_entidad": "Morelos",
          "tono_de_color_de_piel": 4
         },
         {
          "abr_estado": "Mor.",
          "cuenta": 5,
          "entidad": 17,
          "estrato_socioeconomico": 3,
          "estrato_socioeconomico_nom": "Medio Alto",
          "estratos": "3) Medio Alto",
          "nom_entidad": "Morelos",
          "tono_de_color_de_piel": 10
         },
         {
          "abr_estado": "Mor.",
          "cuenta": 6,
          "entidad": 17,
          "estrato_socioeconomico": 3,
          "estrato_socioeconomico_nom": "Medio Alto",
          "estratos": "3) Medio Alto",
          "nom_entidad": "Morelos",
          "tono_de_color_de_piel": 5
         },
         {
          "abr_estado": "Mor.",
          "cuenta": 25,
          "entidad": 17,
          "estrato_socioeconomico": 3,
          "estrato_socioeconomico_nom": "Medio Alto",
          "estratos": "3) Medio Alto",
          "nom_entidad": "Morelos",
          "tono_de_color_de_piel": 6
         },
         {
          "abr_estado": "Mich.",
          "cuenta": 46,
          "entidad": 16,
          "estrato_socioeconomico": 3,
          "estrato_socioeconomico_nom": "Medio Alto",
          "estratos": "3) Medio Alto",
          "nom_entidad": "Michoacán de Ocampo",
          "tono_de_color_de_piel": 8
         },
         {
          "abr_estado": "NL",
          "cuenta": 137,
          "entidad": 19,
          "estrato_socioeconomico": 3,
          "estrato_socioeconomico_nom": "Medio Alto",
          "estratos": "3) Medio Alto",
          "nom_entidad": "Nuevo León",
          "tono_de_color_de_piel": 8
         },
         {
          "abr_estado": "Mich.",
          "cuenta": 5,
          "entidad": 16,
          "estrato_socioeconomico": 3,
          "estrato_socioeconomico_nom": "Medio Alto",
          "estratos": "3) Medio Alto",
          "nom_entidad": "Michoacán de Ocampo",
          "tono_de_color_de_piel": 9
         },
         {
          "abr_estado": "NL",
          "cuenta": 26,
          "entidad": 19,
          "estrato_socioeconomico": 3,
          "estrato_socioeconomico_nom": "Medio Alto",
          "estratos": "3) Medio Alto",
          "nom_entidad": "Nuevo León",
          "tono_de_color_de_piel": 6
         },
         {
          "abr_estado": "Pue.",
          "cuenta": 30,
          "entidad": 21,
          "estrato_socioeconomico": 3,
          "estrato_socioeconomico_nom": "Medio Alto",
          "estratos": "3) Medio Alto",
          "nom_entidad": "Puebla",
          "tono_de_color_de_piel": 7
         },
         {
          "abr_estado": "Pue.",
          "cuenta": 40,
          "entidad": 21,
          "estrato_socioeconomico": 3,
          "estrato_socioeconomico_nom": "Medio Alto",
          "estratos": "3) Medio Alto",
          "nom_entidad": "Puebla",
          "tono_de_color_de_piel": 8
         },
         {
          "abr_estado": "CDMX",
          "cuenta": 145,
          "entidad": 9,
          "estrato_socioeconomico": 3,
          "estrato_socioeconomico_nom": "Medio Alto",
          "estratos": "3) Medio Alto",
          "nom_entidad": "Ciudad de México",
          "tono_de_color_de_piel": 8
         },
         {
          "abr_estado": "CDMX",
          "cuenta": 121,
          "entidad": 9,
          "estrato_socioeconomico": 3,
          "estrato_socioeconomico_nom": "Medio Alto",
          "estratos": "3) Medio Alto",
          "nom_entidad": "Ciudad de México",
          "tono_de_color_de_piel": 7
         },
         {
          "abr_estado": "CDMX",
          "cuenta": 24,
          "entidad": 9,
          "estrato_socioeconomico": 3,
          "estrato_socioeconomico_nom": "Medio Alto",
          "estratos": "3) Medio Alto",
          "nom_entidad": "Ciudad de México",
          "tono_de_color_de_piel": 9
         },
         {
          "abr_estado": "CDMX",
          "cuenta": 21,
          "entidad": 9,
          "estrato_socioeconomico": 3,
          "estrato_socioeconomico_nom": "Medio Alto",
          "estratos": "3) Medio Alto",
          "nom_entidad": "Ciudad de México",
          "tono_de_color_de_piel": 6
         },
         {
          "abr_estado": "Pue.",
          "cuenta": 8,
          "entidad": 21,
          "estrato_socioeconomico": 3,
          "estrato_socioeconomico_nom": "Medio Alto",
          "estratos": "3) Medio Alto",
          "nom_entidad": "Puebla",
          "tono_de_color_de_piel": 6
         },
         {
          "abr_estado": "CDMX",
          "cuenta": 21,
          "entidad": 9,
          "estrato_socioeconomico": 3,
          "estrato_socioeconomico_nom": "Medio Alto",
          "estratos": "3) Medio Alto",
          "nom_entidad": "Ciudad de México",
          "tono_de_color_de_piel": 10
         },
         {
          "abr_estado": "CDMX",
          "cuenta": 7,
          "entidad": 9,
          "estrato_socioeconomico": 3,
          "estrato_socioeconomico_nom": "Medio Alto",
          "estratos": "3) Medio Alto",
          "nom_entidad": "Ciudad de México",
          "tono_de_color_de_piel": 11
         },
         {
          "abr_estado": "CDMX",
          "cuenta": 3,
          "entidad": 9,
          "estrato_socioeconomico": 3,
          "estrato_socioeconomico_nom": "Medio Alto",
          "estratos": "3) Medio Alto",
          "nom_entidad": "Ciudad de México",
          "tono_de_color_de_piel": 4
         },
         {
          "abr_estado": "CDMX",
          "cuenta": 2,
          "entidad": 9,
          "estrato_socioeconomico": 3,
          "estrato_socioeconomico_nom": "Medio Alto",
          "estratos": "3) Medio Alto",
          "nom_entidad": "Ciudad de México",
          "tono_de_color_de_piel": 2
         },
         {
          "abr_estado": "CDMX",
          "cuenta": 1,
          "entidad": 9,
          "estrato_socioeconomico": 3,
          "estrato_socioeconomico_nom": "Medio Alto",
          "estratos": "3) Medio Alto",
          "nom_entidad": "Ciudad de México",
          "tono_de_color_de_piel": 1
         },
         {
          "abr_estado": "NL",
          "cuenta": 81,
          "entidad": 19,
          "estrato_socioeconomico": 3,
          "estrato_socioeconomico_nom": "Medio Alto",
          "estratos": "3) Medio Alto",
          "nom_entidad": "Nuevo León",
          "tono_de_color_de_piel": 7
         },
         {
          "abr_estado": "Ver.",
          "cuenta": 1,
          "entidad": 30,
          "estrato_socioeconomico": 3,
          "estrato_socioeconomico_nom": "Medio Alto",
          "estratos": "3) Medio Alto",
          "nom_entidad": "Veracruz de Ignacio de la Llave",
          "tono_de_color_de_piel": 2
         },
         {
          "abr_estado": "CDMX",
          "cuenta": 8,
          "entidad": 9,
          "estrato_socioeconomico": 3,
          "estrato_socioeconomico_nom": "Medio Alto",
          "estratos": "3) Medio Alto",
          "nom_entidad": "Ciudad de México",
          "tono_de_color_de_piel": 5
         },
         {
          "abr_estado": "Camp.",
          "cuenta": 4,
          "entidad": 4,
          "estrato_socioeconomico": 3,
          "estrato_socioeconomico_nom": "Medio Alto",
          "estratos": "3) Medio Alto",
          "nom_entidad": "Campeche",
          "tono_de_color_de_piel": 9
         },
         {
          "abr_estado": "Pue.",
          "cuenta": 3,
          "entidad": 21,
          "estrato_socioeconomico": 3,
          "estrato_socioeconomico_nom": "Medio Alto",
          "estratos": "3) Medio Alto",
          "nom_entidad": "Puebla",
          "tono_de_color_de_piel": 4
         },
         {
          "abr_estado": "Pue.",
          "cuenta": 2,
          "entidad": 21,
          "estrato_socioeconomico": 3,
          "estrato_socioeconomico_nom": "Medio Alto",
          "estratos": "3) Medio Alto",
          "nom_entidad": "Puebla",
          "tono_de_color_de_piel": 5
         },
         {
          "abr_estado": "Jal.",
          "cuenta": 6,
          "entidad": 14,
          "estrato_socioeconomico": 3,
          "estrato_socioeconomico_nom": "Medio Alto",
          "estratos": "3) Medio Alto",
          "nom_entidad": "Jalisco",
          "tono_de_color_de_piel": 11
         },
         {
          "abr_estado": "BC",
          "cuenta": 1,
          "entidad": 2,
          "estrato_socioeconomico": 3,
          "estrato_socioeconomico_nom": "Medio Alto",
          "estratos": "3) Medio Alto",
          "nom_entidad": "Baja California",
          "tono_de_color_de_piel": 3
         },
         {
          "abr_estado": "BC",
          "cuenta": 2,
          "entidad": 2,
          "estrato_socioeconomico": 3,
          "estrato_socioeconomico_nom": "Medio Alto",
          "estratos": "3) Medio Alto",
          "nom_entidad": "Baja California",
          "tono_de_color_de_piel": 11
         },
         {
          "abr_estado": "BC",
          "cuenta": 3,
          "entidad": 2,
          "estrato_socioeconomico": 3,
          "estrato_socioeconomico_nom": "Medio Alto",
          "estratos": "3) Medio Alto",
          "nom_entidad": "Baja California",
          "tono_de_color_de_piel": 4
         },
         {
          "abr_estado": "BC",
          "cuenta": 6,
          "entidad": 2,
          "estrato_socioeconomico": 3,
          "estrato_socioeconomico_nom": "Medio Alto",
          "estratos": "3) Medio Alto",
          "nom_entidad": "Baja California",
          "tono_de_color_de_piel": 5
         },
         {
          "abr_estado": "Ver.",
          "cuenta": 28,
          "entidad": 30,
          "estrato_socioeconomico": 3,
          "estrato_socioeconomico_nom": "Medio Alto",
          "estratos": "3) Medio Alto",
          "nom_entidad": "Veracruz de Ignacio de la Llave",
          "tono_de_color_de_piel": 7
         },
         {
          "abr_estado": "Ver.",
          "cuenta": 26,
          "entidad": 30,
          "estrato_socioeconomico": 3,
          "estrato_socioeconomico_nom": "Medio Alto",
          "estratos": "3) Medio Alto",
          "nom_entidad": "Veracruz de Ignacio de la Llave",
          "tono_de_color_de_piel": 8
         },
         {
          "abr_estado": "Jal.",
          "cuenta": 7,
          "entidad": 14,
          "estrato_socioeconomico": 3,
          "estrato_socioeconomico_nom": "Medio Alto",
          "estratos": "3) Medio Alto",
          "nom_entidad": "Jalisco",
          "tono_de_color_de_piel": 5
         },
         {
          "abr_estado": "Ver.",
          "cuenta": 3,
          "entidad": 30,
          "estrato_socioeconomico": 3,
          "estrato_socioeconomico_nom": "Medio Alto",
          "estratos": "3) Medio Alto",
          "nom_entidad": "Veracruz de Ignacio de la Llave",
          "tono_de_color_de_piel": 6
         },
         {
          "abr_estado": "Ver.",
          "cuenta": 2,
          "entidad": 30,
          "estrato_socioeconomico": 3,
          "estrato_socioeconomico_nom": "Medio Alto",
          "estratos": "3) Medio Alto",
          "nom_entidad": "Veracruz de Ignacio de la Llave",
          "tono_de_color_de_piel": 11
         },
         {
          "abr_estado": "Pue.",
          "cuenta": 1,
          "entidad": 21,
          "estrato_socioeconomico": 3,
          "estrato_socioeconomico_nom": "Medio Alto",
          "estratos": "3) Medio Alto",
          "nom_entidad": "Puebla",
          "tono_de_color_de_piel": 9
         },
         {
          "abr_estado": "Pue.",
          "cuenta": 1,
          "entidad": 21,
          "estrato_socioeconomico": 3,
          "estrato_socioeconomico_nom": "Medio Alto",
          "estratos": "3) Medio Alto",
          "nom_entidad": "Puebla",
          "tono_de_color_de_piel": 3
         },
         {
          "abr_estado": "Pue.",
          "cuenta": 1,
          "entidad": 21,
          "estrato_socioeconomico": 3,
          "estrato_socioeconomico_nom": "Medio Alto",
          "estratos": "3) Medio Alto",
          "nom_entidad": "Puebla",
          "tono_de_color_de_piel": 2
         },
         {
          "abr_estado": "Pue.",
          "cuenta": 1,
          "entidad": 21,
          "estrato_socioeconomico": 3,
          "estrato_socioeconomico_nom": "Medio Alto",
          "estratos": "3) Medio Alto",
          "nom_entidad": "Puebla",
          "tono_de_color_de_piel": 1
         },
         {
          "abr_estado": "Pue.",
          "cuenta": 2,
          "entidad": 21,
          "estrato_socioeconomico": 3,
          "estrato_socioeconomico_nom": "Medio Alto",
          "estratos": "3) Medio Alto",
          "nom_entidad": "Puebla",
          "tono_de_color_de_piel": 11
         },
         {
          "abr_estado": "Ver.",
          "cuenta": 1,
          "entidad": 30,
          "estrato_socioeconomico": 3,
          "estrato_socioeconomico_nom": "Medio Alto",
          "estratos": "3) Medio Alto",
          "nom_entidad": "Veracruz de Ignacio de la Llave",
          "tono_de_color_de_piel": 9
         },
         {
          "abr_estado": "Jal.",
          "cuenta": 7,
          "entidad": 14,
          "estrato_socioeconomico": 3,
          "estrato_socioeconomico_nom": "Medio Alto",
          "estratos": "3) Medio Alto",
          "nom_entidad": "Jalisco",
          "tono_de_color_de_piel": 4
         },
         {
          "abr_estado": "CDMX",
          "cuenta": 1,
          "entidad": 9,
          "estrato_socioeconomico": 3,
          "estrato_socioeconomico_nom": "Medio Alto",
          "estratos": "3) Medio Alto",
          "nom_entidad": "Ciudad de México",
          "tono_de_color_de_piel": 3
         },
         {
          "abr_estado": "Jal.",
          "cuenta": 13,
          "entidad": 14,
          "estrato_socioeconomico": 3,
          "estrato_socioeconomico_nom": "Medio Alto",
          "estratos": "3) Medio Alto",
          "nom_entidad": "Jalisco",
          "tono_de_color_de_piel": 10
         },
         {
          "abr_estado": "Dgo.",
          "cuenta": 44,
          "entidad": 10,
          "estrato_socioeconomico": 3,
          "estrato_socioeconomico_nom": "Medio Alto",
          "estratos": "3) Medio Alto",
          "nom_entidad": "Durango",
          "tono_de_color_de_piel": 7
         },
         {
          "abr_estado": "Dgo.",
          "cuenta": 14,
          "entidad": 10,
          "estrato_socioeconomico": 3,
          "estrato_socioeconomico_nom": "Medio Alto",
          "estratos": "3) Medio Alto",
          "nom_entidad": "Durango",
          "tono_de_color_de_piel": 6
         },
         {
          "abr_estado": "Dgo.",
          "cuenta": 12,
          "entidad": 10,
          "estrato_socioeconomico": 3,
          "estrato_socioeconomico_nom": "Medio Alto",
          "estratos": "3) Medio Alto",
          "nom_entidad": "Durango",
          "tono_de_color_de_piel": 10
         },
         {
          "abr_estado": "Dgo.",
          "cuenta": 10,
          "entidad": 10,
          "estrato_socioeconomico": 3,
          "estrato_socioeconomico_nom": "Medio Alto",
          "estratos": "3) Medio Alto",
          "nom_entidad": "Durango",
          "tono_de_color_de_piel": 9
         },
         {
          "abr_estado": "Dgo.",
          "cuenta": 3,
          "entidad": 10,
          "estrato_socioeconomico": 3,
          "estrato_socioeconomico_nom": "Medio Alto",
          "estratos": "3) Medio Alto",
          "nom_entidad": "Durango",
          "tono_de_color_de_piel": 4
         },
         {
          "abr_estado": "Dgo.",
          "cuenta": 2,
          "entidad": 10,
          "estrato_socioeconomico": 3,
          "estrato_socioeconomico_nom": "Medio Alto",
          "estratos": "3) Medio Alto",
          "nom_entidad": "Durango",
          "tono_de_color_de_piel": 3
         },
         {
          "abr_estado": "Dgo.",
          "cuenta": 2,
          "entidad": 10,
          "estrato_socioeconomico": 3,
          "estrato_socioeconomico_nom": "Medio Alto",
          "estratos": "3) Medio Alto",
          "nom_entidad": "Durango",
          "tono_de_color_de_piel": 5
         },
         {
          "abr_estado": "Ver.",
          "cuenta": 1,
          "entidad": 30,
          "estrato_socioeconomico": 3,
          "estrato_socioeconomico_nom": "Medio Alto",
          "estratos": "3) Medio Alto",
          "nom_entidad": "Veracruz de Ignacio de la Llave",
          "tono_de_color_de_piel": 10
         },
         {
          "abr_estado": "Dgo.",
          "cuenta": 2,
          "entidad": 10,
          "estrato_socioeconomico": 3,
          "estrato_socioeconomico_nom": "Medio Alto",
          "estratos": "3) Medio Alto",
          "nom_entidad": "Durango",
          "tono_de_color_de_piel": 11
         },
         {
          "abr_estado": "NL",
          "cuenta": 1,
          "entidad": 19,
          "estrato_socioeconomico": 3,
          "estrato_socioeconomico_nom": "Medio Alto",
          "estratos": "3) Medio Alto",
          "nom_entidad": "Nuevo León",
          "tono_de_color_de_piel": 3
         },
         {
          "abr_estado": "NL",
          "cuenta": 1,
          "entidad": 19,
          "estrato_socioeconomico": 3,
          "estrato_socioeconomico_nom": "Medio Alto",
          "estratos": "3) Medio Alto",
          "nom_entidad": "Nuevo León",
          "tono_de_color_de_piel": 2
         },
         {
          "abr_estado": "NL",
          "cuenta": 3,
          "entidad": 19,
          "estrato_socioeconomico": 3,
          "estrato_socioeconomico_nom": "Medio Alto",
          "estratos": "3) Medio Alto",
          "nom_entidad": "Nuevo León",
          "tono_de_color_de_piel": 4
         },
         {
          "abr_estado": "NL",
          "cuenta": 5,
          "entidad": 19,
          "estrato_socioeconomico": 3,
          "estrato_socioeconomico_nom": "Medio Alto",
          "estratos": "3) Medio Alto",
          "nom_entidad": "Nuevo León",
          "tono_de_color_de_piel": 11
         },
         {
          "abr_estado": "NL",
          "cuenta": 9,
          "entidad": 19,
          "estrato_socioeconomico": 3,
          "estrato_socioeconomico_nom": "Medio Alto",
          "estratos": "3) Medio Alto",
          "nom_entidad": "Nuevo León",
          "tono_de_color_de_piel": 5
         },
         {
          "abr_estado": "NL",
          "cuenta": 17,
          "entidad": 19,
          "estrato_socioeconomico": 3,
          "estrato_socioeconomico_nom": "Medio Alto",
          "estratos": "3) Medio Alto",
          "nom_entidad": "Nuevo León",
          "tono_de_color_de_piel": 9
         },
         {
          "abr_estado": "NL",
          "cuenta": 25,
          "entidad": 19,
          "estrato_socioeconomico": 3,
          "estrato_socioeconomico_nom": "Medio Alto",
          "estratos": "3) Medio Alto",
          "nom_entidad": "Nuevo León",
          "tono_de_color_de_piel": 10
         },
         {
          "abr_estado": "BC",
          "cuenta": 95,
          "entidad": 2,
          "estrato_socioeconomico": 3,
          "estrato_socioeconomico_nom": "Medio Alto",
          "estratos": "3) Medio Alto",
          "nom_entidad": "Baja California",
          "tono_de_color_de_piel": 8
         },
         {
          "abr_estado": "Oax.",
          "cuenta": 13,
          "entidad": 20,
          "estrato_socioeconomico": 3,
          "estrato_socioeconomico_nom": "Medio Alto",
          "estratos": "3) Medio Alto",
          "nom_entidad": "Oaxaca",
          "tono_de_color_de_piel": 8
         },
         {
          "abr_estado": "Dgo.",
          "cuenta": 93,
          "entidad": 10,
          "estrato_socioeconomico": 3,
          "estrato_socioeconomico_nom": "Medio Alto",
          "estratos": "3) Medio Alto",
          "nom_entidad": "Durango",
          "tono_de_color_de_piel": 8
         },
         {
          "abr_estado": "BC",
          "cuenta": 60,
          "entidad": 2,
          "estrato_socioeconomico": 3,
          "estrato_socioeconomico_nom": "Medio Alto",
          "estratos": "3) Medio Alto",
          "nom_entidad": "Baja California",
          "tono_de_color_de_piel": 7
         },
         {
          "abr_estado": "Jal.",
          "cuenta": 78,
          "entidad": 14,
          "estrato_socioeconomico": 3,
          "estrato_socioeconomico_nom": "Medio Alto",
          "estratos": "3) Medio Alto",
          "nom_entidad": "Jalisco",
          "tono_de_color_de_piel": 7
         },
         {
          "abr_estado": "BC",
          "cuenta": 18,
          "entidad": 2,
          "estrato_socioeconomico": 3,
          "estrato_socioeconomico_nom": "Medio Alto",
          "estratos": "3) Medio Alto",
          "nom_entidad": "Baja California",
          "tono_de_color_de_piel": 10
         },
         {
          "abr_estado": "BC",
          "cuenta": 36,
          "entidad": 2,
          "estrato_socioeconomico": 3,
          "estrato_socioeconomico_nom": "Medio Alto",
          "estratos": "3) Medio Alto",
          "nom_entidad": "Baja California",
          "tono_de_color_de_piel": 9
         },
         {
          "abr_estado": "BC",
          "cuenta": 42,
          "entidad": 2,
          "estrato_socioeconomico": 3,
          "estrato_socioeconomico_nom": "Medio Alto",
          "estratos": "3) Medio Alto",
          "nom_entidad": "Baja California",
          "tono_de_color_de_piel": 6
         },
         {
          "abr_estado": "Oax.",
          "cuenta": 11,
          "entidad": 20,
          "estrato_socioeconomico": 3,
          "estrato_socioeconomico_nom": "Medio Alto",
          "estratos": "3) Medio Alto",
          "nom_entidad": "Oaxaca",
          "tono_de_color_de_piel": 7
         },
         {
          "abr_estado": "Jal.",
          "cuenta": 134,
          "entidad": 14,
          "estrato_socioeconomico": 3,
          "estrato_socioeconomico_nom": "Medio Alto",
          "estratos": "3) Medio Alto",
          "nom_entidad": "Jalisco",
          "tono_de_color_de_piel": 8
         },
         {
          "abr_estado": "Mex.",
          "cuenta": 73,
          "entidad": 15,
          "estrato_socioeconomico": 3,
          "estrato_socioeconomico_nom": "Medio Alto",
          "estratos": "3) Medio Alto",
          "nom_entidad": "México",
          "tono_de_color_de_piel": 8
         },
         {
          "abr_estado": "Mex.",
          "cuenta": 37,
          "entidad": 15,
          "estrato_socioeconomico": 3,
          "estrato_socioeconomico_nom": "Medio Alto",
          "estratos": "3) Medio Alto",
          "nom_entidad": "México",
          "tono_de_color_de_piel": 7
         },
         {
          "abr_estado": "Mex.",
          "cuenta": 12,
          "entidad": 15,
          "estrato_socioeconomico": 3,
          "estrato_socioeconomico_nom": "Medio Alto",
          "estratos": "3) Medio Alto",
          "nom_entidad": "México",
          "tono_de_color_de_piel": 9
         },
         {
          "abr_estado": "Mex.",
          "cuenta": 8,
          "entidad": 15,
          "estrato_socioeconomico": 3,
          "estrato_socioeconomico_nom": "Medio Alto",
          "estratos": "3) Medio Alto",
          "nom_entidad": "México",
          "tono_de_color_de_piel": 6
         },
         {
          "abr_estado": "Oax.",
          "cuenta": 1,
          "entidad": 20,
          "estrato_socioeconomico": 3,
          "estrato_socioeconomico_nom": "Medio Alto",
          "estratos": "3) Medio Alto",
          "nom_entidad": "Oaxaca",
          "tono_de_color_de_piel": 4
         },
         {
          "abr_estado": "Oax.",
          "cuenta": 6,
          "entidad": 20,
          "estrato_socioeconomico": 3,
          "estrato_socioeconomico_nom": "Medio Alto",
          "estratos": "3) Medio Alto",
          "nom_entidad": "Oaxaca",
          "tono_de_color_de_piel": 6
         },
         {
          "abr_estado": "Jal.",
          "cuenta": 25,
          "entidad": 14,
          "estrato_socioeconomico": 3,
          "estrato_socioeconomico_nom": "Medio Alto",
          "estratos": "3) Medio Alto",
          "nom_entidad": "Jalisco",
          "tono_de_color_de_piel": 6
         },
         {
          "abr_estado": "Jal.",
          "cuenta": 23,
          "entidad": 14,
          "estrato_socioeconomico": 3,
          "estrato_socioeconomico_nom": "Medio Alto",
          "estratos": "3) Medio Alto",
          "nom_entidad": "Jalisco",
          "tono_de_color_de_piel": 9
         },
         {
          "abr_estado": "Zac.",
          "cuenta": 3,
          "entidad": 32,
          "estrato_socioeconomico": 4,
          "estrato_socioeconomico_nom": "Alto",
          "estratos": "4) Alto",
          "nom_entidad": "Zacatecas",
          "tono_de_color_de_piel": 10
         },
         {
          "abr_estado": "Zac.",
          "cuenta": 2,
          "entidad": 32,
          "estrato_socioeconomico": 4,
          "estrato_socioeconomico_nom": "Alto",
          "estratos": "4) Alto",
          "nom_entidad": "Zacatecas",
          "tono_de_color_de_piel": 9
         },
         {
          "abr_estado": "Zac.",
          "cuenta": 2,
          "entidad": 32,
          "estrato_socioeconomico": 4,
          "estrato_socioeconomico_nom": "Alto",
          "estratos": "4) Alto",
          "nom_entidad": "Zacatecas",
          "tono_de_color_de_piel": 11
         },
         {
          "abr_estado": "Zac.",
          "cuenta": 24,
          "entidad": 32,
          "estrato_socioeconomico": 4,
          "estrato_socioeconomico_nom": "Alto",
          "estratos": "4) Alto",
          "nom_entidad": "Zacatecas",
          "tono_de_color_de_piel": 8
         },
         {
          "abr_estado": "BCS",
          "cuenta": 1,
          "entidad": 3,
          "estrato_socioeconomico": 4,
          "estrato_socioeconomico_nom": "Alto",
          "estratos": "4) Alto",
          "nom_entidad": "Baja California Sur",
          "tono_de_color_de_piel": 4
         },
         {
          "abr_estado": "BCS",
          "cuenta": 2,
          "entidad": 3,
          "estrato_socioeconomico": 4,
          "estrato_socioeconomico_nom": "Alto",
          "estratos": "4) Alto",
          "nom_entidad": "Baja California Sur",
          "tono_de_color_de_piel": 5
         },
         {
          "abr_estado": "BCS",
          "cuenta": 6,
          "entidad": 3,
          "estrato_socioeconomico": 4,
          "estrato_socioeconomico_nom": "Alto",
          "estratos": "4) Alto",
          "nom_entidad": "Baja California Sur",
          "tono_de_color_de_piel": 11
         },
         {
          "abr_estado": "Zac.",
          "cuenta": 8,
          "entidad": 32,
          "estrato_socioeconomico": 4,
          "estrato_socioeconomico_nom": "Alto",
          "estratos": "4) Alto",
          "nom_entidad": "Zacatecas",
          "tono_de_color_de_piel": 7
         },
         {
          "abr_estado": "BC",
          "cuenta": 1,
          "entidad": 2,
          "estrato_socioeconomico": 4,
          "estrato_socioeconomico_nom": "Alto",
          "estratos": "4) Alto",
          "nom_entidad": "Baja California",
          "tono_de_color_de_piel": 5
         },
         {
          "abr_estado": "Tamps.",
          "cuenta": 1,
          "entidad": 28,
          "estrato_socioeconomico": 4,
          "estrato_socioeconomico_nom": "Alto",
          "estratos": "4) Alto",
          "nom_entidad": "Tamaulipas",
          "tono_de_color_de_piel": 5
         },
         {
          "abr_estado": "Tamps.",
          "cuenta": 20,
          "entidad": 28,
          "estrato_socioeconomico": 4,
          "estrato_socioeconomico_nom": "Alto",
          "estratos": "4) Alto",
          "nom_entidad": "Tamaulipas",
          "tono_de_color_de_piel": 7
         },
         {
          "abr_estado": "Ags.",
          "cuenta": 3,
          "entidad": 1,
          "estrato_socioeconomico": 4,
          "estrato_socioeconomico_nom": "Alto",
          "estratos": "4) Alto",
          "nom_entidad": "Aguascalientes",
          "tono_de_color_de_piel": 11
         },
         {
          "abr_estado": "Ags.",
          "cuenta": 1,
          "entidad": 1,
          "estrato_socioeconomico": 4,
          "estrato_socioeconomico_nom": "Alto",
          "estratos": "4) Alto",
          "nom_entidad": "Aguascalientes",
          "tono_de_color_de_piel": 5
         },
         {
          "abr_estado": "Tlax.",
          "cuenta": 19,
          "entidad": 29,
          "estrato_socioeconomico": 4,
          "estrato_socioeconomico_nom": "Alto",
          "estratos": "4) Alto",
          "nom_entidad": "Tlaxcala",
          "tono_de_color_de_piel": 8
         },
         {
          "abr_estado": "Tlax.",
          "cuenta": 10,
          "entidad": 29,
          "estrato_socioeconomico": 4,
          "estrato_socioeconomico_nom": "Alto",
          "estratos": "4) Alto",
          "nom_entidad": "Tlaxcala",
          "tono_de_color_de_piel": 7
         },
         {
          "abr_estado": "Tlax.",
          "cuenta": 4,
          "entidad": 29,
          "estrato_socioeconomico": 4,
          "estrato_socioeconomico_nom": "Alto",
          "estratos": "4) Alto",
          "nom_entidad": "Tlaxcala",
          "tono_de_color_de_piel": 9
         },
         {
          "abr_estado": "Tlax.",
          "cuenta": 2,
          "entidad": 29,
          "estrato_socioeconomico": 4,
          "estrato_socioeconomico_nom": "Alto",
          "estratos": "4) Alto",
          "nom_entidad": "Tlaxcala",
          "tono_de_color_de_piel": 6
         },
         {
          "abr_estado": "Tlax.",
          "cuenta": 2,
          "entidad": 29,
          "estrato_socioeconomico": 4,
          "estrato_socioeconomico_nom": "Alto",
          "estratos": "4) Alto",
          "nom_entidad": "Tlaxcala",
          "tono_de_color_de_piel": 10
         },
         {
          "abr_estado": "Ver.",
          "cuenta": 1,
          "entidad": 30,
          "estrato_socioeconomico": 4,
          "estrato_socioeconomico_nom": "Alto",
          "estratos": "4) Alto",
          "nom_entidad": "Veracruz de Ignacio de la Llave",
          "tono_de_color_de_piel": 9
         },
         {
          "abr_estado": "Ags.",
          "cuenta": 4,
          "entidad": 1,
          "estrato_socioeconomico": 4,
          "estrato_socioeconomico_nom": "Alto",
          "estratos": "4) Alto",
          "nom_entidad": "Aguascalientes",
          "tono_de_color_de_piel": 9
         },
         {
          "abr_estado": "Ver.",
          "cuenta": 1,
          "entidad": 30,
          "estrato_socioeconomico": 4,
          "estrato_socioeconomico_nom": "Alto",
          "estratos": "4) Alto",
          "nom_entidad": "Veracruz de Ignacio de la Llave",
          "tono_de_color_de_piel": 6
         },
         {
          "abr_estado": "Ver.",
          "cuenta": 7,
          "entidad": 30,
          "estrato_socioeconomico": 4,
          "estrato_socioeconomico_nom": "Alto",
          "estratos": "4) Alto",
          "nom_entidad": "Veracruz de Ignacio de la Llave",
          "tono_de_color_de_piel": 7
         },
         {
          "abr_estado": "Tlax.",
          "cuenta": 1,
          "entidad": 29,
          "estrato_socioeconomico": 4,
          "estrato_socioeconomico_nom": "Alto",
          "estratos": "4) Alto",
          "nom_entidad": "Tlaxcala",
          "tono_de_color_de_piel": 5
         },
         {
          "abr_estado": "BC",
          "cuenta": 1,
          "entidad": 2,
          "estrato_socioeconomico": 4,
          "estrato_socioeconomico_nom": "Alto",
          "estratos": "4) Alto",
          "nom_entidad": "Baja California",
          "tono_de_color_de_piel": 11
         },
         {
          "abr_estado": "BC",
          "cuenta": 53,
          "entidad": 2,
          "estrato_socioeconomico": 4,
          "estrato_socioeconomico_nom": "Alto",
          "estratos": "4) Alto",
          "nom_entidad": "Baja California",
          "tono_de_color_de_piel": 8
         },
         {
          "abr_estado": "BC",
          "cuenta": 33,
          "entidad": 2,
          "estrato_socioeconomico": 4,
          "estrato_socioeconomico_nom": "Alto",
          "estratos": "4) Alto",
          "nom_entidad": "Baja California",
          "tono_de_color_de_piel": 9
         },
         {
          "abr_estado": "BC",
          "cuenta": 14,
          "entidad": 2,
          "estrato_socioeconomico": 4,
          "estrato_socioeconomico_nom": "Alto",
          "estratos": "4) Alto",
          "nom_entidad": "Baja California",
          "tono_de_color_de_piel": 7
         },
         {
          "abr_estado": "BC",
          "cuenta": 14,
          "entidad": 2,
          "estrato_socioeconomico": 4,
          "estrato_socioeconomico_nom": "Alto",
          "estratos": "4) Alto",
          "nom_entidad": "Baja California",
          "tono_de_color_de_piel": 10
         },
         {
          "abr_estado": "BC",
          "cuenta": 10,
          "entidad": 2,
          "estrato_socioeconomico": 4,
          "estrato_socioeconomico_nom": "Alto",
          "estratos": "4) Alto",
          "nom_entidad": "Baja California",
          "tono_de_color_de_piel": 6
         },
         {
          "abr_estado": "Ver.",
          "cuenta": 3,
          "entidad": 30,
          "estrato_socioeconomico": 4,
          "estrato_socioeconomico_nom": "Alto",
          "estratos": "4) Alto",
          "nom_entidad": "Veracruz de Ignacio de la Llave",
          "tono_de_color_de_piel": 8
         },
         {
          "abr_estado": "Ags.",
          "cuenta": 9,
          "entidad": 1,
          "estrato_socioeconomico": 4,
          "estrato_socioeconomico_nom": "Alto",
          "estratos": "4) Alto",
          "nom_entidad": "Aguascalientes",
          "tono_de_color_de_piel": 10
         },
         {
          "abr_estado": "BCS",
          "cuenta": 47,
          "entidad": 3,
          "estrato_socioeconomico": 4,
          "estrato_socioeconomico_nom": "Alto",
          "estratos": "4) Alto",
          "nom_entidad": "Baja California Sur",
          "tono_de_color_de_piel": 8
         },
         {
          "abr_estado": "BCS",
          "cuenta": 42,
          "entidad": 3,
          "estrato_socioeconomico": 4,
          "estrato_socioeconomico_nom": "Alto",
          "estratos": "4) Alto",
          "nom_entidad": "Baja California Sur",
          "tono_de_color_de_piel": 7
         },
         {
          "abr_estado": "Tamps.",
          "cuenta": 5,
          "entidad": 28,
          "estrato_socioeconomico": 4,
          "estrato_socioeconomico_nom": "Alto",
          "estratos": "4) Alto",
          "nom_entidad": "Tamaulipas",
          "tono_de_color_de_piel": 6
         },
         {
          "abr_estado": "Tamps.",
          "cuenta": 5,
          "entidad": 28,
          "estrato_socioeconomico": 4,
          "estrato_socioeconomico_nom": "Alto",
          "estratos": "4) Alto",
          "nom_entidad": "Tamaulipas",
          "tono_de_color_de_piel": 11
         },
         {
          "abr_estado": "Tamps.",
          "cuenta": 4,
          "entidad": 28,
          "estrato_socioeconomico": 4,
          "estrato_socioeconomico_nom": "Alto",
          "estratos": "4) Alto",
          "nom_entidad": "Tamaulipas",
          "tono_de_color_de_piel": 9
         },
         {
          "abr_estado": "Ags.",
          "cuenta": 53,
          "entidad": 1,
          "estrato_socioeconomico": 4,
          "estrato_socioeconomico_nom": "Alto",
          "estratos": "4) Alto",
          "nom_entidad": "Aguascalientes",
          "tono_de_color_de_piel": 8
         },
         {
          "abr_estado": "Ags.",
          "cuenta": 32,
          "entidad": 1,
          "estrato_socioeconomico": 4,
          "estrato_socioeconomico_nom": "Alto",
          "estratos": "4) Alto",
          "nom_entidad": "Aguascalientes",
          "tono_de_color_de_piel": 7
         },
         {
          "abr_estado": "Ags.",
          "cuenta": 9,
          "entidad": 1,
          "estrato_socioeconomico": 4,
          "estrato_socioeconomico_nom": "Alto",
          "estratos": "4) Alto",
          "nom_entidad": "Aguascalientes",
          "tono_de_color_de_piel": 6
         },
         {
          "abr_estado": "Yuc.",
          "cuenta": 1,
          "entidad": 31,
          "estrato_socioeconomico": 4,
          "estrato_socioeconomico_nom": "Alto",
          "estratos": "4) Alto",
          "nom_entidad": "Yucatán",
          "tono_de_color_de_piel": 4
         },
         {
          "abr_estado": "Yuc.",
          "cuenta": 6,
          "entidad": 31,
          "estrato_socioeconomico": 4,
          "estrato_socioeconomico_nom": "Alto",
          "estratos": "4) Alto",
          "nom_entidad": "Yucatán",
          "tono_de_color_de_piel": 10
         },
         {
          "abr_estado": "Yuc.",
          "cuenta": 7,
          "entidad": 31,
          "estrato_socioeconomico": 4,
          "estrato_socioeconomico_nom": "Alto",
          "estratos": "4) Alto",
          "nom_entidad": "Yucatán",
          "tono_de_color_de_piel": 11
         },
         {
          "abr_estado": "Yuc.",
          "cuenta": 8,
          "entidad": 31,
          "estrato_socioeconomico": 4,
          "estrato_socioeconomico_nom": "Alto",
          "estratos": "4) Alto",
          "nom_entidad": "Yucatán",
          "tono_de_color_de_piel": 6
         },
         {
          "abr_estado": "Yuc.",
          "cuenta": 12,
          "entidad": 31,
          "estrato_socioeconomico": 4,
          "estrato_socioeconomico_nom": "Alto",
          "estratos": "4) Alto",
          "nom_entidad": "Yucatán",
          "tono_de_color_de_piel": 7
         },
         {
          "abr_estado": "Yuc.",
          "cuenta": 43,
          "entidad": 31,
          "estrato_socioeconomico": 4,
          "estrato_socioeconomico_nom": "Alto",
          "estratos": "4) Alto",
          "nom_entidad": "Yucatán",
          "tono_de_color_de_piel": 8
         },
         {
          "abr_estado": "Tamps.",
          "cuenta": 4,
          "entidad": 28,
          "estrato_socioeconomico": 4,
          "estrato_socioeconomico_nom": "Alto",
          "estratos": "4) Alto",
          "nom_entidad": "Tamaulipas",
          "tono_de_color_de_piel": 10
         },
         {
          "abr_estado": "Tamps.",
          "cuenta": 2,
          "entidad": 28,
          "estrato_socioeconomico": 4,
          "estrato_socioeconomico_nom": "Alto",
          "estratos": "4) Alto",
          "nom_entidad": "Tamaulipas",
          "tono_de_color_de_piel": 3
         },
         {
          "abr_estado": "Tamps.",
          "cuenta": 1,
          "entidad": 28,
          "estrato_socioeconomico": 4,
          "estrato_socioeconomico_nom": "Alto",
          "estratos": "4) Alto",
          "nom_entidad": "Tamaulipas",
          "tono_de_color_de_piel": 4
         },
         {
          "abr_estado": "BC",
          "cuenta": 1,
          "entidad": 2,
          "estrato_socioeconomico": 4,
          "estrato_socioeconomico_nom": "Alto",
          "estratos": "4) Alto",
          "nom_entidad": "Baja California",
          "tono_de_color_de_piel": 4
         },
         {
          "abr_estado": "BCS",
          "cuenta": 6,
          "entidad": 3,
          "estrato_socioeconomico": 4,
          "estrato_socioeconomico_nom": "Alto",
          "estratos": "4) Alto",
          "nom_entidad": "Baja California Sur",
          "tono_de_color_de_piel": 9
         },
         {
          "abr_estado": "BCS",
          "cuenta": 8,
          "entidad": 3,
          "estrato_socioeconomico": 4,
          "estrato_socioeconomico_nom": "Alto",
          "estratos": "4) Alto",
          "nom_entidad": "Baja California Sur",
          "tono_de_color_de_piel": 10
         },
         {
          "abr_estado": "BCS",
          "cuenta": 16,
          "entidad": 3,
          "estrato_socioeconomico": 4,
          "estrato_socioeconomico_nom": "Alto",
          "estratos": "4) Alto",
          "nom_entidad": "Baja California Sur",
          "tono_de_color_de_piel": 6
         },
         {
          "abr_estado": "Tamps.",
          "cuenta": 33,
          "entidad": 28,
          "estrato_socioeconomico": 4,
          "estrato_socioeconomico_nom": "Alto",
          "estratos": "4) Alto",
          "nom_entidad": "Tamaulipas",
          "tono_de_color_de_piel": 8
         },
         {
          "abr_estado": "Jal.",
          "cuenta": 10,
          "entidad": 14,
          "estrato_socioeconomico": 4,
          "estrato_socioeconomico_nom": "Alto",
          "estratos": "4) Alto",
          "nom_entidad": "Jalisco",
          "tono_de_color_de_piel": 9
         },
         {
          "abr_estado": "Q. Roo",
          "cuenta": 9,
          "entidad": 23,
          "estrato_socioeconomico": 4,
          "estrato_socioeconomico_nom": "Alto",
          "estratos": "4) Alto",
          "nom_entidad": "Quintana Roo",
          "tono_de_color_de_piel": 5
         },
         {
          "abr_estado": "Tab.",
          "cuenta": 1,
          "entidad": 27,
          "estrato_socioeconomico": 4,
          "estrato_socioeconomico_nom": "Alto",
          "estratos": "4) Alto",
          "nom_entidad": "Tabasco",
          "tono_de_color_de_piel": 10
         },
         {
          "abr_estado": "NL",
          "cuenta": 80,
          "entidad": 19,
          "estrato_socioeconomico": 4,
          "estrato_socioeconomico_nom": "Alto",
          "estratos": "4) Alto",
          "nom_entidad": "Nuevo León",
          "tono_de_color_de_piel": 8
         },
         {
          "abr_estado": "Dgo.",
          "cuenta": 25,
          "entidad": 10,
          "estrato_socioeconomico": 4,
          "estrato_socioeconomico_nom": "Alto",
          "estratos": "4) Alto",
          "nom_entidad": "Durango",
          "tono_de_color_de_piel": 8
         },
         {
          "abr_estado": "Dgo.",
          "cuenta": 15,
          "entidad": 10,
          "estrato_socioeconomico": 4,
          "estrato_socioeconomico_nom": "Alto",
          "estratos": "4) Alto",
          "nom_entidad": "Durango",
          "tono_de_color_de_piel": 7
         },
         {
          "abr_estado": "Dgo.",
          "cuenta": 5,
          "entidad": 10,
          "estrato_socioeconomico": 4,
          "estrato_socioeconomico_nom": "Alto",
          "estratos": "4) Alto",
          "nom_entidad": "Durango",
          "tono_de_color_de_piel": 6
         },
         {
          "abr_estado": "Dgo.",
          "cuenta": 3,
          "entidad": 10,
          "estrato_socioeconomico": 4,
          "estrato_socioeconomico_nom": "Alto",
          "estratos": "4) Alto",
          "nom_entidad": "Durango",
          "tono_de_color_de_piel": 11
         },
         {
          "abr_estado": "Dgo.",
          "cuenta": 2,
          "entidad": 10,
          "estrato_socioeconomico": 4,
          "estrato_socioeconomico_nom": "Alto",
          "estratos": "4) Alto",
          "nom_entidad": "Durango",
          "tono_de_color_de_piel": 5
         },
         {
          "abr_estado": "Dgo.",
          "cuenta": 2,
          "entidad": 10,
          "estrato_socioeconomico": 4,
          "estrato_socioeconomico_nom": "Alto",
          "estratos": "4) Alto",
          "nom_entidad": "Durango",
          "tono_de_color_de_piel": 9
         },
         {
          "abr_estado": "NL",
          "cuenta": 33,
          "entidad": 19,
          "estrato_socioeconomico": 4,
          "estrato_socioeconomico_nom": "Alto",
          "estratos": "4) Alto",
          "nom_entidad": "Nuevo León",
          "tono_de_color_de_piel": 7
         },
         {
          "abr_estado": "Dgo.",
          "cuenta": 2,
          "entidad": 10,
          "estrato_socioeconomico": 4,
          "estrato_socioeconomico_nom": "Alto",
          "estratos": "4) Alto",
          "nom_entidad": "Durango",
          "tono_de_color_de_piel": 10
         },
         {
          "abr_estado": "Nay.",
          "cuenta": 2,
          "entidad": 18,
          "estrato_socioeconomico": 4,
          "estrato_socioeconomico_nom": "Alto",
          "estratos": "4) Alto",
          "nom_entidad": "Nayarit",
          "tono_de_color_de_piel": 9
         },
         {
          "abr_estado": "Nay.",
          "cuenta": 3,
          "entidad": 18,
          "estrato_socioeconomico": 4,
          "estrato_socioeconomico_nom": "Alto",
          "estratos": "4) Alto",
          "nom_entidad": "Nayarit",
          "tono_de_color_de_piel": 6
         },
         {
          "abr_estado": "Nay.",
          "cuenta": 14,
          "entidad": 18,
          "estrato_socioeconomico": 4,
          "estrato_socioeconomico_nom": "Alto",
          "estratos": "4) Alto",
          "nom_entidad": "Nayarit",
          "tono_de_color_de_piel": 7
         },
         {
          "abr_estado": "Nay.",
          "cuenta": 17,
          "entidad": 18,
          "estrato_socioeconomico": 4,
          "estrato_socioeconomico_nom": "Alto",
          "estratos": "4) Alto",
          "nom_entidad": "Nayarit",
          "tono_de_color_de_piel": 8
         },
         {
          "abr_estado": "Gto.",
          "cuenta": 24,
          "entidad": 11,
          "estrato_socioeconomico": 4,
          "estrato_socioeconomico_nom": "Alto",
          "estratos": "4) Alto",
          "nom_entidad": "Guanajuato",
          "tono_de_color_de_piel": 8
         },
         {
          "abr_estado": "Gto.",
          "cuenta": 12,
          "entidad": 11,
          "estrato_socioeconomico": 4,
          "estrato_socioeconomico_nom": "Alto",
          "estratos": "4) Alto",
          "nom_entidad": "Guanajuato",
          "tono_de_color_de_piel": 7
         },
         {
          "abr_estado": "Gto.",
          "cuenta": 8,
          "entidad": 11,
          "estrato_socioeconomico": 4,
          "estrato_socioeconomico_nom": "Alto",
          "estratos": "4) Alto",
          "nom_entidad": "Guanajuato",
          "tono_de_color_de_piel": 6
         },
         {
          "abr_estado": "Nay.",
          "cuenta": 2,
          "entidad": 18,
          "estrato_socioeconomico": 4,
          "estrato_socioeconomico_nom": "Alto",
          "estratos": "4) Alto",
          "nom_entidad": "Nayarit",
          "tono_de_color_de_piel": 10
         },
         {
          "abr_estado": "NL",
          "cuenta": 19,
          "entidad": 19,
          "estrato_socioeconomico": 4,
          "estrato_socioeconomico_nom": "Alto",
          "estratos": "4) Alto",
          "nom_entidad": "Nuevo León",
          "tono_de_color_de_piel": 10
         },
         {
          "abr_estado": "NL",
          "cuenta": 11,
          "entidad": 19,
          "estrato_socioeconomico": 4,
          "estrato_socioeconomico_nom": "Alto",
          "estratos": "4) Alto",
          "nom_entidad": "Nuevo León",
          "tono_de_color_de_piel": 9
         },
         {
          "abr_estado": "NL",
          "cuenta": 9,
          "entidad": 19,
          "estrato_socioeconomico": 4,
          "estrato_socioeconomico_nom": "Alto",
          "estratos": "4) Alto",
          "nom_entidad": "Nuevo León",
          "tono_de_color_de_piel": 6
         },
         {
          "abr_estado": "Pue.",
          "cuenta": 7,
          "entidad": 21,
          "estrato_socioeconomico": 4,
          "estrato_socioeconomico_nom": "Alto",
          "estratos": "4) Alto",
          "nom_entidad": "Puebla",
          "tono_de_color_de_piel": 6
         },
         {
          "abr_estado": "Pue.",
          "cuenta": 11,
          "entidad": 21,
          "estrato_socioeconomico": 4,
          "estrato_socioeconomico_nom": "Alto",
          "estratos": "4) Alto",
          "nom_entidad": "Puebla",
          "tono_de_color_de_piel": 7
         },
         {
          "abr_estado": "Pue.",
          "cuenta": 17,
          "entidad": 21,
          "estrato_socioeconomico": 4,
          "estrato_socioeconomico_nom": "Alto",
          "estratos": "4) Alto",
          "nom_entidad": "Puebla",
          "tono_de_color_de_piel": 8
         },
         {
          "abr_estado": "CDMX",
          "cuenta": 48,
          "entidad": 9,
          "estrato_socioeconomico": 4,
          "estrato_socioeconomico_nom": "Alto",
          "estratos": "4) Alto",
          "nom_entidad": "Ciudad de México",
          "tono_de_color_de_piel": 8
         },
         {
          "abr_estado": "CDMX",
          "cuenta": 26,
          "entidad": 9,
          "estrato_socioeconomico": 4,
          "estrato_socioeconomico_nom": "Alto",
          "estratos": "4) Alto",
          "nom_entidad": "Ciudad de México",
          "tono_de_color_de_piel": 7
         },
         {
          "abr_estado": "CDMX",
          "cuenta": 15,
          "entidad": 9,
          "estrato_socioeconomico": 4,
          "estrato_socioeconomico_nom": "Alto",
          "estratos": "4) Alto",
          "nom_entidad": "Ciudad de México",
          "tono_de_color_de_piel": 10
         },
         {
          "abr_estado": "CDMX",
          "cuenta": 8,
          "entidad": 9,
          "estrato_socioeconomico": 4,
          "estrato_socioeconomico_nom": "Alto",
          "estratos": "4) Alto",
          "nom_entidad": "Ciudad de México",
          "tono_de_color_de_piel": 9
         },
         {
          "abr_estado": "CDMX",
          "cuenta": 8,
          "entidad": 9,
          "estrato_socioeconomico": 4,
          "estrato_socioeconomico_nom": "Alto",
          "estratos": "4) Alto",
          "nom_entidad": "Ciudad de México",
          "tono_de_color_de_piel": 11
         },
         {
          "abr_estado": "CDMX",
          "cuenta": 7,
          "entidad": 9,
          "estrato_socioeconomico": 4,
          "estrato_socioeconomico_nom": "Alto",
          "estratos": "4) Alto",
          "nom_entidad": "Ciudad de México",
          "tono_de_color_de_piel": 6
         },
         {
          "abr_estado": "CDMX",
          "cuenta": 1,
          "entidad": 9,
          "estrato_socioeconomico": 4,
          "estrato_socioeconomico_nom": "Alto",
          "estratos": "4) Alto",
          "nom_entidad": "Ciudad de México",
          "tono_de_color_de_piel": 5
         },
         {
          "abr_estado": "Oax.",
          "cuenta": 1,
          "entidad": 20,
          "estrato_socioeconomico": 4,
          "estrato_socioeconomico_nom": "Alto",
          "estratos": "4) Alto",
          "nom_entidad": "Oaxaca",
          "tono_de_color_de_piel": 9
         },
         {
          "abr_estado": "Oax.",
          "cuenta": 2,
          "entidad": 20,
          "estrato_socioeconomico": 4,
          "estrato_socioeconomico_nom": "Alto",
          "estratos": "4) Alto",
          "nom_entidad": "Oaxaca",
          "tono_de_color_de_piel": 8
         },
         {
          "abr_estado": "Oax.",
          "cuenta": 2,
          "entidad": 20,
          "estrato_socioeconomico": 4,
          "estrato_socioeconomico_nom": "Alto",
          "estratos": "4) Alto",
          "nom_entidad": "Oaxaca",
          "tono_de_color_de_piel": 6
         },
         {
          "abr_estado": "Oax.",
          "cuenta": 4,
          "entidad": 20,
          "estrato_socioeconomico": 4,
          "estrato_socioeconomico_nom": "Alto",
          "estratos": "4) Alto",
          "nom_entidad": "Oaxaca",
          "tono_de_color_de_piel": 7
         },
         {
          "abr_estado": "NL",
          "cuenta": 2,
          "entidad": 19,
          "estrato_socioeconomico": 4,
          "estrato_socioeconomico_nom": "Alto",
          "estratos": "4) Alto",
          "nom_entidad": "Nuevo León",
          "tono_de_color_de_piel": 5
         },
         {
          "abr_estado": "NL",
          "cuenta": 2,
          "entidad": 19,
          "estrato_socioeconomico": 4,
          "estrato_socioeconomico_nom": "Alto",
          "estratos": "4) Alto",
          "nom_entidad": "Nuevo León",
          "tono_de_color_de_piel": 4
         },
         {
          "abr_estado": "NL",
          "cuenta": 8,
          "entidad": 19,
          "estrato_socioeconomico": 4,
          "estrato_socioeconomico_nom": "Alto",
          "estratos": "4) Alto",
          "nom_entidad": "Nuevo León",
          "tono_de_color_de_piel": 11
         },
         {
          "abr_estado": "Gto.",
          "cuenta": 4,
          "entidad": 11,
          "estrato_socioeconomico": 4,
          "estrato_socioeconomico_nom": "Alto",
          "estratos": "4) Alto",
          "nom_entidad": "Guanajuato",
          "tono_de_color_de_piel": 9
         },
         {
          "abr_estado": "Pue.",
          "cuenta": 4,
          "entidad": 21,
          "estrato_socioeconomico": 4,
          "estrato_socioeconomico_nom": "Alto",
          "estratos": "4) Alto",
          "nom_entidad": "Puebla",
          "tono_de_color_de_piel": 10
         },
         {
          "abr_estado": "Gto.",
          "cuenta": 3,
          "entidad": 11,
          "estrato_socioeconomico": 4,
          "estrato_socioeconomico_nom": "Alto",
          "estratos": "4) Alto",
          "nom_entidad": "Guanajuato",
          "tono_de_color_de_piel": 10
         },
         {
          "abr_estado": "Gto.",
          "cuenta": 1,
          "entidad": 11,
          "estrato_socioeconomico": 4,
          "estrato_socioeconomico_nom": "Alto",
          "estratos": "4) Alto",
          "nom_entidad": "Guanajuato",
          "tono_de_color_de_piel": 5
         },
         {
          "abr_estado": "Hgo.",
          "cuenta": 2,
          "entidad": 13,
          "estrato_socioeconomico": 4,
          "estrato_socioeconomico_nom": "Alto",
          "estratos": "4) Alto",
          "nom_entidad": "Hidalgo",
          "tono_de_color_de_piel": 6
         },
         {
          "abr_estado": "Hgo.",
          "cuenta": 1,
          "entidad": 13,
          "estrato_socioeconomico": 4,
          "estrato_socioeconomico_nom": "Alto",
          "estratos": "4) Alto",
          "nom_entidad": "Hidalgo",
          "tono_de_color_de_piel": 10
         },
         {
          "abr_estado": "Mex.",
          "cuenta": 1,
          "entidad": 15,
          "estrato_socioeconomico": 4,
          "estrato_socioeconomico_nom": "Alto",
          "estratos": "4) Alto",
          "nom_entidad": "México",
          "tono_de_color_de_piel": 4
         },
         {
          "abr_estado": "Mex.",
          "cuenta": 1,
          "entidad": 15,
          "estrato_socioeconomico": 4,
          "estrato_socioeconomico_nom": "Alto",
          "estratos": "4) Alto",
          "nom_entidad": "México",
          "tono_de_color_de_piel": 3
         },
         {
          "abr_estado": "Mex.",
          "cuenta": 1,
          "entidad": 15,
          "estrato_socioeconomico": 4,
          "estrato_socioeconomico_nom": "Alto",
          "estratos": "4) Alto",
          "nom_entidad": "México",
          "tono_de_color_de_piel": 2
         },
         {
          "abr_estado": "Mex.",
          "cuenta": 3,
          "entidad": 15,
          "estrato_socioeconomico": 4,
          "estrato_socioeconomico_nom": "Alto",
          "estratos": "4) Alto",
          "nom_entidad": "México",
          "tono_de_color_de_piel": 5
         },
         {
          "abr_estado": "Mex.",
          "cuenta": 5,
          "entidad": 15,
          "estrato_socioeconomico": 4,
          "estrato_socioeconomico_nom": "Alto",
          "estratos": "4) Alto",
          "nom_entidad": "México",
          "tono_de_color_de_piel": 11
         },
         {
          "abr_estado": "Hgo.",
          "cuenta": 4,
          "entidad": 13,
          "estrato_socioeconomico": 4,
          "estrato_socioeconomico_nom": "Alto",
          "estratos": "4) Alto",
          "nom_entidad": "Hidalgo",
          "tono_de_color_de_piel": 9
         },
         {
          "abr_estado": "Mex.",
          "cuenta": 5,
          "entidad": 15,
          "estrato_socioeconomico": 4,
          "estrato_socioeconomico_nom": "Alto",
          "estratos": "4) Alto",
          "nom_entidad": "México",
          "tono_de_color_de_piel": 10
         },
         {
          "abr_estado": "Mex.",
          "cuenta": 5,
          "entidad": 15,
          "estrato_socioeconomico": 4,
          "estrato_socioeconomico_nom": "Alto",
          "estratos": "4) Alto",
          "nom_entidad": "México",
          "tono_de_color_de_piel": 6
         },
         {
          "abr_estado": "Mex.",
          "cuenta": 23,
          "entidad": 15,
          "estrato_socioeconomico": 4,
          "estrato_socioeconomico_nom": "Alto",
          "estratos": "4) Alto",
          "nom_entidad": "México",
          "tono_de_color_de_piel": 7
         },
         {
          "abr_estado": "Mex.",
          "cuenta": 36,
          "entidad": 15,
          "estrato_socioeconomico": 4,
          "estrato_socioeconomico_nom": "Alto",
          "estratos": "4) Alto",
          "nom_entidad": "México",
          "tono_de_color_de_piel": 8
         },
         {
          "abr_estado": "Jal.",
          "cuenta": 40,
          "entidad": 14,
          "estrato_socioeconomico": 4,
          "estrato_socioeconomico_nom": "Alto",
          "estratos": "4) Alto",
          "nom_entidad": "Jalisco",
          "tono_de_color_de_piel": 8
         },
         {
          "abr_estado": "Jal.",
          "cuenta": 2,
          "entidad": 14,
          "estrato_socioeconomico": 4,
          "estrato_socioeconomico_nom": "Alto",
          "estratos": "4) Alto",
          "nom_entidad": "Jalisco",
          "tono_de_color_de_piel": 11
         },
         {
          "abr_estado": "Jal.",
          "cuenta": 4,
          "entidad": 14,
          "estrato_socioeconomico": 4,
          "estrato_socioeconomico_nom": "Alto",
          "estratos": "4) Alto",
          "nom_entidad": "Jalisco",
          "tono_de_color_de_piel": 10
         },
         {
          "abr_estado": "Jal.",
          "cuenta": 6,
          "entidad": 14,
          "estrato_socioeconomico": 4,
          "estrato_socioeconomico_nom": "Alto",
          "estratos": "4) Alto",
          "nom_entidad": "Jalisco",
          "tono_de_color_de_piel": 6
         },
         {
          "abr_estado": "Mex.",
          "cuenta": 5,
          "entidad": 15,
          "estrato_socioeconomico": 4,
          "estrato_socioeconomico_nom": "Alto",
          "estratos": "4) Alto",
          "nom_entidad": "México",
          "tono_de_color_de_piel": 9
         },
         {
          "abr_estado": "Hgo.",
          "cuenta": 9,
          "entidad": 13,
          "estrato_socioeconomico": 4,
          "estrato_socioeconomico_nom": "Alto",
          "estratos": "4) Alto",
          "nom_entidad": "Hidalgo",
          "tono_de_color_de_piel": 8
         },
         {
          "abr_estado": "Hgo.",
          "cuenta": 18,
          "entidad": 13,
          "estrato_socioeconomico": 4,
          "estrato_socioeconomico_nom": "Alto",
          "estratos": "4) Alto",
          "nom_entidad": "Hidalgo",
          "tono_de_color_de_piel": 7
         },
         {
          "abr_estado": "Mich.",
          "cuenta": 9,
          "entidad": 16,
          "estrato_socioeconomico": 4,
          "estrato_socioeconomico_nom": "Alto",
          "estratos": "4) Alto",
          "nom_entidad": "Michoacán de Ocampo",
          "tono_de_color_de_piel": 8
         },
         {
          "abr_estado": "Gto.",
          "cuenta": 1,
          "entidad": 11,
          "estrato_socioeconomico": 4,
          "estrato_socioeconomico_nom": "Alto",
          "estratos": "4) Alto",
          "nom_entidad": "Guanajuato",
          "tono_de_color_de_piel": 11
         },
         {
          "abr_estado": "Mor.",
          "cuenta": 1,
          "entidad": 17,
          "estrato_socioeconomico": 4,
          "estrato_socioeconomico_nom": "Alto",
          "estratos": "4) Alto",
          "nom_entidad": "Morelos",
          "tono_de_color_de_piel": 5
         },
         {
          "abr_estado": "Mor.",
          "cuenta": 2,
          "entidad": 17,
          "estrato_socioeconomico": 4,
          "estrato_socioeconomico_nom": "Alto",
          "estratos": "4) Alto",
          "nom_entidad": "Morelos",
          "tono_de_color_de_piel": 11
         },
         {
          "abr_estado": "Mor.",
          "cuenta": 2,
          "entidad": 17,
          "estrato_socioeconomico": 4,
          "estrato_socioeconomico_nom": "Alto",
          "estratos": "4) Alto",
          "nom_entidad": "Morelos",
          "tono_de_color_de_piel": 9
         },
         {
          "abr_estado": "Mor.",
          "cuenta": 3,
          "entidad": 17,
          "estrato_socioeconomico": 4,
          "estrato_socioeconomico_nom": "Alto",
          "estratos": "4) Alto",
          "nom_entidad": "Morelos",
          "tono_de_color_de_piel": 6
         },
         {
          "abr_estado": "Mor.",
          "cuenta": 7,
          "entidad": 17,
          "estrato_socioeconomico": 4,
          "estrato_socioeconomico_nom": "Alto",
          "estratos": "4) Alto",
          "nom_entidad": "Morelos",
          "tono_de_color_de_piel": 7
         },
         {
          "abr_estado": "Mor.",
          "cuenta": 12,
          "entidad": 17,
          "estrato_socioeconomico": 4,
          "estrato_socioeconomico_nom": "Alto",
          "estratos": "4) Alto",
          "nom_entidad": "Morelos",
          "tono_de_color_de_piel": 8
         },
         {
          "abr_estado": "Zac.",
          "cuenta": 1,
          "entidad": 32,
          "estrato_socioeconomico": 4,
          "estrato_socioeconomico_nom": "Alto",
          "estratos": "4) Alto",
          "nom_entidad": "Zacatecas",
          "tono_de_color_de_piel": 5
         },
         {
          "abr_estado": "Gro.",
          "cuenta": 3,
          "entidad": 12,
          "estrato_socioeconomico": 4,
          "estrato_socioeconomico_nom": "Alto",
          "estratos": "4) Alto",
          "nom_entidad": "Guerrero",
          "tono_de_color_de_piel": 8
         },
         {
          "abr_estado": "Gro.",
          "cuenta": 1,
          "entidad": 12,
          "estrato_socioeconomico": 4,
          "estrato_socioeconomico_nom": "Alto",
          "estratos": "4) Alto",
          "nom_entidad": "Guerrero",
          "tono_de_color_de_piel": 6
         },
         {
          "abr_estado": "Gro.",
          "cuenta": 1,
          "entidad": 12,
          "estrato_socioeconomico": 4,
          "estrato_socioeconomico_nom": "Alto",
          "estratos": "4) Alto",
          "nom_entidad": "Guerrero",
          "tono_de_color_de_piel": 7
         },
         {
          "abr_estado": "Mich.",
          "cuenta": 1,
          "entidad": 16,
          "estrato_socioeconomico": 4,
          "estrato_socioeconomico_nom": "Alto",
          "estratos": "4) Alto",
          "nom_entidad": "Michoacán de Ocampo",
          "tono_de_color_de_piel": 11
         },
         {
          "abr_estado": "Mich.",
          "cuenta": 1,
          "entidad": 16,
          "estrato_socioeconomico": 4,
          "estrato_socioeconomico_nom": "Alto",
          "estratos": "4) Alto",
          "nom_entidad": "Michoacán de Ocampo",
          "tono_de_color_de_piel": 9
         },
         {
          "abr_estado": "Mich.",
          "cuenta": 1,
          "entidad": 16,
          "estrato_socioeconomico": 4,
          "estrato_socioeconomico_nom": "Alto",
          "estratos": "4) Alto",
          "nom_entidad": "Michoacán de Ocampo",
          "tono_de_color_de_piel": 5
         },
         {
          "abr_estado": "Mich.",
          "cuenta": 2,
          "entidad": 16,
          "estrato_socioeconomico": 4,
          "estrato_socioeconomico_nom": "Alto",
          "estratos": "4) Alto",
          "nom_entidad": "Michoacán de Ocampo",
          "tono_de_color_de_piel": 10
         },
         {
          "abr_estado": "Mich.",
          "cuenta": 4,
          "entidad": 16,
          "estrato_socioeconomico": 4,
          "estrato_socioeconomico_nom": "Alto",
          "estratos": "4) Alto",
          "nom_entidad": "Michoacán de Ocampo",
          "tono_de_color_de_piel": 7
         },
         {
          "abr_estado": "Mich.",
          "cuenta": 4,
          "entidad": 16,
          "estrato_socioeconomico": 4,
          "estrato_socioeconomico_nom": "Alto",
          "estratos": "4) Alto",
          "nom_entidad": "Michoacán de Ocampo",
          "tono_de_color_de_piel": 6
         },
         {
          "abr_estado": "Gto.",
          "cuenta": 2,
          "entidad": 11,
          "estrato_socioeconomico": 4,
          "estrato_socioeconomico_nom": "Alto",
          "estratos": "4) Alto",
          "nom_entidad": "Guanajuato",
          "tono_de_color_de_piel": 4
         },
         {
          "abr_estado": "Pue.",
          "cuenta": 2,
          "entidad": 21,
          "estrato_socioeconomico": 4,
          "estrato_socioeconomico_nom": "Alto",
          "estratos": "4) Alto",
          "nom_entidad": "Puebla",
          "tono_de_color_de_piel": 9
         },
         {
          "abr_estado": "Pue.",
          "cuenta": 1,
          "entidad": 21,
          "estrato_socioeconomico": 4,
          "estrato_socioeconomico_nom": "Alto",
          "estratos": "4) Alto",
          "nom_entidad": "Puebla",
          "tono_de_color_de_piel": 5
         },
         {
          "abr_estado": "Pue.",
          "cuenta": 1,
          "entidad": 21,
          "estrato_socioeconomico": 4,
          "estrato_socioeconomico_nom": "Alto",
          "estratos": "4) Alto",
          "nom_entidad": "Puebla",
          "tono_de_color_de_piel": 11
         },
         {
          "abr_estado": "Coah.",
          "cuenta": 3,
          "entidad": 5,
          "estrato_socioeconomico": 4,
          "estrato_socioeconomico_nom": "Alto",
          "estratos": "4) Alto",
          "nom_entidad": "Coahuila de Zaragoza",
          "tono_de_color_de_piel": 9
         },
         {
          "abr_estado": "Coah.",
          "cuenta": 3,
          "entidad": 5,
          "estrato_socioeconomico": 4,
          "estrato_socioeconomico_nom": "Alto",
          "estratos": "4) Alto",
          "nom_entidad": "Coahuila de Zaragoza",
          "tono_de_color_de_piel": 11
         },
         {
          "abr_estado": "Coah.",
          "cuenta": 1,
          "entidad": 5,
          "estrato_socioeconomico": 4,
          "estrato_socioeconomico_nom": "Alto",
          "estratos": "4) Alto",
          "nom_entidad": "Coahuila de Zaragoza",
          "tono_de_color_de_piel": 4
         },
         {
          "abr_estado": "Coah.",
          "cuenta": 1,
          "entidad": 5,
          "estrato_socioeconomico": 4,
          "estrato_socioeconomico_nom": "Alto",
          "estratos": "4) Alto",
          "nom_entidad": "Coahuila de Zaragoza",
          "tono_de_color_de_piel": 5
         },
         {
          "abr_estado": "Sin.",
          "cuenta": 3,
          "entidad": 25,
          "estrato_socioeconomico": 4,
          "estrato_socioeconomico_nom": "Alto",
          "estratos": "4) Alto",
          "nom_entidad": "Sinaloa",
          "tono_de_color_de_piel": 11
         },
         {
          "abr_estado": "Sin.",
          "cuenta": 3,
          "entidad": 25,
          "estrato_socioeconomico": 4,
          "estrato_socioeconomico_nom": "Alto",
          "estratos": "4) Alto",
          "nom_entidad": "Sinaloa",
          "tono_de_color_de_piel": 6
         },
         {
          "abr_estado": "Sin.",
          "cuenta": 7,
          "entidad": 25,
          "estrato_socioeconomico": 4,
          "estrato_socioeconomico_nom": "Alto",
          "estratos": "4) Alto",
          "nom_entidad": "Sinaloa",
          "tono_de_color_de_piel": 10
         },
         {
          "abr_estado": "Coah.",
          "cuenta": 4,
          "entidad": 5,
          "estrato_socioeconomico": 4,
          "estrato_socioeconomico_nom": "Alto",
          "estratos": "4) Alto",
          "nom_entidad": "Coahuila de Zaragoza",
          "tono_de_color_de_piel": 10
         },
         {
          "abr_estado": "Sin.",
          "cuenta": 12,
          "entidad": 25,
          "estrato_socioeconomico": 4,
          "estrato_socioeconomico_nom": "Alto",
          "estratos": "4) Alto",
          "nom_entidad": "Sinaloa",
          "tono_de_color_de_piel": 9
         },
         {
          "abr_estado": "Sin.",
          "cuenta": 57,
          "entidad": 25,
          "estrato_socioeconomico": 4,
          "estrato_socioeconomico_nom": "Alto",
          "estratos": "4) Alto",
          "nom_entidad": "Sinaloa",
          "tono_de_color_de_piel": 8
         },
         {
          "abr_estado": "Col.",
          "cuenta": 39,
          "entidad": 6,
          "estrato_socioeconomico": 4,
          "estrato_socioeconomico_nom": "Alto",
          "estratos": "4) Alto",
          "nom_entidad": "Colima",
          "tono_de_color_de_piel": 8
         },
         {
          "abr_estado": "Col.",
          "cuenta": 30,
          "entidad": 6,
          "estrato_socioeconomico": 4,
          "estrato_socioeconomico_nom": "Alto",
          "estratos": "4) Alto",
          "nom_entidad": "Colima",
          "tono_de_color_de_piel": 7
         },
         {
          "abr_estado": "Col.",
          "cuenta": 10,
          "entidad": 6,
          "estrato_socioeconomico": 4,
          "estrato_socioeconomico_nom": "Alto",
          "estratos": "4) Alto",
          "nom_entidad": "Colima",
          "tono_de_color_de_piel": 6
         },
         {
          "abr_estado": "Col.",
          "cuenta": 10,
          "entidad": 6,
          "estrato_socioeconomico": 4,
          "estrato_socioeconomico_nom": "Alto",
          "estratos": "4) Alto",
          "nom_entidad": "Colima",
          "tono_de_color_de_piel": 10
         },
         {
          "abr_estado": "Col.",
          "cuenta": 5,
          "entidad": 6,
          "estrato_socioeconomico": 4,
          "estrato_socioeconomico_nom": "Alto",
          "estratos": "4) Alto",
          "nom_entidad": "Colima",
          "tono_de_color_de_piel": 9
         },
         {
          "abr_estado": "Col.",
          "cuenta": 3,
          "entidad": 6,
          "estrato_socioeconomico": 4,
          "estrato_socioeconomico_nom": "Alto",
          "estratos": "4) Alto",
          "nom_entidad": "Colima",
          "tono_de_color_de_piel": 4
         },
         {
          "abr_estado": "Sin.",
          "cuenta": 25,
          "entidad": 25,
          "estrato_socioeconomico": 4,
          "estrato_socioeconomico_nom": "Alto",
          "estratos": "4) Alto",
          "nom_entidad": "Sinaloa",
          "tono_de_color_de_piel": 7
         },
         {
          "abr_estado": "Coah.",
          "cuenta": 13,
          "entidad": 5,
          "estrato_socioeconomico": 4,
          "estrato_socioeconomico_nom": "Alto",
          "estratos": "4) Alto",
          "nom_entidad": "Coahuila de Zaragoza",
          "tono_de_color_de_piel": 6
         },
         {
          "abr_estado": "Coah.",
          "cuenta": 20,
          "entidad": 5,
          "estrato_socioeconomico": 4,
          "estrato_socioeconomico_nom": "Alto",
          "estratos": "4) Alto",
          "nom_entidad": "Coahuila de Zaragoza",
          "tono_de_color_de_piel": 7
         },
         {
          "abr_estado": "Coah.",
          "cuenta": 42,
          "entidad": 5,
          "estrato_socioeconomico": 4,
          "estrato_socioeconomico_nom": "Alto",
          "estratos": "4) Alto",
          "nom_entidad": "Coahuila de Zaragoza",
          "tono_de_color_de_piel": 8
         },
         {
          "abr_estado": "Tab.",
          "cuenta": 1,
          "entidad": 27,
          "estrato_socioeconomico": 4,
          "estrato_socioeconomico_nom": "Alto",
          "estratos": "4) Alto",
          "nom_entidad": "Tabasco",
          "tono_de_color_de_piel": 6
         },
         {
          "abr_estado": "Tab.",
          "cuenta": 9,
          "entidad": 27,
          "estrato_socioeconomico": 4,
          "estrato_socioeconomico_nom": "Alto",
          "estratos": "4) Alto",
          "nom_entidad": "Tabasco",
          "tono_de_color_de_piel": 8
         },
         {
          "abr_estado": "Tab.",
          "cuenta": 12,
          "entidad": 27,
          "estrato_socioeconomico": 4,
          "estrato_socioeconomico_nom": "Alto",
          "estratos": "4) Alto",
          "nom_entidad": "Tabasco",
          "tono_de_color_de_piel": 7
         },
         {
          "abr_estado": "Camp.",
          "cuenta": 20,
          "entidad": 4,
          "estrato_socioeconomico": 4,
          "estrato_socioeconomico_nom": "Alto",
          "estratos": "4) Alto",
          "nom_entidad": "Campeche",
          "tono_de_color_de_piel": 7
         },
         {
          "abr_estado": "Camp.",
          "cuenta": 16,
          "entidad": 4,
          "estrato_socioeconomico": 4,
          "estrato_socioeconomico_nom": "Alto",
          "estratos": "4) Alto",
          "nom_entidad": "Campeche",
          "tono_de_color_de_piel": 8
         },
         {
          "abr_estado": "Camp.",
          "cuenta": 4,
          "entidad": 4,
          "estrato_socioeconomico": 4,
          "estrato_socioeconomico_nom": "Alto",
          "estratos": "4) Alto",
          "nom_entidad": "Campeche",
          "tono_de_color_de_piel": 9
         },
         {
          "abr_estado": "Camp.",
          "cuenta": 4,
          "entidad": 4,
          "estrato_socioeconomico": 4,
          "estrato_socioeconomico_nom": "Alto",
          "estratos": "4) Alto",
          "nom_entidad": "Campeche",
          "tono_de_color_de_piel": 10
         },
         {
          "abr_estado": "Camp.",
          "cuenta": 3,
          "entidad": 4,
          "estrato_socioeconomico": 4,
          "estrato_socioeconomico_nom": "Alto",
          "estratos": "4) Alto",
          "nom_entidad": "Campeche",
          "tono_de_color_de_piel": 6
         },
         {
          "abr_estado": "Camp.",
          "cuenta": 2,
          "entidad": 4,
          "estrato_socioeconomico": 4,
          "estrato_socioeconomico_nom": "Alto",
          "estratos": "4) Alto",
          "nom_entidad": "Campeche",
          "tono_de_color_de_piel": 5
         },
         {
          "abr_estado": "Camp.",
          "cuenta": 1,
          "entidad": 4,
          "estrato_socioeconomico": 4,
          "estrato_socioeconomico_nom": "Alto",
          "estratos": "4) Alto",
          "nom_entidad": "Campeche",
          "tono_de_color_de_piel": 3
         },
         {
          "abr_estado": "Son.",
          "cuenta": 1,
          "entidad": 26,
          "estrato_socioeconomico": 4,
          "estrato_socioeconomico_nom": "Alto",
          "estratos": "4) Alto",
          "nom_entidad": "Sonora",
          "tono_de_color_de_piel": 3
         },
         {
          "abr_estado": "Son.",
          "cuenta": 6,
          "entidad": 26,
          "estrato_socioeconomico": 4,
          "estrato_socioeconomico_nom": "Alto",
          "estratos": "4) Alto",
          "nom_entidad": "Sonora",
          "tono_de_color_de_piel": 6
         },
         {
          "abr_estado": "Son.",
          "cuenta": 9,
          "entidad": 26,
          "estrato_socioeconomico": 4,
          "estrato_socioeconomico_nom": "Alto",
          "estratos": "4) Alto",
          "nom_entidad": "Sonora",
          "tono_de_color_de_piel": 10
         },
         {
          "abr_estado": "Son.",
          "cuenta": 9,
          "entidad": 26,
          "estrato_socioeconomico": 4,
          "estrato_socioeconomico_nom": "Alto",
          "estratos": "4) Alto",
          "nom_entidad": "Sonora",
          "tono_de_color_de_piel": 9
         },
         {
          "abr_estado": "Son.",
          "cuenta": 10,
          "entidad": 26,
          "estrato_socioeconomico": 4,
          "estrato_socioeconomico_nom": "Alto",
          "estratos": "4) Alto",
          "nom_entidad": "Sonora",
          "tono_de_color_de_piel": 11
         },
         {
          "abr_estado": "Son.",
          "cuenta": 14,
          "entidad": 26,
          "estrato_socioeconomico": 4,
          "estrato_socioeconomico_nom": "Alto",
          "estratos": "4) Alto",
          "nom_entidad": "Sonora",
          "tono_de_color_de_piel": 7
         },
         {
          "abr_estado": "Son.",
          "cuenta": 43,
          "entidad": 26,
          "estrato_socioeconomico": 4,
          "estrato_socioeconomico_nom": "Alto",
          "estratos": "4) Alto",
          "nom_entidad": "Sonora",
          "tono_de_color_de_piel": 8
         },
         {
          "abr_estado": "SLP",
          "cuenta": 1,
          "entidad": 24,
          "estrato_socioeconomico": 4,
          "estrato_socioeconomico_nom": "Alto",
          "estratos": "4) Alto",
          "nom_entidad": "San Luis Potosí",
          "tono_de_color_de_piel": 3
         },
         {
          "abr_estado": "SLP",
          "cuenta": 2,
          "entidad": 24,
          "estrato_socioeconomico": 4,
          "estrato_socioeconomico_nom": "Alto",
          "estratos": "4) Alto",
          "nom_entidad": "San Luis Potosí",
          "tono_de_color_de_piel": 11
         },
         {
          "abr_estado": "SLP",
          "cuenta": 2,
          "entidad": 24,
          "estrato_socioeconomico": 4,
          "estrato_socioeconomico_nom": "Alto",
          "estratos": "4) Alto",
          "nom_entidad": "San Luis Potosí",
          "tono_de_color_de_piel": 5
         },
         {
          "abr_estado": "SLP",
          "cuenta": 2,
          "entidad": 24,
          "estrato_socioeconomico": 4,
          "estrato_socioeconomico_nom": "Alto",
          "estratos": "4) Alto",
          "nom_entidad": "San Luis Potosí",
          "tono_de_color_de_piel": 4
         },
         {
          "abr_estado": "Chis.",
          "cuenta": 1,
          "entidad": 7,
          "estrato_socioeconomico": 4,
          "estrato_socioeconomico_nom": "Alto",
          "estratos": "4) Alto",
          "nom_entidad": "Chiapas",
          "tono_de_color_de_piel": 11
         },
         {
          "abr_estado": "Qro.",
          "cuenta": 2,
          "entidad": 22,
          "estrato_socioeconomico": 4,
          "estrato_socioeconomico_nom": "Alto",
          "estratos": "4) Alto",
          "nom_entidad": "Querétaro",
          "tono_de_color_de_piel": 3
         },
         {
          "abr_estado": "Qro.",
          "cuenta": 3,
          "entidad": 22,
          "estrato_socioeconomico": 4,
          "estrato_socioeconomico_nom": "Alto",
          "estratos": "4) Alto",
          "nom_entidad": "Querétaro",
          "tono_de_color_de_piel": 4
         },
         {
          "abr_estado": "Qro.",
          "cuenta": 5,
          "entidad": 22,
          "estrato_socioeconomico": 4,
          "estrato_socioeconomico_nom": "Alto",
          "estratos": "4) Alto",
          "nom_entidad": "Querétaro",
          "tono_de_color_de_piel": 9
         },
         {
          "abr_estado": "Qro.",
          "cuenta": 9,
          "entidad": 22,
          "estrato_socioeconomico": 4,
          "estrato_socioeconomico_nom": "Alto",
          "estratos": "4) Alto",
          "nom_entidad": "Querétaro",
          "tono_de_color_de_piel": 10
         },
         {
          "abr_estado": "Qro.",
          "cuenta": 10,
          "entidad": 22,
          "estrato_socioeconomico": 4,
          "estrato_socioeconomico_nom": "Alto",
          "estratos": "4) Alto",
          "nom_entidad": "Querétaro",
          "tono_de_color_de_piel": 6
         },
         {
          "abr_estado": "Qro.",
          "cuenta": 12,
          "entidad": 22,
          "estrato_socioeconomico": 4,
          "estrato_socioeconomico_nom": "Alto",
          "estratos": "4) Alto",
          "nom_entidad": "Querétaro",
          "tono_de_color_de_piel": 11
         },
         {
          "abr_estado": "Qro.",
          "cuenta": 28,
          "entidad": 22,
          "estrato_socioeconomico": 4,
          "estrato_socioeconomico_nom": "Alto",
          "estratos": "4) Alto",
          "nom_entidad": "Querétaro",
          "tono_de_color_de_piel": 7
         },
         {
          "abr_estado": "Qro.",
          "cuenta": 77,
          "entidad": 22,
          "estrato_socioeconomico": 4,
          "estrato_socioeconomico_nom": "Alto",
          "estratos": "4) Alto",
          "nom_entidad": "Querétaro",
          "tono_de_color_de_piel": 8
         },
         {
          "abr_estado": "Chih.",
          "cuenta": 46,
          "entidad": 8,
          "estrato_socioeconomico": 4,
          "estrato_socioeconomico_nom": "Alto",
          "estratos": "4) Alto",
          "nom_entidad": "Chihuahua",
          "tono_de_color_de_piel": 8
         },
         {
          "abr_estado": "Chih.",
          "cuenta": 15,
          "entidad": 8,
          "estrato_socioeconomico": 4,
          "estrato_socioeconomico_nom": "Alto",
          "estratos": "4) Alto",
          "nom_entidad": "Chihuahua",
          "tono_de_color_de_piel": 7
         },
         {
          "abr_estado": "Chih.",
          "cuenta": 10,
          "entidad": 8,
          "estrato_socioeconomico": 4,
          "estrato_socioeconomico_nom": "Alto",
          "estratos": "4) Alto",
          "nom_entidad": "Chihuahua",
          "tono_de_color_de_piel": 10
         },
         {
          "abr_estado": "Chih.",
          "cuenta": 5,
          "entidad": 8,
          "estrato_socioeconomico": 4,
          "estrato_socioeconomico_nom": "Alto",
          "estratos": "4) Alto",
          "nom_entidad": "Chihuahua",
          "tono_de_color_de_piel": 11
         },
         {
          "abr_estado": "Chih.",
          "cuenta": 3,
          "entidad": 8,
          "estrato_socioeconomico": 4,
          "estrato_socioeconomico_nom": "Alto",
          "estratos": "4) Alto",
          "nom_entidad": "Chihuahua",
          "tono_de_color_de_piel": 6
         },
         {
          "abr_estado": "Chih.",
          "cuenta": 3,
          "entidad": 8,
          "estrato_socioeconomico": 4,
          "estrato_socioeconomico_nom": "Alto",
          "estratos": "4) Alto",
          "nom_entidad": "Chihuahua",
          "tono_de_color_de_piel": 9
         },
         {
          "abr_estado": "Chih.",
          "cuenta": 1,
          "entidad": 8,
          "estrato_socioeconomico": 4,
          "estrato_socioeconomico_nom": "Alto",
          "estratos": "4) Alto",
          "nom_entidad": "Chihuahua",
          "tono_de_color_de_piel": 4
         },
         {
          "abr_estado": "Chih.",
          "cuenta": 1,
          "entidad": 8,
          "estrato_socioeconomico": 4,
          "estrato_socioeconomico_nom": "Alto",
          "estratos": "4) Alto",
          "nom_entidad": "Chihuahua",
          "tono_de_color_de_piel": 5
         },
         {
          "abr_estado": "Chis.",
          "cuenta": 1,
          "entidad": 7,
          "estrato_socioeconomico": 4,
          "estrato_socioeconomico_nom": "Alto",
          "estratos": "4) Alto",
          "nom_entidad": "Chiapas",
          "tono_de_color_de_piel": 10
         },
         {
          "abr_estado": "Tab.",
          "cuenta": 1,
          "entidad": 27,
          "estrato_socioeconomico": 4,
          "estrato_socioeconomico_nom": "Alto",
          "estratos": "4) Alto",
          "nom_entidad": "Tabasco",
          "tono_de_color_de_piel": 11
         },
         {
          "abr_estado": "Chis.",
          "cuenta": 1,
          "entidad": 7,
          "estrato_socioeconomico": 4,
          "estrato_socioeconomico_nom": "Alto",
          "estratos": "4) Alto",
          "nom_entidad": "Chiapas",
          "tono_de_color_de_piel": 9
         },
         {
          "abr_estado": "Q. Roo",
          "cuenta": 26,
          "entidad": 23,
          "estrato_socioeconomico": 4,
          "estrato_socioeconomico_nom": "Alto",
          "estratos": "4) Alto",
          "nom_entidad": "Quintana Roo",
          "tono_de_color_de_piel": 8
         },
         {
          "abr_estado": "SLP",
          "cuenta": 3,
          "entidad": 24,
          "estrato_socioeconomico": 4,
          "estrato_socioeconomico_nom": "Alto",
          "estratos": "4) Alto",
          "nom_entidad": "San Luis Potosí",
          "tono_de_color_de_piel": 9
         },
         {
          "abr_estado": "SLP",
          "cuenta": 5,
          "entidad": 24,
          "estrato_socioeconomico": 4,
          "estrato_socioeconomico_nom": "Alto",
          "estratos": "4) Alto",
          "nom_entidad": "San Luis Potosí",
          "tono_de_color_de_piel": 10
         },
         {
          "abr_estado": "SLP",
          "cuenta": 6,
          "entidad": 24,
          "estrato_socioeconomico": 4,
          "estrato_socioeconomico_nom": "Alto",
          "estratos": "4) Alto",
          "nom_entidad": "San Luis Potosí",
          "tono_de_color_de_piel": 6
         },
         {
          "abr_estado": "SLP",
          "cuenta": 19,
          "entidad": 24,
          "estrato_socioeconomico": 4,
          "estrato_socioeconomico_nom": "Alto",
          "estratos": "4) Alto",
          "nom_entidad": "San Luis Potosí",
          "tono_de_color_de_piel": 7
         },
         {
          "abr_estado": "SLP",
          "cuenta": 42,
          "entidad": 24,
          "estrato_socioeconomico": 4,
          "estrato_socioeconomico_nom": "Alto",
          "estratos": "4) Alto",
          "nom_entidad": "San Luis Potosí",
          "tono_de_color_de_piel": 8
         },
         {
          "abr_estado": "Col.",
          "cuenta": 3,
          "entidad": 6,
          "estrato_socioeconomico": 4,
          "estrato_socioeconomico_nom": "Alto",
          "estratos": "4) Alto",
          "nom_entidad": "Colima",
          "tono_de_color_de_piel": 5
         },
         {
          "abr_estado": "Col.",
          "cuenta": 2,
          "entidad": 6,
          "estrato_socioeconomico": 4,
          "estrato_socioeconomico_nom": "Alto",
          "estratos": "4) Alto",
          "nom_entidad": "Colima",
          "tono_de_color_de_piel": 11
         },
         {
          "abr_estado": "Chis.",
          "cuenta": 8,
          "entidad": 7,
          "estrato_socioeconomico": 4,
          "estrato_socioeconomico_nom": "Alto",
          "estratos": "4) Alto",
          "nom_entidad": "Chiapas",
          "tono_de_color_de_piel": 8
         },
         {
          "abr_estado": "Chis.",
          "cuenta": 4,
          "entidad": 7,
          "estrato_socioeconomico": 4,
          "estrato_socioeconomico_nom": "Alto",
          "estratos": "4) Alto",
          "nom_entidad": "Chiapas",
          "tono_de_color_de_piel": 7
         },
         {
          "abr_estado": "Q. Roo",
          "cuenta": 1,
          "entidad": 23,
          "estrato_socioeconomico": 4,
          "estrato_socioeconomico_nom": "Alto",
          "estratos": "4) Alto",
          "nom_entidad": "Quintana Roo",
          "tono_de_color_de_piel": 11
         },
         {
          "abr_estado": "Q. Roo",
          "cuenta": 1,
          "entidad": 23,
          "estrato_socioeconomico": 4,
          "estrato_socioeconomico_nom": "Alto",
          "estratos": "4) Alto",
          "nom_entidad": "Quintana Roo",
          "tono_de_color_de_piel": 2
         },
         {
          "abr_estado": "Q. Roo",
          "cuenta": 5,
          "entidad": 23,
          "estrato_socioeconomico": 4,
          "estrato_socioeconomico_nom": "Alto",
          "estratos": "4) Alto",
          "nom_entidad": "Quintana Roo",
          "tono_de_color_de_piel": 10
         },
         {
          "abr_estado": "Q. Roo",
          "cuenta": 8,
          "entidad": 23,
          "estrato_socioeconomico": 4,
          "estrato_socioeconomico_nom": "Alto",
          "estratos": "4) Alto",
          "nom_entidad": "Quintana Roo",
          "tono_de_color_de_piel": 4
         },
         {
          "abr_estado": "Jal.",
          "cuenta": 12,
          "entidad": 14,
          "estrato_socioeconomico": 4,
          "estrato_socioeconomico_nom": "Alto",
          "estratos": "4) Alto",
          "nom_entidad": "Jalisco",
          "tono_de_color_de_piel": 7
         },
         {
          "abr_estado": "Q. Roo",
          "cuenta": 12,
          "entidad": 23,
          "estrato_socioeconomico": 4,
          "estrato_socioeconomico_nom": "Alto",
          "estratos": "4) Alto",
          "nom_entidad": "Quintana Roo",
          "tono_de_color_de_piel": 9
         },
         {
          "abr_estado": "Q. Roo",
          "cuenta": 13,
          "entidad": 23,
          "estrato_socioeconomico": 4,
          "estrato_socioeconomico_nom": "Alto",
          "estratos": "4) Alto",
          "nom_entidad": "Quintana Roo",
          "tono_de_color_de_piel": 6
         },
         {
          "abr_estado": "Q. Roo",
          "cuenta": 16,
          "entidad": 23,
          "estrato_socioeconomico": 4,
          "estrato_socioeconomico_nom": "Alto",
          "estratos": "4) Alto",
          "nom_entidad": "Quintana Roo",
          "tono_de_color_de_piel": 7
         },
         {
          "abr_estado": "Chis.",
          "cuenta": 1,
          "entidad": 7,
          "estrato_socioeconomico": 4,
          "estrato_socioeconomico_nom": "Alto",
          "estratos": "4) Alto",
          "nom_entidad": "Chiapas",
          "tono_de_color_de_piel": 6
         },
         {
          "abr_estado": "Zac.",
          "cuenta": 1,
          "entidad": 32,
          "estrato_socioeconomico": 4,
          "estrato_socioeconomico_nom": "Alto",
          "estratos": "4) Alto",
          "nom_entidad": "Zacatecas",
          "tono_de_color_de_piel": 6
         }
        ]
       },
       "encoding": {
        "color": {
         "field": "estratos",
         "legend": {
          "title": "estrato s.e."
         },
         "scale": {
          "domain": [
           "1) Bajo",
           "2) Medio Bajo",
           "3) Medio Alto",
           "4) Alto"
          ],
          "range": [
           "#fcdfef",
           "#f59fce",
           "#eb409d",
           "#e4007c"
          ]
         },
         "type": "ordinal"
        },
        "column": {
         "field": "tono_de_color_de_piel",
         "header": {
          "title": ""
         },
         "sort": "ascending",
         "title": "",
         "type": "ordinal"
        },
        "x": {
         "aggregate": "sum",
         "axis": {
          "format": "%"
         },
         "field": "cuenta",
         "stack": "normalize",
         "title": "",
         "type": "quantitative"
        },
        "y": {
         "field": "nom_entidad",
         "title": "entidad federativa",
         "type": "nominal"
        }
       },
       "height": 700,
       "mark": {
        "stroke": "#282828",
        "strokeWidth": 0.5,
        "type": "bar"
       },
       "title": "06 Visualizing Strata (Remix)",
       "width": 50
      },
      "image/png": "[encoded data removed]",
      "text/plain": [
       "<VegaLite 2 object>\n",
       "\n",
       "If you see this message, it means the renderer has not been properly enabled\n",
       "for the frontend that you are using. For more information, see\n",
       "https://altair-viz.github.io/user_guide/troubleshooting.html\n"
      ]
     },
     "execution_count": 95,
     "metadata": {},
     "output_type": "execute_result"
    }
   ],
   "source": [
    "domains = [\"1) Bajo\", \"2) Medio Bajo\", \"3) Medio Alto\", \"4) Alto\"]\n",
    "colors = [\"#fcdfef\", \"#f59fce\", \"#eb409d\", \"#e4007c\"]\n",
    "\n",
    "color_scale = alt.Scale(\n",
    "    domain=domains,\n",
    "    range=colors\n",
    ")\n",
    "\n",
    "chart = alt.Chart(df).mark_bar(strokeWidth = .5, stroke = \"#282828\").encode(\n",
    "    x = alt.X(\"sum(cuenta)\", title = \"\", stack = \"normalize\", axis = alt.Axis(format = \"%\"), ),\n",
    "    y = alt.Y(\"nom_entidad:N\", title = \"entidad federativa\",),\n",
    "    color = alt.Color(\"estratos:O\", legend = alt.Legend(title = \"estrato s.e.\",), scale = color_scale,),\n",
    "    column = alt.Column(\"tono_de_color_de_piel:O\", sort = \"ascending\", title = \"\", header = alt.Header(title = \"\")),\n",
    ").properties(\n",
    "    width = 50,\n",
    "    height = 700,\n",
    "    title = \"06 Visualizing Strata (Remix)\"\n",
    ")\n",
    "\n",
    "chart.configure_view(width = 1080)"
   ]
  },
  {
   "cell_type": "code",
   "execution_count": 59,
   "metadata": {},
   "outputs": [],
   "source": [
    "%run scripts/cimarron_theme_mod.py"
   ]
  },
  {
   "cell_type": "code",
   "execution_count": 23,
   "metadata": {},
   "outputs": [
    {
     "data": {
      "text/html": [
       "<style>\n",
       "@import url('https://fonts.googleapis.com/css?family=Ubuntu|Ubuntu+Condensed|Ubuntu+Mono');\n",
       "</style>"
      ],
      "text/plain": [
       "<IPython.core.display.HTML object>"
      ]
     },
     "metadata": {},
     "output_type": "display_data"
    }
   ],
   "source": [
    "%%html\n",
    "<style>\n",
    "@import url('https://fonts.googleapis.com/css?family=Ubuntu|Ubuntu+Condensed|Ubuntu+Mono');\n",
    "</style>"
   ]
  },
  {
   "cell_type": "code",
   "execution_count": 50,
   "metadata": {},
   "outputs": [],
   "source": [
    "random_data = {\"a\": [2,1,5,5,7,8], \"b\": [4,5,7,8,4,6]}\n",
    "text = alt.pd.DataFrame(random_data)\n",
    "source = alt.Chart(text).mark_text(text = \"Source: INEGI, MMSI 2016\")"
   ]
  },
  {
   "cell_type": "code",
   "execution_count": 89,
   "metadata": {},
   "outputs": [
    {
     "data": {
      "application/vnd.vegalite.v2+json": {
       "$schema": "https://vega.github.io/schema/vega-lite/v2.4.3.json",
       "autosize": "fit",
       "config": {
        "arc": {
         "fill": "#282828"
        },
        "area": {
         "fill": "#282828"
        },
        "axisBand": {
         "grid": false
        },
        "axisBottom": {
         "domain": false,
         "domainColor": "black",
         "domainWidth": 3,
         "grid": true,
         "gridColor": "#C9C9C9",
         "gridWidth": 1,
         "labelFont": "Ubuntu Condensed",
         "labelFontSize": 10,
         "labelPadding": 8,
         "tickColor": "#282828",
         "tickSize": 10,
         "title": "",
         "titleFont": "Ubuntu",
         "titleFontSize": 16,
         "titlePadding": 10
        },
        "axisLeft": {
         "domainColor": "#282828",
         "domainWidth": 1,
         "gridColor": "#C9C9C9",
         "gridWidth": 1,
         "labelFont": "Ubuntu Condensed",
         "labelFontSize": 16,
         "labelPadding": 8,
         "tickColor": "#282828",
         "tickSize": 10,
         "ticks": true,
         "titleFont": "Ubuntu",
         "titleFontSize": 36,
         "titlePadding": 10
        },
        "axisRight": {
         "domainColor": "#282828",
         "domainWidth": 1,
         "gridColor": "#C9C9C9",
         "gridWidth": 1,
         "labelFont": "Ubuntu Condensed",
         "labelFontSize": 12,
         "labelPadding": 4,
         "tickColor": "#282828",
         "tickSize": 10,
         "ticks": true,
         "titleFont": "Ubuntu",
         "titleFontSize": 14,
         "titlePadding": 10
        },
        "axisTop": {
         "domain": false,
         "domainColor": "black",
         "domainWidth": 3,
         "grid": true,
         "gridColor": "#C9C9C9",
         "gridWidth": 1,
         "labelFont": "Ubuntu Condensed",
         "labelFontSize": 12,
         "labelPadding": 4,
         "tickColor": "#282828",
         "tickSize": 10,
         "titleFont": "Ubuntu",
         "titleFontSize": 20,
         "titlePadding": 10
        },
        "background": "#FFFAFA",
        "geoshape": {
         "fill": "#C0C0C0",
         "stroke": "#C0C0C0",
         "strokeWidth": 0.5
        },
        "group": {
         "fill": "#FFFAFA"
        },
        "header": {
         "fontWeight": 400,
         "labelFont": "Ubuntu Condensed",
         "labelFontSize": 15,
         "title": " ",
         "titleBaseline": "bottom",
         "titleFont": "Ubuntu",
         "titleFontSize": 12,
         "titleOffset": -300
        },
        "legend": {
         "labelFont": "Ubuntu Condensed",
         "labelFontSize": 19,
         "padding": 10,
         "symbolSize": 300,
         "symbolType": "square",
         "titleFont": "Ubuntu",
         "titleFontSize": 18,
         "titlePadding": 10
        },
        "line": {
         "color": "#282828",
         "stroke": "#282828",
         "strokewidth": 5
        },
        "padding": 10,
        "path": {
         "stroke": "#282828",
         "strokeWidth": 0.5
        },
        "point": {
         "filled": true
        },
        "range": {
         "category": [
          "#dc0d7a",
          "#02a3cd",
          "#e4a100",
          "#dc0d12",
          "#0DDC6F",
          "#074a7e",
          "#e46800",
          "#aa3594",
          "#a20c4b"
         ],
         "diverging": [
          "#dc0d12",
          "#e9686b",
          "#fbe1e1",
          "#dff4f9",
          "#81d1e6",
          "#03a3cd"
         ],
         "heatmap": [
          "#fcdfef",
          "#f8bfde",
          "#f59fce",
          "#f180be",
          "#ee60ad",
          "#eb409d",
          "#e7208c",
          "#e4007c"
         ]
        },
        "rect": {
         "fill": "#A20C4B",
         "opacity": 0.3
        },
        "style": {
         "bar": {
          "binSpacing": 2,
          "fill": "#282828",
          "stroke": false
         },
         "text": {
          "align": "right",
          "dx": 300,
          "font": "Ubuntu Mono",
          "fontSize": 10,
          "fontWeight": 100,
          "href": "https://twitter.com/ChekosWH",
          "size": 10,
          "text": "Made by @ChekosWH"
         }
        },
        "symbol": {
         "opacity": 1,
         "shape": "circle",
         "size": 30,
         "strokeWidth": 1
        },
        "title": {
         "anchor": "start",
         "font": "Ubuntu",
         "fontSize": 64,
         "fontWeight": 600,
         "offset": 20
        },
        "trail": {
         "color": "#282828",
         "size": 5,
         "stroke": "#282828",
         "strokeWidth": 0
        },
        "view": {
         "padding": 15,
         "stroke": false
        }
       },
       "data": {
        "values": [
         {
          "abr_estado": "Mor.",
          "cuenta": 2,
          "entidad": 17,
          "estrato_socioeconomico": 1,
          "estrato_socioeconomico_nom": "Bajo",
          "estratos": "1) Bajo",
          "nom_entidad": "Morelos",
          "tono_de_color_de_piel": 2
         },
         {
          "abr_estado": "Pue.",
          "cuenta": 1,
          "entidad": 21,
          "estrato_socioeconomico": 1,
          "estrato_socioeconomico_nom": "Bajo",
          "estratos": "1) Bajo",
          "nom_entidad": "Puebla",
          "tono_de_color_de_piel": 11
         },
         {
          "abr_estado": "Qro.",
          "cuenta": 60,
          "entidad": 22,
          "estrato_socioeconomico": 1,
          "estrato_socioeconomico_nom": "Bajo",
          "estratos": "1) Bajo",
          "nom_entidad": "Querétaro",
          "tono_de_color_de_piel": 8
         },
         {
          "abr_estado": "Qro.",
          "cuenta": 35,
          "entidad": 22,
          "estrato_socioeconomico": 1,
          "estrato_socioeconomico_nom": "Bajo",
          "estratos": "1) Bajo",
          "nom_entidad": "Querétaro",
          "tono_de_color_de_piel": 7
         },
         {
          "abr_estado": "Qro.",
          "cuenta": 20,
          "entidad": 22,
          "estrato_socioeconomico": 1,
          "estrato_socioeconomico_nom": "Bajo",
          "estratos": "1) Bajo",
          "nom_entidad": "Querétaro",
          "tono_de_color_de_piel": 6
         },
         {
          "abr_estado": "Qro.",
          "cuenta": 5,
          "entidad": 22,
          "estrato_socioeconomico": 1,
          "estrato_socioeconomico_nom": "Bajo",
          "estratos": "1) Bajo",
          "nom_entidad": "Querétaro",
          "tono_de_color_de_piel": 4
         },
         {
          "abr_estado": "Qro.",
          "cuenta": 5,
          "entidad": 22,
          "estrato_socioeconomico": 1,
          "estrato_socioeconomico_nom": "Bajo",
          "estratos": "1) Bajo",
          "nom_entidad": "Querétaro",
          "tono_de_color_de_piel": 9
         },
         {
          "abr_estado": "Qro.",
          "cuenta": 5,
          "entidad": 22,
          "estrato_socioeconomico": 1,
          "estrato_socioeconomico_nom": "Bajo",
          "estratos": "1) Bajo",
          "nom_entidad": "Querétaro",
          "tono_de_color_de_piel": 10
         },
         {
          "abr_estado": "Qro.",
          "cuenta": 2,
          "entidad": 22,
          "estrato_socioeconomico": 1,
          "estrato_socioeconomico_nom": "Bajo",
          "estratos": "1) Bajo",
          "nom_entidad": "Querétaro",
          "tono_de_color_de_piel": 2
         },
         {
          "abr_estado": "Qro.",
          "cuenta": 2,
          "entidad": 22,
          "estrato_socioeconomico": 1,
          "estrato_socioeconomico_nom": "Bajo",
          "estratos": "1) Bajo",
          "nom_entidad": "Querétaro",
          "tono_de_color_de_piel": 3
         },
         {
          "abr_estado": "Qro.",
          "cuenta": 1,
          "entidad": 22,
          "estrato_socioeconomico": 1,
          "estrato_socioeconomico_nom": "Bajo",
          "estratos": "1) Bajo",
          "nom_entidad": "Querétaro",
          "tono_de_color_de_piel": 11
         },
         {
          "abr_estado": "Q. Roo",
          "cuenta": 38,
          "entidad": 23,
          "estrato_socioeconomico": 1,
          "estrato_socioeconomico_nom": "Bajo",
          "estratos": "1) Bajo",
          "nom_entidad": "Quintana Roo",
          "tono_de_color_de_piel": 7
         },
         {
          "abr_estado": "Q. Roo",
          "cuenta": 18,
          "entidad": 23,
          "estrato_socioeconomico": 1,
          "estrato_socioeconomico_nom": "Bajo",
          "estratos": "1) Bajo",
          "nom_entidad": "Quintana Roo",
          "tono_de_color_de_piel": 6
         },
         {
          "abr_estado": "Q. Roo",
          "cuenta": 17,
          "entidad": 23,
          "estrato_socioeconomico": 1,
          "estrato_socioeconomico_nom": "Bajo",
          "estratos": "1) Bajo",
          "nom_entidad": "Quintana Roo",
          "tono_de_color_de_piel": 4
         },
         {
          "abr_estado": "Q. Roo",
          "cuenta": 16,
          "entidad": 23,
          "estrato_socioeconomico": 1,
          "estrato_socioeconomico_nom": "Bajo",
          "estratos": "1) Bajo",
          "nom_entidad": "Quintana Roo",
          "tono_de_color_de_piel": 8
         },
         {
          "abr_estado": "Q. Roo",
          "cuenta": 8,
          "entidad": 23,
          "estrato_socioeconomico": 1,
          "estrato_socioeconomico_nom": "Bajo",
          "estratos": "1) Bajo",
          "nom_entidad": "Quintana Roo",
          "tono_de_color_de_piel": 5
         },
         {
          "abr_estado": "Q. Roo",
          "cuenta": 6,
          "entidad": 23,
          "estrato_socioeconomico": 1,
          "estrato_socioeconomico_nom": "Bajo",
          "estratos": "1) Bajo",
          "nom_entidad": "Quintana Roo",
          "tono_de_color_de_piel": 9
         },
         {
          "abr_estado": "Q. Roo",
          "cuenta": 3,
          "entidad": 23,
          "estrato_socioeconomico": 1,
          "estrato_socioeconomico_nom": "Bajo",
          "estratos": "1) Bajo",
          "nom_entidad": "Quintana Roo",
          "tono_de_color_de_piel": 3
         },
         {
          "abr_estado": "Pue.",
          "cuenta": 2,
          "entidad": 21,
          "estrato_socioeconomico": 1,
          "estrato_socioeconomico_nom": "Bajo",
          "estratos": "1) Bajo",
          "nom_entidad": "Puebla",
          "tono_de_color_de_piel": 1
         },
         {
          "abr_estado": "Pue.",
          "cuenta": 3,
          "entidad": 21,
          "estrato_socioeconomico": 1,
          "estrato_socioeconomico_nom": "Bajo",
          "estratos": "1) Bajo",
          "nom_entidad": "Puebla",
          "tono_de_color_de_piel": 2
         },
         {
          "abr_estado": "Pue.",
          "cuenta": 4,
          "entidad": 21,
          "estrato_socioeconomico": 1,
          "estrato_socioeconomico_nom": "Bajo",
          "estratos": "1) Bajo",
          "nom_entidad": "Puebla",
          "tono_de_color_de_piel": 3
         },
         {
          "abr_estado": "Pue.",
          "cuenta": 6,
          "entidad": 21,
          "estrato_socioeconomico": 1,
          "estrato_socioeconomico_nom": "Bajo",
          "estratos": "1) Bajo",
          "nom_entidad": "Puebla",
          "tono_de_color_de_piel": 9
         },
         {
          "abr_estado": "Oax.",
          "cuenta": 3,
          "entidad": 20,
          "estrato_socioeconomico": 1,
          "estrato_socioeconomico_nom": "Bajo",
          "estratos": "1) Bajo",
          "nom_entidad": "Oaxaca",
          "tono_de_color_de_piel": 11
         },
         {
          "abr_estado": "Oax.",
          "cuenta": 1,
          "entidad": 20,
          "estrato_socioeconomico": 1,
          "estrato_socioeconomico_nom": "Bajo",
          "estratos": "1) Bajo",
          "nom_entidad": "Oaxaca",
          "tono_de_color_de_piel": 1
         },
         {
          "abr_estado": "Dgo.",
          "cuenta": 1,
          "entidad": 10,
          "estrato_socioeconomico": 1,
          "estrato_socioeconomico_nom": "Bajo",
          "estratos": "1) Bajo",
          "nom_entidad": "Durango",
          "tono_de_color_de_piel": 4
         },
         {
          "abr_estado": "Dgo.",
          "cuenta": 1,
          "entidad": 10,
          "estrato_socioeconomico": 1,
          "estrato_socioeconomico_nom": "Bajo",
          "estratos": "1) Bajo",
          "nom_entidad": "Durango",
          "tono_de_color_de_piel": 2
         },
         {
          "abr_estado": "Dgo.",
          "cuenta": 1,
          "entidad": 10,
          "estrato_socioeconomico": 1,
          "estrato_socioeconomico_nom": "Bajo",
          "estratos": "1) Bajo",
          "nom_entidad": "Durango",
          "tono_de_color_de_piel": 1
         },
         {
          "abr_estado": "Dgo.",
          "cuenta": 2,
          "entidad": 10,
          "estrato_socioeconomico": 1,
          "estrato_socioeconomico_nom": "Bajo",
          "estratos": "1) Bajo",
          "nom_entidad": "Durango",
          "tono_de_color_de_piel": 5
         },
         {
          "abr_estado": "Dgo.",
          "cuenta": 5,
          "entidad": 10,
          "estrato_socioeconomico": 1,
          "estrato_socioeconomico_nom": "Bajo",
          "estratos": "1) Bajo",
          "nom_entidad": "Durango",
          "tono_de_color_de_piel": 11
         },
         {
          "abr_estado": "Dgo.",
          "cuenta": 9,
          "entidad": 10,
          "estrato_socioeconomico": 1,
          "estrato_socioeconomico_nom": "Bajo",
          "estratos": "1) Bajo",
          "nom_entidad": "Durango",
          "tono_de_color_de_piel": 9
         },
         {
          "abr_estado": "Q. Roo",
          "cuenta": 1,
          "entidad": 23,
          "estrato_socioeconomico": 1,
          "estrato_socioeconomico_nom": "Bajo",
          "estratos": "1) Bajo",
          "nom_entidad": "Quintana Roo",
          "tono_de_color_de_piel": 2
         },
         {
          "abr_estado": "Dgo.",
          "cuenta": 12,
          "entidad": 10,
          "estrato_socioeconomico": 1,
          "estrato_socioeconomico_nom": "Bajo",
          "estratos": "1) Bajo",
          "nom_entidad": "Durango",
          "tono_de_color_de_piel": 10
         },
         {
          "abr_estado": "Dgo.",
          "cuenta": 20,
          "entidad": 10,
          "estrato_socioeconomico": 1,
          "estrato_socioeconomico_nom": "Bajo",
          "estratos": "1) Bajo",
          "nom_entidad": "Durango",
          "tono_de_color_de_piel": 7
         },
         {
          "abr_estado": "Dgo.",
          "cuenta": 29,
          "entidad": 10,
          "estrato_socioeconomico": 1,
          "estrato_socioeconomico_nom": "Bajo",
          "estratos": "1) Bajo",
          "nom_entidad": "Durango",
          "tono_de_color_de_piel": 8
         },
         {
          "abr_estado": "Pue.",
          "cuenta": 94,
          "entidad": 21,
          "estrato_socioeconomico": 1,
          "estrato_socioeconomico_nom": "Bajo",
          "estratos": "1) Bajo",
          "nom_entidad": "Puebla",
          "tono_de_color_de_piel": 7
         },
         {
          "abr_estado": "Pue.",
          "cuenta": 68,
          "entidad": 21,
          "estrato_socioeconomico": 1,
          "estrato_socioeconomico_nom": "Bajo",
          "estratos": "1) Bajo",
          "nom_entidad": "Puebla",
          "tono_de_color_de_piel": 8
         },
         {
          "abr_estado": "Pue.",
          "cuenta": 46,
          "entidad": 21,
          "estrato_socioeconomico": 1,
          "estrato_socioeconomico_nom": "Bajo",
          "estratos": "1) Bajo",
          "nom_entidad": "Puebla",
          "tono_de_color_de_piel": 6
         },
         {
          "abr_estado": "Pue.",
          "cuenta": 14,
          "entidad": 21,
          "estrato_socioeconomico": 1,
          "estrato_socioeconomico_nom": "Bajo",
          "estratos": "1) Bajo",
          "nom_entidad": "Puebla",
          "tono_de_color_de_piel": 4
         },
         {
          "abr_estado": "Pue.",
          "cuenta": 10,
          "entidad": 21,
          "estrato_socioeconomico": 1,
          "estrato_socioeconomico_nom": "Bajo",
          "estratos": "1) Bajo",
          "nom_entidad": "Puebla",
          "tono_de_color_de_piel": 5
         },
         {
          "abr_estado": "Pue.",
          "cuenta": 10,
          "entidad": 21,
          "estrato_socioeconomico": 1,
          "estrato_socioeconomico_nom": "Bajo",
          "estratos": "1) Bajo",
          "nom_entidad": "Puebla",
          "tono_de_color_de_piel": 10
         },
         {
          "abr_estado": "Dgo.",
          "cuenta": 14,
          "entidad": 10,
          "estrato_socioeconomico": 1,
          "estrato_socioeconomico_nom": "Bajo",
          "estratos": "1) Bajo",
          "nom_entidad": "Durango",
          "tono_de_color_de_piel": 6
         },
         {
          "abr_estado": "Q. Roo",
          "cuenta": 1,
          "entidad": 23,
          "estrato_socioeconomico": 1,
          "estrato_socioeconomico_nom": "Bajo",
          "estratos": "1) Bajo",
          "nom_entidad": "Quintana Roo",
          "tono_de_color_de_piel": 10
         },
         {
          "abr_estado": "Chih.",
          "cuenta": 1,
          "entidad": 8,
          "estrato_socioeconomico": 1,
          "estrato_socioeconomico_nom": "Bajo",
          "estratos": "1) Bajo",
          "nom_entidad": "Chihuahua",
          "tono_de_color_de_piel": 1
         },
         {
          "abr_estado": "Chih.",
          "cuenta": 2,
          "entidad": 8,
          "estrato_socioeconomico": 1,
          "estrato_socioeconomico_nom": "Bajo",
          "estratos": "1) Bajo",
          "nom_entidad": "Chihuahua",
          "tono_de_color_de_piel": 2
         },
         {
          "abr_estado": "Chis.",
          "cuenta": 15,
          "entidad": 7,
          "estrato_socioeconomico": 1,
          "estrato_socioeconomico_nom": "Bajo",
          "estratos": "1) Bajo",
          "nom_entidad": "Chiapas",
          "tono_de_color_de_piel": 11
         },
         {
          "abr_estado": "Chis.",
          "cuenta": 16,
          "entidad": 7,
          "estrato_socioeconomico": 1,
          "estrato_socioeconomico_nom": "Bajo",
          "estratos": "1) Bajo",
          "nom_entidad": "Chiapas",
          "tono_de_color_de_piel": 4
         },
         {
          "abr_estado": "Chis.",
          "cuenta": 24,
          "entidad": 7,
          "estrato_socioeconomico": 1,
          "estrato_socioeconomico_nom": "Bajo",
          "estratos": "1) Bajo",
          "nom_entidad": "Chiapas",
          "tono_de_color_de_piel": 5
         },
         {
          "abr_estado": "Chis.",
          "cuenta": 25,
          "entidad": 7,
          "estrato_socioeconomico": 1,
          "estrato_socioeconomico_nom": "Bajo",
          "estratos": "1) Bajo",
          "nom_entidad": "Chiapas",
          "tono_de_color_de_piel": 9
         },
         {
          "abr_estado": "Chis.",
          "cuenta": 77,
          "entidad": 7,
          "estrato_socioeconomico": 1,
          "estrato_socioeconomico_nom": "Bajo",
          "estratos": "1) Bajo",
          "nom_entidad": "Chiapas",
          "tono_de_color_de_piel": 6
         },
         {
          "abr_estado": "Chis.",
          "cuenta": 140,
          "entidad": 7,
          "estrato_socioeconomico": 1,
          "estrato_socioeconomico_nom": "Bajo",
          "estratos": "1) Bajo",
          "nom_entidad": "Chiapas",
          "tono_de_color_de_piel": 8
         },
         {
          "abr_estado": "Chis.",
          "cuenta": 151,
          "entidad": 7,
          "estrato_socioeconomico": 1,
          "estrato_socioeconomico_nom": "Bajo",
          "estratos": "1) Bajo",
          "nom_entidad": "Chiapas",
          "tono_de_color_de_piel": 7
         },
         {
          "abr_estado": "Sin.",
          "cuenta": 35,
          "entidad": 25,
          "estrato_socioeconomico": 1,
          "estrato_socioeconomico_nom": "Bajo",
          "estratos": "1) Bajo",
          "nom_entidad": "Sinaloa",
          "tono_de_color_de_piel": 7
         },
         {
          "abr_estado": "Chis.",
          "cuenta": 14,
          "entidad": 7,
          "estrato_socioeconomico": 1,
          "estrato_socioeconomico_nom": "Bajo",
          "estratos": "1) Bajo",
          "nom_entidad": "Chiapas",
          "tono_de_color_de_piel": 10
         },
         {
          "abr_estado": "Sin.",
          "cuenta": 23,
          "entidad": 25,
          "estrato_socioeconomico": 1,
          "estrato_socioeconomico_nom": "Bajo",
          "estratos": "1) Bajo",
          "nom_entidad": "Sinaloa",
          "tono_de_color_de_piel": 8
         },
         {
          "abr_estado": "Sin.",
          "cuenta": 12,
          "entidad": 25,
          "estrato_socioeconomico": 1,
          "estrato_socioeconomico_nom": "Bajo",
          "estratos": "1) Bajo",
          "nom_entidad": "Sinaloa",
          "tono_de_color_de_piel": 9
         },
         {
          "abr_estado": "Sin.",
          "cuenta": 5,
          "entidad": 25,
          "estrato_socioeconomico": 1,
          "estrato_socioeconomico_nom": "Bajo",
          "estratos": "1) Bajo",
          "nom_entidad": "Sinaloa",
          "tono_de_color_de_piel": 4
         },
         {
          "abr_estado": "Sin.",
          "cuenta": 3,
          "entidad": 25,
          "estrato_socioeconomico": 1,
          "estrato_socioeconomico_nom": "Bajo",
          "estratos": "1) Bajo",
          "nom_entidad": "Sinaloa",
          "tono_de_color_de_piel": 11
         },
         {
          "abr_estado": "Sin.",
          "cuenta": 2,
          "entidad": 25,
          "estrato_socioeconomico": 1,
          "estrato_socioeconomico_nom": "Bajo",
          "estratos": "1) Bajo",
          "nom_entidad": "Sinaloa",
          "tono_de_color_de_piel": 10
         },
         {
          "abr_estado": "Sin.",
          "cuenta": 1,
          "entidad": 25,
          "estrato_socioeconomico": 1,
          "estrato_socioeconomico_nom": "Bajo",
          "estratos": "1) Bajo",
          "nom_entidad": "Sinaloa",
          "tono_de_color_de_piel": 2
         },
         {
          "abr_estado": "Sin.",
          "cuenta": 1,
          "entidad": 25,
          "estrato_socioeconomico": 1,
          "estrato_socioeconomico_nom": "Bajo",
          "estratos": "1) Bajo",
          "nom_entidad": "Sinaloa",
          "tono_de_color_de_piel": 3
         },
         {
          "abr_estado": "Sin.",
          "cuenta": 1,
          "entidad": 25,
          "estrato_socioeconomico": 1,
          "estrato_socioeconomico_nom": "Bajo",
          "estratos": "1) Bajo",
          "nom_entidad": "Sinaloa",
          "tono_de_color_de_piel": 5
         },
         {
          "abr_estado": "Son.",
          "cuenta": 27,
          "entidad": 26,
          "estrato_socioeconomico": 1,
          "estrato_socioeconomico_nom": "Bajo",
          "estratos": "1) Bajo",
          "nom_entidad": "Sonora",
          "tono_de_color_de_piel": 7
         },
         {
          "abr_estado": "Sin.",
          "cuenta": 18,
          "entidad": 25,
          "estrato_socioeconomico": 1,
          "estrato_socioeconomico_nom": "Bajo",
          "estratos": "1) Bajo",
          "nom_entidad": "Sinaloa",
          "tono_de_color_de_piel": 6
         },
         {
          "abr_estado": "Oax.",
          "cuenta": 8,
          "entidad": 20,
          "estrato_socioeconomico": 1,
          "estrato_socioeconomico_nom": "Bajo",
          "estratos": "1) Bajo",
          "nom_entidad": "Oaxaca",
          "tono_de_color_de_piel": 2
         },
         {
          "abr_estado": "Chis.",
          "cuenta": 5,
          "entidad": 7,
          "estrato_socioeconomico": 1,
          "estrato_socioeconomico_nom": "Bajo",
          "estratos": "1) Bajo",
          "nom_entidad": "Chiapas",
          "tono_de_color_de_piel": 3
         },
         {
          "abr_estado": "Chis.",
          "cuenta": 1,
          "entidad": 7,
          "estrato_socioeconomico": 1,
          "estrato_socioeconomico_nom": "Bajo",
          "estratos": "1) Bajo",
          "nom_entidad": "Chiapas",
          "tono_de_color_de_piel": 2
         },
         {
          "abr_estado": "Chih.",
          "cuenta": 3,
          "entidad": 8,
          "estrato_socioeconomico": 1,
          "estrato_socioeconomico_nom": "Bajo",
          "estratos": "1) Bajo",
          "nom_entidad": "Chihuahua",
          "tono_de_color_de_piel": 11
         },
         {
          "abr_estado": "Chih.",
          "cuenta": 3,
          "entidad": 8,
          "estrato_socioeconomico": 1,
          "estrato_socioeconomico_nom": "Bajo",
          "estratos": "1) Bajo",
          "nom_entidad": "Chihuahua",
          "tono_de_color_de_piel": 10
         },
         {
          "abr_estado": "Chih.",
          "cuenta": 3,
          "entidad": 8,
          "estrato_socioeconomico": 1,
          "estrato_socioeconomico_nom": "Bajo",
          "estratos": "1) Bajo",
          "nom_entidad": "Chihuahua",
          "tono_de_color_de_piel": 9
         },
         {
          "abr_estado": "Chih.",
          "cuenta": 8,
          "entidad": 8,
          "estrato_socioeconomico": 1,
          "estrato_socioeconomico_nom": "Bajo",
          "estratos": "1) Bajo",
          "nom_entidad": "Chihuahua",
          "tono_de_color_de_piel": 6
         },
         {
          "abr_estado": "Chih.",
          "cuenta": 13,
          "entidad": 8,
          "estrato_socioeconomico": 1,
          "estrato_socioeconomico_nom": "Bajo",
          "estratos": "1) Bajo",
          "nom_entidad": "Chihuahua",
          "tono_de_color_de_piel": 7
         },
         {
          "abr_estado": "Chih.",
          "cuenta": 15,
          "entidad": 8,
          "estrato_socioeconomico": 1,
          "estrato_socioeconomico_nom": "Bajo",
          "estratos": "1) Bajo",
          "nom_entidad": "Chihuahua",
          "tono_de_color_de_piel": 8
         },
         {
          "abr_estado": "Mex.",
          "cuenta": 16,
          "entidad": 15,
          "estrato_socioeconomico": 1,
          "estrato_socioeconomico_nom": "Bajo",
          "estratos": "1) Bajo",
          "nom_entidad": "México",
          "tono_de_color_de_piel": 8
         },
         {
          "abr_estado": "SLP",
          "cuenta": 77,
          "entidad": 24,
          "estrato_socioeconomico": 1,
          "estrato_socioeconomico_nom": "Bajo",
          "estratos": "1) Bajo",
          "nom_entidad": "San Luis Potosí",
          "tono_de_color_de_piel": 7
         },
         {
          "abr_estado": "Chis.",
          "cuenta": 3,
          "entidad": 7,
          "estrato_socioeconomico": 1,
          "estrato_socioeconomico_nom": "Bajo",
          "estratos": "1) Bajo",
          "nom_entidad": "Chiapas",
          "tono_de_color_de_piel": 1
         },
         {
          "abr_estado": "SLP",
          "cuenta": 61,
          "entidad": 24,
          "estrato_socioeconomico": 1,
          "estrato_socioeconomico_nom": "Bajo",
          "estratos": "1) Bajo",
          "nom_entidad": "San Luis Potosí",
          "tono_de_color_de_piel": 6
         },
         {
          "abr_estado": "SLP",
          "cuenta": 18,
          "entidad": 24,
          "estrato_socioeconomico": 1,
          "estrato_socioeconomico_nom": "Bajo",
          "estratos": "1) Bajo",
          "nom_entidad": "San Luis Potosí",
          "tono_de_color_de_piel": 9
         },
         {
          "abr_estado": "SLP",
          "cuenta": 17,
          "entidad": 24,
          "estrato_socioeconomico": 1,
          "estrato_socioeconomico_nom": "Bajo",
          "estratos": "1) Bajo",
          "nom_entidad": "San Luis Potosí",
          "tono_de_color_de_piel": 4
         },
         {
          "abr_estado": "SLP",
          "cuenta": 12,
          "entidad": 24,
          "estrato_socioeconomico": 1,
          "estrato_socioeconomico_nom": "Bajo",
          "estratos": "1) Bajo",
          "nom_entidad": "San Luis Potosí",
          "tono_de_color_de_piel": 10
         },
         {
          "abr_estado": "SLP",
          "cuenta": 7,
          "entidad": 24,
          "estrato_socioeconomico": 1,
          "estrato_socioeconomico_nom": "Bajo",
          "estratos": "1) Bajo",
          "nom_entidad": "San Luis Potosí",
          "tono_de_color_de_piel": 5
         },
         {
          "abr_estado": "SLP",
          "cuenta": 5,
          "entidad": 24,
          "estrato_socioeconomico": 1,
          "estrato_socioeconomico_nom": "Bajo",
          "estratos": "1) Bajo",
          "nom_entidad": "San Luis Potosí",
          "tono_de_color_de_piel": 2
         },
         {
          "abr_estado": "SLP",
          "cuenta": 5,
          "entidad": 24,
          "estrato_socioeconomico": 1,
          "estrato_socioeconomico_nom": "Bajo",
          "estratos": "1) Bajo",
          "nom_entidad": "San Luis Potosí",
          "tono_de_color_de_piel": 3
         },
         {
          "abr_estado": "SLP",
          "cuenta": 3,
          "entidad": 24,
          "estrato_socioeconomico": 1,
          "estrato_socioeconomico_nom": "Bajo",
          "estratos": "1) Bajo",
          "nom_entidad": "San Luis Potosí",
          "tono_de_color_de_piel": 11
         },
         {
          "abr_estado": "SLP",
          "cuenta": 1,
          "entidad": 24,
          "estrato_socioeconomico": 1,
          "estrato_socioeconomico_nom": "Bajo",
          "estratos": "1) Bajo",
          "nom_entidad": "San Luis Potosí",
          "tono_de_color_de_piel": 1
         },
         {
          "abr_estado": "SLP",
          "cuenta": 57,
          "entidad": 24,
          "estrato_socioeconomico": 1,
          "estrato_socioeconomico_nom": "Bajo",
          "estratos": "1) Bajo",
          "nom_entidad": "San Luis Potosí",
          "tono_de_color_de_piel": 8
         },
         {
          "abr_estado": "Oax.",
          "cuenta": 12,
          "entidad": 20,
          "estrato_socioeconomico": 1,
          "estrato_socioeconomico_nom": "Bajo",
          "estratos": "1) Bajo",
          "nom_entidad": "Oaxaca",
          "tono_de_color_de_piel": 3
         },
         {
          "abr_estado": "Oax.",
          "cuenta": 17,
          "entidad": 20,
          "estrato_socioeconomico": 1,
          "estrato_socioeconomico_nom": "Bajo",
          "estratos": "1) Bajo",
          "nom_entidad": "Oaxaca",
          "tono_de_color_de_piel": 9
         },
         {
          "abr_estado": "Oax.",
          "cuenta": 18,
          "entidad": 20,
          "estrato_socioeconomico": 1,
          "estrato_socioeconomico_nom": "Bajo",
          "estratos": "1) Bajo",
          "nom_entidad": "Oaxaca",
          "tono_de_color_de_piel": 10
         },
         {
          "abr_estado": "Mich.",
          "cuenta": 3,
          "entidad": 16,
          "estrato_socioeconomico": 1,
          "estrato_socioeconomico_nom": "Bajo",
          "estratos": "1) Bajo",
          "nom_entidad": "Michoacán de Ocampo",
          "tono_de_color_de_piel": 9
         },
         {
          "abr_estado": "Mich.",
          "cuenta": 1,
          "entidad": 16,
          "estrato_socioeconomico": 1,
          "estrato_socioeconomico_nom": "Bajo",
          "estratos": "1) Bajo",
          "nom_entidad": "Michoacán de Ocampo",
          "tono_de_color_de_piel": 11
         },
         {
          "abr_estado": "Mor.",
          "cuenta": 35,
          "entidad": 17,
          "estrato_socioeconomico": 1,
          "estrato_socioeconomico_nom": "Bajo",
          "estratos": "1) Bajo",
          "nom_entidad": "Morelos",
          "tono_de_color_de_piel": 7
         },
         {
          "abr_estado": "Hgo.",
          "cuenta": 2,
          "entidad": 13,
          "estrato_socioeconomico": 1,
          "estrato_socioeconomico_nom": "Bajo",
          "estratos": "1) Bajo",
          "nom_entidad": "Hidalgo",
          "tono_de_color_de_piel": 1
         },
         {
          "abr_estado": "Hgo.",
          "cuenta": 3,
          "entidad": 13,
          "estrato_socioeconomico": 1,
          "estrato_socioeconomico_nom": "Bajo",
          "estratos": "1) Bajo",
          "nom_entidad": "Hidalgo",
          "tono_de_color_de_piel": 11
         },
         {
          "abr_estado": "Hgo.",
          "cuenta": 3,
          "entidad": 13,
          "estrato_socioeconomico": 1,
          "estrato_socioeconomico_nom": "Bajo",
          "estratos": "1) Bajo",
          "nom_entidad": "Hidalgo",
          "tono_de_color_de_piel": 3
         },
         {
          "abr_estado": "Hgo.",
          "cuenta": 9,
          "entidad": 13,
          "estrato_socioeconomico": 1,
          "estrato_socioeconomico_nom": "Bajo",
          "estratos": "1) Bajo",
          "nom_entidad": "Hidalgo",
          "tono_de_color_de_piel": 5
         },
         {
          "abr_estado": "Hgo.",
          "cuenta": 10,
          "entidad": 13,
          "estrato_socioeconomico": 1,
          "estrato_socioeconomico_nom": "Bajo",
          "estratos": "1) Bajo",
          "nom_entidad": "Hidalgo",
          "tono_de_color_de_piel": 10
         },
         {
          "abr_estado": "Mich.",
          "cuenta": 4,
          "entidad": 16,
          "estrato_socioeconomico": 1,
          "estrato_socioeconomico_nom": "Bajo",
          "estratos": "1) Bajo",
          "nom_entidad": "Michoacán de Ocampo",
          "tono_de_color_de_piel": 3
         },
         {
          "abr_estado": "Hgo.",
          "cuenta": 10,
          "entidad": 13,
          "estrato_socioeconomico": 1,
          "estrato_socioeconomico_nom": "Bajo",
          "estratos": "1) Bajo",
          "nom_entidad": "Hidalgo",
          "tono_de_color_de_piel": 9
         },
         {
          "abr_estado": "Hgo.",
          "cuenta": 32,
          "entidad": 13,
          "estrato_socioeconomico": 1,
          "estrato_socioeconomico_nom": "Bajo",
          "estratos": "1) Bajo",
          "nom_entidad": "Hidalgo",
          "tono_de_color_de_piel": 6
         },
         {
          "abr_estado": "Hgo.",
          "cuenta": 64,
          "entidad": 13,
          "estrato_socioeconomico": 1,
          "estrato_socioeconomico_nom": "Bajo",
          "estratos": "1) Bajo",
          "nom_entidad": "Hidalgo",
          "tono_de_color_de_piel": 8
         },
         {
          "abr_estado": "Hgo.",
          "cuenta": 65,
          "entidad": 13,
          "estrato_socioeconomico": 1,
          "estrato_socioeconomico_nom": "Bajo",
          "estratos": "1) Bajo",
          "nom_entidad": "Hidalgo",
          "tono_de_color_de_piel": 7
         },
         {
          "abr_estado": "Mor.",
          "cuenta": 23,
          "entidad": 17,
          "estrato_socioeconomico": 1,
          "estrato_socioeconomico_nom": "Bajo",
          "estratos": "1) Bajo",
          "nom_entidad": "Morelos",
          "tono_de_color_de_piel": 6
         },
         {
          "abr_estado": "Mor.",
          "cuenta": 22,
          "entidad": 17,
          "estrato_socioeconomico": 1,
          "estrato_socioeconomico_nom": "Bajo",
          "estratos": "1) Bajo",
          "nom_entidad": "Morelos",
          "tono_de_color_de_piel": 8
         },
         {
          "abr_estado": "Mor.",
          "cuenta": 9,
          "entidad": 17,
          "estrato_socioeconomico": 1,
          "estrato_socioeconomico_nom": "Bajo",
          "estratos": "1) Bajo",
          "nom_entidad": "Morelos",
          "tono_de_color_de_piel": 5
         },
         {
          "abr_estado": "Mor.",
          "cuenta": 8,
          "entidad": 17,
          "estrato_socioeconomico": 1,
          "estrato_socioeconomico_nom": "Bajo",
          "estratos": "1) Bajo",
          "nom_entidad": "Morelos",
          "tono_de_color_de_piel": 4
         },
         {
          "abr_estado": "Mor.",
          "cuenta": 3,
          "entidad": 17,
          "estrato_socioeconomico": 1,
          "estrato_socioeconomico_nom": "Bajo",
          "estratos": "1) Bajo",
          "nom_entidad": "Morelos",
          "tono_de_color_de_piel": 3
         },
         {
          "abr_estado": "Hgo.",
          "cuenta": 13,
          "entidad": 13,
          "estrato_socioeconomico": 1,
          "estrato_socioeconomico_nom": "Bajo",
          "estratos": "1) Bajo",
          "nom_entidad": "Hidalgo",
          "tono_de_color_de_piel": 4
         },
         {
          "abr_estado": "Mor.",
          "cuenta": 2,
          "entidad": 17,
          "estrato_socioeconomico": 1,
          "estrato_socioeconomico_nom": "Bajo",
          "estratos": "1) Bajo",
          "nom_entidad": "Morelos",
          "tono_de_color_de_piel": 10
         },
         {
          "abr_estado": "Mich.",
          "cuenta": 4,
          "entidad": 16,
          "estrato_socioeconomico": 1,
          "estrato_socioeconomico_nom": "Bajo",
          "estratos": "1) Bajo",
          "nom_entidad": "Michoacán de Ocampo",
          "tono_de_color_de_piel": 2
         },
         {
          "abr_estado": "Mich.",
          "cuenta": 6,
          "entidad": 16,
          "estrato_socioeconomico": 1,
          "estrato_socioeconomico_nom": "Bajo",
          "estratos": "1) Bajo",
          "nom_entidad": "Michoacán de Ocampo",
          "tono_de_color_de_piel": 10
         },
         {
          "abr_estado": "Mex.",
          "cuenta": 5,
          "entidad": 15,
          "estrato_socioeconomico": 1,
          "estrato_socioeconomico_nom": "Bajo",
          "estratos": "1) Bajo",
          "nom_entidad": "México",
          "tono_de_color_de_piel": 6
         },
         {
          "abr_estado": "Mex.",
          "cuenta": 3,
          "entidad": 15,
          "estrato_socioeconomico": 1,
          "estrato_socioeconomico_nom": "Bajo",
          "estratos": "1) Bajo",
          "nom_entidad": "México",
          "tono_de_color_de_piel": 4
         },
         {
          "abr_estado": "Mex.",
          "cuenta": 3,
          "entidad": 15,
          "estrato_socioeconomico": 1,
          "estrato_socioeconomico_nom": "Bajo",
          "estratos": "1) Bajo",
          "nom_entidad": "México",
          "tono_de_color_de_piel": 9
         },
         {
          "abr_estado": "Mex.",
          "cuenta": 3,
          "entidad": 15,
          "estrato_socioeconomico": 1,
          "estrato_socioeconomico_nom": "Bajo",
          "estratos": "1) Bajo",
          "nom_entidad": "México",
          "tono_de_color_de_piel": 11
         },
         {
          "abr_estado": "Mex.",
          "cuenta": 2,
          "entidad": 15,
          "estrato_socioeconomico": 1,
          "estrato_socioeconomico_nom": "Bajo",
          "estratos": "1) Bajo",
          "nom_entidad": "México",
          "tono_de_color_de_piel": 3
         },
         {
          "abr_estado": "Mex.",
          "cuenta": 2,
          "entidad": 15,
          "estrato_socioeconomico": 1,
          "estrato_socioeconomico_nom": "Bajo",
          "estratos": "1) Bajo",
          "nom_entidad": "México",
          "tono_de_color_de_piel": 5
         },
         {
          "abr_estado": "Mex.",
          "cuenta": 2,
          "entidad": 15,
          "estrato_socioeconomico": 1,
          "estrato_socioeconomico_nom": "Bajo",
          "estratos": "1) Bajo",
          "nom_entidad": "México",
          "tono_de_color_de_piel": 10
         },
         {
          "abr_estado": "Jal.",
          "cuenta": 1,
          "entidad": 14,
          "estrato_socioeconomico": 1,
          "estrato_socioeconomico_nom": "Bajo",
          "estratos": "1) Bajo",
          "nom_entidad": "Jalisco",
          "tono_de_color_de_piel": 6
         },
         {
          "abr_estado": "Mich.",
          "cuenta": 5,
          "entidad": 16,
          "estrato_socioeconomico": 1,
          "estrato_socioeconomico_nom": "Bajo",
          "estratos": "1) Bajo",
          "nom_entidad": "Michoacán de Ocampo",
          "tono_de_color_de_piel": 4
         },
         {
          "abr_estado": "Jal.",
          "cuenta": 1,
          "entidad": 14,
          "estrato_socioeconomico": 1,
          "estrato_socioeconomico_nom": "Bajo",
          "estratos": "1) Bajo",
          "nom_entidad": "Jalisco",
          "tono_de_color_de_piel": 5
         },
         {
          "abr_estado": "Jal.",
          "cuenta": 1,
          "entidad": 14,
          "estrato_socioeconomico": 1,
          "estrato_socioeconomico_nom": "Bajo",
          "estratos": "1) Bajo",
          "nom_entidad": "Jalisco",
          "tono_de_color_de_piel": 3
         },
         {
          "abr_estado": "Jal.",
          "cuenta": 3,
          "entidad": 14,
          "estrato_socioeconomico": 1,
          "estrato_socioeconomico_nom": "Bajo",
          "estratos": "1) Bajo",
          "nom_entidad": "Jalisco",
          "tono_de_color_de_piel": 10
         },
         {
          "abr_estado": "Jal.",
          "cuenta": 8,
          "entidad": 14,
          "estrato_socioeconomico": 1,
          "estrato_socioeconomico_nom": "Bajo",
          "estratos": "1) Bajo",
          "nom_entidad": "Jalisco",
          "tono_de_color_de_piel": 7
         },
         {
          "abr_estado": "Jal.",
          "cuenta": 12,
          "entidad": 14,
          "estrato_socioeconomico": 1,
          "estrato_socioeconomico_nom": "Bajo",
          "estratos": "1) Bajo",
          "nom_entidad": "Jalisco",
          "tono_de_color_de_piel": 8
         },
         {
          "abr_estado": "Mich.",
          "cuenta": 64,
          "entidad": 16,
          "estrato_socioeconomico": 1,
          "estrato_socioeconomico_nom": "Bajo",
          "estratos": "1) Bajo",
          "nom_entidad": "Michoacán de Ocampo",
          "tono_de_color_de_piel": 8
         },
         {
          "abr_estado": "Mich.",
          "cuenta": 37,
          "entidad": 16,
          "estrato_socioeconomico": 1,
          "estrato_socioeconomico_nom": "Bajo",
          "estratos": "1) Bajo",
          "nom_entidad": "Michoacán de Ocampo",
          "tono_de_color_de_piel": 7
         },
         {
          "abr_estado": "Mich.",
          "cuenta": 13,
          "entidad": 16,
          "estrato_socioeconomico": 1,
          "estrato_socioeconomico_nom": "Bajo",
          "estratos": "1) Bajo",
          "nom_entidad": "Michoacán de Ocampo",
          "tono_de_color_de_piel": 6
         },
         {
          "abr_estado": "Mich.",
          "cuenta": 7,
          "entidad": 16,
          "estrato_socioeconomico": 1,
          "estrato_socioeconomico_nom": "Bajo",
          "estratos": "1) Bajo",
          "nom_entidad": "Michoacán de Ocampo",
          "tono_de_color_de_piel": 5
         },
         {
          "abr_estado": "Jal.",
          "cuenta": 1,
          "entidad": 14,
          "estrato_socioeconomico": 1,
          "estrato_socioeconomico_nom": "Bajo",
          "estratos": "1) Bajo",
          "nom_entidad": "Jalisco",
          "tono_de_color_de_piel": 4
         },
         {
          "abr_estado": "Son.",
          "cuenta": 24,
          "entidad": 26,
          "estrato_socioeconomico": 1,
          "estrato_socioeconomico_nom": "Bajo",
          "estratos": "1) Bajo",
          "nom_entidad": "Sonora",
          "tono_de_color_de_piel": 8
         },
         {
          "abr_estado": "Nay.",
          "cuenta": 35,
          "entidad": 18,
          "estrato_socioeconomico": 1,
          "estrato_socioeconomico_nom": "Bajo",
          "estratos": "1) Bajo",
          "nom_entidad": "Nayarit",
          "tono_de_color_de_piel": 7
         },
         {
          "abr_estado": "Nay.",
          "cuenta": 13,
          "entidad": 18,
          "estrato_socioeconomico": 1,
          "estrato_socioeconomico_nom": "Bajo",
          "estratos": "1) Bajo",
          "nom_entidad": "Nayarit",
          "tono_de_color_de_piel": 8
         },
         {
          "abr_estado": "NL",
          "cuenta": 2,
          "entidad": 19,
          "estrato_socioeconomico": 1,
          "estrato_socioeconomico_nom": "Bajo",
          "estratos": "1) Bajo",
          "nom_entidad": "Nuevo León",
          "tono_de_color_de_piel": 11
         },
         {
          "abr_estado": "NL",
          "cuenta": 1,
          "entidad": 19,
          "estrato_socioeconomico": 1,
          "estrato_socioeconomico_nom": "Bajo",
          "estratos": "1) Bajo",
          "nom_entidad": "Nuevo León",
          "tono_de_color_de_piel": 2
         },
         {
          "abr_estado": "NL",
          "cuenta": 1,
          "entidad": 19,
          "estrato_socioeconomico": 1,
          "estrato_socioeconomico_nom": "Bajo",
          "estratos": "1) Bajo",
          "nom_entidad": "Nuevo León",
          "tono_de_color_de_piel": 9
         },
         {
          "abr_estado": "Gto.",
          "cuenta": 1,
          "entidad": 11,
          "estrato_socioeconomico": 1,
          "estrato_socioeconomico_nom": "Bajo",
          "estratos": "1) Bajo",
          "nom_entidad": "Guanajuato",
          "tono_de_color_de_piel": 3
         },
         {
          "abr_estado": "Gto.",
          "cuenta": 1,
          "entidad": 11,
          "estrato_socioeconomico": 1,
          "estrato_socioeconomico_nom": "Bajo",
          "estratos": "1) Bajo",
          "nom_entidad": "Guanajuato",
          "tono_de_color_de_piel": 2
         },
         {
          "abr_estado": "Gto.",
          "cuenta": 2,
          "entidad": 11,
          "estrato_socioeconomico": 1,
          "estrato_socioeconomico_nom": "Bajo",
          "estratos": "1) Bajo",
          "nom_entidad": "Guanajuato",
          "tono_de_color_de_piel": 11
         },
         {
          "abr_estado": "Gto.",
          "cuenta": 4,
          "entidad": 11,
          "estrato_socioeconomico": 1,
          "estrato_socioeconomico_nom": "Bajo",
          "estratos": "1) Bajo",
          "nom_entidad": "Guanajuato",
          "tono_de_color_de_piel": 4
         },
         {
          "abr_estado": "Gto.",
          "cuenta": 7,
          "entidad": 11,
          "estrato_socioeconomico": 1,
          "estrato_socioeconomico_nom": "Bajo",
          "estratos": "1) Bajo",
          "nom_entidad": "Guanajuato",
          "tono_de_color_de_piel": 9
         },
         {
          "abr_estado": "NL",
          "cuenta": 3,
          "entidad": 19,
          "estrato_socioeconomico": 1,
          "estrato_socioeconomico_nom": "Bajo",
          "estratos": "1) Bajo",
          "nom_entidad": "Nuevo León",
          "tono_de_color_de_piel": 6
         },
         {
          "abr_estado": "Gto.",
          "cuenta": 8,
          "entidad": 11,
          "estrato_socioeconomico": 1,
          "estrato_socioeconomico_nom": "Bajo",
          "estratos": "1) Bajo",
          "nom_entidad": "Guanajuato",
          "tono_de_color_de_piel": 10
         },
         {
          "abr_estado": "Gto.",
          "cuenta": 25,
          "entidad": 11,
          "estrato_socioeconomico": 1,
          "estrato_socioeconomico_nom": "Bajo",
          "estratos": "1) Bajo",
          "nom_entidad": "Guanajuato",
          "tono_de_color_de_piel": 6
         },
         {
          "abr_estado": "Gto.",
          "cuenta": 32,
          "entidad": 11,
          "estrato_socioeconomico": 1,
          "estrato_socioeconomico_nom": "Bajo",
          "estratos": "1) Bajo",
          "nom_entidad": "Guanajuato",
          "tono_de_color_de_piel": 8
         },
         {
          "abr_estado": "Gto.",
          "cuenta": 36,
          "entidad": 11,
          "estrato_socioeconomico": 1,
          "estrato_socioeconomico_nom": "Bajo",
          "estratos": "1) Bajo",
          "nom_entidad": "Guanajuato",
          "tono_de_color_de_piel": 7
         },
         {
          "abr_estado": "Oax.",
          "cuenta": 135,
          "entidad": 20,
          "estrato_socioeconomico": 1,
          "estrato_socioeconomico_nom": "Bajo",
          "estratos": "1) Bajo",
          "nom_entidad": "Oaxaca",
          "tono_de_color_de_piel": 7
         },
         {
          "abr_estado": "Oax.",
          "cuenta": 94,
          "entidad": 20,
          "estrato_socioeconomico": 1,
          "estrato_socioeconomico_nom": "Bajo",
          "estratos": "1) Bajo",
          "nom_entidad": "Oaxaca",
          "tono_de_color_de_piel": 6
         },
         {
          "abr_estado": "Oax.",
          "cuenta": 77,
          "entidad": 20,
          "estrato_socioeconomico": 1,
          "estrato_socioeconomico_nom": "Bajo",
          "estratos": "1) Bajo",
          "nom_entidad": "Oaxaca",
          "tono_de_color_de_piel": 8
         },
         {
          "abr_estado": "Oax.",
          "cuenta": 34,
          "entidad": 20,
          "estrato_socioeconomico": 1,
          "estrato_socioeconomico_nom": "Bajo",
          "estratos": "1) Bajo",
          "nom_entidad": "Oaxaca",
          "tono_de_color_de_piel": 4
         },
         {
          "abr_estado": "Oax.",
          "cuenta": 18,
          "entidad": 20,
          "estrato_socioeconomico": 1,
          "estrato_socioeconomico_nom": "Bajo",
          "estratos": "1) Bajo",
          "nom_entidad": "Oaxaca",
          "tono_de_color_de_piel": 5
         },
         {
          "abr_estado": "Gto.",
          "cuenta": 11,
          "entidad": 11,
          "estrato_socioeconomico": 1,
          "estrato_socioeconomico_nom": "Bajo",
          "estratos": "1) Bajo",
          "nom_entidad": "Guanajuato",
          "tono_de_color_de_piel": 5
         },
         {
          "abr_estado": "Nay.",
          "cuenta": 20,
          "entidad": 18,
          "estrato_socioeconomico": 1,
          "estrato_socioeconomico_nom": "Bajo",
          "estratos": "1) Bajo",
          "nom_entidad": "Nayarit",
          "tono_de_color_de_piel": 6
         },
         {
          "abr_estado": "NL",
          "cuenta": 6,
          "entidad": 19,
          "estrato_socioeconomico": 1,
          "estrato_socioeconomico_nom": "Bajo",
          "estratos": "1) Bajo",
          "nom_entidad": "Nuevo León",
          "tono_de_color_de_piel": 7
         },
         {
          "abr_estado": "Nay.",
          "cuenta": 1,
          "entidad": 18,
          "estrato_socioeconomico": 1,
          "estrato_socioeconomico_nom": "Bajo",
          "estratos": "1) Bajo",
          "nom_entidad": "Nayarit",
          "tono_de_color_de_piel": 4
         },
         {
          "abr_estado": "Gro.",
          "cuenta": 4,
          "entidad": 12,
          "estrato_socioeconomico": 1,
          "estrato_socioeconomico_nom": "Bajo",
          "estratos": "1) Bajo",
          "nom_entidad": "Guerrero",
          "tono_de_color_de_piel": 1
         },
         {
          "abr_estado": "Gro.",
          "cuenta": 9,
          "entidad": 12,
          "estrato_socioeconomico": 1,
          "estrato_socioeconomico_nom": "Bajo",
          "estratos": "1) Bajo",
          "nom_entidad": "Guerrero",
          "tono_de_color_de_piel": 11
         },
         {
          "abr_estado": "Gro.",
          "cuenta": 9,
          "entidad": 12,
          "estrato_socioeconomico": 1,
          "estrato_socioeconomico_nom": "Bajo",
          "estratos": "1) Bajo",
          "nom_entidad": "Guerrero",
          "tono_de_color_de_piel": 9
         },
         {
          "abr_estado": "Gro.",
          "cuenta": 9,
          "entidad": 12,
          "estrato_socioeconomico": 1,
          "estrato_socioeconomico_nom": "Bajo",
          "estratos": "1) Bajo",
          "nom_entidad": "Guerrero",
          "tono_de_color_de_piel": 2
         },
         {
          "abr_estado": "Gro.",
          "cuenta": 11,
          "entidad": 12,
          "estrato_socioeconomico": 1,
          "estrato_socioeconomico_nom": "Bajo",
          "estratos": "1) Bajo",
          "nom_entidad": "Guerrero",
          "tono_de_color_de_piel": 3
         },
         {
          "abr_estado": "Gro.",
          "cuenta": 13,
          "entidad": 12,
          "estrato_socioeconomico": 1,
          "estrato_socioeconomico_nom": "Bajo",
          "estratos": "1) Bajo",
          "nom_entidad": "Guerrero",
          "tono_de_color_de_piel": 10
         },
         {
          "abr_estado": "Gro.",
          "cuenta": 22,
          "entidad": 12,
          "estrato_socioeconomico": 1,
          "estrato_socioeconomico_nom": "Bajo",
          "estratos": "1) Bajo",
          "nom_entidad": "Guerrero",
          "tono_de_color_de_piel": 5
         },
         {
          "abr_estado": "Gro.",
          "cuenta": 36,
          "entidad": 12,
          "estrato_socioeconomico": 1,
          "estrato_socioeconomico_nom": "Bajo",
          "estratos": "1) Bajo",
          "nom_entidad": "Guerrero",
          "tono_de_color_de_piel": 4
         },
         {
          "abr_estado": "NL",
          "cuenta": 8,
          "entidad": 19,
          "estrato_socioeconomico": 1,
          "estrato_socioeconomico_nom": "Bajo",
          "estratos": "1) Bajo",
          "nom_entidad": "Nuevo León",
          "tono_de_color_de_piel": 8
         },
         {
          "abr_estado": "Gro.",
          "cuenta": 81,
          "entidad": 12,
          "estrato_socioeconomico": 1,
          "estrato_socioeconomico_nom": "Bajo",
          "estratos": "1) Bajo",
          "nom_entidad": "Guerrero",
          "tono_de_color_de_piel": 6
         },
         {
          "abr_estado": "Gro.",
          "cuenta": 147,
          "entidad": 12,
          "estrato_socioeconomico": 1,
          "estrato_socioeconomico_nom": "Bajo",
          "estratos": "1) Bajo",
          "nom_entidad": "Guerrero",
          "tono_de_color_de_piel": 7
         },
         {
          "abr_estado": "Nay.",
          "cuenta": 5,
          "entidad": 18,
          "estrato_socioeconomico": 1,
          "estrato_socioeconomico_nom": "Bajo",
          "estratos": "1) Bajo",
          "nom_entidad": "Nayarit",
          "tono_de_color_de_piel": 5
         },
         {
          "abr_estado": "Nay.",
          "cuenta": 4,
          "entidad": 18,
          "estrato_socioeconomico": 1,
          "estrato_socioeconomico_nom": "Bajo",
          "estratos": "1) Bajo",
          "nom_entidad": "Nayarit",
          "tono_de_color_de_piel": 11
         },
         {
          "abr_estado": "Nay.",
          "cuenta": 2,
          "entidad": 18,
          "estrato_socioeconomico": 1,
          "estrato_socioeconomico_nom": "Bajo",
          "estratos": "1) Bajo",
          "nom_entidad": "Nayarit",
          "tono_de_color_de_piel": 1
         },
         {
          "abr_estado": "Nay.",
          "cuenta": 2,
          "entidad": 18,
          "estrato_socioeconomico": 1,
          "estrato_socioeconomico_nom": "Bajo",
          "estratos": "1) Bajo",
          "nom_entidad": "Nayarit",
          "tono_de_color_de_piel": 9
         },
         {
          "abr_estado": "Nay.",
          "cuenta": 2,
          "entidad": 18,
          "estrato_socioeconomico": 1,
          "estrato_socioeconomico_nom": "Bajo",
          "estratos": "1) Bajo",
          "nom_entidad": "Nayarit",
          "tono_de_color_de_piel": 10
         },
         {
          "abr_estado": "Nay.",
          "cuenta": 1,
          "entidad": 18,
          "estrato_socioeconomico": 1,
          "estrato_socioeconomico_nom": "Bajo",
          "estratos": "1) Bajo",
          "nom_entidad": "Nayarit",
          "tono_de_color_de_piel": 2
         },
         {
          "abr_estado": "Nay.",
          "cuenta": 1,
          "entidad": 18,
          "estrato_socioeconomico": 1,
          "estrato_socioeconomico_nom": "Bajo",
          "estratos": "1) Bajo",
          "nom_entidad": "Nayarit",
          "tono_de_color_de_piel": 3
         },
         {
          "abr_estado": "Gro.",
          "cuenta": 99,
          "entidad": 12,
          "estrato_socioeconomico": 1,
          "estrato_socioeconomico_nom": "Bajo",
          "estratos": "1) Bajo",
          "nom_entidad": "Guerrero",
          "tono_de_color_de_piel": 8
         },
         {
          "abr_estado": "Son.",
          "cuenta": 14,
          "entidad": 26,
          "estrato_socioeconomico": 1,
          "estrato_socioeconomico_nom": "Bajo",
          "estratos": "1) Bajo",
          "nom_entidad": "Sonora",
          "tono_de_color_de_piel": 6
         },
         {
          "abr_estado": "Mex.",
          "cuenta": 24,
          "entidad": 15,
          "estrato_socioeconomico": 1,
          "estrato_socioeconomico_nom": "Bajo",
          "estratos": "1) Bajo",
          "nom_entidad": "México",
          "tono_de_color_de_piel": 7
         },
         {
          "abr_estado": "Col.",
          "cuenta": 1,
          "entidad": 6,
          "estrato_socioeconomico": 1,
          "estrato_socioeconomico_nom": "Bajo",
          "estratos": "1) Bajo",
          "nom_entidad": "Colima",
          "tono_de_color_de_piel": 11
         },
         {
          "abr_estado": "Ver.",
          "cuenta": 4,
          "entidad": 30,
          "estrato_socioeconomico": 1,
          "estrato_socioeconomico_nom": "Bajo",
          "estratos": "1) Bajo",
          "nom_entidad": "Veracruz de Ignacio de la Llave",
          "tono_de_color_de_piel": 2
         },
         {
          "abr_estado": "Ver.",
          "cuenta": 5,
          "entidad": 30,
          "estrato_socioeconomico": 1,
          "estrato_socioeconomico_nom": "Bajo",
          "estratos": "1) Bajo",
          "nom_entidad": "Veracruz de Ignacio de la Llave",
          "tono_de_color_de_piel": 10
         },
         {
          "abr_estado": "Ver.",
          "cuenta": 5,
          "entidad": 30,
          "estrato_socioeconomico": 1,
          "estrato_socioeconomico_nom": "Bajo",
          "estratos": "1) Bajo",
          "nom_entidad": "Veracruz de Ignacio de la Llave",
          "tono_de_color_de_piel": 5
         },
         {
          "abr_estado": "Ver.",
          "cuenta": 6,
          "entidad": 30,
          "estrato_socioeconomico": 1,
          "estrato_socioeconomico_nom": "Bajo",
          "estratos": "1) Bajo",
          "nom_entidad": "Veracruz de Ignacio de la Llave",
          "tono_de_color_de_piel": 11
         },
         {
          "abr_estado": "Ver.",
          "cuenta": 9,
          "entidad": 30,
          "estrato_socioeconomico": 1,
          "estrato_socioeconomico_nom": "Bajo",
          "estratos": "1) Bajo",
          "nom_entidad": "Veracruz de Ignacio de la Llave",
          "tono_de_color_de_piel": 3
         },
         {
          "abr_estado": "Ver.",
          "cuenta": 10,
          "entidad": 30,
          "estrato_socioeconomico": 1,
          "estrato_socioeconomico_nom": "Bajo",
          "estratos": "1) Bajo",
          "nom_entidad": "Veracruz de Ignacio de la Llave",
          "tono_de_color_de_piel": 9
         },
         {
          "abr_estado": "Ver.",
          "cuenta": 15,
          "entidad": 30,
          "estrato_socioeconomico": 1,
          "estrato_socioeconomico_nom": "Bajo",
          "estratos": "1) Bajo",
          "nom_entidad": "Veracruz de Ignacio de la Llave",
          "tono_de_color_de_piel": 4
         },
         {
          "abr_estado": "Ver.",
          "cuenta": 66,
          "entidad": 30,
          "estrato_socioeconomico": 1,
          "estrato_socioeconomico_nom": "Bajo",
          "estratos": "1) Bajo",
          "nom_entidad": "Veracruz de Ignacio de la Llave",
          "tono_de_color_de_piel": 8
         },
         {
          "abr_estado": "Ver.",
          "cuenta": 72,
          "entidad": 30,
          "estrato_socioeconomico": 1,
          "estrato_socioeconomico_nom": "Bajo",
          "estratos": "1) Bajo",
          "nom_entidad": "Veracruz de Ignacio de la Llave",
          "tono_de_color_de_piel": 7
         },
         {
          "abr_estado": "Ver.",
          "cuenta": 75,
          "entidad": 30,
          "estrato_socioeconomico": 1,
          "estrato_socioeconomico_nom": "Bajo",
          "estratos": "1) Bajo",
          "nom_entidad": "Veracruz de Ignacio de la Llave",
          "tono_de_color_de_piel": 6
         },
         {
          "abr_estado": "Tlax.",
          "cuenta": 1,
          "entidad": 29,
          "estrato_socioeconomico": 1,
          "estrato_socioeconomico_nom": "Bajo",
          "estratos": "1) Bajo",
          "nom_entidad": "Tlaxcala",
          "tono_de_color_de_piel": 4
         },
         {
          "abr_estado": "Tlax.",
          "cuenta": 4,
          "entidad": 29,
          "estrato_socioeconomico": 1,
          "estrato_socioeconomico_nom": "Bajo",
          "estratos": "1) Bajo",
          "nom_entidad": "Tlaxcala",
          "tono_de_color_de_piel": 7
         },
         {
          "abr_estado": "Son.",
          "cuenta": 6,
          "entidad": 26,
          "estrato_socioeconomico": 1,
          "estrato_socioeconomico_nom": "Bajo",
          "estratos": "1) Bajo",
          "nom_entidad": "Sonora",
          "tono_de_color_de_piel": 9
         },
         {
          "abr_estado": "Tlax.",
          "cuenta": 6,
          "entidad": 29,
          "estrato_socioeconomico": 1,
          "estrato_socioeconomico_nom": "Bajo",
          "estratos": "1) Bajo",
          "nom_entidad": "Tlaxcala",
          "tono_de_color_de_piel": 6
         },
         {
          "abr_estado": "Camp.",
          "cuenta": 89,
          "entidad": 4,
          "estrato_socioeconomico": 1,
          "estrato_socioeconomico_nom": "Bajo",
          "estratos": "1) Bajo",
          "nom_entidad": "Campeche",
          "tono_de_color_de_piel": 7
         },
         {
          "abr_estado": "Camp.",
          "cuenta": 66,
          "entidad": 4,
          "estrato_socioeconomico": 1,
          "estrato_socioeconomico_nom": "Bajo",
          "estratos": "1) Bajo",
          "nom_entidad": "Campeche",
          "tono_de_color_de_piel": 6
         },
         {
          "abr_estado": "Camp.",
          "cuenta": 66,
          "entidad": 4,
          "estrato_socioeconomico": 1,
          "estrato_socioeconomico_nom": "Bajo",
          "estratos": "1) Bajo",
          "nom_entidad": "Campeche",
          "tono_de_color_de_piel": 8
         },
         {
          "abr_estado": "Tamps.",
          "cuenta": 11,
          "entidad": 28,
          "estrato_socioeconomico": 1,
          "estrato_socioeconomico_nom": "Bajo",
          "estratos": "1) Bajo",
          "nom_entidad": "Tamaulipas",
          "tono_de_color_de_piel": 6
         },
         {
          "abr_estado": "Tamps.",
          "cuenta": 7,
          "entidad": 28,
          "estrato_socioeconomico": 1,
          "estrato_socioeconomico_nom": "Bajo",
          "estratos": "1) Bajo",
          "nom_entidad": "Tamaulipas",
          "tono_de_color_de_piel": 10
         },
         {
          "abr_estado": "Tamps.",
          "cuenta": 6,
          "entidad": 28,
          "estrato_socioeconomico": 1,
          "estrato_socioeconomico_nom": "Bajo",
          "estratos": "1) Bajo",
          "nom_entidad": "Tamaulipas",
          "tono_de_color_de_piel": 9
         },
         {
          "abr_estado": "Tamps.",
          "cuenta": 5,
          "entidad": 28,
          "estrato_socioeconomico": 1,
          "estrato_socioeconomico_nom": "Bajo",
          "estratos": "1) Bajo",
          "nom_entidad": "Tamaulipas",
          "tono_de_color_de_piel": 5
         },
         {
          "abr_estado": "Tamps.",
          "cuenta": 3,
          "entidad": 28,
          "estrato_socioeconomico": 1,
          "estrato_socioeconomico_nom": "Bajo",
          "estratos": "1) Bajo",
          "nom_entidad": "Tamaulipas",
          "tono_de_color_de_piel": 3
         },
         {
          "abr_estado": "Tamps.",
          "cuenta": 3,
          "entidad": 28,
          "estrato_socioeconomico": 1,
          "estrato_socioeconomico_nom": "Bajo",
          "estratos": "1) Bajo",
          "nom_entidad": "Tamaulipas",
          "tono_de_color_de_piel": 4
         },
         {
          "abr_estado": "BCS",
          "cuenta": 1,
          "entidad": 3,
          "estrato_socioeconomico": 1,
          "estrato_socioeconomico_nom": "Bajo",
          "estratos": "1) Bajo",
          "nom_entidad": "Baja California Sur",
          "tono_de_color_de_piel": 11
         },
         {
          "abr_estado": "Tamps.",
          "cuenta": 1,
          "entidad": 28,
          "estrato_socioeconomico": 1,
          "estrato_socioeconomico_nom": "Bajo",
          "estratos": "1) Bajo",
          "nom_entidad": "Tamaulipas",
          "tono_de_color_de_piel": 1
         },
         {
          "abr_estado": "Camp.",
          "cuenta": 8,
          "entidad": 4,
          "estrato_socioeconomico": 1,
          "estrato_socioeconomico_nom": "Bajo",
          "estratos": "1) Bajo",
          "nom_entidad": "Campeche",
          "tono_de_color_de_piel": 11
         },
         {
          "abr_estado": "Camp.",
          "cuenta": 10,
          "entidad": 4,
          "estrato_socioeconomico": 1,
          "estrato_socioeconomico_nom": "Bajo",
          "estratos": "1) Bajo",
          "nom_entidad": "Campeche",
          "tono_de_color_de_piel": 3
         },
         {
          "abr_estado": "Camp.",
          "cuenta": 12,
          "entidad": 4,
          "estrato_socioeconomico": 1,
          "estrato_socioeconomico_nom": "Bajo",
          "estratos": "1) Bajo",
          "nom_entidad": "Campeche",
          "tono_de_color_de_piel": 5
         },
         {
          "abr_estado": "Camp.",
          "cuenta": 18,
          "entidad": 4,
          "estrato_socioeconomico": 1,
          "estrato_socioeconomico_nom": "Bajo",
          "estratos": "1) Bajo",
          "nom_entidad": "Campeche",
          "tono_de_color_de_piel": 9
         },
         {
          "abr_estado": "Camp.",
          "cuenta": 19,
          "entidad": 4,
          "estrato_socioeconomico": 1,
          "estrato_socioeconomico_nom": "Bajo",
          "estratos": "1) Bajo",
          "nom_entidad": "Campeche",
          "tono_de_color_de_piel": 10
         },
         {
          "abr_estado": "Camp.",
          "cuenta": 19,
          "entidad": 4,
          "estrato_socioeconomico": 1,
          "estrato_socioeconomico_nom": "Bajo",
          "estratos": "1) Bajo",
          "nom_entidad": "Campeche",
          "tono_de_color_de_piel": 4
         },
         {
          "abr_estado": "Camp.",
          "cuenta": 1,
          "entidad": 4,
          "estrato_socioeconomico": 1,
          "estrato_socioeconomico_nom": "Bajo",
          "estratos": "1) Bajo",
          "nom_entidad": "Campeche",
          "tono_de_color_de_piel": 2
         },
         {
          "abr_estado": "Tamps.",
          "cuenta": 21,
          "entidad": 28,
          "estrato_socioeconomico": 1,
          "estrato_socioeconomico_nom": "Bajo",
          "estratos": "1) Bajo",
          "nom_entidad": "Tamaulipas",
          "tono_de_color_de_piel": 8
         },
         {
          "abr_estado": "BCS",
          "cuenta": 1,
          "entidad": 3,
          "estrato_socioeconomico": 1,
          "estrato_socioeconomico_nom": "Bajo",
          "estratos": "1) Bajo",
          "nom_entidad": "Baja California Sur",
          "tono_de_color_de_piel": 4
         },
         {
          "abr_estado": "BCS",
          "cuenta": 1,
          "entidad": 3,
          "estrato_socioeconomico": 1,
          "estrato_socioeconomico_nom": "Bajo",
          "estratos": "1) Bajo",
          "nom_entidad": "Baja California Sur",
          "tono_de_color_de_piel": 1
         },
         {
          "abr_estado": "Zac.",
          "cuenta": 1,
          "entidad": 32,
          "estrato_socioeconomico": 1,
          "estrato_socioeconomico_nom": "Bajo",
          "estratos": "1) Bajo",
          "nom_entidad": "Zacatecas",
          "tono_de_color_de_piel": 3
         },
         {
          "abr_estado": "Zac.",
          "cuenta": 1,
          "entidad": 32,
          "estrato_socioeconomico": 1,
          "estrato_socioeconomico_nom": "Bajo",
          "estratos": "1) Bajo",
          "nom_entidad": "Zacatecas",
          "tono_de_color_de_piel": 2
         },
         {
          "abr_estado": "Zac.",
          "cuenta": 2,
          "entidad": 32,
          "estrato_socioeconomico": 1,
          "estrato_socioeconomico_nom": "Bajo",
          "estratos": "1) Bajo",
          "nom_entidad": "Zacatecas",
          "tono_de_color_de_piel": 4
         },
         {
          "abr_estado": "Zac.",
          "cuenta": 4,
          "entidad": 32,
          "estrato_socioeconomico": 1,
          "estrato_socioeconomico_nom": "Bajo",
          "estratos": "1) Bajo",
          "nom_entidad": "Zacatecas",
          "tono_de_color_de_piel": 11
         },
         {
          "abr_estado": "Zac.",
          "cuenta": 4,
          "entidad": 32,
          "estrato_socioeconomico": 1,
          "estrato_socioeconomico_nom": "Bajo",
          "estratos": "1) Bajo",
          "nom_entidad": "Zacatecas",
          "tono_de_color_de_piel": 10
         },
         {
          "abr_estado": "Zac.",
          "cuenta": 4,
          "entidad": 32,
          "estrato_socioeconomico": 1,
          "estrato_socioeconomico_nom": "Bajo",
          "estratos": "1) Bajo",
          "nom_entidad": "Zacatecas",
          "tono_de_color_de_piel": 9
         },
         {
          "abr_estado": "Zac.",
          "cuenta": 4,
          "entidad": 32,
          "estrato_socioeconomico": 1,
          "estrato_socioeconomico_nom": "Bajo",
          "estratos": "1) Bajo",
          "nom_entidad": "Zacatecas",
          "tono_de_color_de_piel": 5
         },
         {
          "abr_estado": "Zac.",
          "cuenta": 15,
          "entidad": 32,
          "estrato_socioeconomico": 1,
          "estrato_socioeconomico_nom": "Bajo",
          "estratos": "1) Bajo",
          "nom_entidad": "Zacatecas",
          "tono_de_color_de_piel": 6
         },
         {
          "abr_estado": "Zac.",
          "cuenta": 34,
          "entidad": 32,
          "estrato_socioeconomico": 1,
          "estrato_socioeconomico_nom": "Bajo",
          "estratos": "1) Bajo",
          "nom_entidad": "Zacatecas",
          "tono_de_color_de_piel": 7
         },
         {
          "abr_estado": "Zac.",
          "cuenta": 43,
          "entidad": 32,
          "estrato_socioeconomico": 1,
          "estrato_socioeconomico_nom": "Bajo",
          "estratos": "1) Bajo",
          "nom_entidad": "Zacatecas",
          "tono_de_color_de_piel": 8
         },
         {
          "abr_estado": "BC",
          "cuenta": 5,
          "entidad": 2,
          "estrato_socioeconomico": 1,
          "estrato_socioeconomico_nom": "Bajo",
          "estratos": "1) Bajo",
          "nom_entidad": "Baja California",
          "tono_de_color_de_piel": 8
         },
         {
          "abr_estado": "BC",
          "cuenta": 5,
          "entidad": 2,
          "estrato_socioeconomico": 1,
          "estrato_socioeconomico_nom": "Bajo",
          "estratos": "1) Bajo",
          "nom_entidad": "Baja California",
          "tono_de_color_de_piel": 9
         },
         {
          "abr_estado": "BC",
          "cuenta": 3,
          "entidad": 2,
          "estrato_socioeconomico": 1,
          "estrato_socioeconomico_nom": "Bajo",
          "estratos": "1) Bajo",
          "nom_entidad": "Baja California",
          "tono_de_color_de_piel": 6
         },
         {
          "abr_estado": "BC",
          "cuenta": 1,
          "entidad": 2,
          "estrato_socioeconomico": 1,
          "estrato_socioeconomico_nom": "Bajo",
          "estratos": "1) Bajo",
          "nom_entidad": "Baja California",
          "tono_de_color_de_piel": 10
         },
         {
          "abr_estado": "BC",
          "cuenta": 1,
          "entidad": 2,
          "estrato_socioeconomico": 1,
          "estrato_socioeconomico_nom": "Bajo",
          "estratos": "1) Bajo",
          "nom_entidad": "Baja California",
          "tono_de_color_de_piel": 11
         },
         {
          "abr_estado": "Yuc.",
          "cuenta": 4,
          "entidad": 31,
          "estrato_socioeconomico": 1,
          "estrato_socioeconomico_nom": "Bajo",
          "estratos": "1) Bajo",
          "nom_entidad": "Yucatán",
          "tono_de_color_de_piel": 11
         },
         {
          "abr_estado": "Yuc.",
          "cuenta": 5,
          "entidad": 31,
          "estrato_socioeconomico": 1,
          "estrato_socioeconomico_nom": "Bajo",
          "estratos": "1) Bajo",
          "nom_entidad": "Yucatán",
          "tono_de_color_de_piel": 3
         },
         {
          "abr_estado": "BCS",
          "cuenta": 2,
          "entidad": 3,
          "estrato_socioeconomico": 1,
          "estrato_socioeconomico_nom": "Bajo",
          "estratos": "1) Bajo",
          "nom_entidad": "Baja California Sur",
          "tono_de_color_de_piel": 2
         },
         {
          "abr_estado": "BCS",
          "cuenta": 5,
          "entidad": 3,
          "estrato_socioeconomico": 1,
          "estrato_socioeconomico_nom": "Bajo",
          "estratos": "1) Bajo",
          "nom_entidad": "Baja California Sur",
          "tono_de_color_de_piel": 9
         },
         {
          "abr_estado": "BCS",
          "cuenta": 5,
          "entidad": 3,
          "estrato_socioeconomico": 1,
          "estrato_socioeconomico_nom": "Bajo",
          "estratos": "1) Bajo",
          "nom_entidad": "Baja California Sur",
          "tono_de_color_de_piel": 5
         },
         {
          "abr_estado": "BCS",
          "cuenta": 19,
          "entidad": 3,
          "estrato_socioeconomico": 1,
          "estrato_socioeconomico_nom": "Bajo",
          "estratos": "1) Bajo",
          "nom_entidad": "Baja California Sur",
          "tono_de_color_de_piel": 6
         },
         {
          "abr_estado": "BCS",
          "cuenta": 25,
          "entidad": 3,
          "estrato_socioeconomico": 1,
          "estrato_socioeconomico_nom": "Bajo",
          "estratos": "1) Bajo",
          "nom_entidad": "Baja California Sur",
          "tono_de_color_de_piel": 7
         },
         {
          "abr_estado": "BCS",
          "cuenta": 31,
          "entidad": 3,
          "estrato_socioeconomico": 1,
          "estrato_socioeconomico_nom": "Bajo",
          "estratos": "1) Bajo",
          "nom_entidad": "Baja California Sur",
          "tono_de_color_de_piel": 8
         },
         {
          "abr_estado": "BCS",
          "cuenta": 1,
          "entidad": 3,
          "estrato_socioeconomico": 1,
          "estrato_socioeconomico_nom": "Bajo",
          "estratos": "1) Bajo",
          "nom_entidad": "Baja California Sur",
          "tono_de_color_de_piel": 3
         },
         {
          "abr_estado": "Ver.",
          "cuenta": 3,
          "entidad": 30,
          "estrato_socioeconomico": 1,
          "estrato_socioeconomico_nom": "Bajo",
          "estratos": "1) Bajo",
          "nom_entidad": "Veracruz de Ignacio de la Llave",
          "tono_de_color_de_piel": 1
         },
         {
          "abr_estado": "Yuc.",
          "cuenta": 86,
          "entidad": 31,
          "estrato_socioeconomico": 1,
          "estrato_socioeconomico_nom": "Bajo",
          "estratos": "1) Bajo",
          "nom_entidad": "Yucatán",
          "tono_de_color_de_piel": 7
         },
         {
          "abr_estado": "Yuc.",
          "cuenta": 44,
          "entidad": 31,
          "estrato_socioeconomico": 1,
          "estrato_socioeconomico_nom": "Bajo",
          "estratos": "1) Bajo",
          "nom_entidad": "Yucatán",
          "tono_de_color_de_piel": 6
         },
         {
          "abr_estado": "Yuc.",
          "cuenta": 16,
          "entidad": 31,
          "estrato_socioeconomico": 1,
          "estrato_socioeconomico_nom": "Bajo",
          "estratos": "1) Bajo",
          "nom_entidad": "Yucatán",
          "tono_de_color_de_piel": 4
         },
         {
          "abr_estado": "Yuc.",
          "cuenta": 10,
          "entidad": 31,
          "estrato_socioeconomico": 1,
          "estrato_socioeconomico_nom": "Bajo",
          "estratos": "1) Bajo",
          "nom_entidad": "Yucatán",
          "tono_de_color_de_piel": 10
         },
         {
          "abr_estado": "Yuc.",
          "cuenta": 8,
          "entidad": 31,
          "estrato_socioeconomico": 1,
          "estrato_socioeconomico_nom": "Bajo",
          "estratos": "1) Bajo",
          "nom_entidad": "Yucatán",
          "tono_de_color_de_piel": 5
         },
         {
          "abr_estado": "Yuc.",
          "cuenta": 7,
          "entidad": 31,
          "estrato_socioeconomico": 1,
          "estrato_socioeconomico_nom": "Bajo",
          "estratos": "1) Bajo",
          "nom_entidad": "Yucatán",
          "tono_de_color_de_piel": 9
         },
         {
          "abr_estado": "Yuc.",
          "cuenta": 98,
          "entidad": 31,
          "estrato_socioeconomico": 1,
          "estrato_socioeconomico_nom": "Bajo",
          "estratos": "1) Bajo",
          "nom_entidad": "Yucatán",
          "tono_de_color_de_piel": 8
         },
         {
          "abr_estado": "Tamps.",
          "cuenta": 27,
          "entidad": 28,
          "estrato_socioeconomico": 1,
          "estrato_socioeconomico_nom": "Bajo",
          "estratos": "1) Bajo",
          "nom_entidad": "Tamaulipas",
          "tono_de_color_de_piel": 7
         },
         {
          "abr_estado": "Tlax.",
          "cuenta": 5,
          "entidad": 29,
          "estrato_socioeconomico": 1,
          "estrato_socioeconomico_nom": "Bajo",
          "estratos": "1) Bajo",
          "nom_entidad": "Tlaxcala",
          "tono_de_color_de_piel": 8
         },
         {
          "abr_estado": "Tab.",
          "cuenta": 5,
          "entidad": 27,
          "estrato_socioeconomico": 1,
          "estrato_socioeconomico_nom": "Bajo",
          "estratos": "1) Bajo",
          "nom_entidad": "Tabasco",
          "tono_de_color_de_piel": 4
         },
         {
          "abr_estado": "Coah.",
          "cuenta": 2,
          "entidad": 5,
          "estrato_socioeconomico": 1,
          "estrato_socioeconomico_nom": "Bajo",
          "estratos": "1) Bajo",
          "nom_entidad": "Coahuila de Zaragoza",
          "tono_de_color_de_piel": 6
         },
         {
          "abr_estado": "Coah.",
          "cuenta": 2,
          "entidad": 5,
          "estrato_socioeconomico": 1,
          "estrato_socioeconomico_nom": "Bajo",
          "estratos": "1) Bajo",
          "nom_entidad": "Coahuila de Zaragoza",
          "tono_de_color_de_piel": 5
         },
         {
          "abr_estado": "Coah.",
          "cuenta": 2,
          "entidad": 5,
          "estrato_socioeconomico": 1,
          "estrato_socioeconomico_nom": "Bajo",
          "estratos": "1) Bajo",
          "nom_entidad": "Coahuila de Zaragoza",
          "tono_de_color_de_piel": 3
         },
         {
          "abr_estado": "Coah.",
          "cuenta": 4,
          "entidad": 5,
          "estrato_socioeconomico": 1,
          "estrato_socioeconomico_nom": "Bajo",
          "estratos": "1) Bajo",
          "nom_entidad": "Coahuila de Zaragoza",
          "tono_de_color_de_piel": 4
         },
         {
          "abr_estado": "Coah.",
          "cuenta": 11,
          "entidad": 5,
          "estrato_socioeconomico": 1,
          "estrato_socioeconomico_nom": "Bajo",
          "estratos": "1) Bajo",
          "nom_entidad": "Coahuila de Zaragoza",
          "tono_de_color_de_piel": 8
         },
         {
          "abr_estado": "Coah.",
          "cuenta": 12,
          "entidad": 5,
          "estrato_socioeconomico": 1,
          "estrato_socioeconomico_nom": "Bajo",
          "estratos": "1) Bajo",
          "nom_entidad": "Coahuila de Zaragoza",
          "tono_de_color_de_piel": 7
         },
         {
          "abr_estado": "Tab.",
          "cuenta": 54,
          "entidad": 27,
          "estrato_socioeconomico": 1,
          "estrato_socioeconomico_nom": "Bajo",
          "estratos": "1) Bajo",
          "nom_entidad": "Tabasco",
          "tono_de_color_de_piel": 6
         },
         {
          "abr_estado": "Col.",
          "cuenta": 1,
          "entidad": 6,
          "estrato_socioeconomico": 1,
          "estrato_socioeconomico_nom": "Bajo",
          "estratos": "1) Bajo",
          "nom_entidad": "Colima",
          "tono_de_color_de_piel": 9
         },
         {
          "abr_estado": "Tab.",
          "cuenta": 78,
          "entidad": 27,
          "estrato_socioeconomico": 1,
          "estrato_socioeconomico_nom": "Bajo",
          "estratos": "1) Bajo",
          "nom_entidad": "Tabasco",
          "tono_de_color_de_piel": 8
         },
         {
          "abr_estado": "Tab.",
          "cuenta": 92,
          "entidad": 27,
          "estrato_socioeconomico": 1,
          "estrato_socioeconomico_nom": "Bajo",
          "estratos": "1) Bajo",
          "nom_entidad": "Tabasco",
          "tono_de_color_de_piel": 7
         },
         {
          "abr_estado": "Son.",
          "cuenta": 1,
          "entidad": 26,
          "estrato_socioeconomico": 1,
          "estrato_socioeconomico_nom": "Bajo",
          "estratos": "1) Bajo",
          "nom_entidad": "Sonora",
          "tono_de_color_de_piel": 5
         },
         {
          "abr_estado": "Tab.",
          "cuenta": 8,
          "entidad": 27,
          "estrato_socioeconomico": 1,
          "estrato_socioeconomico_nom": "Bajo",
          "estratos": "1) Bajo",
          "nom_entidad": "Tabasco",
          "tono_de_color_de_piel": 10
         },
         {
          "abr_estado": "Coah.",
          "cuenta": 1,
          "entidad": 5,
          "estrato_socioeconomico": 1,
          "estrato_socioeconomico_nom": "Bajo",
          "estratos": "1) Bajo",
          "nom_entidad": "Coahuila de Zaragoza",
          "tono_de_color_de_piel": 2
         },
         {
          "abr_estado": "Son.",
          "cuenta": 1,
          "entidad": 26,
          "estrato_socioeconomico": 1,
          "estrato_socioeconomico_nom": "Bajo",
          "estratos": "1) Bajo",
          "nom_entidad": "Sonora",
          "tono_de_color_de_piel": 11
         },
         {
          "abr_estado": "Tab.",
          "cuenta": 6,
          "entidad": 27,
          "estrato_socioeconomico": 1,
          "estrato_socioeconomico_nom": "Bajo",
          "estratos": "1) Bajo",
          "nom_entidad": "Tabasco",
          "tono_de_color_de_piel": 5
         },
         {
          "abr_estado": "Tab.",
          "cuenta": 5,
          "entidad": 27,
          "estrato_socioeconomico": 1,
          "estrato_socioeconomico_nom": "Bajo",
          "estratos": "1) Bajo",
          "nom_entidad": "Tabasco",
          "tono_de_color_de_piel": 3
         },
         {
          "abr_estado": "Col.",
          "cuenta": 5,
          "entidad": 6,
          "estrato_socioeconomico": 1,
          "estrato_socioeconomico_nom": "Bajo",
          "estratos": "1) Bajo",
          "nom_entidad": "Colima",
          "tono_de_color_de_piel": 8
         },
         {
          "abr_estado": "Col.",
          "cuenta": 2,
          "entidad": 6,
          "estrato_socioeconomico": 1,
          "estrato_socioeconomico_nom": "Bajo",
          "estratos": "1) Bajo",
          "nom_entidad": "Colima",
          "tono_de_color_de_piel": 5
         },
         {
          "abr_estado": "Col.",
          "cuenta": 2,
          "entidad": 6,
          "estrato_socioeconomico": 1,
          "estrato_socioeconomico_nom": "Bajo",
          "estratos": "1) Bajo",
          "nom_entidad": "Colima",
          "tono_de_color_de_piel": 6
         },
         {
          "abr_estado": "Coah.",
          "cuenta": 1,
          "entidad": 5,
          "estrato_socioeconomico": 1,
          "estrato_socioeconomico_nom": "Bajo",
          "estratos": "1) Bajo",
          "nom_entidad": "Coahuila de Zaragoza",
          "tono_de_color_de_piel": 9
         },
         {
          "abr_estado": "Tab.",
          "cuenta": 2,
          "entidad": 27,
          "estrato_socioeconomico": 1,
          "estrato_socioeconomico_nom": "Bajo",
          "estratos": "1) Bajo",
          "nom_entidad": "Tabasco",
          "tono_de_color_de_piel": 11
         },
         {
          "abr_estado": "Son.",
          "cuenta": 5,
          "entidad": 26,
          "estrato_socioeconomico": 1,
          "estrato_socioeconomico_nom": "Bajo",
          "estratos": "1) Bajo",
          "nom_entidad": "Sonora",
          "tono_de_color_de_piel": 4
         },
         {
          "abr_estado": "Col.",
          "cuenta": 1,
          "entidad": 6,
          "estrato_socioeconomico": 1,
          "estrato_socioeconomico_nom": "Bajo",
          "estratos": "1) Bajo",
          "nom_entidad": "Colima",
          "tono_de_color_de_piel": 7
         },
         {
          "abr_estado": "Son.",
          "cuenta": 2,
          "entidad": 26,
          "estrato_socioeconomico": 1,
          "estrato_socioeconomico_nom": "Bajo",
          "estratos": "1) Bajo",
          "nom_entidad": "Sonora",
          "tono_de_color_de_piel": 10
         },
         {
          "abr_estado": "Son.",
          "cuenta": 1,
          "entidad": 26,
          "estrato_socioeconomico": 1,
          "estrato_socioeconomico_nom": "Bajo",
          "estratos": "1) Bajo",
          "nom_entidad": "Sonora",
          "tono_de_color_de_piel": 3
         },
         {
          "abr_estado": "Tab.",
          "cuenta": 6,
          "entidad": 27,
          "estrato_socioeconomico": 1,
          "estrato_socioeconomico_nom": "Bajo",
          "estratos": "1) Bajo",
          "nom_entidad": "Tabasco",
          "tono_de_color_de_piel": 9
         },
         {
          "abr_estado": "Col.",
          "cuenta": 1,
          "entidad": 6,
          "estrato_socioeconomico": 1,
          "estrato_socioeconomico_nom": "Bajo",
          "estratos": "1) Bajo",
          "nom_entidad": "Colima",
          "tono_de_color_de_piel": 4
         },
         {
          "abr_estado": "Mor.",
          "cuenta": 179,
          "entidad": 17,
          "estrato_socioeconomico": 2,
          "estrato_socioeconomico_nom": "Medio Bajo",
          "estratos": "2) Medio Bajo",
          "nom_entidad": "Morelos",
          "tono_de_color_de_piel": 8
         },
         {
          "abr_estado": "Mor.",
          "cuenta": 193,
          "entidad": 17,
          "estrato_socioeconomico": 2,
          "estrato_socioeconomico_nom": "Medio Bajo",
          "estratos": "2) Medio Bajo",
          "nom_entidad": "Morelos",
          "tono_de_color_de_piel": 7
         },
         {
          "abr_estado": "Mor.",
          "cuenta": 7,
          "entidad": 17,
          "estrato_socioeconomico": 2,
          "estrato_socioeconomico_nom": "Medio Bajo",
          "estratos": "2) Medio Bajo",
          "nom_entidad": "Morelos",
          "tono_de_color_de_piel": 10
         },
         {
          "abr_estado": "Mor.",
          "cuenta": 93,
          "entidad": 17,
          "estrato_socioeconomico": 2,
          "estrato_socioeconomico_nom": "Medio Bajo",
          "estratos": "2) Medio Bajo",
          "nom_entidad": "Morelos",
          "tono_de_color_de_piel": 6
         },
         {
          "abr_estado": "Mor.",
          "cuenta": 28,
          "entidad": 17,
          "estrato_socioeconomico": 2,
          "estrato_socioeconomico_nom": "Medio Bajo",
          "estratos": "2) Medio Bajo",
          "nom_entidad": "Morelos",
          "tono_de_color_de_piel": 4
         },
         {
          "abr_estado": "Mor.",
          "cuenta": 17,
          "entidad": 17,
          "estrato_socioeconomico": 2,
          "estrato_socioeconomico_nom": "Medio Bajo",
          "estratos": "2) Medio Bajo",
          "nom_entidad": "Morelos",
          "tono_de_color_de_piel": 5
         },
         {
          "abr_estado": "Mor.",
          "cuenta": 14,
          "entidad": 17,
          "estrato_socioeconomico": 2,
          "estrato_socioeconomico_nom": "Medio Bajo",
          "estratos": "2) Medio Bajo",
          "nom_entidad": "Morelos",
          "tono_de_color_de_piel": 9
         },
         {
          "abr_estado": "Mor.",
          "cuenta": 6,
          "entidad": 17,
          "estrato_socioeconomico": 2,
          "estrato_socioeconomico_nom": "Medio Bajo",
          "estratos": "2) Medio Bajo",
          "nom_entidad": "Morelos",
          "tono_de_color_de_piel": 3
         },
         {
          "abr_estado": "Ver.",
          "cuenta": 2,
          "entidad": 30,
          "estrato_socioeconomico": 2,
          "estrato_socioeconomico_nom": "Medio Bajo",
          "estratos": "2) Medio Bajo",
          "nom_entidad": "Veracruz de Ignacio de la Llave",
          "tono_de_color_de_piel": 1
         },
         {
          "abr_estado": "Mor.",
          "cuenta": 1,
          "entidad": 17,
          "estrato_socioeconomico": 2,
          "estrato_socioeconomico_nom": "Medio Bajo",
          "estratos": "2) Medio Bajo",
          "nom_entidad": "Morelos",
          "tono_de_color_de_piel": 1
         },
         {
          "abr_estado": "Nay.",
          "cuenta": 151,
          "entidad": 18,
          "estrato_socioeconomico": 2,
          "estrato_socioeconomico_nom": "Medio Bajo",
          "estratos": "2) Medio Bajo",
          "nom_entidad": "Nayarit",
          "tono_de_color_de_piel": 7
         },
         {
          "abr_estado": "Nay.",
          "cuenta": 212,
          "entidad": 18,
          "estrato_socioeconomico": 2,
          "estrato_socioeconomico_nom": "Medio Bajo",
          "estratos": "2) Medio Bajo",
          "nom_entidad": "Nayarit",
          "tono_de_color_de_piel": 8
         },
         {
          "abr_estado": "Son.",
          "cuenta": 3,
          "entidad": 26,
          "estrato_socioeconomico": 2,
          "estrato_socioeconomico_nom": "Medio Bajo",
          "estratos": "2) Medio Bajo",
          "nom_entidad": "Sonora",
          "tono_de_color_de_piel": 4
         },
         {
          "abr_estado": "Son.",
          "cuenta": 3,
          "entidad": 26,
          "estrato_socioeconomico": 2,
          "estrato_socioeconomico_nom": "Medio Bajo",
          "estratos": "2) Medio Bajo",
          "nom_entidad": "Sonora",
          "tono_de_color_de_piel": 3
         },
         {
          "abr_estado": "Son.",
          "cuenta": 3,
          "entidad": 26,
          "estrato_socioeconomico": 2,
          "estrato_socioeconomico_nom": "Medio Bajo",
          "estratos": "2) Medio Bajo",
          "nom_entidad": "Sonora",
          "tono_de_color_de_piel": 2
         },
         {
          "abr_estado": "Son.",
          "cuenta": 10,
          "entidad": 26,
          "estrato_socioeconomico": 2,
          "estrato_socioeconomico_nom": "Medio Bajo",
          "estratos": "2) Medio Bajo",
          "nom_entidad": "Sonora",
          "tono_de_color_de_piel": 11
         },
         {
          "abr_estado": "Son.",
          "cuenta": 16,
          "entidad": 26,
          "estrato_socioeconomico": 2,
          "estrato_socioeconomico_nom": "Medio Bajo",
          "estratos": "2) Medio Bajo",
          "nom_entidad": "Sonora",
          "tono_de_color_de_piel": 9
         },
         {
          "abr_estado": "Son.",
          "cuenta": 17,
          "entidad": 26,
          "estrato_socioeconomico": 2,
          "estrato_socioeconomico_nom": "Medio Bajo",
          "estratos": "2) Medio Bajo",
          "nom_entidad": "Sonora",
          "tono_de_color_de_piel": 10
         },
         {
          "abr_estado": "Son.",
          "cuenta": 19,
          "entidad": 26,
          "estrato_socioeconomico": 2,
          "estrato_socioeconomico_nom": "Medio Bajo",
          "estratos": "2) Medio Bajo",
          "nom_entidad": "Sonora",
          "tono_de_color_de_piel": 6
         },
         {
          "abr_estado": "Son.",
          "cuenta": 86,
          "entidad": 26,
          "estrato_socioeconomico": 2,
          "estrato_socioeconomico_nom": "Medio Bajo",
          "estratos": "2) Medio Bajo",
          "nom_entidad": "Sonora",
          "tono_de_color_de_piel": 7
         },
         {
          "abr_estado": "Ver.",
          "cuenta": 144,
          "entidad": 30,
          "estrato_socioeconomico": 2,
          "estrato_socioeconomico_nom": "Medio Bajo",
          "estratos": "2) Medio Bajo",
          "nom_entidad": "Veracruz de Ignacio de la Llave",
          "tono_de_color_de_piel": 7
         },
         {
          "abr_estado": "Mor.",
          "cuenta": 5,
          "entidad": 17,
          "estrato_socioeconomico": 2,
          "estrato_socioeconomico_nom": "Medio Bajo",
          "estratos": "2) Medio Bajo",
          "nom_entidad": "Morelos",
          "tono_de_color_de_piel": 2
         },
         {
          "abr_estado": "Ver.",
          "cuenta": 136,
          "entidad": 30,
          "estrato_socioeconomico": 2,
          "estrato_socioeconomico_nom": "Medio Bajo",
          "estratos": "2) Medio Bajo",
          "nom_entidad": "Veracruz de Ignacio de la Llave",
          "tono_de_color_de_piel": 8
         },
         {
          "abr_estado": "Ver.",
          "cuenta": 16,
          "entidad": 30,
          "estrato_socioeconomico": 2,
          "estrato_socioeconomico_nom": "Medio Bajo",
          "estratos": "2) Medio Bajo",
          "nom_entidad": "Veracruz de Ignacio de la Llave",
          "tono_de_color_de_piel": 4
         },
         {
          "abr_estado": "Ver.",
          "cuenta": 13,
          "entidad": 30,
          "estrato_socioeconomico": 2,
          "estrato_socioeconomico_nom": "Medio Bajo",
          "estratos": "2) Medio Bajo",
          "nom_entidad": "Veracruz de Ignacio de la Llave",
          "tono_de_color_de_piel": 10
         },
         {
          "abr_estado": "Ver.",
          "cuenta": 12,
          "entidad": 30,
          "estrato_socioeconomico": 2,
          "estrato_socioeconomico_nom": "Medio Bajo",
          "estratos": "2) Medio Bajo",
          "nom_entidad": "Veracruz de Ignacio de la Llave",
          "tono_de_color_de_piel": 9
         },
         {
          "abr_estado": "Ver.",
          "cuenta": 8,
          "entidad": 30,
          "estrato_socioeconomico": 2,
          "estrato_socioeconomico_nom": "Medio Bajo",
          "estratos": "2) Medio Bajo",
          "nom_entidad": "Veracruz de Ignacio de la Llave",
          "tono_de_color_de_piel": 11
         },
         {
          "abr_estado": "Ver.",
          "cuenta": 7,
          "entidad": 30,
          "estrato_socioeconomico": 2,
          "estrato_socioeconomico_nom": "Medio Bajo",
          "estratos": "2) Medio Bajo",
          "nom_entidad": "Veracruz de Ignacio de la Llave",
          "tono_de_color_de_piel": 3
         },
         {
          "abr_estado": "Ver.",
          "cuenta": 7,
          "entidad": 30,
          "estrato_socioeconomico": 2,
          "estrato_socioeconomico_nom": "Medio Bajo",
          "estratos": "2) Medio Bajo",
          "nom_entidad": "Veracruz de Ignacio de la Llave",
          "tono_de_color_de_piel": 5
         },
         {
          "abr_estado": "Ver.",
          "cuenta": 5,
          "entidad": 30,
          "estrato_socioeconomico": 2,
          "estrato_socioeconomico_nom": "Medio Bajo",
          "estratos": "2) Medio Bajo",
          "nom_entidad": "Veracruz de Ignacio de la Llave",
          "tono_de_color_de_piel": 2
         },
         {
          "abr_estado": "Yuc.",
          "cuenta": 132,
          "entidad": 31,
          "estrato_socioeconomico": 2,
          "estrato_socioeconomico_nom": "Medio Bajo",
          "estratos": "2) Medio Bajo",
          "nom_entidad": "Yucatán",
          "tono_de_color_de_piel": 8
         },
         {
          "abr_estado": "Son.",
          "cuenta": 150,
          "entidad": 26,
          "estrato_socioeconomico": 2,
          "estrato_socioeconomico_nom": "Medio Bajo",
          "estratos": "2) Medio Bajo",
          "nom_entidad": "Sonora",
          "tono_de_color_de_piel": 8
         },
         {
          "abr_estado": "SLP",
          "cuenta": 2,
          "entidad": 24,
          "estrato_socioeconomico": 2,
          "estrato_socioeconomico_nom": "Medio Bajo",
          "estratos": "2) Medio Bajo",
          "nom_entidad": "San Luis Potosí",
          "tono_de_color_de_piel": 2
         },
         {
          "abr_estado": "SLP",
          "cuenta": 1,
          "entidad": 24,
          "estrato_socioeconomico": 2,
          "estrato_socioeconomico_nom": "Medio Bajo",
          "estratos": "2) Medio Bajo",
          "nom_entidad": "San Luis Potosí",
          "tono_de_color_de_piel": 11
         },
         {
          "abr_estado": "Ver.",
          "cuenta": 60,
          "entidad": 30,
          "estrato_socioeconomico": 2,
          "estrato_socioeconomico_nom": "Medio Bajo",
          "estratos": "2) Medio Bajo",
          "nom_entidad": "Veracruz de Ignacio de la Llave",
          "tono_de_color_de_piel": 6
         },
         {
          "abr_estado": "Yuc.",
          "cuenta": 112,
          "entidad": 31,
          "estrato_socioeconomico": 2,
          "estrato_socioeconomico_nom": "Medio Bajo",
          "estratos": "2) Medio Bajo",
          "nom_entidad": "Yucatán",
          "tono_de_color_de_piel": 7
         },
         {
          "abr_estado": "Q. Roo",
          "cuenta": 102,
          "entidad": 23,
          "estrato_socioeconomico": 2,
          "estrato_socioeconomico_nom": "Medio Bajo",
          "estratos": "2) Medio Bajo",
          "nom_entidad": "Quintana Roo",
          "tono_de_color_de_piel": 6
         },
         {
          "abr_estado": "Yuc.",
          "cuenta": 18,
          "entidad": 31,
          "estrato_socioeconomico": 2,
          "estrato_socioeconomico_nom": "Medio Bajo",
          "estratos": "2) Medio Bajo",
          "nom_entidad": "Yucatán",
          "tono_de_color_de_piel": 4
         },
         {
          "abr_estado": "Sin.",
          "cuenta": 1,
          "entidad": 25,
          "estrato_socioeconomico": 2,
          "estrato_socioeconomico_nom": "Medio Bajo",
          "estratos": "2) Medio Bajo",
          "nom_entidad": "Sinaloa",
          "tono_de_color_de_piel": 1
         },
         {
          "abr_estado": "Zac.",
          "cuenta": 200,
          "entidad": 32,
          "estrato_socioeconomico": 2,
          "estrato_socioeconomico_nom": "Medio Bajo",
          "estratos": "2) Medio Bajo",
          "nom_entidad": "Zacatecas",
          "tono_de_color_de_piel": 8
         },
         {
          "abr_estado": "Zac.",
          "cuenta": 166,
          "entidad": 32,
          "estrato_socioeconomico": 2,
          "estrato_socioeconomico_nom": "Medio Bajo",
          "estratos": "2) Medio Bajo",
          "nom_entidad": "Zacatecas",
          "tono_de_color_de_piel": 7
         },
         {
          "abr_estado": "Zac.",
          "cuenta": 55,
          "entidad": 32,
          "estrato_socioeconomico": 2,
          "estrato_socioeconomico_nom": "Medio Bajo",
          "estratos": "2) Medio Bajo",
          "nom_entidad": "Zacatecas",
          "tono_de_color_de_piel": 6
         },
         {
          "abr_estado": "Mex.",
          "cuenta": 1,
          "entidad": 15,
          "estrato_socioeconomico": 2,
          "estrato_socioeconomico_nom": "Medio Bajo",
          "estratos": "2) Medio Bajo",
          "nom_entidad": "México",
          "tono_de_color_de_piel": 2
         },
         {
          "abr_estado": "Mex.",
          "cuenta": 4,
          "entidad": 15,
          "estrato_socioeconomico": 2,
          "estrato_socioeconomico_nom": "Medio Bajo",
          "estratos": "2) Medio Bajo",
          "nom_entidad": "México",
          "tono_de_color_de_piel": 3
         },
         {
          "abr_estado": "Mex.",
          "cuenta": 6,
          "entidad": 15,
          "estrato_socioeconomico": 2,
          "estrato_socioeconomico_nom": "Medio Bajo",
          "estratos": "2) Medio Bajo",
          "nom_entidad": "México",
          "tono_de_color_de_piel": 4
         },
         {
          "abr_estado": "Mex.",
          "cuenta": 8,
          "entidad": 15,
          "estrato_socioeconomico": 2,
          "estrato_socioeconomico_nom": "Medio Bajo",
          "estratos": "2) Medio Bajo",
          "nom_entidad": "México",
          "tono_de_color_de_piel": 11
         },
         {
          "abr_estado": "Mex.",
          "cuenta": 13,
          "entidad": 15,
          "estrato_socioeconomico": 2,
          "estrato_socioeconomico_nom": "Medio Bajo",
          "estratos": "2) Medio Bajo",
          "nom_entidad": "México",
          "tono_de_color_de_piel": 5
         },
         {
          "abr_estado": "Mex.",
          "cuenta": 26,
          "entidad": 15,
          "estrato_socioeconomico": 2,
          "estrato_socioeconomico_nom": "Medio Bajo",
          "estratos": "2) Medio Bajo",
          "nom_entidad": "México",
          "tono_de_color_de_piel": 10
         },
         {
          "abr_estado": "Mex.",
          "cuenta": 29,
          "entidad": 15,
          "estrato_socioeconomico": 2,
          "estrato_socioeconomico_nom": "Medio Bajo",
          "estratos": "2) Medio Bajo",
          "nom_entidad": "México",
          "tono_de_color_de_piel": 9
         },
         {
          "abr_estado": "Mex.",
          "cuenta": 65,
          "entidad": 15,
          "estrato_socioeconomico": 2,
          "estrato_socioeconomico_nom": "Medio Bajo",
          "estratos": "2) Medio Bajo",
          "nom_entidad": "México",
          "tono_de_color_de_piel": 6
         },
         {
          "abr_estado": "Mex.",
          "cuenta": 165,
          "entidad": 15,
          "estrato_socioeconomico": 2,
          "estrato_socioeconomico_nom": "Medio Bajo",
          "estratos": "2) Medio Bajo",
          "nom_entidad": "México",
          "tono_de_color_de_piel": 7
         },
         {
          "abr_estado": "Mex.",
          "cuenta": 234,
          "entidad": 15,
          "estrato_socioeconomico": 2,
          "estrato_socioeconomico_nom": "Medio Bajo",
          "estratos": "2) Medio Bajo",
          "nom_entidad": "México",
          "tono_de_color_de_piel": 8
         },
         {
          "abr_estado": "Zac.",
          "cuenta": 22,
          "entidad": 32,
          "estrato_socioeconomico": 2,
          "estrato_socioeconomico_nom": "Medio Bajo",
          "estratos": "2) Medio Bajo",
          "nom_entidad": "Zacatecas",
          "tono_de_color_de_piel": 9
         },
         {
          "abr_estado": "Zac.",
          "cuenta": 22,
          "entidad": 32,
          "estrato_socioeconomico": 2,
          "estrato_socioeconomico_nom": "Medio Bajo",
          "estratos": "2) Medio Bajo",
          "nom_entidad": "Zacatecas",
          "tono_de_color_de_piel": 10
         },
         {
          "abr_estado": "Zac.",
          "cuenta": 15,
          "entidad": 32,
          "estrato_socioeconomico": 2,
          "estrato_socioeconomico_nom": "Medio Bajo",
          "estratos": "2) Medio Bajo",
          "nom_entidad": "Zacatecas",
          "tono_de_color_de_piel": 4
         },
         {
          "abr_estado": "Zac.",
          "cuenta": 13,
          "entidad": 32,
          "estrato_socioeconomico": 2,
          "estrato_socioeconomico_nom": "Medio Bajo",
          "estratos": "2) Medio Bajo",
          "nom_entidad": "Zacatecas",
          "tono_de_color_de_piel": 11
         },
         {
          "abr_estado": "Zac.",
          "cuenta": 7,
          "entidad": 32,
          "estrato_socioeconomico": 2,
          "estrato_socioeconomico_nom": "Medio Bajo",
          "estratos": "2) Medio Bajo",
          "nom_entidad": "Zacatecas",
          "tono_de_color_de_piel": 3
         },
         {
          "abr_estado": "Zac.",
          "cuenta": 7,
          "entidad": 32,
          "estrato_socioeconomico": 2,
          "estrato_socioeconomico_nom": "Medio Bajo",
          "estratos": "2) Medio Bajo",
          "nom_entidad": "Zacatecas",
          "tono_de_color_de_piel": 5
         },
         {
          "abr_estado": "Zac.",
          "cuenta": 1,
          "entidad": 32,
          "estrato_socioeconomico": 2,
          "estrato_socioeconomico_nom": "Medio Bajo",
          "estratos": "2) Medio Bajo",
          "nom_entidad": "Zacatecas",
          "tono_de_color_de_piel": 2
         },
         {
          "abr_estado": "Sin.",
          "cuenta": 4,
          "entidad": 25,
          "estrato_socioeconomico": 2,
          "estrato_socioeconomico_nom": "Medio Bajo",
          "estratos": "2) Medio Bajo",
          "nom_entidad": "Sinaloa",
          "tono_de_color_de_piel": 2
         },
         {
          "abr_estado": "Sin.",
          "cuenta": 8,
          "entidad": 25,
          "estrato_socioeconomico": 2,
          "estrato_socioeconomico_nom": "Medio Bajo",
          "estratos": "2) Medio Bajo",
          "nom_entidad": "Sinaloa",
          "tono_de_color_de_piel": 4
         },
         {
          "abr_estado": "Sin.",
          "cuenta": 9,
          "entidad": 25,
          "estrato_socioeconomico": 2,
          "estrato_socioeconomico_nom": "Medio Bajo",
          "estratos": "2) Medio Bajo",
          "nom_entidad": "Sinaloa",
          "tono_de_color_de_piel": 11
         },
         {
          "abr_estado": "Sin.",
          "cuenta": 10,
          "entidad": 25,
          "estrato_socioeconomico": 2,
          "estrato_socioeconomico_nom": "Medio Bajo",
          "estratos": "2) Medio Bajo",
          "nom_entidad": "Sinaloa",
          "tono_de_color_de_piel": 5
         },
         {
          "abr_estado": "Yuc.",
          "cuenta": 14,
          "entidad": 31,
          "estrato_socioeconomico": 2,
          "estrato_socioeconomico_nom": "Medio Bajo",
          "estratos": "2) Medio Bajo",
          "nom_entidad": "Yucatán",
          "tono_de_color_de_piel": 9
         },
         {
          "abr_estado": "Yuc.",
          "cuenta": 11,
          "entidad": 31,
          "estrato_socioeconomico": 2,
          "estrato_socioeconomico_nom": "Medio Bajo",
          "estratos": "2) Medio Bajo",
          "nom_entidad": "Yucatán",
          "tono_de_color_de_piel": 10
         },
         {
          "abr_estado": "Nay.",
          "cuenta": 60,
          "entidad": 18,
          "estrato_socioeconomico": 2,
          "estrato_socioeconomico_nom": "Medio Bajo",
          "estratos": "2) Medio Bajo",
          "nom_entidad": "Nayarit",
          "tono_de_color_de_piel": 6
         },
         {
          "abr_estado": "Sin.",
          "cuenta": 155,
          "entidad": 25,
          "estrato_socioeconomico": 2,
          "estrato_socioeconomico_nom": "Medio Bajo",
          "estratos": "2) Medio Bajo",
          "nom_entidad": "Sinaloa",
          "tono_de_color_de_piel": 8
         },
         {
          "abr_estado": "Mich.",
          "cuenta": 2,
          "entidad": 16,
          "estrato_socioeconomico": 2,
          "estrato_socioeconomico_nom": "Medio Bajo",
          "estratos": "2) Medio Bajo",
          "nom_entidad": "Michoacán de Ocampo",
          "tono_de_color_de_piel": 2
         },
         {
          "abr_estado": "Mich.",
          "cuenta": 6,
          "entidad": 16,
          "estrato_socioeconomico": 2,
          "estrato_socioeconomico_nom": "Medio Bajo",
          "estratos": "2) Medio Bajo",
          "nom_entidad": "Michoacán de Ocampo",
          "tono_de_color_de_piel": 3
         },
         {
          "abr_estado": "Mich.",
          "cuenta": 10,
          "entidad": 16,
          "estrato_socioeconomico": 2,
          "estrato_socioeconomico_nom": "Medio Bajo",
          "estratos": "2) Medio Bajo",
          "nom_entidad": "Michoacán de Ocampo",
          "tono_de_color_de_piel": 5
         },
         {
          "abr_estado": "Mich.",
          "cuenta": 13,
          "entidad": 16,
          "estrato_socioeconomico": 2,
          "estrato_socioeconomico_nom": "Medio Bajo",
          "estratos": "2) Medio Bajo",
          "nom_entidad": "Michoacán de Ocampo",
          "tono_de_color_de_piel": 4
         },
         {
          "abr_estado": "Mich.",
          "cuenta": 18,
          "entidad": 16,
          "estrato_socioeconomico": 2,
          "estrato_socioeconomico_nom": "Medio Bajo",
          "estratos": "2) Medio Bajo",
          "nom_entidad": "Michoacán de Ocampo",
          "tono_de_color_de_piel": 11
         },
         {
          "abr_estado": "Mich.",
          "cuenta": 19,
          "entidad": 16,
          "estrato_socioeconomico": 2,
          "estrato_socioeconomico_nom": "Medio Bajo",
          "estratos": "2) Medio Bajo",
          "nom_entidad": "Michoacán de Ocampo",
          "tono_de_color_de_piel": 9
         },
         {
          "abr_estado": "Yuc.",
          "cuenta": 44,
          "entidad": 31,
          "estrato_socioeconomico": 2,
          "estrato_socioeconomico_nom": "Medio Bajo",
          "estratos": "2) Medio Bajo",
          "nom_entidad": "Yucatán",
          "tono_de_color_de_piel": 6
         },
         {
          "abr_estado": "Mich.",
          "cuenta": 36,
          "entidad": 16,
          "estrato_socioeconomico": 2,
          "estrato_socioeconomico_nom": "Medio Bajo",
          "estratos": "2) Medio Bajo",
          "nom_entidad": "Michoacán de Ocampo",
          "tono_de_color_de_piel": 10
         },
         {
          "abr_estado": "Mich.",
          "cuenta": 159,
          "entidad": 16,
          "estrato_socioeconomico": 2,
          "estrato_socioeconomico_nom": "Medio Bajo",
          "estratos": "2) Medio Bajo",
          "nom_entidad": "Michoacán de Ocampo",
          "tono_de_color_de_piel": 7
         },
         {
          "abr_estado": "Mich.",
          "cuenta": 202,
          "entidad": 16,
          "estrato_socioeconomico": 2,
          "estrato_socioeconomico_nom": "Medio Bajo",
          "estratos": "2) Medio Bajo",
          "nom_entidad": "Michoacán de Ocampo",
          "tono_de_color_de_piel": 8
         },
         {
          "abr_estado": "Yuc.",
          "cuenta": 7,
          "entidad": 31,
          "estrato_socioeconomico": 2,
          "estrato_socioeconomico_nom": "Medio Bajo",
          "estratos": "2) Medio Bajo",
          "nom_entidad": "Yucatán",
          "tono_de_color_de_piel": 5
         },
         {
          "abr_estado": "Yuc.",
          "cuenta": 6,
          "entidad": 31,
          "estrato_socioeconomico": 2,
          "estrato_socioeconomico_nom": "Medio Bajo",
          "estratos": "2) Medio Bajo",
          "nom_entidad": "Yucatán",
          "tono_de_color_de_piel": 11
         },
         {
          "abr_estado": "Yuc.",
          "cuenta": 2,
          "entidad": 31,
          "estrato_socioeconomico": 2,
          "estrato_socioeconomico_nom": "Medio Bajo",
          "estratos": "2) Medio Bajo",
          "nom_entidad": "Yucatán",
          "tono_de_color_de_piel": 3
         },
         {
          "abr_estado": "Yuc.",
          "cuenta": 1,
          "entidad": 31,
          "estrato_socioeconomico": 2,
          "estrato_socioeconomico_nom": "Medio Bajo",
          "estratos": "2) Medio Bajo",
          "nom_entidad": "Yucatán",
          "tono_de_color_de_piel": 2
         },
         {
          "abr_estado": "Sin.",
          "cuenta": 134,
          "entidad": 25,
          "estrato_socioeconomico": 2,
          "estrato_socioeconomico_nom": "Medio Bajo",
          "estratos": "2) Medio Bajo",
          "nom_entidad": "Sinaloa",
          "tono_de_color_de_piel": 7
         },
         {
          "abr_estado": "Sin.",
          "cuenta": 68,
          "entidad": 25,
          "estrato_socioeconomico": 2,
          "estrato_socioeconomico_nom": "Medio Bajo",
          "estratos": "2) Medio Bajo",
          "nom_entidad": "Sinaloa",
          "tono_de_color_de_piel": 6
         },
         {
          "abr_estado": "Sin.",
          "cuenta": 26,
          "entidad": 25,
          "estrato_socioeconomico": 2,
          "estrato_socioeconomico_nom": "Medio Bajo",
          "estratos": "2) Medio Bajo",
          "nom_entidad": "Sinaloa",
          "tono_de_color_de_piel": 10
         },
         {
          "abr_estado": "Sin.",
          "cuenta": 24,
          "entidad": 25,
          "estrato_socioeconomico": 2,
          "estrato_socioeconomico_nom": "Medio Bajo",
          "estratos": "2) Medio Bajo",
          "nom_entidad": "Sinaloa",
          "tono_de_color_de_piel": 9
         },
         {
          "abr_estado": "Mich.",
          "cuenta": 56,
          "entidad": 16,
          "estrato_socioeconomico": 2,
          "estrato_socioeconomico_nom": "Medio Bajo",
          "estratos": "2) Medio Bajo",
          "nom_entidad": "Michoacán de Ocampo",
          "tono_de_color_de_piel": 6
         },
         {
          "abr_estado": "Nay.",
          "cuenta": 19,
          "entidad": 18,
          "estrato_socioeconomico": 2,
          "estrato_socioeconomico_nom": "Medio Bajo",
          "estratos": "2) Medio Bajo",
          "nom_entidad": "Nayarit",
          "tono_de_color_de_piel": 11
         },
         {
          "abr_estado": "SLP",
          "cuenta": 5,
          "entidad": 24,
          "estrato_socioeconomico": 2,
          "estrato_socioeconomico_nom": "Medio Bajo",
          "estratos": "2) Medio Bajo",
          "nom_entidad": "San Luis Potosí",
          "tono_de_color_de_piel": 5
         },
         {
          "abr_estado": "Nay.",
          "cuenta": 14,
          "entidad": 18,
          "estrato_socioeconomico": 2,
          "estrato_socioeconomico_nom": "Medio Bajo",
          "estratos": "2) Medio Bajo",
          "nom_entidad": "Nayarit",
          "tono_de_color_de_piel": 5
         },
         {
          "abr_estado": "Pue.",
          "cuenta": 2,
          "entidad": 21,
          "estrato_socioeconomico": 2,
          "estrato_socioeconomico_nom": "Medio Bajo",
          "estratos": "2) Medio Bajo",
          "nom_entidad": "Puebla",
          "tono_de_color_de_piel": 11
         },
         {
          "abr_estado": "Pue.",
          "cuenta": 4,
          "entidad": 21,
          "estrato_socioeconomico": 2,
          "estrato_socioeconomico_nom": "Medio Bajo",
          "estratos": "2) Medio Bajo",
          "nom_entidad": "Puebla",
          "tono_de_color_de_piel": 3
         },
         {
          "abr_estado": "Pue.",
          "cuenta": 7,
          "entidad": 21,
          "estrato_socioeconomico": 2,
          "estrato_socioeconomico_nom": "Medio Bajo",
          "estratos": "2) Medio Bajo",
          "nom_entidad": "Puebla",
          "tono_de_color_de_piel": 9
         },
         {
          "abr_estado": "Pue.",
          "cuenta": 14,
          "entidad": 21,
          "estrato_socioeconomico": 2,
          "estrato_socioeconomico_nom": "Medio Bajo",
          "estratos": "2) Medio Bajo",
          "nom_entidad": "Puebla",
          "tono_de_color_de_piel": 4
         },
         {
          "abr_estado": "Pue.",
          "cuenta": 16,
          "entidad": 21,
          "estrato_socioeconomico": 2,
          "estrato_socioeconomico_nom": "Medio Bajo",
          "estratos": "2) Medio Bajo",
          "nom_entidad": "Puebla",
          "tono_de_color_de_piel": 10
         },
         {
          "abr_estado": "Pue.",
          "cuenta": 20,
          "entidad": 21,
          "estrato_socioeconomico": 2,
          "estrato_socioeconomico_nom": "Medio Bajo",
          "estratos": "2) Medio Bajo",
          "nom_entidad": "Puebla",
          "tono_de_color_de_piel": 5
         },
         {
          "abr_estado": "Pue.",
          "cuenta": 57,
          "entidad": 21,
          "estrato_socioeconomico": 2,
          "estrato_socioeconomico_nom": "Medio Bajo",
          "estratos": "2) Medio Bajo",
          "nom_entidad": "Puebla",
          "tono_de_color_de_piel": 6
         },
         {
          "abr_estado": "Pue.",
          "cuenta": 135,
          "entidad": 21,
          "estrato_socioeconomico": 2,
          "estrato_socioeconomico_nom": "Medio Bajo",
          "estratos": "2) Medio Bajo",
          "nom_entidad": "Puebla",
          "tono_de_color_de_piel": 7
         },
         {
          "abr_estado": "Pue.",
          "cuenta": 140,
          "entidad": 21,
          "estrato_socioeconomico": 2,
          "estrato_socioeconomico_nom": "Medio Bajo",
          "estratos": "2) Medio Bajo",
          "nom_entidad": "Puebla",
          "tono_de_color_de_piel": 8
         },
         {
          "abr_estado": "Pue.",
          "cuenta": 1,
          "entidad": 21,
          "estrato_socioeconomico": 2,
          "estrato_socioeconomico_nom": "Medio Bajo",
          "estratos": "2) Medio Bajo",
          "nom_entidad": "Puebla",
          "tono_de_color_de_piel": 2
         },
         {
          "abr_estado": "Tamps.",
          "cuenta": 125,
          "entidad": 28,
          "estrato_socioeconomico": 2,
          "estrato_socioeconomico_nom": "Medio Bajo",
          "estratos": "2) Medio Bajo",
          "nom_entidad": "Tamaulipas",
          "tono_de_color_de_piel": 7
         },
         {
          "abr_estado": "Tamps.",
          "cuenta": 23,
          "entidad": 28,
          "estrato_socioeconomico": 2,
          "estrato_socioeconomico_nom": "Medio Bajo",
          "estratos": "2) Medio Bajo",
          "nom_entidad": "Tamaulipas",
          "tono_de_color_de_piel": 4
         },
         {
          "abr_estado": "Tamps.",
          "cuenta": 21,
          "entidad": 28,
          "estrato_socioeconomico": 2,
          "estrato_socioeconomico_nom": "Medio Bajo",
          "estratos": "2) Medio Bajo",
          "nom_entidad": "Tamaulipas",
          "tono_de_color_de_piel": 10
         },
         {
          "abr_estado": "Tamps.",
          "cuenta": 17,
          "entidad": 28,
          "estrato_socioeconomico": 2,
          "estrato_socioeconomico_nom": "Medio Bajo",
          "estratos": "2) Medio Bajo",
          "nom_entidad": "Tamaulipas",
          "tono_de_color_de_piel": 5
         },
         {
          "abr_estado": "Tamps.",
          "cuenta": 15,
          "entidad": 28,
          "estrato_socioeconomico": 2,
          "estrato_socioeconomico_nom": "Medio Bajo",
          "estratos": "2) Medio Bajo",
          "nom_entidad": "Tamaulipas",
          "tono_de_color_de_piel": 9
         },
         {
          "abr_estado": "Tamps.",
          "cuenta": 9,
          "entidad": 28,
          "estrato_socioeconomico": 2,
          "estrato_socioeconomico_nom": "Medio Bajo",
          "estratos": "2) Medio Bajo",
          "nom_entidad": "Tamaulipas",
          "tono_de_color_de_piel": 3
         },
         {
          "abr_estado": "Q. Roo",
          "cuenta": 13,
          "entidad": 23,
          "estrato_socioeconomico": 2,
          "estrato_socioeconomico_nom": "Medio Bajo",
          "estratos": "2) Medio Bajo",
          "nom_entidad": "Quintana Roo",
          "tono_de_color_de_piel": 10
         },
         {
          "abr_estado": "Q. Roo",
          "cuenta": 7,
          "entidad": 23,
          "estrato_socioeconomico": 2,
          "estrato_socioeconomico_nom": "Medio Bajo",
          "estratos": "2) Medio Bajo",
          "nom_entidad": "Quintana Roo",
          "tono_de_color_de_piel": 11
         },
         {
          "abr_estado": "Q. Roo",
          "cuenta": 1,
          "entidad": 23,
          "estrato_socioeconomico": 2,
          "estrato_socioeconomico_nom": "Medio Bajo",
          "estratos": "2) Medio Bajo",
          "nom_entidad": "Quintana Roo",
          "tono_de_color_de_piel": 1
         },
         {
          "abr_estado": "Tab.",
          "cuenta": 82,
          "entidad": 27,
          "estrato_socioeconomico": 2,
          "estrato_socioeconomico_nom": "Medio Bajo",
          "estratos": "2) Medio Bajo",
          "nom_entidad": "Tabasco",
          "tono_de_color_de_piel": 6
         },
         {
          "abr_estado": "Tamps.",
          "cuenta": 55,
          "entidad": 28,
          "estrato_socioeconomico": 2,
          "estrato_socioeconomico_nom": "Medio Bajo",
          "estratos": "2) Medio Bajo",
          "nom_entidad": "Tamaulipas",
          "tono_de_color_de_piel": 6
         },
         {
          "abr_estado": "Tamps.",
          "cuenta": 131,
          "entidad": 28,
          "estrato_socioeconomico": 2,
          "estrato_socioeconomico_nom": "Medio Bajo",
          "estratos": "2) Medio Bajo",
          "nom_entidad": "Tamaulipas",
          "tono_de_color_de_piel": 8
         },
         {
          "abr_estado": "Q. Roo",
          "cuenta": 13,
          "entidad": 23,
          "estrato_socioeconomico": 2,
          "estrato_socioeconomico_nom": "Medio Bajo",
          "estratos": "2) Medio Bajo",
          "nom_entidad": "Quintana Roo",
          "tono_de_color_de_piel": 3
         },
         {
          "abr_estado": "Q. Roo",
          "cuenta": 20,
          "entidad": 23,
          "estrato_socioeconomico": 2,
          "estrato_socioeconomico_nom": "Medio Bajo",
          "estratos": "2) Medio Bajo",
          "nom_entidad": "Quintana Roo",
          "tono_de_color_de_piel": 9
         },
         {
          "abr_estado": "Q. Roo",
          "cuenta": 116,
          "entidad": 23,
          "estrato_socioeconomico": 2,
          "estrato_socioeconomico_nom": "Medio Bajo",
          "estratos": "2) Medio Bajo",
          "nom_entidad": "Quintana Roo",
          "tono_de_color_de_piel": 8
         },
         {
          "abr_estado": "Q. Roo",
          "cuenta": 189,
          "entidad": 23,
          "estrato_socioeconomico": 2,
          "estrato_socioeconomico_nom": "Medio Bajo",
          "estratos": "2) Medio Bajo",
          "nom_entidad": "Quintana Roo",
          "tono_de_color_de_piel": 7
         },
         {
          "abr_estado": "Tab.",
          "cuenta": 26,
          "entidad": 27,
          "estrato_socioeconomico": 2,
          "estrato_socioeconomico_nom": "Medio Bajo",
          "estratos": "2) Medio Bajo",
          "nom_entidad": "Tabasco",
          "tono_de_color_de_piel": 10
         },
         {
          "abr_estado": "Tab.",
          "cuenta": 20,
          "entidad": 27,
          "estrato_socioeconomico": 2,
          "estrato_socioeconomico_nom": "Medio Bajo",
          "estratos": "2) Medio Bajo",
          "nom_entidad": "Tabasco",
          "tono_de_color_de_piel": 9
         },
         {
          "abr_estado": "Tab.",
          "cuenta": 10,
          "entidad": 27,
          "estrato_socioeconomico": 2,
          "estrato_socioeconomico_nom": "Medio Bajo",
          "estratos": "2) Medio Bajo",
          "nom_entidad": "Tabasco",
          "tono_de_color_de_piel": 5
         },
         {
          "abr_estado": "Tab.",
          "cuenta": 7,
          "entidad": 27,
          "estrato_socioeconomico": 2,
          "estrato_socioeconomico_nom": "Medio Bajo",
          "estratos": "2) Medio Bajo",
          "nom_entidad": "Tabasco",
          "tono_de_color_de_piel": 11
         },
         {
          "abr_estado": "Tab.",
          "cuenta": 5,
          "entidad": 27,
          "estrato_socioeconomico": 2,
          "estrato_socioeconomico_nom": "Medio Bajo",
          "estratos": "2) Medio Bajo",
          "nom_entidad": "Tabasco",
          "tono_de_color_de_piel": 4
         },
         {
          "abr_estado": "Tab.",
          "cuenta": 2,
          "entidad": 27,
          "estrato_socioeconomico": 2,
          "estrato_socioeconomico_nom": "Medio Bajo",
          "estratos": "2) Medio Bajo",
          "nom_entidad": "Tabasco",
          "tono_de_color_de_piel": 2
         },
         {
          "abr_estado": "Tab.",
          "cuenta": 1,
          "entidad": 27,
          "estrato_socioeconomico": 2,
          "estrato_socioeconomico_nom": "Medio Bajo",
          "estratos": "2) Medio Bajo",
          "nom_entidad": "Tabasco",
          "tono_de_color_de_piel": 1
         },
         {
          "abr_estado": "Tab.",
          "cuenta": 1,
          "entidad": 27,
          "estrato_socioeconomico": 2,
          "estrato_socioeconomico_nom": "Medio Bajo",
          "estratos": "2) Medio Bajo",
          "nom_entidad": "Tabasco",
          "tono_de_color_de_piel": 3
         },
         {
          "abr_estado": "Q. Roo",
          "cuenta": 32,
          "entidad": 23,
          "estrato_socioeconomico": 2,
          "estrato_socioeconomico_nom": "Medio Bajo",
          "estratos": "2) Medio Bajo",
          "nom_entidad": "Quintana Roo",
          "tono_de_color_de_piel": 5
         },
         {
          "abr_estado": "Qro.",
          "cuenta": 2,
          "entidad": 22,
          "estrato_socioeconomico": 2,
          "estrato_socioeconomico_nom": "Medio Bajo",
          "estratos": "2) Medio Bajo",
          "nom_entidad": "Querétaro",
          "tono_de_color_de_piel": 3
         },
         {
          "abr_estado": "Qro.",
          "cuenta": 2,
          "entidad": 22,
          "estrato_socioeconomico": 2,
          "estrato_socioeconomico_nom": "Medio Bajo",
          "estratos": "2) Medio Bajo",
          "nom_entidad": "Querétaro",
          "tono_de_color_de_piel": 2
         },
         {
          "abr_estado": "Qro.",
          "cuenta": 7,
          "entidad": 22,
          "estrato_socioeconomico": 2,
          "estrato_socioeconomico_nom": "Medio Bajo",
          "estratos": "2) Medio Bajo",
          "nom_entidad": "Querétaro",
          "tono_de_color_de_piel": 11
         },
         {
          "abr_estado": "Qro.",
          "cuenta": 9,
          "entidad": 22,
          "estrato_socioeconomico": 2,
          "estrato_socioeconomico_nom": "Medio Bajo",
          "estratos": "2) Medio Bajo",
          "nom_entidad": "Querétaro",
          "tono_de_color_de_piel": 5
         },
         {
          "abr_estado": "Qro.",
          "cuenta": 11,
          "entidad": 22,
          "estrato_socioeconomico": 2,
          "estrato_socioeconomico_nom": "Medio Bajo",
          "estratos": "2) Medio Bajo",
          "nom_entidad": "Querétaro",
          "tono_de_color_de_piel": 4
         },
         {
          "abr_estado": "Qro.",
          "cuenta": 15,
          "entidad": 22,
          "estrato_socioeconomico": 2,
          "estrato_socioeconomico_nom": "Medio Bajo",
          "estratos": "2) Medio Bajo",
          "nom_entidad": "Querétaro",
          "tono_de_color_de_piel": 9
         },
         {
          "abr_estado": "Qro.",
          "cuenta": 21,
          "entidad": 22,
          "estrato_socioeconomico": 2,
          "estrato_socioeconomico_nom": "Medio Bajo",
          "estratos": "2) Medio Bajo",
          "nom_entidad": "Querétaro",
          "tono_de_color_de_piel": 10
         },
         {
          "abr_estado": "Qro.",
          "cuenta": 42,
          "entidad": 22,
          "estrato_socioeconomico": 2,
          "estrato_socioeconomico_nom": "Medio Bajo",
          "estratos": "2) Medio Bajo",
          "nom_entidad": "Querétaro",
          "tono_de_color_de_piel": 6
         },
         {
          "abr_estado": "Qro.",
          "cuenta": 128,
          "entidad": 22,
          "estrato_socioeconomico": 2,
          "estrato_socioeconomico_nom": "Medio Bajo",
          "estratos": "2) Medio Bajo",
          "nom_entidad": "Querétaro",
          "tono_de_color_de_piel": 7
         },
         {
          "abr_estado": "Qro.",
          "cuenta": 144,
          "entidad": 22,
          "estrato_socioeconomico": 2,
          "estrato_socioeconomico_nom": "Medio Bajo",
          "estratos": "2) Medio Bajo",
          "nom_entidad": "Querétaro",
          "tono_de_color_de_piel": 8
         },
         {
          "abr_estado": "Tab.",
          "cuenta": 166,
          "entidad": 27,
          "estrato_socioeconomico": 2,
          "estrato_socioeconomico_nom": "Medio Bajo",
          "estratos": "2) Medio Bajo",
          "nom_entidad": "Tabasco",
          "tono_de_color_de_piel": 7
         },
         {
          "abr_estado": "Tab.",
          "cuenta": 183,
          "entidad": 27,
          "estrato_socioeconomico": 2,
          "estrato_socioeconomico_nom": "Medio Bajo",
          "estratos": "2) Medio Bajo",
          "nom_entidad": "Tabasco",
          "tono_de_color_de_piel": 8
         },
         {
          "abr_estado": "Tamps.",
          "cuenta": 5,
          "entidad": 28,
          "estrato_socioeconomico": 2,
          "estrato_socioeconomico_nom": "Medio Bajo",
          "estratos": "2) Medio Bajo",
          "nom_entidad": "Tamaulipas",
          "tono_de_color_de_piel": 2
         },
         {
          "abr_estado": "Tamps.",
          "cuenta": 2,
          "entidad": 28,
          "estrato_socioeconomico": 2,
          "estrato_socioeconomico_nom": "Medio Bajo",
          "estratos": "2) Medio Bajo",
          "nom_entidad": "Tamaulipas",
          "tono_de_color_de_piel": 11
         },
         {
          "abr_estado": "Tlax.",
          "cuenta": 5,
          "entidad": 29,
          "estrato_socioeconomico": 2,
          "estrato_socioeconomico_nom": "Medio Bajo",
          "estratos": "2) Medio Bajo",
          "nom_entidad": "Tlaxcala",
          "tono_de_color_de_piel": 3
         },
         {
          "abr_estado": "Tlax.",
          "cuenta": 4,
          "entidad": 29,
          "estrato_socioeconomico": 2,
          "estrato_socioeconomico_nom": "Medio Bajo",
          "estratos": "2) Medio Bajo",
          "nom_entidad": "Tlaxcala",
          "tono_de_color_de_piel": 2
         },
         {
          "abr_estado": "Tlax.",
          "cuenta": 1,
          "entidad": 29,
          "estrato_socioeconomico": 2,
          "estrato_socioeconomico_nom": "Medio Bajo",
          "estratos": "2) Medio Bajo",
          "nom_entidad": "Tlaxcala",
          "tono_de_color_de_piel": 1
         },
         {
          "abr_estado": "SLP",
          "cuenta": 85,
          "entidad": 24,
          "estrato_socioeconomico": 2,
          "estrato_socioeconomico_nom": "Medio Bajo",
          "estratos": "2) Medio Bajo",
          "nom_entidad": "San Luis Potosí",
          "tono_de_color_de_piel": 8
         },
         {
          "abr_estado": "SLP",
          "cuenta": 70,
          "entidad": 24,
          "estrato_socioeconomico": 2,
          "estrato_socioeconomico_nom": "Medio Bajo",
          "estratos": "2) Medio Bajo",
          "nom_entidad": "San Luis Potosí",
          "tono_de_color_de_piel": 7
         },
         {
          "abr_estado": "SLP",
          "cuenta": 40,
          "entidad": 24,
          "estrato_socioeconomico": 2,
          "estrato_socioeconomico_nom": "Medio Bajo",
          "estratos": "2) Medio Bajo",
          "nom_entidad": "San Luis Potosí",
          "tono_de_color_de_piel": 6
         },
         {
          "abr_estado": "SLP",
          "cuenta": 18,
          "entidad": 24,
          "estrato_socioeconomico": 2,
          "estrato_socioeconomico_nom": "Medio Bajo",
          "estratos": "2) Medio Bajo",
          "nom_entidad": "San Luis Potosí",
          "tono_de_color_de_piel": 10
         },
         {
          "abr_estado": "NL",
          "cuenta": 21,
          "entidad": 19,
          "estrato_socioeconomico": 2,
          "estrato_socioeconomico_nom": "Medio Bajo",
          "estratos": "2) Medio Bajo",
          "nom_entidad": "Nuevo León",
          "tono_de_color_de_piel": 10
         },
         {
          "abr_estado": "NL",
          "cuenta": 36,
          "entidad": 19,
          "estrato_socioeconomico": 2,
          "estrato_socioeconomico_nom": "Medio Bajo",
          "estratos": "2) Medio Bajo",
          "nom_entidad": "Nuevo León",
          "tono_de_color_de_piel": 6
         },
         {
          "abr_estado": "NL",
          "cuenta": 94,
          "entidad": 19,
          "estrato_socioeconomico": 2,
          "estrato_socioeconomico_nom": "Medio Bajo",
          "estratos": "2) Medio Bajo",
          "nom_entidad": "Nuevo León",
          "tono_de_color_de_piel": 7
         },
         {
          "abr_estado": "NL",
          "cuenta": 127,
          "entidad": 19,
          "estrato_socioeconomico": 2,
          "estrato_socioeconomico_nom": "Medio Bajo",
          "estratos": "2) Medio Bajo",
          "nom_entidad": "Nuevo León",
          "tono_de_color_de_piel": 8
         },
         {
          "abr_estado": "SLP",
          "cuenta": 9,
          "entidad": 24,
          "estrato_socioeconomico": 2,
          "estrato_socioeconomico_nom": "Medio Bajo",
          "estratos": "2) Medio Bajo",
          "nom_entidad": "San Luis Potosí",
          "tono_de_color_de_piel": 9
         },
         {
          "abr_estado": "SLP",
          "cuenta": 7,
          "entidad": 24,
          "estrato_socioeconomico": 2,
          "estrato_socioeconomico_nom": "Medio Bajo",
          "estratos": "2) Medio Bajo",
          "nom_entidad": "San Luis Potosí",
          "tono_de_color_de_piel": 3
         },
         {
          "abr_estado": "SLP",
          "cuenta": 6,
          "entidad": 24,
          "estrato_socioeconomico": 2,
          "estrato_socioeconomico_nom": "Medio Bajo",
          "estratos": "2) Medio Bajo",
          "nom_entidad": "San Luis Potosí",
          "tono_de_color_de_piel": 4
         },
         {
          "abr_estado": "Q. Roo",
          "cuenta": 39,
          "entidad": 23,
          "estrato_socioeconomico": 2,
          "estrato_socioeconomico_nom": "Medio Bajo",
          "estratos": "2) Medio Bajo",
          "nom_entidad": "Quintana Roo",
          "tono_de_color_de_piel": 4
         },
         {
          "abr_estado": "Son.",
          "cuenta": 1,
          "entidad": 26,
          "estrato_socioeconomico": 2,
          "estrato_socioeconomico_nom": "Medio Bajo",
          "estratos": "2) Medio Bajo",
          "nom_entidad": "Sonora",
          "tono_de_color_de_piel": 1
         },
         {
          "abr_estado": "Son.",
          "cuenta": 3,
          "entidad": 26,
          "estrato_socioeconomico": 2,
          "estrato_socioeconomico_nom": "Medio Bajo",
          "estratos": "2) Medio Bajo",
          "nom_entidad": "Sonora",
          "tono_de_color_de_piel": 5
         },
         {
          "abr_estado": "Nay.",
          "cuenta": 1,
          "entidad": 18,
          "estrato_socioeconomico": 2,
          "estrato_socioeconomico_nom": "Medio Bajo",
          "estratos": "2) Medio Bajo",
          "nom_entidad": "Nayarit",
          "tono_de_color_de_piel": 2
         },
         {
          "abr_estado": "Nay.",
          "cuenta": 4,
          "entidad": 18,
          "estrato_socioeconomico": 2,
          "estrato_socioeconomico_nom": "Medio Bajo",
          "estratos": "2) Medio Bajo",
          "nom_entidad": "Nayarit",
          "tono_de_color_de_piel": 3
         },
         {
          "abr_estado": "Nay.",
          "cuenta": 8,
          "entidad": 18,
          "estrato_socioeconomico": 2,
          "estrato_socioeconomico_nom": "Medio Bajo",
          "estratos": "2) Medio Bajo",
          "nom_entidad": "Nayarit",
          "tono_de_color_de_piel": 4
         },
         {
          "abr_estado": "Nay.",
          "cuenta": 11,
          "entidad": 18,
          "estrato_socioeconomico": 2,
          "estrato_socioeconomico_nom": "Medio Bajo",
          "estratos": "2) Medio Bajo",
          "nom_entidad": "Nayarit",
          "tono_de_color_de_piel": 9
         },
         {
          "abr_estado": "NL",
          "cuenta": 14,
          "entidad": 19,
          "estrato_socioeconomico": 2,
          "estrato_socioeconomico_nom": "Medio Bajo",
          "estratos": "2) Medio Bajo",
          "nom_entidad": "Nuevo León",
          "tono_de_color_de_piel": 4
         },
         {
          "abr_estado": "Nay.",
          "cuenta": 16,
          "entidad": 18,
          "estrato_socioeconomico": 2,
          "estrato_socioeconomico_nom": "Medio Bajo",
          "estratos": "2) Medio Bajo",
          "nom_entidad": "Nayarit",
          "tono_de_color_de_piel": 10
         },
         {
          "abr_estado": "NL",
          "cuenta": 13,
          "entidad": 19,
          "estrato_socioeconomico": 2,
          "estrato_socioeconomico_nom": "Medio Bajo",
          "estratos": "2) Medio Bajo",
          "nom_entidad": "Nuevo León",
          "tono_de_color_de_piel": 9
         },
         {
          "abr_estado": "NL",
          "cuenta": 5,
          "entidad": 19,
          "estrato_socioeconomico": 2,
          "estrato_socioeconomico_nom": "Medio Bajo",
          "estratos": "2) Medio Bajo",
          "nom_entidad": "Nuevo León",
          "tono_de_color_de_piel": 3
         },
         {
          "abr_estado": "Tamps.",
          "cuenta": 1,
          "entidad": 28,
          "estrato_socioeconomico": 2,
          "estrato_socioeconomico_nom": "Medio Bajo",
          "estratos": "2) Medio Bajo",
          "nom_entidad": "Tamaulipas",
          "tono_de_color_de_piel": 1
         },
         {
          "abr_estado": "Oax.",
          "cuenta": 5,
          "entidad": 20,
          "estrato_socioeconomico": 2,
          "estrato_socioeconomico_nom": "Medio Bajo",
          "estratos": "2) Medio Bajo",
          "nom_entidad": "Oaxaca",
          "tono_de_color_de_piel": 11
         },
         {
          "abr_estado": "Oax.",
          "cuenta": 5,
          "entidad": 20,
          "estrato_socioeconomico": 2,
          "estrato_socioeconomico_nom": "Medio Bajo",
          "estratos": "2) Medio Bajo",
          "nom_entidad": "Oaxaca",
          "tono_de_color_de_piel": 3
         },
         {
          "abr_estado": "Oax.",
          "cuenta": 7,
          "entidad": 20,
          "estrato_socioeconomico": 2,
          "estrato_socioeconomico_nom": "Medio Bajo",
          "estratos": "2) Medio Bajo",
          "nom_entidad": "Oaxaca",
          "tono_de_color_de_piel": 9
         },
         {
          "abr_estado": "Oax.",
          "cuenta": 10,
          "entidad": 20,
          "estrato_socioeconomico": 2,
          "estrato_socioeconomico_nom": "Medio Bajo",
          "estratos": "2) Medio Bajo",
          "nom_entidad": "Oaxaca",
          "tono_de_color_de_piel": 5
         },
         {
          "abr_estado": "Oax.",
          "cuenta": 12,
          "entidad": 20,
          "estrato_socioeconomico": 2,
          "estrato_socioeconomico_nom": "Medio Bajo",
          "estratos": "2) Medio Bajo",
          "nom_entidad": "Oaxaca",
          "tono_de_color_de_piel": 10
         },
         {
          "abr_estado": "Oax.",
          "cuenta": 25,
          "entidad": 20,
          "estrato_socioeconomico": 2,
          "estrato_socioeconomico_nom": "Medio Bajo",
          "estratos": "2) Medio Bajo",
          "nom_entidad": "Oaxaca",
          "tono_de_color_de_piel": 4
         },
         {
          "abr_estado": "Oax.",
          "cuenta": 53,
          "entidad": 20,
          "estrato_socioeconomico": 2,
          "estrato_socioeconomico_nom": "Medio Bajo",
          "estratos": "2) Medio Bajo",
          "nom_entidad": "Oaxaca",
          "tono_de_color_de_piel": 6
         },
         {
          "abr_estado": "Oax.",
          "cuenta": 65,
          "entidad": 20,
          "estrato_socioeconomico": 2,
          "estrato_socioeconomico_nom": "Medio Bajo",
          "estratos": "2) Medio Bajo",
          "nom_entidad": "Oaxaca",
          "tono_de_color_de_piel": 8
         },
         {
          "abr_estado": "Oax.",
          "cuenta": 119,
          "entidad": 20,
          "estrato_socioeconomico": 2,
          "estrato_socioeconomico_nom": "Medio Bajo",
          "estratos": "2) Medio Bajo",
          "nom_entidad": "Oaxaca",
          "tono_de_color_de_piel": 7
         },
         {
          "abr_estado": "Tlax.",
          "cuenta": 284,
          "entidad": 29,
          "estrato_socioeconomico": 2,
          "estrato_socioeconomico_nom": "Medio Bajo",
          "estratos": "2) Medio Bajo",
          "nom_entidad": "Tlaxcala",
          "tono_de_color_de_piel": 8
         },
         {
          "abr_estado": "Tlax.",
          "cuenta": 216,
          "entidad": 29,
          "estrato_socioeconomico": 2,
          "estrato_socioeconomico_nom": "Medio Bajo",
          "estratos": "2) Medio Bajo",
          "nom_entidad": "Tlaxcala",
          "tono_de_color_de_piel": 7
         },
         {
          "abr_estado": "Tlax.",
          "cuenta": 107,
          "entidad": 29,
          "estrato_socioeconomico": 2,
          "estrato_socioeconomico_nom": "Medio Bajo",
          "estratos": "2) Medio Bajo",
          "nom_entidad": "Tlaxcala",
          "tono_de_color_de_piel": 6
         },
         {
          "abr_estado": "Tlax.",
          "cuenta": 31,
          "entidad": 29,
          "estrato_socioeconomico": 2,
          "estrato_socioeconomico_nom": "Medio Bajo",
          "estratos": "2) Medio Bajo",
          "nom_entidad": "Tlaxcala",
          "tono_de_color_de_piel": 10
         },
         {
          "abr_estado": "Tlax.",
          "cuenta": 20,
          "entidad": 29,
          "estrato_socioeconomico": 2,
          "estrato_socioeconomico_nom": "Medio Bajo",
          "estratos": "2) Medio Bajo",
          "nom_entidad": "Tlaxcala",
          "tono_de_color_de_piel": 9
         },
         {
          "abr_estado": "Tlax.",
          "cuenta": 15,
          "entidad": 29,
          "estrato_socioeconomico": 2,
          "estrato_socioeconomico_nom": "Medio Bajo",
          "estratos": "2) Medio Bajo",
          "nom_entidad": "Tlaxcala",
          "tono_de_color_de_piel": 4
         },
         {
          "abr_estado": "Tlax.",
          "cuenta": 15,
          "entidad": 29,
          "estrato_socioeconomico": 2,
          "estrato_socioeconomico_nom": "Medio Bajo",
          "estratos": "2) Medio Bajo",
          "nom_entidad": "Tlaxcala",
          "tono_de_color_de_piel": 5
         },
         {
          "abr_estado": "Tlax.",
          "cuenta": 6,
          "entidad": 29,
          "estrato_socioeconomico": 2,
          "estrato_socioeconomico_nom": "Medio Bajo",
          "estratos": "2) Medio Bajo",
          "nom_entidad": "Tlaxcala",
          "tono_de_color_de_piel": 11
         },
         {
          "abr_estado": "NL",
          "cuenta": 1,
          "entidad": 19,
          "estrato_socioeconomico": 2,
          "estrato_socioeconomico_nom": "Medio Bajo",
          "estratos": "2) Medio Bajo",
          "nom_entidad": "Nuevo León",
          "tono_de_color_de_piel": 1
         },
         {
          "abr_estado": "NL",
          "cuenta": 3,
          "entidad": 19,
          "estrato_socioeconomico": 2,
          "estrato_socioeconomico_nom": "Medio Bajo",
          "estratos": "2) Medio Bajo",
          "nom_entidad": "Nuevo León",
          "tono_de_color_de_piel": 11
         },
         {
          "abr_estado": "NL",
          "cuenta": 3,
          "entidad": 19,
          "estrato_socioeconomico": 2,
          "estrato_socioeconomico_nom": "Medio Bajo",
          "estratos": "2) Medio Bajo",
          "nom_entidad": "Nuevo León",
          "tono_de_color_de_piel": 2
         },
         {
          "abr_estado": "NL",
          "cuenta": 11,
          "entidad": 19,
          "estrato_socioeconomico": 2,
          "estrato_socioeconomico_nom": "Medio Bajo",
          "estratos": "2) Medio Bajo",
          "nom_entidad": "Nuevo León",
          "tono_de_color_de_piel": 5
         },
         {
          "abr_estado": "Q. Roo",
          "cuenta": 1,
          "entidad": 23,
          "estrato_socioeconomico": 2,
          "estrato_socioeconomico_nom": "Medio Bajo",
          "estratos": "2) Medio Bajo",
          "nom_entidad": "Quintana Roo",
          "tono_de_color_de_piel": 2
         },
         {
          "abr_estado": "Ags.",
          "cuenta": 138,
          "entidad": 1,
          "estrato_socioeconomico": 2,
          "estrato_socioeconomico_nom": "Medio Bajo",
          "estratos": "2) Medio Bajo",
          "nom_entidad": "Aguascalientes",
          "tono_de_color_de_piel": 7
         },
         {
          "abr_estado": "Gro.",
          "cuenta": 1,
          "entidad": 12,
          "estrato_socioeconomico": 2,
          "estrato_socioeconomico_nom": "Medio Bajo",
          "estratos": "2) Medio Bajo",
          "nom_entidad": "Guerrero",
          "tono_de_color_de_piel": 1
         },
         {
          "abr_estado": "Chih.",
          "cuenta": 37,
          "entidad": 8,
          "estrato_socioeconomico": 2,
          "estrato_socioeconomico_nom": "Medio Bajo",
          "estratos": "2) Medio Bajo",
          "nom_entidad": "Chihuahua",
          "tono_de_color_de_piel": 6
         },
         {
          "abr_estado": "Chih.",
          "cuenta": 103,
          "entidad": 8,
          "estrato_socioeconomico": 2,
          "estrato_socioeconomico_nom": "Medio Bajo",
          "estratos": "2) Medio Bajo",
          "nom_entidad": "Chihuahua",
          "tono_de_color_de_piel": 7
         },
         {
          "abr_estado": "Chih.",
          "cuenta": 121,
          "entidad": 8,
          "estrato_socioeconomico": 2,
          "estrato_socioeconomico_nom": "Medio Bajo",
          "estratos": "2) Medio Bajo",
          "nom_entidad": "Chihuahua",
          "tono_de_color_de_piel": 8
         },
         {
          "abr_estado": "BCS",
          "cuenta": 8,
          "entidad": 3,
          "estrato_socioeconomico": 2,
          "estrato_socioeconomico_nom": "Medio Bajo",
          "estratos": "2) Medio Bajo",
          "nom_entidad": "Baja California Sur",
          "tono_de_color_de_piel": 4
         },
         {
          "abr_estado": "BCS",
          "cuenta": 6,
          "entidad": 3,
          "estrato_socioeconomico": 2,
          "estrato_socioeconomico_nom": "Medio Bajo",
          "estratos": "2) Medio Bajo",
          "nom_entidad": "Baja California Sur",
          "tono_de_color_de_piel": 3
         },
         {
          "abr_estado": "BCS",
          "cuenta": 3,
          "entidad": 3,
          "estrato_socioeconomico": 2,
          "estrato_socioeconomico_nom": "Medio Bajo",
          "estratos": "2) Medio Bajo",
          "nom_entidad": "Baja California Sur",
          "tono_de_color_de_piel": 2
         },
         {
          "abr_estado": "Gro.",
          "cuenta": 46,
          "entidad": 12,
          "estrato_socioeconomico": 2,
          "estrato_socioeconomico_nom": "Medio Bajo",
          "estratos": "2) Medio Bajo",
          "nom_entidad": "Guerrero",
          "tono_de_color_de_piel": 6
         },
         {
          "abr_estado": "Col.",
          "cuenta": 27,
          "entidad": 6,
          "estrato_socioeconomico": 2,
          "estrato_socioeconomico_nom": "Medio Bajo",
          "estratos": "2) Medio Bajo",
          "nom_entidad": "Colima",
          "tono_de_color_de_piel": 9
         },
         {
          "abr_estado": "Gro.",
          "cuenta": 57,
          "entidad": 12,
          "estrato_socioeconomico": 2,
          "estrato_socioeconomico_nom": "Medio Bajo",
          "estratos": "2) Medio Bajo",
          "nom_entidad": "Guerrero",
          "tono_de_color_de_piel": 8
         },
         {
          "abr_estado": "Col.",
          "cuenta": 23,
          "entidad": 6,
          "estrato_socioeconomico": 2,
          "estrato_socioeconomico_nom": "Medio Bajo",
          "estratos": "2) Medio Bajo",
          "nom_entidad": "Colima",
          "tono_de_color_de_piel": 10
         },
         {
          "abr_estado": "Col.",
          "cuenta": 21,
          "entidad": 6,
          "estrato_socioeconomico": 2,
          "estrato_socioeconomico_nom": "Medio Bajo",
          "estratos": "2) Medio Bajo",
          "nom_entidad": "Colima",
          "tono_de_color_de_piel": 5
         },
         {
          "abr_estado": "Col.",
          "cuenta": 15,
          "entidad": 6,
          "estrato_socioeconomico": 2,
          "estrato_socioeconomico_nom": "Medio Bajo",
          "estratos": "2) Medio Bajo",
          "nom_entidad": "Colima",
          "tono_de_color_de_piel": 4
         },
         {
          "abr_estado": "Col.",
          "cuenta": 11,
          "entidad": 6,
          "estrato_socioeconomico": 2,
          "estrato_socioeconomico_nom": "Medio Bajo",
          "estratos": "2) Medio Bajo",
          "nom_entidad": "Colima",
          "tono_de_color_de_piel": 11
         },
         {
          "abr_estado": "Col.",
          "cuenta": 4,
          "entidad": 6,
          "estrato_socioeconomico": 2,
          "estrato_socioeconomico_nom": "Medio Bajo",
          "estratos": "2) Medio Bajo",
          "nom_entidad": "Colima",
          "tono_de_color_de_piel": 3
         },
         {
          "abr_estado": "Col.",
          "cuenta": 1,
          "entidad": 6,
          "estrato_socioeconomico": 2,
          "estrato_socioeconomico_nom": "Medio Bajo",
          "estratos": "2) Medio Bajo",
          "nom_entidad": "Colima",
          "tono_de_color_de_piel": 1
         },
         {
          "abr_estado": "Gto.",
          "cuenta": 1,
          "entidad": 11,
          "estrato_socioeconomico": 2,
          "estrato_socioeconomico_nom": "Medio Bajo",
          "estratos": "2) Medio Bajo",
          "nom_entidad": "Guanajuato",
          "tono_de_color_de_piel": 1
         },
         {
          "abr_estado": "Gro.",
          "cuenta": 101,
          "entidad": 12,
          "estrato_socioeconomico": 2,
          "estrato_socioeconomico_nom": "Medio Bajo",
          "estratos": "2) Medio Bajo",
          "nom_entidad": "Guerrero",
          "tono_de_color_de_piel": 7
         },
         {
          "abr_estado": "Dgo.",
          "cuenta": 193,
          "entidad": 10,
          "estrato_socioeconomico": 2,
          "estrato_socioeconomico_nom": "Medio Bajo",
          "estratos": "2) Medio Bajo",
          "nom_entidad": "Durango",
          "tono_de_color_de_piel": 8
         },
         {
          "abr_estado": "Col.",
          "cuenta": 81,
          "entidad": 6,
          "estrato_socioeconomico": 2,
          "estrato_socioeconomico_nom": "Medio Bajo",
          "estratos": "2) Medio Bajo",
          "nom_entidad": "Colima",
          "tono_de_color_de_piel": 6
         },
         {
          "abr_estado": "Col.",
          "cuenta": 163,
          "entidad": 6,
          "estrato_socioeconomico": 2,
          "estrato_socioeconomico_nom": "Medio Bajo",
          "estratos": "2) Medio Bajo",
          "nom_entidad": "Colima",
          "tono_de_color_de_piel": 8
         },
         {
          "abr_estado": "CDMX",
          "cuenta": 1,
          "entidad": 9,
          "estrato_socioeconomico": 2,
          "estrato_socioeconomico_nom": "Medio Bajo",
          "estratos": "2) Medio Bajo",
          "nom_entidad": "Ciudad de México",
          "tono_de_color_de_piel": 2
         },
         {
          "abr_estado": "Chih.",
          "cuenta": 1,
          "entidad": 8,
          "estrato_socioeconomico": 2,
          "estrato_socioeconomico_nom": "Medio Bajo",
          "estratos": "2) Medio Bajo",
          "nom_entidad": "Chihuahua",
          "tono_de_color_de_piel": 3
         },
         {
          "abr_estado": "Chih.",
          "cuenta": 1,
          "entidad": 8,
          "estrato_socioeconomico": 2,
          "estrato_socioeconomico_nom": "Medio Bajo",
          "estratos": "2) Medio Bajo",
          "nom_entidad": "Chihuahua",
          "tono_de_color_de_piel": 2
         },
         {
          "abr_estado": "Chih.",
          "cuenta": 7,
          "entidad": 8,
          "estrato_socioeconomico": 2,
          "estrato_socioeconomico_nom": "Medio Bajo",
          "estratos": "2) Medio Bajo",
          "nom_entidad": "Chihuahua",
          "tono_de_color_de_piel": 4
         },
         {
          "abr_estado": "Chih.",
          "cuenta": 9,
          "entidad": 8,
          "estrato_socioeconomico": 2,
          "estrato_socioeconomico_nom": "Medio Bajo",
          "estratos": "2) Medio Bajo",
          "nom_entidad": "Chihuahua",
          "tono_de_color_de_piel": 5
         },
         {
          "abr_estado": "Chih.",
          "cuenta": 10,
          "entidad": 8,
          "estrato_socioeconomico": 2,
          "estrato_socioeconomico_nom": "Medio Bajo",
          "estratos": "2) Medio Bajo",
          "nom_entidad": "Chihuahua",
          "tono_de_color_de_piel": 11
         },
         {
          "abr_estado": "Gro.",
          "cuenta": 1,
          "entidad": 12,
          "estrato_socioeconomico": 2,
          "estrato_socioeconomico_nom": "Medio Bajo",
          "estratos": "2) Medio Bajo",
          "nom_entidad": "Guerrero",
          "tono_de_color_de_piel": 2
         },
         {
          "abr_estado": "Col.",
          "cuenta": 153,
          "entidad": 6,
          "estrato_socioeconomico": 2,
          "estrato_socioeconomico_nom": "Medio Bajo",
          "estratos": "2) Medio Bajo",
          "nom_entidad": "Colima",
          "tono_de_color_de_piel": 7
         },
         {
          "abr_estado": "Chis.",
          "cuenta": 2,
          "entidad": 7,
          "estrato_socioeconomico": 2,
          "estrato_socioeconomico_nom": "Medio Bajo",
          "estratos": "2) Medio Bajo",
          "nom_entidad": "Chiapas",
          "tono_de_color_de_piel": 1
         },
         {
          "abr_estado": "Gro.",
          "cuenta": 4,
          "entidad": 12,
          "estrato_socioeconomico": 2,
          "estrato_socioeconomico_nom": "Medio Bajo",
          "estratos": "2) Medio Bajo",
          "nom_entidad": "Guerrero",
          "tono_de_color_de_piel": 11
         },
         {
          "abr_estado": "Gro.",
          "cuenta": 9,
          "entidad": 12,
          "estrato_socioeconomico": 2,
          "estrato_socioeconomico_nom": "Medio Bajo",
          "estratos": "2) Medio Bajo",
          "nom_entidad": "Guerrero",
          "tono_de_color_de_piel": 10
         },
         {
          "abr_estado": "Gro.",
          "cuenta": 9,
          "entidad": 12,
          "estrato_socioeconomico": 2,
          "estrato_socioeconomico_nom": "Medio Bajo",
          "estratos": "2) Medio Bajo",
          "nom_entidad": "Guerrero",
          "tono_de_color_de_piel": 9
         },
         {
          "abr_estado": "Gro.",
          "cuenta": 9,
          "entidad": 12,
          "estrato_socioeconomico": 2,
          "estrato_socioeconomico_nom": "Medio Bajo",
          "estratos": "2) Medio Bajo",
          "nom_entidad": "Guerrero",
          "tono_de_color_de_piel": 5
         },
         {
          "abr_estado": "Gro.",
          "cuenta": 13,
          "entidad": 12,
          "estrato_socioeconomico": 2,
          "estrato_socioeconomico_nom": "Medio Bajo",
          "estratos": "2) Medio Bajo",
          "nom_entidad": "Guerrero",
          "tono_de_color_de_piel": 4
         },
         {
          "abr_estado": "Chih.",
          "cuenta": 13,
          "entidad": 8,
          "estrato_socioeconomico": 2,
          "estrato_socioeconomico_nom": "Medio Bajo",
          "estratos": "2) Medio Bajo",
          "nom_entidad": "Chihuahua",
          "tono_de_color_de_piel": 9
         },
         {
          "abr_estado": "Chih.",
          "cuenta": 22,
          "entidad": 8,
          "estrato_socioeconomico": 2,
          "estrato_socioeconomico_nom": "Medio Bajo",
          "estratos": "2) Medio Bajo",
          "nom_entidad": "Chihuahua",
          "tono_de_color_de_piel": 10
         },
         {
          "abr_estado": "Gro.",
          "cuenta": 3,
          "entidad": 12,
          "estrato_socioeconomico": 2,
          "estrato_socioeconomico_nom": "Medio Bajo",
          "estratos": "2) Medio Bajo",
          "nom_entidad": "Guerrero",
          "tono_de_color_de_piel": 3
         },
         {
          "abr_estado": "Dgo.",
          "cuenta": 149,
          "entidad": 10,
          "estrato_socioeconomico": 2,
          "estrato_socioeconomico_nom": "Medio Bajo",
          "estratos": "2) Medio Bajo",
          "nom_entidad": "Durango",
          "tono_de_color_de_piel": 7
         },
         {
          "abr_estado": "Dgo.",
          "cuenta": 47,
          "entidad": 10,
          "estrato_socioeconomico": 2,
          "estrato_socioeconomico_nom": "Medio Bajo",
          "estratos": "2) Medio Bajo",
          "nom_entidad": "Durango",
          "tono_de_color_de_piel": 6
         },
         {
          "abr_estado": "Dgo.",
          "cuenta": 17,
          "entidad": 10,
          "estrato_socioeconomico": 2,
          "estrato_socioeconomico_nom": "Medio Bajo",
          "estratos": "2) Medio Bajo",
          "nom_entidad": "Durango",
          "tono_de_color_de_piel": 10
         },
         {
          "abr_estado": "Chis.",
          "cuenta": 115,
          "entidad": 7,
          "estrato_socioeconomico": 2,
          "estrato_socioeconomico_nom": "Medio Bajo",
          "estratos": "2) Medio Bajo",
          "nom_entidad": "Chiapas",
          "tono_de_color_de_piel": 8
         },
         {
          "abr_estado": "Chis.",
          "cuenta": 101,
          "entidad": 7,
          "estrato_socioeconomico": 2,
          "estrato_socioeconomico_nom": "Medio Bajo",
          "estratos": "2) Medio Bajo",
          "nom_entidad": "Chiapas",
          "tono_de_color_de_piel": 7
         },
         {
          "abr_estado": "Chis.",
          "cuenta": 42,
          "entidad": 7,
          "estrato_socioeconomico": 2,
          "estrato_socioeconomico_nom": "Medio Bajo",
          "estratos": "2) Medio Bajo",
          "nom_entidad": "Chiapas",
          "tono_de_color_de_piel": 6
         },
         {
          "abr_estado": "Chis.",
          "cuenta": 17,
          "entidad": 7,
          "estrato_socioeconomico": 2,
          "estrato_socioeconomico_nom": "Medio Bajo",
          "estratos": "2) Medio Bajo",
          "nom_entidad": "Chiapas",
          "tono_de_color_de_piel": 10
         },
         {
          "abr_estado": "Chis.",
          "cuenta": 9,
          "entidad": 7,
          "estrato_socioeconomico": 2,
          "estrato_socioeconomico_nom": "Medio Bajo",
          "estratos": "2) Medio Bajo",
          "nom_entidad": "Chiapas",
          "tono_de_color_de_piel": 5
         },
         {
          "abr_estado": "Chis.",
          "cuenta": 9,
          "entidad": 7,
          "estrato_socioeconomico": 2,
          "estrato_socioeconomico_nom": "Medio Bajo",
          "estratos": "2) Medio Bajo",
          "nom_entidad": "Chiapas",
          "tono_de_color_de_piel": 9
         },
         {
          "abr_estado": "Chis.",
          "cuenta": 9,
          "entidad": 7,
          "estrato_socioeconomico": 2,
          "estrato_socioeconomico_nom": "Medio Bajo",
          "estratos": "2) Medio Bajo",
          "nom_entidad": "Chiapas",
          "tono_de_color_de_piel": 11
         },
         {
          "abr_estado": "BC",
          "cuenta": 58,
          "entidad": 2,
          "estrato_socioeconomico": 2,
          "estrato_socioeconomico_nom": "Medio Bajo",
          "estratos": "2) Medio Bajo",
          "nom_entidad": "Baja California",
          "tono_de_color_de_piel": 9
         },
         {
          "abr_estado": "Chis.",
          "cuenta": 7,
          "entidad": 7,
          "estrato_socioeconomico": 2,
          "estrato_socioeconomico_nom": "Medio Bajo",
          "estratos": "2) Medio Bajo",
          "nom_entidad": "Chiapas",
          "tono_de_color_de_piel": 4
         },
         {
          "abr_estado": "BC",
          "cuenta": 32,
          "entidad": 2,
          "estrato_socioeconomico": 2,
          "estrato_socioeconomico_nom": "Medio Bajo",
          "estratos": "2) Medio Bajo",
          "nom_entidad": "Baja California",
          "tono_de_color_de_piel": 6
         },
         {
          "abr_estado": "BC",
          "cuenta": 14,
          "entidad": 2,
          "estrato_socioeconomico": 2,
          "estrato_socioeconomico_nom": "Medio Bajo",
          "estratos": "2) Medio Bajo",
          "nom_entidad": "Baja California",
          "tono_de_color_de_piel": 10
         },
         {
          "abr_estado": "BC",
          "cuenta": 6,
          "entidad": 2,
          "estrato_socioeconomico": 2,
          "estrato_socioeconomico_nom": "Medio Bajo",
          "estratos": "2) Medio Bajo",
          "nom_entidad": "Baja California",
          "tono_de_color_de_piel": 5
         },
         {
          "abr_estado": "BC",
          "cuenta": 6,
          "entidad": 2,
          "estrato_socioeconomico": 2,
          "estrato_socioeconomico_nom": "Medio Bajo",
          "estratos": "2) Medio Bajo",
          "nom_entidad": "Baja California",
          "tono_de_color_de_piel": 11
         },
         {
          "abr_estado": "BC",
          "cuenta": 2,
          "entidad": 2,
          "estrato_socioeconomico": 2,
          "estrato_socioeconomico_nom": "Medio Bajo",
          "estratos": "2) Medio Bajo",
          "nom_entidad": "Baja California",
          "tono_de_color_de_piel": 4
         },
         {
          "abr_estado": "BC",
          "cuenta": 1,
          "entidad": 2,
          "estrato_socioeconomico": 2,
          "estrato_socioeconomico_nom": "Medio Bajo",
          "estratos": "2) Medio Bajo",
          "nom_entidad": "Baja California",
          "tono_de_color_de_piel": 1
         },
         {
          "abr_estado": "BC",
          "cuenta": 1,
          "entidad": 2,
          "estrato_socioeconomico": 2,
          "estrato_socioeconomico_nom": "Medio Bajo",
          "estratos": "2) Medio Bajo",
          "nom_entidad": "Baja California",
          "tono_de_color_de_piel": 3
         },
         {
          "abr_estado": "Chis.",
          "cuenta": 6,
          "entidad": 7,
          "estrato_socioeconomico": 2,
          "estrato_socioeconomico_nom": "Medio Bajo",
          "estratos": "2) Medio Bajo",
          "nom_entidad": "Chiapas",
          "tono_de_color_de_piel": 3
         },
         {
          "abr_estado": "BC",
          "cuenta": 91,
          "entidad": 2,
          "estrato_socioeconomico": 2,
          "estrato_socioeconomico_nom": "Medio Bajo",
          "estratos": "2) Medio Bajo",
          "nom_entidad": "Baja California",
          "tono_de_color_de_piel": 7
         },
         {
          "abr_estado": "BC",
          "cuenta": 127,
          "entidad": 2,
          "estrato_socioeconomico": 2,
          "estrato_socioeconomico_nom": "Medio Bajo",
          "estratos": "2) Medio Bajo",
          "nom_entidad": "Baja California",
          "tono_de_color_de_piel": 8
         },
         {
          "abr_estado": "Gto.",
          "cuenta": 169,
          "entidad": 11,
          "estrato_socioeconomico": 2,
          "estrato_socioeconomico_nom": "Medio Bajo",
          "estratos": "2) Medio Bajo",
          "nom_entidad": "Guanajuato",
          "tono_de_color_de_piel": 8
         },
         {
          "abr_estado": "Dgo.",
          "cuenta": 16,
          "entidad": 10,
          "estrato_socioeconomico": 2,
          "estrato_socioeconomico_nom": "Medio Bajo",
          "estratos": "2) Medio Bajo",
          "nom_entidad": "Durango",
          "tono_de_color_de_piel": 9
         },
         {
          "abr_estado": "Dgo.",
          "cuenta": 13,
          "entidad": 10,
          "estrato_socioeconomico": 2,
          "estrato_socioeconomico_nom": "Medio Bajo",
          "estratos": "2) Medio Bajo",
          "nom_entidad": "Durango",
          "tono_de_color_de_piel": 5
         },
         {
          "abr_estado": "Dgo.",
          "cuenta": 10,
          "entidad": 10,
          "estrato_socioeconomico": 2,
          "estrato_socioeconomico_nom": "Medio Bajo",
          "estratos": "2) Medio Bajo",
          "nom_entidad": "Durango",
          "tono_de_color_de_piel": 4
         },
         {
          "abr_estado": "Dgo.",
          "cuenta": 9,
          "entidad": 10,
          "estrato_socioeconomico": 2,
          "estrato_socioeconomico_nom": "Medio Bajo",
          "estratos": "2) Medio Bajo",
          "nom_entidad": "Durango",
          "tono_de_color_de_piel": 11
         },
         {
          "abr_estado": "Dgo.",
          "cuenta": 4,
          "entidad": 10,
          "estrato_socioeconomico": 2,
          "estrato_socioeconomico_nom": "Medio Bajo",
          "estratos": "2) Medio Bajo",
          "nom_entidad": "Durango",
          "tono_de_color_de_piel": 3
         },
         {
          "abr_estado": "Dgo.",
          "cuenta": 2,
          "entidad": 10,
          "estrato_socioeconomico": 2,
          "estrato_socioeconomico_nom": "Medio Bajo",
          "estratos": "2) Medio Bajo",
          "nom_entidad": "Durango",
          "tono_de_color_de_piel": 1
         },
         {
          "abr_estado": "Dgo.",
          "cuenta": 1,
          "entidad": 10,
          "estrato_socioeconomico": 2,
          "estrato_socioeconomico_nom": "Medio Bajo",
          "estratos": "2) Medio Bajo",
          "nom_entidad": "Durango",
          "tono_de_color_de_piel": 2
         },
         {
          "abr_estado": "BCS",
          "cuenta": 1,
          "entidad": 3,
          "estrato_socioeconomico": 2,
          "estrato_socioeconomico_nom": "Medio Bajo",
          "estratos": "2) Medio Bajo",
          "nom_entidad": "Baja California Sur",
          "tono_de_color_de_piel": 1
         },
         {
          "abr_estado": "Gto.",
          "cuenta": 4,
          "entidad": 11,
          "estrato_socioeconomico": 2,
          "estrato_socioeconomico_nom": "Medio Bajo",
          "estratos": "2) Medio Bajo",
          "nom_entidad": "Guanajuato",
          "tono_de_color_de_piel": 3
         },
         {
          "abr_estado": "Gto.",
          "cuenta": 4,
          "entidad": 11,
          "estrato_socioeconomico": 2,
          "estrato_socioeconomico_nom": "Medio Bajo",
          "estratos": "2) Medio Bajo",
          "nom_entidad": "Guanajuato",
          "tono_de_color_de_piel": 2
         },
         {
          "abr_estado": "Gto.",
          "cuenta": 6,
          "entidad": 11,
          "estrato_socioeconomico": 2,
          "estrato_socioeconomico_nom": "Medio Bajo",
          "estratos": "2) Medio Bajo",
          "nom_entidad": "Guanajuato",
          "tono_de_color_de_piel": 11
         },
         {
          "abr_estado": "Gto.",
          "cuenta": 22,
          "entidad": 11,
          "estrato_socioeconomico": 2,
          "estrato_socioeconomico_nom": "Medio Bajo",
          "estratos": "2) Medio Bajo",
          "nom_entidad": "Guanajuato",
          "tono_de_color_de_piel": 5
         },
         {
          "abr_estado": "Gto.",
          "cuenta": 23,
          "entidad": 11,
          "estrato_socioeconomico": 2,
          "estrato_socioeconomico_nom": "Medio Bajo",
          "estratos": "2) Medio Bajo",
          "nom_entidad": "Guanajuato",
          "tono_de_color_de_piel": 9
         },
         {
          "abr_estado": "Gto.",
          "cuenta": 23,
          "entidad": 11,
          "estrato_socioeconomico": 2,
          "estrato_socioeconomico_nom": "Medio Bajo",
          "estratos": "2) Medio Bajo",
          "nom_entidad": "Guanajuato",
          "tono_de_color_de_piel": 4
         },
         {
          "abr_estado": "Gto.",
          "cuenta": 25,
          "entidad": 11,
          "estrato_socioeconomico": 2,
          "estrato_socioeconomico_nom": "Medio Bajo",
          "estratos": "2) Medio Bajo",
          "nom_entidad": "Guanajuato",
          "tono_de_color_de_piel": 10
         },
         {
          "abr_estado": "Gto.",
          "cuenta": 116,
          "entidad": 11,
          "estrato_socioeconomico": 2,
          "estrato_socioeconomico_nom": "Medio Bajo",
          "estratos": "2) Medio Bajo",
          "nom_entidad": "Guanajuato",
          "tono_de_color_de_piel": 6
         },
         {
          "abr_estado": "Gto.",
          "cuenta": 162,
          "entidad": 11,
          "estrato_socioeconomico": 2,
          "estrato_socioeconomico_nom": "Medio Bajo",
          "estratos": "2) Medio Bajo",
          "nom_entidad": "Guanajuato",
          "tono_de_color_de_piel": 7
         },
         {
          "abr_estado": "CDMX",
          "cuenta": 1,
          "entidad": 9,
          "estrato_socioeconomico": 2,
          "estrato_socioeconomico_nom": "Medio Bajo",
          "estratos": "2) Medio Bajo",
          "nom_entidad": "Ciudad de México",
          "tono_de_color_de_piel": 1
         },
         {
          "abr_estado": "CDMX",
          "cuenta": 3,
          "entidad": 9,
          "estrato_socioeconomico": 2,
          "estrato_socioeconomico_nom": "Medio Bajo",
          "estratos": "2) Medio Bajo",
          "nom_entidad": "Ciudad de México",
          "tono_de_color_de_piel": 3
         },
         {
          "abr_estado": "Chis.",
          "cuenta": 1,
          "entidad": 7,
          "estrato_socioeconomico": 2,
          "estrato_socioeconomico_nom": "Medio Bajo",
          "estratos": "2) Medio Bajo",
          "nom_entidad": "Chiapas",
          "tono_de_color_de_piel": 2
         },
         {
          "abr_estado": "Hgo.",
          "cuenta": 156,
          "entidad": 13,
          "estrato_socioeconomico": 2,
          "estrato_socioeconomico_nom": "Medio Bajo",
          "estratos": "2) Medio Bajo",
          "nom_entidad": "Hidalgo",
          "tono_de_color_de_piel": 7
         },
         {
          "abr_estado": "Jal.",
          "cuenta": 110,
          "entidad": 14,
          "estrato_socioeconomico": 2,
          "estrato_socioeconomico_nom": "Medio Bajo",
          "estratos": "2) Medio Bajo",
          "nom_entidad": "Jalisco",
          "tono_de_color_de_piel": 7
         },
         {
          "abr_estado": "Ags.",
          "cuenta": 12,
          "entidad": 1,
          "estrato_socioeconomico": 2,
          "estrato_socioeconomico_nom": "Medio Bajo",
          "estratos": "2) Medio Bajo",
          "nom_entidad": "Aguascalientes",
          "tono_de_color_de_piel": 4
         },
         {
          "abr_estado": "Ags.",
          "cuenta": 18,
          "entidad": 1,
          "estrato_socioeconomico": 2,
          "estrato_socioeconomico_nom": "Medio Bajo",
          "estratos": "2) Medio Bajo",
          "nom_entidad": "Aguascalientes",
          "tono_de_color_de_piel": 10
         },
         {
          "abr_estado": "Ags.",
          "cuenta": 22,
          "entidad": 1,
          "estrato_socioeconomico": 2,
          "estrato_socioeconomico_nom": "Medio Bajo",
          "estratos": "2) Medio Bajo",
          "nom_entidad": "Aguascalientes",
          "tono_de_color_de_piel": 9
         },
         {
          "abr_estado": "Ags.",
          "cuenta": 52,
          "entidad": 1,
          "estrato_socioeconomico": 2,
          "estrato_socioeconomico_nom": "Medio Bajo",
          "estratos": "2) Medio Bajo",
          "nom_entidad": "Aguascalientes",
          "tono_de_color_de_piel": 6
         },
         {
          "abr_estado": "Jal.",
          "cuenta": 2,
          "entidad": 14,
          "estrato_socioeconomico": 2,
          "estrato_socioeconomico_nom": "Medio Bajo",
          "estratos": "2) Medio Bajo",
          "nom_entidad": "Jalisco",
          "tono_de_color_de_piel": 11
         },
         {
          "abr_estado": "Jal.",
          "cuenta": 2,
          "entidad": 14,
          "estrato_socioeconomico": 2,
          "estrato_socioeconomico_nom": "Medio Bajo",
          "estratos": "2) Medio Bajo",
          "nom_entidad": "Jalisco",
          "tono_de_color_de_piel": 2
         },
         {
          "abr_estado": "Jal.",
          "cuenta": 3,
          "entidad": 14,
          "estrato_socioeconomico": 2,
          "estrato_socioeconomico_nom": "Medio Bajo",
          "estratos": "2) Medio Bajo",
          "nom_entidad": "Jalisco",
          "tono_de_color_de_piel": 3
         },
         {
          "abr_estado": "Jal.",
          "cuenta": 10,
          "entidad": 14,
          "estrato_socioeconomico": 2,
          "estrato_socioeconomico_nom": "Medio Bajo",
          "estratos": "2) Medio Bajo",
          "nom_entidad": "Jalisco",
          "tono_de_color_de_piel": 5
         },
         {
          "abr_estado": "Jal.",
          "cuenta": 13,
          "entidad": 14,
          "estrato_socioeconomico": 2,
          "estrato_socioeconomico_nom": "Medio Bajo",
          "estratos": "2) Medio Bajo",
          "nom_entidad": "Jalisco",
          "tono_de_color_de_piel": 4
         },
         {
          "abr_estado": "Jal.",
          "cuenta": 25,
          "entidad": 14,
          "estrato_socioeconomico": 2,
          "estrato_socioeconomico_nom": "Medio Bajo",
          "estratos": "2) Medio Bajo",
          "nom_entidad": "Jalisco",
          "tono_de_color_de_piel": 9
         },
         {
          "abr_estado": "Jal.",
          "cuenta": 28,
          "entidad": 14,
          "estrato_socioeconomico": 2,
          "estrato_socioeconomico_nom": "Medio Bajo",
          "estratos": "2) Medio Bajo",
          "nom_entidad": "Jalisco",
          "tono_de_color_de_piel": 10
         },
         {
          "abr_estado": "Ags.",
          "cuenta": 138,
          "entidad": 1,
          "estrato_socioeconomico": 2,
          "estrato_socioeconomico_nom": "Medio Bajo",
          "estratos": "2) Medio Bajo",
          "nom_entidad": "Aguascalientes",
          "tono_de_color_de_piel": 8
         },
         {
          "abr_estado": "Coah.",
          "cuenta": 3,
          "entidad": 5,
          "estrato_socioeconomico": 2,
          "estrato_socioeconomico_nom": "Medio Bajo",
          "estratos": "2) Medio Bajo",
          "nom_entidad": "Coahuila de Zaragoza",
          "tono_de_color_de_piel": 3
         },
         {
          "abr_estado": "Coah.",
          "cuenta": 5,
          "entidad": 5,
          "estrato_socioeconomico": 2,
          "estrato_socioeconomico_nom": "Medio Bajo",
          "estratos": "2) Medio Bajo",
          "nom_entidad": "Coahuila de Zaragoza",
          "tono_de_color_de_piel": 2
         },
         {
          "abr_estado": "Coah.",
          "cuenta": 6,
          "entidad": 5,
          "estrato_socioeconomico": 2,
          "estrato_socioeconomico_nom": "Medio Bajo",
          "estratos": "2) Medio Bajo",
          "nom_entidad": "Coahuila de Zaragoza",
          "tono_de_color_de_piel": 11
         },
         {
          "abr_estado": "Coah.",
          "cuenta": 7,
          "entidad": 5,
          "estrato_socioeconomico": 2,
          "estrato_socioeconomico_nom": "Medio Bajo",
          "estratos": "2) Medio Bajo",
          "nom_entidad": "Coahuila de Zaragoza",
          "tono_de_color_de_piel": 4
         },
         {
          "abr_estado": "Jal.",
          "cuenta": 190,
          "entidad": 14,
          "estrato_socioeconomico": 2,
          "estrato_socioeconomico_nom": "Medio Bajo",
          "estratos": "2) Medio Bajo",
          "nom_entidad": "Jalisco",
          "tono_de_color_de_piel": 8
         },
         {
          "abr_estado": "Camp.",
          "cuenta": 2,
          "entidad": 4,
          "estrato_socioeconomico": 2,
          "estrato_socioeconomico_nom": "Medio Bajo",
          "estratos": "2) Medio Bajo",
          "nom_entidad": "Campeche",
          "tono_de_color_de_piel": 1
         },
         {
          "abr_estado": "Camp.",
          "cuenta": 4,
          "entidad": 4,
          "estrato_socioeconomico": 2,
          "estrato_socioeconomico_nom": "Medio Bajo",
          "estratos": "2) Medio Bajo",
          "nom_entidad": "Campeche",
          "tono_de_color_de_piel": 3
         },
         {
          "abr_estado": "Camp.",
          "cuenta": 5,
          "entidad": 4,
          "estrato_socioeconomico": 2,
          "estrato_socioeconomico_nom": "Medio Bajo",
          "estratos": "2) Medio Bajo",
          "nom_entidad": "Campeche",
          "tono_de_color_de_piel": 2
         },
         {
          "abr_estado": "Camp.",
          "cuenta": 6,
          "entidad": 4,
          "estrato_socioeconomico": 2,
          "estrato_socioeconomico_nom": "Medio Bajo",
          "estratos": "2) Medio Bajo",
          "nom_entidad": "Campeche",
          "tono_de_color_de_piel": 5
         },
         {
          "abr_estado": "Camp.",
          "cuenta": 8,
          "entidad": 4,
          "estrato_socioeconomico": 2,
          "estrato_socioeconomico_nom": "Medio Bajo",
          "estratos": "2) Medio Bajo",
          "nom_entidad": "Campeche",
          "tono_de_color_de_piel": 11
         },
         {
          "abr_estado": "CDMX",
          "cuenta": 7,
          "entidad": 9,
          "estrato_socioeconomico": 2,
          "estrato_socioeconomico_nom": "Medio Bajo",
          "estratos": "2) Medio Bajo",
          "nom_entidad": "Ciudad de México",
          "tono_de_color_de_piel": 11
         },
         {
          "abr_estado": "Camp.",
          "cuenta": 16,
          "entidad": 4,
          "estrato_socioeconomico": 2,
          "estrato_socioeconomico_nom": "Medio Bajo",
          "estratos": "2) Medio Bajo",
          "nom_entidad": "Campeche",
          "tono_de_color_de_piel": 9
         },
         {
          "abr_estado": "Coah.",
          "cuenta": 121,
          "entidad": 5,
          "estrato_socioeconomico": 2,
          "estrato_socioeconomico_nom": "Medio Bajo",
          "estratos": "2) Medio Bajo",
          "nom_entidad": "Coahuila de Zaragoza",
          "tono_de_color_de_piel": 8
         },
         {
          "abr_estado": "Coah.",
          "cuenta": 102,
          "entidad": 5,
          "estrato_socioeconomico": 2,
          "estrato_socioeconomico_nom": "Medio Bajo",
          "estratos": "2) Medio Bajo",
          "nom_entidad": "Coahuila de Zaragoza",
          "tono_de_color_de_piel": 7
         },
         {
          "abr_estado": "Coah.",
          "cuenta": 57,
          "entidad": 5,
          "estrato_socioeconomico": 2,
          "estrato_socioeconomico_nom": "Medio Bajo",
          "estratos": "2) Medio Bajo",
          "nom_entidad": "Coahuila de Zaragoza",
          "tono_de_color_de_piel": 6
         },
         {
          "abr_estado": "Coah.",
          "cuenta": 16,
          "entidad": 5,
          "estrato_socioeconomico": 2,
          "estrato_socioeconomico_nom": "Medio Bajo",
          "estratos": "2) Medio Bajo",
          "nom_entidad": "Coahuila de Zaragoza",
          "tono_de_color_de_piel": 9
         },
         {
          "abr_estado": "Coah.",
          "cuenta": 16,
          "entidad": 5,
          "estrato_socioeconomico": 2,
          "estrato_socioeconomico_nom": "Medio Bajo",
          "estratos": "2) Medio Bajo",
          "nom_entidad": "Coahuila de Zaragoza",
          "tono_de_color_de_piel": 10
         },
         {
          "abr_estado": "Coah.",
          "cuenta": 11,
          "entidad": 5,
          "estrato_socioeconomico": 2,
          "estrato_socioeconomico_nom": "Medio Bajo",
          "estratos": "2) Medio Bajo",
          "nom_entidad": "Coahuila de Zaragoza",
          "tono_de_color_de_piel": 5
         },
         {
          "abr_estado": "Camp.",
          "cuenta": 20,
          "entidad": 4,
          "estrato_socioeconomico": 2,
          "estrato_socioeconomico_nom": "Medio Bajo",
          "estratos": "2) Medio Bajo",
          "nom_entidad": "Campeche",
          "tono_de_color_de_piel": 4
         },
         {
          "abr_estado": "CDMX",
          "cuenta": 8,
          "entidad": 9,
          "estrato_socioeconomico": 2,
          "estrato_socioeconomico_nom": "Medio Bajo",
          "estratos": "2) Medio Bajo",
          "nom_entidad": "Ciudad de México",
          "tono_de_color_de_piel": 5
         },
         {
          "abr_estado": "Ags.",
          "cuenta": 12,
          "entidad": 1,
          "estrato_socioeconomico": 2,
          "estrato_socioeconomico_nom": "Medio Bajo",
          "estratos": "2) Medio Bajo",
          "nom_entidad": "Aguascalientes",
          "tono_de_color_de_piel": 5
         },
         {
          "abr_estado": "CDMX",
          "cuenta": 15,
          "entidad": 9,
          "estrato_socioeconomico": 2,
          "estrato_socioeconomico_nom": "Medio Bajo",
          "estratos": "2) Medio Bajo",
          "nom_entidad": "Ciudad de México",
          "tono_de_color_de_piel": 9
         },
         {
          "abr_estado": "Ags.",
          "cuenta": 2,
          "entidad": 1,
          "estrato_socioeconomico": 2,
          "estrato_socioeconomico_nom": "Medio Bajo",
          "estratos": "2) Medio Bajo",
          "nom_entidad": "Aguascalientes",
          "tono_de_color_de_piel": 1
         },
         {
          "abr_estado": "Ags.",
          "cuenta": 3,
          "entidad": 1,
          "estrato_socioeconomico": 2,
          "estrato_socioeconomico_nom": "Medio Bajo",
          "estratos": "2) Medio Bajo",
          "nom_entidad": "Aguascalientes",
          "tono_de_color_de_piel": 3
         },
         {
          "abr_estado": "Ags.",
          "cuenta": 7,
          "entidad": 1,
          "estrato_socioeconomico": 2,
          "estrato_socioeconomico_nom": "Medio Bajo",
          "estratos": "2) Medio Bajo",
          "nom_entidad": "Aguascalientes",
          "tono_de_color_de_piel": 11
         },
         {
          "abr_estado": "CDMX",
          "cuenta": 124,
          "entidad": 9,
          "estrato_socioeconomico": 2,
          "estrato_socioeconomico_nom": "Medio Bajo",
          "estratos": "2) Medio Bajo",
          "nom_entidad": "Ciudad de México",
          "tono_de_color_de_piel": 8
         },
         {
          "abr_estado": "BCS",
          "cuenta": 9,
          "entidad": 3,
          "estrato_socioeconomico": 2,
          "estrato_socioeconomico_nom": "Medio Bajo",
          "estratos": "2) Medio Bajo",
          "nom_entidad": "Baja California Sur",
          "tono_de_color_de_piel": 5
         },
         {
          "abr_estado": "BCS",
          "cuenta": 10,
          "entidad": 3,
          "estrato_socioeconomico": 2,
          "estrato_socioeconomico_nom": "Medio Bajo",
          "estratos": "2) Medio Bajo",
          "nom_entidad": "Baja California Sur",
          "tono_de_color_de_piel": 11
         },
         {
          "abr_estado": "BCS",
          "cuenta": 13,
          "entidad": 3,
          "estrato_socioeconomico": 2,
          "estrato_socioeconomico_nom": "Medio Bajo",
          "estratos": "2) Medio Bajo",
          "nom_entidad": "Baja California Sur",
          "tono_de_color_de_piel": 9
         },
         {
          "abr_estado": "BCS",
          "cuenta": 17,
          "entidad": 3,
          "estrato_socioeconomico": 2,
          "estrato_socioeconomico_nom": "Medio Bajo",
          "estratos": "2) Medio Bajo",
          "nom_entidad": "Baja California Sur",
          "tono_de_color_de_piel": 10
         },
         {
          "abr_estado": "BCS",
          "cuenta": 49,
          "entidad": 3,
          "estrato_socioeconomico": 2,
          "estrato_socioeconomico_nom": "Medio Bajo",
          "estratos": "2) Medio Bajo",
          "nom_entidad": "Baja California Sur",
          "tono_de_color_de_piel": 6
         },
         {
          "abr_estado": "BCS",
          "cuenta": 129,
          "entidad": 3,
          "estrato_socioeconomico": 2,
          "estrato_socioeconomico_nom": "Medio Bajo",
          "estratos": "2) Medio Bajo",
          "nom_entidad": "Baja California Sur",
          "tono_de_color_de_piel": 8
         },
         {
          "abr_estado": "CDMX",
          "cuenta": 10,
          "entidad": 9,
          "estrato_socioeconomico": 2,
          "estrato_socioeconomico_nom": "Medio Bajo",
          "estratos": "2) Medio Bajo",
          "nom_entidad": "Ciudad de México",
          "tono_de_color_de_piel": 4
         },
         {
          "abr_estado": "CDMX",
          "cuenta": 97,
          "entidad": 9,
          "estrato_socioeconomico": 2,
          "estrato_socioeconomico_nom": "Medio Bajo",
          "estratos": "2) Medio Bajo",
          "nom_entidad": "Ciudad de México",
          "tono_de_color_de_piel": 7
         },
         {
          "abr_estado": "Hgo.",
          "cuenta": 154,
          "entidad": 13,
          "estrato_socioeconomico": 2,
          "estrato_socioeconomico_nom": "Medio Bajo",
          "estratos": "2) Medio Bajo",
          "nom_entidad": "Hidalgo",
          "tono_de_color_de_piel": 8
         },
         {
          "abr_estado": "Hgo.",
          "cuenta": 85,
          "entidad": 13,
          "estrato_socioeconomico": 2,
          "estrato_socioeconomico_nom": "Medio Bajo",
          "estratos": "2) Medio Bajo",
          "nom_entidad": "Hidalgo",
          "tono_de_color_de_piel": 6
         },
         {
          "abr_estado": "BCS",
          "cuenta": 134,
          "entidad": 3,
          "estrato_socioeconomico": 2,
          "estrato_socioeconomico_nom": "Medio Bajo",
          "estratos": "2) Medio Bajo",
          "nom_entidad": "Baja California Sur",
          "tono_de_color_de_piel": 7
         },
         {
          "abr_estado": "CDMX",
          "cuenta": 17,
          "entidad": 9,
          "estrato_socioeconomico": 2,
          "estrato_socioeconomico_nom": "Medio Bajo",
          "estratos": "2) Medio Bajo",
          "nom_entidad": "Ciudad de México",
          "tono_de_color_de_piel": 10
         },
         {
          "abr_estado": "Camp.",
          "cuenta": 21,
          "entidad": 4,
          "estrato_socioeconomico": 2,
          "estrato_socioeconomico_nom": "Medio Bajo",
          "estratos": "2) Medio Bajo",
          "nom_entidad": "Campeche",
          "tono_de_color_de_piel": 10
         },
         {
          "abr_estado": "Camp.",
          "cuenta": 59,
          "entidad": 4,
          "estrato_socioeconomico": 2,
          "estrato_socioeconomico_nom": "Medio Bajo",
          "estratos": "2) Medio Bajo",
          "nom_entidad": "Campeche",
          "tono_de_color_de_piel": 6
         },
         {
          "abr_estado": "Hgo.",
          "cuenta": 28,
          "entidad": 13,
          "estrato_socioeconomico": 2,
          "estrato_socioeconomico_nom": "Medio Bajo",
          "estratos": "2) Medio Bajo",
          "nom_entidad": "Hidalgo",
          "tono_de_color_de_piel": 9
         },
         {
          "abr_estado": "CDMX",
          "cuenta": 33,
          "entidad": 9,
          "estrato_socioeconomico": 2,
          "estrato_socioeconomico_nom": "Medio Bajo",
          "estratos": "2) Medio Bajo",
          "nom_entidad": "Ciudad de México",
          "tono_de_color_de_piel": 6
         },
         {
          "abr_estado": "Camp.",
          "cuenta": 127,
          "entidad": 4,
          "estrato_socioeconomico": 2,
          "estrato_socioeconomico_nom": "Medio Bajo",
          "estratos": "2) Medio Bajo",
          "nom_entidad": "Campeche",
          "tono_de_color_de_piel": 8
         },
         {
          "abr_estado": "Camp.",
          "cuenta": 137,
          "entidad": 4,
          "estrato_socioeconomico": 2,
          "estrato_socioeconomico_nom": "Medio Bajo",
          "estratos": "2) Medio Bajo",
          "nom_entidad": "Campeche",
          "tono_de_color_de_piel": 7
         },
         {
          "abr_estado": "Jal.",
          "cuenta": 47,
          "entidad": 14,
          "estrato_socioeconomico": 2,
          "estrato_socioeconomico_nom": "Medio Bajo",
          "estratos": "2) Medio Bajo",
          "nom_entidad": "Jalisco",
          "tono_de_color_de_piel": 6
         },
         {
          "abr_estado": "Hgo.",
          "cuenta": 1,
          "entidad": 13,
          "estrato_socioeconomico": 2,
          "estrato_socioeconomico_nom": "Medio Bajo",
          "estratos": "2) Medio Bajo",
          "nom_entidad": "Hidalgo",
          "tono_de_color_de_piel": 1
         },
         {
          "abr_estado": "Hgo.",
          "cuenta": 3,
          "entidad": 13,
          "estrato_socioeconomico": 2,
          "estrato_socioeconomico_nom": "Medio Bajo",
          "estratos": "2) Medio Bajo",
          "nom_entidad": "Hidalgo",
          "tono_de_color_de_piel": 3
         },
         {
          "abr_estado": "Hgo.",
          "cuenta": 10,
          "entidad": 13,
          "estrato_socioeconomico": 2,
          "estrato_socioeconomico_nom": "Medio Bajo",
          "estratos": "2) Medio Bajo",
          "nom_entidad": "Hidalgo",
          "tono_de_color_de_piel": 5
         },
         {
          "abr_estado": "Hgo.",
          "cuenta": 19,
          "entidad": 13,
          "estrato_socioeconomico": 2,
          "estrato_socioeconomico_nom": "Medio Bajo",
          "estratos": "2) Medio Bajo",
          "nom_entidad": "Hidalgo",
          "tono_de_color_de_piel": 4
         },
         {
          "abr_estado": "Hgo.",
          "cuenta": 27,
          "entidad": 13,
          "estrato_socioeconomico": 2,
          "estrato_socioeconomico_nom": "Medio Bajo",
          "estratos": "2) Medio Bajo",
          "nom_entidad": "Hidalgo",
          "tono_de_color_de_piel": 10
         },
         {
          "abr_estado": "Hgo.",
          "cuenta": 1,
          "entidad": 13,
          "estrato_socioeconomico": 2,
          "estrato_socioeconomico_nom": "Medio Bajo",
          "estratos": "2) Medio Bajo",
          "nom_entidad": "Hidalgo",
          "tono_de_color_de_piel": 11
         },
         {
          "abr_estado": "Chis.",
          "cuenta": 6,
          "entidad": 7,
          "estrato_socioeconomico": 3,
          "estrato_socioeconomico_nom": "Medio Alto",
          "estratos": "3) Medio Alto",
          "nom_entidad": "Chiapas",
          "tono_de_color_de_piel": 7
         },
         {
          "abr_estado": "Chis.",
          "cuenta": 2,
          "entidad": 7,
          "estrato_socioeconomico": 3,
          "estrato_socioeconomico_nom": "Medio Alto",
          "estratos": "3) Medio Alto",
          "nom_entidad": "Chiapas",
          "tono_de_color_de_piel": 10
         },
         {
          "abr_estado": "Qro.",
          "cuenta": 17,
          "entidad": 22,
          "estrato_socioeconomico": 3,
          "estrato_socioeconomico_nom": "Medio Alto",
          "estratos": "3) Medio Alto",
          "nom_entidad": "Querétaro",
          "tono_de_color_de_piel": 6
         },
         {
          "abr_estado": "Qro.",
          "cuenta": 46,
          "entidad": 22,
          "estrato_socioeconomico": 3,
          "estrato_socioeconomico_nom": "Medio Alto",
          "estratos": "3) Medio Alto",
          "nom_entidad": "Querétaro",
          "tono_de_color_de_piel": 7
         },
         {
          "abr_estado": "Qro.",
          "cuenta": 87,
          "entidad": 22,
          "estrato_socioeconomico": 3,
          "estrato_socioeconomico_nom": "Medio Alto",
          "estratos": "3) Medio Alto",
          "nom_entidad": "Querétaro",
          "tono_de_color_de_piel": 8
         },
         {
          "abr_estado": "Chis.",
          "cuenta": 2,
          "entidad": 7,
          "estrato_socioeconomico": 3,
          "estrato_socioeconomico_nom": "Medio Alto",
          "estratos": "3) Medio Alto",
          "nom_entidad": "Chiapas",
          "tono_de_color_de_piel": 11
         },
         {
          "abr_estado": "Chis.",
          "cuenta": 1,
          "entidad": 7,
          "estrato_socioeconomico": 3,
          "estrato_socioeconomico_nom": "Medio Alto",
          "estratos": "3) Medio Alto",
          "nom_entidad": "Chiapas",
          "tono_de_color_de_piel": 9
         },
         {
          "abr_estado": "Chih.",
          "cuenta": 9,
          "entidad": 8,
          "estrato_socioeconomico": 3,
          "estrato_socioeconomico_nom": "Medio Alto",
          "estratos": "3) Medio Alto",
          "nom_entidad": "Chihuahua",
          "tono_de_color_de_piel": 5
         },
         {
          "abr_estado": "Chis.",
          "cuenta": 4,
          "entidad": 7,
          "estrato_socioeconomico": 3,
          "estrato_socioeconomico_nom": "Medio Alto",
          "estratos": "3) Medio Alto",
          "nom_entidad": "Chiapas",
          "tono_de_color_de_piel": 6
         },
         {
          "abr_estado": "Tlax.",
          "cuenta": 29,
          "entidad": 29,
          "estrato_socioeconomico": 3,
          "estrato_socioeconomico_nom": "Medio Alto",
          "estratos": "3) Medio Alto",
          "nom_entidad": "Tlaxcala",
          "tono_de_color_de_piel": 8
         },
         {
          "abr_estado": "Qro.",
          "cuenta": 6,
          "entidad": 22,
          "estrato_socioeconomico": 3,
          "estrato_socioeconomico_nom": "Medio Alto",
          "estratos": "3) Medio Alto",
          "nom_entidad": "Querétaro",
          "tono_de_color_de_piel": 9
         },
         {
          "abr_estado": "Chih.",
          "cuenta": 87,
          "entidad": 8,
          "estrato_socioeconomico": 3,
          "estrato_socioeconomico_nom": "Medio Alto",
          "estratos": "3) Medio Alto",
          "nom_entidad": "Chihuahua",
          "tono_de_color_de_piel": 7
         },
         {
          "abr_estado": "Chih.",
          "cuenta": 24,
          "entidad": 8,
          "estrato_socioeconomico": 3,
          "estrato_socioeconomico_nom": "Medio Alto",
          "estratos": "3) Medio Alto",
          "nom_entidad": "Chihuahua",
          "tono_de_color_de_piel": 6
         },
         {
          "abr_estado": "Chih.",
          "cuenta": 21,
          "entidad": 8,
          "estrato_socioeconomico": 3,
          "estrato_socioeconomico_nom": "Medio Alto",
          "estratos": "3) Medio Alto",
          "nom_entidad": "Chihuahua",
          "tono_de_color_de_piel": 10
         },
         {
          "abr_estado": "Chih.",
          "cuenta": 18,
          "entidad": 8,
          "estrato_socioeconomico": 3,
          "estrato_socioeconomico_nom": "Medio Alto",
          "estratos": "3) Medio Alto",
          "nom_entidad": "Chihuahua",
          "tono_de_color_de_piel": 9
         },
         {
          "abr_estado": "Chih.",
          "cuenta": 10,
          "entidad": 8,
          "estrato_socioeconomico": 3,
          "estrato_socioeconomico_nom": "Medio Alto",
          "estratos": "3) Medio Alto",
          "nom_entidad": "Chihuahua",
          "tono_de_color_de_piel": 11
         },
         {
          "abr_estado": "Qro.",
          "cuenta": 1,
          "entidad": 22,
          "estrato_socioeconomico": 3,
          "estrato_socioeconomico_nom": "Medio Alto",
          "estratos": "3) Medio Alto",
          "nom_entidad": "Querétaro",
          "tono_de_color_de_piel": 3
         },
         {
          "abr_estado": "Q. Roo",
          "cuenta": 30,
          "entidad": 23,
          "estrato_socioeconomico": 3,
          "estrato_socioeconomico_nom": "Medio Alto",
          "estratos": "3) Medio Alto",
          "nom_entidad": "Quintana Roo",
          "tono_de_color_de_piel": 7
         },
         {
          "abr_estado": "Q. Roo",
          "cuenta": 15,
          "entidad": 23,
          "estrato_socioeconomico": 3,
          "estrato_socioeconomico_nom": "Medio Alto",
          "estratos": "3) Medio Alto",
          "nom_entidad": "Quintana Roo",
          "tono_de_color_de_piel": 8
         },
         {
          "abr_estado": "Qro.",
          "cuenta": 3,
          "entidad": 22,
          "estrato_socioeconomico": 3,
          "estrato_socioeconomico_nom": "Medio Alto",
          "estratos": "3) Medio Alto",
          "nom_entidad": "Querétaro",
          "tono_de_color_de_piel": 4
         },
         {
          "abr_estado": "Q. Roo",
          "cuenta": 12,
          "entidad": 23,
          "estrato_socioeconomico": 3,
          "estrato_socioeconomico_nom": "Medio Alto",
          "estratos": "3) Medio Alto",
          "nom_entidad": "Quintana Roo",
          "tono_de_color_de_piel": 6
         },
         {
          "abr_estado": "Qro.",
          "cuenta": 8,
          "entidad": 22,
          "estrato_socioeconomico": 3,
          "estrato_socioeconomico_nom": "Medio Alto",
          "estratos": "3) Medio Alto",
          "nom_entidad": "Querétaro",
          "tono_de_color_de_piel": 10
         },
         {
          "abr_estado": "Q. Roo",
          "cuenta": 7,
          "entidad": 23,
          "estrato_socioeconomico": 3,
          "estrato_socioeconomico_nom": "Medio Alto",
          "estratos": "3) Medio Alto",
          "nom_entidad": "Quintana Roo",
          "tono_de_color_de_piel": 9
         },
         {
          "abr_estado": "Q. Roo",
          "cuenta": 5,
          "entidad": 23,
          "estrato_socioeconomico": 3,
          "estrato_socioeconomico_nom": "Medio Alto",
          "estratos": "3) Medio Alto",
          "nom_entidad": "Quintana Roo",
          "tono_de_color_de_piel": 5
         },
         {
          "abr_estado": "Q. Roo",
          "cuenta": 5,
          "entidad": 23,
          "estrato_socioeconomico": 3,
          "estrato_socioeconomico_nom": "Medio Alto",
          "estratos": "3) Medio Alto",
          "nom_entidad": "Quintana Roo",
          "tono_de_color_de_piel": 10
         },
         {
          "abr_estado": "Q. Roo",
          "cuenta": 4,
          "entidad": 23,
          "estrato_socioeconomico": 3,
          "estrato_socioeconomico_nom": "Medio Alto",
          "estratos": "3) Medio Alto",
          "nom_entidad": "Quintana Roo",
          "tono_de_color_de_piel": 4
         },
         {
          "abr_estado": "Q. Roo",
          "cuenta": 2,
          "entidad": 23,
          "estrato_socioeconomico": 3,
          "estrato_socioeconomico_nom": "Medio Alto",
          "estratos": "3) Medio Alto",
          "nom_entidad": "Quintana Roo",
          "tono_de_color_de_piel": 11
         },
         {
          "abr_estado": "Q. Roo",
          "cuenta": 1,
          "entidad": 23,
          "estrato_socioeconomico": 3,
          "estrato_socioeconomico_nom": "Medio Alto",
          "estratos": "3) Medio Alto",
          "nom_entidad": "Quintana Roo",
          "tono_de_color_de_piel": 3
         },
         {
          "abr_estado": "Tlax.",
          "cuenta": 1,
          "entidad": 29,
          "estrato_socioeconomico": 3,
          "estrato_socioeconomico_nom": "Medio Alto",
          "estratos": "3) Medio Alto",
          "nom_entidad": "Tlaxcala",
          "tono_de_color_de_piel": 6
         },
         {
          "abr_estado": "Tlax.",
          "cuenta": 1,
          "entidad": 29,
          "estrato_socioeconomico": 3,
          "estrato_socioeconomico_nom": "Medio Alto",
          "estratos": "3) Medio Alto",
          "nom_entidad": "Tlaxcala",
          "tono_de_color_de_piel": 4
         },
         {
          "abr_estado": "Tlax.",
          "cuenta": 16,
          "entidad": 29,
          "estrato_socioeconomico": 3,
          "estrato_socioeconomico_nom": "Medio Alto",
          "estratos": "3) Medio Alto",
          "nom_entidad": "Tlaxcala",
          "tono_de_color_de_piel": 7
         },
         {
          "abr_estado": "Chih.",
          "cuenta": 121,
          "entidad": 8,
          "estrato_socioeconomico": 3,
          "estrato_socioeconomico_nom": "Medio Alto",
          "estratos": "3) Medio Alto",
          "nom_entidad": "Chihuahua",
          "tono_de_color_de_piel": 8
         },
         {
          "abr_estado": "BCS",
          "cuenta": 98,
          "entidad": 3,
          "estrato_socioeconomico": 3,
          "estrato_socioeconomico_nom": "Medio Alto",
          "estratos": "3) Medio Alto",
          "nom_entidad": "Baja California Sur",
          "tono_de_color_de_piel": 8
         },
         {
          "abr_estado": "Qro.",
          "cuenta": 4,
          "entidad": 22,
          "estrato_socioeconomico": 3,
          "estrato_socioeconomico_nom": "Medio Alto",
          "estratos": "3) Medio Alto",
          "nom_entidad": "Querétaro",
          "tono_de_color_de_piel": 11
         },
         {
          "abr_estado": "Pue.",
          "cuenta": 6,
          "entidad": 21,
          "estrato_socioeconomico": 3,
          "estrato_socioeconomico_nom": "Medio Alto",
          "estratos": "3) Medio Alto",
          "nom_entidad": "Puebla",
          "tono_de_color_de_piel": 10
         },
         {
          "abr_estado": "BCS",
          "cuenta": 2,
          "entidad": 3,
          "estrato_socioeconomico": 3,
          "estrato_socioeconomico_nom": "Medio Alto",
          "estratos": "3) Medio Alto",
          "nom_entidad": "Baja California Sur",
          "tono_de_color_de_piel": 5
         },
         {
          "abr_estado": "BCS",
          "cuenta": 71,
          "entidad": 3,
          "estrato_socioeconomico": 3,
          "estrato_socioeconomico_nom": "Medio Alto",
          "estratos": "3) Medio Alto",
          "nom_entidad": "Baja California Sur",
          "tono_de_color_de_piel": 7
         },
         {
          "abr_estado": "Son.",
          "cuenta": 21,
          "entidad": 26,
          "estrato_socioeconomico": 3,
          "estrato_socioeconomico_nom": "Medio Alto",
          "estratos": "3) Medio Alto",
          "nom_entidad": "Sonora",
          "tono_de_color_de_piel": 6
         },
         {
          "abr_estado": "Son.",
          "cuenta": 29,
          "entidad": 26,
          "estrato_socioeconomico": 3,
          "estrato_socioeconomico_nom": "Medio Alto",
          "estratos": "3) Medio Alto",
          "nom_entidad": "Sonora",
          "tono_de_color_de_piel": 9
         },
         {
          "abr_estado": "Son.",
          "cuenta": 83,
          "entidad": 26,
          "estrato_socioeconomico": 3,
          "estrato_socioeconomico_nom": "Medio Alto",
          "estratos": "3) Medio Alto",
          "nom_entidad": "Sonora",
          "tono_de_color_de_piel": 7
         },
         {
          "abr_estado": "Son.",
          "cuenta": 131,
          "entidad": 26,
          "estrato_socioeconomico": 3,
          "estrato_socioeconomico_nom": "Medio Alto",
          "estratos": "3) Medio Alto",
          "nom_entidad": "Sonora",
          "tono_de_color_de_piel": 8
         },
         {
          "abr_estado": "Coah.",
          "cuenta": 28,
          "entidad": 5,
          "estrato_socioeconomico": 3,
          "estrato_socioeconomico_nom": "Medio Alto",
          "estratos": "3) Medio Alto",
          "nom_entidad": "Coahuila de Zaragoza",
          "tono_de_color_de_piel": 6
         },
         {
          "abr_estado": "Coah.",
          "cuenta": 24,
          "entidad": 5,
          "estrato_socioeconomico": 3,
          "estrato_socioeconomico_nom": "Medio Alto",
          "estratos": "3) Medio Alto",
          "nom_entidad": "Coahuila de Zaragoza",
          "tono_de_color_de_piel": 10
         },
         {
          "abr_estado": "Coah.",
          "cuenta": 17,
          "entidad": 5,
          "estrato_socioeconomico": 3,
          "estrato_socioeconomico_nom": "Medio Alto",
          "estratos": "3) Medio Alto",
          "nom_entidad": "Coahuila de Zaragoza",
          "tono_de_color_de_piel": 9
         },
         {
          "abr_estado": "Son.",
          "cuenta": 19,
          "entidad": 26,
          "estrato_socioeconomico": 3,
          "estrato_socioeconomico_nom": "Medio Alto",
          "estratos": "3) Medio Alto",
          "nom_entidad": "Sonora",
          "tono_de_color_de_piel": 10
         },
         {
          "abr_estado": "Coah.",
          "cuenta": 7,
          "entidad": 5,
          "estrato_socioeconomico": 3,
          "estrato_socioeconomico_nom": "Medio Alto",
          "estratos": "3) Medio Alto",
          "nom_entidad": "Coahuila de Zaragoza",
          "tono_de_color_de_piel": 4
         },
         {
          "abr_estado": "Coah.",
          "cuenta": 6,
          "entidad": 5,
          "estrato_socioeconomico": 3,
          "estrato_socioeconomico_nom": "Medio Alto",
          "estratos": "3) Medio Alto",
          "nom_entidad": "Coahuila de Zaragoza",
          "tono_de_color_de_piel": 11
         },
         {
          "abr_estado": "Coah.",
          "cuenta": 2,
          "entidad": 5,
          "estrato_socioeconomico": 3,
          "estrato_socioeconomico_nom": "Medio Alto",
          "estratos": "3) Medio Alto",
          "nom_entidad": "Coahuila de Zaragoza",
          "tono_de_color_de_piel": 3
         },
         {
          "abr_estado": "Coah.",
          "cuenta": 1,
          "entidad": 5,
          "estrato_socioeconomico": 3,
          "estrato_socioeconomico_nom": "Medio Alto",
          "estratos": "3) Medio Alto",
          "nom_entidad": "Coahuila de Zaragoza",
          "tono_de_color_de_piel": 2
         },
         {
          "abr_estado": "Tamps.",
          "cuenta": 82,
          "entidad": 28,
          "estrato_socioeconomico": 3,
          "estrato_socioeconomico_nom": "Medio Alto",
          "estratos": "3) Medio Alto",
          "nom_entidad": "Tamaulipas",
          "tono_de_color_de_piel": 8
         },
         {
          "abr_estado": "Tamps.",
          "cuenta": 46,
          "entidad": 28,
          "estrato_socioeconomico": 3,
          "estrato_socioeconomico_nom": "Medio Alto",
          "estratos": "3) Medio Alto",
          "nom_entidad": "Tamaulipas",
          "tono_de_color_de_piel": 7
         },
         {
          "abr_estado": "Tamps.",
          "cuenta": 21,
          "entidad": 28,
          "estrato_socioeconomico": 3,
          "estrato_socioeconomico_nom": "Medio Alto",
          "estratos": "3) Medio Alto",
          "nom_entidad": "Tamaulipas",
          "tono_de_color_de_piel": 6
         },
         {
          "abr_estado": "Tamps.",
          "cuenta": 14,
          "entidad": 28,
          "estrato_socioeconomico": 3,
          "estrato_socioeconomico_nom": "Medio Alto",
          "estratos": "3) Medio Alto",
          "nom_entidad": "Tamaulipas",
          "tono_de_color_de_piel": 9
         },
         {
          "abr_estado": "Coah.",
          "cuenta": 7,
          "entidad": 5,
          "estrato_socioeconomico": 3,
          "estrato_socioeconomico_nom": "Medio Alto",
          "estratos": "3) Medio Alto",
          "nom_entidad": "Coahuila de Zaragoza",
          "tono_de_color_de_piel": 5
         },
         {
          "abr_estado": "Tamps.",
          "cuenta": 8,
          "entidad": 28,
          "estrato_socioeconomico": 3,
          "estrato_socioeconomico_nom": "Medio Alto",
          "estratos": "3) Medio Alto",
          "nom_entidad": "Tamaulipas",
          "tono_de_color_de_piel": 5
         },
         {
          "abr_estado": "Son.",
          "cuenta": 7,
          "entidad": 26,
          "estrato_socioeconomico": 3,
          "estrato_socioeconomico_nom": "Medio Alto",
          "estratos": "3) Medio Alto",
          "nom_entidad": "Sonora",
          "tono_de_color_de_piel": 11
         },
         {
          "abr_estado": "Son.",
          "cuenta": 2,
          "entidad": 26,
          "estrato_socioeconomico": 3,
          "estrato_socioeconomico_nom": "Medio Alto",
          "estratos": "3) Medio Alto",
          "nom_entidad": "Sonora",
          "tono_de_color_de_piel": 5
         },
         {
          "abr_estado": "Camp.",
          "cuenta": 8,
          "entidad": 4,
          "estrato_socioeconomico": 3,
          "estrato_socioeconomico_nom": "Medio Alto",
          "estratos": "3) Medio Alto",
          "nom_entidad": "Campeche",
          "tono_de_color_de_piel": 10
         },
         {
          "abr_estado": "Camp.",
          "cuenta": 12,
          "entidad": 4,
          "estrato_socioeconomico": 3,
          "estrato_socioeconomico_nom": "Medio Alto",
          "estratos": "3) Medio Alto",
          "nom_entidad": "Campeche",
          "tono_de_color_de_piel": 6
         },
         {
          "abr_estado": "Camp.",
          "cuenta": 27,
          "entidad": 4,
          "estrato_socioeconomico": 3,
          "estrato_socioeconomico_nom": "Medio Alto",
          "estratos": "3) Medio Alto",
          "nom_entidad": "Campeche",
          "tono_de_color_de_piel": 8
         },
         {
          "abr_estado": "Camp.",
          "cuenta": 27,
          "entidad": 4,
          "estrato_socioeconomico": 3,
          "estrato_socioeconomico_nom": "Medio Alto",
          "estratos": "3) Medio Alto",
          "nom_entidad": "Campeche",
          "tono_de_color_de_piel": 7
         },
         {
          "abr_estado": "Tab.",
          "cuenta": 1,
          "entidad": 27,
          "estrato_socioeconomico": 3,
          "estrato_socioeconomico_nom": "Medio Alto",
          "estratos": "3) Medio Alto",
          "nom_entidad": "Tabasco",
          "tono_de_color_de_piel": 11
         },
         {
          "abr_estado": "Tab.",
          "cuenta": 1,
          "entidad": 27,
          "estrato_socioeconomico": 3,
          "estrato_socioeconomico_nom": "Medio Alto",
          "estratos": "3) Medio Alto",
          "nom_entidad": "Tabasco",
          "tono_de_color_de_piel": 4
         },
         {
          "abr_estado": "Tab.",
          "cuenta": 2,
          "entidad": 27,
          "estrato_socioeconomico": 3,
          "estrato_socioeconomico_nom": "Medio Alto",
          "estratos": "3) Medio Alto",
          "nom_entidad": "Tabasco",
          "tono_de_color_de_piel": 5
         },
         {
          "abr_estado": "Son.",
          "cuenta": 5,
          "entidad": 26,
          "estrato_socioeconomico": 3,
          "estrato_socioeconomico_nom": "Medio Alto",
          "estratos": "3) Medio Alto",
          "nom_entidad": "Sonora",
          "tono_de_color_de_piel": 4
         },
         {
          "abr_estado": "Tab.",
          "cuenta": 2,
          "entidad": 27,
          "estrato_socioeconomico": 3,
          "estrato_socioeconomico_nom": "Medio Alto",
          "estratos": "3) Medio Alto",
          "nom_entidad": "Tabasco",
          "tono_de_color_de_piel": 3
         },
         {
          "abr_estado": "Tab.",
          "cuenta": 8,
          "entidad": 27,
          "estrato_socioeconomico": 3,
          "estrato_socioeconomico_nom": "Medio Alto",
          "estratos": "3) Medio Alto",
          "nom_entidad": "Tabasco",
          "tono_de_color_de_piel": 10
         },
         {
          "abr_estado": "Tab.",
          "cuenta": 10,
          "entidad": 27,
          "estrato_socioeconomico": 3,
          "estrato_socioeconomico_nom": "Medio Alto",
          "estratos": "3) Medio Alto",
          "nom_entidad": "Tabasco",
          "tono_de_color_de_piel": 6
         },
         {
          "abr_estado": "Tab.",
          "cuenta": 15,
          "entidad": 27,
          "estrato_socioeconomico": 3,
          "estrato_socioeconomico_nom": "Medio Alto",
          "estratos": "3) Medio Alto",
          "nom_entidad": "Tabasco",
          "tono_de_color_de_piel": 7
         },
         {
          "abr_estado": "Tab.",
          "cuenta": 27,
          "entidad": 27,
          "estrato_socioeconomico": 3,
          "estrato_socioeconomico_nom": "Medio Alto",
          "estratos": "3) Medio Alto",
          "nom_entidad": "Tabasco",
          "tono_de_color_de_piel": 8
         },
         {
          "abr_estado": "Camp.",
          "cuenta": 2,
          "entidad": 4,
          "estrato_socioeconomico": 3,
          "estrato_socioeconomico_nom": "Medio Alto",
          "estratos": "3) Medio Alto",
          "nom_entidad": "Campeche",
          "tono_de_color_de_piel": 4
         },
         {
          "abr_estado": "Coah.",
          "cuenta": 126,
          "entidad": 5,
          "estrato_socioeconomico": 3,
          "estrato_socioeconomico_nom": "Medio Alto",
          "estratos": "3) Medio Alto",
          "nom_entidad": "Coahuila de Zaragoza",
          "tono_de_color_de_piel": 8
         },
         {
          "abr_estado": "Coah.",
          "cuenta": 89,
          "entidad": 5,
          "estrato_socioeconomico": 3,
          "estrato_socioeconomico_nom": "Medio Alto",
          "estratos": "3) Medio Alto",
          "nom_entidad": "Coahuila de Zaragoza",
          "tono_de_color_de_piel": 7
         },
         {
          "abr_estado": "Tab.",
          "cuenta": 6,
          "entidad": 27,
          "estrato_socioeconomico": 3,
          "estrato_socioeconomico_nom": "Medio Alto",
          "estratos": "3) Medio Alto",
          "nom_entidad": "Tabasco",
          "tono_de_color_de_piel": 9
         },
         {
          "abr_estado": "Chis.",
          "cuenta": 17,
          "entidad": 7,
          "estrato_socioeconomico": 3,
          "estrato_socioeconomico_nom": "Medio Alto",
          "estratos": "3) Medio Alto",
          "nom_entidad": "Chiapas",
          "tono_de_color_de_piel": 8
         },
         {
          "abr_estado": "Tamps.",
          "cuenta": 7,
          "entidad": 28,
          "estrato_socioeconomico": 3,
          "estrato_socioeconomico_nom": "Medio Alto",
          "estratos": "3) Medio Alto",
          "nom_entidad": "Tamaulipas",
          "tono_de_color_de_piel": 4
         },
         {
          "abr_estado": "Tamps.",
          "cuenta": 4,
          "entidad": 28,
          "estrato_socioeconomico": 3,
          "estrato_socioeconomico_nom": "Medio Alto",
          "estratos": "3) Medio Alto",
          "nom_entidad": "Tamaulipas",
          "tono_de_color_de_piel": 11
         },
         {
          "abr_estado": "BCS",
          "cuenta": 4,
          "entidad": 3,
          "estrato_socioeconomico": 3,
          "estrato_socioeconomico_nom": "Medio Alto",
          "estratos": "3) Medio Alto",
          "nom_entidad": "Baja California Sur",
          "tono_de_color_de_piel": 3
         },
         {
          "abr_estado": "BCS",
          "cuenta": 6,
          "entidad": 3,
          "estrato_socioeconomico": 3,
          "estrato_socioeconomico_nom": "Medio Alto",
          "estratos": "3) Medio Alto",
          "nom_entidad": "Baja California Sur",
          "tono_de_color_de_piel": 11
         },
         {
          "abr_estado": "BCS",
          "cuenta": 9,
          "entidad": 3,
          "estrato_socioeconomico": 3,
          "estrato_socioeconomico_nom": "Medio Alto",
          "estratos": "3) Medio Alto",
          "nom_entidad": "Baja California Sur",
          "tono_de_color_de_piel": 9
         },
         {
          "abr_estado": "BCS",
          "cuenta": 11,
          "entidad": 3,
          "estrato_socioeconomico": 3,
          "estrato_socioeconomico_nom": "Medio Alto",
          "estratos": "3) Medio Alto",
          "nom_entidad": "Baja California Sur",
          "tono_de_color_de_piel": 10
         },
         {
          "abr_estado": "SLP",
          "cuenta": 1,
          "entidad": 24,
          "estrato_socioeconomico": 3,
          "estrato_socioeconomico_nom": "Medio Alto",
          "estratos": "3) Medio Alto",
          "nom_entidad": "San Luis Potosí",
          "tono_de_color_de_piel": 4
         },
         {
          "abr_estado": "SLP",
          "cuenta": 1,
          "entidad": 24,
          "estrato_socioeconomico": 3,
          "estrato_socioeconomico_nom": "Medio Alto",
          "estratos": "3) Medio Alto",
          "nom_entidad": "San Luis Potosí",
          "tono_de_color_de_piel": 2
         },
         {
          "abr_estado": "SLP",
          "cuenta": 1,
          "entidad": 24,
          "estrato_socioeconomico": 3,
          "estrato_socioeconomico_nom": "Medio Alto",
          "estratos": "3) Medio Alto",
          "nom_entidad": "San Luis Potosí",
          "tono_de_color_de_piel": 1
         },
         {
          "abr_estado": "BCS",
          "cuenta": 2,
          "entidad": 3,
          "estrato_socioeconomico": 3,
          "estrato_socioeconomico_nom": "Medio Alto",
          "estratos": "3) Medio Alto",
          "nom_entidad": "Baja California Sur",
          "tono_de_color_de_piel": 4
         },
         {
          "abr_estado": "SLP",
          "cuenta": 2,
          "entidad": 24,
          "estrato_socioeconomico": 3,
          "estrato_socioeconomico_nom": "Medio Alto",
          "estratos": "3) Medio Alto",
          "nom_entidad": "San Luis Potosí",
          "tono_de_color_de_piel": 3
         },
         {
          "abr_estado": "SLP",
          "cuenta": 4,
          "entidad": 24,
          "estrato_socioeconomico": 3,
          "estrato_socioeconomico_nom": "Medio Alto",
          "estratos": "3) Medio Alto",
          "nom_entidad": "San Luis Potosí",
          "tono_de_color_de_piel": 5
         },
         {
          "abr_estado": "SLP",
          "cuenta": 6,
          "entidad": 24,
          "estrato_socioeconomico": 3,
          "estrato_socioeconomico_nom": "Medio Alto",
          "estratos": "3) Medio Alto",
          "nom_entidad": "San Luis Potosí",
          "tono_de_color_de_piel": 9
         },
         {
          "abr_estado": "SLP",
          "cuenta": 12,
          "entidad": 24,
          "estrato_socioeconomico": 3,
          "estrato_socioeconomico_nom": "Medio Alto",
          "estratos": "3) Medio Alto",
          "nom_entidad": "San Luis Potosí",
          "tono_de_color_de_piel": 10
         },
         {
          "abr_estado": "SLP",
          "cuenta": 13,
          "entidad": 24,
          "estrato_socioeconomico": 3,
          "estrato_socioeconomico_nom": "Medio Alto",
          "estratos": "3) Medio Alto",
          "nom_entidad": "San Luis Potosí",
          "tono_de_color_de_piel": 6
         },
         {
          "abr_estado": "SLP",
          "cuenta": 58,
          "entidad": 24,
          "estrato_socioeconomico": 3,
          "estrato_socioeconomico_nom": "Medio Alto",
          "estratos": "3) Medio Alto",
          "nom_entidad": "San Luis Potosí",
          "tono_de_color_de_piel": 7
         },
         {
          "abr_estado": "SLP",
          "cuenta": 81,
          "entidad": 24,
          "estrato_socioeconomico": 3,
          "estrato_socioeconomico_nom": "Medio Alto",
          "estratos": "3) Medio Alto",
          "nom_entidad": "San Luis Potosí",
          "tono_de_color_de_piel": 8
         },
         {
          "abr_estado": "BCS",
          "cuenta": 30,
          "entidad": 3,
          "estrato_socioeconomico": 3,
          "estrato_socioeconomico_nom": "Medio Alto",
          "estratos": "3) Medio Alto",
          "nom_entidad": "Baja California Sur",
          "tono_de_color_de_piel": 6
         },
         {
          "abr_estado": "SLP",
          "cuenta": 3,
          "entidad": 24,
          "estrato_socioeconomico": 3,
          "estrato_socioeconomico_nom": "Medio Alto",
          "estratos": "3) Medio Alto",
          "nom_entidad": "San Luis Potosí",
          "tono_de_color_de_piel": 11
         },
         {
          "abr_estado": "Tamps.",
          "cuenta": 7,
          "entidad": 28,
          "estrato_socioeconomico": 3,
          "estrato_socioeconomico_nom": "Medio Alto",
          "estratos": "3) Medio Alto",
          "nom_entidad": "Tamaulipas",
          "tono_de_color_de_piel": 10
         },
         {
          "abr_estado": "Chih.",
          "cuenta": 7,
          "entidad": 8,
          "estrato_socioeconomico": 3,
          "estrato_socioeconomico_nom": "Medio Alto",
          "estratos": "3) Medio Alto",
          "nom_entidad": "Chihuahua",
          "tono_de_color_de_piel": 4
         },
         {
          "abr_estado": "Col.",
          "cuenta": 2,
          "entidad": 6,
          "estrato_socioeconomico": 3,
          "estrato_socioeconomico_nom": "Medio Alto",
          "estratos": "3) Medio Alto",
          "nom_entidad": "Colima",
          "tono_de_color_de_piel": 10
         },
         {
          "abr_estado": "Tamps.",
          "cuenta": 1,
          "entidad": 28,
          "estrato_socioeconomico": 3,
          "estrato_socioeconomico_nom": "Medio Alto",
          "estratos": "3) Medio Alto",
          "nom_entidad": "Tamaulipas",
          "tono_de_color_de_piel": 2
         },
         {
          "abr_estado": "Sin.",
          "cuenta": 1,
          "entidad": 25,
          "estrato_socioeconomico": 3,
          "estrato_socioeconomico_nom": "Medio Alto",
          "estratos": "3) Medio Alto",
          "nom_entidad": "Sinaloa",
          "tono_de_color_de_piel": 2
         },
         {
          "abr_estado": "Sin.",
          "cuenta": 3,
          "entidad": 25,
          "estrato_socioeconomico": 3,
          "estrato_socioeconomico_nom": "Medio Alto",
          "estratos": "3) Medio Alto",
          "nom_entidad": "Sinaloa",
          "tono_de_color_de_piel": 5
         },
         {
          "abr_estado": "Sin.",
          "cuenta": 3,
          "entidad": 25,
          "estrato_socioeconomico": 3,
          "estrato_socioeconomico_nom": "Medio Alto",
          "estratos": "3) Medio Alto",
          "nom_entidad": "Sinaloa",
          "tono_de_color_de_piel": 4
         },
         {
          "abr_estado": "Sin.",
          "cuenta": 7,
          "entidad": 25,
          "estrato_socioeconomico": 3,
          "estrato_socioeconomico_nom": "Medio Alto",
          "estratos": "3) Medio Alto",
          "nom_entidad": "Sinaloa",
          "tono_de_color_de_piel": 11
         },
         {
          "abr_estado": "Sin.",
          "cuenta": 16,
          "entidad": 25,
          "estrato_socioeconomico": 3,
          "estrato_socioeconomico_nom": "Medio Alto",
          "estratos": "3) Medio Alto",
          "nom_entidad": "Sinaloa",
          "tono_de_color_de_piel": 9
         },
         {
          "abr_estado": "Sin.",
          "cuenta": 22,
          "entidad": 25,
          "estrato_socioeconomico": 3,
          "estrato_socioeconomico_nom": "Medio Alto",
          "estratos": "3) Medio Alto",
          "nom_entidad": "Sinaloa",
          "tono_de_color_de_piel": 10
         },
         {
          "abr_estado": "Col.",
          "cuenta": 2,
          "entidad": 6,
          "estrato_socioeconomico": 3,
          "estrato_socioeconomico_nom": "Medio Alto",
          "estratos": "3) Medio Alto",
          "nom_entidad": "Colima",
          "tono_de_color_de_piel": 11
         },
         {
          "abr_estado": "Sin.",
          "cuenta": 30,
          "entidad": 25,
          "estrato_socioeconomico": 3,
          "estrato_socioeconomico_nom": "Medio Alto",
          "estratos": "3) Medio Alto",
          "nom_entidad": "Sinaloa",
          "tono_de_color_de_piel": 6
         },
         {
          "abr_estado": "Sin.",
          "cuenta": 86,
          "entidad": 25,
          "estrato_socioeconomico": 3,
          "estrato_socioeconomico_nom": "Medio Alto",
          "estratos": "3) Medio Alto",
          "nom_entidad": "Sinaloa",
          "tono_de_color_de_piel": 8
         },
         {
          "abr_estado": "Col.",
          "cuenta": 58,
          "entidad": 6,
          "estrato_socioeconomico": 3,
          "estrato_socioeconomico_nom": "Medio Alto",
          "estratos": "3) Medio Alto",
          "nom_entidad": "Colima",
          "tono_de_color_de_piel": 8
         },
         {
          "abr_estado": "Col.",
          "cuenta": 35,
          "entidad": 6,
          "estrato_socioeconomico": 3,
          "estrato_socioeconomico_nom": "Medio Alto",
          "estratos": "3) Medio Alto",
          "nom_entidad": "Colima",
          "tono_de_color_de_piel": 7
         },
         {
          "abr_estado": "Col.",
          "cuenta": 23,
          "entidad": 6,
          "estrato_socioeconomico": 3,
          "estrato_socioeconomico_nom": "Medio Alto",
          "estratos": "3) Medio Alto",
          "nom_entidad": "Colima",
          "tono_de_color_de_piel": 6
         },
         {
          "abr_estado": "Col.",
          "cuenta": 6,
          "entidad": 6,
          "estrato_socioeconomico": 3,
          "estrato_socioeconomico_nom": "Medio Alto",
          "estratos": "3) Medio Alto",
          "nom_entidad": "Colima",
          "tono_de_color_de_piel": 5
         },
         {
          "abr_estado": "Col.",
          "cuenta": 4,
          "entidad": 6,
          "estrato_socioeconomico": 3,
          "estrato_socioeconomico_nom": "Medio Alto",
          "estratos": "3) Medio Alto",
          "nom_entidad": "Colima",
          "tono_de_color_de_piel": 4
         },
         {
          "abr_estado": "Col.",
          "cuenta": 3,
          "entidad": 6,
          "estrato_socioeconomico": 3,
          "estrato_socioeconomico_nom": "Medio Alto",
          "estratos": "3) Medio Alto",
          "nom_entidad": "Colima",
          "tono_de_color_de_piel": 9
         },
         {
          "abr_estado": "Sin.",
          "cuenta": 61,
          "entidad": 25,
          "estrato_socioeconomico": 3,
          "estrato_socioeconomico_nom": "Medio Alto",
          "estratos": "3) Medio Alto",
          "nom_entidad": "Sinaloa",
          "tono_de_color_de_piel": 7
         },
         {
          "abr_estado": "Chih.",
          "cuenta": 1,
          "entidad": 8,
          "estrato_socioeconomico": 3,
          "estrato_socioeconomico_nom": "Medio Alto",
          "estratos": "3) Medio Alto",
          "nom_entidad": "Chihuahua",
          "tono_de_color_de_piel": 3
         },
         {
          "abr_estado": "Camp.",
          "cuenta": 3,
          "entidad": 4,
          "estrato_socioeconomico": 3,
          "estrato_socioeconomico_nom": "Medio Alto",
          "estratos": "3) Medio Alto",
          "nom_entidad": "Campeche",
          "tono_de_color_de_piel": 5
         },
         {
          "abr_estado": "Mex.",
          "cuenta": 6,
          "entidad": 15,
          "estrato_socioeconomico": 3,
          "estrato_socioeconomico_nom": "Medio Alto",
          "estratos": "3) Medio Alto",
          "nom_entidad": "México",
          "tono_de_color_de_piel": 11
         },
         {
          "abr_estado": "Zac.",
          "cuenta": 2,
          "entidad": 32,
          "estrato_socioeconomico": 3,
          "estrato_socioeconomico_nom": "Medio Alto",
          "estratos": "3) Medio Alto",
          "nom_entidad": "Zacatecas",
          "tono_de_color_de_piel": 4
         },
         {
          "abr_estado": "Zac.",
          "cuenta": 6,
          "entidad": 32,
          "estrato_socioeconomico": 3,
          "estrato_socioeconomico_nom": "Medio Alto",
          "estratos": "3) Medio Alto",
          "nom_entidad": "Zacatecas",
          "tono_de_color_de_piel": 11
         },
         {
          "abr_estado": "Zac.",
          "cuenta": 7,
          "entidad": 32,
          "estrato_socioeconomico": 3,
          "estrato_socioeconomico_nom": "Medio Alto",
          "estratos": "3) Medio Alto",
          "nom_entidad": "Zacatecas",
          "tono_de_color_de_piel": 9
         },
         {
          "abr_estado": "Zac.",
          "cuenta": 11,
          "entidad": 32,
          "estrato_socioeconomico": 3,
          "estrato_socioeconomico_nom": "Medio Alto",
          "estratos": "3) Medio Alto",
          "nom_entidad": "Zacatecas",
          "tono_de_color_de_piel": 10
         },
         {
          "abr_estado": "Zac.",
          "cuenta": 13,
          "entidad": 32,
          "estrato_socioeconomico": 3,
          "estrato_socioeconomico_nom": "Medio Alto",
          "estratos": "3) Medio Alto",
          "nom_entidad": "Zacatecas",
          "tono_de_color_de_piel": 6
         },
         {
          "abr_estado": "Gto.",
          "cuenta": 53,
          "entidad": 11,
          "estrato_socioeconomico": 3,
          "estrato_socioeconomico_nom": "Medio Alto",
          "estratos": "3) Medio Alto",
          "nom_entidad": "Guanajuato",
          "tono_de_color_de_piel": 7
         },
         {
          "abr_estado": "Gto.",
          "cuenta": 31,
          "entidad": 11,
          "estrato_socioeconomico": 3,
          "estrato_socioeconomico_nom": "Medio Alto",
          "estratos": "3) Medio Alto",
          "nom_entidad": "Guanajuato",
          "tono_de_color_de_piel": 6
         },
         {
          "abr_estado": "Gto.",
          "cuenta": 10,
          "entidad": 11,
          "estrato_socioeconomico": 3,
          "estrato_socioeconomico_nom": "Medio Alto",
          "estratos": "3) Medio Alto",
          "nom_entidad": "Guanajuato",
          "tono_de_color_de_piel": 9
         },
         {
          "abr_estado": "Gto.",
          "cuenta": 5,
          "entidad": 11,
          "estrato_socioeconomico": 3,
          "estrato_socioeconomico_nom": "Medio Alto",
          "estratos": "3) Medio Alto",
          "nom_entidad": "Guanajuato",
          "tono_de_color_de_piel": 5
         },
         {
          "abr_estado": "Gto.",
          "cuenta": 5,
          "entidad": 11,
          "estrato_socioeconomico": 3,
          "estrato_socioeconomico_nom": "Medio Alto",
          "estratos": "3) Medio Alto",
          "nom_entidad": "Guanajuato",
          "tono_de_color_de_piel": 10
         },
         {
          "abr_estado": "Gto.",
          "cuenta": 4,
          "entidad": 11,
          "estrato_socioeconomico": 3,
          "estrato_socioeconomico_nom": "Medio Alto",
          "estratos": "3) Medio Alto",
          "nom_entidad": "Guanajuato",
          "tono_de_color_de_piel": 4
         },
         {
          "abr_estado": "Gto.",
          "cuenta": 4,
          "entidad": 11,
          "estrato_socioeconomico": 3,
          "estrato_socioeconomico_nom": "Medio Alto",
          "estratos": "3) Medio Alto",
          "nom_entidad": "Guanajuato",
          "tono_de_color_de_piel": 11
         },
         {
          "abr_estado": "Gto.",
          "cuenta": 1,
          "entidad": 11,
          "estrato_socioeconomico": 3,
          "estrato_socioeconomico_nom": "Medio Alto",
          "estratos": "3) Medio Alto",
          "nom_entidad": "Guanajuato",
          "tono_de_color_de_piel": 3
         },
         {
          "abr_estado": "Yuc.",
          "cuenta": 3,
          "entidad": 31,
          "estrato_socioeconomico": 3,
          "estrato_socioeconomico_nom": "Medio Alto",
          "estratos": "3) Medio Alto",
          "nom_entidad": "Yucatán",
          "tono_de_color_de_piel": 9
         },
         {
          "abr_estado": "Yuc.",
          "cuenta": 3,
          "entidad": 31,
          "estrato_socioeconomico": 3,
          "estrato_socioeconomico_nom": "Medio Alto",
          "estratos": "3) Medio Alto",
          "nom_entidad": "Yucatán",
          "tono_de_color_de_piel": 11
         },
         {
          "abr_estado": "Zac.",
          "cuenta": 1,
          "entidad": 32,
          "estrato_socioeconomico": 3,
          "estrato_socioeconomico_nom": "Medio Alto",
          "estratos": "3) Medio Alto",
          "nom_entidad": "Zacatecas",
          "tono_de_color_de_piel": 5
         },
         {
          "abr_estado": "Mex.",
          "cuenta": 1,
          "entidad": 15,
          "estrato_socioeconomico": 3,
          "estrato_socioeconomico_nom": "Medio Alto",
          "estratos": "3) Medio Alto",
          "nom_entidad": "México",
          "tono_de_color_de_piel": 5
         },
         {
          "abr_estado": "Mex.",
          "cuenta": 1,
          "entidad": 15,
          "estrato_socioeconomico": 3,
          "estrato_socioeconomico_nom": "Medio Alto",
          "estratos": "3) Medio Alto",
          "nom_entidad": "México",
          "tono_de_color_de_piel": 4
         },
         {
          "abr_estado": "Gto.",
          "cuenta": 63,
          "entidad": 11,
          "estrato_socioeconomico": 3,
          "estrato_socioeconomico_nom": "Medio Alto",
          "estratos": "3) Medio Alto",
          "nom_entidad": "Guanajuato",
          "tono_de_color_de_piel": 8
         },
         {
          "abr_estado": "Mich.",
          "cuenta": 5,
          "entidad": 16,
          "estrato_socioeconomico": 3,
          "estrato_socioeconomico_nom": "Medio Alto",
          "estratos": "3) Medio Alto",
          "nom_entidad": "Michoacán de Ocampo",
          "tono_de_color_de_piel": 10
         },
         {
          "abr_estado": "Mex.",
          "cuenta": 1,
          "entidad": 15,
          "estrato_socioeconomico": 3,
          "estrato_socioeconomico_nom": "Medio Alto",
          "estratos": "3) Medio Alto",
          "nom_entidad": "México",
          "tono_de_color_de_piel": 2
         },
         {
          "abr_estado": "Mex.",
          "cuenta": 1,
          "entidad": 15,
          "estrato_socioeconomico": 3,
          "estrato_socioeconomico_nom": "Medio Alto",
          "estratos": "3) Medio Alto",
          "nom_entidad": "México",
          "tono_de_color_de_piel": 3
         },
         {
          "abr_estado": "Yuc.",
          "cuenta": 57,
          "entidad": 31,
          "estrato_socioeconomico": 3,
          "estrato_socioeconomico_nom": "Medio Alto",
          "estratos": "3) Medio Alto",
          "nom_entidad": "Yucatán",
          "tono_de_color_de_piel": 8
         },
         {
          "abr_estado": "Yuc.",
          "cuenta": 45,
          "entidad": 31,
          "estrato_socioeconomico": 3,
          "estrato_socioeconomico_nom": "Medio Alto",
          "estratos": "3) Medio Alto",
          "nom_entidad": "Yucatán",
          "tono_de_color_de_piel": 7
         },
         {
          "abr_estado": "Yuc.",
          "cuenta": 9,
          "entidad": 31,
          "estrato_socioeconomico": 3,
          "estrato_socioeconomico_nom": "Medio Alto",
          "estratos": "3) Medio Alto",
          "nom_entidad": "Yucatán",
          "tono_de_color_de_piel": 6
         },
         {
          "abr_estado": "Yuc.",
          "cuenta": 8,
          "entidad": 31,
          "estrato_socioeconomico": 3,
          "estrato_socioeconomico_nom": "Medio Alto",
          "estratos": "3) Medio Alto",
          "nom_entidad": "Yucatán",
          "tono_de_color_de_piel": 10
         },
         {
          "abr_estado": "Yuc.",
          "cuenta": 2,
          "entidad": 31,
          "estrato_socioeconomico": 3,
          "estrato_socioeconomico_nom": "Medio Alto",
          "estratos": "3) Medio Alto",
          "nom_entidad": "Yucatán",
          "tono_de_color_de_piel": 3
         },
         {
          "abr_estado": "Yuc.",
          "cuenta": 4,
          "entidad": 31,
          "estrato_socioeconomico": 3,
          "estrato_socioeconomico_nom": "Medio Alto",
          "estratos": "3) Medio Alto",
          "nom_entidad": "Yucatán",
          "tono_de_color_de_piel": 4
         },
         {
          "abr_estado": "Nay.",
          "cuenta": 2,
          "entidad": 18,
          "estrato_socioeconomico": 3,
          "estrato_socioeconomico_nom": "Medio Alto",
          "estratos": "3) Medio Alto",
          "nom_entidad": "Nayarit",
          "tono_de_color_de_piel": 5
         },
         {
          "abr_estado": "Nay.",
          "cuenta": 3,
          "entidad": 18,
          "estrato_socioeconomico": 3,
          "estrato_socioeconomico_nom": "Medio Alto",
          "estratos": "3) Medio Alto",
          "nom_entidad": "Nayarit",
          "tono_de_color_de_piel": 9
         },
         {
          "abr_estado": "Nay.",
          "cuenta": 4,
          "entidad": 18,
          "estrato_socioeconomico": 3,
          "estrato_socioeconomico_nom": "Medio Alto",
          "estratos": "3) Medio Alto",
          "nom_entidad": "Nayarit",
          "tono_de_color_de_piel": 4
         },
         {
          "abr_estado": "Nay.",
          "cuenta": 5,
          "entidad": 18,
          "estrato_socioeconomico": 3,
          "estrato_socioeconomico_nom": "Medio Alto",
          "estratos": "3) Medio Alto",
          "nom_entidad": "Nayarit",
          "tono_de_color_de_piel": 10
         },
         {
          "abr_estado": "Nay.",
          "cuenta": 14,
          "entidad": 18,
          "estrato_socioeconomico": 3,
          "estrato_socioeconomico_nom": "Medio Alto",
          "estratos": "3) Medio Alto",
          "nom_entidad": "Nayarit",
          "tono_de_color_de_piel": 6
         },
         {
          "abr_estado": "Nay.",
          "cuenta": 53,
          "entidad": 18,
          "estrato_socioeconomico": 3,
          "estrato_socioeconomico_nom": "Medio Alto",
          "estratos": "3) Medio Alto",
          "nom_entidad": "Nayarit",
          "tono_de_color_de_piel": 7
         },
         {
          "abr_estado": "Nay.",
          "cuenta": 82,
          "entidad": 18,
          "estrato_socioeconomico": 3,
          "estrato_socioeconomico_nom": "Medio Alto",
          "estratos": "3) Medio Alto",
          "nom_entidad": "Nayarit",
          "tono_de_color_de_piel": 8
         },
         {
          "abr_estado": "Nay.",
          "cuenta": 2,
          "entidad": 18,
          "estrato_socioeconomico": 3,
          "estrato_socioeconomico_nom": "Medio Alto",
          "estratos": "3) Medio Alto",
          "nom_entidad": "Nayarit",
          "tono_de_color_de_piel": 11
         },
         {
          "abr_estado": "Mex.",
          "cuenta": 8,
          "entidad": 15,
          "estrato_socioeconomico": 3,
          "estrato_socioeconomico_nom": "Medio Alto",
          "estratos": "3) Medio Alto",
          "nom_entidad": "México",
          "tono_de_color_de_piel": 10
         },
         {
          "abr_estado": "Yuc.",
          "cuenta": 1,
          "entidad": 31,
          "estrato_socioeconomico": 3,
          "estrato_socioeconomico_nom": "Medio Alto",
          "estratos": "3) Medio Alto",
          "nom_entidad": "Yucatán",
          "tono_de_color_de_piel": 2
         },
         {
          "abr_estado": "Zac.",
          "cuenta": 44,
          "entidad": 32,
          "estrato_socioeconomico": 3,
          "estrato_socioeconomico_nom": "Medio Alto",
          "estratos": "3) Medio Alto",
          "nom_entidad": "Zacatecas",
          "tono_de_color_de_piel": 7
         },
         {
          "abr_estado": "Gro.",
          "cuenta": 2,
          "entidad": 12,
          "estrato_socioeconomico": 3,
          "estrato_socioeconomico_nom": "Medio Alto",
          "estratos": "3) Medio Alto",
          "nom_entidad": "Guerrero",
          "tono_de_color_de_piel": 6
         },
         {
          "abr_estado": "Ags.",
          "cuenta": 4,
          "entidad": 1,
          "estrato_socioeconomico": 3,
          "estrato_socioeconomico_nom": "Medio Alto",
          "estratos": "3) Medio Alto",
          "nom_entidad": "Aguascalientes",
          "tono_de_color_de_piel": 4
         },
         {
          "abr_estado": "Gro.",
          "cuenta": 1,
          "entidad": 12,
          "estrato_socioeconomico": 3,
          "estrato_socioeconomico_nom": "Medio Alto",
          "estratos": "3) Medio Alto",
          "nom_entidad": "Guerrero",
          "tono_de_color_de_piel": 5
         },
         {
          "abr_estado": "Gro.",
          "cuenta": 1,
          "entidad": 12,
          "estrato_socioeconomico": 3,
          "estrato_socioeconomico_nom": "Medio Alto",
          "estratos": "3) Medio Alto",
          "nom_entidad": "Guerrero",
          "tono_de_color_de_piel": 9
         },
         {
          "abr_estado": "Ags.",
          "cuenta": 5,
          "entidad": 1,
          "estrato_socioeconomico": 3,
          "estrato_socioeconomico_nom": "Medio Alto",
          "estratos": "3) Medio Alto",
          "nom_entidad": "Aguascalientes",
          "tono_de_color_de_piel": 11
         },
         {
          "abr_estado": "Ags.",
          "cuenta": 6,
          "entidad": 1,
          "estrato_socioeconomico": 3,
          "estrato_socioeconomico_nom": "Medio Alto",
          "estratos": "3) Medio Alto",
          "nom_entidad": "Aguascalientes",
          "tono_de_color_de_piel": 5
         },
         {
          "abr_estado": "Ags.",
          "cuenta": 21,
          "entidad": 1,
          "estrato_socioeconomico": 3,
          "estrato_socioeconomico_nom": "Medio Alto",
          "estratos": "3) Medio Alto",
          "nom_entidad": "Aguascalientes",
          "tono_de_color_de_piel": 9
         },
         {
          "abr_estado": "Ags.",
          "cuenta": 27,
          "entidad": 1,
          "estrato_socioeconomico": 3,
          "estrato_socioeconomico_nom": "Medio Alto",
          "estratos": "3) Medio Alto",
          "nom_entidad": "Aguascalientes",
          "tono_de_color_de_piel": 10
         },
         {
          "abr_estado": "Ags.",
          "cuenta": 27,
          "entidad": 1,
          "estrato_socioeconomico": 3,
          "estrato_socioeconomico_nom": "Medio Alto",
          "estratos": "3) Medio Alto",
          "nom_entidad": "Aguascalientes",
          "tono_de_color_de_piel": 6
         },
         {
          "abr_estado": "Ags.",
          "cuenta": 81,
          "entidad": 1,
          "estrato_socioeconomico": 3,
          "estrato_socioeconomico_nom": "Medio Alto",
          "estratos": "3) Medio Alto",
          "nom_entidad": "Aguascalientes",
          "tono_de_color_de_piel": 7
         },
         {
          "abr_estado": "Ags.",
          "cuenta": 129,
          "entidad": 1,
          "estrato_socioeconomico": 3,
          "estrato_socioeconomico_nom": "Medio Alto",
          "estratos": "3) Medio Alto",
          "nom_entidad": "Aguascalientes",
          "tono_de_color_de_piel": 8
         },
         {
          "abr_estado": "Mich.",
          "cuenta": 1,
          "entidad": 16,
          "estrato_socioeconomico": 3,
          "estrato_socioeconomico_nom": "Medio Alto",
          "estratos": "3) Medio Alto",
          "nom_entidad": "Michoacán de Ocampo",
          "tono_de_color_de_piel": 5
         },
         {
          "abr_estado": "Mich.",
          "cuenta": 1,
          "entidad": 16,
          "estrato_socioeconomico": 3,
          "estrato_socioeconomico_nom": "Medio Alto",
          "estratos": "3) Medio Alto",
          "nom_entidad": "Michoacán de Ocampo",
          "tono_de_color_de_piel": 4
         },
         {
          "abr_estado": "Mich.",
          "cuenta": 2,
          "entidad": 16,
          "estrato_socioeconomico": 3,
          "estrato_socioeconomico_nom": "Medio Alto",
          "estratos": "3) Medio Alto",
          "nom_entidad": "Michoacán de Ocampo",
          "tono_de_color_de_piel": 3
         },
         {
          "abr_estado": "Mich.",
          "cuenta": 5,
          "entidad": 16,
          "estrato_socioeconomico": 3,
          "estrato_socioeconomico_nom": "Medio Alto",
          "estratos": "3) Medio Alto",
          "nom_entidad": "Michoacán de Ocampo",
          "tono_de_color_de_piel": 11
         },
         {
          "abr_estado": "Gro.",
          "cuenta": 9,
          "entidad": 12,
          "estrato_socioeconomico": 3,
          "estrato_socioeconomico_nom": "Medio Alto",
          "estratos": "3) Medio Alto",
          "nom_entidad": "Guerrero",
          "tono_de_color_de_piel": 7
         },
         {
          "abr_estado": "Gro.",
          "cuenta": 24,
          "entidad": 12,
          "estrato_socioeconomico": 3,
          "estrato_socioeconomico_nom": "Medio Alto",
          "estratos": "3) Medio Alto",
          "nom_entidad": "Guerrero",
          "tono_de_color_de_piel": 8
         },
         {
          "abr_estado": "Mor.",
          "cuenta": 43,
          "entidad": 17,
          "estrato_socioeconomico": 3,
          "estrato_socioeconomico_nom": "Medio Alto",
          "estratos": "3) Medio Alto",
          "nom_entidad": "Morelos",
          "tono_de_color_de_piel": 8
         },
         {
          "abr_estado": "Mor.",
          "cuenta": 35,
          "entidad": 17,
          "estrato_socioeconomico": 3,
          "estrato_socioeconomico_nom": "Medio Alto",
          "estratos": "3) Medio Alto",
          "nom_entidad": "Morelos",
          "tono_de_color_de_piel": 7
         },
         {
          "abr_estado": "Zac.",
          "cuenta": 76,
          "entidad": 32,
          "estrato_socioeconomico": 3,
          "estrato_socioeconomico_nom": "Medio Alto",
          "estratos": "3) Medio Alto",
          "nom_entidad": "Zacatecas",
          "tono_de_color_de_piel": 8
         },
         {
          "abr_estado": "Hgo.",
          "cuenta": 1,
          "entidad": 13,
          "estrato_socioeconomico": 3,
          "estrato_socioeconomico_nom": "Medio Alto",
          "estratos": "3) Medio Alto",
          "nom_entidad": "Hidalgo",
          "tono_de_color_de_piel": 6
         },
         {
          "abr_estado": "Hgo.",
          "cuenta": 2,
          "entidad": 13,
          "estrato_socioeconomico": 3,
          "estrato_socioeconomico_nom": "Medio Alto",
          "estratos": "3) Medio Alto",
          "nom_entidad": "Hidalgo",
          "tono_de_color_de_piel": 11
         },
         {
          "abr_estado": "Hgo.",
          "cuenta": 3,
          "entidad": 13,
          "estrato_socioeconomico": 3,
          "estrato_socioeconomico_nom": "Medio Alto",
          "estratos": "3) Medio Alto",
          "nom_entidad": "Hidalgo",
          "tono_de_color_de_piel": 10
         },
         {
          "abr_estado": "Hgo.",
          "cuenta": 3,
          "entidad": 13,
          "estrato_socioeconomico": 3,
          "estrato_socioeconomico_nom": "Medio Alto",
          "estratos": "3) Medio Alto",
          "nom_entidad": "Hidalgo",
          "tono_de_color_de_piel": 9
         },
         {
          "abr_estado": "Hgo.",
          "cuenta": 14,
          "entidad": 13,
          "estrato_socioeconomico": 3,
          "estrato_socioeconomico_nom": "Medio Alto",
          "estratos": "3) Medio Alto",
          "nom_entidad": "Hidalgo",
          "tono_de_color_de_piel": 7
         },
         {
          "abr_estado": "Hgo.",
          "cuenta": 16,
          "entidad": 13,
          "estrato_socioeconomico": 3,
          "estrato_socioeconomico_nom": "Medio Alto",
          "estratos": "3) Medio Alto",
          "nom_entidad": "Hidalgo",
          "tono_de_color_de_piel": 8
         },
         {
          "abr_estado": "Yuc.",
          "cuenta": 1,
          "entidad": 31,
          "estrato_socioeconomico": 3,
          "estrato_socioeconomico_nom": "Medio Alto",
          "estratos": "3) Medio Alto",
          "nom_entidad": "Yucatán",
          "tono_de_color_de_piel": 5
         },
         {
          "abr_estado": "Mor.",
          "cuenta": 2,
          "entidad": 17,
          "estrato_socioeconomico": 3,
          "estrato_socioeconomico_nom": "Medio Alto",
          "estratos": "3) Medio Alto",
          "nom_entidad": "Morelos",
          "tono_de_color_de_piel": 11
         },
         {
          "abr_estado": "Mich.",
          "cuenta": 29,
          "entidad": 16,
          "estrato_socioeconomico": 3,
          "estrato_socioeconomico_nom": "Medio Alto",
          "estratos": "3) Medio Alto",
          "nom_entidad": "Michoacán de Ocampo",
          "tono_de_color_de_piel": 7
         },
         {
          "abr_estado": "Mich.",
          "cuenta": 5,
          "entidad": 16,
          "estrato_socioeconomico": 3,
          "estrato_socioeconomico_nom": "Medio Alto",
          "estratos": "3) Medio Alto",
          "nom_entidad": "Michoacán de Ocampo",
          "tono_de_color_de_piel": 6
         },
         {
          "abr_estado": "Mor.",
          "cuenta": 2,
          "entidad": 17,
          "estrato_socioeconomico": 3,
          "estrato_socioeconomico_nom": "Medio Alto",
          "estratos": "3) Medio Alto",
          "nom_entidad": "Morelos",
          "tono_de_color_de_piel": 9
         },
         {
          "abr_estado": "Mor.",
          "cuenta": 2,
          "entidad": 17,
          "estrato_socioeconomico": 3,
          "estrato_socioeconomico_nom": "Medio Alto",
          "estratos": "3) Medio Alto",
          "nom_entidad": "Morelos",
          "tono_de_color_de_piel": 4
         },
         {
          "abr_estado": "Mor.",
          "cuenta": 5,
          "entidad": 17,
          "estrato_socioeconomico": 3,
          "estrato_socioeconomico_nom": "Medio Alto",
          "estratos": "3) Medio Alto",
          "nom_entidad": "Morelos",
          "tono_de_color_de_piel": 10
         },
         {
          "abr_estado": "Mor.",
          "cuenta": 6,
          "entidad": 17,
          "estrato_socioeconomico": 3,
          "estrato_socioeconomico_nom": "Medio Alto",
          "estratos": "3) Medio Alto",
          "nom_entidad": "Morelos",
          "tono_de_color_de_piel": 5
         },
         {
          "abr_estado": "Mor.",
          "cuenta": 25,
          "entidad": 17,
          "estrato_socioeconomico": 3,
          "estrato_socioeconomico_nom": "Medio Alto",
          "estratos": "3) Medio Alto",
          "nom_entidad": "Morelos",
          "tono_de_color_de_piel": 6
         },
         {
          "abr_estado": "Mich.",
          "cuenta": 46,
          "entidad": 16,
          "estrato_socioeconomico": 3,
          "estrato_socioeconomico_nom": "Medio Alto",
          "estratos": "3) Medio Alto",
          "nom_entidad": "Michoacán de Ocampo",
          "tono_de_color_de_piel": 8
         },
         {
          "abr_estado": "NL",
          "cuenta": 137,
          "entidad": 19,
          "estrato_socioeconomico": 3,
          "estrato_socioeconomico_nom": "Medio Alto",
          "estratos": "3) Medio Alto",
          "nom_entidad": "Nuevo León",
          "tono_de_color_de_piel": 8
         },
         {
          "abr_estado": "Mich.",
          "cuenta": 5,
          "entidad": 16,
          "estrato_socioeconomico": 3,
          "estrato_socioeconomico_nom": "Medio Alto",
          "estratos": "3) Medio Alto",
          "nom_entidad": "Michoacán de Ocampo",
          "tono_de_color_de_piel": 9
         },
         {
          "abr_estado": "NL",
          "cuenta": 26,
          "entidad": 19,
          "estrato_socioeconomico": 3,
          "estrato_socioeconomico_nom": "Medio Alto",
          "estratos": "3) Medio Alto",
          "nom_entidad": "Nuevo León",
          "tono_de_color_de_piel": 6
         },
         {
          "abr_estado": "Pue.",
          "cuenta": 30,
          "entidad": 21,
          "estrato_socioeconomico": 3,
          "estrato_socioeconomico_nom": "Medio Alto",
          "estratos": "3) Medio Alto",
          "nom_entidad": "Puebla",
          "tono_de_color_de_piel": 7
         },
         {
          "abr_estado": "Pue.",
          "cuenta": 40,
          "entidad": 21,
          "estrato_socioeconomico": 3,
          "estrato_socioeconomico_nom": "Medio Alto",
          "estratos": "3) Medio Alto",
          "nom_entidad": "Puebla",
          "tono_de_color_de_piel": 8
         },
         {
          "abr_estado": "CDMX",
          "cuenta": 145,
          "entidad": 9,
          "estrato_socioeconomico": 3,
          "estrato_socioeconomico_nom": "Medio Alto",
          "estratos": "3) Medio Alto",
          "nom_entidad": "Ciudad de México",
          "tono_de_color_de_piel": 8
         },
         {
          "abr_estado": "CDMX",
          "cuenta": 121,
          "entidad": 9,
          "estrato_socioeconomico": 3,
          "estrato_socioeconomico_nom": "Medio Alto",
          "estratos": "3) Medio Alto",
          "nom_entidad": "Ciudad de México",
          "tono_de_color_de_piel": 7
         },
         {
          "abr_estado": "CDMX",
          "cuenta": 24,
          "entidad": 9,
          "estrato_socioeconomico": 3,
          "estrato_socioeconomico_nom": "Medio Alto",
          "estratos": "3) Medio Alto",
          "nom_entidad": "Ciudad de México",
          "tono_de_color_de_piel": 9
         },
         {
          "abr_estado": "CDMX",
          "cuenta": 21,
          "entidad": 9,
          "estrato_socioeconomico": 3,
          "estrato_socioeconomico_nom": "Medio Alto",
          "estratos": "3) Medio Alto",
          "nom_entidad": "Ciudad de México",
          "tono_de_color_de_piel": 6
         },
         {
          "abr_estado": "Pue.",
          "cuenta": 8,
          "entidad": 21,
          "estrato_socioeconomico": 3,
          "estrato_socioeconomico_nom": "Medio Alto",
          "estratos": "3) Medio Alto",
          "nom_entidad": "Puebla",
          "tono_de_color_de_piel": 6
         },
         {
          "abr_estado": "CDMX",
          "cuenta": 21,
          "entidad": 9,
          "estrato_socioeconomico": 3,
          "estrato_socioeconomico_nom": "Medio Alto",
          "estratos": "3) Medio Alto",
          "nom_entidad": "Ciudad de México",
          "tono_de_color_de_piel": 10
         },
         {
          "abr_estado": "CDMX",
          "cuenta": 7,
          "entidad": 9,
          "estrato_socioeconomico": 3,
          "estrato_socioeconomico_nom": "Medio Alto",
          "estratos": "3) Medio Alto",
          "nom_entidad": "Ciudad de México",
          "tono_de_color_de_piel": 11
         },
         {
          "abr_estado": "CDMX",
          "cuenta": 3,
          "entidad": 9,
          "estrato_socioeconomico": 3,
          "estrato_socioeconomico_nom": "Medio Alto",
          "estratos": "3) Medio Alto",
          "nom_entidad": "Ciudad de México",
          "tono_de_color_de_piel": 4
         },
         {
          "abr_estado": "CDMX",
          "cuenta": 2,
          "entidad": 9,
          "estrato_socioeconomico": 3,
          "estrato_socioeconomico_nom": "Medio Alto",
          "estratos": "3) Medio Alto",
          "nom_entidad": "Ciudad de México",
          "tono_de_color_de_piel": 2
         },
         {
          "abr_estado": "CDMX",
          "cuenta": 1,
          "entidad": 9,
          "estrato_socioeconomico": 3,
          "estrato_socioeconomico_nom": "Medio Alto",
          "estratos": "3) Medio Alto",
          "nom_entidad": "Ciudad de México",
          "tono_de_color_de_piel": 1
         },
         {
          "abr_estado": "NL",
          "cuenta": 81,
          "entidad": 19,
          "estrato_socioeconomico": 3,
          "estrato_socioeconomico_nom": "Medio Alto",
          "estratos": "3) Medio Alto",
          "nom_entidad": "Nuevo León",
          "tono_de_color_de_piel": 7
         },
         {
          "abr_estado": "Ver.",
          "cuenta": 1,
          "entidad": 30,
          "estrato_socioeconomico": 3,
          "estrato_socioeconomico_nom": "Medio Alto",
          "estratos": "3) Medio Alto",
          "nom_entidad": "Veracruz de Ignacio de la Llave",
          "tono_de_color_de_piel": 2
         },
         {
          "abr_estado": "CDMX",
          "cuenta": 8,
          "entidad": 9,
          "estrato_socioeconomico": 3,
          "estrato_socioeconomico_nom": "Medio Alto",
          "estratos": "3) Medio Alto",
          "nom_entidad": "Ciudad de México",
          "tono_de_color_de_piel": 5
         },
         {
          "abr_estado": "Camp.",
          "cuenta": 4,
          "entidad": 4,
          "estrato_socioeconomico": 3,
          "estrato_socioeconomico_nom": "Medio Alto",
          "estratos": "3) Medio Alto",
          "nom_entidad": "Campeche",
          "tono_de_color_de_piel": 9
         },
         {
          "abr_estado": "Pue.",
          "cuenta": 3,
          "entidad": 21,
          "estrato_socioeconomico": 3,
          "estrato_socioeconomico_nom": "Medio Alto",
          "estratos": "3) Medio Alto",
          "nom_entidad": "Puebla",
          "tono_de_color_de_piel": 4
         },
         {
          "abr_estado": "Pue.",
          "cuenta": 2,
          "entidad": 21,
          "estrato_socioeconomico": 3,
          "estrato_socioeconomico_nom": "Medio Alto",
          "estratos": "3) Medio Alto",
          "nom_entidad": "Puebla",
          "tono_de_color_de_piel": 5
         },
         {
          "abr_estado": "Jal.",
          "cuenta": 6,
          "entidad": 14,
          "estrato_socioeconomico": 3,
          "estrato_socioeconomico_nom": "Medio Alto",
          "estratos": "3) Medio Alto",
          "nom_entidad": "Jalisco",
          "tono_de_color_de_piel": 11
         },
         {
          "abr_estado": "BC",
          "cuenta": 1,
          "entidad": 2,
          "estrato_socioeconomico": 3,
          "estrato_socioeconomico_nom": "Medio Alto",
          "estratos": "3) Medio Alto",
          "nom_entidad": "Baja California",
          "tono_de_color_de_piel": 3
         },
         {
          "abr_estado": "BC",
          "cuenta": 2,
          "entidad": 2,
          "estrato_socioeconomico": 3,
          "estrato_socioeconomico_nom": "Medio Alto",
          "estratos": "3) Medio Alto",
          "nom_entidad": "Baja California",
          "tono_de_color_de_piel": 11
         },
         {
          "abr_estado": "BC",
          "cuenta": 3,
          "entidad": 2,
          "estrato_socioeconomico": 3,
          "estrato_socioeconomico_nom": "Medio Alto",
          "estratos": "3) Medio Alto",
          "nom_entidad": "Baja California",
          "tono_de_color_de_piel": 4
         },
         {
          "abr_estado": "BC",
          "cuenta": 6,
          "entidad": 2,
          "estrato_socioeconomico": 3,
          "estrato_socioeconomico_nom": "Medio Alto",
          "estratos": "3) Medio Alto",
          "nom_entidad": "Baja California",
          "tono_de_color_de_piel": 5
         },
         {
          "abr_estado": "Ver.",
          "cuenta": 28,
          "entidad": 30,
          "estrato_socioeconomico": 3,
          "estrato_socioeconomico_nom": "Medio Alto",
          "estratos": "3) Medio Alto",
          "nom_entidad": "Veracruz de Ignacio de la Llave",
          "tono_de_color_de_piel": 7
         },
         {
          "abr_estado": "Ver.",
          "cuenta": 26,
          "entidad": 30,
          "estrato_socioeconomico": 3,
          "estrato_socioeconomico_nom": "Medio Alto",
          "estratos": "3) Medio Alto",
          "nom_entidad": "Veracruz de Ignacio de la Llave",
          "tono_de_color_de_piel": 8
         },
         {
          "abr_estado": "Jal.",
          "cuenta": 7,
          "entidad": 14,
          "estrato_socioeconomico": 3,
          "estrato_socioeconomico_nom": "Medio Alto",
          "estratos": "3) Medio Alto",
          "nom_entidad": "Jalisco",
          "tono_de_color_de_piel": 5
         },
         {
          "abr_estado": "Ver.",
          "cuenta": 3,
          "entidad": 30,
          "estrato_socioeconomico": 3,
          "estrato_socioeconomico_nom": "Medio Alto",
          "estratos": "3) Medio Alto",
          "nom_entidad": "Veracruz de Ignacio de la Llave",
          "tono_de_color_de_piel": 6
         },
         {
          "abr_estado": "Ver.",
          "cuenta": 2,
          "entidad": 30,
          "estrato_socioeconomico": 3,
          "estrato_socioeconomico_nom": "Medio Alto",
          "estratos": "3) Medio Alto",
          "nom_entidad": "Veracruz de Ignacio de la Llave",
          "tono_de_color_de_piel": 11
         },
         {
          "abr_estado": "Pue.",
          "cuenta": 1,
          "entidad": 21,
          "estrato_socioeconomico": 3,
          "estrato_socioeconomico_nom": "Medio Alto",
          "estratos": "3) Medio Alto",
          "nom_entidad": "Puebla",
          "tono_de_color_de_piel": 9
         },
         {
          "abr_estado": "Pue.",
          "cuenta": 1,
          "entidad": 21,
          "estrato_socioeconomico": 3,
          "estrato_socioeconomico_nom": "Medio Alto",
          "estratos": "3) Medio Alto",
          "nom_entidad": "Puebla",
          "tono_de_color_de_piel": 3
         },
         {
          "abr_estado": "Pue.",
          "cuenta": 1,
          "entidad": 21,
          "estrato_socioeconomico": 3,
          "estrato_socioeconomico_nom": "Medio Alto",
          "estratos": "3) Medio Alto",
          "nom_entidad": "Puebla",
          "tono_de_color_de_piel": 2
         },
         {
          "abr_estado": "Pue.",
          "cuenta": 1,
          "entidad": 21,
          "estrato_socioeconomico": 3,
          "estrato_socioeconomico_nom": "Medio Alto",
          "estratos": "3) Medio Alto",
          "nom_entidad": "Puebla",
          "tono_de_color_de_piel": 1
         },
         {
          "abr_estado": "Pue.",
          "cuenta": 2,
          "entidad": 21,
          "estrato_socioeconomico": 3,
          "estrato_socioeconomico_nom": "Medio Alto",
          "estratos": "3) Medio Alto",
          "nom_entidad": "Puebla",
          "tono_de_color_de_piel": 11
         },
         {
          "abr_estado": "Ver.",
          "cuenta": 1,
          "entidad": 30,
          "estrato_socioeconomico": 3,
          "estrato_socioeconomico_nom": "Medio Alto",
          "estratos": "3) Medio Alto",
          "nom_entidad": "Veracruz de Ignacio de la Llave",
          "tono_de_color_de_piel": 9
         },
         {
          "abr_estado": "Jal.",
          "cuenta": 7,
          "entidad": 14,
          "estrato_socioeconomico": 3,
          "estrato_socioeconomico_nom": "Medio Alto",
          "estratos": "3) Medio Alto",
          "nom_entidad": "Jalisco",
          "tono_de_color_de_piel": 4
         },
         {
          "abr_estado": "CDMX",
          "cuenta": 1,
          "entidad": 9,
          "estrato_socioeconomico": 3,
          "estrato_socioeconomico_nom": "Medio Alto",
          "estratos": "3) Medio Alto",
          "nom_entidad": "Ciudad de México",
          "tono_de_color_de_piel": 3
         },
         {
          "abr_estado": "Jal.",
          "cuenta": 13,
          "entidad": 14,
          "estrato_socioeconomico": 3,
          "estrato_socioeconomico_nom": "Medio Alto",
          "estratos": "3) Medio Alto",
          "nom_entidad": "Jalisco",
          "tono_de_color_de_piel": 10
         },
         {
          "abr_estado": "Dgo.",
          "cuenta": 44,
          "entidad": 10,
          "estrato_socioeconomico": 3,
          "estrato_socioeconomico_nom": "Medio Alto",
          "estratos": "3) Medio Alto",
          "nom_entidad": "Durango",
          "tono_de_color_de_piel": 7
         },
         {
          "abr_estado": "Dgo.",
          "cuenta": 14,
          "entidad": 10,
          "estrato_socioeconomico": 3,
          "estrato_socioeconomico_nom": "Medio Alto",
          "estratos": "3) Medio Alto",
          "nom_entidad": "Durango",
          "tono_de_color_de_piel": 6
         },
         {
          "abr_estado": "Dgo.",
          "cuenta": 12,
          "entidad": 10,
          "estrato_socioeconomico": 3,
          "estrato_socioeconomico_nom": "Medio Alto",
          "estratos": "3) Medio Alto",
          "nom_entidad": "Durango",
          "tono_de_color_de_piel": 10
         },
         {
          "abr_estado": "Dgo.",
          "cuenta": 10,
          "entidad": 10,
          "estrato_socioeconomico": 3,
          "estrato_socioeconomico_nom": "Medio Alto",
          "estratos": "3) Medio Alto",
          "nom_entidad": "Durango",
          "tono_de_color_de_piel": 9
         },
         {
          "abr_estado": "Dgo.",
          "cuenta": 3,
          "entidad": 10,
          "estrato_socioeconomico": 3,
          "estrato_socioeconomico_nom": "Medio Alto",
          "estratos": "3) Medio Alto",
          "nom_entidad": "Durango",
          "tono_de_color_de_piel": 4
         },
         {
          "abr_estado": "Dgo.",
          "cuenta": 2,
          "entidad": 10,
          "estrato_socioeconomico": 3,
          "estrato_socioeconomico_nom": "Medio Alto",
          "estratos": "3) Medio Alto",
          "nom_entidad": "Durango",
          "tono_de_color_de_piel": 3
         },
         {
          "abr_estado": "Dgo.",
          "cuenta": 2,
          "entidad": 10,
          "estrato_socioeconomico": 3,
          "estrato_socioeconomico_nom": "Medio Alto",
          "estratos": "3) Medio Alto",
          "nom_entidad": "Durango",
          "tono_de_color_de_piel": 5
         },
         {
          "abr_estado": "Ver.",
          "cuenta": 1,
          "entidad": 30,
          "estrato_socioeconomico": 3,
          "estrato_socioeconomico_nom": "Medio Alto",
          "estratos": "3) Medio Alto",
          "nom_entidad": "Veracruz de Ignacio de la Llave",
          "tono_de_color_de_piel": 10
         },
         {
          "abr_estado": "Dgo.",
          "cuenta": 2,
          "entidad": 10,
          "estrato_socioeconomico": 3,
          "estrato_socioeconomico_nom": "Medio Alto",
          "estratos": "3) Medio Alto",
          "nom_entidad": "Durango",
          "tono_de_color_de_piel": 11
         },
         {
          "abr_estado": "NL",
          "cuenta": 1,
          "entidad": 19,
          "estrato_socioeconomico": 3,
          "estrato_socioeconomico_nom": "Medio Alto",
          "estratos": "3) Medio Alto",
          "nom_entidad": "Nuevo León",
          "tono_de_color_de_piel": 3
         },
         {
          "abr_estado": "NL",
          "cuenta": 1,
          "entidad": 19,
          "estrato_socioeconomico": 3,
          "estrato_socioeconomico_nom": "Medio Alto",
          "estratos": "3) Medio Alto",
          "nom_entidad": "Nuevo León",
          "tono_de_color_de_piel": 2
         },
         {
          "abr_estado": "NL",
          "cuenta": 3,
          "entidad": 19,
          "estrato_socioeconomico": 3,
          "estrato_socioeconomico_nom": "Medio Alto",
          "estratos": "3) Medio Alto",
          "nom_entidad": "Nuevo León",
          "tono_de_color_de_piel": 4
         },
         {
          "abr_estado": "NL",
          "cuenta": 5,
          "entidad": 19,
          "estrato_socioeconomico": 3,
          "estrato_socioeconomico_nom": "Medio Alto",
          "estratos": "3) Medio Alto",
          "nom_entidad": "Nuevo León",
          "tono_de_color_de_piel": 11
         },
         {
          "abr_estado": "NL",
          "cuenta": 9,
          "entidad": 19,
          "estrato_socioeconomico": 3,
          "estrato_socioeconomico_nom": "Medio Alto",
          "estratos": "3) Medio Alto",
          "nom_entidad": "Nuevo León",
          "tono_de_color_de_piel": 5
         },
         {
          "abr_estado": "NL",
          "cuenta": 17,
          "entidad": 19,
          "estrato_socioeconomico": 3,
          "estrato_socioeconomico_nom": "Medio Alto",
          "estratos": "3) Medio Alto",
          "nom_entidad": "Nuevo León",
          "tono_de_color_de_piel": 9
         },
         {
          "abr_estado": "NL",
          "cuenta": 25,
          "entidad": 19,
          "estrato_socioeconomico": 3,
          "estrato_socioeconomico_nom": "Medio Alto",
          "estratos": "3) Medio Alto",
          "nom_entidad": "Nuevo León",
          "tono_de_color_de_piel": 10
         },
         {
          "abr_estado": "BC",
          "cuenta": 95,
          "entidad": 2,
          "estrato_socioeconomico": 3,
          "estrato_socioeconomico_nom": "Medio Alto",
          "estratos": "3) Medio Alto",
          "nom_entidad": "Baja California",
          "tono_de_color_de_piel": 8
         },
         {
          "abr_estado": "Oax.",
          "cuenta": 13,
          "entidad": 20,
          "estrato_socioeconomico": 3,
          "estrato_socioeconomico_nom": "Medio Alto",
          "estratos": "3) Medio Alto",
          "nom_entidad": "Oaxaca",
          "tono_de_color_de_piel": 8
         },
         {
          "abr_estado": "Dgo.",
          "cuenta": 93,
          "entidad": 10,
          "estrato_socioeconomico": 3,
          "estrato_socioeconomico_nom": "Medio Alto",
          "estratos": "3) Medio Alto",
          "nom_entidad": "Durango",
          "tono_de_color_de_piel": 8
         },
         {
          "abr_estado": "BC",
          "cuenta": 60,
          "entidad": 2,
          "estrato_socioeconomico": 3,
          "estrato_socioeconomico_nom": "Medio Alto",
          "estratos": "3) Medio Alto",
          "nom_entidad": "Baja California",
          "tono_de_color_de_piel": 7
         },
         {
          "abr_estado": "Jal.",
          "cuenta": 78,
          "entidad": 14,
          "estrato_socioeconomico": 3,
          "estrato_socioeconomico_nom": "Medio Alto",
          "estratos": "3) Medio Alto",
          "nom_entidad": "Jalisco",
          "tono_de_color_de_piel": 7
         },
         {
          "abr_estado": "BC",
          "cuenta": 18,
          "entidad": 2,
          "estrato_socioeconomico": 3,
          "estrato_socioeconomico_nom": "Medio Alto",
          "estratos": "3) Medio Alto",
          "nom_entidad": "Baja California",
          "tono_de_color_de_piel": 10
         },
         {
          "abr_estado": "BC",
          "cuenta": 36,
          "entidad": 2,
          "estrato_socioeconomico": 3,
          "estrato_socioeconomico_nom": "Medio Alto",
          "estratos": "3) Medio Alto",
          "nom_entidad": "Baja California",
          "tono_de_color_de_piel": 9
         },
         {
          "abr_estado": "BC",
          "cuenta": 42,
          "entidad": 2,
          "estrato_socioeconomico": 3,
          "estrato_socioeconomico_nom": "Medio Alto",
          "estratos": "3) Medio Alto",
          "nom_entidad": "Baja California",
          "tono_de_color_de_piel": 6
         },
         {
          "abr_estado": "Oax.",
          "cuenta": 11,
          "entidad": 20,
          "estrato_socioeconomico": 3,
          "estrato_socioeconomico_nom": "Medio Alto",
          "estratos": "3) Medio Alto",
          "nom_entidad": "Oaxaca",
          "tono_de_color_de_piel": 7
         },
         {
          "abr_estado": "Jal.",
          "cuenta": 134,
          "entidad": 14,
          "estrato_socioeconomico": 3,
          "estrato_socioeconomico_nom": "Medio Alto",
          "estratos": "3) Medio Alto",
          "nom_entidad": "Jalisco",
          "tono_de_color_de_piel": 8
         },
         {
          "abr_estado": "Mex.",
          "cuenta": 73,
          "entidad": 15,
          "estrato_socioeconomico": 3,
          "estrato_socioeconomico_nom": "Medio Alto",
          "estratos": "3) Medio Alto",
          "nom_entidad": "México",
          "tono_de_color_de_piel": 8
         },
         {
          "abr_estado": "Mex.",
          "cuenta": 37,
          "entidad": 15,
          "estrato_socioeconomico": 3,
          "estrato_socioeconomico_nom": "Medio Alto",
          "estratos": "3) Medio Alto",
          "nom_entidad": "México",
          "tono_de_color_de_piel": 7
         },
         {
          "abr_estado": "Mex.",
          "cuenta": 12,
          "entidad": 15,
          "estrato_socioeconomico": 3,
          "estrato_socioeconomico_nom": "Medio Alto",
          "estratos": "3) Medio Alto",
          "nom_entidad": "México",
          "tono_de_color_de_piel": 9
         },
         {
          "abr_estado": "Mex.",
          "cuenta": 8,
          "entidad": 15,
          "estrato_socioeconomico": 3,
          "estrato_socioeconomico_nom": "Medio Alto",
          "estratos": "3) Medio Alto",
          "nom_entidad": "México",
          "tono_de_color_de_piel": 6
         },
         {
          "abr_estado": "Oax.",
          "cuenta": 1,
          "entidad": 20,
          "estrato_socioeconomico": 3,
          "estrato_socioeconomico_nom": "Medio Alto",
          "estratos": "3) Medio Alto",
          "nom_entidad": "Oaxaca",
          "tono_de_color_de_piel": 4
         },
         {
          "abr_estado": "Oax.",
          "cuenta": 6,
          "entidad": 20,
          "estrato_socioeconomico": 3,
          "estrato_socioeconomico_nom": "Medio Alto",
          "estratos": "3) Medio Alto",
          "nom_entidad": "Oaxaca",
          "tono_de_color_de_piel": 6
         },
         {
          "abr_estado": "Jal.",
          "cuenta": 25,
          "entidad": 14,
          "estrato_socioeconomico": 3,
          "estrato_socioeconomico_nom": "Medio Alto",
          "estratos": "3) Medio Alto",
          "nom_entidad": "Jalisco",
          "tono_de_color_de_piel": 6
         },
         {
          "abr_estado": "Jal.",
          "cuenta": 23,
          "entidad": 14,
          "estrato_socioeconomico": 3,
          "estrato_socioeconomico_nom": "Medio Alto",
          "estratos": "3) Medio Alto",
          "nom_entidad": "Jalisco",
          "tono_de_color_de_piel": 9
         },
         {
          "abr_estado": "Zac.",
          "cuenta": 3,
          "entidad": 32,
          "estrato_socioeconomico": 4,
          "estrato_socioeconomico_nom": "Alto",
          "estratos": "4) Alto",
          "nom_entidad": "Zacatecas",
          "tono_de_color_de_piel": 10
         },
         {
          "abr_estado": "Zac.",
          "cuenta": 2,
          "entidad": 32,
          "estrato_socioeconomico": 4,
          "estrato_socioeconomico_nom": "Alto",
          "estratos": "4) Alto",
          "nom_entidad": "Zacatecas",
          "tono_de_color_de_piel": 9
         },
         {
          "abr_estado": "Zac.",
          "cuenta": 2,
          "entidad": 32,
          "estrato_socioeconomico": 4,
          "estrato_socioeconomico_nom": "Alto",
          "estratos": "4) Alto",
          "nom_entidad": "Zacatecas",
          "tono_de_color_de_piel": 11
         },
         {
          "abr_estado": "Zac.",
          "cuenta": 24,
          "entidad": 32,
          "estrato_socioeconomico": 4,
          "estrato_socioeconomico_nom": "Alto",
          "estratos": "4) Alto",
          "nom_entidad": "Zacatecas",
          "tono_de_color_de_piel": 8
         },
         {
          "abr_estado": "BCS",
          "cuenta": 1,
          "entidad": 3,
          "estrato_socioeconomico": 4,
          "estrato_socioeconomico_nom": "Alto",
          "estratos": "4) Alto",
          "nom_entidad": "Baja California Sur",
          "tono_de_color_de_piel": 4
         },
         {
          "abr_estado": "BCS",
          "cuenta": 2,
          "entidad": 3,
          "estrato_socioeconomico": 4,
          "estrato_socioeconomico_nom": "Alto",
          "estratos": "4) Alto",
          "nom_entidad": "Baja California Sur",
          "tono_de_color_de_piel": 5
         },
         {
          "abr_estado": "BCS",
          "cuenta": 6,
          "entidad": 3,
          "estrato_socioeconomico": 4,
          "estrato_socioeconomico_nom": "Alto",
          "estratos": "4) Alto",
          "nom_entidad": "Baja California Sur",
          "tono_de_color_de_piel": 11
         },
         {
          "abr_estado": "Zac.",
          "cuenta": 8,
          "entidad": 32,
          "estrato_socioeconomico": 4,
          "estrato_socioeconomico_nom": "Alto",
          "estratos": "4) Alto",
          "nom_entidad": "Zacatecas",
          "tono_de_color_de_piel": 7
         },
         {
          "abr_estado": "BC",
          "cuenta": 1,
          "entidad": 2,
          "estrato_socioeconomico": 4,
          "estrato_socioeconomico_nom": "Alto",
          "estratos": "4) Alto",
          "nom_entidad": "Baja California",
          "tono_de_color_de_piel": 5
         },
         {
          "abr_estado": "Tamps.",
          "cuenta": 1,
          "entidad": 28,
          "estrato_socioeconomico": 4,
          "estrato_socioeconomico_nom": "Alto",
          "estratos": "4) Alto",
          "nom_entidad": "Tamaulipas",
          "tono_de_color_de_piel": 5
         },
         {
          "abr_estado": "Tamps.",
          "cuenta": 20,
          "entidad": 28,
          "estrato_socioeconomico": 4,
          "estrato_socioeconomico_nom": "Alto",
          "estratos": "4) Alto",
          "nom_entidad": "Tamaulipas",
          "tono_de_color_de_piel": 7
         },
         {
          "abr_estado": "Ags.",
          "cuenta": 3,
          "entidad": 1,
          "estrato_socioeconomico": 4,
          "estrato_socioeconomico_nom": "Alto",
          "estratos": "4) Alto",
          "nom_entidad": "Aguascalientes",
          "tono_de_color_de_piel": 11
         },
         {
          "abr_estado": "Ags.",
          "cuenta": 1,
          "entidad": 1,
          "estrato_socioeconomico": 4,
          "estrato_socioeconomico_nom": "Alto",
          "estratos": "4) Alto",
          "nom_entidad": "Aguascalientes",
          "tono_de_color_de_piel": 5
         },
         {
          "abr_estado": "Tlax.",
          "cuenta": 19,
          "entidad": 29,
          "estrato_socioeconomico": 4,
          "estrato_socioeconomico_nom": "Alto",
          "estratos": "4) Alto",
          "nom_entidad": "Tlaxcala",
          "tono_de_color_de_piel": 8
         },
         {
          "abr_estado": "Tlax.",
          "cuenta": 10,
          "entidad": 29,
          "estrato_socioeconomico": 4,
          "estrato_socioeconomico_nom": "Alto",
          "estratos": "4) Alto",
          "nom_entidad": "Tlaxcala",
          "tono_de_color_de_piel": 7
         },
         {
          "abr_estado": "Tlax.",
          "cuenta": 4,
          "entidad": 29,
          "estrato_socioeconomico": 4,
          "estrato_socioeconomico_nom": "Alto",
          "estratos": "4) Alto",
          "nom_entidad": "Tlaxcala",
          "tono_de_color_de_piel": 9
         },
         {
          "abr_estado": "Tlax.",
          "cuenta": 2,
          "entidad": 29,
          "estrato_socioeconomico": 4,
          "estrato_socioeconomico_nom": "Alto",
          "estratos": "4) Alto",
          "nom_entidad": "Tlaxcala",
          "tono_de_color_de_piel": 6
         },
         {
          "abr_estado": "Tlax.",
          "cuenta": 2,
          "entidad": 29,
          "estrato_socioeconomico": 4,
          "estrato_socioeconomico_nom": "Alto",
          "estratos": "4) Alto",
          "nom_entidad": "Tlaxcala",
          "tono_de_color_de_piel": 10
         },
         {
          "abr_estado": "Ver.",
          "cuenta": 1,
          "entidad": 30,
          "estrato_socioeconomico": 4,
          "estrato_socioeconomico_nom": "Alto",
          "estratos": "4) Alto",
          "nom_entidad": "Veracruz de Ignacio de la Llave",
          "tono_de_color_de_piel": 9
         },
         {
          "abr_estado": "Ags.",
          "cuenta": 4,
          "entidad": 1,
          "estrato_socioeconomico": 4,
          "estrato_socioeconomico_nom": "Alto",
          "estratos": "4) Alto",
          "nom_entidad": "Aguascalientes",
          "tono_de_color_de_piel": 9
         },
         {
          "abr_estado": "Ver.",
          "cuenta": 1,
          "entidad": 30,
          "estrato_socioeconomico": 4,
          "estrato_socioeconomico_nom": "Alto",
          "estratos": "4) Alto",
          "nom_entidad": "Veracruz de Ignacio de la Llave",
          "tono_de_color_de_piel": 6
         },
         {
          "abr_estado": "Ver.",
          "cuenta": 7,
          "entidad": 30,
          "estrato_socioeconomico": 4,
          "estrato_socioeconomico_nom": "Alto",
          "estratos": "4) Alto",
          "nom_entidad": "Veracruz de Ignacio de la Llave",
          "tono_de_color_de_piel": 7
         },
         {
          "abr_estado": "Tlax.",
          "cuenta": 1,
          "entidad": 29,
          "estrato_socioeconomico": 4,
          "estrato_socioeconomico_nom": "Alto",
          "estratos": "4) Alto",
          "nom_entidad": "Tlaxcala",
          "tono_de_color_de_piel": 5
         },
         {
          "abr_estado": "BC",
          "cuenta": 1,
          "entidad": 2,
          "estrato_socioeconomico": 4,
          "estrato_socioeconomico_nom": "Alto",
          "estratos": "4) Alto",
          "nom_entidad": "Baja California",
          "tono_de_color_de_piel": 11
         },
         {
          "abr_estado": "BC",
          "cuenta": 53,
          "entidad": 2,
          "estrato_socioeconomico": 4,
          "estrato_socioeconomico_nom": "Alto",
          "estratos": "4) Alto",
          "nom_entidad": "Baja California",
          "tono_de_color_de_piel": 8
         },
         {
          "abr_estado": "BC",
          "cuenta": 33,
          "entidad": 2,
          "estrato_socioeconomico": 4,
          "estrato_socioeconomico_nom": "Alto",
          "estratos": "4) Alto",
          "nom_entidad": "Baja California",
          "tono_de_color_de_piel": 9
         },
         {
          "abr_estado": "BC",
          "cuenta": 14,
          "entidad": 2,
          "estrato_socioeconomico": 4,
          "estrato_socioeconomico_nom": "Alto",
          "estratos": "4) Alto",
          "nom_entidad": "Baja California",
          "tono_de_color_de_piel": 7
         },
         {
          "abr_estado": "BC",
          "cuenta": 14,
          "entidad": 2,
          "estrato_socioeconomico": 4,
          "estrato_socioeconomico_nom": "Alto",
          "estratos": "4) Alto",
          "nom_entidad": "Baja California",
          "tono_de_color_de_piel": 10
         },
         {
          "abr_estado": "BC",
          "cuenta": 10,
          "entidad": 2,
          "estrato_socioeconomico": 4,
          "estrato_socioeconomico_nom": "Alto",
          "estratos": "4) Alto",
          "nom_entidad": "Baja California",
          "tono_de_color_de_piel": 6
         },
         {
          "abr_estado": "Ver.",
          "cuenta": 3,
          "entidad": 30,
          "estrato_socioeconomico": 4,
          "estrato_socioeconomico_nom": "Alto",
          "estratos": "4) Alto",
          "nom_entidad": "Veracruz de Ignacio de la Llave",
          "tono_de_color_de_piel": 8
         },
         {
          "abr_estado": "Ags.",
          "cuenta": 9,
          "entidad": 1,
          "estrato_socioeconomico": 4,
          "estrato_socioeconomico_nom": "Alto",
          "estratos": "4) Alto",
          "nom_entidad": "Aguascalientes",
          "tono_de_color_de_piel": 10
         },
         {
          "abr_estado": "BCS",
          "cuenta": 47,
          "entidad": 3,
          "estrato_socioeconomico": 4,
          "estrato_socioeconomico_nom": "Alto",
          "estratos": "4) Alto",
          "nom_entidad": "Baja California Sur",
          "tono_de_color_de_piel": 8
         },
         {
          "abr_estado": "BCS",
          "cuenta": 42,
          "entidad": 3,
          "estrato_socioeconomico": 4,
          "estrato_socioeconomico_nom": "Alto",
          "estratos": "4) Alto",
          "nom_entidad": "Baja California Sur",
          "tono_de_color_de_piel": 7
         },
         {
          "abr_estado": "Tamps.",
          "cuenta": 5,
          "entidad": 28,
          "estrato_socioeconomico": 4,
          "estrato_socioeconomico_nom": "Alto",
          "estratos": "4) Alto",
          "nom_entidad": "Tamaulipas",
          "tono_de_color_de_piel": 6
         },
         {
          "abr_estado": "Tamps.",
          "cuenta": 5,
          "entidad": 28,
          "estrato_socioeconomico": 4,
          "estrato_socioeconomico_nom": "Alto",
          "estratos": "4) Alto",
          "nom_entidad": "Tamaulipas",
          "tono_de_color_de_piel": 11
         },
         {
          "abr_estado": "Tamps.",
          "cuenta": 4,
          "entidad": 28,
          "estrato_socioeconomico": 4,
          "estrato_socioeconomico_nom": "Alto",
          "estratos": "4) Alto",
          "nom_entidad": "Tamaulipas",
          "tono_de_color_de_piel": 9
         },
         {
          "abr_estado": "Ags.",
          "cuenta": 53,
          "entidad": 1,
          "estrato_socioeconomico": 4,
          "estrato_socioeconomico_nom": "Alto",
          "estratos": "4) Alto",
          "nom_entidad": "Aguascalientes",
          "tono_de_color_de_piel": 8
         },
         {
          "abr_estado": "Ags.",
          "cuenta": 32,
          "entidad": 1,
          "estrato_socioeconomico": 4,
          "estrato_socioeconomico_nom": "Alto",
          "estratos": "4) Alto",
          "nom_entidad": "Aguascalientes",
          "tono_de_color_de_piel": 7
         },
         {
          "abr_estado": "Ags.",
          "cuenta": 9,
          "entidad": 1,
          "estrato_socioeconomico": 4,
          "estrato_socioeconomico_nom": "Alto",
          "estratos": "4) Alto",
          "nom_entidad": "Aguascalientes",
          "tono_de_color_de_piel": 6
         },
         {
          "abr_estado": "Yuc.",
          "cuenta": 1,
          "entidad": 31,
          "estrato_socioeconomico": 4,
          "estrato_socioeconomico_nom": "Alto",
          "estratos": "4) Alto",
          "nom_entidad": "Yucatán",
          "tono_de_color_de_piel": 4
         },
         {
          "abr_estado": "Yuc.",
          "cuenta": 6,
          "entidad": 31,
          "estrato_socioeconomico": 4,
          "estrato_socioeconomico_nom": "Alto",
          "estratos": "4) Alto",
          "nom_entidad": "Yucatán",
          "tono_de_color_de_piel": 10
         },
         {
          "abr_estado": "Yuc.",
          "cuenta": 7,
          "entidad": 31,
          "estrato_socioeconomico": 4,
          "estrato_socioeconomico_nom": "Alto",
          "estratos": "4) Alto",
          "nom_entidad": "Yucatán",
          "tono_de_color_de_piel": 11
         },
         {
          "abr_estado": "Yuc.",
          "cuenta": 8,
          "entidad": 31,
          "estrato_socioeconomico": 4,
          "estrato_socioeconomico_nom": "Alto",
          "estratos": "4) Alto",
          "nom_entidad": "Yucatán",
          "tono_de_color_de_piel": 6
         },
         {
          "abr_estado": "Yuc.",
          "cuenta": 12,
          "entidad": 31,
          "estrato_socioeconomico": 4,
          "estrato_socioeconomico_nom": "Alto",
          "estratos": "4) Alto",
          "nom_entidad": "Yucatán",
          "tono_de_color_de_piel": 7
         },
         {
          "abr_estado": "Yuc.",
          "cuenta": 43,
          "entidad": 31,
          "estrato_socioeconomico": 4,
          "estrato_socioeconomico_nom": "Alto",
          "estratos": "4) Alto",
          "nom_entidad": "Yucatán",
          "tono_de_color_de_piel": 8
         },
         {
          "abr_estado": "Tamps.",
          "cuenta": 4,
          "entidad": 28,
          "estrato_socioeconomico": 4,
          "estrato_socioeconomico_nom": "Alto",
          "estratos": "4) Alto",
          "nom_entidad": "Tamaulipas",
          "tono_de_color_de_piel": 10
         },
         {
          "abr_estado": "Tamps.",
          "cuenta": 2,
          "entidad": 28,
          "estrato_socioeconomico": 4,
          "estrato_socioeconomico_nom": "Alto",
          "estratos": "4) Alto",
          "nom_entidad": "Tamaulipas",
          "tono_de_color_de_piel": 3
         },
         {
          "abr_estado": "Tamps.",
          "cuenta": 1,
          "entidad": 28,
          "estrato_socioeconomico": 4,
          "estrato_socioeconomico_nom": "Alto",
          "estratos": "4) Alto",
          "nom_entidad": "Tamaulipas",
          "tono_de_color_de_piel": 4
         },
         {
          "abr_estado": "BC",
          "cuenta": 1,
          "entidad": 2,
          "estrato_socioeconomico": 4,
          "estrato_socioeconomico_nom": "Alto",
          "estratos": "4) Alto",
          "nom_entidad": "Baja California",
          "tono_de_color_de_piel": 4
         },
         {
          "abr_estado": "BCS",
          "cuenta": 6,
          "entidad": 3,
          "estrato_socioeconomico": 4,
          "estrato_socioeconomico_nom": "Alto",
          "estratos": "4) Alto",
          "nom_entidad": "Baja California Sur",
          "tono_de_color_de_piel": 9
         },
         {
          "abr_estado": "BCS",
          "cuenta": 8,
          "entidad": 3,
          "estrato_socioeconomico": 4,
          "estrato_socioeconomico_nom": "Alto",
          "estratos": "4) Alto",
          "nom_entidad": "Baja California Sur",
          "tono_de_color_de_piel": 10
         },
         {
          "abr_estado": "BCS",
          "cuenta": 16,
          "entidad": 3,
          "estrato_socioeconomico": 4,
          "estrato_socioeconomico_nom": "Alto",
          "estratos": "4) Alto",
          "nom_entidad": "Baja California Sur",
          "tono_de_color_de_piel": 6
         },
         {
          "abr_estado": "Tamps.",
          "cuenta": 33,
          "entidad": 28,
          "estrato_socioeconomico": 4,
          "estrato_socioeconomico_nom": "Alto",
          "estratos": "4) Alto",
          "nom_entidad": "Tamaulipas",
          "tono_de_color_de_piel": 8
         },
         {
          "abr_estado": "Jal.",
          "cuenta": 10,
          "entidad": 14,
          "estrato_socioeconomico": 4,
          "estrato_socioeconomico_nom": "Alto",
          "estratos": "4) Alto",
          "nom_entidad": "Jalisco",
          "tono_de_color_de_piel": 9
         },
         {
          "abr_estado": "Q. Roo",
          "cuenta": 9,
          "entidad": 23,
          "estrato_socioeconomico": 4,
          "estrato_socioeconomico_nom": "Alto",
          "estratos": "4) Alto",
          "nom_entidad": "Quintana Roo",
          "tono_de_color_de_piel": 5
         },
         {
          "abr_estado": "Tab.",
          "cuenta": 1,
          "entidad": 27,
          "estrato_socioeconomico": 4,
          "estrato_socioeconomico_nom": "Alto",
          "estratos": "4) Alto",
          "nom_entidad": "Tabasco",
          "tono_de_color_de_piel": 10
         },
         {
          "abr_estado": "NL",
          "cuenta": 80,
          "entidad": 19,
          "estrato_socioeconomico": 4,
          "estrato_socioeconomico_nom": "Alto",
          "estratos": "4) Alto",
          "nom_entidad": "Nuevo León",
          "tono_de_color_de_piel": 8
         },
         {
          "abr_estado": "Dgo.",
          "cuenta": 25,
          "entidad": 10,
          "estrato_socioeconomico": 4,
          "estrato_socioeconomico_nom": "Alto",
          "estratos": "4) Alto",
          "nom_entidad": "Durango",
          "tono_de_color_de_piel": 8
         },
         {
          "abr_estado": "Dgo.",
          "cuenta": 15,
          "entidad": 10,
          "estrato_socioeconomico": 4,
          "estrato_socioeconomico_nom": "Alto",
          "estratos": "4) Alto",
          "nom_entidad": "Durango",
          "tono_de_color_de_piel": 7
         },
         {
          "abr_estado": "Dgo.",
          "cuenta": 5,
          "entidad": 10,
          "estrato_socioeconomico": 4,
          "estrato_socioeconomico_nom": "Alto",
          "estratos": "4) Alto",
          "nom_entidad": "Durango",
          "tono_de_color_de_piel": 6
         },
         {
          "abr_estado": "Dgo.",
          "cuenta": 3,
          "entidad": 10,
          "estrato_socioeconomico": 4,
          "estrato_socioeconomico_nom": "Alto",
          "estratos": "4) Alto",
          "nom_entidad": "Durango",
          "tono_de_color_de_piel": 11
         },
         {
          "abr_estado": "Dgo.",
          "cuenta": 2,
          "entidad": 10,
          "estrato_socioeconomico": 4,
          "estrato_socioeconomico_nom": "Alto",
          "estratos": "4) Alto",
          "nom_entidad": "Durango",
          "tono_de_color_de_piel": 5
         },
         {
          "abr_estado": "Dgo.",
          "cuenta": 2,
          "entidad": 10,
          "estrato_socioeconomico": 4,
          "estrato_socioeconomico_nom": "Alto",
          "estratos": "4) Alto",
          "nom_entidad": "Durango",
          "tono_de_color_de_piel": 9
         },
         {
          "abr_estado": "NL",
          "cuenta": 33,
          "entidad": 19,
          "estrato_socioeconomico": 4,
          "estrato_socioeconomico_nom": "Alto",
          "estratos": "4) Alto",
          "nom_entidad": "Nuevo León",
          "tono_de_color_de_piel": 7
         },
         {
          "abr_estado": "Dgo.",
          "cuenta": 2,
          "entidad": 10,
          "estrato_socioeconomico": 4,
          "estrato_socioeconomico_nom": "Alto",
          "estratos": "4) Alto",
          "nom_entidad": "Durango",
          "tono_de_color_de_piel": 10
         },
         {
          "abr_estado": "Nay.",
          "cuenta": 2,
          "entidad": 18,
          "estrato_socioeconomico": 4,
          "estrato_socioeconomico_nom": "Alto",
          "estratos": "4) Alto",
          "nom_entidad": "Nayarit",
          "tono_de_color_de_piel": 9
         },
         {
          "abr_estado": "Nay.",
          "cuenta": 3,
          "entidad": 18,
          "estrato_socioeconomico": 4,
          "estrato_socioeconomico_nom": "Alto",
          "estratos": "4) Alto",
          "nom_entidad": "Nayarit",
          "tono_de_color_de_piel": 6
         },
         {
          "abr_estado": "Nay.",
          "cuenta": 14,
          "entidad": 18,
          "estrato_socioeconomico": 4,
          "estrato_socioeconomico_nom": "Alto",
          "estratos": "4) Alto",
          "nom_entidad": "Nayarit",
          "tono_de_color_de_piel": 7
         },
         {
          "abr_estado": "Nay.",
          "cuenta": 17,
          "entidad": 18,
          "estrato_socioeconomico": 4,
          "estrato_socioeconomico_nom": "Alto",
          "estratos": "4) Alto",
          "nom_entidad": "Nayarit",
          "tono_de_color_de_piel": 8
         },
         {
          "abr_estado": "Gto.",
          "cuenta": 24,
          "entidad": 11,
          "estrato_socioeconomico": 4,
          "estrato_socioeconomico_nom": "Alto",
          "estratos": "4) Alto",
          "nom_entidad": "Guanajuato",
          "tono_de_color_de_piel": 8
         },
         {
          "abr_estado": "Gto.",
          "cuenta": 12,
          "entidad": 11,
          "estrato_socioeconomico": 4,
          "estrato_socioeconomico_nom": "Alto",
          "estratos": "4) Alto",
          "nom_entidad": "Guanajuato",
          "tono_de_color_de_piel": 7
         },
         {
          "abr_estado": "Gto.",
          "cuenta": 8,
          "entidad": 11,
          "estrato_socioeconomico": 4,
          "estrato_socioeconomico_nom": "Alto",
          "estratos": "4) Alto",
          "nom_entidad": "Guanajuato",
          "tono_de_color_de_piel": 6
         },
         {
          "abr_estado": "Nay.",
          "cuenta": 2,
          "entidad": 18,
          "estrato_socioeconomico": 4,
          "estrato_socioeconomico_nom": "Alto",
          "estratos": "4) Alto",
          "nom_entidad": "Nayarit",
          "tono_de_color_de_piel": 10
         },
         {
          "abr_estado": "NL",
          "cuenta": 19,
          "entidad": 19,
          "estrato_socioeconomico": 4,
          "estrato_socioeconomico_nom": "Alto",
          "estratos": "4) Alto",
          "nom_entidad": "Nuevo León",
          "tono_de_color_de_piel": 10
         },
         {
          "abr_estado": "NL",
          "cuenta": 11,
          "entidad": 19,
          "estrato_socioeconomico": 4,
          "estrato_socioeconomico_nom": "Alto",
          "estratos": "4) Alto",
          "nom_entidad": "Nuevo León",
          "tono_de_color_de_piel": 9
         },
         {
          "abr_estado": "NL",
          "cuenta": 9,
          "entidad": 19,
          "estrato_socioeconomico": 4,
          "estrato_socioeconomico_nom": "Alto",
          "estratos": "4) Alto",
          "nom_entidad": "Nuevo León",
          "tono_de_color_de_piel": 6
         },
         {
          "abr_estado": "Pue.",
          "cuenta": 7,
          "entidad": 21,
          "estrato_socioeconomico": 4,
          "estrato_socioeconomico_nom": "Alto",
          "estratos": "4) Alto",
          "nom_entidad": "Puebla",
          "tono_de_color_de_piel": 6
         },
         {
          "abr_estado": "Pue.",
          "cuenta": 11,
          "entidad": 21,
          "estrato_socioeconomico": 4,
          "estrato_socioeconomico_nom": "Alto",
          "estratos": "4) Alto",
          "nom_entidad": "Puebla",
          "tono_de_color_de_piel": 7
         },
         {
          "abr_estado": "Pue.",
          "cuenta": 17,
          "entidad": 21,
          "estrato_socioeconomico": 4,
          "estrato_socioeconomico_nom": "Alto",
          "estratos": "4) Alto",
          "nom_entidad": "Puebla",
          "tono_de_color_de_piel": 8
         },
         {
          "abr_estado": "CDMX",
          "cuenta": 48,
          "entidad": 9,
          "estrato_socioeconomico": 4,
          "estrato_socioeconomico_nom": "Alto",
          "estratos": "4) Alto",
          "nom_entidad": "Ciudad de México",
          "tono_de_color_de_piel": 8
         },
         {
          "abr_estado": "CDMX",
          "cuenta": 26,
          "entidad": 9,
          "estrato_socioeconomico": 4,
          "estrato_socioeconomico_nom": "Alto",
          "estratos": "4) Alto",
          "nom_entidad": "Ciudad de México",
          "tono_de_color_de_piel": 7
         },
         {
          "abr_estado": "CDMX",
          "cuenta": 15,
          "entidad": 9,
          "estrato_socioeconomico": 4,
          "estrato_socioeconomico_nom": "Alto",
          "estratos": "4) Alto",
          "nom_entidad": "Ciudad de México",
          "tono_de_color_de_piel": 10
         },
         {
          "abr_estado": "CDMX",
          "cuenta": 8,
          "entidad": 9,
          "estrato_socioeconomico": 4,
          "estrato_socioeconomico_nom": "Alto",
          "estratos": "4) Alto",
          "nom_entidad": "Ciudad de México",
          "tono_de_color_de_piel": 9
         },
         {
          "abr_estado": "CDMX",
          "cuenta": 8,
          "entidad": 9,
          "estrato_socioeconomico": 4,
          "estrato_socioeconomico_nom": "Alto",
          "estratos": "4) Alto",
          "nom_entidad": "Ciudad de México",
          "tono_de_color_de_piel": 11
         },
         {
          "abr_estado": "CDMX",
          "cuenta": 7,
          "entidad": 9,
          "estrato_socioeconomico": 4,
          "estrato_socioeconomico_nom": "Alto",
          "estratos": "4) Alto",
          "nom_entidad": "Ciudad de México",
          "tono_de_color_de_piel": 6
         },
         {
          "abr_estado": "CDMX",
          "cuenta": 1,
          "entidad": 9,
          "estrato_socioeconomico": 4,
          "estrato_socioeconomico_nom": "Alto",
          "estratos": "4) Alto",
          "nom_entidad": "Ciudad de México",
          "tono_de_color_de_piel": 5
         },
         {
          "abr_estado": "Oax.",
          "cuenta": 1,
          "entidad": 20,
          "estrato_socioeconomico": 4,
          "estrato_socioeconomico_nom": "Alto",
          "estratos": "4) Alto",
          "nom_entidad": "Oaxaca",
          "tono_de_color_de_piel": 9
         },
         {
          "abr_estado": "Oax.",
          "cuenta": 2,
          "entidad": 20,
          "estrato_socioeconomico": 4,
          "estrato_socioeconomico_nom": "Alto",
          "estratos": "4) Alto",
          "nom_entidad": "Oaxaca",
          "tono_de_color_de_piel": 8
         },
         {
          "abr_estado": "Oax.",
          "cuenta": 2,
          "entidad": 20,
          "estrato_socioeconomico": 4,
          "estrato_socioeconomico_nom": "Alto",
          "estratos": "4) Alto",
          "nom_entidad": "Oaxaca",
          "tono_de_color_de_piel": 6
         },
         {
          "abr_estado": "Oax.",
          "cuenta": 4,
          "entidad": 20,
          "estrato_socioeconomico": 4,
          "estrato_socioeconomico_nom": "Alto",
          "estratos": "4) Alto",
          "nom_entidad": "Oaxaca",
          "tono_de_color_de_piel": 7
         },
         {
          "abr_estado": "NL",
          "cuenta": 2,
          "entidad": 19,
          "estrato_socioeconomico": 4,
          "estrato_socioeconomico_nom": "Alto",
          "estratos": "4) Alto",
          "nom_entidad": "Nuevo León",
          "tono_de_color_de_piel": 5
         },
         {
          "abr_estado": "NL",
          "cuenta": 2,
          "entidad": 19,
          "estrato_socioeconomico": 4,
          "estrato_socioeconomico_nom": "Alto",
          "estratos": "4) Alto",
          "nom_entidad": "Nuevo León",
          "tono_de_color_de_piel": 4
         },
         {
          "abr_estado": "NL",
          "cuenta": 8,
          "entidad": 19,
          "estrato_socioeconomico": 4,
          "estrato_socioeconomico_nom": "Alto",
          "estratos": "4) Alto",
          "nom_entidad": "Nuevo León",
          "tono_de_color_de_piel": 11
         },
         {
          "abr_estado": "Gto.",
          "cuenta": 4,
          "entidad": 11,
          "estrato_socioeconomico": 4,
          "estrato_socioeconomico_nom": "Alto",
          "estratos": "4) Alto",
          "nom_entidad": "Guanajuato",
          "tono_de_color_de_piel": 9
         },
         {
          "abr_estado": "Pue.",
          "cuenta": 4,
          "entidad": 21,
          "estrato_socioeconomico": 4,
          "estrato_socioeconomico_nom": "Alto",
          "estratos": "4) Alto",
          "nom_entidad": "Puebla",
          "tono_de_color_de_piel": 10
         },
         {
          "abr_estado": "Gto.",
          "cuenta": 3,
          "entidad": 11,
          "estrato_socioeconomico": 4,
          "estrato_socioeconomico_nom": "Alto",
          "estratos": "4) Alto",
          "nom_entidad": "Guanajuato",
          "tono_de_color_de_piel": 10
         },
         {
          "abr_estado": "Gto.",
          "cuenta": 1,
          "entidad": 11,
          "estrato_socioeconomico": 4,
          "estrato_socioeconomico_nom": "Alto",
          "estratos": "4) Alto",
          "nom_entidad": "Guanajuato",
          "tono_de_color_de_piel": 5
         },
         {
          "abr_estado": "Hgo.",
          "cuenta": 2,
          "entidad": 13,
          "estrato_socioeconomico": 4,
          "estrato_socioeconomico_nom": "Alto",
          "estratos": "4) Alto",
          "nom_entidad": "Hidalgo",
          "tono_de_color_de_piel": 6
         },
         {
          "abr_estado": "Hgo.",
          "cuenta": 1,
          "entidad": 13,
          "estrato_socioeconomico": 4,
          "estrato_socioeconomico_nom": "Alto",
          "estratos": "4) Alto",
          "nom_entidad": "Hidalgo",
          "tono_de_color_de_piel": 10
         },
         {
          "abr_estado": "Mex.",
          "cuenta": 1,
          "entidad": 15,
          "estrato_socioeconomico": 4,
          "estrato_socioeconomico_nom": "Alto",
          "estratos": "4) Alto",
          "nom_entidad": "México",
          "tono_de_color_de_piel": 4
         },
         {
          "abr_estado": "Mex.",
          "cuenta": 1,
          "entidad": 15,
          "estrato_socioeconomico": 4,
          "estrato_socioeconomico_nom": "Alto",
          "estratos": "4) Alto",
          "nom_entidad": "México",
          "tono_de_color_de_piel": 3
         },
         {
          "abr_estado": "Mex.",
          "cuenta": 1,
          "entidad": 15,
          "estrato_socioeconomico": 4,
          "estrato_socioeconomico_nom": "Alto",
          "estratos": "4) Alto",
          "nom_entidad": "México",
          "tono_de_color_de_piel": 2
         },
         {
          "abr_estado": "Mex.",
          "cuenta": 3,
          "entidad": 15,
          "estrato_socioeconomico": 4,
          "estrato_socioeconomico_nom": "Alto",
          "estratos": "4) Alto",
          "nom_entidad": "México",
          "tono_de_color_de_piel": 5
         },
         {
          "abr_estado": "Mex.",
          "cuenta": 5,
          "entidad": 15,
          "estrato_socioeconomico": 4,
          "estrato_socioeconomico_nom": "Alto",
          "estratos": "4) Alto",
          "nom_entidad": "México",
          "tono_de_color_de_piel": 11
         },
         {
          "abr_estado": "Hgo.",
          "cuenta": 4,
          "entidad": 13,
          "estrato_socioeconomico": 4,
          "estrato_socioeconomico_nom": "Alto",
          "estratos": "4) Alto",
          "nom_entidad": "Hidalgo",
          "tono_de_color_de_piel": 9
         },
         {
          "abr_estado": "Mex.",
          "cuenta": 5,
          "entidad": 15,
          "estrato_socioeconomico": 4,
          "estrato_socioeconomico_nom": "Alto",
          "estratos": "4) Alto",
          "nom_entidad": "México",
          "tono_de_color_de_piel": 10
         },
         {
          "abr_estado": "Mex.",
          "cuenta": 5,
          "entidad": 15,
          "estrato_socioeconomico": 4,
          "estrato_socioeconomico_nom": "Alto",
          "estratos": "4) Alto",
          "nom_entidad": "México",
          "tono_de_color_de_piel": 6
         },
         {
          "abr_estado": "Mex.",
          "cuenta": 23,
          "entidad": 15,
          "estrato_socioeconomico": 4,
          "estrato_socioeconomico_nom": "Alto",
          "estratos": "4) Alto",
          "nom_entidad": "México",
          "tono_de_color_de_piel": 7
         },
         {
          "abr_estado": "Mex.",
          "cuenta": 36,
          "entidad": 15,
          "estrato_socioeconomico": 4,
          "estrato_socioeconomico_nom": "Alto",
          "estratos": "4) Alto",
          "nom_entidad": "México",
          "tono_de_color_de_piel": 8
         },
         {
          "abr_estado": "Jal.",
          "cuenta": 40,
          "entidad": 14,
          "estrato_socioeconomico": 4,
          "estrato_socioeconomico_nom": "Alto",
          "estratos": "4) Alto",
          "nom_entidad": "Jalisco",
          "tono_de_color_de_piel": 8
         },
         {
          "abr_estado": "Jal.",
          "cuenta": 2,
          "entidad": 14,
          "estrato_socioeconomico": 4,
          "estrato_socioeconomico_nom": "Alto",
          "estratos": "4) Alto",
          "nom_entidad": "Jalisco",
          "tono_de_color_de_piel": 11
         },
         {
          "abr_estado": "Jal.",
          "cuenta": 4,
          "entidad": 14,
          "estrato_socioeconomico": 4,
          "estrato_socioeconomico_nom": "Alto",
          "estratos": "4) Alto",
          "nom_entidad": "Jalisco",
          "tono_de_color_de_piel": 10
         },
         {
          "abr_estado": "Jal.",
          "cuenta": 6,
          "entidad": 14,
          "estrato_socioeconomico": 4,
          "estrato_socioeconomico_nom": "Alto",
          "estratos": "4) Alto",
          "nom_entidad": "Jalisco",
          "tono_de_color_de_piel": 6
         },
         {
          "abr_estado": "Mex.",
          "cuenta": 5,
          "entidad": 15,
          "estrato_socioeconomico": 4,
          "estrato_socioeconomico_nom": "Alto",
          "estratos": "4) Alto",
          "nom_entidad": "México",
          "tono_de_color_de_piel": 9
         },
         {
          "abr_estado": "Hgo.",
          "cuenta": 9,
          "entidad": 13,
          "estrato_socioeconomico": 4,
          "estrato_socioeconomico_nom": "Alto",
          "estratos": "4) Alto",
          "nom_entidad": "Hidalgo",
          "tono_de_color_de_piel": 8
         },
         {
          "abr_estado": "Hgo.",
          "cuenta": 18,
          "entidad": 13,
          "estrato_socioeconomico": 4,
          "estrato_socioeconomico_nom": "Alto",
          "estratos": "4) Alto",
          "nom_entidad": "Hidalgo",
          "tono_de_color_de_piel": 7
         },
         {
          "abr_estado": "Mich.",
          "cuenta": 9,
          "entidad": 16,
          "estrato_socioeconomico": 4,
          "estrato_socioeconomico_nom": "Alto",
          "estratos": "4) Alto",
          "nom_entidad": "Michoacán de Ocampo",
          "tono_de_color_de_piel": 8
         },
         {
          "abr_estado": "Gto.",
          "cuenta": 1,
          "entidad": 11,
          "estrato_socioeconomico": 4,
          "estrato_socioeconomico_nom": "Alto",
          "estratos": "4) Alto",
          "nom_entidad": "Guanajuato",
          "tono_de_color_de_piel": 11
         },
         {
          "abr_estado": "Mor.",
          "cuenta": 1,
          "entidad": 17,
          "estrato_socioeconomico": 4,
          "estrato_socioeconomico_nom": "Alto",
          "estratos": "4) Alto",
          "nom_entidad": "Morelos",
          "tono_de_color_de_piel": 5
         },
         {
          "abr_estado": "Mor.",
          "cuenta": 2,
          "entidad": 17,
          "estrato_socioeconomico": 4,
          "estrato_socioeconomico_nom": "Alto",
          "estratos": "4) Alto",
          "nom_entidad": "Morelos",
          "tono_de_color_de_piel": 11
         },
         {
          "abr_estado": "Mor.",
          "cuenta": 2,
          "entidad": 17,
          "estrato_socioeconomico": 4,
          "estrato_socioeconomico_nom": "Alto",
          "estratos": "4) Alto",
          "nom_entidad": "Morelos",
          "tono_de_color_de_piel": 9
         },
         {
          "abr_estado": "Mor.",
          "cuenta": 3,
          "entidad": 17,
          "estrato_socioeconomico": 4,
          "estrato_socioeconomico_nom": "Alto",
          "estratos": "4) Alto",
          "nom_entidad": "Morelos",
          "tono_de_color_de_piel": 6
         },
         {
          "abr_estado": "Mor.",
          "cuenta": 7,
          "entidad": 17,
          "estrato_socioeconomico": 4,
          "estrato_socioeconomico_nom": "Alto",
          "estratos": "4) Alto",
          "nom_entidad": "Morelos",
          "tono_de_color_de_piel": 7
         },
         {
          "abr_estado": "Mor.",
          "cuenta": 12,
          "entidad": 17,
          "estrato_socioeconomico": 4,
          "estrato_socioeconomico_nom": "Alto",
          "estratos": "4) Alto",
          "nom_entidad": "Morelos",
          "tono_de_color_de_piel": 8
         },
         {
          "abr_estado": "Zac.",
          "cuenta": 1,
          "entidad": 32,
          "estrato_socioeconomico": 4,
          "estrato_socioeconomico_nom": "Alto",
          "estratos": "4) Alto",
          "nom_entidad": "Zacatecas",
          "tono_de_color_de_piel": 5
         },
         {
          "abr_estado": "Gro.",
          "cuenta": 3,
          "entidad": 12,
          "estrato_socioeconomico": 4,
          "estrato_socioeconomico_nom": "Alto",
          "estratos": "4) Alto",
          "nom_entidad": "Guerrero",
          "tono_de_color_de_piel": 8
         },
         {
          "abr_estado": "Gro.",
          "cuenta": 1,
          "entidad": 12,
          "estrato_socioeconomico": 4,
          "estrato_socioeconomico_nom": "Alto",
          "estratos": "4) Alto",
          "nom_entidad": "Guerrero",
          "tono_de_color_de_piel": 6
         },
         {
          "abr_estado": "Gro.",
          "cuenta": 1,
          "entidad": 12,
          "estrato_socioeconomico": 4,
          "estrato_socioeconomico_nom": "Alto",
          "estratos": "4) Alto",
          "nom_entidad": "Guerrero",
          "tono_de_color_de_piel": 7
         },
         {
          "abr_estado": "Mich.",
          "cuenta": 1,
          "entidad": 16,
          "estrato_socioeconomico": 4,
          "estrato_socioeconomico_nom": "Alto",
          "estratos": "4) Alto",
          "nom_entidad": "Michoacán de Ocampo",
          "tono_de_color_de_piel": 11
         },
         {
          "abr_estado": "Mich.",
          "cuenta": 1,
          "entidad": 16,
          "estrato_socioeconomico": 4,
          "estrato_socioeconomico_nom": "Alto",
          "estratos": "4) Alto",
          "nom_entidad": "Michoacán de Ocampo",
          "tono_de_color_de_piel": 9
         },
         {
          "abr_estado": "Mich.",
          "cuenta": 1,
          "entidad": 16,
          "estrato_socioeconomico": 4,
          "estrato_socioeconomico_nom": "Alto",
          "estratos": "4) Alto",
          "nom_entidad": "Michoacán de Ocampo",
          "tono_de_color_de_piel": 5
         },
         {
          "abr_estado": "Mich.",
          "cuenta": 2,
          "entidad": 16,
          "estrato_socioeconomico": 4,
          "estrato_socioeconomico_nom": "Alto",
          "estratos": "4) Alto",
          "nom_entidad": "Michoacán de Ocampo",
          "tono_de_color_de_piel": 10
         },
         {
          "abr_estado": "Mich.",
          "cuenta": 4,
          "entidad": 16,
          "estrato_socioeconomico": 4,
          "estrato_socioeconomico_nom": "Alto",
          "estratos": "4) Alto",
          "nom_entidad": "Michoacán de Ocampo",
          "tono_de_color_de_piel": 7
         },
         {
          "abr_estado": "Mich.",
          "cuenta": 4,
          "entidad": 16,
          "estrato_socioeconomico": 4,
          "estrato_socioeconomico_nom": "Alto",
          "estratos": "4) Alto",
          "nom_entidad": "Michoacán de Ocampo",
          "tono_de_color_de_piel": 6
         },
         {
          "abr_estado": "Gto.",
          "cuenta": 2,
          "entidad": 11,
          "estrato_socioeconomico": 4,
          "estrato_socioeconomico_nom": "Alto",
          "estratos": "4) Alto",
          "nom_entidad": "Guanajuato",
          "tono_de_color_de_piel": 4
         },
         {
          "abr_estado": "Pue.",
          "cuenta": 2,
          "entidad": 21,
          "estrato_socioeconomico": 4,
          "estrato_socioeconomico_nom": "Alto",
          "estratos": "4) Alto",
          "nom_entidad": "Puebla",
          "tono_de_color_de_piel": 9
         },
         {
          "abr_estado": "Pue.",
          "cuenta": 1,
          "entidad": 21,
          "estrato_socioeconomico": 4,
          "estrato_socioeconomico_nom": "Alto",
          "estratos": "4) Alto",
          "nom_entidad": "Puebla",
          "tono_de_color_de_piel": 5
         },
         {
          "abr_estado": "Pue.",
          "cuenta": 1,
          "entidad": 21,
          "estrato_socioeconomico": 4,
          "estrato_socioeconomico_nom": "Alto",
          "estratos": "4) Alto",
          "nom_entidad": "Puebla",
          "tono_de_color_de_piel": 11
         },
         {
          "abr_estado": "Coah.",
          "cuenta": 3,
          "entidad": 5,
          "estrato_socioeconomico": 4,
          "estrato_socioeconomico_nom": "Alto",
          "estratos": "4) Alto",
          "nom_entidad": "Coahuila de Zaragoza",
          "tono_de_color_de_piel": 9
         },
         {
          "abr_estado": "Coah.",
          "cuenta": 3,
          "entidad": 5,
          "estrato_socioeconomico": 4,
          "estrato_socioeconomico_nom": "Alto",
          "estratos": "4) Alto",
          "nom_entidad": "Coahuila de Zaragoza",
          "tono_de_color_de_piel": 11
         },
         {
          "abr_estado": "Coah.",
          "cuenta": 1,
          "entidad": 5,
          "estrato_socioeconomico": 4,
          "estrato_socioeconomico_nom": "Alto",
          "estratos": "4) Alto",
          "nom_entidad": "Coahuila de Zaragoza",
          "tono_de_color_de_piel": 4
         },
         {
          "abr_estado": "Coah.",
          "cuenta": 1,
          "entidad": 5,
          "estrato_socioeconomico": 4,
          "estrato_socioeconomico_nom": "Alto",
          "estratos": "4) Alto",
          "nom_entidad": "Coahuila de Zaragoza",
          "tono_de_color_de_piel": 5
         },
         {
          "abr_estado": "Sin.",
          "cuenta": 3,
          "entidad": 25,
          "estrato_socioeconomico": 4,
          "estrato_socioeconomico_nom": "Alto",
          "estratos": "4) Alto",
          "nom_entidad": "Sinaloa",
          "tono_de_color_de_piel": 11
         },
         {
          "abr_estado": "Sin.",
          "cuenta": 3,
          "entidad": 25,
          "estrato_socioeconomico": 4,
          "estrato_socioeconomico_nom": "Alto",
          "estratos": "4) Alto",
          "nom_entidad": "Sinaloa",
          "tono_de_color_de_piel": 6
         },
         {
          "abr_estado": "Sin.",
          "cuenta": 7,
          "entidad": 25,
          "estrato_socioeconomico": 4,
          "estrato_socioeconomico_nom": "Alto",
          "estratos": "4) Alto",
          "nom_entidad": "Sinaloa",
          "tono_de_color_de_piel": 10
         },
         {
          "abr_estado": "Coah.",
          "cuenta": 4,
          "entidad": 5,
          "estrato_socioeconomico": 4,
          "estrato_socioeconomico_nom": "Alto",
          "estratos": "4) Alto",
          "nom_entidad": "Coahuila de Zaragoza",
          "tono_de_color_de_piel": 10
         },
         {
          "abr_estado": "Sin.",
          "cuenta": 12,
          "entidad": 25,
          "estrato_socioeconomico": 4,
          "estrato_socioeconomico_nom": "Alto",
          "estratos": "4) Alto",
          "nom_entidad": "Sinaloa",
          "tono_de_color_de_piel": 9
         },
         {
          "abr_estado": "Sin.",
          "cuenta": 57,
          "entidad": 25,
          "estrato_socioeconomico": 4,
          "estrato_socioeconomico_nom": "Alto",
          "estratos": "4) Alto",
          "nom_entidad": "Sinaloa",
          "tono_de_color_de_piel": 8
         },
         {
          "abr_estado": "Col.",
          "cuenta": 39,
          "entidad": 6,
          "estrato_socioeconomico": 4,
          "estrato_socioeconomico_nom": "Alto",
          "estratos": "4) Alto",
          "nom_entidad": "Colima",
          "tono_de_color_de_piel": 8
         },
         {
          "abr_estado": "Col.",
          "cuenta": 30,
          "entidad": 6,
          "estrato_socioeconomico": 4,
          "estrato_socioeconomico_nom": "Alto",
          "estratos": "4) Alto",
          "nom_entidad": "Colima",
          "tono_de_color_de_piel": 7
         },
         {
          "abr_estado": "Col.",
          "cuenta": 10,
          "entidad": 6,
          "estrato_socioeconomico": 4,
          "estrato_socioeconomico_nom": "Alto",
          "estratos": "4) Alto",
          "nom_entidad": "Colima",
          "tono_de_color_de_piel": 6
         },
         {
          "abr_estado": "Col.",
          "cuenta": 10,
          "entidad": 6,
          "estrato_socioeconomico": 4,
          "estrato_socioeconomico_nom": "Alto",
          "estratos": "4) Alto",
          "nom_entidad": "Colima",
          "tono_de_color_de_piel": 10
         },
         {
          "abr_estado": "Col.",
          "cuenta": 5,
          "entidad": 6,
          "estrato_socioeconomico": 4,
          "estrato_socioeconomico_nom": "Alto",
          "estratos": "4) Alto",
          "nom_entidad": "Colima",
          "tono_de_color_de_piel": 9
         },
         {
          "abr_estado": "Col.",
          "cuenta": 3,
          "entidad": 6,
          "estrato_socioeconomico": 4,
          "estrato_socioeconomico_nom": "Alto",
          "estratos": "4) Alto",
          "nom_entidad": "Colima",
          "tono_de_color_de_piel": 4
         },
         {
          "abr_estado": "Sin.",
          "cuenta": 25,
          "entidad": 25,
          "estrato_socioeconomico": 4,
          "estrato_socioeconomico_nom": "Alto",
          "estratos": "4) Alto",
          "nom_entidad": "Sinaloa",
          "tono_de_color_de_piel": 7
         },
         {
          "abr_estado": "Coah.",
          "cuenta": 13,
          "entidad": 5,
          "estrato_socioeconomico": 4,
          "estrato_socioeconomico_nom": "Alto",
          "estratos": "4) Alto",
          "nom_entidad": "Coahuila de Zaragoza",
          "tono_de_color_de_piel": 6
         },
         {
          "abr_estado": "Coah.",
          "cuenta": 20,
          "entidad": 5,
          "estrato_socioeconomico": 4,
          "estrato_socioeconomico_nom": "Alto",
          "estratos": "4) Alto",
          "nom_entidad": "Coahuila de Zaragoza",
          "tono_de_color_de_piel": 7
         },
         {
          "abr_estado": "Coah.",
          "cuenta": 42,
          "entidad": 5,
          "estrato_socioeconomico": 4,
          "estrato_socioeconomico_nom": "Alto",
          "estratos": "4) Alto",
          "nom_entidad": "Coahuila de Zaragoza",
          "tono_de_color_de_piel": 8
         },
         {
          "abr_estado": "Tab.",
          "cuenta": 1,
          "entidad": 27,
          "estrato_socioeconomico": 4,
          "estrato_socioeconomico_nom": "Alto",
          "estratos": "4) Alto",
          "nom_entidad": "Tabasco",
          "tono_de_color_de_piel": 6
         },
         {
          "abr_estado": "Tab.",
          "cuenta": 9,
          "entidad": 27,
          "estrato_socioeconomico": 4,
          "estrato_socioeconomico_nom": "Alto",
          "estratos": "4) Alto",
          "nom_entidad": "Tabasco",
          "tono_de_color_de_piel": 8
         },
         {
          "abr_estado": "Tab.",
          "cuenta": 12,
          "entidad": 27,
          "estrato_socioeconomico": 4,
          "estrato_socioeconomico_nom": "Alto",
          "estratos": "4) Alto",
          "nom_entidad": "Tabasco",
          "tono_de_color_de_piel": 7
         },
         {
          "abr_estado": "Camp.",
          "cuenta": 20,
          "entidad": 4,
          "estrato_socioeconomico": 4,
          "estrato_socioeconomico_nom": "Alto",
          "estratos": "4) Alto",
          "nom_entidad": "Campeche",
          "tono_de_color_de_piel": 7
         },
         {
          "abr_estado": "Camp.",
          "cuenta": 16,
          "entidad": 4,
          "estrato_socioeconomico": 4,
          "estrato_socioeconomico_nom": "Alto",
          "estratos": "4) Alto",
          "nom_entidad": "Campeche",
          "tono_de_color_de_piel": 8
         },
         {
          "abr_estado": "Camp.",
          "cuenta": 4,
          "entidad": 4,
          "estrato_socioeconomico": 4,
          "estrato_socioeconomico_nom": "Alto",
          "estratos": "4) Alto",
          "nom_entidad": "Campeche",
          "tono_de_color_de_piel": 9
         },
         {
          "abr_estado": "Camp.",
          "cuenta": 4,
          "entidad": 4,
          "estrato_socioeconomico": 4,
          "estrato_socioeconomico_nom": "Alto",
          "estratos": "4) Alto",
          "nom_entidad": "Campeche",
          "tono_de_color_de_piel": 10
         },
         {
          "abr_estado": "Camp.",
          "cuenta": 3,
          "entidad": 4,
          "estrato_socioeconomico": 4,
          "estrato_socioeconomico_nom": "Alto",
          "estratos": "4) Alto",
          "nom_entidad": "Campeche",
          "tono_de_color_de_piel": 6
         },
         {
          "abr_estado": "Camp.",
          "cuenta": 2,
          "entidad": 4,
          "estrato_socioeconomico": 4,
          "estrato_socioeconomico_nom": "Alto",
          "estratos": "4) Alto",
          "nom_entidad": "Campeche",
          "tono_de_color_de_piel": 5
         },
         {
          "abr_estado": "Camp.",
          "cuenta": 1,
          "entidad": 4,
          "estrato_socioeconomico": 4,
          "estrato_socioeconomico_nom": "Alto",
          "estratos": "4) Alto",
          "nom_entidad": "Campeche",
          "tono_de_color_de_piel": 3
         },
         {
          "abr_estado": "Son.",
          "cuenta": 1,
          "entidad": 26,
          "estrato_socioeconomico": 4,
          "estrato_socioeconomico_nom": "Alto",
          "estratos": "4) Alto",
          "nom_entidad": "Sonora",
          "tono_de_color_de_piel": 3
         },
         {
          "abr_estado": "Son.",
          "cuenta": 6,
          "entidad": 26,
          "estrato_socioeconomico": 4,
          "estrato_socioeconomico_nom": "Alto",
          "estratos": "4) Alto",
          "nom_entidad": "Sonora",
          "tono_de_color_de_piel": 6
         },
         {
          "abr_estado": "Son.",
          "cuenta": 9,
          "entidad": 26,
          "estrato_socioeconomico": 4,
          "estrato_socioeconomico_nom": "Alto",
          "estratos": "4) Alto",
          "nom_entidad": "Sonora",
          "tono_de_color_de_piel": 10
         },
         {
          "abr_estado": "Son.",
          "cuenta": 9,
          "entidad": 26,
          "estrato_socioeconomico": 4,
          "estrato_socioeconomico_nom": "Alto",
          "estratos": "4) Alto",
          "nom_entidad": "Sonora",
          "tono_de_color_de_piel": 9
         },
         {
          "abr_estado": "Son.",
          "cuenta": 10,
          "entidad": 26,
          "estrato_socioeconomico": 4,
          "estrato_socioeconomico_nom": "Alto",
          "estratos": "4) Alto",
          "nom_entidad": "Sonora",
          "tono_de_color_de_piel": 11
         },
         {
          "abr_estado": "Son.",
          "cuenta": 14,
          "entidad": 26,
          "estrato_socioeconomico": 4,
          "estrato_socioeconomico_nom": "Alto",
          "estratos": "4) Alto",
          "nom_entidad": "Sonora",
          "tono_de_color_de_piel": 7
         },
         {
          "abr_estado": "Son.",
          "cuenta": 43,
          "entidad": 26,
          "estrato_socioeconomico": 4,
          "estrato_socioeconomico_nom": "Alto",
          "estratos": "4) Alto",
          "nom_entidad": "Sonora",
          "tono_de_color_de_piel": 8
         },
         {
          "abr_estado": "SLP",
          "cuenta": 1,
          "entidad": 24,
          "estrato_socioeconomico": 4,
          "estrato_socioeconomico_nom": "Alto",
          "estratos": "4) Alto",
          "nom_entidad": "San Luis Potosí",
          "tono_de_color_de_piel": 3
         },
         {
          "abr_estado": "SLP",
          "cuenta": 2,
          "entidad": 24,
          "estrato_socioeconomico": 4,
          "estrato_socioeconomico_nom": "Alto",
          "estratos": "4) Alto",
          "nom_entidad": "San Luis Potosí",
          "tono_de_color_de_piel": 11
         },
         {
          "abr_estado": "SLP",
          "cuenta": 2,
          "entidad": 24,
          "estrato_socioeconomico": 4,
          "estrato_socioeconomico_nom": "Alto",
          "estratos": "4) Alto",
          "nom_entidad": "San Luis Potosí",
          "tono_de_color_de_piel": 5
         },
         {
          "abr_estado": "SLP",
          "cuenta": 2,
          "entidad": 24,
          "estrato_socioeconomico": 4,
          "estrato_socioeconomico_nom": "Alto",
          "estratos": "4) Alto",
          "nom_entidad": "San Luis Potosí",
          "tono_de_color_de_piel": 4
         },
         {
          "abr_estado": "Chis.",
          "cuenta": 1,
          "entidad": 7,
          "estrato_socioeconomico": 4,
          "estrato_socioeconomico_nom": "Alto",
          "estratos": "4) Alto",
          "nom_entidad": "Chiapas",
          "tono_de_color_de_piel": 11
         },
         {
          "abr_estado": "Qro.",
          "cuenta": 2,
          "entidad": 22,
          "estrato_socioeconomico": 4,
          "estrato_socioeconomico_nom": "Alto",
          "estratos": "4) Alto",
          "nom_entidad": "Querétaro",
          "tono_de_color_de_piel": 3
         },
         {
          "abr_estado": "Qro.",
          "cuenta": 3,
          "entidad": 22,
          "estrato_socioeconomico": 4,
          "estrato_socioeconomico_nom": "Alto",
          "estratos": "4) Alto",
          "nom_entidad": "Querétaro",
          "tono_de_color_de_piel": 4
         },
         {
          "abr_estado": "Qro.",
          "cuenta": 5,
          "entidad": 22,
          "estrato_socioeconomico": 4,
          "estrato_socioeconomico_nom": "Alto",
          "estratos": "4) Alto",
          "nom_entidad": "Querétaro",
          "tono_de_color_de_piel": 9
         },
         {
          "abr_estado": "Qro.",
          "cuenta": 9,
          "entidad": 22,
          "estrato_socioeconomico": 4,
          "estrato_socioeconomico_nom": "Alto",
          "estratos": "4) Alto",
          "nom_entidad": "Querétaro",
          "tono_de_color_de_piel": 10
         },
         {
          "abr_estado": "Qro.",
          "cuenta": 10,
          "entidad": 22,
          "estrato_socioeconomico": 4,
          "estrato_socioeconomico_nom": "Alto",
          "estratos": "4) Alto",
          "nom_entidad": "Querétaro",
          "tono_de_color_de_piel": 6
         },
         {
          "abr_estado": "Qro.",
          "cuenta": 12,
          "entidad": 22,
          "estrato_socioeconomico": 4,
          "estrato_socioeconomico_nom": "Alto",
          "estratos": "4) Alto",
          "nom_entidad": "Querétaro",
          "tono_de_color_de_piel": 11
         },
         {
          "abr_estado": "Qro.",
          "cuenta": 28,
          "entidad": 22,
          "estrato_socioeconomico": 4,
          "estrato_socioeconomico_nom": "Alto",
          "estratos": "4) Alto",
          "nom_entidad": "Querétaro",
          "tono_de_color_de_piel": 7
         },
         {
          "abr_estado": "Qro.",
          "cuenta": 77,
          "entidad": 22,
          "estrato_socioeconomico": 4,
          "estrato_socioeconomico_nom": "Alto",
          "estratos": "4) Alto",
          "nom_entidad": "Querétaro",
          "tono_de_color_de_piel": 8
         },
         {
          "abr_estado": "Chih.",
          "cuenta": 46,
          "entidad": 8,
          "estrato_socioeconomico": 4,
          "estrato_socioeconomico_nom": "Alto",
          "estratos": "4) Alto",
          "nom_entidad": "Chihuahua",
          "tono_de_color_de_piel": 8
         },
         {
          "abr_estado": "Chih.",
          "cuenta": 15,
          "entidad": 8,
          "estrato_socioeconomico": 4,
          "estrato_socioeconomico_nom": "Alto",
          "estratos": "4) Alto",
          "nom_entidad": "Chihuahua",
          "tono_de_color_de_piel": 7
         },
         {
          "abr_estado": "Chih.",
          "cuenta": 10,
          "entidad": 8,
          "estrato_socioeconomico": 4,
          "estrato_socioeconomico_nom": "Alto",
          "estratos": "4) Alto",
          "nom_entidad": "Chihuahua",
          "tono_de_color_de_piel": 10
         },
         {
          "abr_estado": "Chih.",
          "cuenta": 5,
          "entidad": 8,
          "estrato_socioeconomico": 4,
          "estrato_socioeconomico_nom": "Alto",
          "estratos": "4) Alto",
          "nom_entidad": "Chihuahua",
          "tono_de_color_de_piel": 11
         },
         {
          "abr_estado": "Chih.",
          "cuenta": 3,
          "entidad": 8,
          "estrato_socioeconomico": 4,
          "estrato_socioeconomico_nom": "Alto",
          "estratos": "4) Alto",
          "nom_entidad": "Chihuahua",
          "tono_de_color_de_piel": 6
         },
         {
          "abr_estado": "Chih.",
          "cuenta": 3,
          "entidad": 8,
          "estrato_socioeconomico": 4,
          "estrato_socioeconomico_nom": "Alto",
          "estratos": "4) Alto",
          "nom_entidad": "Chihuahua",
          "tono_de_color_de_piel": 9
         },
         {
          "abr_estado": "Chih.",
          "cuenta": 1,
          "entidad": 8,
          "estrato_socioeconomico": 4,
          "estrato_socioeconomico_nom": "Alto",
          "estratos": "4) Alto",
          "nom_entidad": "Chihuahua",
          "tono_de_color_de_piel": 4
         },
         {
          "abr_estado": "Chih.",
          "cuenta": 1,
          "entidad": 8,
          "estrato_socioeconomico": 4,
          "estrato_socioeconomico_nom": "Alto",
          "estratos": "4) Alto",
          "nom_entidad": "Chihuahua",
          "tono_de_color_de_piel": 5
         },
         {
          "abr_estado": "Chis.",
          "cuenta": 1,
          "entidad": 7,
          "estrato_socioeconomico": 4,
          "estrato_socioeconomico_nom": "Alto",
          "estratos": "4) Alto",
          "nom_entidad": "Chiapas",
          "tono_de_color_de_piel": 10
         },
         {
          "abr_estado": "Tab.",
          "cuenta": 1,
          "entidad": 27,
          "estrato_socioeconomico": 4,
          "estrato_socioeconomico_nom": "Alto",
          "estratos": "4) Alto",
          "nom_entidad": "Tabasco",
          "tono_de_color_de_piel": 11
         },
         {
          "abr_estado": "Chis.",
          "cuenta": 1,
          "entidad": 7,
          "estrato_socioeconomico": 4,
          "estrato_socioeconomico_nom": "Alto",
          "estratos": "4) Alto",
          "nom_entidad": "Chiapas",
          "tono_de_color_de_piel": 9
         },
         {
          "abr_estado": "Q. Roo",
          "cuenta": 26,
          "entidad": 23,
          "estrato_socioeconomico": 4,
          "estrato_socioeconomico_nom": "Alto",
          "estratos": "4) Alto",
          "nom_entidad": "Quintana Roo",
          "tono_de_color_de_piel": 8
         },
         {
          "abr_estado": "SLP",
          "cuenta": 3,
          "entidad": 24,
          "estrato_socioeconomico": 4,
          "estrato_socioeconomico_nom": "Alto",
          "estratos": "4) Alto",
          "nom_entidad": "San Luis Potosí",
          "tono_de_color_de_piel": 9
         },
         {
          "abr_estado": "SLP",
          "cuenta": 5,
          "entidad": 24,
          "estrato_socioeconomico": 4,
          "estrato_socioeconomico_nom": "Alto",
          "estratos": "4) Alto",
          "nom_entidad": "San Luis Potosí",
          "tono_de_color_de_piel": 10
         },
         {
          "abr_estado": "SLP",
          "cuenta": 6,
          "entidad": 24,
          "estrato_socioeconomico": 4,
          "estrato_socioeconomico_nom": "Alto",
          "estratos": "4) Alto",
          "nom_entidad": "San Luis Potosí",
          "tono_de_color_de_piel": 6
         },
         {
          "abr_estado": "SLP",
          "cuenta": 19,
          "entidad": 24,
          "estrato_socioeconomico": 4,
          "estrato_socioeconomico_nom": "Alto",
          "estratos": "4) Alto",
          "nom_entidad": "San Luis Potosí",
          "tono_de_color_de_piel": 7
         },
         {
          "abr_estado": "SLP",
          "cuenta": 42,
          "entidad": 24,
          "estrato_socioeconomico": 4,
          "estrato_socioeconomico_nom": "Alto",
          "estratos": "4) Alto",
          "nom_entidad": "San Luis Potosí",
          "tono_de_color_de_piel": 8
         },
         {
          "abr_estado": "Col.",
          "cuenta": 3,
          "entidad": 6,
          "estrato_socioeconomico": 4,
          "estrato_socioeconomico_nom": "Alto",
          "estratos": "4) Alto",
          "nom_entidad": "Colima",
          "tono_de_color_de_piel": 5
         },
         {
          "abr_estado": "Col.",
          "cuenta": 2,
          "entidad": 6,
          "estrato_socioeconomico": 4,
          "estrato_socioeconomico_nom": "Alto",
          "estratos": "4) Alto",
          "nom_entidad": "Colima",
          "tono_de_color_de_piel": 11
         },
         {
          "abr_estado": "Chis.",
          "cuenta": 8,
          "entidad": 7,
          "estrato_socioeconomico": 4,
          "estrato_socioeconomico_nom": "Alto",
          "estratos": "4) Alto",
          "nom_entidad": "Chiapas",
          "tono_de_color_de_piel": 8
         },
         {
          "abr_estado": "Chis.",
          "cuenta": 4,
          "entidad": 7,
          "estrato_socioeconomico": 4,
          "estrato_socioeconomico_nom": "Alto",
          "estratos": "4) Alto",
          "nom_entidad": "Chiapas",
          "tono_de_color_de_piel": 7
         },
         {
          "abr_estado": "Q. Roo",
          "cuenta": 1,
          "entidad": 23,
          "estrato_socioeconomico": 4,
          "estrato_socioeconomico_nom": "Alto",
          "estratos": "4) Alto",
          "nom_entidad": "Quintana Roo",
          "tono_de_color_de_piel": 11
         },
         {
          "abr_estado": "Q. Roo",
          "cuenta": 1,
          "entidad": 23,
          "estrato_socioeconomico": 4,
          "estrato_socioeconomico_nom": "Alto",
          "estratos": "4) Alto",
          "nom_entidad": "Quintana Roo",
          "tono_de_color_de_piel": 2
         },
         {
          "abr_estado": "Q. Roo",
          "cuenta": 5,
          "entidad": 23,
          "estrato_socioeconomico": 4,
          "estrato_socioeconomico_nom": "Alto",
          "estratos": "4) Alto",
          "nom_entidad": "Quintana Roo",
          "tono_de_color_de_piel": 10
         },
         {
          "abr_estado": "Q. Roo",
          "cuenta": 8,
          "entidad": 23,
          "estrato_socioeconomico": 4,
          "estrato_socioeconomico_nom": "Alto",
          "estratos": "4) Alto",
          "nom_entidad": "Quintana Roo",
          "tono_de_color_de_piel": 4
         },
         {
          "abr_estado": "Jal.",
          "cuenta": 12,
          "entidad": 14,
          "estrato_socioeconomico": 4,
          "estrato_socioeconomico_nom": "Alto",
          "estratos": "4) Alto",
          "nom_entidad": "Jalisco",
          "tono_de_color_de_piel": 7
         },
         {
          "abr_estado": "Q. Roo",
          "cuenta": 12,
          "entidad": 23,
          "estrato_socioeconomico": 4,
          "estrato_socioeconomico_nom": "Alto",
          "estratos": "4) Alto",
          "nom_entidad": "Quintana Roo",
          "tono_de_color_de_piel": 9
         },
         {
          "abr_estado": "Q. Roo",
          "cuenta": 13,
          "entidad": 23,
          "estrato_socioeconomico": 4,
          "estrato_socioeconomico_nom": "Alto",
          "estratos": "4) Alto",
          "nom_entidad": "Quintana Roo",
          "tono_de_color_de_piel": 6
         },
         {
          "abr_estado": "Q. Roo",
          "cuenta": 16,
          "entidad": 23,
          "estrato_socioeconomico": 4,
          "estrato_socioeconomico_nom": "Alto",
          "estratos": "4) Alto",
          "nom_entidad": "Quintana Roo",
          "tono_de_color_de_piel": 7
         },
         {
          "abr_estado": "Chis.",
          "cuenta": 1,
          "entidad": 7,
          "estrato_socioeconomico": 4,
          "estrato_socioeconomico_nom": "Alto",
          "estratos": "4) Alto",
          "nom_entidad": "Chiapas",
          "tono_de_color_de_piel": 6
         },
         {
          "abr_estado": "Zac.",
          "cuenta": 1,
          "entidad": 32,
          "estrato_socioeconomico": 4,
          "estrato_socioeconomico_nom": "Alto",
          "estratos": "4) Alto",
          "nom_entidad": "Zacatecas",
          "tono_de_color_de_piel": 6
         }
        ]
       },
       "encoding": {
        "color": {
         "field": "tono_de_color_de_piel",
         "legend": null,
         "scale": {
          "domain": [
           1,
           2,
           3,
           4,
           5,
           6,
           7,
           8,
           9,
           10,
           11
          ],
          "range": [
           "#322e25",
           "#3d230c",
           "#4a382e",
           "#684d3c",
           "#7e6352",
           "#95765a",
           "#b59a7f",
           "#dec09a",
           "#e1b8b2",
           "#f2d0d1",
           "#f9ebeb"
          ]
         },
         "type": "nominal"
        },
        "y": {
         "axis": {
          "domain": false,
          "offset": -40,
          "ticks": false
         },
         "field": "tono_de_color_de_piel",
         "title": "",
         "type": "nominal"
        }
       },
       "height": 300,
       "mark": {
        "stroke": "#282828",
        "strokeWidth": 0.5,
        "type": "bar"
       },
       "width": 100
      },
      "image/png": "[encoded data removed]",
      "text/plain": [
       "<VegaLite 2 object>\n",
       "\n",
       "If you see this message, it means the renderer has not been properly enabled\n",
       "for the frontend that you are using. For more information, see\n",
       "https://altair-viz.github.io/user_guide/troubleshooting.html\n"
      ]
     },
     "execution_count": 89,
     "metadata": {},
     "output_type": "execute_result"
    }
   ],
   "source": [
    "domains2 = [1,2,3,4,5,6,7,8,9,10,11]\n",
    "colors2 = [\"#322e25\", \"#3d230c\", \"#4a382e\", \"#684d3c\", \"#7e6352\", \"#95765a\", \"#b59a7f\", \"#dec09a\", \"#e1b8b2\", \"#f2d0d1\", \"#f9ebeb\"]\n",
    "\n",
    "color_scale2 = alt.Scale(\n",
    "    domain=domains2,\n",
    "    range=colors2\n",
    ")\n",
    "\n",
    "color_legend = alt.Chart(df).mark_bar(strokeWidth = 0.5, stroke = \"#282828\").encode(\n",
    "    y = alt.Y(\"tono_de_color_de_piel:N\", title = \"\", axis = alt.Axis(domain = False, ticks = False, offset = -40)),\n",
    "    color = alt.Color(\"tono_de_color_de_piel:N\", legend = None, scale = color_scale2 )\n",
    ").properties(\n",
    "    width = 100,\n",
    "    height = 300\n",
    ")\n",
    "\n",
    "color_legend"
   ]
  },
  {
   "cell_type": "code",
   "execution_count": null,
   "metadata": {},
   "outputs": [],
   "source": []
  }
 ],
 "metadata": {
  "kernelspec": {
   "display_name": "Python 3",
   "language": "python",
   "name": "python3"
  },
  "language_info": {
   "codemirror_mode": {
    "name": "ipython",
    "version": 3
   },
   "file_extension": ".py",
   "mimetype": "text/x-python",
   "name": "python",
   "nbconvert_exporter": "python",
   "pygments_lexer": "ipython3",
   "version": "3.6.6"
  }
 },
 "nbformat": 4,
 "nbformat_minor": 2
}
