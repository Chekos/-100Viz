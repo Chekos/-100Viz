{
 "cells": [
  {
   "cell_type": "markdown",
   "metadata": {},
   "source": [
    "# #100Viz 03: Reckoning Roots\n",
    "\n",
    "Source: INEGI, Encuesta Intercensal 2015. <br>\n",
    "Shapefile: Empirical Studies of Conflict, Princeton. <br>\n",
    "Notes: TBD."
   ]
  },
  {
   "cell_type": "markdown",
   "metadata": {},
   "source": [
    "***\n",
    "**Set up**"
   ]
  },
  {
   "cell_type": "code",
   "execution_count": null,
   "metadata": {},
   "outputs": [],
   "source": [
    "import pandas as pd\n",
    "import geopandas as gdp"
   ]
  },
  {
   "cell_type": "markdown",
   "metadata": {},
   "source": [
    "***\n",
    "**We will load both datasets:**\n",
    "1. `base_map` for the shapefiles using `geopandas`\n",
    "2. INEGI data into `df` using `pandas`"
   ]
  },
  {
   "cell_type": "code",
   "execution_count": null,
   "metadata": {},
   "outputs": [],
   "source": [
    "base_map = gdp.read_file(\"../data/raw/GIS Mexican Municipalities/GIS Mexican Municipalities/Mexican Municipalities.shp\")\n",
    "\n",
    "df = pd.read_stata(\"../data/raw/mxmun.dta\", convert_categoricals=False,)"
   ]
  },
  {
   "cell_type": "markdown",
   "metadata": {},
   "source": [
    "***\n",
    "**Clean up**\n",
    "\n",
    "INEGI's data is *individual* level records so we need to aggregate back to *municipalidad* level."
   ]
  },
  {
   "cell_type": "code",
   "execution_count": null,
   "metadata": {},
   "outputs": [],
   "source": [
    "dff = df.groupby([\"geo2_mx2015\", \"mx2015a_afrdes\"])[\"perwt\"].sum().to_frame().reset_index()\n",
    "\n",
    "dff.loc[dff[\"mx2015a_afrdes\"] <= 2, \"black\"] = \"Yes\"\n",
    "dff.loc[dff[\"mx2015a_afrdes\"] > 2, \"black\"] = \"No/Unknown\"\n",
    "\n",
    "# dff.groupby(['geo2_mx2015', 'black'])['perwt'].sum().to_frame().reset_index()"
   ]
  },
  {
   "cell_type": "code",
   "execution_count": null,
   "metadata": {},
   "outputs": [],
   "source": [
    "per_cnt = dff.groupby(['geo2_mx2015', 'black'])['perwt'].sum()\n",
    "# Change: groupby state_office and divide by sum\n",
    "cnt_pctgs = per_cnt.groupby(level=0).apply(lambda x:100 * x / float(x.sum()))"
   ]
  },
  {
   "cell_type": "code",
   "execution_count": null,
   "metadata": {},
   "outputs": [],
   "source": [
    "df3 = cnt_pctgs.to_frame().reset_index()\n",
    "df3 = df3[df3[\"black\"] == \"Yes\"].copy()"
   ]
  },
  {
   "cell_type": "code",
   "execution_count": null,
   "metadata": {},
   "outputs": [],
   "source": [
    "df3.columns = [\"IDUNICO\", \"black\", \"rate\"]"
   ]
  },
  {
   "cell_type": "code",
   "execution_count": null,
   "metadata": {},
   "outputs": [],
   "source": [
    "df3['rate'].describe()"
   ]
  },
  {
   "cell_type": "markdown",
   "metadata": {},
   "source": [
    "***\n",
    "**We can now merge both datasets and save our new GeoJSON file. Which we will use for `altair`**"
   ]
  },
  {
   "cell_type": "code",
   "execution_count": null,
   "metadata": {},
   "outputs": [],
   "source": [
    "gdf = pd.merge(base_map, df3[[\"IDUNICO\", \"rate\"]], how = \"left\", on = \"IDUNICO\")"
   ]
  },
  {
   "cell_type": "code",
   "execution_count": null,
   "metadata": {},
   "outputs": [],
   "source": [
    "gdf[[\"NOM_MUN\",\"IDUNICO\",\"rate\",\"geometry\"]].head()"
   ]
  },
  {
   "cell_type": "code",
   "execution_count": null,
   "metadata": {},
   "outputs": [],
   "source": [
    "gdf[[\"NOM_MUN\",\"IDUNICO\",\"rate\",\"geometry\"]].to_file(\"../data/processed/data2.geojson\", driver = \"GeoJSON\")"
   ]
  }
 ],
 "metadata": {
  "kernelspec": {
   "display_name": "Python 3",
   "language": "python",
   "name": "python3"
  },
  "language_info": {
   "codemirror_mode": {
    "name": "ipython",
    "version": 3
   },
   "file_extension": ".py",
   "mimetype": "text/x-python",
   "name": "python",
   "nbconvert_exporter": "python",
   "pygments_lexer": "ipython3",
   "version": "3.6.3"
  }
 },
 "nbformat": 4,
 "nbformat_minor": 2
}
