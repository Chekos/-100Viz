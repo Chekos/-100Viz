{
 "cells": [
  {
   "cell_type": "markdown",
   "metadata": {},
   "source": [
    "# Creating City Points\n",
    "\n",
    "1. Tijuana\n",
    "2. Chula Vista\n",
    "3. Berkeley\n",
    "4. Tacoma\n",
    "5. Davis\n",
    "6. San Leandro"
   ]
  },
  {
   "cell_type": "code",
   "execution_count": 1,
   "metadata": {},
   "outputs": [],
   "source": [
    "import pandas as pd\n",
    "import geopandas\n",
    "from shapely.geometry import Point\n",
    "import matplotlib.pyplot as plt\n",
    "\n",
    "data = pd.DataFrame()\n",
    "\n",
    "data['cities'] = ['Tijuana', 'Chula Vista', 'Berkeley', 'Tacoma', 'Davis', 'San Leandro', 'Oaxaca']\n",
    "\n",
    "data['latitude'] = [32.53, 32.64, 37.87, 47.25, 38.74, 37.43, 17.07]\n",
    "data['longitude'] = [-117.08, -117.08, -122.28, -122.44, -121.74, -122.05, -96.73]\n",
    "\n",
    "data['coordinates'] = list(zip(data['longitude'], data['latitude']))\n",
    "\n",
    "data['coordinates'] = data['coordinates'].apply(Point)\n",
    "\n",
    "data['emoji'] = '❤️'\n",
    "data['emoji_blue'] = '💙'\n",
    "data['cities_names'] = ['Tijuana 💙\\t\\t\\t\\t\\t\\t\\t\\t', '\\t\\t\\t\\t\\t\\t\\t\\t\\t\\t\\t\\t💙 Chula Vista', 'Berkeley 💙\\t\\t\\t\\t\\t\\t\\t\\t\\t', '\\t\\t\\t\\t\\t💙 Tacoma', '\\t\\t\\t\\t\\t\\t\\t\\t💙 Davis\\n\\n ', '\\t\\t\\t\\t\\t\\t\\t\\t\\t\\t\\t\\t💙 San Leandro', '\\t\\t\\t\\t\\t\\t\\t💙Oaxaca']\n",
    "\n",
    "gdf = geopandas.GeoDataFrame(data, geometry='coordinates')"
   ]
  },
  {
   "cell_type": "code",
   "execution_count": 2,
   "metadata": {},
   "outputs": [
    {
     "data": {
      "text/html": [
       "<div>\n",
       "<style scoped>\n",
       "    .dataframe tbody tr th:only-of-type {\n",
       "        vertical-align: middle;\n",
       "    }\n",
       "\n",
       "    .dataframe tbody tr th {\n",
       "        vertical-align: top;\n",
       "    }\n",
       "\n",
       "    .dataframe thead th {\n",
       "        text-align: right;\n",
       "    }\n",
       "</style>\n",
       "<table border=\"1\" class=\"dataframe\">\n",
       "  <thead>\n",
       "    <tr style=\"text-align: right;\">\n",
       "      <th></th>\n",
       "      <th>cities</th>\n",
       "      <th>latitude</th>\n",
       "      <th>longitude</th>\n",
       "      <th>coordinates</th>\n",
       "      <th>emoji</th>\n",
       "      <th>emoji_blue</th>\n",
       "      <th>cities_names</th>\n",
       "    </tr>\n",
       "  </thead>\n",
       "  <tbody>\n",
       "    <tr>\n",
       "      <th>0</th>\n",
       "      <td>Tijuana</td>\n",
       "      <td>32.53</td>\n",
       "      <td>-117.08</td>\n",
       "      <td>POINT (-117.08 32.53)</td>\n",
       "      <td>❤️</td>\n",
       "      <td>💙</td>\n",
       "      <td>Tijuana 💙\\t\\t\\t\\t\\t\\t\\t\\t</td>\n",
       "    </tr>\n",
       "    <tr>\n",
       "      <th>1</th>\n",
       "      <td>Chula Vista</td>\n",
       "      <td>32.64</td>\n",
       "      <td>-117.08</td>\n",
       "      <td>POINT (-117.08 32.64)</td>\n",
       "      <td>❤️</td>\n",
       "      <td>💙</td>\n",
       "      <td>\\t\\t\\t\\t\\t\\t\\t\\t\\t\\t\\t\\t💙 Chula Vista</td>\n",
       "    </tr>\n",
       "    <tr>\n",
       "      <th>2</th>\n",
       "      <td>Berkeley</td>\n",
       "      <td>37.87</td>\n",
       "      <td>-122.28</td>\n",
       "      <td>POINT (-122.28 37.87)</td>\n",
       "      <td>❤️</td>\n",
       "      <td>💙</td>\n",
       "      <td>Berkeley 💙\\t\\t\\t\\t\\t\\t\\t\\t\\t</td>\n",
       "    </tr>\n",
       "    <tr>\n",
       "      <th>3</th>\n",
       "      <td>Tacoma</td>\n",
       "      <td>47.25</td>\n",
       "      <td>-122.44</td>\n",
       "      <td>POINT (-122.44 47.25)</td>\n",
       "      <td>❤️</td>\n",
       "      <td>💙</td>\n",
       "      <td>\\t\\t\\t\\t\\t💙 Tacoma</td>\n",
       "    </tr>\n",
       "    <tr>\n",
       "      <th>4</th>\n",
       "      <td>Davis</td>\n",
       "      <td>38.74</td>\n",
       "      <td>-121.74</td>\n",
       "      <td>POINT (-121.74 38.74)</td>\n",
       "      <td>❤️</td>\n",
       "      <td>💙</td>\n",
       "      <td>\\t\\t\\t\\t\\t\\t\\t\\t💙 Davis\\n\\n</td>\n",
       "    </tr>\n",
       "  </tbody>\n",
       "</table>\n",
       "</div>"
      ],
      "text/plain": [
       "        cities  latitude  longitude            coordinates emoji emoji_blue  \\\n",
       "0      Tijuana     32.53    -117.08  POINT (-117.08 32.53)    ❤️          💙   \n",
       "1  Chula Vista     32.64    -117.08  POINT (-117.08 32.64)    ❤️          💙   \n",
       "2     Berkeley     37.87    -122.28  POINT (-122.28 37.87)    ❤️          💙   \n",
       "3       Tacoma     47.25    -122.44  POINT (-122.44 47.25)    ❤️          💙   \n",
       "4        Davis     38.74    -121.74  POINT (-121.74 38.74)    ❤️          💙   \n",
       "\n",
       "                            cities_names  \n",
       "0              Tijuana 💙\\t\\t\\t\\t\\t\\t\\t\\t  \n",
       "1  \\t\\t\\t\\t\\t\\t\\t\\t\\t\\t\\t\\t💙 Chula Vista  \n",
       "2           Berkeley 💙\\t\\t\\t\\t\\t\\t\\t\\t\\t  \n",
       "3                     \\t\\t\\t\\t\\t💙 Tacoma  \n",
       "4           \\t\\t\\t\\t\\t\\t\\t\\t💙 Davis\\n\\n   "
      ]
     },
     "execution_count": 2,
     "metadata": {},
     "output_type": "execute_result"
    }
   ],
   "source": [
    "gdf.head()"
   ]
  },
  {
   "cell_type": "code",
   "execution_count": 3,
   "metadata": {},
   "outputs": [
    {
     "data": {
      "text/plain": [
       "<matplotlib.axes._subplots.AxesSubplot at 0x900c2b0>"
      ]
     },
     "execution_count": 3,
     "metadata": {},
     "output_type": "execute_result"
    },
    {
     "data": {
      "image/png": "[encoded data removed]",
      "text/plain": [
       "<Figure size 432x288 with 1 Axes>"
      ]
     },
     "metadata": {
      "needs_background": "light"
     },
     "output_type": "display_data"
    }
   ],
   "source": [
    "gdf.plot()"
   ]
  },
  {
   "cell_type": "code",
   "execution_count": 4,
   "metadata": {},
   "outputs": [],
   "source": [
    "gdf.crs = {'init': 'epsg:4326'}"
   ]
  },
  {
   "cell_type": "code",
   "execution_count": 5,
   "metadata": {},
   "outputs": [
    {
     "data": {
      "text/plain": [
       "{'init': 'epsg:4326'}"
      ]
     },
     "execution_count": 5,
     "metadata": {},
     "output_type": "execute_result"
    }
   ],
   "source": [
    "gdf.crs"
   ]
  },
  {
   "cell_type": "code",
   "execution_count": 6,
   "metadata": {},
   "outputs": [],
   "source": [
    "import json"
   ]
  },
  {
   "cell_type": "code",
   "execution_count": 7,
   "metadata": {},
   "outputs": [],
   "source": [
    "cities = json.loads(gdf.to_json())\n",
    "\n",
    "with open(\"../data/interim/cities.geojson\", \"w\") as file:\n",
    "    json.dump(cities, file, indent=4)"
   ]
  }
 ],
 "metadata": {
  "kernelspec": {
   "display_name": "Python 3",
   "language": "python",
   "name": "python3"
  },
  "language_info": {
   "codemirror_mode": {
    "name": "ipython",
    "version": 3
   },
   "file_extension": ".py",
   "mimetype": "text/x-python",
   "name": "python",
   "nbconvert_exporter": "python",
   "pygments_lexer": "ipython3",
   "version": "3.7.1"
  }
 },
 "nbformat": 4,
 "nbformat_minor": 2
}
