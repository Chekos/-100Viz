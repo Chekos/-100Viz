{
 "cells": [
  {
   "cell_type": "markdown",
   "metadata": {},
   "source": [
    "# Data Exploration\n",
    "\n",
    "Goals: \n",
    "1. Learn and understand the structure of PUMAS and how to join data to them\n",
    "2. Create a GeoJSON file with the most common educational attainment level by PUMA, County, State."
   ]
  },
  {
   "cell_type": "code",
   "execution_count": 8,
   "metadata": {},
   "outputs": [],
   "source": [
    "import gzip\n",
    "import pandas as pd\n",
    "import geopandas as gpd\n",
    "import json\n",
    "from zipfile import ZipFile\n",
    "import io\n",
    "import shapefile"
   ]
  },
  {
   "cell_type": "code",
   "execution_count": 2,
   "metadata": {},
   "outputs": [],
   "source": [
    "with gzip.open(\"../data/raw/usa_00041.dta.gz\", \"rb\") as file:\n",
    "    df = pd.read_stata(file)"
   ]
  },
  {
   "cell_type": "code",
   "execution_count": 3,
   "metadata": {},
   "outputs": [
    {
     "name": "stdout",
     "output_type": "stream",
     "text": [
      "(1839285, 21)\n"
     ]
    },
    {
     "data": {
      "text/html": [
       "<div>\n",
       "<style scoped>\n",
       "    .dataframe tbody tr th:only-of-type {\n",
       "        vertical-align: middle;\n",
       "    }\n",
       "\n",
       "    .dataframe tbody tr th {\n",
       "        vertical-align: top;\n",
       "    }\n",
       "\n",
       "    .dataframe thead th {\n",
       "        text-align: right;\n",
       "    }\n",
       "</style>\n",
       "<table border=\"1\" class=\"dataframe\">\n",
       "  <thead>\n",
       "    <tr style=\"text-align: right;\">\n",
       "      <th></th>\n",
       "      <th>year</th>\n",
       "      <th>multyear</th>\n",
       "      <th>datanum</th>\n",
       "      <th>serial</th>\n",
       "      <th>cbserial</th>\n",
       "      <th>hhwt</th>\n",
       "      <th>statefip</th>\n",
       "      <th>countyfips</th>\n",
       "      <th>puma</th>\n",
       "      <th>gq</th>\n",
       "      <th>...</th>\n",
       "      <th>perwt</th>\n",
       "      <th>sex</th>\n",
       "      <th>age</th>\n",
       "      <th>bpl</th>\n",
       "      <th>bpld</th>\n",
       "      <th>citizen</th>\n",
       "      <th>language</th>\n",
       "      <th>languaged</th>\n",
       "      <th>educ</th>\n",
       "      <th>educd</th>\n",
       "    </tr>\n",
       "  </thead>\n",
       "  <tbody>\n",
       "    <tr>\n",
       "      <th>0</th>\n",
       "      <td>2016</td>\n",
       "      <td>2012</td>\n",
       "      <td>5</td>\n",
       "      <td>3</td>\n",
       "      <td>2.012000e+12</td>\n",
       "      <td>22</td>\n",
       "      <td>georgia</td>\n",
       "      <td>0</td>\n",
       "      <td>100</td>\n",
       "      <td>households under 1970 definition</td>\n",
       "      <td>...</td>\n",
       "      <td>33</td>\n",
       "      <td>female</td>\n",
       "      <td>34</td>\n",
       "      <td>georgia</td>\n",
       "      <td>georgia</td>\n",
       "      <td>n/a</td>\n",
       "      <td>english</td>\n",
       "      <td>english</td>\n",
       "      <td>4 years of college</td>\n",
       "      <td>bachelor's degree</td>\n",
       "    </tr>\n",
       "    <tr>\n",
       "      <th>1</th>\n",
       "      <td>2016</td>\n",
       "      <td>2012</td>\n",
       "      <td>5</td>\n",
       "      <td>13</td>\n",
       "      <td>2.012000e+12</td>\n",
       "      <td>8</td>\n",
       "      <td>georgia</td>\n",
       "      <td>0</td>\n",
       "      <td>1007</td>\n",
       "      <td>households under 1970 definition</td>\n",
       "      <td>...</td>\n",
       "      <td>8</td>\n",
       "      <td>female</td>\n",
       "      <td>33</td>\n",
       "      <td>georgia</td>\n",
       "      <td>georgia</td>\n",
       "      <td>n/a</td>\n",
       "      <td>english</td>\n",
       "      <td>english</td>\n",
       "      <td>grade 12</td>\n",
       "      <td>regular high school diploma</td>\n",
       "    </tr>\n",
       "    <tr>\n",
       "      <th>2</th>\n",
       "      <td>2016</td>\n",
       "      <td>2012</td>\n",
       "      <td>5</td>\n",
       "      <td>14</td>\n",
       "      <td>2.012000e+12</td>\n",
       "      <td>2</td>\n",
       "      <td>california</td>\n",
       "      <td>29</td>\n",
       "      <td>2901</td>\n",
       "      <td>households under 1970 definition</td>\n",
       "      <td>...</td>\n",
       "      <td>2</td>\n",
       "      <td>female</td>\n",
       "      <td>30</td>\n",
       "      <td>california</td>\n",
       "      <td>california</td>\n",
       "      <td>n/a</td>\n",
       "      <td>english</td>\n",
       "      <td>english</td>\n",
       "      <td>grade 12</td>\n",
       "      <td>ged or alternative credential</td>\n",
       "    </tr>\n",
       "    <tr>\n",
       "      <th>3</th>\n",
       "      <td>2016</td>\n",
       "      <td>2012</td>\n",
       "      <td>5</td>\n",
       "      <td>26</td>\n",
       "      <td>2.012000e+12</td>\n",
       "      <td>12</td>\n",
       "      <td>georgia</td>\n",
       "      <td>0</td>\n",
       "      <td>2002</td>\n",
       "      <td>households under 1970 definition</td>\n",
       "      <td>...</td>\n",
       "      <td>13</td>\n",
       "      <td>female</td>\n",
       "      <td>34</td>\n",
       "      <td>colorado</td>\n",
       "      <td>colorado</td>\n",
       "      <td>n/a</td>\n",
       "      <td>spanish</td>\n",
       "      <td>spanish</td>\n",
       "      <td>1 year of college</td>\n",
       "      <td>1 or more years of college credit, no degree</td>\n",
       "    </tr>\n",
       "    <tr>\n",
       "      <th>4</th>\n",
       "      <td>2016</td>\n",
       "      <td>2012</td>\n",
       "      <td>5</td>\n",
       "      <td>28</td>\n",
       "      <td>2.012000e+12</td>\n",
       "      <td>3</td>\n",
       "      <td>california</td>\n",
       "      <td>73</td>\n",
       "      <td>7313</td>\n",
       "      <td>other group quarters</td>\n",
       "      <td>...</td>\n",
       "      <td>3</td>\n",
       "      <td>male</td>\n",
       "      <td>28</td>\n",
       "      <td>california</td>\n",
       "      <td>california</td>\n",
       "      <td>n/a</td>\n",
       "      <td>english</td>\n",
       "      <td>english</td>\n",
       "      <td>grade 12</td>\n",
       "      <td>ged or alternative credential</td>\n",
       "    </tr>\n",
       "  </tbody>\n",
       "</table>\n",
       "<p>5 rows × 21 columns</p>\n",
       "</div>"
      ],
      "text/plain": [
       "   year  multyear  datanum  serial      cbserial  hhwt    statefip  \\\n",
       "0  2016      2012        5       3  2.012000e+12    22     georgia   \n",
       "1  2016      2012        5      13  2.012000e+12     8     georgia   \n",
       "2  2016      2012        5      14  2.012000e+12     2  california   \n",
       "3  2016      2012        5      26  2.012000e+12    12     georgia   \n",
       "4  2016      2012        5      28  2.012000e+12     3  california   \n",
       "\n",
       "   countyfips  puma                                gq  \\\n",
       "0           0   100  households under 1970 definition   \n",
       "1           0  1007  households under 1970 definition   \n",
       "2          29  2901  households under 1970 definition   \n",
       "3           0  2002  households under 1970 definition   \n",
       "4          73  7313              other group quarters   \n",
       "\n",
       "                       ...                       perwt     sex age  \\\n",
       "0                      ...                          33  female  34   \n",
       "1                      ...                           8  female  33   \n",
       "2                      ...                           2  female  30   \n",
       "3                      ...                          13  female  34   \n",
       "4                      ...                           3    male  28   \n",
       "\n",
       "          bpl        bpld citizen language languaged                educ  \\\n",
       "0     georgia     georgia     n/a  english   english  4 years of college   \n",
       "1     georgia     georgia     n/a  english   english            grade 12   \n",
       "2  california  california     n/a  english   english            grade 12   \n",
       "3    colorado    colorado     n/a  spanish   spanish   1 year of college   \n",
       "4  california  california     n/a  english   english            grade 12   \n",
       "\n",
       "                                          educd  \n",
       "0                             bachelor's degree  \n",
       "1                   regular high school diploma  \n",
       "2                 ged or alternative credential  \n",
       "3  1 or more years of college credit, no degree  \n",
       "4                 ged or alternative credential  \n",
       "\n",
       "[5 rows x 21 columns]"
      ]
     },
     "execution_count": 3,
     "metadata": {},
     "output_type": "execute_result"
    }
   ],
   "source": [
    "print(df.shape)\n",
    "df.head()"
   ]
  },
  {
   "cell_type": "code",
   "execution_count": 4,
   "metadata": {},
   "outputs": [],
   "source": [
    "zipfile = ZipFile(\"../data/raw/cb_2017_us_county_500k.zip\")"
   ]
  },
  {
   "cell_type": "code",
   "execution_count": 10,
   "metadata": {},
   "outputs": [],
   "source": [
    "zipfile.extractall(\"../data/interim/county_data/\")"
   ]
  },
  {
   "cell_type": "code",
   "execution_count": 11,
   "metadata": {},
   "outputs": [],
   "source": [
    "gdf = gpd.read_file(\"../data/interim/county_data/cb_2017_us_county_500k.shp\")"
   ]
  },
  {
   "cell_type": "code",
   "execution_count": 12,
   "metadata": {},
   "outputs": [
    {
     "data": {
      "text/html": [
       "<div>\n",
       "<style scoped>\n",
       "    .dataframe tbody tr th:only-of-type {\n",
       "        vertical-align: middle;\n",
       "    }\n",
       "\n",
       "    .dataframe tbody tr th {\n",
       "        vertical-align: top;\n",
       "    }\n",
       "\n",
       "    .dataframe thead th {\n",
       "        text-align: right;\n",
       "    }\n",
       "</style>\n",
       "<table border=\"1\" class=\"dataframe\">\n",
       "  <thead>\n",
       "    <tr style=\"text-align: right;\">\n",
       "      <th></th>\n",
       "      <th>STATEFP</th>\n",
       "      <th>COUNTYFP</th>\n",
       "      <th>COUNTYNS</th>\n",
       "      <th>AFFGEOID</th>\n",
       "      <th>GEOID</th>\n",
       "      <th>NAME</th>\n",
       "      <th>LSAD</th>\n",
       "      <th>ALAND</th>\n",
       "      <th>AWATER</th>\n",
       "      <th>geometry</th>\n",
       "    </tr>\n",
       "  </thead>\n",
       "  <tbody>\n",
       "    <tr>\n",
       "      <th>0</th>\n",
       "      <td>01</td>\n",
       "      <td>005</td>\n",
       "      <td>00161528</td>\n",
       "      <td>0500000US01005</td>\n",
       "      <td>01005</td>\n",
       "      <td>Barbour</td>\n",
       "      <td>06</td>\n",
       "      <td>2292144656</td>\n",
       "      <td>50538698</td>\n",
       "      <td>POLYGON ((-85.74803199999999 31.619181, -85.74...</td>\n",
       "    </tr>\n",
       "    <tr>\n",
       "      <th>1</th>\n",
       "      <td>01</td>\n",
       "      <td>023</td>\n",
       "      <td>00161537</td>\n",
       "      <td>0500000US01023</td>\n",
       "      <td>01023</td>\n",
       "      <td>Choctaw</td>\n",
       "      <td>06</td>\n",
       "      <td>2365869837</td>\n",
       "      <td>19144469</td>\n",
       "      <td>POLYGON ((-88.47322699999999 31.893856, -88.46...</td>\n",
       "    </tr>\n",
       "    <tr>\n",
       "      <th>2</th>\n",
       "      <td>01</td>\n",
       "      <td>035</td>\n",
       "      <td>00161543</td>\n",
       "      <td>0500000US01035</td>\n",
       "      <td>01035</td>\n",
       "      <td>Conecuh</td>\n",
       "      <td>06</td>\n",
       "      <td>2201948618</td>\n",
       "      <td>6643480</td>\n",
       "      <td>POLYGON ((-87.42720399999999 31.26436, -87.425...</td>\n",
       "    </tr>\n",
       "    <tr>\n",
       "      <th>3</th>\n",
       "      <td>01</td>\n",
       "      <td>051</td>\n",
       "      <td>00161551</td>\n",
       "      <td>0500000US01051</td>\n",
       "      <td>01051</td>\n",
       "      <td>Elmore</td>\n",
       "      <td>06</td>\n",
       "      <td>1601762124</td>\n",
       "      <td>99965171</td>\n",
       "      <td>POLYGON ((-86.41333499999999 32.750591, -86.37...</td>\n",
       "    </tr>\n",
       "    <tr>\n",
       "      <th>4</th>\n",
       "      <td>01</td>\n",
       "      <td>065</td>\n",
       "      <td>00161558</td>\n",
       "      <td>0500000US01065</td>\n",
       "      <td>01065</td>\n",
       "      <td>Hale</td>\n",
       "      <td>06</td>\n",
       "      <td>1667907107</td>\n",
       "      <td>32423356</td>\n",
       "      <td>POLYGON ((-87.870464 32.762442, -87.868184 32....</td>\n",
       "    </tr>\n",
       "  </tbody>\n",
       "</table>\n",
       "</div>"
      ],
      "text/plain": [
       "  STATEFP COUNTYFP  COUNTYNS        AFFGEOID  GEOID     NAME LSAD       ALAND  \\\n",
       "0      01      005  00161528  0500000US01005  01005  Barbour   06  2292144656   \n",
       "1      01      023  00161537  0500000US01023  01023  Choctaw   06  2365869837   \n",
       "2      01      035  00161543  0500000US01035  01035  Conecuh   06  2201948618   \n",
       "3      01      051  00161551  0500000US01051  01051   Elmore   06  1601762124   \n",
       "4      01      065  00161558  0500000US01065  01065     Hale   06  1667907107   \n",
       "\n",
       "     AWATER                                           geometry  \n",
       "0  50538698  POLYGON ((-85.74803199999999 31.619181, -85.74...  \n",
       "1  19144469  POLYGON ((-88.47322699999999 31.893856, -88.46...  \n",
       "2   6643480  POLYGON ((-87.42720399999999 31.26436, -87.425...  \n",
       "3  99965171  POLYGON ((-86.41333499999999 32.750591, -86.37...  \n",
       "4  32423356  POLYGON ((-87.870464 32.762442, -87.868184 32....  "
      ]
     },
     "execution_count": 12,
     "metadata": {},
     "output_type": "execute_result"
    }
   ],
   "source": [
    "gdf.head()"
   ]
  },
  {
   "cell_type": "code",
   "execution_count": 13,
   "metadata": {},
   "outputs": [
    {
     "name": "stdout",
     "output_type": "stream",
     "text": [
      "<class 'geopandas.geodataframe.GeoDataFrame'>\n",
      "RangeIndex: 3233 entries, 0 to 3232\n",
      "Data columns (total 10 columns):\n",
      "STATEFP     3233 non-null object\n",
      "COUNTYFP    3233 non-null object\n",
      "COUNTYNS    3233 non-null object\n",
      "AFFGEOID    3233 non-null object\n",
      "GEOID       3233 non-null object\n",
      "NAME        3233 non-null object\n",
      "LSAD        3233 non-null object\n",
      "ALAND       3233 non-null int64\n",
      "AWATER      3233 non-null int64\n",
      "geometry    3233 non-null object\n",
      "dtypes: int64(2), object(8)\n",
      "memory usage: 252.7+ KB\n"
     ]
    }
   ],
   "source": [
    "gdf.info()"
   ]
  },
  {
   "cell_type": "code",
   "execution_count": 15,
   "metadata": {},
   "outputs": [],
   "source": [
    "df['statefips_code'] = df['statefip'].cat.codes.astype(str).str.rjust(2, \"0\")\n",
    "\n",
    "df['countyfips'] = df['countyfips'].astype(str).str.rjust(3, \"0\")\n",
    "\n",
    "df['GEOID'] = df['statefips_code'] + df['countyfips']"
   ]
  },
  {
   "cell_type": "code",
   "execution_count": 16,
   "metadata": {},
   "outputs": [
    {
     "data": {
      "text/html": [
       "<div>\n",
       "<style scoped>\n",
       "    .dataframe tbody tr th:only-of-type {\n",
       "        vertical-align: middle;\n",
       "    }\n",
       "\n",
       "    .dataframe tbody tr th {\n",
       "        vertical-align: top;\n",
       "    }\n",
       "\n",
       "    .dataframe thead th {\n",
       "        text-align: right;\n",
       "    }\n",
       "</style>\n",
       "<table border=\"1\" class=\"dataframe\">\n",
       "  <thead>\n",
       "    <tr style=\"text-align: right;\">\n",
       "      <th></th>\n",
       "      <th>year</th>\n",
       "      <th>multyear</th>\n",
       "      <th>datanum</th>\n",
       "      <th>serial</th>\n",
       "      <th>cbserial</th>\n",
       "      <th>hhwt</th>\n",
       "      <th>statefip</th>\n",
       "      <th>countyfips</th>\n",
       "      <th>puma</th>\n",
       "      <th>gq</th>\n",
       "      <th>...</th>\n",
       "      <th>age</th>\n",
       "      <th>bpl</th>\n",
       "      <th>bpld</th>\n",
       "      <th>citizen</th>\n",
       "      <th>language</th>\n",
       "      <th>languaged</th>\n",
       "      <th>educ</th>\n",
       "      <th>educd</th>\n",
       "      <th>statefips_code</th>\n",
       "      <th>GEOID</th>\n",
       "    </tr>\n",
       "  </thead>\n",
       "  <tbody>\n",
       "    <tr>\n",
       "      <th>0</th>\n",
       "      <td>2016</td>\n",
       "      <td>2012</td>\n",
       "      <td>5</td>\n",
       "      <td>3</td>\n",
       "      <td>2.012000e+12</td>\n",
       "      <td>22</td>\n",
       "      <td>georgia</td>\n",
       "      <td>000</td>\n",
       "      <td>100</td>\n",
       "      <td>households under 1970 definition</td>\n",
       "      <td>...</td>\n",
       "      <td>34</td>\n",
       "      <td>georgia</td>\n",
       "      <td>georgia</td>\n",
       "      <td>n/a</td>\n",
       "      <td>english</td>\n",
       "      <td>english</td>\n",
       "      <td>4 years of college</td>\n",
       "      <td>bachelor's degree</td>\n",
       "      <td>10</td>\n",
       "      <td>10000</td>\n",
       "    </tr>\n",
       "    <tr>\n",
       "      <th>1</th>\n",
       "      <td>2016</td>\n",
       "      <td>2012</td>\n",
       "      <td>5</td>\n",
       "      <td>13</td>\n",
       "      <td>2.012000e+12</td>\n",
       "      <td>8</td>\n",
       "      <td>georgia</td>\n",
       "      <td>000</td>\n",
       "      <td>1007</td>\n",
       "      <td>households under 1970 definition</td>\n",
       "      <td>...</td>\n",
       "      <td>33</td>\n",
       "      <td>georgia</td>\n",
       "      <td>georgia</td>\n",
       "      <td>n/a</td>\n",
       "      <td>english</td>\n",
       "      <td>english</td>\n",
       "      <td>grade 12</td>\n",
       "      <td>regular high school diploma</td>\n",
       "      <td>10</td>\n",
       "      <td>10000</td>\n",
       "    </tr>\n",
       "    <tr>\n",
       "      <th>2</th>\n",
       "      <td>2016</td>\n",
       "      <td>2012</td>\n",
       "      <td>5</td>\n",
       "      <td>14</td>\n",
       "      <td>2.012000e+12</td>\n",
       "      <td>2</td>\n",
       "      <td>california</td>\n",
       "      <td>029</td>\n",
       "      <td>2901</td>\n",
       "      <td>households under 1970 definition</td>\n",
       "      <td>...</td>\n",
       "      <td>30</td>\n",
       "      <td>california</td>\n",
       "      <td>california</td>\n",
       "      <td>n/a</td>\n",
       "      <td>english</td>\n",
       "      <td>english</td>\n",
       "      <td>grade 12</td>\n",
       "      <td>ged or alternative credential</td>\n",
       "      <td>04</td>\n",
       "      <td>04029</td>\n",
       "    </tr>\n",
       "    <tr>\n",
       "      <th>3</th>\n",
       "      <td>2016</td>\n",
       "      <td>2012</td>\n",
       "      <td>5</td>\n",
       "      <td>26</td>\n",
       "      <td>2.012000e+12</td>\n",
       "      <td>12</td>\n",
       "      <td>georgia</td>\n",
       "      <td>000</td>\n",
       "      <td>2002</td>\n",
       "      <td>households under 1970 definition</td>\n",
       "      <td>...</td>\n",
       "      <td>34</td>\n",
       "      <td>colorado</td>\n",
       "      <td>colorado</td>\n",
       "      <td>n/a</td>\n",
       "      <td>spanish</td>\n",
       "      <td>spanish</td>\n",
       "      <td>1 year of college</td>\n",
       "      <td>1 or more years of college credit, no degree</td>\n",
       "      <td>10</td>\n",
       "      <td>10000</td>\n",
       "    </tr>\n",
       "    <tr>\n",
       "      <th>4</th>\n",
       "      <td>2016</td>\n",
       "      <td>2012</td>\n",
       "      <td>5</td>\n",
       "      <td>28</td>\n",
       "      <td>2.012000e+12</td>\n",
       "      <td>3</td>\n",
       "      <td>california</td>\n",
       "      <td>073</td>\n",
       "      <td>7313</td>\n",
       "      <td>other group quarters</td>\n",
       "      <td>...</td>\n",
       "      <td>28</td>\n",
       "      <td>california</td>\n",
       "      <td>california</td>\n",
       "      <td>n/a</td>\n",
       "      <td>english</td>\n",
       "      <td>english</td>\n",
       "      <td>grade 12</td>\n",
       "      <td>ged or alternative credential</td>\n",
       "      <td>04</td>\n",
       "      <td>04073</td>\n",
       "    </tr>\n",
       "  </tbody>\n",
       "</table>\n",
       "<p>5 rows × 23 columns</p>\n",
       "</div>"
      ],
      "text/plain": [
       "   year  multyear  datanum  serial      cbserial  hhwt    statefip countyfips  \\\n",
       "0  2016      2012        5       3  2.012000e+12    22     georgia        000   \n",
       "1  2016      2012        5      13  2.012000e+12     8     georgia        000   \n",
       "2  2016      2012        5      14  2.012000e+12     2  california        029   \n",
       "3  2016      2012        5      26  2.012000e+12    12     georgia        000   \n",
       "4  2016      2012        5      28  2.012000e+12     3  california        073   \n",
       "\n",
       "   puma                                gq  ...    age         bpl        bpld  \\\n",
       "0   100  households under 1970 definition  ...     34     georgia     georgia   \n",
       "1  1007  households under 1970 definition  ...     33     georgia     georgia   \n",
       "2  2901  households under 1970 definition  ...     30  california  california   \n",
       "3  2002  households under 1970 definition  ...     34    colorado    colorado   \n",
       "4  7313              other group quarters  ...     28  california  california   \n",
       "\n",
       "  citizen language languaged                educ  \\\n",
       "0     n/a  english   english  4 years of college   \n",
       "1     n/a  english   english            grade 12   \n",
       "2     n/a  english   english            grade 12   \n",
       "3     n/a  spanish   spanish   1 year of college   \n",
       "4     n/a  english   english            grade 12   \n",
       "\n",
       "                                          educd statefips_code  GEOID  \n",
       "0                             bachelor's degree             10  10000  \n",
       "1                   regular high school diploma             10  10000  \n",
       "2                 ged or alternative credential             04  04029  \n",
       "3  1 or more years of college credit, no degree             10  10000  \n",
       "4                 ged or alternative credential             04  04073  \n",
       "\n",
       "[5 rows x 23 columns]"
      ]
     },
     "execution_count": 16,
     "metadata": {},
     "output_type": "execute_result"
    }
   ],
   "source": [
    "df.head()"
   ]
  },
  {
   "cell_type": "markdown",
   "metadata": {},
   "source": [
    "Creating an education variable"
   ]
  },
  {
   "cell_type": "code",
   "execution_count": 17,
   "metadata": {},
   "outputs": [],
   "source": [
    "df.loc[df['educd'] < 'regular high school diploma', 'education_level'] = 'No HS'\n",
    "\n",
    "df.loc[((df['educd'] == 'regular high school diploma') | (df['educd'] == 'ged or alternative credential')), 'education_level'] = 'HS'\n",
    "\n",
    "df.loc[(df['educd'] >= 'some college, but less than 1 year') & (df['educd'] <= \"associate's degree, type not specified\"), 'education_level'] = 'Some college/AA'\n",
    "\n",
    "df.loc[df['educd'] == \"bachelor's degree\", 'education_level'] = 'B.A.'\n",
    "\n",
    "df.loc[df['educd'] > \"bachelor's degree\", 'education_level'] = 'Advanced degree'\n"
   ]
  },
  {
   "cell_type": "code",
   "execution_count": 18,
   "metadata": {},
   "outputs": [
    {
     "data": {
      "text/plain": [
       "0"
      ]
     },
     "execution_count": 18,
     "metadata": {},
     "output_type": "execute_result"
    }
   ],
   "source": [
    "df['education_level'].isnull().sum()"
   ]
  },
  {
   "cell_type": "code",
   "execution_count": 19,
   "metadata": {},
   "outputs": [],
   "source": [
    "education_by_puma = df.groupby(['GEOID', 'education_level'])['perwt'].sum().to_frame()"
   ]
  },
  {
   "cell_type": "code",
   "execution_count": 20,
   "metadata": {},
   "outputs": [],
   "source": [
    "shares = education_by_puma.groupby(level=0).apply(lambda x: x / float(x.sum()))"
   ]
  },
  {
   "cell_type": "code",
   "execution_count": 21,
   "metadata": {},
   "outputs": [
    {
     "name": "stderr",
     "output_type": "stream",
     "text": [
      "C:\\Users\\sanchez\\AppData\\Local\\Continuum\\anaconda3\\envs\\geo_educ\\lib\\site-packages\\ipykernel_launcher.py:1: FutureWarning: 'argmax' is deprecated, use 'idxmax' instead. The behavior of 'argmax'\n",
      "will be corrected to return the positional maximum in the future.\n",
      "Use 'series.values.argmax' to get the position of the maximum now.\n",
      "  \"\"\"Entry point for launching an IPython kernel.\n"
     ]
    }
   ],
   "source": [
    "most_common_educ = shares.groupby(level = 0)['perwt'].apply(lambda x: x.argmax()[1]).to_frame()\n",
    "numbers = shares.groupby(level = 0)['perwt'].max()"
   ]
  },
  {
   "cell_type": "code",
   "execution_count": 22,
   "metadata": {},
   "outputs": [
    {
     "data": {
      "text/html": [
       "<div>\n",
       "<style scoped>\n",
       "    .dataframe tbody tr th:only-of-type {\n",
       "        vertical-align: middle;\n",
       "    }\n",
       "\n",
       "    .dataframe tbody tr th {\n",
       "        vertical-align: top;\n",
       "    }\n",
       "\n",
       "    .dataframe thead th {\n",
       "        text-align: right;\n",
       "    }\n",
       "</style>\n",
       "<table border=\"1\" class=\"dataframe\">\n",
       "  <thead>\n",
       "    <tr style=\"text-align: right;\">\n",
       "      <th></th>\n",
       "      <th>GEOID</th>\n",
       "      <th>education_level</th>\n",
       "      <th>share</th>\n",
       "    </tr>\n",
       "  </thead>\n",
       "  <tbody>\n",
       "    <tr>\n",
       "      <th>0</th>\n",
       "      <td>00000</td>\n",
       "      <td>Some college/AA</td>\n",
       "      <td>0.344062</td>\n",
       "    </tr>\n",
       "    <tr>\n",
       "      <th>1</th>\n",
       "      <td>00003</td>\n",
       "      <td>Some college/AA</td>\n",
       "      <td>0.333148</td>\n",
       "    </tr>\n",
       "    <tr>\n",
       "      <th>2</th>\n",
       "      <td>00015</td>\n",
       "      <td>Some college/AA</td>\n",
       "      <td>0.375766</td>\n",
       "    </tr>\n",
       "    <tr>\n",
       "      <th>3</th>\n",
       "      <td>00055</td>\n",
       "      <td>Some college/AA</td>\n",
       "      <td>0.367613</td>\n",
       "    </tr>\n",
       "    <tr>\n",
       "      <th>4</th>\n",
       "      <td>00073</td>\n",
       "      <td>Some college/AA</td>\n",
       "      <td>0.309765</td>\n",
       "    </tr>\n",
       "  </tbody>\n",
       "</table>\n",
       "</div>"
      ],
      "text/plain": [
       "   GEOID  education_level     share\n",
       "0  00000  Some college/AA  0.344062\n",
       "1  00003  Some college/AA  0.333148\n",
       "2  00015  Some college/AA  0.375766\n",
       "3  00055  Some college/AA  0.367613\n",
       "4  00073  Some college/AA  0.309765"
      ]
     },
     "execution_count": 22,
     "metadata": {},
     "output_type": "execute_result"
    }
   ],
   "source": [
    "most_common_educ['share'] = numbers\n",
    "\n",
    "most_common_educ.columns = ['education_level', 'share']\n",
    "most_common_educ.reset_index(inplace = True)\n",
    "most_common_educ.head()"
   ]
  },
  {
   "cell_type": "code",
   "execution_count": 23,
   "metadata": {},
   "outputs": [],
   "source": [
    "gdf['centroid_lon'] = gdf['geometry'].centroid.x\n",
    "gdf['centroid_lat'] = gdf['geometry'].centroid.y"
   ]
  },
  {
   "cell_type": "code",
   "execution_count": 24,
   "metadata": {},
   "outputs": [],
   "source": [
    "ba_shares = shares.xs('B.A.', level = 1).reset_index()\n",
    "\n",
    "ba_shares.columns = ['GEOID', 'Shares of BA']"
   ]
  },
  {
   "cell_type": "code",
   "execution_count": 25,
   "metadata": {},
   "outputs": [],
   "source": [
    "geo_data = gdf.merge(most_common_educ, how = 'left', on = 'GEOID', )"
   ]
  },
  {
   "cell_type": "code",
   "execution_count": 38,
   "metadata": {},
   "outputs": [],
   "source": [
    "## We'll focus on BAs\n",
    "geo_ba = gdf.merge(ba_shares, how = 'left', on = 'GEOID')\n",
    "geo_ba['Shares of BA'].fillna(0, inplace = True)\n"
   ]
  },
  {
   "cell_type": "code",
   "execution_count": 41,
   "metadata": {},
   "outputs": [
    {
     "data": {
      "text/plain": [
       "Index(['STATEFP', 'COUNTYFP', 'COUNTYNS', 'AFFGEOID', 'GEOID', 'NAME', 'LSAD',\n",
       "       'ALAND', 'AWATER', 'geometry', 'centroid_lon', 'centroid_lat',\n",
       "       'Shares of BA'],\n",
       "      dtype='object')"
      ]
     },
     "execution_count": 41,
     "metadata": {},
     "output_type": "execute_result"
    }
   ],
   "source": [
    "geo_ba.columns"
   ]
  },
  {
   "cell_type": "code",
   "execution_count": 42,
   "metadata": {},
   "outputs": [],
   "source": [
    "ca_ba = geo_ba[geo_ba['STATEFP'] == '06']"
   ]
  },
  {
   "cell_type": "code",
   "execution_count": 43,
   "metadata": {},
   "outputs": [
    {
     "data": {
      "text/plain": [
       "(58, 13)"
      ]
     },
     "execution_count": 43,
     "metadata": {},
     "output_type": "execute_result"
    }
   ],
   "source": [
    "ca_ba.shape"
   ]
  },
  {
   "cell_type": "markdown",
   "metadata": {},
   "source": [
    "Now we can create a GeoJSON for the choropleth."
   ]
  },
  {
   "cell_type": "code",
   "execution_count": 44,
   "metadata": {},
   "outputs": [],
   "source": [
    "# choro_data = json.loads(geo_ba.to_json())"
   ]
  },
  {
   "cell_type": "code",
   "execution_count": 45,
   "metadata": {},
   "outputs": [],
   "source": [
    "ca_data = json.loads(ca_ba.to_json())"
   ]
  },
  {
   "cell_type": "code",
   "execution_count": 46,
   "metadata": {},
   "outputs": [],
   "source": [
    "with open(\"../data/interim/ca_ba.geojson\", \"w\") as file:\n",
    "    json.dump(ca_data, file, indent=4)"
   ]
  },
  {
   "cell_type": "code",
   "execution_count": 73,
   "metadata": {},
   "outputs": [],
   "source": [
    "# with open(\"../data/interim/ba_pumas.geojson\", \"w\") as file:\n",
    "#     json.dump(choro_data, file, indent=4)"
   ]
  },
  {
   "cell_type": "markdown",
   "metadata": {},
   "source": [
    "***\n",
    "Just to check we can try to visualize it right now,"
   ]
  },
  {
   "cell_type": "code",
   "execution_count": 59,
   "metadata": {},
   "outputs": [
    {
     "data": {
      "text/html": [
       "<div>\n",
       "<style scoped>\n",
       "    .dataframe tbody tr th:only-of-type {\n",
       "        vertical-align: middle;\n",
       "    }\n",
       "\n",
       "    .dataframe tbody tr th {\n",
       "        vertical-align: top;\n",
       "    }\n",
       "\n",
       "    .dataframe thead th {\n",
       "        text-align: right;\n",
       "    }\n",
       "</style>\n",
       "<table border=\"1\" class=\"dataframe\">\n",
       "  <thead>\n",
       "    <tr style=\"text-align: right;\">\n",
       "      <th></th>\n",
       "      <th>STATEFP</th>\n",
       "      <th>COUNTYFP</th>\n",
       "      <th>COUNTYNS</th>\n",
       "      <th>AFFGEOID</th>\n",
       "      <th>GEOID</th>\n",
       "      <th>NAME</th>\n",
       "      <th>LSAD</th>\n",
       "      <th>ALAND</th>\n",
       "      <th>AWATER</th>\n",
       "      <th>geometry</th>\n",
       "      <th>centroid_lon</th>\n",
       "      <th>centroid_lat</th>\n",
       "      <th>Shares of BA</th>\n",
       "    </tr>\n",
       "  </thead>\n",
       "  <tbody>\n",
       "    <tr>\n",
       "      <th>18</th>\n",
       "      <td>06</td>\n",
       "      <td>001</td>\n",
       "      <td>01675839</td>\n",
       "      <td>0500000US06001</td>\n",
       "      <td>06001</td>\n",
       "      <td>Alameda</td>\n",
       "      <td>06</td>\n",
       "      <td>1909616630</td>\n",
       "      <td>216916717</td>\n",
       "      <td>POLYGON ((-122.342253 37.805558, -122.33411840...</td>\n",
       "      <td>-121.888870</td>\n",
       "      <td>37.646895</td>\n",
       "      <td>0.292831</td>\n",
       "    </tr>\n",
       "    <tr>\n",
       "      <th>19</th>\n",
       "      <td>06</td>\n",
       "      <td>005</td>\n",
       "      <td>01675841</td>\n",
       "      <td>0500000US06005</td>\n",
       "      <td>06005</td>\n",
       "      <td>Amador</td>\n",
       "      <td>06</td>\n",
       "      <td>1539933576</td>\n",
       "      <td>29470568</td>\n",
       "      <td>POLYGON ((-121.027406 38.50354, -121.027472 38...</td>\n",
       "      <td>-120.651090</td>\n",
       "      <td>38.446392</td>\n",
       "      <td>0.285289</td>\n",
       "    </tr>\n",
       "    <tr>\n",
       "      <th>20</th>\n",
       "      <td>06</td>\n",
       "      <td>013</td>\n",
       "      <td>01675903</td>\n",
       "      <td>0500000US06013</td>\n",
       "      <td>06013</td>\n",
       "      <td>Contra Costa</td>\n",
       "      <td>06</td>\n",
       "      <td>1857310903</td>\n",
       "      <td>225193562</td>\n",
       "      <td>POLYGON ((-122.42976 37.965405, -122.418592 37...</td>\n",
       "      <td>-121.927786</td>\n",
       "      <td>37.919123</td>\n",
       "      <td>0.290183</td>\n",
       "    </tr>\n",
       "    <tr>\n",
       "      <th>21</th>\n",
       "      <td>06</td>\n",
       "      <td>023</td>\n",
       "      <td>01681908</td>\n",
       "      <td>0500000US06023</td>\n",
       "      <td>06023</td>\n",
       "      <td>Humboldt</td>\n",
       "      <td>06</td>\n",
       "      <td>9241251740</td>\n",
       "      <td>1254039383</td>\n",
       "      <td>POLYGON ((-124.408601 40.44320099999999, -124....</td>\n",
       "      <td>-123.875629</td>\n",
       "      <td>40.699297</td>\n",
       "      <td>0.000000</td>\n",
       "    </tr>\n",
       "    <tr>\n",
       "      <th>22</th>\n",
       "      <td>06</td>\n",
       "      <td>037</td>\n",
       "      <td>00277283</td>\n",
       "      <td>0500000US06037</td>\n",
       "      <td>06037</td>\n",
       "      <td>Los Angeles</td>\n",
       "      <td>06</td>\n",
       "      <td>10510588451</td>\n",
       "      <td>1794793532</td>\n",
       "      <td>(POLYGON ((-118.604415 33.478552, -118.598783 ...</td>\n",
       "      <td>-118.224817</td>\n",
       "      <td>34.320751</td>\n",
       "      <td>0.000000</td>\n",
       "    </tr>\n",
       "  </tbody>\n",
       "</table>\n",
       "</div>"
      ],
      "text/plain": [
       "   STATEFP COUNTYFP  COUNTYNS        AFFGEOID  GEOID          NAME LSAD  \\\n",
       "18      06      001  01675839  0500000US06001  06001       Alameda   06   \n",
       "19      06      005  01675841  0500000US06005  06005        Amador   06   \n",
       "20      06      013  01675903  0500000US06013  06013  Contra Costa   06   \n",
       "21      06      023  01681908  0500000US06023  06023      Humboldt   06   \n",
       "22      06      037  00277283  0500000US06037  06037   Los Angeles   06   \n",
       "\n",
       "          ALAND      AWATER  \\\n",
       "18   1909616630   216916717   \n",
       "19   1539933576    29470568   \n",
       "20   1857310903   225193562   \n",
       "21   9241251740  1254039383   \n",
       "22  10510588451  1794793532   \n",
       "\n",
       "                                             geometry  centroid_lon  \\\n",
       "18  POLYGON ((-122.342253 37.805558, -122.33411840...   -121.888870   \n",
       "19  POLYGON ((-121.027406 38.50354, -121.027472 38...   -120.651090   \n",
       "20  POLYGON ((-122.42976 37.965405, -122.418592 37...   -121.927786   \n",
       "21  POLYGON ((-124.408601 40.44320099999999, -124....   -123.875629   \n",
       "22  (POLYGON ((-118.604415 33.478552, -118.598783 ...   -118.224817   \n",
       "\n",
       "    centroid_lat  Shares of BA  \n",
       "18     37.646895      0.292831  \n",
       "19     38.446392      0.285289  \n",
       "20     37.919123      0.290183  \n",
       "21     40.699297      0.000000  \n",
       "22     34.320751      0.000000  "
      ]
     },
     "execution_count": 59,
     "metadata": {},
     "output_type": "execute_result"
    }
   ],
   "source": [
    "ca_ba.head()"
   ]
  },
  {
   "cell_type": "code",
   "execution_count": 48,
   "metadata": {},
   "outputs": [],
   "source": [
    "import altair as alt\n",
    "\n",
    "data = alt.Data(values = ca_data['features'])\n",
    "\n",
    "alt.Chart(data).mark_geoshape().encode(\n",
    "    color = 'properties.Shares of BA:Q'\n",
    ")"
   ]
  },
  {
   "cell_type": "code",
   "execution_count": 62,
   "metadata": {},
   "outputs": [
    {
     "name": "stderr",
     "output_type": "stream",
     "text": [
      "C:\\Users\\sanchez\\AppData\\Local\\Continuum\\anaconda3\\envs\\geo_educ\\lib\\site-packages\\pysal\\__init__.py:65: VisibleDeprecationWarning: PySAL's API will be changed on 2018-12-31. The last release made with this API is version 1.14.4. A preview of the next API version is provided in the `pysal` 2.0 prelease candidate. The API changes and a guide on how to change imports is provided at https://pysal.org/about\n",
      "  ), VisibleDeprecationWarning)\n",
      "C:\\Users\\sanchez\\AppData\\Local\\Continuum\\anaconda3\\envs\\geo_educ\\lib\\site-packages\\scipy\\stats\\stats.py:1713: FutureWarning: Using a non-tuple sequence for multidimensional indexing is deprecated; use `arr[tuple(seq)]` instead of `arr[seq]`. In the future this will be interpreted as an array index, `arr[np.array(seq)]`, which will result either in an error or a different result.\n",
      "  return np.add.reduce(sorted[indexer] * weights, axis=axis) / sumval\n"
     ]
    }
   ],
   "source": [
    "ca_ba.plot(column = 'Shares of BA', cmap='OrRd', scheme='quantiles');"
   ]
  },
  {
   "cell_type": "code",
   "execution_count": 63,
   "metadata": {},
   "outputs": [
    {
     "data": {
      "text/plain": [
       "STATEFP          object\n",
       "COUNTYFP         object\n",
       "COUNTYNS         object\n",
       "AFFGEOID         object\n",
       "GEOID            object\n",
       "NAME             object\n",
       "LSAD             object\n",
       "ALAND             int64\n",
       "AWATER            int64\n",
       "geometry         object\n",
       "centroid_lon    float64\n",
       "centroid_lat    float64\n",
       "Shares of BA    float64\n",
       "dtype: object"
      ]
     },
     "execution_count": 63,
     "metadata": {},
     "output_type": "execute_result"
    }
   ],
   "source": [
    "alt.Chart(data).mark_"
   ]
  },
  {
   "cell_type": "code",
   "execution_count": null,
   "metadata": {},
   "outputs": [],
   "source": []
  }
 ],
 "metadata": {
  "kernelspec": {
   "display_name": "Python 3",
   "language": "python",
   "name": "python3"
  },
  "language_info": {
   "codemirror_mode": {
    "name": "ipython",
    "version": 3
   },
   "file_extension": ".py",
   "mimetype": "text/x-python",
   "name": "python",
   "nbconvert_exporter": "python",
   "pygments_lexer": "ipython3",
   "version": "3.6.6"
  }
 },
 "nbformat": 4,
 "nbformat_minor": 2
}
