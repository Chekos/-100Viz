{
 "cells": [
  {
   "cell_type": "markdown",
   "metadata": {},
   "source": [
    "# #100Viz 12: Reppin' LATAM\n",
    "\n",
    "Source: genius.com, musica.com, letras.com <br>\n",
    "Notes: Data processed / cleaned before-hand. "
   ]
  },
  {
   "cell_type": "code",
   "execution_count": 1,
   "metadata": {},
   "outputs": [],
   "source": [
    "import plotly\n",
    "import plotly.graph_objs as go\n",
    "from plotly.offline import iplot, init_notebook_mode\n",
    "import ipywidgets as widgets\n",
    "import pandas as pd"
   ]
  },
  {
   "cell_type": "code",
   "execution_count": 2,
   "metadata": {},
   "outputs": [
    {
     "data": {
      "application/vnd.jupyter.widget-view+json": {
       "model_id": "c5f9088581974b259b2d717267ec2183",
       "version_major": 2,
       "version_minor": 0
      },
      "text/plain": [
       "FigureWidget({\n",
       "    'data': [{'r': [1, 3, 2, 4],\n",
       "              'theta': [0, 22.5, 45, 67.5, 90],\n",
       "              …"
      ]
     },
     "metadata": {},
     "output_type": "display_data"
    }
   ],
   "source": [
    "# example\n",
    "theta = [0, 22.5, 45, 67.5, 90]\n",
    "fig1 = go.FigureWidget(data = [\n",
    "    go.Barpolar(theta = theta, r = [1, 3, 2, 4,]),\n",
    "    go.Barpolar(theta = theta, r = [3, 2, 4, 1,]),\n",
    "    go.Barpolar(theta = theta, r = [2, 4, 1, 3,])\n",
    "])\n",
    "\n",
    "fig1"
   ]
  },
  {
   "cell_type": "code",
   "execution_count": 3,
   "metadata": {},
   "outputs": [],
   "source": [
    "df = pd.read_csv(\"../data/raw/pos_top7.csv\")"
   ]
  },
  {
   "cell_type": "code",
   "execution_count": 4,
   "metadata": {},
   "outputs": [
    {
     "data": {
      "text/plain": [
       "array(['sustantivo', 'verbo', 'nombre propio', 'adjetivo', 'pronombre',\n",
       "       'determinador', 'adverbio', 'adposición', 'conj. subordinada',\n",
       "       'auxiliar', 'puntuación', 'conjunción', 'numeral', 'interjección',\n",
       "       'espacio', 'símbolo', 'partícula'], dtype=object)"
      ]
     },
     "execution_count": 4,
     "metadata": {},
     "output_type": "execute_result"
    }
   ],
   "source": [
    "df['pos'].unique()"
   ]
  },
  {
   "cell_type": "code",
   "execution_count": 10,
   "metadata": {},
   "outputs": [],
   "source": [
    "def make_chart(dataframe, artist = 'Residente'):\n",
    "    \n",
    "    df = dataframe\n",
    "    \n",
    "    condition_pos = ((df['pos'] == 'sustantivo') |\n",
    "        (df['pos'] == 'verbo') |\n",
    "        (df['pos'] == 'nombre propio') |\n",
    "        (df['pos'] == 'adjetivo') |\n",
    "        (df['pos'] == 'pronombre')\n",
    "        )\n",
    "\n",
    "\n",
    "    df = df[condition_pos].copy()\n",
    "\n",
    "    artist_data = df[df['artista'] == artist]\n",
    "\n",
    "    pos_top = ['sustantivo', 'verbo', 'nombre propio', 'adjetivo', 'pronombre']\n",
    "    colors = [\"#074a7e\",  \"#dc0d12\", \"#e4a100\", \"#02a3cd\", \"#dc0d7a\",]\n",
    "\n",
    "    angle = 90/5\n",
    "    theta = [angle*0.5, \n",
    "             angle*1.5, \n",
    "             angle*2.5, \n",
    "             angle*3.5, \n",
    "             angle*4.5]\n",
    "\n",
    "    fig_artist = go.FigureWidget(data = [\n",
    "        go.Barpolar(theta = [angle*4], r = artist_data[artist_data['pos'] == pos_top[4]]['cuenta'], name = pos_top[4], width = 18, marker = dict(color = colors[0]), ),\n",
    "        go.Barpolar(theta = [angle*3], r = artist_data[artist_data['pos'] == pos_top[3]]['cuenta'], name = pos_top[3], width = 18, marker = dict(color = colors[1])),\n",
    "        go.Barpolar(theta = [angle*2], r = artist_data[artist_data['pos'] == pos_top[2]]['cuenta'], name = pos_top[2], width = 18, marker = dict(color = colors[2])),\n",
    "        go.Barpolar(theta = [angle*1], r = artist_data[artist_data['pos'] == pos_top[1]]['cuenta'], name = pos_top[1], width = 18, marker = dict(color = colors[3])),\n",
    "        go.Barpolar(theta = [angle*0], r = artist_data[artist_data['pos'] == pos_top[0]]['cuenta'], name = pos_top[0], width = 18, marker = dict(color = colors[4])),   \n",
    "        ]\n",
    "    )\n",
    "\n",
    "\n",
    "    # angular axis\n",
    "    fig_artist.layout.polar.angularaxis.showline = False\n",
    "    fig_artist.layout.polar.angularaxis.showgrid = False\n",
    "    fig_artist.layout.polar.angularaxis.rotation = 9\n",
    "    fig_artist.layout.polar.angularaxis.showticklabels = False\n",
    "    fig_artist.layout.polar.angularaxis.ticklen = 0\n",
    "\n",
    "    # radial axis\n",
    "    fig_artist.layout.polar.radialaxis.showgrid = False\n",
    "    fig_artist.layout.polar.radialaxis.showline = True\n",
    "    fig_artist.layout.polar.radialaxis.ticklen = 10\n",
    "    fig_artist.layout.polar.radialaxis.tickformat = 's'\n",
    "    fig_artist.layout.polar.radialaxis.nticks = 5\n",
    "    fig_artist.layout.polar.radialaxis.tickfont.size = 28\n",
    "    fig_artist.layout.polar.radialaxis.tickangle = 90\n",
    "    fig_artist.layout.polar.radialaxis.ticksuffix = ' palabras'\n",
    "    fig_artist.layout.polar.radialaxis.range = [1, artist_data['cuenta'].max() + (artist_data['cuenta'].max() % 50)]\n",
    "\n",
    "    # hole\n",
    "    fig_artist.layout.polar.hole = 0.5\n",
    "\n",
    "    # size\n",
    "    fig_artist.layout.width = 1200\n",
    "    fig_artist.layout.height = 800\n",
    "\n",
    "    # legend\n",
    "    fig_artist.layout.legend.x = .5\n",
    "    fig_artist.layout.legend.y = .95\n",
    "    fig_artist.layout.legend.xanchor = 'center'\n",
    "    fig_artist.layout.legend.font.size = 24\n",
    "    fig_artist.layout.legend.orientation = 'h'\n",
    "\n",
    "    # details\n",
    "    fig_artist.layout.font.family = \"Arial\"\n",
    "    fig_artist.layout.title = f'{artist}'\n",
    "    \n",
    "    fig_artist\n",
    "    \n",
    "    return fig_artist"
   ]
  },
  {
   "cell_type": "code",
   "execution_count": 11,
   "metadata": {},
   "outputs": [
    {
     "data": {
      "application/vnd.jupyter.widget-view+json": {
       "model_id": "7e2b7d9403f8442ebafd11fea6350a44",
       "version_major": 2,
       "version_minor": 0
      },
      "text/plain": [
       "FigureWidget({\n",
       "    'data': [{'marker': {'color': '#074a7e'},\n",
       "              'name': 'pronombre',\n",
       "              …"
      ]
     },
     "metadata": {},
     "output_type": "display_data"
    }
   ],
   "source": [
    "make_chart(dataframe = df, artist='Residente')"
   ]
  },
  {
   "cell_type": "code",
   "execution_count": 12,
   "metadata": {},
   "outputs": [
    {
     "data": {
      "application/vnd.jupyter.widget-view+json": {
       "model_id": "d2f5bb8956824394ad53a114beec643a",
       "version_major": 2,
       "version_minor": 0
      },
      "text/plain": [
       "FigureWidget({\n",
       "    'data': [{'marker': {'color': '#074a7e'},\n",
       "              'name': 'pronombre',\n",
       "              …"
      ]
     },
     "metadata": {},
     "output_type": "display_data"
    }
   ],
   "source": [
    "make_chart(dataframe = df, artist='Canserbero')"
   ]
  },
  {
   "cell_type": "code",
   "execution_count": null,
   "metadata": {},
   "outputs": [],
   "source": []
  }
 ],
 "metadata": {
  "kernelspec": {
   "display_name": "Python 3",
   "language": "python",
   "name": "python3"
  },
  "language_info": {
   "codemirror_mode": {
    "name": "ipython",
    "version": 3
   },
   "file_extension": ".py",
   "mimetype": "text/x-python",
   "name": "python",
   "nbconvert_exporter": "python",
   "pygments_lexer": "ipython3",
   "version": "3.6.3"
  }
 },
 "nbformat": 4,
 "nbformat_minor": 2
}
