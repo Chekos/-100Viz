{
 "cells": [
  {
   "cell_type": "markdown",
   "metadata": {},
   "source": [
    "# #100Viz 10: Declining Humanity\n",
    "\n",
    "Source: IPEDS 2000-2016 <br>\n",
    "Notes: Data processed / cleaned before-hand. "
   ]
  },
  {
   "cell_type": "markdown",
   "metadata": {},
   "source": [
    "***\n",
    "__Set up__"
   ]
  },
  {
   "cell_type": "code",
   "execution_count": 1,
   "metadata": {},
   "outputs": [],
   "source": [
    "import altair as alt\n",
    "import pandas as pd"
   ]
  },
  {
   "cell_type": "code",
   "execution_count": 2,
   "metadata": {},
   "outputs": [
    {
     "data": {
      "text/html": [
       "<div>\n",
       "<style scoped>\n",
       "    .dataframe tbody tr th:only-of-type {\n",
       "        vertical-align: middle;\n",
       "    }\n",
       "\n",
       "    .dataframe tbody tr th {\n",
       "        vertical-align: top;\n",
       "    }\n",
       "\n",
       "    .dataframe thead th {\n",
       "        text-align: right;\n",
       "    }\n",
       "</style>\n",
       "<table border=\"1\" class=\"dataframe\">\n",
       "  <thead>\n",
       "    <tr style=\"text-align: right;\">\n",
       "      <th></th>\n",
       "      <th>CIPgroup</th>\n",
       "      <th>awlevel</th>\n",
       "      <th>cipcode</th>\n",
       "      <th>ctotalt</th>\n",
       "      <th>majornum</th>\n",
       "      <th>unitid</th>\n",
       "      <th>year</th>\n",
       "      <th>Institution Name</th>\n",
       "      <th>System</th>\n",
       "      <th>Classification</th>\n",
       "    </tr>\n",
       "  </thead>\n",
       "  <tbody>\n",
       "    <tr>\n",
       "      <th>0</th>\n",
       "      <td>AREA, ETHNIC, CULTURAL, GENDER, AND GROUP STUD...</td>\n",
       "      <td>bachelors degree</td>\n",
       "      <td>05.0107 - Latin American Studies</td>\n",
       "      <td>1</td>\n",
       "      <td>NaN</td>\n",
       "      <td>125727</td>\n",
       "      <td>2000</td>\n",
       "      <td>Westmont College</td>\n",
       "      <td>Private non-profit</td>\n",
       "      <td>Social and Behavioral Sciences</td>\n",
       "    </tr>\n",
       "    <tr>\n",
       "      <th>1</th>\n",
       "      <td>AREA, ETHNIC, CULTURAL, GENDER, AND GROUP STUD...</td>\n",
       "      <td>bachelors degree</td>\n",
       "      <td>05.0108 - Middle Eastern Studies</td>\n",
       "      <td>2</td>\n",
       "      <td>NaN</td>\n",
       "      <td>125727</td>\n",
       "      <td>2000</td>\n",
       "      <td>Westmont College</td>\n",
       "      <td>Private non-profit</td>\n",
       "      <td>Social and Behavioral Sciences</td>\n",
       "    </tr>\n",
       "    <tr>\n",
       "      <th>2</th>\n",
       "      <td>COMMUNICATION, JOURNALISM, AND RELATED PROGRAMS.</td>\n",
       "      <td>bachelors degree</td>\n",
       "      <td>09.0101 - Communications, General</td>\n",
       "      <td>39</td>\n",
       "      <td>NaN</td>\n",
       "      <td>125727</td>\n",
       "      <td>2000</td>\n",
       "      <td>Westmont College</td>\n",
       "      <td>Private non-profit</td>\n",
       "      <td>Humanities</td>\n",
       "    </tr>\n",
       "    <tr>\n",
       "      <th>3</th>\n",
       "      <td>ENGINEERING.</td>\n",
       "      <td>bachelors degree</td>\n",
       "      <td>14.1201 - Engineering Physics</td>\n",
       "      <td>3</td>\n",
       "      <td>NaN</td>\n",
       "      <td>125727</td>\n",
       "      <td>2000</td>\n",
       "      <td>Westmont College</td>\n",
       "      <td>Private non-profit</td>\n",
       "      <td>STEM</td>\n",
       "    </tr>\n",
       "    <tr>\n",
       "      <th>4</th>\n",
       "      <td>FOREIGN LANGUAGES, LITERATURES, AND LINGUISTICS.</td>\n",
       "      <td>bachelors degree</td>\n",
       "      <td>16.0901 - French Language and Literature</td>\n",
       "      <td>0</td>\n",
       "      <td>NaN</td>\n",
       "      <td>125727</td>\n",
       "      <td>2000</td>\n",
       "      <td>Westmont College</td>\n",
       "      <td>Private non-profit</td>\n",
       "      <td>Humanities</td>\n",
       "    </tr>\n",
       "  </tbody>\n",
       "</table>\n",
       "</div>"
      ],
      "text/plain": [
       "                                            CIPgroup           awlevel  \\\n",
       "0  AREA, ETHNIC, CULTURAL, GENDER, AND GROUP STUD...  bachelors degree   \n",
       "1  AREA, ETHNIC, CULTURAL, GENDER, AND GROUP STUD...  bachelors degree   \n",
       "2   COMMUNICATION, JOURNALISM, AND RELATED PROGRAMS.  bachelors degree   \n",
       "3                                       ENGINEERING.  bachelors degree   \n",
       "4   FOREIGN LANGUAGES, LITERATURES, AND LINGUISTICS.  bachelors degree   \n",
       "\n",
       "                                    cipcode  ctotalt majornum  unitid  year  \\\n",
       "0          05.0107 - Latin American Studies        1      NaN  125727  2000   \n",
       "1          05.0108 - Middle Eastern Studies        2      NaN  125727  2000   \n",
       "2         09.0101 - Communications, General       39      NaN  125727  2000   \n",
       "3             14.1201 - Engineering Physics        3      NaN  125727  2000   \n",
       "4  16.0901 - French Language and Literature        0      NaN  125727  2000   \n",
       "\n",
       "   Institution Name              System                  Classification  \n",
       "0  Westmont College  Private non-profit  Social and Behavioral Sciences  \n",
       "1  Westmont College  Private non-profit  Social and Behavioral Sciences  \n",
       "2  Westmont College  Private non-profit                      Humanities  \n",
       "3  Westmont College  Private non-profit                            STEM  \n",
       "4  Westmont College  Private non-profit                      Humanities  "
      ]
     },
     "execution_count": 2,
     "metadata": {},
     "output_type": "execute_result"
    }
   ],
   "source": [
    "df = pd.read_csv(\"../data/raw/2000-2016_BAs.csv\")\n",
    "\n",
    "df.head()"
   ]
  },
  {
   "cell_type": "markdown",
   "metadata": {},
   "source": [
    "***\n",
    "We're only interested in `year`, `ctotalt`, `System`, and `Classification` for this visualization.\n",
    "\n",
    "Note: `System` and `Classification` were not included in the original data from IPEDS."
   ]
  },
  {
   "cell_type": "code",
   "execution_count": 3,
   "metadata": {},
   "outputs": [],
   "source": [
    "cols_of_interest = ['year', 'System', 'Classification', 'ctotalt',]"
   ]
  },
  {
   "cell_type": "code",
   "execution_count": 4,
   "metadata": {},
   "outputs": [],
   "source": [
    "df = df[(df['Classification'] != \"Business\") & (df['Classification'] != \"Other\")]"
   ]
  },
  {
   "cell_type": "code",
   "execution_count": 5,
   "metadata": {},
   "outputs": [
    {
     "data": {
      "text/html": [
       "<div>\n",
       "<style scoped>\n",
       "    .dataframe tbody tr th:only-of-type {\n",
       "        vertical-align: middle;\n",
       "    }\n",
       "\n",
       "    .dataframe tbody tr th {\n",
       "        vertical-align: top;\n",
       "    }\n",
       "\n",
       "    .dataframe thead th {\n",
       "        text-align: right;\n",
       "    }\n",
       "</style>\n",
       "<table border=\"1\" class=\"dataframe\">\n",
       "  <thead>\n",
       "    <tr style=\"text-align: right;\">\n",
       "      <th></th>\n",
       "      <th>year</th>\n",
       "      <th>system</th>\n",
       "      <th>classification</th>\n",
       "      <th>total</th>\n",
       "    </tr>\n",
       "  </thead>\n",
       "  <tbody>\n",
       "    <tr>\n",
       "      <th>0</th>\n",
       "      <td>2000</td>\n",
       "      <td>CSU</td>\n",
       "      <td>Humanities</td>\n",
       "      <td>14767</td>\n",
       "    </tr>\n",
       "    <tr>\n",
       "      <th>1</th>\n",
       "      <td>2000</td>\n",
       "      <td>CSU</td>\n",
       "      <td>STEM</td>\n",
       "      <td>6916</td>\n",
       "    </tr>\n",
       "    <tr>\n",
       "      <th>2</th>\n",
       "      <td>2000</td>\n",
       "      <td>CSU</td>\n",
       "      <td>Social and Behavioral Sciences</td>\n",
       "      <td>10824</td>\n",
       "    </tr>\n",
       "    <tr>\n",
       "      <th>3</th>\n",
       "      <td>2000</td>\n",
       "      <td>Private non-profit</td>\n",
       "      <td>Humanities</td>\n",
       "      <td>5671</td>\n",
       "    </tr>\n",
       "    <tr>\n",
       "      <th>4</th>\n",
       "      <td>2000</td>\n",
       "      <td>Private non-profit</td>\n",
       "      <td>STEM</td>\n",
       "      <td>3674</td>\n",
       "    </tr>\n",
       "  </tbody>\n",
       "</table>\n",
       "</div>"
      ],
      "text/plain": [
       "   year              system                  classification  total\n",
       "0  2000                 CSU                      Humanities  14767\n",
       "1  2000                 CSU                            STEM   6916\n",
       "2  2000                 CSU  Social and Behavioral Sciences  10824\n",
       "3  2000  Private non-profit                      Humanities   5671\n",
       "4  2000  Private non-profit                            STEM   3674"
      ]
     },
     "execution_count": 5,
     "metadata": {},
     "output_type": "execute_result"
    }
   ],
   "source": [
    "dff = df.groupby(cols_of_interest[:-1])[['ctotalt']].sum()\n",
    "dff.reset_index(inplace=True)\n",
    "dff.columns = ['year', 'system', 'classification', 'total']\n",
    "\n",
    "dff['classification'] = pd.Categorical(dff['classification'], categories = ['STEM', 'Social and Behavioral Sciences', 'Humanities'], ordered = True)\n",
    "\n",
    "dff.head()"
   ]
  },
  {
   "cell_type": "code",
   "execution_count": 6,
   "metadata": {},
   "outputs": [
    {
     "data": {
      "application/vnd.vegalite.v2+json": {
       "$schema": "https://vega.github.io/schema/vega-lite/v2.6.0.json",
       "config": {
        "view": {
         "height": 300,
         "width": 400
        }
       },
       "data": {
        "name": "data-2a12875d5093b6d645d8907ad62ee51d"
       },
       "datasets": {
        "data-2a12875d5093b6d645d8907ad62ee51d": [
         {
          "classification": "STEM",
          "total": 19688,
          "year": 2000
         },
         {
          "classification": "Social and Behavioral Sciences",
          "total": 27891,
          "year": 2000
         },
         {
          "classification": "Humanities",
          "total": 26189,
          "year": 2000
         },
         {
          "classification": "STEM",
          "total": 19835,
          "year": 2001
         },
         {
          "classification": "Social and Behavioral Sciences",
          "total": 29020,
          "year": 2001
         },
         {
          "classification": "Humanities",
          "total": 28336,
          "year": 2001
         },
         {
          "classification": "STEM",
          "total": 20740,
          "year": 2002
         },
         {
          "classification": "Social and Behavioral Sciences",
          "total": 31212,
          "year": 2002
         },
         {
          "classification": "Humanities",
          "total": 30504,
          "year": 2002
         },
         {
          "classification": "STEM",
          "total": 21543,
          "year": 2003
         },
         {
          "classification": "Social and Behavioral Sciences",
          "total": 28426,
          "year": 2003
         },
         {
          "classification": "Humanities",
          "total": 34334,
          "year": 2003
         },
         {
          "classification": "STEM",
          "total": 22144,
          "year": 2004
         },
         {
          "classification": "Social and Behavioral Sciences",
          "total": 29531,
          "year": 2004
         },
         {
          "classification": "Humanities",
          "total": 36304,
          "year": 2004
         },
         {
          "classification": "STEM",
          "total": 22912,
          "year": 2005
         },
         {
          "classification": "Social and Behavioral Sciences",
          "total": 31242,
          "year": 2005
         },
         {
          "classification": "Humanities",
          "total": 37338,
          "year": 2005
         },
         {
          "classification": "STEM",
          "total": 23490,
          "year": 2006
         },
         {
          "classification": "Social and Behavioral Sciences",
          "total": 32808,
          "year": 2006
         },
         {
          "classification": "Humanities",
          "total": 37816,
          "year": 2006
         },
         {
          "classification": "STEM",
          "total": 23543,
          "year": 2007
         },
         {
          "classification": "Social and Behavioral Sciences",
          "total": 33312,
          "year": 2007
         },
         {
          "classification": "Humanities",
          "total": 37485,
          "year": 2007
         },
         {
          "classification": "STEM",
          "total": 24021,
          "year": 2008
         },
         {
          "classification": "Social and Behavioral Sciences",
          "total": 34062,
          "year": 2008
         },
         {
          "classification": "Humanities",
          "total": 37674,
          "year": 2008
         },
         {
          "classification": "STEM",
          "total": 24133,
          "year": 2009
         },
         {
          "classification": "Social and Behavioral Sciences",
          "total": 33897,
          "year": 2009
         },
         {
          "classification": "Humanities",
          "total": 36839,
          "year": 2009
         },
         {
          "classification": "STEM",
          "total": 25061,
          "year": 2010
         },
         {
          "classification": "Social and Behavioral Sciences",
          "total": 34585,
          "year": 2010
         },
         {
          "classification": "Humanities",
          "total": 37200,
          "year": 2010
         },
         {
          "classification": "STEM",
          "total": 26156,
          "year": 2011
         },
         {
          "classification": "Social and Behavioral Sciences",
          "total": 36250,
          "year": 2011
         },
         {
          "classification": "Humanities",
          "total": 37422,
          "year": 2011
         },
         {
          "classification": "STEM",
          "total": 28098,
          "year": 2012
         },
         {
          "classification": "Social and Behavioral Sciences",
          "total": 37358,
          "year": 2012
         },
         {
          "classification": "Humanities",
          "total": 37064,
          "year": 2012
         },
         {
          "classification": "STEM",
          "total": 29950,
          "year": 2013
         },
         {
          "classification": "Social and Behavioral Sciences",
          "total": 39005,
          "year": 2013
         },
         {
          "classification": "Humanities",
          "total": 37756,
          "year": 2013
         },
         {
          "classification": "STEM",
          "total": 32111,
          "year": 2014
         },
         {
          "classification": "Social and Behavioral Sciences",
          "total": 39315,
          "year": 2014
         },
         {
          "classification": "Humanities",
          "total": 36820,
          "year": 2014
         },
         {
          "classification": "STEM",
          "total": 33935,
          "year": 2015
         },
         {
          "classification": "Social and Behavioral Sciences",
          "total": 39635,
          "year": 2015
         },
         {
          "classification": "Humanities",
          "total": 35549,
          "year": 2015
         },
         {
          "classification": "STEM",
          "total": 36901,
          "year": 2016
         },
         {
          "classification": "Social and Behavioral Sciences",
          "total": 40239,
          "year": 2016
         },
         {
          "classification": "Humanities",
          "total": 34727,
          "year": 2016
         }
        ]
       },
       "encoding": {
        "color": {
         "field": "classification",
         "sort": [
          "STEM",
          "Social and Behavioral Sciences",
          "Humanities"
         ],
         "type": "nominal"
        },
        "order": {
         "field": "classification",
         "type": "nominal"
        },
        "x": {
         "axis": {
          "format": "%Y"
         },
         "field": "year",
         "type": "ordinal"
        },
        "y": {
         "axis": {
          "title": "Number of BA degrees awarded"
         },
         "field": "total",
         "type": "quantitative"
        }
       },
       "height": 450,
       "mark": "bar",
       "title": "10 - Stagnant Humanity",
       "width": 650
      },
      "image/png": "[encoded data removed]",
      "text/plain": [
       "<VegaLite 2 object>\n",
       "\n",
       "If you see this message, it means the renderer has not been properly enabled\n",
       "for the frontend that you are using. For more information, see\n",
       "https://altair-viz.github.io/user_guide/troubleshooting.html\n"
      ]
     },
     "execution_count": 6,
     "metadata": {},
     "output_type": "execute_result"
    }
   ],
   "source": [
    "data = dff.groupby(['year', 'classification'])['total'].sum().reset_index()\n",
    "\n",
    "order = ['STEM', 'Social and Behavioral Sciences', 'Humanities',]\n",
    "\n",
    "statewide = alt.Chart(data).mark_bar().encode(\n",
    "    x = alt.X(\"year:O\", axis = alt.Axis(format = \"%Y\")),\n",
    "    y = alt.Y(\"total:Q\", axis = alt.Axis(title = \"Number of BA degrees awarded\")),\n",
    "    color = alt.Color('classification:N', sort = order),\n",
    "    order = alt.Order(\"classification:N\"),\n",
    ").properties(\n",
    "    title = \"10 - Stagnant Humanity\",\n",
    "    width = 650,\n",
    "    height = 450,\n",
    ")\n",
    "\n",
    "statewide"
   ]
  },
  {
   "cell_type": "code",
   "execution_count": 7,
   "metadata": {},
   "outputs": [
    {
     "data": {
      "application/vnd.vegalite.v2+json": {
       "$schema": "https://vega.github.io/schema/vega-lite/v2.6.0.json",
       "config": {
        "view": {
         "height": 300,
         "width": 400
        }
       },
       "data": {
        "name": "data-b3dda2c99b5592d9b57932bbab063130"
       },
       "datasets": {
        "data-b3dda2c99b5592d9b57932bbab063130": [
         {
          "classification": "Humanities",
          "system": "CSU",
          "total": 14767,
          "year": 2000
         },
         {
          "classification": "STEM",
          "system": "CSU",
          "total": 6916,
          "year": 2000
         },
         {
          "classification": "Social and Behavioral Sciences",
          "system": "CSU",
          "total": 10824,
          "year": 2000
         },
         {
          "classification": "Humanities",
          "system": "Private non-profit",
          "total": 5671,
          "year": 2000
         },
         {
          "classification": "STEM",
          "system": "Private non-profit",
          "total": 3674,
          "year": 2000
         },
         {
          "classification": "Social and Behavioral Sciences",
          "system": "Private non-profit",
          "total": 5513,
          "year": 2000
         },
         {
          "classification": "Humanities",
          "system": "UC",
          "total": 5751,
          "year": 2000
         },
         {
          "classification": "STEM",
          "system": "UC",
          "total": 9098,
          "year": 2000
         },
         {
          "classification": "Social and Behavioral Sciences",
          "system": "UC",
          "total": 11554,
          "year": 2000
         },
         {
          "classification": "Humanities",
          "system": "CSU",
          "total": 15629,
          "year": 2001
         },
         {
          "classification": "STEM",
          "system": "CSU",
          "total": 6733,
          "year": 2001
         },
         {
          "classification": "Social and Behavioral Sciences",
          "system": "CSU",
          "total": 11070,
          "year": 2001
         },
         {
          "classification": "Humanities",
          "system": "Private non-profit",
          "total": 6273,
          "year": 2001
         },
         {
          "classification": "STEM",
          "system": "Private non-profit",
          "total": 3556,
          "year": 2001
         },
         {
          "classification": "Social and Behavioral Sciences",
          "system": "Private non-profit",
          "total": 5540,
          "year": 2001
         },
         {
          "classification": "Humanities",
          "system": "UC",
          "total": 6434,
          "year": 2001
         },
         {
          "classification": "STEM",
          "system": "UC",
          "total": 9546,
          "year": 2001
         },
         {
          "classification": "Social and Behavioral Sciences",
          "system": "UC",
          "total": 12410,
          "year": 2001
         },
         {
          "classification": "Humanities",
          "system": "CSU",
          "total": 17182,
          "year": 2002
         },
         {
          "classification": "STEM",
          "system": "CSU",
          "total": 7298,
          "year": 2002
         },
         {
          "classification": "Social and Behavioral Sciences",
          "system": "CSU",
          "total": 12102,
          "year": 2002
         },
         {
          "classification": "Humanities",
          "system": "Private non-profit",
          "total": 6659,
          "year": 2002
         },
         {
          "classification": "STEM",
          "system": "Private non-profit",
          "total": 3725,
          "year": 2002
         },
         {
          "classification": "Social and Behavioral Sciences",
          "system": "Private non-profit",
          "total": 5897,
          "year": 2002
         },
         {
          "classification": "Humanities",
          "system": "UC",
          "total": 6663,
          "year": 2002
         },
         {
          "classification": "STEM",
          "system": "UC",
          "total": 9717,
          "year": 2002
         },
         {
          "classification": "Social and Behavioral Sciences",
          "system": "UC",
          "total": 13213,
          "year": 2002
         },
         {
          "classification": "Humanities",
          "system": "CSU",
          "total": 18468,
          "year": 2003
         },
         {
          "classification": "STEM",
          "system": "CSU",
          "total": 7503,
          "year": 2003
         },
         {
          "classification": "Social and Behavioral Sciences",
          "system": "CSU",
          "total": 10500,
          "year": 2003
         },
         {
          "classification": "Humanities",
          "system": "Private non-profit",
          "total": 7713,
          "year": 2003
         },
         {
          "classification": "STEM",
          "system": "Private non-profit",
          "total": 3718,
          "year": 2003
         },
         {
          "classification": "Social and Behavioral Sciences",
          "system": "Private non-profit",
          "total": 5717,
          "year": 2003
         },
         {
          "classification": "Humanities",
          "system": "UC",
          "total": 8153,
          "year": 2003
         },
         {
          "classification": "STEM",
          "system": "UC",
          "total": 10322,
          "year": 2003
         },
         {
          "classification": "Social and Behavioral Sciences",
          "system": "UC",
          "total": 12209,
          "year": 2003
         },
         {
          "classification": "Humanities",
          "system": "CSU",
          "total": 19675,
          "year": 2004
         },
         {
          "classification": "STEM",
          "system": "CSU",
          "total": 7778,
          "year": 2004
         },
         {
          "classification": "Social and Behavioral Sciences",
          "system": "CSU",
          "total": 10946,
          "year": 2004
         },
         {
          "classification": "Humanities",
          "system": "Private non-profit",
          "total": 8087,
          "year": 2004
         },
         {
          "classification": "STEM",
          "system": "Private non-profit",
          "total": 3667,
          "year": 2004
         },
         {
          "classification": "Social and Behavioral Sciences",
          "system": "Private non-profit",
          "total": 5725,
          "year": 2004
         },
         {
          "classification": "Humanities",
          "system": "UC",
          "total": 8542,
          "year": 2004
         },
         {
          "classification": "STEM",
          "system": "UC",
          "total": 10699,
          "year": 2004
         },
         {
          "classification": "Social and Behavioral Sciences",
          "system": "UC",
          "total": 12860,
          "year": 2004
         },
         {
          "classification": "Humanities",
          "system": "CSU",
          "total": 20265,
          "year": 2005
         },
         {
          "classification": "STEM",
          "system": "CSU",
          "total": 7722,
          "year": 2005
         },
         {
          "classification": "Social and Behavioral Sciences",
          "system": "CSU",
          "total": 11397,
          "year": 2005
         },
         {
          "classification": "Humanities",
          "system": "Private non-profit",
          "total": 8384,
          "year": 2005
         },
         {
          "classification": "STEM",
          "system": "Private non-profit",
          "total": 3552,
          "year": 2005
         },
         {
          "classification": "Social and Behavioral Sciences",
          "system": "Private non-profit",
          "total": 5978,
          "year": 2005
         },
         {
          "classification": "Humanities",
          "system": "UC",
          "total": 8689,
          "year": 2005
         },
         {
          "classification": "STEM",
          "system": "UC",
          "total": 11638,
          "year": 2005
         },
         {
          "classification": "Social and Behavioral Sciences",
          "system": "UC",
          "total": 13867,
          "year": 2005
         },
         {
          "classification": "Humanities",
          "system": "CSU",
          "total": 20375,
          "year": 2006
         },
         {
          "classification": "STEM",
          "system": "CSU",
          "total": 8178,
          "year": 2006
         },
         {
          "classification": "Social and Behavioral Sciences",
          "system": "CSU",
          "total": 12219,
          "year": 2006
         },
         {
          "classification": "Humanities",
          "system": "Private non-profit",
          "total": 8525,
          "year": 2006
         },
         {
          "classification": "STEM",
          "system": "Private non-profit",
          "total": 3522,
          "year": 2006
         },
         {
          "classification": "Social and Behavioral Sciences",
          "system": "Private non-profit",
          "total": 6221,
          "year": 2006
         },
         {
          "classification": "Humanities",
          "system": "UC",
          "total": 8916,
          "year": 2006
         },
         {
          "classification": "STEM",
          "system": "UC",
          "total": 11790,
          "year": 2006
         },
         {
          "classification": "Social and Behavioral Sciences",
          "system": "UC",
          "total": 14368,
          "year": 2006
         },
         {
          "classification": "Humanities",
          "system": "CSU",
          "total": 20332,
          "year": 2007
         },
         {
          "classification": "STEM",
          "system": "CSU",
          "total": 8035,
          "year": 2007
         },
         {
          "classification": "Social and Behavioral Sciences",
          "system": "CSU",
          "total": 13006,
          "year": 2007
         },
         {
          "classification": "Humanities",
          "system": "Private non-profit",
          "total": 8351,
          "year": 2007
         },
         {
          "classification": "STEM",
          "system": "Private non-profit",
          "total": 3486,
          "year": 2007
         },
         {
          "classification": "Social and Behavioral Sciences",
          "system": "Private non-profit",
          "total": 6122,
          "year": 2007
         },
         {
          "classification": "Humanities",
          "system": "UC",
          "total": 8802,
          "year": 2007
         },
         {
          "classification": "STEM",
          "system": "UC",
          "total": 12022,
          "year": 2007
         },
         {
          "classification": "Social and Behavioral Sciences",
          "system": "UC",
          "total": 14184,
          "year": 2007
         },
         {
          "classification": "Humanities",
          "system": "CSU",
          "total": 20210,
          "year": 2008
         },
         {
          "classification": "STEM",
          "system": "CSU",
          "total": 8355,
          "year": 2008
         },
         {
          "classification": "Social and Behavioral Sciences",
          "system": "CSU",
          "total": 13669,
          "year": 2008
         },
         {
          "classification": "Humanities",
          "system": "Private non-profit",
          "total": 8392,
          "year": 2008
         },
         {
          "classification": "STEM",
          "system": "Private non-profit",
          "total": 3517,
          "year": 2008
         },
         {
          "classification": "Social and Behavioral Sciences",
          "system": "Private non-profit",
          "total": 6185,
          "year": 2008
         },
         {
          "classification": "Humanities",
          "system": "UC",
          "total": 9072,
          "year": 2008
         },
         {
          "classification": "STEM",
          "system": "UC",
          "total": 12149,
          "year": 2008
         },
         {
          "classification": "Social and Behavioral Sciences",
          "system": "UC",
          "total": 14208,
          "year": 2008
         },
         {
          "classification": "Humanities",
          "system": "CSU",
          "total": 19763,
          "year": 2009
         },
         {
          "classification": "STEM",
          "system": "CSU",
          "total": 8160,
          "year": 2009
         },
         {
          "classification": "Social and Behavioral Sciences",
          "system": "CSU",
          "total": 13947,
          "year": 2009
         },
         {
          "classification": "Humanities",
          "system": "Private non-profit",
          "total": 8305,
          "year": 2009
         },
         {
          "classification": "STEM",
          "system": "Private non-profit",
          "total": 3512,
          "year": 2009
         },
         {
          "classification": "Social and Behavioral Sciences",
          "system": "Private non-profit",
          "total": 5869,
          "year": 2009
         },
         {
          "classification": "Humanities",
          "system": "UC",
          "total": 8771,
          "year": 2009
         },
         {
          "classification": "STEM",
          "system": "UC",
          "total": 12461,
          "year": 2009
         },
         {
          "classification": "Social and Behavioral Sciences",
          "system": "UC",
          "total": 14081,
          "year": 2009
         },
         {
          "classification": "Humanities",
          "system": "CSU",
          "total": 19740,
          "year": 2010
         },
         {
          "classification": "STEM",
          "system": "CSU",
          "total": 8296,
          "year": 2010
         },
         {
          "classification": "Social and Behavioral Sciences",
          "system": "CSU",
          "total": 13954,
          "year": 2010
         },
         {
          "classification": "Humanities",
          "system": "Private non-profit",
          "total": 8377,
          "year": 2010
         },
         {
          "classification": "STEM",
          "system": "Private non-profit",
          "total": 3635,
          "year": 2010
         },
         {
          "classification": "Social and Behavioral Sciences",
          "system": "Private non-profit",
          "total": 5898,
          "year": 2010
         },
         {
          "classification": "Humanities",
          "system": "UC",
          "total": 9083,
          "year": 2010
         },
         {
          "classification": "STEM",
          "system": "UC",
          "total": 13130,
          "year": 2010
         },
         {
          "classification": "Social and Behavioral Sciences",
          "system": "UC",
          "total": 14733,
          "year": 2010
         },
         {
          "classification": "Humanities",
          "system": "CSU",
          "total": 19957,
          "year": 2011
         },
         {
          "classification": "STEM",
          "system": "CSU",
          "total": 8323,
          "year": 2011
         },
         {
          "classification": "Social and Behavioral Sciences",
          "system": "CSU",
          "total": 14509,
          "year": 2011
         },
         {
          "classification": "Humanities",
          "system": "Private non-profit",
          "total": 8448,
          "year": 2011
         },
         {
          "classification": "STEM",
          "system": "Private non-profit",
          "total": 3751,
          "year": 2011
         },
         {
          "classification": "Social and Behavioral Sciences",
          "system": "Private non-profit",
          "total": 6278,
          "year": 2011
         },
         {
          "classification": "Humanities",
          "system": "UC",
          "total": 9017,
          "year": 2011
         },
         {
          "classification": "STEM",
          "system": "UC",
          "total": 14082,
          "year": 2011
         },
         {
          "classification": "Social and Behavioral Sciences",
          "system": "UC",
          "total": 15463,
          "year": 2011
         },
         {
          "classification": "Humanities",
          "system": "CSU",
          "total": 19253,
          "year": 2012
         },
         {
          "classification": "STEM",
          "system": "CSU",
          "total": 9001,
          "year": 2012
         },
         {
          "classification": "Social and Behavioral Sciences",
          "system": "CSU",
          "total": 14306,
          "year": 2012
         },
         {
          "classification": "Humanities",
          "system": "Private non-profit",
          "total": 8469,
          "year": 2012
         },
         {
          "classification": "STEM",
          "system": "Private non-profit",
          "total": 4106,
          "year": 2012
         },
         {
          "classification": "Social and Behavioral Sciences",
          "system": "Private non-profit",
          "total": 7002,
          "year": 2012
         },
         {
          "classification": "Humanities",
          "system": "UC",
          "total": 9342,
          "year": 2012
         },
         {
          "classification": "STEM",
          "system": "UC",
          "total": 14991,
          "year": 2012
         },
         {
          "classification": "Social and Behavioral Sciences",
          "system": "UC",
          "total": 16050,
          "year": 2012
         },
         {
          "classification": "Humanities",
          "system": "CSU",
          "total": 19963,
          "year": 2013
         },
         {
          "classification": "STEM",
          "system": "CSU",
          "total": 10049,
          "year": 2013
         },
         {
          "classification": "Social and Behavioral Sciences",
          "system": "CSU",
          "total": 15860,
          "year": 2013
         },
         {
          "classification": "Humanities",
          "system": "Private non-profit",
          "total": 8806,
          "year": 2013
         },
         {
          "classification": "STEM",
          "system": "Private non-profit",
          "total": 4430,
          "year": 2013
         },
         {
          "classification": "Social and Behavioral Sciences",
          "system": "Private non-profit",
          "total": 6910,
          "year": 2013
         },
         {
          "classification": "Humanities",
          "system": "UC",
          "total": 8987,
          "year": 2013
         },
         {
          "classification": "STEM",
          "system": "UC",
          "total": 15471,
          "year": 2013
         },
         {
          "classification": "Social and Behavioral Sciences",
          "system": "UC",
          "total": 16235,
          "year": 2013
         },
         {
          "classification": "Humanities",
          "system": "CSU",
          "total": 19788,
          "year": 2014
         },
         {
          "classification": "STEM",
          "system": "CSU",
          "total": 11097,
          "year": 2014
         },
         {
          "classification": "Social and Behavioral Sciences",
          "system": "CSU",
          "total": 16854,
          "year": 2014
         },
         {
          "classification": "Humanities",
          "system": "Private non-profit",
          "total": 8902,
          "year": 2014
         },
         {
          "classification": "STEM",
          "system": "Private non-profit",
          "total": 4974,
          "year": 2014
         },
         {
          "classification": "Social and Behavioral Sciences",
          "system": "Private non-profit",
          "total": 6962,
          "year": 2014
         },
         {
          "classification": "Humanities",
          "system": "UC",
          "total": 8130,
          "year": 2014
         },
         {
          "classification": "STEM",
          "system": "UC",
          "total": 16040,
          "year": 2014
         },
         {
          "classification": "Social and Behavioral Sciences",
          "system": "UC",
          "total": 15499,
          "year": 2014
         },
         {
          "classification": "Humanities",
          "system": "CSU",
          "total": 19033,
          "year": 2015
         },
         {
          "classification": "STEM",
          "system": "CSU",
          "total": 12016,
          "year": 2015
         },
         {
          "classification": "Social and Behavioral Sciences",
          "system": "CSU",
          "total": 16843,
          "year": 2015
         },
         {
          "classification": "Humanities",
          "system": "Private non-profit",
          "total": 8746,
          "year": 2015
         },
         {
          "classification": "STEM",
          "system": "Private non-profit",
          "total": 5052,
          "year": 2015
         },
         {
          "classification": "Social and Behavioral Sciences",
          "system": "Private non-profit",
          "total": 7032,
          "year": 2015
         },
         {
          "classification": "Humanities",
          "system": "UC",
          "total": 7770,
          "year": 2015
         },
         {
          "classification": "STEM",
          "system": "UC",
          "total": 16867,
          "year": 2015
         },
         {
          "classification": "Social and Behavioral Sciences",
          "system": "UC",
          "total": 15760,
          "year": 2015
         },
         {
          "classification": "Humanities",
          "system": "CSU",
          "total": 19147,
          "year": 2016
         },
         {
          "classification": "STEM",
          "system": "CSU",
          "total": 13160,
          "year": 2016
         },
         {
          "classification": "Social and Behavioral Sciences",
          "system": "CSU",
          "total": 17781,
          "year": 2016
         },
         {
          "classification": "Humanities",
          "system": "Private non-profit",
          "total": 8094,
          "year": 2016
         },
         {
          "classification": "STEM",
          "system": "Private non-profit",
          "total": 5622,
          "year": 2016
         },
         {
          "classification": "Social and Behavioral Sciences",
          "system": "Private non-profit",
          "total": 6718,
          "year": 2016
         },
         {
          "classification": "Humanities",
          "system": "UC",
          "total": 7486,
          "year": 2016
         },
         {
          "classification": "STEM",
          "system": "UC",
          "total": 18119,
          "year": 2016
         },
         {
          "classification": "Social and Behavioral Sciences",
          "system": "UC",
          "total": 15740,
          "year": 2016
         }
        ]
       },
       "facet": {
        "column": {
         "field": "system",
         "sort": "descending",
         "title": "System",
         "type": "nominal"
        }
       },
       "spec": {
        "encoding": {
         "color": {
          "field": "classification",
          "sort": [
           "STEM",
           "Social and Behavioral Sciences",
           "Humanities"
          ],
          "type": "nominal"
         },
         "order": {
          "field": "classification",
          "type": "nominal"
         },
         "x": {
          "axis": {
           "format": "%Y"
          },
          "field": "year",
          "type": "ordinal"
         },
         "y": {
          "axis": {
           "title": ""
          },
          "field": "total",
          "type": "quantitative"
         }
        },
        "height": 200,
        "mark": "line",
        "width": 208
       }
      },
      "image/png": "[encoded data removed]",
      "text/plain": [
       "<VegaLite 2 object>\n",
       "\n",
       "If you see this message, it means the renderer has not been properly enabled\n",
       "for the frontend that you are using. For more information, see\n",
       "https://altair-viz.github.io/user_guide/troubleshooting.html\n"
      ]
     },
     "execution_count": 7,
     "metadata": {},
     "output_type": "execute_result"
    }
   ],
   "source": [
    "lower = alt.Chart(dff).mark_line().encode(\n",
    "    x = alt.X(\"year:O\", axis = alt.Axis(format = \"%Y\")),\n",
    "    y = alt.Y(\"total:Q\", axis = alt.Axis(title = \"\")),\n",
    "    color = alt.Color('classification:N', sort = order),\n",
    "    order = alt.Order(\"classification:N\"),\n",
    ").properties(\n",
    "    width = 208,\n",
    "    height = 200,\n",
    ").facet(\n",
    "    column = alt.Column(\"system\", title = \"System\", sort = \"descending\",),\n",
    ")\n",
    "\n",
    "lower"
   ]
  },
  {
   "cell_type": "markdown",
   "metadata": {},
   "source": [
    "***\n",
    "# Viz"
   ]
  },
  {
   "cell_type": "code",
   "execution_count": 8,
   "metadata": {},
   "outputs": [],
   "source": [
    "%run cimarron_theme_mod.py"
   ]
  },
  {
   "cell_type": "code",
   "execution_count": 9,
   "metadata": {},
   "outputs": [
    {
     "data": {
      "text/html": [
       "<style>\n",
       "@import url('https://fonts.googleapis.com/css?family=Ubuntu|Ubuntu+Condensed|Ubuntu+Mono');\n",
       "</style>"
      ],
      "text/plain": [
       "<IPython.core.display.HTML object>"
      ]
     },
     "metadata": {},
     "output_type": "display_data"
    }
   ],
   "source": [
    "%%html\n",
    "<style>\n",
    "@import url('https://fonts.googleapis.com/css?family=Ubuntu|Ubuntu+Condensed|Ubuntu+Mono');\n",
    "</style>"
   ]
  },
  {
   "cell_type": "code",
   "execution_count": 10,
   "metadata": {},
   "outputs": [
    {
     "data": {
      "application/vnd.vegalite.v2+json": {
       "$schema": "https://vega.github.io/schema/vega-lite/v2.6.0.json",
       "autosize": "fit",
       "config": {
        "arc": {
         "fill": "#282828"
        },
        "area": {
         "fill": "#282828"
        },
        "axisBand": {
         "grid": false
        },
        "axisBottom": {
         "domain": false,
         "domainColor": "black",
         "domainWidth": 3,
         "grid": true,
         "gridColor": "#C9C9C9",
         "gridWidth": 1,
         "labelFont": "Ubuntu Condensed",
         "labelFontSize": 20,
         "labelPadding": 8,
         "tickColor": "#282828",
         "tickSize": 10,
         "title": "",
         "titleFont": "Ubuntu",
         "titleFontSize": 16,
         "titlePadding": 10
        },
        "axisLeft": {
         "domainColor": "#282828",
         "domainWidth": 1,
         "gridColor": "#C9C9C9",
         "gridWidth": 1,
         "labelFont": "Ubuntu Condensed",
         "labelFontSize": 20,
         "labelPadding": 8,
         "tickColor": "#282828",
         "tickSize": 10,
         "ticks": true,
         "titleFont": "Ubuntu",
         "titleFontSize": 22,
         "titlePadding": 10
        },
        "axisRight": {
         "domainColor": "#282828",
         "domainWidth": 1,
         "gridColor": "#C9C9C9",
         "gridWidth": 1,
         "labelFont": "Ubuntu Condensed",
         "labelFontSize": 12,
         "labelPadding": 4,
         "tickColor": "#282828",
         "tickSize": 10,
         "ticks": true,
         "titleFont": "Ubuntu",
         "titleFontSize": 14,
         "titlePadding": 10
        },
        "axisTop": {
         "domain": false,
         "domainColor": "black",
         "domainWidth": 3,
         "grid": true,
         "gridColor": "#C9C9C9",
         "gridWidth": 1,
         "labelFont": "Ubuntu Condensed",
         "labelFontSize": 12,
         "labelPadding": 4,
         "tickColor": "#282828",
         "tickSize": 10,
         "titleFont": "Ubuntu",
         "titleFontSize": 14,
         "titlePadding": 10
        },
        "background": "#FFFAFA",
        "geoshape": {
         "fill": "#C0C0C0"
        },
        "group": {
         "fill": "#FFFAFA"
        },
        "header": {
         "fontWeight": 400,
         "labelFont": "Ubuntu Condensed",
         "labelFontSize": 28,
         "title": " ",
         "titleBaseline": "bottom",
         "titleFont": "Ubuntu",
         "titleFontSize": 28,
         "titleOffset": -30
        },
        "legend": {
         "labelFont": "Ubuntu Condensed",
         "labelFontSize": 16,
         "labelLimit": 500,
         "padding": 10,
         "symbolSize": 30,
         "symbolType": "square",
         "titleFont": "Ubuntu",
         "titleFontSize": 26,
         "titlePadding": 10
        },
        "line": {
         "color": "#282828",
         "stroke": "#282828",
         "strokewidth": 5
        },
        "padding": 10,
        "path": {
         "stroke": "#282828",
         "strokeWidth": 0.5
        },
        "point": {
         "filled": true
        },
        "range": {
         "category": [
          "#dc0d7a",
          "#02a3cd",
          "#e4a100",
          "#dc0d12",
          "#0DDC6F",
          "#074a7e",
          "#e46800",
          "#aa3594",
          "#a20c4b"
         ],
         "diverging": [
          "#dc0d12",
          "#e9686b",
          "#fbe1e1",
          "#dff4f9",
          "#81d1e6",
          "#03a3cd"
         ],
         "heatmap": [
          "#fcdfef",
          "#f8bfde",
          "#f59fce",
          "#f180be",
          "#ee60ad",
          "#eb409d",
          "#e7208c",
          "#e4007c"
         ]
        },
        "rect": {
         "fill": "#A20C4B",
         "opacity": 0.3
        },
        "style": {
         "bar": {
          "binSpacing": 2,
          "fill": "#282828",
          "stroke": false
         },
         "text": {
          "align": "right",
          "dx": 300,
          "font": "Ubuntu Mono",
          "fontSize": 10,
          "fontWeight": 100,
          "href": "https://twitter.com/ChekosWH",
          "size": 10,
          "text": "Made by @ChekosWH"
         }
        },
        "symbol": {
         "opacity": 1,
         "shape": "circle",
         "size": 40,
         "strokeWidth": 1
        },
        "title": {
         "anchor": "start",
         "font": "Ubuntu",
         "fontSize": 64,
         "fontWeight": 600,
         "offset": 20
        },
        "trail": {
         "color": "#282828",
         "size": 5,
         "stroke": "#282828",
         "strokeWidth": 0
        },
        "view": {
         "padding": 15,
         "stroke": false
        }
       },
       "data": {
        "name": "data-2a12875d5093b6d645d8907ad62ee51d"
       },
       "datasets": {
        "data-2a12875d5093b6d645d8907ad62ee51d": [
         {
          "classification": "STEM",
          "total": 19688,
          "year": 2000
         },
         {
          "classification": "Social and Behavioral Sciences",
          "total": 27891,
          "year": 2000
         },
         {
          "classification": "Humanities",
          "total": 26189,
          "year": 2000
         },
         {
          "classification": "STEM",
          "total": 19835,
          "year": 2001
         },
         {
          "classification": "Social and Behavioral Sciences",
          "total": 29020,
          "year": 2001
         },
         {
          "classification": "Humanities",
          "total": 28336,
          "year": 2001
         },
         {
          "classification": "STEM",
          "total": 20740,
          "year": 2002
         },
         {
          "classification": "Social and Behavioral Sciences",
          "total": 31212,
          "year": 2002
         },
         {
          "classification": "Humanities",
          "total": 30504,
          "year": 2002
         },
         {
          "classification": "STEM",
          "total": 21543,
          "year": 2003
         },
         {
          "classification": "Social and Behavioral Sciences",
          "total": 28426,
          "year": 2003
         },
         {
          "classification": "Humanities",
          "total": 34334,
          "year": 2003
         },
         {
          "classification": "STEM",
          "total": 22144,
          "year": 2004
         },
         {
          "classification": "Social and Behavioral Sciences",
          "total": 29531,
          "year": 2004
         },
         {
          "classification": "Humanities",
          "total": 36304,
          "year": 2004
         },
         {
          "classification": "STEM",
          "total": 22912,
          "year": 2005
         },
         {
          "classification": "Social and Behavioral Sciences",
          "total": 31242,
          "year": 2005
         },
         {
          "classification": "Humanities",
          "total": 37338,
          "year": 2005
         },
         {
          "classification": "STEM",
          "total": 23490,
          "year": 2006
         },
         {
          "classification": "Social and Behavioral Sciences",
          "total": 32808,
          "year": 2006
         },
         {
          "classification": "Humanities",
          "total": 37816,
          "year": 2006
         },
         {
          "classification": "STEM",
          "total": 23543,
          "year": 2007
         },
         {
          "classification": "Social and Behavioral Sciences",
          "total": 33312,
          "year": 2007
         },
         {
          "classification": "Humanities",
          "total": 37485,
          "year": 2007
         },
         {
          "classification": "STEM",
          "total": 24021,
          "year": 2008
         },
         {
          "classification": "Social and Behavioral Sciences",
          "total": 34062,
          "year": 2008
         },
         {
          "classification": "Humanities",
          "total": 37674,
          "year": 2008
         },
         {
          "classification": "STEM",
          "total": 24133,
          "year": 2009
         },
         {
          "classification": "Social and Behavioral Sciences",
          "total": 33897,
          "year": 2009
         },
         {
          "classification": "Humanities",
          "total": 36839,
          "year": 2009
         },
         {
          "classification": "STEM",
          "total": 25061,
          "year": 2010
         },
         {
          "classification": "Social and Behavioral Sciences",
          "total": 34585,
          "year": 2010
         },
         {
          "classification": "Humanities",
          "total": 37200,
          "year": 2010
         },
         {
          "classification": "STEM",
          "total": 26156,
          "year": 2011
         },
         {
          "classification": "Social and Behavioral Sciences",
          "total": 36250,
          "year": 2011
         },
         {
          "classification": "Humanities",
          "total": 37422,
          "year": 2011
         },
         {
          "classification": "STEM",
          "total": 28098,
          "year": 2012
         },
         {
          "classification": "Social and Behavioral Sciences",
          "total": 37358,
          "year": 2012
         },
         {
          "classification": "Humanities",
          "total": 37064,
          "year": 2012
         },
         {
          "classification": "STEM",
          "total": 29950,
          "year": 2013
         },
         {
          "classification": "Social and Behavioral Sciences",
          "total": 39005,
          "year": 2013
         },
         {
          "classification": "Humanities",
          "total": 37756,
          "year": 2013
         },
         {
          "classification": "STEM",
          "total": 32111,
          "year": 2014
         },
         {
          "classification": "Social and Behavioral Sciences",
          "total": 39315,
          "year": 2014
         },
         {
          "classification": "Humanities",
          "total": 36820,
          "year": 2014
         },
         {
          "classification": "STEM",
          "total": 33935,
          "year": 2015
         },
         {
          "classification": "Social and Behavioral Sciences",
          "total": 39635,
          "year": 2015
         },
         {
          "classification": "Humanities",
          "total": 35549,
          "year": 2015
         },
         {
          "classification": "STEM",
          "total": 36901,
          "year": 2016
         },
         {
          "classification": "Social and Behavioral Sciences",
          "total": 40239,
          "year": 2016
         },
         {
          "classification": "Humanities",
          "total": 34727,
          "year": 2016
         }
        ]
       },
       "encoding": {
        "color": {
         "field": "classification",
         "sort": [
          "STEM",
          "Social and Behavioral Sciences",
          "Humanities"
         ],
         "type": "nominal"
        },
        "order": {
         "field": "classification",
         "type": "nominal"
        },
        "x": {
         "axis": {
          "format": "%Y"
         },
         "field": "year",
         "type": "ordinal"
        },
        "y": {
         "axis": {
          "title": "Number of BA degrees awarded"
         },
         "field": "total",
         "type": "quantitative"
        }
       },
       "height": 450,
       "mark": "bar",
       "title": "10 - Stagnant Humanity",
       "width": 650
      },
      "image/png": "[encoded data removed]",
      "text/plain": [
       "<VegaLite 2 object>\n",
       "\n",
       "If you see this message, it means the renderer has not been properly enabled\n",
       "for the frontend that you are using. For more information, see\n",
       "https://altair-viz.github.io/user_guide/troubleshooting.html\n"
      ]
     },
     "execution_count": 10,
     "metadata": {},
     "output_type": "execute_result"
    }
   ],
   "source": [
    "statewide"
   ]
  },
  {
   "cell_type": "code",
   "execution_count": 11,
   "metadata": {},
   "outputs": [
    {
     "data": {
      "application/vnd.vegalite.v2+json": {
       "$schema": "https://vega.github.io/schema/vega-lite/v2.6.0.json",
       "autosize": "fit",
       "config": {
        "arc": {
         "fill": "#282828"
        },
        "area": {
         "fill": "#282828"
        },
        "axisBand": {
         "grid": false
        },
        "axisBottom": {
         "domain": false,
         "domainColor": "black",
         "domainWidth": 3,
         "grid": true,
         "gridColor": "#C9C9C9",
         "gridWidth": 1,
         "labelFont": "Ubuntu Condensed",
         "labelFontSize": 20,
         "labelPadding": 8,
         "tickColor": "#282828",
         "tickSize": 10,
         "title": "",
         "titleFont": "Ubuntu",
         "titleFontSize": 16,
         "titlePadding": 10
        },
        "axisLeft": {
         "domainColor": "#282828",
         "domainWidth": 1,
         "gridColor": "#C9C9C9",
         "gridWidth": 1,
         "labelFont": "Ubuntu Condensed",
         "labelFontSize": 20,
         "labelPadding": 8,
         "tickColor": "#282828",
         "tickSize": 10,
         "ticks": true,
         "titleFont": "Ubuntu",
         "titleFontSize": 22,
         "titlePadding": 10
        },
        "axisRight": {
         "domainColor": "#282828",
         "domainWidth": 1,
         "gridColor": "#C9C9C9",
         "gridWidth": 1,
         "labelFont": "Ubuntu Condensed",
         "labelFontSize": 12,
         "labelPadding": 4,
         "tickColor": "#282828",
         "tickSize": 10,
         "ticks": true,
         "titleFont": "Ubuntu",
         "titleFontSize": 14,
         "titlePadding": 10
        },
        "axisTop": {
         "domain": false,
         "domainColor": "black",
         "domainWidth": 3,
         "grid": true,
         "gridColor": "#C9C9C9",
         "gridWidth": 1,
         "labelFont": "Ubuntu Condensed",
         "labelFontSize": 12,
         "labelPadding": 4,
         "tickColor": "#282828",
         "tickSize": 10,
         "titleFont": "Ubuntu",
         "titleFontSize": 14,
         "titlePadding": 10
        },
        "background": "#FFFAFA",
        "geoshape": {
         "fill": "#C0C0C0"
        },
        "group": {
         "fill": "#FFFAFA"
        },
        "header": {
         "fontWeight": 400,
         "labelFont": "Ubuntu Condensed",
         "labelFontSize": 28,
         "title": " ",
         "titleBaseline": "bottom",
         "titleFont": "Ubuntu",
         "titleFontSize": 28,
         "titleOffset": -30
        },
        "legend": {
         "labelFont": "Ubuntu Condensed",
         "labelFontSize": 16,
         "labelLimit": 500,
         "padding": 10,
         "symbolSize": 30,
         "symbolType": "square",
         "titleFont": "Ubuntu",
         "titleFontSize": 26,
         "titlePadding": 10
        },
        "line": {
         "color": "#282828",
         "stroke": "#282828",
         "strokewidth": 5
        },
        "padding": 10,
        "path": {
         "stroke": "#282828",
         "strokeWidth": 0.5
        },
        "point": {
         "filled": true
        },
        "range": {
         "category": [
          "#dc0d7a",
          "#02a3cd",
          "#e4a100",
          "#dc0d12",
          "#0DDC6F",
          "#074a7e",
          "#e46800",
          "#aa3594",
          "#a20c4b"
         ],
         "diverging": [
          "#dc0d12",
          "#e9686b",
          "#fbe1e1",
          "#dff4f9",
          "#81d1e6",
          "#03a3cd"
         ],
         "heatmap": [
          "#fcdfef",
          "#f8bfde",
          "#f59fce",
          "#f180be",
          "#ee60ad",
          "#eb409d",
          "#e7208c",
          "#e4007c"
         ]
        },
        "rect": {
         "fill": "#A20C4B",
         "opacity": 0.3
        },
        "style": {
         "bar": {
          "binSpacing": 2,
          "fill": "#282828",
          "stroke": false
         },
         "text": {
          "align": "right",
          "dx": 300,
          "font": "Ubuntu Mono",
          "fontSize": 10,
          "fontWeight": 100,
          "href": "https://twitter.com/ChekosWH",
          "size": 10,
          "text": "Made by @ChekosWH"
         }
        },
        "symbol": {
         "opacity": 1,
         "shape": "circle",
         "size": 40,
         "strokeWidth": 1
        },
        "title": {
         "anchor": "start",
         "font": "Ubuntu",
         "fontSize": 64,
         "fontWeight": 600,
         "offset": 20
        },
        "trail": {
         "color": "#282828",
         "size": 5,
         "stroke": "#282828",
         "strokeWidth": 0
        },
        "view": {
         "padding": 15,
         "stroke": false
        }
       },
       "data": {
        "name": "data-b3dda2c99b5592d9b57932bbab063130"
       },
       "datasets": {
        "data-b3dda2c99b5592d9b57932bbab063130": [
         {
          "classification": "Humanities",
          "system": "CSU",
          "total": 14767,
          "year": 2000
         },
         {
          "classification": "STEM",
          "system": "CSU",
          "total": 6916,
          "year": 2000
         },
         {
          "classification": "Social and Behavioral Sciences",
          "system": "CSU",
          "total": 10824,
          "year": 2000
         },
         {
          "classification": "Humanities",
          "system": "Private non-profit",
          "total": 5671,
          "year": 2000
         },
         {
          "classification": "STEM",
          "system": "Private non-profit",
          "total": 3674,
          "year": 2000
         },
         {
          "classification": "Social and Behavioral Sciences",
          "system": "Private non-profit",
          "total": 5513,
          "year": 2000
         },
         {
          "classification": "Humanities",
          "system": "UC",
          "total": 5751,
          "year": 2000
         },
         {
          "classification": "STEM",
          "system": "UC",
          "total": 9098,
          "year": 2000
         },
         {
          "classification": "Social and Behavioral Sciences",
          "system": "UC",
          "total": 11554,
          "year": 2000
         },
         {
          "classification": "Humanities",
          "system": "CSU",
          "total": 15629,
          "year": 2001
         },
         {
          "classification": "STEM",
          "system": "CSU",
          "total": 6733,
          "year": 2001
         },
         {
          "classification": "Social and Behavioral Sciences",
          "system": "CSU",
          "total": 11070,
          "year": 2001
         },
         {
          "classification": "Humanities",
          "system": "Private non-profit",
          "total": 6273,
          "year": 2001
         },
         {
          "classification": "STEM",
          "system": "Private non-profit",
          "total": 3556,
          "year": 2001
         },
         {
          "classification": "Social and Behavioral Sciences",
          "system": "Private non-profit",
          "total": 5540,
          "year": 2001
         },
         {
          "classification": "Humanities",
          "system": "UC",
          "total": 6434,
          "year": 2001
         },
         {
          "classification": "STEM",
          "system": "UC",
          "total": 9546,
          "year": 2001
         },
         {
          "classification": "Social and Behavioral Sciences",
          "system": "UC",
          "total": 12410,
          "year": 2001
         },
         {
          "classification": "Humanities",
          "system": "CSU",
          "total": 17182,
          "year": 2002
         },
         {
          "classification": "STEM",
          "system": "CSU",
          "total": 7298,
          "year": 2002
         },
         {
          "classification": "Social and Behavioral Sciences",
          "system": "CSU",
          "total": 12102,
          "year": 2002
         },
         {
          "classification": "Humanities",
          "system": "Private non-profit",
          "total": 6659,
          "year": 2002
         },
         {
          "classification": "STEM",
          "system": "Private non-profit",
          "total": 3725,
          "year": 2002
         },
         {
          "classification": "Social and Behavioral Sciences",
          "system": "Private non-profit",
          "total": 5897,
          "year": 2002
         },
         {
          "classification": "Humanities",
          "system": "UC",
          "total": 6663,
          "year": 2002
         },
         {
          "classification": "STEM",
          "system": "UC",
          "total": 9717,
          "year": 2002
         },
         {
          "classification": "Social and Behavioral Sciences",
          "system": "UC",
          "total": 13213,
          "year": 2002
         },
         {
          "classification": "Humanities",
          "system": "CSU",
          "total": 18468,
          "year": 2003
         },
         {
          "classification": "STEM",
          "system": "CSU",
          "total": 7503,
          "year": 2003
         },
         {
          "classification": "Social and Behavioral Sciences",
          "system": "CSU",
          "total": 10500,
          "year": 2003
         },
         {
          "classification": "Humanities",
          "system": "Private non-profit",
          "total": 7713,
          "year": 2003
         },
         {
          "classification": "STEM",
          "system": "Private non-profit",
          "total": 3718,
          "year": 2003
         },
         {
          "classification": "Social and Behavioral Sciences",
          "system": "Private non-profit",
          "total": 5717,
          "year": 2003
         },
         {
          "classification": "Humanities",
          "system": "UC",
          "total": 8153,
          "year": 2003
         },
         {
          "classification": "STEM",
          "system": "UC",
          "total": 10322,
          "year": 2003
         },
         {
          "classification": "Social and Behavioral Sciences",
          "system": "UC",
          "total": 12209,
          "year": 2003
         },
         {
          "classification": "Humanities",
          "system": "CSU",
          "total": 19675,
          "year": 2004
         },
         {
          "classification": "STEM",
          "system": "CSU",
          "total": 7778,
          "year": 2004
         },
         {
          "classification": "Social and Behavioral Sciences",
          "system": "CSU",
          "total": 10946,
          "year": 2004
         },
         {
          "classification": "Humanities",
          "system": "Private non-profit",
          "total": 8087,
          "year": 2004
         },
         {
          "classification": "STEM",
          "system": "Private non-profit",
          "total": 3667,
          "year": 2004
         },
         {
          "classification": "Social and Behavioral Sciences",
          "system": "Private non-profit",
          "total": 5725,
          "year": 2004
         },
         {
          "classification": "Humanities",
          "system": "UC",
          "total": 8542,
          "year": 2004
         },
         {
          "classification": "STEM",
          "system": "UC",
          "total": 10699,
          "year": 2004
         },
         {
          "classification": "Social and Behavioral Sciences",
          "system": "UC",
          "total": 12860,
          "year": 2004
         },
         {
          "classification": "Humanities",
          "system": "CSU",
          "total": 20265,
          "year": 2005
         },
         {
          "classification": "STEM",
          "system": "CSU",
          "total": 7722,
          "year": 2005
         },
         {
          "classification": "Social and Behavioral Sciences",
          "system": "CSU",
          "total": 11397,
          "year": 2005
         },
         {
          "classification": "Humanities",
          "system": "Private non-profit",
          "total": 8384,
          "year": 2005
         },
         {
          "classification": "STEM",
          "system": "Private non-profit",
          "total": 3552,
          "year": 2005
         },
         {
          "classification": "Social and Behavioral Sciences",
          "system": "Private non-profit",
          "total": 5978,
          "year": 2005
         },
         {
          "classification": "Humanities",
          "system": "UC",
          "total": 8689,
          "year": 2005
         },
         {
          "classification": "STEM",
          "system": "UC",
          "total": 11638,
          "year": 2005
         },
         {
          "classification": "Social and Behavioral Sciences",
          "system": "UC",
          "total": 13867,
          "year": 2005
         },
         {
          "classification": "Humanities",
          "system": "CSU",
          "total": 20375,
          "year": 2006
         },
         {
          "classification": "STEM",
          "system": "CSU",
          "total": 8178,
          "year": 2006
         },
         {
          "classification": "Social and Behavioral Sciences",
          "system": "CSU",
          "total": 12219,
          "year": 2006
         },
         {
          "classification": "Humanities",
          "system": "Private non-profit",
          "total": 8525,
          "year": 2006
         },
         {
          "classification": "STEM",
          "system": "Private non-profit",
          "total": 3522,
          "year": 2006
         },
         {
          "classification": "Social and Behavioral Sciences",
          "system": "Private non-profit",
          "total": 6221,
          "year": 2006
         },
         {
          "classification": "Humanities",
          "system": "UC",
          "total": 8916,
          "year": 2006
         },
         {
          "classification": "STEM",
          "system": "UC",
          "total": 11790,
          "year": 2006
         },
         {
          "classification": "Social and Behavioral Sciences",
          "system": "UC",
          "total": 14368,
          "year": 2006
         },
         {
          "classification": "Humanities",
          "system": "CSU",
          "total": 20332,
          "year": 2007
         },
         {
          "classification": "STEM",
          "system": "CSU",
          "total": 8035,
          "year": 2007
         },
         {
          "classification": "Social and Behavioral Sciences",
          "system": "CSU",
          "total": 13006,
          "year": 2007
         },
         {
          "classification": "Humanities",
          "system": "Private non-profit",
          "total": 8351,
          "year": 2007
         },
         {
          "classification": "STEM",
          "system": "Private non-profit",
          "total": 3486,
          "year": 2007
         },
         {
          "classification": "Social and Behavioral Sciences",
          "system": "Private non-profit",
          "total": 6122,
          "year": 2007
         },
         {
          "classification": "Humanities",
          "system": "UC",
          "total": 8802,
          "year": 2007
         },
         {
          "classification": "STEM",
          "system": "UC",
          "total": 12022,
          "year": 2007
         },
         {
          "classification": "Social and Behavioral Sciences",
          "system": "UC",
          "total": 14184,
          "year": 2007
         },
         {
          "classification": "Humanities",
          "system": "CSU",
          "total": 20210,
          "year": 2008
         },
         {
          "classification": "STEM",
          "system": "CSU",
          "total": 8355,
          "year": 2008
         },
         {
          "classification": "Social and Behavioral Sciences",
          "system": "CSU",
          "total": 13669,
          "year": 2008
         },
         {
          "classification": "Humanities",
          "system": "Private non-profit",
          "total": 8392,
          "year": 2008
         },
         {
          "classification": "STEM",
          "system": "Private non-profit",
          "total": 3517,
          "year": 2008
         },
         {
          "classification": "Social and Behavioral Sciences",
          "system": "Private non-profit",
          "total": 6185,
          "year": 2008
         },
         {
          "classification": "Humanities",
          "system": "UC",
          "total": 9072,
          "year": 2008
         },
         {
          "classification": "STEM",
          "system": "UC",
          "total": 12149,
          "year": 2008
         },
         {
          "classification": "Social and Behavioral Sciences",
          "system": "UC",
          "total": 14208,
          "year": 2008
         },
         {
          "classification": "Humanities",
          "system": "CSU",
          "total": 19763,
          "year": 2009
         },
         {
          "classification": "STEM",
          "system": "CSU",
          "total": 8160,
          "year": 2009
         },
         {
          "classification": "Social and Behavioral Sciences",
          "system": "CSU",
          "total": 13947,
          "year": 2009
         },
         {
          "classification": "Humanities",
          "system": "Private non-profit",
          "total": 8305,
          "year": 2009
         },
         {
          "classification": "STEM",
          "system": "Private non-profit",
          "total": 3512,
          "year": 2009
         },
         {
          "classification": "Social and Behavioral Sciences",
          "system": "Private non-profit",
          "total": 5869,
          "year": 2009
         },
         {
          "classification": "Humanities",
          "system": "UC",
          "total": 8771,
          "year": 2009
         },
         {
          "classification": "STEM",
          "system": "UC",
          "total": 12461,
          "year": 2009
         },
         {
          "classification": "Social and Behavioral Sciences",
          "system": "UC",
          "total": 14081,
          "year": 2009
         },
         {
          "classification": "Humanities",
          "system": "CSU",
          "total": 19740,
          "year": 2010
         },
         {
          "classification": "STEM",
          "system": "CSU",
          "total": 8296,
          "year": 2010
         },
         {
          "classification": "Social and Behavioral Sciences",
          "system": "CSU",
          "total": 13954,
          "year": 2010
         },
         {
          "classification": "Humanities",
          "system": "Private non-profit",
          "total": 8377,
          "year": 2010
         },
         {
          "classification": "STEM",
          "system": "Private non-profit",
          "total": 3635,
          "year": 2010
         },
         {
          "classification": "Social and Behavioral Sciences",
          "system": "Private non-profit",
          "total": 5898,
          "year": 2010
         },
         {
          "classification": "Humanities",
          "system": "UC",
          "total": 9083,
          "year": 2010
         },
         {
          "classification": "STEM",
          "system": "UC",
          "total": 13130,
          "year": 2010
         },
         {
          "classification": "Social and Behavioral Sciences",
          "system": "UC",
          "total": 14733,
          "year": 2010
         },
         {
          "classification": "Humanities",
          "system": "CSU",
          "total": 19957,
          "year": 2011
         },
         {
          "classification": "STEM",
          "system": "CSU",
          "total": 8323,
          "year": 2011
         },
         {
          "classification": "Social and Behavioral Sciences",
          "system": "CSU",
          "total": 14509,
          "year": 2011
         },
         {
          "classification": "Humanities",
          "system": "Private non-profit",
          "total": 8448,
          "year": 2011
         },
         {
          "classification": "STEM",
          "system": "Private non-profit",
          "total": 3751,
          "year": 2011
         },
         {
          "classification": "Social and Behavioral Sciences",
          "system": "Private non-profit",
          "total": 6278,
          "year": 2011
         },
         {
          "classification": "Humanities",
          "system": "UC",
          "total": 9017,
          "year": 2011
         },
         {
          "classification": "STEM",
          "system": "UC",
          "total": 14082,
          "year": 2011
         },
         {
          "classification": "Social and Behavioral Sciences",
          "system": "UC",
          "total": 15463,
          "year": 2011
         },
         {
          "classification": "Humanities",
          "system": "CSU",
          "total": 19253,
          "year": 2012
         },
         {
          "classification": "STEM",
          "system": "CSU",
          "total": 9001,
          "year": 2012
         },
         {
          "classification": "Social and Behavioral Sciences",
          "system": "CSU",
          "total": 14306,
          "year": 2012
         },
         {
          "classification": "Humanities",
          "system": "Private non-profit",
          "total": 8469,
          "year": 2012
         },
         {
          "classification": "STEM",
          "system": "Private non-profit",
          "total": 4106,
          "year": 2012
         },
         {
          "classification": "Social and Behavioral Sciences",
          "system": "Private non-profit",
          "total": 7002,
          "year": 2012
         },
         {
          "classification": "Humanities",
          "system": "UC",
          "total": 9342,
          "year": 2012
         },
         {
          "classification": "STEM",
          "system": "UC",
          "total": 14991,
          "year": 2012
         },
         {
          "classification": "Social and Behavioral Sciences",
          "system": "UC",
          "total": 16050,
          "year": 2012
         },
         {
          "classification": "Humanities",
          "system": "CSU",
          "total": 19963,
          "year": 2013
         },
         {
          "classification": "STEM",
          "system": "CSU",
          "total": 10049,
          "year": 2013
         },
         {
          "classification": "Social and Behavioral Sciences",
          "system": "CSU",
          "total": 15860,
          "year": 2013
         },
         {
          "classification": "Humanities",
          "system": "Private non-profit",
          "total": 8806,
          "year": 2013
         },
         {
          "classification": "STEM",
          "system": "Private non-profit",
          "total": 4430,
          "year": 2013
         },
         {
          "classification": "Social and Behavioral Sciences",
          "system": "Private non-profit",
          "total": 6910,
          "year": 2013
         },
         {
          "classification": "Humanities",
          "system": "UC",
          "total": 8987,
          "year": 2013
         },
         {
          "classification": "STEM",
          "system": "UC",
          "total": 15471,
          "year": 2013
         },
         {
          "classification": "Social and Behavioral Sciences",
          "system": "UC",
          "total": 16235,
          "year": 2013
         },
         {
          "classification": "Humanities",
          "system": "CSU",
          "total": 19788,
          "year": 2014
         },
         {
          "classification": "STEM",
          "system": "CSU",
          "total": 11097,
          "year": 2014
         },
         {
          "classification": "Social and Behavioral Sciences",
          "system": "CSU",
          "total": 16854,
          "year": 2014
         },
         {
          "classification": "Humanities",
          "system": "Private non-profit",
          "total": 8902,
          "year": 2014
         },
         {
          "classification": "STEM",
          "system": "Private non-profit",
          "total": 4974,
          "year": 2014
         },
         {
          "classification": "Social and Behavioral Sciences",
          "system": "Private non-profit",
          "total": 6962,
          "year": 2014
         },
         {
          "classification": "Humanities",
          "system": "UC",
          "total": 8130,
          "year": 2014
         },
         {
          "classification": "STEM",
          "system": "UC",
          "total": 16040,
          "year": 2014
         },
         {
          "classification": "Social and Behavioral Sciences",
          "system": "UC",
          "total": 15499,
          "year": 2014
         },
         {
          "classification": "Humanities",
          "system": "CSU",
          "total": 19033,
          "year": 2015
         },
         {
          "classification": "STEM",
          "system": "CSU",
          "total": 12016,
          "year": 2015
         },
         {
          "classification": "Social and Behavioral Sciences",
          "system": "CSU",
          "total": 16843,
          "year": 2015
         },
         {
          "classification": "Humanities",
          "system": "Private non-profit",
          "total": 8746,
          "year": 2015
         },
         {
          "classification": "STEM",
          "system": "Private non-profit",
          "total": 5052,
          "year": 2015
         },
         {
          "classification": "Social and Behavioral Sciences",
          "system": "Private non-profit",
          "total": 7032,
          "year": 2015
         },
         {
          "classification": "Humanities",
          "system": "UC",
          "total": 7770,
          "year": 2015
         },
         {
          "classification": "STEM",
          "system": "UC",
          "total": 16867,
          "year": 2015
         },
         {
          "classification": "Social and Behavioral Sciences",
          "system": "UC",
          "total": 15760,
          "year": 2015
         },
         {
          "classification": "Humanities",
          "system": "CSU",
          "total": 19147,
          "year": 2016
         },
         {
          "classification": "STEM",
          "system": "CSU",
          "total": 13160,
          "year": 2016
         },
         {
          "classification": "Social and Behavioral Sciences",
          "system": "CSU",
          "total": 17781,
          "year": 2016
         },
         {
          "classification": "Humanities",
          "system": "Private non-profit",
          "total": 8094,
          "year": 2016
         },
         {
          "classification": "STEM",
          "system": "Private non-profit",
          "total": 5622,
          "year": 2016
         },
         {
          "classification": "Social and Behavioral Sciences",
          "system": "Private non-profit",
          "total": 6718,
          "year": 2016
         },
         {
          "classification": "Humanities",
          "system": "UC",
          "total": 7486,
          "year": 2016
         },
         {
          "classification": "STEM",
          "system": "UC",
          "total": 18119,
          "year": 2016
         },
         {
          "classification": "Social and Behavioral Sciences",
          "system": "UC",
          "total": 15740,
          "year": 2016
         }
        ]
       },
       "facet": {
        "column": {
         "field": "system",
         "sort": "descending",
         "title": "System",
         "type": "nominal"
        }
       },
       "height": 800,
       "spec": {
        "encoding": {
         "color": {
          "field": "classification",
          "sort": [
           "STEM",
           "Social and Behavioral Sciences",
           "Humanities"
          ],
          "type": "nominal"
         },
         "order": {
          "field": "classification",
          "type": "nominal"
         },
         "x": {
          "axis": {
           "format": "%Y"
          },
          "field": "year",
          "type": "ordinal"
         },
         "y": {
          "axis": {
           "title": ""
          },
          "field": "total",
          "type": "quantitative"
         }
        },
        "height": 200,
        "mark": "line",
        "width": 208
       },
       "width": 1080
      },
      "image/png": "[encoded data removed]",
      "text/plain": [
       "<VegaLite 2 object>\n",
       "\n",
       "If you see this message, it means the renderer has not been properly enabled\n",
       "for the frontend that you are using. For more information, see\n",
       "https://altair-viz.github.io/user_guide/troubleshooting.html\n"
      ]
     },
     "execution_count": 11,
     "metadata": {},
     "output_type": "execute_result"
    }
   ],
   "source": [
    "lower"
   ]
  },
  {
   "cell_type": "code",
   "execution_count": 12,
   "metadata": {},
   "outputs": [],
   "source": [
    "source = \"SOURCE: IPEDS 2000-2016.\"\n",
    "      \n",
    "source_chart = alt.Chart(dff).mark_text(text = source, dx = 324, size = 20, dy = 20).properties(\n",
    "    height = 50,\n",
    "    width = 650,\n",
    ")"
   ]
  },
  {
   "cell_type": "code",
   "execution_count": 13,
   "metadata": {},
   "outputs": [],
   "source": [
    "final = alt.vconcat(statewide, lower, source_chart)"
   ]
  },
  {
   "cell_type": "code",
   "execution_count": 14,
   "metadata": {},
   "outputs": [
    {
     "data": {
      "application/vnd.vegalite.v2+json": {
       "$schema": "https://vega.github.io/schema/vega-lite/v2.6.0.json",
       "autosize": "fit",
       "config": {
        "arc": {
         "fill": "#282828"
        },
        "area": {
         "fill": "#282828"
        },
        "axisBand": {
         "grid": false
        },
        "axisBottom": {
         "domain": false,
         "domainColor": "black",
         "domainWidth": 3,
         "grid": true,
         "gridColor": "#C9C9C9",
         "gridWidth": 1,
         "labelFont": "Ubuntu Condensed",
         "labelFontSize": 20,
         "labelPadding": 8,
         "tickColor": "#282828",
         "tickSize": 10,
         "title": "",
         "titleFont": "Ubuntu",
         "titleFontSize": 16,
         "titlePadding": 10
        },
        "axisLeft": {
         "domainColor": "#282828",
         "domainWidth": 1,
         "gridColor": "#C9C9C9",
         "gridWidth": 1,
         "labelFont": "Ubuntu Condensed",
         "labelFontSize": 20,
         "labelPadding": 8,
         "tickColor": "#282828",
         "tickSize": 10,
         "ticks": true,
         "titleFont": "Ubuntu",
         "titleFontSize": 22,
         "titlePadding": 10
        },
        "axisRight": {
         "domainColor": "#282828",
         "domainWidth": 1,
         "gridColor": "#C9C9C9",
         "gridWidth": 1,
         "labelFont": "Ubuntu Condensed",
         "labelFontSize": 12,
         "labelPadding": 4,
         "tickColor": "#282828",
         "tickSize": 10,
         "ticks": true,
         "titleFont": "Ubuntu",
         "titleFontSize": 14,
         "titlePadding": 10
        },
        "axisTop": {
         "domain": false,
         "domainColor": "black",
         "domainWidth": 3,
         "grid": true,
         "gridColor": "#C9C9C9",
         "gridWidth": 1,
         "labelFont": "Ubuntu Condensed",
         "labelFontSize": 12,
         "labelPadding": 4,
         "tickColor": "#282828",
         "tickSize": 10,
         "titleFont": "Ubuntu",
         "titleFontSize": 14,
         "titlePadding": 10
        },
        "background": "#FFFAFA",
        "geoshape": {
         "fill": "#C0C0C0"
        },
        "group": {
         "fill": "#FFFAFA"
        },
        "header": {
         "fontWeight": 400,
         "labelFont": "Ubuntu Condensed",
         "labelFontSize": 28,
         "title": " ",
         "titleBaseline": "bottom",
         "titleFont": "Ubuntu",
         "titleFontSize": 28,
         "titleOffset": -30
        },
        "legend": {
         "labelFont": "Ubuntu Condensed",
         "labelFontSize": 16,
         "labelLimit": 200,
         "padding": 10,
         "symbolSize": 200,
         "symbolType": "square",
         "titleFont": "Ubuntu",
         "titleFontSize": 26,
         "titlePadding": 10
        },
        "line": {
         "color": "#282828",
         "stroke": "#282828",
         "strokewidth": 5
        },
        "padding": 10,
        "path": {
         "stroke": "#282828",
         "strokeWidth": 0.5
        },
        "point": {
         "filled": true
        },
        "range": {
         "category": [
          "#dc0d7a",
          "#02a3cd",
          "#e4a100",
          "#dc0d12",
          "#0DDC6F",
          "#074a7e",
          "#e46800",
          "#aa3594",
          "#a20c4b"
         ],
         "diverging": [
          "#dc0d12",
          "#e9686b",
          "#fbe1e1",
          "#dff4f9",
          "#81d1e6",
          "#03a3cd"
         ],
         "heatmap": [
          "#fcdfef",
          "#f8bfde",
          "#f59fce",
          "#f180be",
          "#ee60ad",
          "#eb409d",
          "#e7208c",
          "#e4007c"
         ]
        },
        "rect": {
         "fill": "#A20C4B",
         "opacity": 0.3
        },
        "style": {
         "bar": {
          "binSpacing": 2,
          "fill": "#282828",
          "stroke": false
         },
         "text": {
          "align": "right",
          "dx": 300,
          "font": "Ubuntu Mono",
          "fontSize": 10,
          "fontWeight": 100,
          "href": "https://twitter.com/ChekosWH",
          "size": 10,
          "text": "Made by @ChekosWH"
         }
        },
        "symbol": {
         "opacity": 1,
         "shape": "circle",
         "size": 40,
         "strokeWidth": 1
        },
        "title": {
         "anchor": "start",
         "font": "Ubuntu",
         "fontSize": 64,
         "fontWeight": 600,
         "offset": 20
        },
        "trail": {
         "color": "#282828",
         "size": 5,
         "stroke": "#282828",
         "strokeWidth": 0
        },
        "view": {
         "padding": 15,
         "stroke": false
        }
       },
       "datasets": {
        "data-2a12875d5093b6d645d8907ad62ee51d": [
         {
          "classification": "STEM",
          "total": 19688,
          "year": 2000
         },
         {
          "classification": "Social and Behavioral Sciences",
          "total": 27891,
          "year": 2000
         },
         {
          "classification": "Humanities",
          "total": 26189,
          "year": 2000
         },
         {
          "classification": "STEM",
          "total": 19835,
          "year": 2001
         },
         {
          "classification": "Social and Behavioral Sciences",
          "total": 29020,
          "year": 2001
         },
         {
          "classification": "Humanities",
          "total": 28336,
          "year": 2001
         },
         {
          "classification": "STEM",
          "total": 20740,
          "year": 2002
         },
         {
          "classification": "Social and Behavioral Sciences",
          "total": 31212,
          "year": 2002
         },
         {
          "classification": "Humanities",
          "total": 30504,
          "year": 2002
         },
         {
          "classification": "STEM",
          "total": 21543,
          "year": 2003
         },
         {
          "classification": "Social and Behavioral Sciences",
          "total": 28426,
          "year": 2003
         },
         {
          "classification": "Humanities",
          "total": 34334,
          "year": 2003
         },
         {
          "classification": "STEM",
          "total": 22144,
          "year": 2004
         },
         {
          "classification": "Social and Behavioral Sciences",
          "total": 29531,
          "year": 2004
         },
         {
          "classification": "Humanities",
          "total": 36304,
          "year": 2004
         },
         {
          "classification": "STEM",
          "total": 22912,
          "year": 2005
         },
         {
          "classification": "Social and Behavioral Sciences",
          "total": 31242,
          "year": 2005
         },
         {
          "classification": "Humanities",
          "total": 37338,
          "year": 2005
         },
         {
          "classification": "STEM",
          "total": 23490,
          "year": 2006
         },
         {
          "classification": "Social and Behavioral Sciences",
          "total": 32808,
          "year": 2006
         },
         {
          "classification": "Humanities",
          "total": 37816,
          "year": 2006
         },
         {
          "classification": "STEM",
          "total": 23543,
          "year": 2007
         },
         {
          "classification": "Social and Behavioral Sciences",
          "total": 33312,
          "year": 2007
         },
         {
          "classification": "Humanities",
          "total": 37485,
          "year": 2007
         },
         {
          "classification": "STEM",
          "total": 24021,
          "year": 2008
         },
         {
          "classification": "Social and Behavioral Sciences",
          "total": 34062,
          "year": 2008
         },
         {
          "classification": "Humanities",
          "total": 37674,
          "year": 2008
         },
         {
          "classification": "STEM",
          "total": 24133,
          "year": 2009
         },
         {
          "classification": "Social and Behavioral Sciences",
          "total": 33897,
          "year": 2009
         },
         {
          "classification": "Humanities",
          "total": 36839,
          "year": 2009
         },
         {
          "classification": "STEM",
          "total": 25061,
          "year": 2010
         },
         {
          "classification": "Social and Behavioral Sciences",
          "total": 34585,
          "year": 2010
         },
         {
          "classification": "Humanities",
          "total": 37200,
          "year": 2010
         },
         {
          "classification": "STEM",
          "total": 26156,
          "year": 2011
         },
         {
          "classification": "Social and Behavioral Sciences",
          "total": 36250,
          "year": 2011
         },
         {
          "classification": "Humanities",
          "total": 37422,
          "year": 2011
         },
         {
          "classification": "STEM",
          "total": 28098,
          "year": 2012
         },
         {
          "classification": "Social and Behavioral Sciences",
          "total": 37358,
          "year": 2012
         },
         {
          "classification": "Humanities",
          "total": 37064,
          "year": 2012
         },
         {
          "classification": "STEM",
          "total": 29950,
          "year": 2013
         },
         {
          "classification": "Social and Behavioral Sciences",
          "total": 39005,
          "year": 2013
         },
         {
          "classification": "Humanities",
          "total": 37756,
          "year": 2013
         },
         {
          "classification": "STEM",
          "total": 32111,
          "year": 2014
         },
         {
          "classification": "Social and Behavioral Sciences",
          "total": 39315,
          "year": 2014
         },
         {
          "classification": "Humanities",
          "total": 36820,
          "year": 2014
         },
         {
          "classification": "STEM",
          "total": 33935,
          "year": 2015
         },
         {
          "classification": "Social and Behavioral Sciences",
          "total": 39635,
          "year": 2015
         },
         {
          "classification": "Humanities",
          "total": 35549,
          "year": 2015
         },
         {
          "classification": "STEM",
          "total": 36901,
          "year": 2016
         },
         {
          "classification": "Social and Behavioral Sciences",
          "total": 40239,
          "year": 2016
         },
         {
          "classification": "Humanities",
          "total": 34727,
          "year": 2016
         }
        ],
        "data-b3dda2c99b5592d9b57932bbab063130": [
         {
          "classification": "Humanities",
          "system": "CSU",
          "total": 14767,
          "year": 2000
         },
         {
          "classification": "STEM",
          "system": "CSU",
          "total": 6916,
          "year": 2000
         },
         {
          "classification": "Social and Behavioral Sciences",
          "system": "CSU",
          "total": 10824,
          "year": 2000
         },
         {
          "classification": "Humanities",
          "system": "Private non-profit",
          "total": 5671,
          "year": 2000
         },
         {
          "classification": "STEM",
          "system": "Private non-profit",
          "total": 3674,
          "year": 2000
         },
         {
          "classification": "Social and Behavioral Sciences",
          "system": "Private non-profit",
          "total": 5513,
          "year": 2000
         },
         {
          "classification": "Humanities",
          "system": "UC",
          "total": 5751,
          "year": 2000
         },
         {
          "classification": "STEM",
          "system": "UC",
          "total": 9098,
          "year": 2000
         },
         {
          "classification": "Social and Behavioral Sciences",
          "system": "UC",
          "total": 11554,
          "year": 2000
         },
         {
          "classification": "Humanities",
          "system": "CSU",
          "total": 15629,
          "year": 2001
         },
         {
          "classification": "STEM",
          "system": "CSU",
          "total": 6733,
          "year": 2001
         },
         {
          "classification": "Social and Behavioral Sciences",
          "system": "CSU",
          "total": 11070,
          "year": 2001
         },
         {
          "classification": "Humanities",
          "system": "Private non-profit",
          "total": 6273,
          "year": 2001
         },
         {
          "classification": "STEM",
          "system": "Private non-profit",
          "total": 3556,
          "year": 2001
         },
         {
          "classification": "Social and Behavioral Sciences",
          "system": "Private non-profit",
          "total": 5540,
          "year": 2001
         },
         {
          "classification": "Humanities",
          "system": "UC",
          "total": 6434,
          "year": 2001
         },
         {
          "classification": "STEM",
          "system": "UC",
          "total": 9546,
          "year": 2001
         },
         {
          "classification": "Social and Behavioral Sciences",
          "system": "UC",
          "total": 12410,
          "year": 2001
         },
         {
          "classification": "Humanities",
          "system": "CSU",
          "total": 17182,
          "year": 2002
         },
         {
          "classification": "STEM",
          "system": "CSU",
          "total": 7298,
          "year": 2002
         },
         {
          "classification": "Social and Behavioral Sciences",
          "system": "CSU",
          "total": 12102,
          "year": 2002
         },
         {
          "classification": "Humanities",
          "system": "Private non-profit",
          "total": 6659,
          "year": 2002
         },
         {
          "classification": "STEM",
          "system": "Private non-profit",
          "total": 3725,
          "year": 2002
         },
         {
          "classification": "Social and Behavioral Sciences",
          "system": "Private non-profit",
          "total": 5897,
          "year": 2002
         },
         {
          "classification": "Humanities",
          "system": "UC",
          "total": 6663,
          "year": 2002
         },
         {
          "classification": "STEM",
          "system": "UC",
          "total": 9717,
          "year": 2002
         },
         {
          "classification": "Social and Behavioral Sciences",
          "system": "UC",
          "total": 13213,
          "year": 2002
         },
         {
          "classification": "Humanities",
          "system": "CSU",
          "total": 18468,
          "year": 2003
         },
         {
          "classification": "STEM",
          "system": "CSU",
          "total": 7503,
          "year": 2003
         },
         {
          "classification": "Social and Behavioral Sciences",
          "system": "CSU",
          "total": 10500,
          "year": 2003
         },
         {
          "classification": "Humanities",
          "system": "Private non-profit",
          "total": 7713,
          "year": 2003
         },
         {
          "classification": "STEM",
          "system": "Private non-profit",
          "total": 3718,
          "year": 2003
         },
         {
          "classification": "Social and Behavioral Sciences",
          "system": "Private non-profit",
          "total": 5717,
          "year": 2003
         },
         {
          "classification": "Humanities",
          "system": "UC",
          "total": 8153,
          "year": 2003
         },
         {
          "classification": "STEM",
          "system": "UC",
          "total": 10322,
          "year": 2003
         },
         {
          "classification": "Social and Behavioral Sciences",
          "system": "UC",
          "total": 12209,
          "year": 2003
         },
         {
          "classification": "Humanities",
          "system": "CSU",
          "total": 19675,
          "year": 2004
         },
         {
          "classification": "STEM",
          "system": "CSU",
          "total": 7778,
          "year": 2004
         },
         {
          "classification": "Social and Behavioral Sciences",
          "system": "CSU",
          "total": 10946,
          "year": 2004
         },
         {
          "classification": "Humanities",
          "system": "Private non-profit",
          "total": 8087,
          "year": 2004
         },
         {
          "classification": "STEM",
          "system": "Private non-profit",
          "total": 3667,
          "year": 2004
         },
         {
          "classification": "Social and Behavioral Sciences",
          "system": "Private non-profit",
          "total": 5725,
          "year": 2004
         },
         {
          "classification": "Humanities",
          "system": "UC",
          "total": 8542,
          "year": 2004
         },
         {
          "classification": "STEM",
          "system": "UC",
          "total": 10699,
          "year": 2004
         },
         {
          "classification": "Social and Behavioral Sciences",
          "system": "UC",
          "total": 12860,
          "year": 2004
         },
         {
          "classification": "Humanities",
          "system": "CSU",
          "total": 20265,
          "year": 2005
         },
         {
          "classification": "STEM",
          "system": "CSU",
          "total": 7722,
          "year": 2005
         },
         {
          "classification": "Social and Behavioral Sciences",
          "system": "CSU",
          "total": 11397,
          "year": 2005
         },
         {
          "classification": "Humanities",
          "system": "Private non-profit",
          "total": 8384,
          "year": 2005
         },
         {
          "classification": "STEM",
          "system": "Private non-profit",
          "total": 3552,
          "year": 2005
         },
         {
          "classification": "Social and Behavioral Sciences",
          "system": "Private non-profit",
          "total": 5978,
          "year": 2005
         },
         {
          "classification": "Humanities",
          "system": "UC",
          "total": 8689,
          "year": 2005
         },
         {
          "classification": "STEM",
          "system": "UC",
          "total": 11638,
          "year": 2005
         },
         {
          "classification": "Social and Behavioral Sciences",
          "system": "UC",
          "total": 13867,
          "year": 2005
         },
         {
          "classification": "Humanities",
          "system": "CSU",
          "total": 20375,
          "year": 2006
         },
         {
          "classification": "STEM",
          "system": "CSU",
          "total": 8178,
          "year": 2006
         },
         {
          "classification": "Social and Behavioral Sciences",
          "system": "CSU",
          "total": 12219,
          "year": 2006
         },
         {
          "classification": "Humanities",
          "system": "Private non-profit",
          "total": 8525,
          "year": 2006
         },
         {
          "classification": "STEM",
          "system": "Private non-profit",
          "total": 3522,
          "year": 2006
         },
         {
          "classification": "Social and Behavioral Sciences",
          "system": "Private non-profit",
          "total": 6221,
          "year": 2006
         },
         {
          "classification": "Humanities",
          "system": "UC",
          "total": 8916,
          "year": 2006
         },
         {
          "classification": "STEM",
          "system": "UC",
          "total": 11790,
          "year": 2006
         },
         {
          "classification": "Social and Behavioral Sciences",
          "system": "UC",
          "total": 14368,
          "year": 2006
         },
         {
          "classification": "Humanities",
          "system": "CSU",
          "total": 20332,
          "year": 2007
         },
         {
          "classification": "STEM",
          "system": "CSU",
          "total": 8035,
          "year": 2007
         },
         {
          "classification": "Social and Behavioral Sciences",
          "system": "CSU",
          "total": 13006,
          "year": 2007
         },
         {
          "classification": "Humanities",
          "system": "Private non-profit",
          "total": 8351,
          "year": 2007
         },
         {
          "classification": "STEM",
          "system": "Private non-profit",
          "total": 3486,
          "year": 2007
         },
         {
          "classification": "Social and Behavioral Sciences",
          "system": "Private non-profit",
          "total": 6122,
          "year": 2007
         },
         {
          "classification": "Humanities",
          "system": "UC",
          "total": 8802,
          "year": 2007
         },
         {
          "classification": "STEM",
          "system": "UC",
          "total": 12022,
          "year": 2007
         },
         {
          "classification": "Social and Behavioral Sciences",
          "system": "UC",
          "total": 14184,
          "year": 2007
         },
         {
          "classification": "Humanities",
          "system": "CSU",
          "total": 20210,
          "year": 2008
         },
         {
          "classification": "STEM",
          "system": "CSU",
          "total": 8355,
          "year": 2008
         },
         {
          "classification": "Social and Behavioral Sciences",
          "system": "CSU",
          "total": 13669,
          "year": 2008
         },
         {
          "classification": "Humanities",
          "system": "Private non-profit",
          "total": 8392,
          "year": 2008
         },
         {
          "classification": "STEM",
          "system": "Private non-profit",
          "total": 3517,
          "year": 2008
         },
         {
          "classification": "Social and Behavioral Sciences",
          "system": "Private non-profit",
          "total": 6185,
          "year": 2008
         },
         {
          "classification": "Humanities",
          "system": "UC",
          "total": 9072,
          "year": 2008
         },
         {
          "classification": "STEM",
          "system": "UC",
          "total": 12149,
          "year": 2008
         },
         {
          "classification": "Social and Behavioral Sciences",
          "system": "UC",
          "total": 14208,
          "year": 2008
         },
         {
          "classification": "Humanities",
          "system": "CSU",
          "total": 19763,
          "year": 2009
         },
         {
          "classification": "STEM",
          "system": "CSU",
          "total": 8160,
          "year": 2009
         },
         {
          "classification": "Social and Behavioral Sciences",
          "system": "CSU",
          "total": 13947,
          "year": 2009
         },
         {
          "classification": "Humanities",
          "system": "Private non-profit",
          "total": 8305,
          "year": 2009
         },
         {
          "classification": "STEM",
          "system": "Private non-profit",
          "total": 3512,
          "year": 2009
         },
         {
          "classification": "Social and Behavioral Sciences",
          "system": "Private non-profit",
          "total": 5869,
          "year": 2009
         },
         {
          "classification": "Humanities",
          "system": "UC",
          "total": 8771,
          "year": 2009
         },
         {
          "classification": "STEM",
          "system": "UC",
          "total": 12461,
          "year": 2009
         },
         {
          "classification": "Social and Behavioral Sciences",
          "system": "UC",
          "total": 14081,
          "year": 2009
         },
         {
          "classification": "Humanities",
          "system": "CSU",
          "total": 19740,
          "year": 2010
         },
         {
          "classification": "STEM",
          "system": "CSU",
          "total": 8296,
          "year": 2010
         },
         {
          "classification": "Social and Behavioral Sciences",
          "system": "CSU",
          "total": 13954,
          "year": 2010
         },
         {
          "classification": "Humanities",
          "system": "Private non-profit",
          "total": 8377,
          "year": 2010
         },
         {
          "classification": "STEM",
          "system": "Private non-profit",
          "total": 3635,
          "year": 2010
         },
         {
          "classification": "Social and Behavioral Sciences",
          "system": "Private non-profit",
          "total": 5898,
          "year": 2010
         },
         {
          "classification": "Humanities",
          "system": "UC",
          "total": 9083,
          "year": 2010
         },
         {
          "classification": "STEM",
          "system": "UC",
          "total": 13130,
          "year": 2010
         },
         {
          "classification": "Social and Behavioral Sciences",
          "system": "UC",
          "total": 14733,
          "year": 2010
         },
         {
          "classification": "Humanities",
          "system": "CSU",
          "total": 19957,
          "year": 2011
         },
         {
          "classification": "STEM",
          "system": "CSU",
          "total": 8323,
          "year": 2011
         },
         {
          "classification": "Social and Behavioral Sciences",
          "system": "CSU",
          "total": 14509,
          "year": 2011
         },
         {
          "classification": "Humanities",
          "system": "Private non-profit",
          "total": 8448,
          "year": 2011
         },
         {
          "classification": "STEM",
          "system": "Private non-profit",
          "total": 3751,
          "year": 2011
         },
         {
          "classification": "Social and Behavioral Sciences",
          "system": "Private non-profit",
          "total": 6278,
          "year": 2011
         },
         {
          "classification": "Humanities",
          "system": "UC",
          "total": 9017,
          "year": 2011
         },
         {
          "classification": "STEM",
          "system": "UC",
          "total": 14082,
          "year": 2011
         },
         {
          "classification": "Social and Behavioral Sciences",
          "system": "UC",
          "total": 15463,
          "year": 2011
         },
         {
          "classification": "Humanities",
          "system": "CSU",
          "total": 19253,
          "year": 2012
         },
         {
          "classification": "STEM",
          "system": "CSU",
          "total": 9001,
          "year": 2012
         },
         {
          "classification": "Social and Behavioral Sciences",
          "system": "CSU",
          "total": 14306,
          "year": 2012
         },
         {
          "classification": "Humanities",
          "system": "Private non-profit",
          "total": 8469,
          "year": 2012
         },
         {
          "classification": "STEM",
          "system": "Private non-profit",
          "total": 4106,
          "year": 2012
         },
         {
          "classification": "Social and Behavioral Sciences",
          "system": "Private non-profit",
          "total": 7002,
          "year": 2012
         },
         {
          "classification": "Humanities",
          "system": "UC",
          "total": 9342,
          "year": 2012
         },
         {
          "classification": "STEM",
          "system": "UC",
          "total": 14991,
          "year": 2012
         },
         {
          "classification": "Social and Behavioral Sciences",
          "system": "UC",
          "total": 16050,
          "year": 2012
         },
         {
          "classification": "Humanities",
          "system": "CSU",
          "total": 19963,
          "year": 2013
         },
         {
          "classification": "STEM",
          "system": "CSU",
          "total": 10049,
          "year": 2013
         },
         {
          "classification": "Social and Behavioral Sciences",
          "system": "CSU",
          "total": 15860,
          "year": 2013
         },
         {
          "classification": "Humanities",
          "system": "Private non-profit",
          "total": 8806,
          "year": 2013
         },
         {
          "classification": "STEM",
          "system": "Private non-profit",
          "total": 4430,
          "year": 2013
         },
         {
          "classification": "Social and Behavioral Sciences",
          "system": "Private non-profit",
          "total": 6910,
          "year": 2013
         },
         {
          "classification": "Humanities",
          "system": "UC",
          "total": 8987,
          "year": 2013
         },
         {
          "classification": "STEM",
          "system": "UC",
          "total": 15471,
          "year": 2013
         },
         {
          "classification": "Social and Behavioral Sciences",
          "system": "UC",
          "total": 16235,
          "year": 2013
         },
         {
          "classification": "Humanities",
          "system": "CSU",
          "total": 19788,
          "year": 2014
         },
         {
          "classification": "STEM",
          "system": "CSU",
          "total": 11097,
          "year": 2014
         },
         {
          "classification": "Social and Behavioral Sciences",
          "system": "CSU",
          "total": 16854,
          "year": 2014
         },
         {
          "classification": "Humanities",
          "system": "Private non-profit",
          "total": 8902,
          "year": 2014
         },
         {
          "classification": "STEM",
          "system": "Private non-profit",
          "total": 4974,
          "year": 2014
         },
         {
          "classification": "Social and Behavioral Sciences",
          "system": "Private non-profit",
          "total": 6962,
          "year": 2014
         },
         {
          "classification": "Humanities",
          "system": "UC",
          "total": 8130,
          "year": 2014
         },
         {
          "classification": "STEM",
          "system": "UC",
          "total": 16040,
          "year": 2014
         },
         {
          "classification": "Social and Behavioral Sciences",
          "system": "UC",
          "total": 15499,
          "year": 2014
         },
         {
          "classification": "Humanities",
          "system": "CSU",
          "total": 19033,
          "year": 2015
         },
         {
          "classification": "STEM",
          "system": "CSU",
          "total": 12016,
          "year": 2015
         },
         {
          "classification": "Social and Behavioral Sciences",
          "system": "CSU",
          "total": 16843,
          "year": 2015
         },
         {
          "classification": "Humanities",
          "system": "Private non-profit",
          "total": 8746,
          "year": 2015
         },
         {
          "classification": "STEM",
          "system": "Private non-profit",
          "total": 5052,
          "year": 2015
         },
         {
          "classification": "Social and Behavioral Sciences",
          "system": "Private non-profit",
          "total": 7032,
          "year": 2015
         },
         {
          "classification": "Humanities",
          "system": "UC",
          "total": 7770,
          "year": 2015
         },
         {
          "classification": "STEM",
          "system": "UC",
          "total": 16867,
          "year": 2015
         },
         {
          "classification": "Social and Behavioral Sciences",
          "system": "UC",
          "total": 15760,
          "year": 2015
         },
         {
          "classification": "Humanities",
          "system": "CSU",
          "total": 19147,
          "year": 2016
         },
         {
          "classification": "STEM",
          "system": "CSU",
          "total": 13160,
          "year": 2016
         },
         {
          "classification": "Social and Behavioral Sciences",
          "system": "CSU",
          "total": 17781,
          "year": 2016
         },
         {
          "classification": "Humanities",
          "system": "Private non-profit",
          "total": 8094,
          "year": 2016
         },
         {
          "classification": "STEM",
          "system": "Private non-profit",
          "total": 5622,
          "year": 2016
         },
         {
          "classification": "Social and Behavioral Sciences",
          "system": "Private non-profit",
          "total": 6718,
          "year": 2016
         },
         {
          "classification": "Humanities",
          "system": "UC",
          "total": 7486,
          "year": 2016
         },
         {
          "classification": "STEM",
          "system": "UC",
          "total": 18119,
          "year": 2016
         },
         {
          "classification": "Social and Behavioral Sciences",
          "system": "UC",
          "total": 15740,
          "year": 2016
         }
        ]
       },
       "height": 800,
       "vconcat": [
        {
         "data": {
          "name": "data-2a12875d5093b6d645d8907ad62ee51d"
         },
         "encoding": {
          "color": {
           "field": "classification",
           "sort": [
            "STEM",
            "Social and Behavioral Sciences",
            "Humanities"
           ],
           "type": "nominal"
          },
          "order": {
           "field": "classification",
           "type": "nominal"
          },
          "x": {
           "axis": {
            "format": "%Y"
           },
           "field": "year",
           "type": "ordinal"
          },
          "y": {
           "axis": {
            "title": "Number of BA degrees awarded"
           },
           "field": "total",
           "type": "quantitative"
          }
         },
         "height": 450,
         "mark": "bar",
         "title": "10 - Stagnant Humanity",
         "width": 650
        },
        {
         "data": {
          "name": "data-b3dda2c99b5592d9b57932bbab063130"
         },
         "facet": {
          "column": {
           "field": "system",
           "sort": "descending",
           "title": "System",
           "type": "nominal"
          }
         },
         "spec": {
          "encoding": {
           "color": {
            "field": "classification",
            "sort": [
             "STEM",
             "Social and Behavioral Sciences",
             "Humanities"
            ],
            "type": "nominal"
           },
           "order": {
            "field": "classification",
            "type": "nominal"
           },
           "x": {
            "axis": {
             "format": "%Y"
            },
            "field": "year",
            "type": "ordinal"
           },
           "y": {
            "axis": {
             "title": ""
            },
            "field": "total",
            "type": "quantitative"
           }
          },
          "height": 200,
          "mark": "line",
          "width": 208
         }
        },
        {
         "data": {
          "name": "data-b3dda2c99b5592d9b57932bbab063130"
         },
         "height": 50,
         "mark": {
          "dx": 324,
          "dy": 20,
          "size": 20,
          "text": "SOURCE: IPEDS 2000-2016.",
          "type": "text"
         },
         "width": 650
        }
       ],
       "width": 1080
      },
      "image/png": "[encoded data removed]",
      "text/plain": [
       "<VegaLite 2 object>\n",
       "\n",
       "If you see this message, it means the renderer has not been properly enabled\n",
       "for the frontend that you are using. For more information, see\n",
       "https://altair-viz.github.io/user_guide/troubleshooting.html\n"
      ]
     },
     "execution_count": 14,
     "metadata": {},
     "output_type": "execute_result"
    }
   ],
   "source": [
    "final.configure_legend(symbolSize = 200, labelLimit = 200,  )"
   ]
  },
  {
   "cell_type": "code",
   "execution_count": 15,
   "metadata": {},
   "outputs": [],
   "source": [
    "dff.to_csv(\"../data/processed/final.csv\", index = False,)"
   ]
  }
 ],
 "metadata": {
  "kernelspec": {
   "display_name": "Python 3",
   "language": "python",
   "name": "python3"
  },
  "language_info": {
   "codemirror_mode": {
    "name": "ipython",
    "version": 3
   },
   "file_extension": ".py",
   "mimetype": "text/x-python",
   "name": "python",
   "nbconvert_exporter": "python",
   "pygments_lexer": "ipython3",
   "version": "3.6.3"
  }
 },
 "nbformat": 4,
 "nbformat_minor": 2
}
