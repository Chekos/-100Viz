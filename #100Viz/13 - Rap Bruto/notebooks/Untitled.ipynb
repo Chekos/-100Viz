{
 "cells": [
  {
   "cell_type": "code",
   "execution_count": 1,
   "metadata": {},
   "outputs": [],
   "source": [
    "import plotly\n",
    "import plotly.graph_objs as go\n",
    "import ipywidgets as widgets\n",
    "import pandas as pd"
   ]
  },
  {
   "cell_type": "code",
   "execution_count": 2,
   "metadata": {},
   "outputs": [
    {
     "data": {
      "text/html": [
       "<div>\n",
       "<style scoped>\n",
       "    .dataframe tbody tr th:only-of-type {\n",
       "        vertical-align: middle;\n",
       "    }\n",
       "\n",
       "    .dataframe tbody tr th {\n",
       "        vertical-align: top;\n",
       "    }\n",
       "\n",
       "    .dataframe thead th {\n",
       "        text-align: right;\n",
       "    }\n",
       "</style>\n",
       "<table border=\"1\" class=\"dataframe\">\n",
       "  <thead>\n",
       "    <tr style=\"text-align: right;\">\n",
       "      <th></th>\n",
       "      <th>artista</th>\n",
       "      <th>pos</th>\n",
       "      <th>cuenta</th>\n",
       "    </tr>\n",
       "  </thead>\n",
       "  <tbody>\n",
       "    <tr>\n",
       "      <th>0</th>\n",
       "      <td>Residente</td>\n",
       "      <td>sustantivo</td>\n",
       "      <td>111</td>\n",
       "    </tr>\n",
       "    <tr>\n",
       "      <th>1</th>\n",
       "      <td>Residente</td>\n",
       "      <td>verbo</td>\n",
       "      <td>48</td>\n",
       "    </tr>\n",
       "    <tr>\n",
       "      <th>2</th>\n",
       "      <td>Residente</td>\n",
       "      <td>adjetivo</td>\n",
       "      <td>22</td>\n",
       "    </tr>\n",
       "    <tr>\n",
       "      <th>3</th>\n",
       "      <td>Residente</td>\n",
       "      <td>nombre propio</td>\n",
       "      <td>21</td>\n",
       "    </tr>\n",
       "    <tr>\n",
       "      <th>4</th>\n",
       "      <td>Residente</td>\n",
       "      <td>adverbio</td>\n",
       "      <td>12</td>\n",
       "    </tr>\n",
       "  </tbody>\n",
       "</table>\n",
       "</div>"
      ],
      "text/plain": [
       "     artista            pos  cuenta\n",
       "0  Residente     sustantivo     111\n",
       "1  Residente          verbo      48\n",
       "2  Residente       adjetivo      22\n",
       "3  Residente  nombre propio      21\n",
       "4  Residente       adverbio      12"
      ]
     },
     "execution_count": 2,
     "metadata": {},
     "output_type": "execute_result"
    }
   ],
   "source": [
    "df = pd.read_csv(\"../data/processed/part_of_speech_total.csv\")\n",
    "\n",
    "artista = {\n",
    "    'nach': \"Nach\", \n",
    "    'residente': \"Residente\",\n",
    "}\n",
    "\n",
    "df['artista'] = df['artista'].map(artista)\n",
    "\n",
    "df.head()"
   ]
  },
  {
   "cell_type": "code",
   "execution_count": 3,
   "metadata": {},
   "outputs": [
    {
     "data": {
      "text/plain": [
       "array(['sustantivo', 'verbo', 'adjetivo', 'nombre propio', 'adverbio',\n",
       "       'pronombre', 'adposición', 'determinador', 'conj. subordinada',\n",
       "       'auxiliar', 'numeral', 'conjunción'], dtype=object)"
      ]
     },
     "execution_count": 3,
     "metadata": {},
     "output_type": "execute_result"
    }
   ],
   "source": [
    "df['pos'].unique()"
   ]
  },
  {
   "cell_type": "code",
   "execution_count": 22,
   "metadata": {},
   "outputs": [
    {
     "data": {
      "application/vnd.jupyter.widget-view+json": {
       "model_id": "6d2009640611445f81b10fcb89030634",
       "version_major": 2,
       "version_minor": 0
      },
      "text/plain": [
       "FigureWidget({\n",
       "    'data': [{'marker': {'color': '#074a7e'},\n",
       "              'name': 'pronombre',\n",
       "              …"
      ]
     },
     "metadata": {},
     "output_type": "display_data"
    }
   ],
   "source": [
    "condition_pos = ((df['pos'] == 'sustantivo') |\n",
    "        (df['pos'] == 'verbo') |\n",
    "        (df['pos'] == 'nombre propio') |\n",
    "        (df['pos'] == 'adjetivo') |\n",
    "        (df['pos'] == 'pronombre')\n",
    "        )\n",
    "\n",
    "\n",
    "df = df[condition_pos].copy()\n",
    "\n",
    "artist_data = df\n",
    "\n",
    "pos_top = ['sustantivo', 'verbo', 'nombre propio', 'adjetivo', 'pronombre']\n",
    "colors = [\"#074a7e\",  \"#dc0d12\", \"#e4a100\", \"#02a3cd\", \"#dc0d7a\",]\n",
    "\n",
    "angle = 90/5\n",
    "theta = [angle*0.5, \n",
    "         angle*1.5, \n",
    "         angle*2.5, \n",
    "         angle*3.5, \n",
    "         angle*4.5]\n",
    "\n",
    "fig_artist = go.FigureWidget(data = [\n",
    "    go.Barpolar(theta = [angle*4], r = [artist_data[artist_data['pos'] == pos_top[4]]['cuenta'].iloc[0]], name = pos_top[4], width = 18, marker = dict(color = colors[0])),\n",
    "    go.Barpolar(theta = [angle*3], r = [artist_data[artist_data['pos'] == pos_top[3]]['cuenta'].iloc[0]], name = pos_top[3], width = 18, marker = dict(color = colors[1])),\n",
    "    go.Barpolar(theta = [angle*2], r = [artist_data[artist_data['pos'] == pos_top[2]]['cuenta'].iloc[0]], name = pos_top[2], width = 18, marker = dict(color = colors[2])),\n",
    "    go.Barpolar(theta = [angle*1], r = [artist_data[artist_data['pos'] == pos_top[1]]['cuenta'].iloc[0]], name = pos_top[1], width = 18, marker = dict(color = colors[3])),\n",
    "    go.Barpolar(theta = [angle*0], r = [artist_data[artist_data['pos'] == pos_top[0]]['cuenta'].iloc[0]], name = pos_top[0], width = 18, marker = dict(color = colors[4])),   \n",
    "    \n",
    "    go.Barpolar(theta = [angle*4 +180], r = [artist_data[artist_data['pos'] == pos_top[4]]['cuenta'].iloc[1]], name = pos_top[4], width = 18, marker = dict(color = colors[0])),\n",
    "    go.Barpolar(theta = [angle*3 +180], r = [artist_data[artist_data['pos'] == pos_top[3]]['cuenta'].iloc[1]], name = pos_top[3], width = 18, marker = dict(color = colors[1])),\n",
    "    go.Barpolar(theta = [angle*2 +180], r = [artist_data[artist_data['pos'] == pos_top[2]]['cuenta'].iloc[1]], name = pos_top[2], width = 18, marker = dict(color = colors[2])),\n",
    "    go.Barpolar(theta = [angle*1 +180], r = [artist_data[artist_data['pos'] == pos_top[1]]['cuenta'].iloc[1]], name = pos_top[1], width = 18, marker = dict(color = colors[3])),\n",
    "    go.Barpolar(theta = [angle*0 +180], r = [artist_data[artist_data['pos'] == pos_top[0]]['cuenta'].iloc[1]], name = pos_top[0], width = 18, marker = dict(color = colors[4])),  \n",
    "    ]\n",
    ")\n",
    "\n",
    "\n",
    "# angular axis\n",
    "fig_artist.layout.polar.angularaxis.showline = False\n",
    "fig_artist.layout.polar.angularaxis.showgrid = False\n",
    "fig_artist.layout.polar.angularaxis.rotation = 9\n",
    "fig_artist.layout.polar.angularaxis.showticklabels = False\n",
    "fig_artist.layout.polar.angularaxis.ticklen = 0\n",
    "\n",
    "# radial axis\n",
    "fig_artist.layout.polar.radialaxis.showgrid = False\n",
    "fig_artist.layout.polar.radialaxis.showline = True\n",
    "fig_artist.layout.polar.radialaxis.ticklen = 10\n",
    "fig_artist.layout.polar.radialaxis.tickformat = 's'\n",
    "fig_artist.layout.polar.radialaxis.nticks = 3\n",
    "fig_artist.layout.polar.radialaxis.tickfont.size = 28\n",
    "fig_artist.layout.polar.radialaxis.tickangle = 0\n",
    "fig_artist.layout.polar.radialaxis.range = [1, 101]\n",
    "\n",
    "# hole\n",
    "fig_artist.layout.polar.hole = 0.5\n",
    "\n",
    "# size\n",
    "fig_artist.layout.width = 1200\n",
    "fig_artist.layout.height = 800\n",
    "\n",
    "# legend\n",
    "fig_artist.layout.legend.x = .5\n",
    "fig_artist.layout.legend.y = .95\n",
    "fig_artist.layout.legend.xanchor = 'center'\n",
    "fig_artist.layout.legend.font.size = 24\n",
    "fig_artist.layout.legend.orientation = 'h'\n",
    "\n",
    "# details\n",
    "fig_artist.layout.font.family = \"Arial\"\n",
    "\n",
    "\n",
    "fig_artist\n"
   ]
  },
  {
   "cell_type": "code",
   "execution_count": null,
   "metadata": {},
   "outputs": [],
   "source": []
  }
 ],
 "metadata": {
  "kernelspec": {
   "display_name": "Python 3",
   "language": "python",
   "name": "python3"
  },
  "language_info": {
   "codemirror_mode": {
    "name": "ipython",
    "version": 3
   },
   "file_extension": ".py",
   "mimetype": "text/x-python",
   "name": "python",
   "nbconvert_exporter": "python",
   "pygments_lexer": "ipython3",
   "version": "3.6.3"
  }
 },
 "nbformat": 4,
 "nbformat_minor": 2
}
