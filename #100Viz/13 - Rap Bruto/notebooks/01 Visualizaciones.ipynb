{
 "cells": [
  {
   "cell_type": "code",
   "execution_count": 2,
   "metadata": {},
   "outputs": [],
   "source": [
    "try:\n",
    "    import altair as alt\n",
    "except ModuleNotFoundError:\n",
    "    !conda install -c conda-forge altair vega -y\n",
    "    import altair as alt"
   ]
  },
  {
   "cell_type": "code",
   "execution_count": 3,
   "metadata": {},
   "outputs": [
    {
     "data": {
      "text/html": [
       "<div>\n",
       "<style scoped>\n",
       "    .dataframe tbody tr th:only-of-type {\n",
       "        vertical-align: middle;\n",
       "    }\n",
       "\n",
       "    .dataframe tbody tr th {\n",
       "        vertical-align: top;\n",
       "    }\n",
       "\n",
       "    .dataframe thead th {\n",
       "        text-align: right;\n",
       "    }\n",
       "</style>\n",
       "<table border=\"1\" class=\"dataframe\">\n",
       "  <thead>\n",
       "    <tr style=\"text-align: right;\">\n",
       "      <th></th>\n",
       "      <th>artista</th>\n",
       "      <th>pos</th>\n",
       "      <th>cuenta</th>\n",
       "    </tr>\n",
       "  </thead>\n",
       "  <tbody>\n",
       "    <tr>\n",
       "      <th>0</th>\n",
       "      <td>Residente</td>\n",
       "      <td>sustantivo</td>\n",
       "      <td>111</td>\n",
       "    </tr>\n",
       "    <tr>\n",
       "      <th>1</th>\n",
       "      <td>Residente</td>\n",
       "      <td>verbo</td>\n",
       "      <td>48</td>\n",
       "    </tr>\n",
       "    <tr>\n",
       "      <th>2</th>\n",
       "      <td>Residente</td>\n",
       "      <td>adjetivo</td>\n",
       "      <td>22</td>\n",
       "    </tr>\n",
       "    <tr>\n",
       "      <th>3</th>\n",
       "      <td>Residente</td>\n",
       "      <td>nombre propio</td>\n",
       "      <td>21</td>\n",
       "    </tr>\n",
       "    <tr>\n",
       "      <th>4</th>\n",
       "      <td>Residente</td>\n",
       "      <td>adverbio</td>\n",
       "      <td>12</td>\n",
       "    </tr>\n",
       "  </tbody>\n",
       "</table>\n",
       "</div>"
      ],
      "text/plain": [
       "     artista            pos  cuenta\n",
       "0  Residente     sustantivo     111\n",
       "1  Residente          verbo      48\n",
       "2  Residente       adjetivo      22\n",
       "3  Residente  nombre propio      21\n",
       "4  Residente       adverbio      12"
      ]
     },
     "execution_count": 3,
     "metadata": {},
     "output_type": "execute_result"
    }
   ],
   "source": [
    "df = alt.pd.read_csv(\"../data/processed/part_of_speech_total.csv\")\n",
    "\n",
    "\n",
    "artista = {\n",
    "    'nach': \"Nach\", \n",
    "    'residente': \"Residente\",\n",
    "}\n",
    "\n",
    "df['artista'] = df['artista'].map(artista)\n",
    "\n",
    "df.head()"
   ]
  },
  {
   "cell_type": "code",
   "execution_count": 4,
   "metadata": {},
   "outputs": [
    {
     "data": {
      "text/html": [
       "<div>\n",
       "<style scoped>\n",
       "    .dataframe tbody tr th:only-of-type {\n",
       "        vertical-align: middle;\n",
       "    }\n",
       "\n",
       "    .dataframe tbody tr th {\n",
       "        vertical-align: top;\n",
       "    }\n",
       "\n",
       "    .dataframe thead th {\n",
       "        text-align: right;\n",
       "    }\n",
       "</style>\n",
       "<table border=\"1\" class=\"dataframe\">\n",
       "  <thead>\n",
       "    <tr style=\"text-align: right;\">\n",
       "      <th></th>\n",
       "      <th>artista</th>\n",
       "      <th>pos</th>\n",
       "      <th>cuenta</th>\n",
       "      <th>share</th>\n",
       "    </tr>\n",
       "  </thead>\n",
       "  <tbody>\n",
       "    <tr>\n",
       "      <th>0</th>\n",
       "      <td>Residente</td>\n",
       "      <td>sustantivo</td>\n",
       "      <td>111</td>\n",
       "      <td>0.449393</td>\n",
       "    </tr>\n",
       "    <tr>\n",
       "      <th>1</th>\n",
       "      <td>Residente</td>\n",
       "      <td>verbo</td>\n",
       "      <td>48</td>\n",
       "      <td>0.194332</td>\n",
       "    </tr>\n",
       "    <tr>\n",
       "      <th>2</th>\n",
       "      <td>Residente</td>\n",
       "      <td>adjetivo</td>\n",
       "      <td>22</td>\n",
       "      <td>0.089069</td>\n",
       "    </tr>\n",
       "    <tr>\n",
       "      <th>3</th>\n",
       "      <td>Residente</td>\n",
       "      <td>nombre propio</td>\n",
       "      <td>21</td>\n",
       "      <td>0.085020</td>\n",
       "    </tr>\n",
       "    <tr>\n",
       "      <th>4</th>\n",
       "      <td>Residente</td>\n",
       "      <td>adverbio</td>\n",
       "      <td>12</td>\n",
       "      <td>0.048583</td>\n",
       "    </tr>\n",
       "    <tr>\n",
       "      <th>5</th>\n",
       "      <td>Residente</td>\n",
       "      <td>pronombre</td>\n",
       "      <td>8</td>\n",
       "      <td>0.032389</td>\n",
       "    </tr>\n",
       "    <tr>\n",
       "      <th>6</th>\n",
       "      <td>Residente</td>\n",
       "      <td>adposición</td>\n",
       "      <td>7</td>\n",
       "      <td>0.028340</td>\n",
       "    </tr>\n",
       "    <tr>\n",
       "      <th>7</th>\n",
       "      <td>Residente</td>\n",
       "      <td>determinador</td>\n",
       "      <td>7</td>\n",
       "      <td>0.028340</td>\n",
       "    </tr>\n",
       "    <tr>\n",
       "      <th>8</th>\n",
       "      <td>Residente</td>\n",
       "      <td>conj. subordinada</td>\n",
       "      <td>6</td>\n",
       "      <td>0.024291</td>\n",
       "    </tr>\n",
       "    <tr>\n",
       "      <th>9</th>\n",
       "      <td>Residente</td>\n",
       "      <td>auxiliar</td>\n",
       "      <td>4</td>\n",
       "      <td>0.016194</td>\n",
       "    </tr>\n",
       "    <tr>\n",
       "      <th>10</th>\n",
       "      <td>Residente</td>\n",
       "      <td>numeral</td>\n",
       "      <td>1</td>\n",
       "      <td>0.004049</td>\n",
       "    </tr>\n",
       "    <tr>\n",
       "      <th>11</th>\n",
       "      <td>Nach</td>\n",
       "      <td>sustantivo</td>\n",
       "      <td>90</td>\n",
       "      <td>0.362903</td>\n",
       "    </tr>\n",
       "    <tr>\n",
       "      <th>12</th>\n",
       "      <td>Nach</td>\n",
       "      <td>verbo</td>\n",
       "      <td>62</td>\n",
       "      <td>0.250000</td>\n",
       "    </tr>\n",
       "    <tr>\n",
       "      <th>13</th>\n",
       "      <td>Nach</td>\n",
       "      <td>adjetivo</td>\n",
       "      <td>32</td>\n",
       "      <td>0.129032</td>\n",
       "    </tr>\n",
       "  </tbody>\n",
       "</table>\n",
       "</div>"
      ],
      "text/plain": [
       "      artista                pos  cuenta     share\n",
       "0   Residente         sustantivo     111  0.449393\n",
       "1   Residente              verbo      48  0.194332\n",
       "2   Residente           adjetivo      22  0.089069\n",
       "3   Residente      nombre propio      21  0.085020\n",
       "4   Residente           adverbio      12  0.048583\n",
       "5   Residente          pronombre       8  0.032389\n",
       "6   Residente         adposición       7  0.028340\n",
       "7   Residente       determinador       7  0.028340\n",
       "8   Residente  conj. subordinada       6  0.024291\n",
       "9   Residente           auxiliar       4  0.016194\n",
       "10  Residente            numeral       1  0.004049\n",
       "11       Nach         sustantivo      90  0.362903\n",
       "12       Nach              verbo      62  0.250000\n",
       "13       Nach           adjetivo      32  0.129032"
      ]
     },
     "execution_count": 4,
     "metadata": {},
     "output_type": "execute_result"
    }
   ],
   "source": [
    "df['share'] = df.groupby('artista')[['cuenta']].apply(lambda x: x/x.sum())\n",
    "\n",
    "df.head(14)"
   ]
  },
  {
   "cell_type": "code",
   "execution_count": 7,
   "metadata": {},
   "outputs": [
    {
     "data": {
      "text/html": [
       "<style>\n",
       "@import url('https://fonts.googleapis.com/css?family=Ubuntu|Ubuntu+Condensed|Ubuntu+Mono');\n",
       "</style>"
      ],
      "text/plain": [
       "<IPython.core.display.HTML object>"
      ]
     },
     "metadata": {},
     "output_type": "display_data"
    }
   ],
   "source": [
    "%%html\n",
    "<style>\n",
    "@import url('https://fonts.googleapis.com/css?family=Ubuntu|Ubuntu+Condensed|Ubuntu+Mono');\n",
    "</style>"
   ]
  },
  {
   "cell_type": "code",
   "execution_count": 8,
   "metadata": {},
   "outputs": [],
   "source": [
    "condition = (\n",
    "    (df['pos'] == 'adjetivo') | \n",
    "    (df['pos'] == 'nombre propio') | \n",
    "    (df['pos'] == 'sustantivo') | \n",
    "    (df['pos'] == 'verbo') | \n",
    "    (df['pos'] == 'adverbio') |\n",
    "    (df['pos'] == 'verbo') \n",
    ")\n",
    "dff = df[condition].copy()"
   ]
  },
  {
   "cell_type": "code",
   "execution_count": 34,
   "metadata": {},
   "outputs": [],
   "source": [
    "%run theme.py"
   ]
  },
  {
   "cell_type": "code",
   "execution_count": 35,
   "metadata": {},
   "outputs": [
    {
     "data": {
      "application/vnd.vegalite.v2+json": {
       "$schema": "https://vega.github.io/schema/vega-lite/v2.6.0.json",
       "autosize": "fit",
       "config": {
        "arc": {
         "fill": "#282828"
        },
        "area": {
         "fill": "#282828"
        },
        "axisBand": {
         "grid": false
        },
        "axisBottom": {
         "domain": false,
         "domainColor": "black",
         "domainWidth": 3,
         "grid": true,
         "gridColor": "#C9C9C9",
         "gridWidth": 1,
         "labelAngle": 0,
         "labelFont": "Ubuntu Condensed",
         "labelFontSize": 16,
         "labelPadding": 8,
         "tickColor": "#282828",
         "tickCount": 10,
         "tickSize": 10,
         "title": "",
         "titleFont": "Ubuntu",
         "titleFontSize": 16,
         "titlePadding": 10
        },
        "axisLeft": {
         "domainColor": "#282828",
         "domainWidth": 1,
         "gridColor": "#C9C9C9",
         "gridWidth": 1,
         "labelFont": "Ubuntu Condensed",
         "labelFontSize": 20,
         "labelPadding": 4,
         "tickColor": "#282828",
         "tickCount": 10,
         "tickSize": 6,
         "ticks": true,
         "titleFont": "Ubuntu",
         "titleFontSize": 18,
         "titlePadding": 100
        },
        "axisRight": {
         "domainColor": "#282828",
         "domainWidth": 1,
         "gridColor": "#C9C9C9",
         "gridWidth": 1,
         "labelFont": "Ubuntu Condensed",
         "labelFontSize": 12,
         "labelPadding": 4,
         "tickColor": "#282828",
         "tickSize": 10,
         "ticks": true,
         "titleFont": "Ubuntu",
         "titleFontSize": 14,
         "titlePadding": 10
        },
        "axisTop": {
         "domain": false,
         "domainColor": "black",
         "domainWidth": 3,
         "grid": true,
         "gridColor": "#C9C9C9",
         "gridWidth": 1,
         "labelFont": "Ubuntu Condensed",
         "labelFontSize": 12,
         "labelPadding": 4,
         "tickColor": "#282828",
         "tickSize": 10,
         "titleFont": "Ubuntu",
         "titleFontSize": 14,
         "titlePadding": 10
        },
        "background": "#FFFAFA",
        "geoshape": {
         "fill": "#C0C0C0"
        },
        "group": {
         "fill": "#FFFAFA"
        },
        "header": {
         "fontWeight": 700,
         "labelFont": "Ubuntu Condensed",
         "labelFontSize": 20,
         "labelOffset": [
          400,
          400
         ],
         "labelPadding": 20,
         "title": " ",
         "titleBaseline": "bottom",
         "titleFont": "Ubuntu",
         "titleFontSize": 18,
         "titleOffset": -400
        },
        "legend": {
         "labelFont": "Ubuntu Condensed",
         "labelFontSize": 12,
         "labelLimit": 500,
         "padding": 10,
         "symbolSize": 500,
         "symbolType": "square",
         "titleFont": "Ubuntu",
         "titleFontSize": 14,
         "titlePadding": 10
        },
        "line": {
         "color": "#282828",
         "stroke": "#282828",
         "strokewidth": 5
        },
        "padding": 10,
        "path": {
         "stroke": "#282828",
         "strokeWidth": 0.5
        },
        "point": {
         "filled": true
        },
        "range": {
         "category": [
          "#dc0d7a",
          "#02a3cd",
          "#e4a100",
          "#dc0d12",
          "#0DDC6F",
          "#074a7e",
          "#e46800",
          "#aa3594",
          "#a20c4b"
         ],
         "diverging": [
          "#dc0d12",
          "#e9686b",
          "#fbe1e1",
          "#dff4f9",
          "#81d1e6",
          "#03a3cd"
         ],
         "heatmap": [
          "#fcdfef",
          "#f8bfde",
          "#f59fce",
          "#f180be",
          "#ee60ad",
          "#eb409d",
          "#e7208c",
          "#e4007c"
         ]
        },
        "rect": {
         "fill": "#A20C4B",
         "opacity": 0.3
        },
        "style": {
         "bar": {
          "binSpacing": 2,
          "fill": "#282828",
          "stroke": false
         },
         "text": {
          "align": "right",
          "dx": 300,
          "font": "Ubuntu Mono",
          "fontSize": 10,
          "fontWeight": 100,
          "href": "https://twitter.com/ChekosWH",
          "size": 10,
          "text": "Made by @ChekosWH"
         }
        },
        "symbol": {
         "opacity": 1,
         "shape": "circle",
         "size": 40,
         "strokeWidth": 1
        },
        "title": {
         "anchor": "start",
         "font": "Ubuntu",
         "fontSize": 58,
         "fontWeight": 600,
         "offset": 20
        },
        "trail": {
         "color": "#282828",
         "size": 5,
         "stroke": "#282828",
         "strokeWidth": 0
        },
        "view": {
         "padding": 100,
         "stroke": false
        }
       },
       "data": {
        "name": "data-d19c3a7971b1c596af77b3e17b402fda"
       },
       "datasets": {
        "data-d19c3a7971b1c596af77b3e17b402fda": [
         {
          "artista": "Residente",
          "cuenta": 111,
          "pos": "sustantivo",
          "share": 0.4493927125506073
         },
         {
          "artista": "Residente",
          "cuenta": 48,
          "pos": "verbo",
          "share": 0.19433198380566802
         },
         {
          "artista": "Residente",
          "cuenta": 22,
          "pos": "adjetivo",
          "share": 0.08906882591093117
         },
         {
          "artista": "Residente",
          "cuenta": 21,
          "pos": "nombre propio",
          "share": 0.08502024291497975
         },
         {
          "artista": "Residente",
          "cuenta": 12,
          "pos": "adverbio",
          "share": 0.048582995951417005
         },
         {
          "artista": "Nach",
          "cuenta": 90,
          "pos": "sustantivo",
          "share": 0.3629032258064516
         },
         {
          "artista": "Nach",
          "cuenta": 62,
          "pos": "verbo",
          "share": 0.25
         },
         {
          "artista": "Nach",
          "cuenta": 32,
          "pos": "adjetivo",
          "share": 0.12903225806451613
         },
         {
          "artista": "Nach",
          "cuenta": 24,
          "pos": "nombre propio",
          "share": 0.0967741935483871
         },
         {
          "artista": "Nach",
          "cuenta": 11,
          "pos": "adverbio",
          "share": 0.04435483870967742
         }
        ]
       },
       "facet": {
        "row": {
         "field": "pos",
         "sort": [
          "sustantivo",
          "verbo",
          "adjetivo",
          "nombre propio",
          "adverbio",
          "pronombre"
         ],
         "title": "",
         "type": "nominal"
        }
       },
       "height": 800,
       "spec": {
        "layer": [
         {
          "encoding": {
           "color": {
            "field": "artista",
            "legend": null,
            "scale": {
             "domain": [
              "Residente",
              "Nach"
             ],
             "range": [
              "#112c59",
              "#aa4221"
             ]
            },
            "sort": [
             "Residente",
             "Nach"
            ],
            "type": "nominal"
           },
           "x": {
            "axis": {
             "format": "%"
            },
            "field": "share",
            "sort": [
             "sustantivo",
             "verbo",
             "adjetivo",
             "nombre propio",
             "adverbio",
             "pronombre"
            ],
            "type": "quantitative"
           },
           "y": {
            "axis": {
             "title": ""
            },
            "field": "artista",
            "sort": [
             "Residente",
             "Nach"
            ],
            "type": "nominal"
           }
          },
          "height": 100,
          "mark": "bar",
          "width": 300
         },
         {
          "encoding": {
           "color": {
            "field": "artista",
            "legend": null,
            "scale": {
             "domain": [
              "Residente",
              "Nach"
             ],
             "range": [
              "#112c59",
              "#aa4221"
             ]
            },
            "sort": [
             "Residente",
             "Nach"
            ],
            "type": "nominal"
           },
           "text": {
            "field": "share",
            "format": ".1%",
            "type": "quantitative"
           },
           "x": {
            "axis": {
             "format": "%"
            },
            "field": "share",
            "sort": [
             "sustantivo",
             "verbo",
             "adjetivo",
             "nombre propio",
             "adverbio",
             "pronombre"
            ],
            "type": "quantitative"
           },
           "y": {
            "axis": {
             "title": ""
            },
            "field": "artista",
            "sort": [
             "Residente",
             "Nach"
            ],
            "type": "nominal"
           }
          },
          "height": 100,
          "mark": {
           "align": "left",
           "baseline": "middle",
           "dx": 3,
           "fontSize": 18,
           "fontWeight": 800,
           "type": "text"
          },
          "width": 300
         }
        ]
       },
       "title": "Composición Lírica",
       "width": 1080
      },
      "image/png": "[encoded data removed]",
      "text/plain": [
       "<VegaLite 2 object>\n",
       "\n",
       "If you see this message, it means the renderer has not been properly enabled\n",
       "for the frontend that you are using. For more information, see\n",
       "https://altair-viz.github.io/user_guide/troubleshooting.html\n"
      ]
     },
     "execution_count": 35,
     "metadata": {},
     "output_type": "execute_result"
    }
   ],
   "source": [
    "orden = ['sustantivo', 'verbo', 'adjetivo', 'nombre propio', 'adverbio', 'pronombre']\n",
    "escala = alt.Scale(\n",
    "    domain =['Residente','Nach',], \n",
    "    range = [\"#112c59\", \"#aa4221\"]\n",
    ")\n",
    "\n",
    "barras = alt.Chart().mark_bar().encode(\n",
    "    x = alt.X('share:Q', axis = alt.Axis(format = '%'), sort = orden),\n",
    "    y = alt.Y('artista:N', sort = ['Residente', 'Nach'], axis = alt.Axis(title = \"\")),\n",
    "    color = alt.Color(\"artista:N\", legend = None, sort = ['Residente','Nach'], scale = escala),\n",
    ").properties(\n",
    "    width = 300,\n",
    "    height = 100,\n",
    ")\n",
    "\n",
    "etiquetas = barras.mark_text(\n",
    "    align='left',\n",
    "    baseline='middle',\n",
    "    dx=3,\n",
    "    fontWeight = 800,\n",
    "    fontSize = 18,\n",
    ").encode(\n",
    "    text= alt.Text('share:Q', format = \".1%\")\n",
    ")\n",
    "\n",
    "final_barras = alt.layer(barras, etiquetas, data = dff).facet(\n",
    "    row = alt.Row('pos:N', sort = orden, title = \"\", ),\n",
    ")\n",
    "\n",
    "final_barras = final_barras.properties(title = 'Composición Lírica').configure_title(fontSize = 58)\n",
    "final_barras"
   ]
  },
  {
   "cell_type": "code",
   "execution_count": null,
   "metadata": {},
   "outputs": [],
   "source": []
  }
 ],
 "metadata": {
  "kernelspec": {
   "display_name": "Python 3",
   "language": "python",
   "name": "python3"
  },
  "language_info": {
   "codemirror_mode": {
    "name": "ipython",
    "version": 3
   },
   "file_extension": ".py",
   "mimetype": "text/x-python",
   "name": "python",
   "nbconvert_exporter": "python",
   "pygments_lexer": "ipython3",
   "version": "3.6.3"
  }
 },
 "nbformat": 4,
 "nbformat_minor": 2
}
