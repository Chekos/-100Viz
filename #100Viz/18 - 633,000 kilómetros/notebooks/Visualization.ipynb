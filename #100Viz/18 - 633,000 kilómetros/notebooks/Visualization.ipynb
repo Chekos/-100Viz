{
 "cells": [
  {
   "cell_type": "markdown",
   "metadata": {},
   "source": [
    "# #100Viz 18 - Rios Draft\n",
    "\n",
    "Visualizando rios, arroyos y canales de Mexico.<br>\n",
    "Fuente: \n",
    "* (Hidrografía) INEGI - Data source: INEGI - http://www.beta.inegi.org.mx/app/mapas/ \n",
    "* (Estados de México) ArcGIS - https://www.arcgis.com/home/item.html?id=ac9041c51b5c49c683fbfec61dc03ba8"
   ]
  },
  {
   "cell_type": "code",
   "execution_count": 1,
   "metadata": {},
   "outputs": [],
   "source": [
    "import pandas as pd\n",
    "import altair as alt\n",
    "from pathlib import Path\n",
    "import json"
   ]
  },
  {
   "cell_type": "markdown",
   "metadata": {},
   "source": [
    "### Loading the data\n",
    "\n",
    "We'll need to layer two maps: a base map with the states outlines and another with the hydrography data."
   ]
  },
  {
   "cell_type": "code",
   "execution_count": 2,
   "metadata": {},
   "outputs": [
    {
     "data": {
      "text/html": [
       "<style>\n",
       "@import url('https://fonts.googleapis.com/css?family=Ubuntu|Ubuntu+Condensed|Ubuntu+Mono');\n",
       "</style>\n"
      ],
      "text/plain": [
       "<IPython.core.display.HTML object>"
      ]
     },
     "metadata": {},
     "output_type": "display_data"
    }
   ],
   "source": [
    "%%html\n",
    "<style>\n",
    "@import url('https://fonts.googleapis.com/css?family=Ubuntu|Ubuntu+Condensed|Ubuntu+Mono');\n",
    "</style>"
   ]
  },
  {
   "cell_type": "code",
   "execution_count": 3,
   "metadata": {},
   "outputs": [],
   "source": [
    "%run theme.py"
   ]
  },
  {
   "cell_type": "code",
   "execution_count": 4,
   "metadata": {},
   "outputs": [
    {
     "data": {
      "text/plain": [
       "['file: 0 - hidrografia_Arroyo.geojson',\n",
       " 'file: 1 - hidrografia_Canal.geojson',\n",
       " 'file: 2 - hidrografia_Río.geojson',\n",
       " 'file: 3 - hidrografia_X.geojson',\n",
       " 'file: 4 - states.geojson']"
      ]
     },
     "execution_count": 4,
     "metadata": {},
     "output_type": "execute_result"
    }
   ],
   "source": [
    "datafiles_path = Path(\"../data/interim\")\n",
    "\n",
    "datafiles = list(datafiles_path.glob(\"*.geojson\"))\n",
    "\n",
    "[f\"file: {couple[0]} - {couple[1].name}\" for couple in list(enumerate(datafiles))]"
   ]
  },
  {
   "cell_type": "code",
   "execution_count": 5,
   "metadata": {},
   "outputs": [],
   "source": [
    "with open(datafiles[0], \"r\") as file:\n",
    "    arroyos = json.load(file)\n",
    "    \n",
    "with open(datafiles[1], \"r\") as file:\n",
    "    canales = json.load(file)\n",
    "    \n",
    "with open(datafiles[2], \"r\") as file:\n",
    "    rios = json.load(file)\n",
    "    \n",
    "with open(datafiles[3], \"r\") as file:\n",
    "    sin_nombres = json.load(file)\n",
    "    \n",
    "with open(datafiles[4], \"r\") as file:\n",
    "    estados = json.load(file)"
   ]
  },
  {
   "cell_type": "markdown",
   "metadata": {},
   "source": [
    "En estructuras que `altair` pueda leer"
   ]
  },
  {
   "cell_type": "code",
   "execution_count": 6,
   "metadata": {},
   "outputs": [],
   "source": [
    "data = alt.Data(values = estados['features'])\n",
    "\n",
    "arroyos_data = alt.Data(values = arroyos['features'])\n",
    "canales_data = alt.Data(values = canales['features'])\n",
    "rios_data = alt.Data(values = rios['features'])\n",
    "x_data = alt.Data(values = sin_nombres['features'])"
   ]
  },
  {
   "cell_type": "markdown",
   "metadata": {},
   "source": [
    "Ahora, las visualizaciones."
   ]
  },
  {
   "cell_type": "code",
   "execution_count": 7,
   "metadata": {},
   "outputs": [],
   "source": [
    "# colores tetradicos de https://htmlcolorcodes.com/color-picker/\n",
    "azul = \"#283DC7\"\n",
    "dorado = \"#C7B228\"\n",
    "magenta = \"#C7288D\"\n",
    "verde = \"#28C762\"\n",
    "verde_oscurito = \"#23AE56\" # es una somrbra mas oscura\n",
    "# estos los agarré porque esta chido\n",
    "cafe_naranja = \"#C76328\"\n",
    "otro_azul = \"#0D3BA5\""
   ]
  },
  {
   "cell_type": "code",
   "execution_count": 8,
   "metadata": {},
   "outputs": [],
   "source": [
    "# lighter colors\n",
    "doradito = \"#E8DDC3\"\n",
    "magentita = \"#E8C3E1\"\n",
    "verdecito = \"#C3E8CA\"\n",
    "\n",
    "cafecito = \"#F1D8C9\""
   ]
  },
  {
   "cell_type": "code",
   "execution_count": 9,
   "metadata": {},
   "outputs": [],
   "source": [
    "base = alt.Chart(data).mark_geoshape(stroke = 'black', strokeWidth = .2, fill = otro_azul).encode().properties(width = 1350, height = 1080, title = \"#100Viz 18 - 633,000 kilómetros\")"
   ]
  },
  {
   "cell_type": "code",
   "execution_count": 10,
   "metadata": {},
   "outputs": [],
   "source": [
    "rios = alt.Chart(rios_data).mark_geoshape(stroke = doradito, strokeWidth = 1.3, filled = False,).encode().properties(width = 1350, height = 1080)"
   ]
  },
  {
   "cell_type": "code",
   "execution_count": 11,
   "metadata": {},
   "outputs": [],
   "source": [
    "arroyos = alt.Chart(arroyos_data).mark_geoshape(stroke = magentita, strokeWidth = .7, filled = False).encode().properties(width = 1350, height = 1080)"
   ]
  },
  {
   "cell_type": "code",
   "execution_count": 12,
   "metadata": {},
   "outputs": [],
   "source": [
    "canales = alt.Chart(canales_data).mark_geoshape(stroke = cafecito, strokeWidth = .5, filled = False).encode().properties(width = 1350, height = 1080)"
   ]
  },
  {
   "cell_type": "code",
   "execution_count": null,
   "metadata": {},
   "outputs": [],
   "source": [
    "base + arroyos + canales + rios"
   ]
  }
 ],
 "metadata": {
  "kernelspec": {
   "display_name": "Python 3",
   "language": "python",
   "name": "python3"
  },
  "language_info": {
   "codemirror_mode": {
    "name": "ipython",
    "version": 3
   },
   "file_extension": ".py",
   "mimetype": "text/x-python",
   "name": "python",
   "nbconvert_exporter": "python",
   "pygments_lexer": "ipython3",
   "version": "3.7.1"
  }
 },
 "nbformat": 4,
 "nbformat_minor": 2
}
